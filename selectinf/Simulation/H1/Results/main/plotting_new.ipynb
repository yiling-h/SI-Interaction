{
 "cells": [
  {
   "cell_type": "code",
   "execution_count": null,
   "outputs": [],
   "source": [
    "import time, sys, joblib\n",
    "\n",
    "import pandas as pd\n",
    "\n",
    "sys.path.append('/home/yilingh/SI-Interaction')\n",
    "from selectinf.Simulation.plotting_helpers import *\n",
    "from selectinf.Simulation.H1.nonlinear_H1_helpers import *"
   ],
   "metadata": {
    "collapsed": false
   },
   "id": "5d89dabd93e574aa"
  },
  {
   "cell_type": "code",
   "execution_count": null,
   "outputs": [],
   "source": [
    "##%%\n",
    "from operator import le, ge\n",
    "# Filter p-values according to target sizes (approx. null v.s. signal)\n",
    "def filter_pval_dict(pval_dict, target_dict, threshold=0.05, operator=le):\n",
    "    target_dict_df = pd.DataFrame(target_dict)\n",
    "    filtered_dict = {}\n",
    "    for par in pval_dict.keys():\n",
    "        filtered_dict[par] = {}\n",
    "        par_dict = pval_dict[par]\n",
    "        target_df_par = target_dict_df[target_dict_df['parameter'] == par]\n",
    "        \n",
    "        for method in par_dict.keys():\n",
    "            targets_p_m = (target_df_par[target_df_par['method'] == method])['target']\n",
    "            selected_targets = operator(np.abs(targets_p_m), threshold)\n",
    "            pvals_p_m = np.array(pval_dict[par][method])\n",
    "            filtered_dict[par][method] = pvals_p_m[selected_targets].tolist()\n",
    "    \n",
    "    return filtered_dict\n",
    "\n",
    "def calculate_thresholded_power(pvalue, targets, level, threshold=0.05,\n",
    "                                operator=ge):\n",
    "    pvalue = np.array(pvalue)\n",
    "    targets = np.array(targets)\n",
    "    non_null = operator(np.abs(targets), threshold)\n",
    "    rejection = pvalue < level\n",
    "    if np.sum(non_null) == 0:\n",
    "        return 0\n",
    "    else:\n",
    "        true_rej = np.sum(non_null * rejection) / np.sum(non_null)\n",
    "\n",
    "    return true_rej"
   ],
   "metadata": {
    "collapsed": false
   },
   "id": "d00b7a9c9bcbf87b"
  },
  {
   "cell_type": "markdown",
   "source": [
    "# Vary Main with Weak Hierarchy"
   ],
   "metadata": {
    "collapsed": false
   },
   "id": "3a159a152560db3b"
  },
  {
   "cell_type": "code",
   "execution_count": null,
   "outputs": [],
   "source": [
    "dir_list_wh1_5 = ['results0_80_wh1.5.pkl', 'results80_160_wh1.5.pkl',\n",
    "               'results160_240_wh1.5.pkl', 'results240_320_wh1.5.pkl',\n",
    "               'results320_400_wh1.5.pkl', 'results400_480_wh1.5.pkl',\n",
    "               'results480_560_wh1.5.pkl', 'results560_640_wh1.5.pkl'\n",
    "               ]\n",
    "dir_list_wh1 = ['results0_80_wh1.0.pkl', 'results80_160_wh1.0.pkl',\n",
    "               'results160_240_wh1.0.pkl', 'results240_320_wh1.0.pkl',\n",
    "               'results320_400_wh1.0.pkl', 'results400_480_wh1.0.pkl',\n",
    "               'results480_560_wh1.0.pkl', 'results560_640_wh1.0.pkl'\n",
    "               ]\n",
    "dir_list_wh2_5 = ['results0_80_wh2.5.pkl', 'results80_160_wh2.5.pkl',\n",
    "               'results160_240_wh2.5.pkl', 'results240_320_wh2.5.pkl',\n",
    "               'results320_400_wh2.5.pkl', 'results400_480_wh2.5.pkl',\n",
    "               'results480_560_wh2.5.pkl', 'results560_640_wh2.5.pkl'\n",
    "               ]\n",
    "dir_list_wh_c = ['results0_80_wh0.0.pkl', 'results80_160_wh0.0.pkl',\n",
    "               'results160_240_wh0.0.pkl', 'results240_320_wh0.0.pkl',\n",
    "               'results320_400_wh0.0.pkl', 'results400_480_wh0.0.pkl',\n",
    "               'results480_560_wh0.0.pkl', 'results560_640_wh0.0.pkl'\n",
    "               ]\n",
    "#dir_list_wh = ['results0_40_wh.pkl']\n",
    "#dir_list_wh = ['results0_20_wh1.5.pkl']"
   ],
   "metadata": {
    "collapsed": false
   },
   "id": "5419c27047d7e080"
  },
  {
   "cell_type": "code",
   "execution_count": null,
   "outputs": [],
   "source": [
    "result = joblib.load('results0_80_wh0.0.pkl')"
   ],
   "metadata": {
    "collapsed": false
   },
   "id": "fc91c27f979cd8b4"
  },
  {
   "cell_type": "code",
   "execution_count": null,
   "outputs": [],
   "source": [
    "opers1 = []\n",
    "pvals1 = []\n",
    "targets1 = []\n",
    "for path in dir_list_wh1:\n",
    "    result = joblib.load(path)\n",
    "    list_of_oper = [tup[0] for tup in result]\n",
    "    list_of_pval = [tup[1] for tup in result]\n",
    "    list_of_targets = [tup[2] for tup in result]\n",
    "    opers1.append(combine_lists(list_of_oper))\n",
    "    pvals1.append(combine_nested_lists(list_of_pval))\n",
    "    targets1.append(combine_lists(list_of_targets))\n",
    "\n",
    "opers1_5 = []\n",
    "pvals1_5 = []\n",
    "targets1_5 = []\n",
    "for path in dir_list_wh1_5:\n",
    "    result = joblib.load(path)\n",
    "    list_of_oper = [tup[0] for tup in result]\n",
    "    list_of_pval = [tup[1] for tup in result]\n",
    "    list_of_targets = [tup[2] for tup in result]\n",
    "    opers1_5.append(combine_lists(list_of_oper))\n",
    "    pvals1_5.append(combine_nested_lists(list_of_pval))\n",
    "    targets1_5.append(combine_lists(list_of_targets))\n",
    "\n",
    "opers2_5 = []\n",
    "pvals2_5 = []\n",
    "targets2_5 = []\n",
    "for path in dir_list_wh2_5:\n",
    "    result = joblib.load(path)\n",
    "    list_of_oper = [tup[0] for tup in result]\n",
    "    list_of_pval = [tup[1] for tup in result]\n",
    "    list_of_targets = [tup[2] for tup in result]\n",
    "    opers2_5.append(combine_lists(list_of_oper))\n",
    "    pvals2_5.append(combine_nested_lists(list_of_pval))\n",
    "    targets2_5.append(combine_lists(list_of_targets))\n",
    "    \n",
    "opers_c = []\n",
    "pvals_c = []\n",
    "targets_c = []\n",
    "for path in dir_list_wh_c:\n",
    "    result = joblib.load(path)\n",
    "    list_of_oper = [tup[0] for tup in result]\n",
    "    list_of_pval = [tup[1] for tup in result]\n",
    "    list_of_targets = [tup[2] for tup in result]\n",
    "    opers_c.append(combine_lists(list_of_oper))\n",
    "    pvals_c.append(combine_nested_lists(list_of_pval))\n",
    "    targets_c.append(combine_lists(list_of_targets))"
   ],
   "metadata": {
    "collapsed": false
   },
   "id": "7070ad88ebba889b"
  },
  {
   "cell_type": "code",
   "execution_count": null,
   "outputs": [],
   "source": [
    "oper_char1 = combine_lists(opers1)\n",
    "oper_char1_5 = combine_lists(opers1_5)\n",
    "oper_char2_5 = combine_lists(opers2_5)\n",
    "oper_char_c = combine_lists(opers_c)"
   ],
   "metadata": {
    "collapsed": false
   },
   "id": "bbe0b7de27830766"
  },
  {
   "cell_type": "code",
   "execution_count": null,
   "outputs": [],
   "source": [
    "pvals_all1 = combine_nested_lists(pvals1)\n",
    "pvals_all1_5 = combine_nested_lists(pvals1_5)\n",
    "pvals_all2_5 = combine_nested_lists(pvals2_5)\n",
    "pvals_all_c = combine_nested_lists(pvals_c)"
   ],
   "metadata": {
    "collapsed": false
   },
   "id": "17c455a03e0b92d8"
  },
  {
   "cell_type": "code",
   "execution_count": null,
   "outputs": [],
   "source": [
    "targets_all1 = combine_lists(targets1)\n",
    "targets_all1_5 = combine_lists(targets1_5)\n",
    "targets_all2_5 = combine_lists(targets2_5)\n",
    "targets_all_c = combine_lists(targets_c)"
   ],
   "metadata": {
    "collapsed": false
   },
   "id": "2e396049937303ff"
  },
  {
   "cell_type": "code",
   "execution_count": null,
   "outputs": [],
   "source": [
    "## Plotting dict: SNR - Method - List of pvals\n",
    "filtered_dict = filter_pval_dict(pvals_all1_5, targets_all1_5, threshold = 0.1,\n",
    "                                 operator=le)"
   ],
   "metadata": {
    "collapsed": false
   },
   "id": "db3c4e425e219676"
  },
  {
   "cell_type": "code",
   "execution_count": null,
   "outputs": [],
   "source": [
    "def filter_pval_dict_new(target_dict, threshold=0.05, operator=le, p_flag=\"pivot\"):\n",
    "    grouped_targets = pd.DataFrame(target_dict).groupby(['parameter', 'method'])\n",
    "    filtered_dict = {}\n",
    "    # Filter by \n",
    "    for name, group in grouped_targets:\n",
    "        # Subset the selected targets\n",
    "        selected_targets_id = operator(np.abs(group['target']), threshold)\n",
    "        selected_targets = group[p_flag][selected_targets_id]\n",
    "        # Then filtered_dict.keys must be a dictionary\n",
    "        if name[0] in filtered_dict.keys():\n",
    "            filtered_dict[name[0]][name[1]] = selected_targets.tolist()\n",
    "        else:\n",
    "            filtered_dict[name[0]] = {}\n",
    "            filtered_dict[name[0]][name[1]] = selected_targets.tolist()\n",
    "        \n",
    "    return filtered_dict\n",
    "        "
   ],
   "metadata": {
    "collapsed": false
   },
   "id": "1767acdb64b3a6bb"
  },
  {
   "cell_type": "markdown",
   "source": [
    "# Plotting ECDF of Pivots for Null & Non-Null Targets"
   ],
   "metadata": {
    "collapsed": false
   },
   "id": "d937a3c95ff42760"
  },
  {
   "cell_type": "code",
   "execution_count": null,
   "outputs": [],
   "source": [
    "## Plotting dict: SNR - Method - List of pvals\n",
    "filtered_dict = filter_pval_dict_new(targets_all1, threshold = 1,\n",
    "                                 operator=le)\n",
    "plot_ecdfs(filtered_dict, xaxis=\"main signal\", \n",
    "           title=\"ECDF Plot for Randomization SD=1, Null Targets\")"
   ],
   "metadata": {
    "collapsed": false
   },
   "id": "2a8dd1d8ac257e7b"
  },
  {
   "cell_type": "code",
   "execution_count": null,
   "outputs": [],
   "source": [
    "## Plotting dict: SNR - Method - List of pvals\n",
    "filtered_dict = filter_pval_dict_new(targets_all1, threshold = 1,\n",
    "                                 operator=ge)\n",
    "plot_ecdfs(filtered_dict, xaxis=\"main signal\",\n",
    "           title=\"ECDF Plot for Randomization SD=1, Non-Null Targets\")"
   ],
   "metadata": {
    "collapsed": false
   },
   "id": "def910d2d3a471cb"
  },
  {
   "cell_type": "code",
   "execution_count": null,
   "outputs": [],
   "source": [
    "## Plotting dict: SNR - Method - List of pvals\n",
    "filtered_dict = filter_pval_dict_new(targets_all1_5, threshold = 1,\n",
    "                                 operator=le)\n",
    "plot_ecdfs(filtered_dict, xaxis=\"main signal\", \n",
    "           title=\"ECDF Plot for Randomization SD=1.5, Null Targets\")"
   ],
   "metadata": {
    "collapsed": false
   },
   "id": "1072c9d2f6bb740"
  },
  {
   "cell_type": "code",
   "execution_count": null,
   "outputs": [],
   "source": [
    "## Plotting dict: SNR - Method - List of pvals\n",
    "filtered_dict = filter_pval_dict_new(targets_all1_5, threshold = 1,\n",
    "                                 operator=ge)\n",
    "plot_ecdfs(filtered_dict, xaxis=\"main signal\", \n",
    "           title=\"ECDF Plot for Randomization SD=1.5, Non-Null Targets\")"
   ],
   "metadata": {
    "collapsed": false
   },
   "id": "4233e8d7d35940f7"
  },
  {
   "cell_type": "code",
   "execution_count": null,
   "outputs": [],
   "source": [
    "## Plotting dict: SNR - Method - List of pvals\n",
    "filtered_dict = filter_pval_dict_new(targets_all2_5, threshold = 1,\n",
    "                                 operator=le)\n",
    "plot_ecdfs(filtered_dict, xaxis=\"main signal\",\n",
    "           title=\"ECDF Plot for Randomization SD=2.5, Null Targets\")"
   ],
   "metadata": {
    "collapsed": false
   },
   "id": "15716caab4f20abc"
  },
  {
   "cell_type": "code",
   "execution_count": null,
   "outputs": [],
   "source": [
    "## Plotting dict: SNR - Method - List of pvals\n",
    "filtered_dict = filter_pval_dict_new(targets_all2_5, threshold = 1,\n",
    "                                 operator=ge)\n",
    "plot_ecdfs(filtered_dict, xaxis=\"main signal\",\n",
    "           title=\"ECDF Plot for Randomization SD=2.5, Non-Null Targets\")"
   ],
   "metadata": {
    "collapsed": false
   },
   "id": "c2de9ad453f2d104"
  },
  {
   "cell_type": "code",
   "execution_count": null,
   "outputs": [],
   "source": [
    "## Plotting dict: SNR - Method - List of pvals\n",
    "filtered_dict = filter_pval_dict_new(targets_all_c, threshold = 1,\n",
    "                                 operator=le)\n",
    "plot_ecdfs(filtered_dict, xaxis=\"main signal\",\n",
    "           title=\"ECDF Plot for Carving Randomization, Null Targets\")"
   ],
   "metadata": {
    "collapsed": false
   },
   "id": "29da565c8fd986b6"
  },
  {
   "cell_type": "code",
   "execution_count": null,
   "outputs": [],
   "source": [
    "## Plotting dict: SNR - Method - List of pvals\n",
    "filtered_dict = filter_pval_dict_new(targets_all_c, threshold = 1,\n",
    "                                 operator=ge)\n",
    "plot_ecdfs(filtered_dict, xaxis=\"main signal\",\n",
    "           title=\"ECDF Plot for Carving Randomization, Non-Null Targets\")"
   ],
   "metadata": {
    "collapsed": false
   },
   "id": "33e47aae30cc4bfc"
  },
  {
   "cell_type": "markdown",
   "source": [
    "# Plotting ECDF of P-values for null & non-null targets"
   ],
   "metadata": {
    "collapsed": false
   },
   "id": "c852ada663041f4f"
  },
  {
   "cell_type": "code",
   "execution_count": null,
   "outputs": [],
   "source": [
    "## Plotting dict: SNR - Method - List of pvals\n",
    "filtered_dict = filter_pval_dict_new(targets_all1, threshold = 1,\n",
    "                                 operator=ge, p_flag=\"pval\")\n",
    "plot_ecdfs(filtered_dict, xaxis=\"main signal\",\n",
    "           title=\"ECDF Plot for P-values, Randomization SD=1, Non-Null Targets\")"
   ],
   "metadata": {
    "collapsed": false
   },
   "id": "cbca4f408d68d28f"
  },
  {
   "cell_type": "code",
   "execution_count": null,
   "outputs": [],
   "source": [
    "## Plotting dict: SNR - Method - List of pvals\n",
    "filtered_dict = filter_pval_dict_new(targets_all1, threshold = 1,\n",
    "                                 operator=le, p_flag=\"pval\")\n",
    "plot_ecdfs(filtered_dict, xaxis=\"main signal\", \n",
    "           title=\"ECDF Plot for P-values, Randomization SD=1, Null Targets\")"
   ],
   "metadata": {
    "collapsed": false
   },
   "id": "4a46c7444dff8118"
  },
  {
   "cell_type": "code",
   "execution_count": null,
   "outputs": [],
   "source": [
    "## Plotting dict: SNR - Method - List of pvals\n",
    "filtered_dict = filter_pval_dict_new(targets_all1_5, threshold = 1,\n",
    "                                 operator=ge, p_flag=\"pval\")\n",
    "plot_ecdfs(filtered_dict, xaxis=\"main signal\",\n",
    "           title=\"ECDF Plot for P-values, Randomization SD=1.5, Non-Null Targets\")"
   ],
   "metadata": {
    "collapsed": false
   },
   "id": "b2d853b534682902"
  },
  {
   "cell_type": "code",
   "execution_count": null,
   "outputs": [],
   "source": [
    "## Plotting dict: SNR - Method - List of pvals\n",
    "filtered_dict = filter_pval_dict_new(targets_all1_5, threshold = 1,\n",
    "                                 operator=le, p_flag=\"pval\")\n",
    "plot_ecdfs(filtered_dict, xaxis=\"main signal\", \n",
    "           title=\"ECDF Plot for P-values, Randomization SD=1.5, Null Targets\")"
   ],
   "metadata": {
    "collapsed": false
   },
   "id": "e5d15cac65fe6b30"
  },
  {
   "cell_type": "code",
   "execution_count": null,
   "outputs": [],
   "source": [
    "## Plotting dict: SNR - Method - List of pvals\n",
    "filtered_dict = filter_pval_dict_new(targets_all2_5, threshold = 1,\n",
    "                                 operator=ge, p_flag=\"pval\")\n",
    "plot_ecdfs(filtered_dict, xaxis=\"main signal\",\n",
    "           title=\"ECDF Plot for P-values, Randomization SD=2.5, Non-Null Targets\")"
   ],
   "metadata": {
    "collapsed": false
   },
   "id": "dd59435b6cdbf6b8"
  },
  {
   "cell_type": "code",
   "execution_count": null,
   "outputs": [],
   "source": [
    "## Plotting dict: SNR - Method - List of pvals\n",
    "filtered_dict = filter_pval_dict_new(targets_all2_5, threshold = 1,\n",
    "                                 operator=le, p_flag=\"pval\")\n",
    "plot_ecdfs(filtered_dict, xaxis=\"main signal\", \n",
    "           title=\"ECDF Plot for P-values, Randomization SD=2.5, Null Targets\")"
   ],
   "metadata": {
    "collapsed": false
   },
   "id": "e89a0e8baf4942df"
  },
  {
   "cell_type": "code",
   "execution_count": null,
   "outputs": [],
   "source": [
    "## Plotting dict: SNR - Method - List of pvals\n",
    "filtered_dict = filter_pval_dict_new(targets_all_c, threshold = 1,\n",
    "                                 operator=ge, p_flag=\"pval\")\n",
    "plot_ecdfs(filtered_dict, xaxis=\"main signal\",\n",
    "           title=\"ECDF Plot for P-values, Carving Randomization, Non-Null Targets\")"
   ],
   "metadata": {
    "collapsed": false
   },
   "id": "d19be13c470d6a0f"
  },
  {
   "cell_type": "code",
   "execution_count": null,
   "outputs": [],
   "source": [
    "## Plotting dict: SNR - Method - List of pvals\n",
    "filtered_dict = filter_pval_dict_new(targets_all_c, threshold = 1,\n",
    "                                 operator=le, p_flag=\"pval\")\n",
    "plot_ecdfs(filtered_dict, xaxis=\"main signal\", \n",
    "           title=\"ECDF Plot for P-values, Carving Randomization, Null Targets\")"
   ],
   "metadata": {
    "collapsed": false
   },
   "id": "cbfb9b6b67cee112"
  },
  {
   "cell_type": "code",
   "execution_count": null,
   "outputs": [],
   "source": [],
   "metadata": {
    "collapsed": false
   },
   "id": "66a2401dd9a02508"
  },
  {
   "cell_type": "code",
   "execution_count": null,
   "outputs": [],
   "source": [
    "# List and array representations of true interaction indices\n",
    "active_inter_list_true = np.array([[0, 1], [1, 2], [2, 4], [1, 5], [2, 6]])\n",
    "active_inter_list_true_list = [(x[0], x[1]) for x in active_inter_list_true]"
   ],
   "metadata": {
    "collapsed": false
   },
   "id": "6295ff2abc157afc"
  },
  {
   "cell_type": "code",
   "execution_count": null,
   "outputs": [],
   "source": [
    "import ast\n",
    "def filter_targets(targets_dict, true_inter_list):\n",
    "    targets = targets_dict['target id']\n",
    "    true_flag = [ast.literal_eval(t) in true_inter_list for t in targets]\n",
    "    filtered_dict = {}\n",
    "    for k in targets_dict.keys():\n",
    "        filtered_dict[k] = np.array(targets_dict[k])[true_flag].tolist()\n",
    "        \n",
    "    return filtered_dict\n",
    "        "
   ],
   "metadata": {
    "collapsed": false
   },
   "id": "a4915425a09485d9"
  },
  {
   "cell_type": "code",
   "execution_count": null,
   "outputs": [],
   "source": [
    "##%%\n",
    "def filter_targets_dict(target_dict, method='Naive'):\n",
    "    filtered_dict = {}\n",
    "    for par in target_dict.keys():\n",
    "        filtered_dict[par] = (np.array(target_dict[par])[np.array(target_dict['method']) == method]).tolist()\n",
    "    \n",
    "    return filtered_dict"
   ],
   "metadata": {
    "collapsed": false
   },
   "id": "158d154e953ae34d"
  },
  {
   "cell_type": "code",
   "execution_count": null,
   "outputs": [],
   "source": [
    "filtered_targets1_5 = filter_targets(targets_all1_5, active_inter_list_true_list)"
   ],
   "metadata": {
    "collapsed": false
   },
   "id": "71067ccada559974"
  },
  {
   "cell_type": "code",
   "execution_count": null,
   "outputs": [],
   "source": [
    "plot_multi_targets(filter_targets_dict(filtered_targets1_5,'MLE'), xaxis=\"Main Signal\",\n",
    "                   ylim_low=0, ylim_high=5)"
   ],
   "metadata": {
    "collapsed": false
   },
   "id": "a8eb75f554835289"
  },
  {
   "cell_type": "code",
   "execution_count": null,
   "outputs": [],
   "source": [
    "plot_multi_targets(filter_targets_dict(filtered_targets1_5,'Data Splitting'), xaxis=\"Main Signal\",\n",
    "                   ylim_low=0, ylim_high=5)"
   ],
   "metadata": {
    "collapsed": false
   },
   "id": "375f47c769b814db"
  },
  {
   "cell_type": "markdown",
   "source": [
    "# Applying BY Correction to the p-values"
   ],
   "metadata": {
    "collapsed": false
   },
   "id": "eec80e743ba27783"
  },
  {
   "cell_type": "code",
   "execution_count": null,
   "outputs": [],
   "source": [
    "from collections import defaultdict\n",
    "from scipy.stats import false_discovery_control\n",
    "\n",
    "\n",
    "def add_BY_pval_by_method_and_index(data):\n",
    "    # Check if BYpval is there\n",
    "    if \"BYpval\" in data.keys():\n",
    "        return\n",
    "    # Assuming your dictionary is named 'data' and structured as described\n",
    "    methods = data['method']\n",
    "    indices = data['index']\n",
    "    pvals = data['pval']\n",
    "\n",
    "    # Initialize default dictionaries to collect p-values and positions for each (method, index) pair\n",
    "    pvals_dict = defaultdict(list)\n",
    "    pos_dict = defaultdict(list)\n",
    "\n",
    "    # Iterate over the data and populate the dictionaries\n",
    "    for i, (method, index, pval) in enumerate(zip(methods, indices, pvals)):\n",
    "        key = (method, index)\n",
    "        pvals_dict[key].append(pval)\n",
    "        pos_dict[key].append(i)\n",
    "\n",
    "    # Initialize BYpvals array with the same length as pvals\n",
    "    BYpvals = [0] * len(pvals)  # or use numpy.zeros_like(pvals) if pvals is a numpy array\n",
    "\n",
    "    # Apply BY correction and assign back to positions\n",
    "    for key in pvals_dict:\n",
    "        pvals_list = pvals_dict[key]\n",
    "        positions = pos_dict[key]\n",
    "        corrected_pvals = false_discovery_control(pvals_list, method='by')\n",
    "        for pos, by_pval in zip(positions, corrected_pvals):\n",
    "            BYpvals[pos] = by_pval\n",
    "\n",
    "    # Add BYpvals to the original data dictionary\n",
    "    data['BYpvals'] = BYpvals\n",
    "\n",
    "    # Now, pvals_dict contains lists of p-values for each unique (method, index) pair"
   ],
   "metadata": {
    "collapsed": false
   },
   "id": "9fc04a12f95b9bd3"
  },
  {
   "cell_type": "code",
   "execution_count": null,
   "outputs": [],
   "source": [
    "add_BY_pval_by_method_and_index(targets_all1)\n",
    "add_BY_pval_by_method_and_index(targets_all1_5)\n",
    "add_BY_pval_by_method_and_index(targets_all2_5)\n",
    "add_BY_pval_by_method_and_index(targets_all_c)"
   ],
   "metadata": {
    "collapsed": false
   },
   "id": "10ca0024ec181831"
  },
  {
   "cell_type": "markdown",
   "source": [
    "# Calculating Thresholded Power"
   ],
   "metadata": {
    "collapsed": false
   },
   "id": "fe32a4a44e00ee3e"
  },
  {
   "cell_type": "code",
   "execution_count": null,
   "outputs": [],
   "source": [
    "def calculate_thresholded_power_df(targets_dict,\n",
    "                                   threshold=0.1,\n",
    "                                   level=0.1,\n",
    "                                   operator=ge, \n",
    "                                   pval_key = \"BYpvals\"):\n",
    "    grouped_targets = pd.DataFrame(targets_dict).groupby(['index',\n",
    "                                                          'method', 'parameter'])\n",
    "    power_df = {}\n",
    "    power_df['parameter'] = []\n",
    "    power_df['method'] = []\n",
    "    power_df['thresholded power'] = []\n",
    "    for name, group in grouped_targets:\n",
    "        power_df['parameter'].append(name[2])\n",
    "        power_df['method'].append(name[1])\n",
    "        pvalues = group[pval_key]\n",
    "        targets = group['target']\n",
    "        power_df['thresholded power'].append(\n",
    "            calculate_thresholded_power(pvalues, targets, level=level, \n",
    "                                        threshold=threshold, operator=operator))\n",
    "    return power_df"
   ],
   "metadata": {
    "collapsed": false
   },
   "id": "2951459af884896d"
  },
  {
   "cell_type": "code",
   "execution_count": null,
   "outputs": [],
   "source": [
    "def point_plot_power(oper_char_dfs, x_axis='p', hue='method', \n",
    "                     ylim_low=None, ylim_high=None, exclude_naive=True,\n",
    "                     randomizer_scales=None):\n",
    "    for i in range(len(oper_char_dfs)):\n",
    "        oper_char_dfs[i] = oper_char_dfs[i].copy()\n",
    "        if exclude_naive:\n",
    "            oper_char_dfs[i] = oper_char_dfs[i][oper_char_dfs[i]['method'] != \"Naive\"]\n",
    "    sns.set_style(\"white\", {'axes.facecolor': 'white',\n",
    "                            'axes.grid': True,\n",
    "                            'axes.linewidth': 2.0,\n",
    "                            'grid.linestyle': u'--',\n",
    "                            'grid.linewidth': 4.0,\n",
    "                            'xtick.major.size': 5.0,\n",
    "                            })\n",
    "    # sns.histplot(oper_char_df[\"sparsity size\"])\n",
    "    # plt.show()\n",
    "    n_subplots = len(oper_char_dfs)\n",
    "    # cols = int(np.ceil(n_subplots / 2))\n",
    "    cols = n_subplots\n",
    "\n",
    "    fig = plt.figure(figsize=(cols * 5, 6))\n",
    "\n",
    "    my_palette = {\"MLE\": \"#48c072\",\n",
    "                  \"Naive\": \"#fc5a50\",\n",
    "                  \"Data Splitting\": \"#03719c\"}\n",
    "\n",
    "    # Create each subplot\n",
    "    for i in range(1, n_subplots + 1):\n",
    "        # ax = fig.add_subplot(2, cols, i) #two rows\n",
    "        ax = fig.add_subplot(1, cols, i)  # one row\n",
    "        if hue is not None:\n",
    "            sns.pointplot(x=oper_char_dfs[i-1][x_axis],\n",
    "                          y=oper_char_dfs[i-1]['thresholded power'],\n",
    "                          hue=oper_char_dfs[i-1][hue],\n",
    "                          markers='o',\n",
    "                          palette=my_palette,\n",
    "                          ax=ax)\n",
    "            ax.set_title(\"Randomizer Scale:\" + str(randomizer_scales[i-1]))\n",
    "        else:\n",
    "            sns.pointplot(x=oper_char_dfs[i-1][x_axis],\n",
    "                          y=oper_char_dfs[i-1]['thresholded power'],\n",
    "                          markers='o',\n",
    "                          palette=my_palette,\n",
    "                          ax=ax)\n",
    "        if ylim_low is not None and ylim_high is not None:\n",
    "            ax.set_ylim([ylim_low, ylim_high])\n",
    "\n",
    "        ax.legend().set_visible(False)\n",
    "\n",
    "    handles, labels = ax.get_legend_handles_labels()\n",
    "    # fig.tight_layout(pad=0.4, w_pad=0.5, h_pad=1.2)\n",
    "\n",
    "    fig.subplots_adjust(bottom=0.3)\n",
    "    fig.legend(handles, labels, loc='lower center', ncol=n_subplots,\n",
    "               prop={'size': 15})\n",
    "\n",
    "    # cov_plot.legend_.remove()\n",
    "    # len_plot.legend_.remove()\n",
    "\n",
    "    # plt.suptitle(\"Changing n,p\")\n",
    "    plt.subplots_adjust(wspace=0.3, hspace=0.5)\n",
    "    plt.show()"
   ],
   "metadata": {
    "collapsed": false
   },
   "id": "a491cd04a53910aa"
  },
  {
   "cell_type": "code",
   "execution_count": null,
   "outputs": [],
   "source": [
    "power_threshold = 1\n",
    "power_df1 = calculate_thresholded_power_df(targets_dict=targets_all1, \n",
    "                                           threshold=power_threshold, level=0.05,\n",
    "                                           operator=ge, pval_key=\"BYpvals\")\n",
    "power_df1_5 = calculate_thresholded_power_df(targets_dict=targets_all1_5,\n",
    "                                        threshold=power_threshold, level=0.05,\n",
    "                                             operator=ge, pval_key=\"BYpvals\")\n",
    "power_df2_5 = calculate_thresholded_power_df(targets_dict=targets_all2_5,\n",
    "                                        threshold=power_threshold, level=0.05,\n",
    "                                             operator=ge, pval_key=\"BYpvals\")\n",
    "power_df_c = calculate_thresholded_power_df(targets_dict=targets_all_c,\n",
    "                                        threshold=power_threshold, level=0.05,\n",
    "                                             operator=ge, pval_key=\"BYpvals\")"
   ],
   "metadata": {
    "collapsed": false
   },
   "id": "4e6affb2c736637b"
  },
  {
   "cell_type": "code",
   "execution_count": null,
   "outputs": [],
   "source": [
    "point_plot_power(oper_char_dfs=[pd.DataFrame(power_df1),\n",
    "                                pd.DataFrame(power_df1_5),\n",
    "                                pd.DataFrame(power_df2_5),\n",
    "                                pd.DataFrame(power_df_c)],\n",
    "                 x_axis=\"parameter\",\n",
    "                 hue=\"method\", ylim_high=1, ylim_low=0,\n",
    "                 randomizer_scales=[1, 1.5, 2.5, \"carving\"])"
   ],
   "metadata": {
    "collapsed": false
   },
   "id": "ab8028a0ddc4f24f"
  },
  {
   "cell_type": "code",
   "execution_count": null,
   "outputs": [],
   "source": [
    "pd.DataFrame(power_df1)"
   ],
   "metadata": {
    "collapsed": false
   },
   "id": "6218d61c6a642e19"
  },
  {
   "cell_type": "code",
   "execution_count": null,
   "outputs": [],
   "source": [],
   "metadata": {
    "collapsed": false
   },
   "id": "e84f34ae96009f99"
  }
 ],
 "metadata": {
  "kernelspec": {
   "display_name": "Python 3",
   "language": "python",
   "name": "python3"
  },
  "language_info": {
   "codemirror_mode": {
    "name": "ipython",
    "version": 2
   },
   "file_extension": ".py",
   "mimetype": "text/x-python",
   "name": "python",
   "nbconvert_exporter": "python",
   "pygments_lexer": "ipython2",
   "version": "2.7.6"
  }
 },
 "nbformat": 4,
 "nbformat_minor": 5
}
