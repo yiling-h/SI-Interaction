{
 "cells": [
  {
   "cell_type": "code",
   "execution_count": 54,
   "id": "66b61d27-3866-4c6d-9ccc-011fd9274357",
   "metadata": {
    "ExecuteTime": {
     "end_time": "2025-01-28T21:29:21.913850Z",
     "start_time": "2025-01-28T21:29:21.652779Z"
    }
   },
   "outputs": [],
   "source": [
    "import time, sys, joblib\n",
    "\n",
    "import pandas as pd\n",
    "\n",
    "sys.path.append('/home/yilingh/SI-Interaction')\n",
    "from selectinf.Simulation.plotting_helpers import *\n",
    "from selectinf.Simulation.H1.nonlinear_H1_helpers import *"
   ]
  },
  {
   "cell_type": "code",
   "execution_count": 55,
   "outputs": [
    {
     "data": {
      "text/plain": "(array([10161., 10227.,  9881., 10009.,  9972., 10211.,  9902.,  9928.,\n         9902.,  9807.]),\n array([6.50650815e-06, 1.00005471e-01, 2.00004436e-01, 3.00003401e-01,\n        4.00002366e-01, 5.00001331e-01, 6.00000295e-01, 6.99999260e-01,\n        7.99998225e-01, 8.99997190e-01, 9.99996155e-01]),\n <BarContainer object of 10 artists>)"
     },
     "execution_count": 55,
     "metadata": {},
     "output_type": "execute_result"
    },
    {
     "data": {
      "text/plain": "<Figure size 640x480 with 1 Axes>",
      "image/png": "[encoded data removed]"
     },
     "metadata": {},
     "output_type": "display_data"
    }
   ],
   "source": [
    "pivots = np.random.uniform(size=100000)\n",
    "pvals = 2*np.minimum(pivots, 1-pivots)\n",
    "plt.hist(pvals)"
   ],
   "metadata": {
    "collapsed": false,
    "ExecuteTime": {
     "end_time": "2025-01-28T21:29:22.176200Z",
     "start_time": "2025-01-28T21:29:21.658321Z"
    }
   },
   "id": "c87fd0f3303899a4"
  },
  {
   "cell_type": "code",
   "execution_count": 56,
   "id": "45115323-ce76-49c2-ad81-2c1e08a79634",
   "metadata": {
    "ExecuteTime": {
     "end_time": "2025-01-28T21:29:22.176403Z",
     "start_time": "2025-01-28T21:29:21.818572Z"
    }
   },
   "outputs": [],
   "source": [
    "from operator import le, ge\n",
    "def filter_pval_dict_new(target_dict, threshold=0.05, operator=le, p_flag=\"pivot\"):\n",
    "    grouped_targets = pd.DataFrame(target_dict).groupby(['parameter', 'method'])\n",
    "    filtered_dict = {}\n",
    "    # Filter by \n",
    "    for name, group in grouped_targets:\n",
    "        # Subset the selected targets\n",
    "        selected_targets_id = operator(np.abs(group['target']), threshold)\n",
    "        selected_targets = group[p_flag][selected_targets_id]\n",
    "        # Then filtered_dict.keys must be a dictionary\n",
    "        if name[0] in filtered_dict.keys():\n",
    "            filtered_dict[name[0]][name[1]] = selected_targets.tolist()\n",
    "        else:\n",
    "            filtered_dict[name[0]] = {}\n",
    "            filtered_dict[name[0]][name[1]] = selected_targets.tolist()\n",
    "        \n",
    "    return filtered_dict\n",
    "import pandas as pd\n",
    "import seaborn as sns\n",
    "import matplotlib.pyplot as plt\n",
    "\n",
    "def plot_MSE(oper_char):\n",
    "    specific_method = \"MLE\"  # Replace with the name of your method\n",
    "    \n",
    "    # Create a modified DataFrame\n",
    "    df_modified = oper_char.copy()\n",
    "    \n",
    "    # For the specific method, keep \"tau\" values separate\n",
    "    # For other methods, set \"tau\" to a single category, e.g., \"All\"\n",
    "    df_modified['prop'] = df_modified.apply(\n",
    "        lambda row: row['prop'] if row['method'] == specific_method else 'Naive/DS', axis=1\n",
    "    )\n",
    "    \n",
    "    # Plotting\n",
    "    sns.boxplot(x='method', y='MSE', hue='prop', data=df_modified, showmeans=True)\n",
    "    plt.xlabel(\"Method\")\n",
    "    plt.ylabel(\"MSE\")\n",
    "    plt.title(\"Boxplot of MSE by Method and prop\")\n",
    "    plt.show()\n"
   ]
  },
  {
   "cell_type": "code",
   "execution_count": 57,
   "outputs": [],
   "source": [
    "def combine_dicts(dict, new_dict):\n",
    "    for key in dict.keys():\n",
    "        dict[key] = dict[key] + new_dict[key]\n",
    "        \n",
    "    return dict"
   ],
   "metadata": {
    "collapsed": false,
    "ExecuteTime": {
     "end_time": "2025-01-28T21:29:22.176483Z",
     "start_time": "2025-01-28T21:29:21.822653Z"
    }
   },
   "id": "29ee6b62b7183dc6"
  },
  {
   "cell_type": "code",
   "execution_count": 58,
   "outputs": [],
   "source": [
    "def combine_nested_dicts(dict, new_dict):\n",
    "    combined_dict = {}\n",
    "    for key in dict.keys():\n",
    "        combined_dict[key] = combine_dicts(dict[key], new_dict[key])\n",
    "    \n",
    "    return combined_dict"
   ],
   "metadata": {
    "collapsed": false,
    "ExecuteTime": {
     "end_time": "2025-01-28T21:29:22.176603Z",
     "start_time": "2025-01-28T21:29:21.827168Z"
    }
   },
   "id": "680ed64e40f95a1b"
  },
  {
   "cell_type": "code",
   "execution_count": 58,
   "outputs": [],
   "source": [],
   "metadata": {
    "collapsed": false,
    "ExecuteTime": {
     "end_time": "2025-01-28T21:29:22.176712Z",
     "start_time": "2025-01-28T21:29:21.830833Z"
    }
   },
   "id": "a65e51b34e3df519"
  },
  {
   "cell_type": "markdown",
   "id": "0cb2c26c-15db-45c5-a5bd-824addd6862c",
   "metadata": {},
   "source": [
    "# Vary sparsity with weak Hierarchy"
   ]
  },
  {
   "cell_type": "code",
   "execution_count": 59,
   "id": "ef2fdf51-6e76-4a4b-a4db-b56c25bb7fea",
   "metadata": {
    "ExecuteTime": {
     "end_time": "2025-01-28T21:29:22.176776Z",
     "start_time": "2025-01-28T21:29:21.833494Z"
    }
   },
   "outputs": [],
   "source": [
    "n_task_per_file = 50\n",
    "n_files = 10\n",
    "base_dir = \"vary_signal_\"\n",
    "files_list = []\n",
    "for i in range(n_files):\n",
    "    dir = base_dir + str(i*n_task_per_file) + \"_\"  + str((i+1)*n_task_per_file) + \".pkl\"\n",
    "    files_list.append(dir)"
   ]
  },
  {
   "cell_type": "code",
   "execution_count": 60,
   "id": "d739aac6-a355-4eb9-b3b4-6d6ea61abd0b",
   "metadata": {
    "ExecuteTime": {
     "end_time": "2025-01-28T21:29:26.095507Z",
     "start_time": "2025-01-28T21:29:22.045740Z"
    }
   },
   "outputs": [
    {
     "name": "stdout",
     "output_type": "stream",
     "text": [
      "vary_signal_0_50.pkl\n",
      "vary_signal_50_100.pkl\n",
      "vary_signal_100_150.pkl\n"
     ]
    },
    {
     "ename": "KeyboardInterrupt",
     "evalue": "",
     "output_type": "error",
     "traceback": [
      "\u001B[0;31m---------------------------------------------------------------------------\u001B[0m",
      "\u001B[0;31mKeyboardInterrupt\u001B[0m                         Traceback (most recent call last)",
      "Cell \u001B[0;32mIn[60], line 11\u001B[0m\n\u001B[1;32m      9\u001B[0m \u001B[38;5;28;01mif\u001B[39;00m path \u001B[38;5;129;01min\u001B[39;00m [\u001B[38;5;124m'\u001B[39m\u001B[38;5;124mvary_signal0.7_250_300.pkl\u001B[39m\u001B[38;5;124m'\u001B[39m, \u001B[38;5;124m'\u001B[39m\u001B[38;5;124mvary_signal0.7_400_450.pkl\u001B[39m\u001B[38;5;124m'\u001B[39m]:\n\u001B[1;32m     10\u001B[0m     \u001B[38;5;28;01mcontinue\u001B[39;00m\n\u001B[0;32m---> 11\u001B[0m ds_rank_def_count, target_dict, pval_dict, MSE_dict, oper_char \u001B[38;5;241m=\u001B[39m \u001B[43mjoblib\u001B[49m\u001B[38;5;241;43m.\u001B[39;49m\u001B[43mload\u001B[49m\u001B[43m(\u001B[49m\u001B[43mpath\u001B[49m\u001B[43m)\u001B[49m\n\u001B[1;32m     12\u001B[0m \u001B[38;5;66;03m# Combine ds_rank_def_count\u001B[39;00m\n\u001B[1;32m     13\u001B[0m \u001B[38;5;28;01mif\u001B[39;00m \u001B[38;5;129;01mnot\u001B[39;00m ds_rank_def_count_full:\n",
      "File \u001B[0;32m~/Desktop/PhD/SI_Codes/SI-Interaction/env3/lib/python3.9/site-packages/joblib/numpy_pickle.py:658\u001B[0m, in \u001B[0;36mload\u001B[0;34m(filename, mmap_mode)\u001B[0m\n\u001B[1;32m    652\u001B[0m             \u001B[38;5;28;01mif\u001B[39;00m \u001B[38;5;28misinstance\u001B[39m(fobj, \u001B[38;5;28mstr\u001B[39m):\n\u001B[1;32m    653\u001B[0m                 \u001B[38;5;66;03m# if the returned file object is a string, this means we\u001B[39;00m\n\u001B[1;32m    654\u001B[0m                 \u001B[38;5;66;03m# try to load a pickle file generated with an version of\u001B[39;00m\n\u001B[1;32m    655\u001B[0m                 \u001B[38;5;66;03m# Joblib so we load it with joblib compatibility function.\u001B[39;00m\n\u001B[1;32m    656\u001B[0m                 \u001B[38;5;28;01mreturn\u001B[39;00m load_compatibility(fobj)\n\u001B[0;32m--> 658\u001B[0m             obj \u001B[38;5;241m=\u001B[39m \u001B[43m_unpickle\u001B[49m\u001B[43m(\u001B[49m\u001B[43mfobj\u001B[49m\u001B[43m,\u001B[49m\u001B[43m \u001B[49m\u001B[43mfilename\u001B[49m\u001B[43m,\u001B[49m\u001B[43m \u001B[49m\u001B[43mmmap_mode\u001B[49m\u001B[43m)\u001B[49m\n\u001B[1;32m    659\u001B[0m \u001B[38;5;28;01mreturn\u001B[39;00m obj\n",
      "File \u001B[0;32m~/Desktop/PhD/SI_Codes/SI-Interaction/env3/lib/python3.9/site-packages/joblib/numpy_pickle.py:577\u001B[0m, in \u001B[0;36m_unpickle\u001B[0;34m(fobj, filename, mmap_mode)\u001B[0m\n\u001B[1;32m    575\u001B[0m obj \u001B[38;5;241m=\u001B[39m \u001B[38;5;28;01mNone\u001B[39;00m\n\u001B[1;32m    576\u001B[0m \u001B[38;5;28;01mtry\u001B[39;00m:\n\u001B[0;32m--> 577\u001B[0m     obj \u001B[38;5;241m=\u001B[39m \u001B[43munpickler\u001B[49m\u001B[38;5;241;43m.\u001B[39;49m\u001B[43mload\u001B[49m\u001B[43m(\u001B[49m\u001B[43m)\u001B[49m\n\u001B[1;32m    578\u001B[0m     \u001B[38;5;28;01mif\u001B[39;00m unpickler\u001B[38;5;241m.\u001B[39mcompat_mode:\n\u001B[1;32m    579\u001B[0m         warnings\u001B[38;5;241m.\u001B[39mwarn(\u001B[38;5;124m\"\u001B[39m\u001B[38;5;124mThe file \u001B[39m\u001B[38;5;124m'\u001B[39m\u001B[38;5;132;01m%s\u001B[39;00m\u001B[38;5;124m'\u001B[39m\u001B[38;5;124m has been generated with a \u001B[39m\u001B[38;5;124m\"\u001B[39m\n\u001B[1;32m    580\u001B[0m                       \u001B[38;5;124m\"\u001B[39m\u001B[38;5;124mjoblib version less than 0.10. \u001B[39m\u001B[38;5;124m\"\u001B[39m\n\u001B[1;32m    581\u001B[0m                       \u001B[38;5;124m\"\u001B[39m\u001B[38;5;124mPlease regenerate this pickle file.\u001B[39m\u001B[38;5;124m\"\u001B[39m\n\u001B[1;32m    582\u001B[0m                       \u001B[38;5;241m%\u001B[39m filename,\n\u001B[1;32m    583\u001B[0m                       \u001B[38;5;167;01mDeprecationWarning\u001B[39;00m, stacklevel\u001B[38;5;241m=\u001B[39m\u001B[38;5;241m3\u001B[39m)\n",
      "File \u001B[0;32m~/opt/anaconda3/lib/python3.9/pickle.py:1212\u001B[0m, in \u001B[0;36m_Unpickler.load\u001B[0;34m(self)\u001B[0m\n\u001B[1;32m   1210\u001B[0m             \u001B[38;5;28;01mraise\u001B[39;00m \u001B[38;5;167;01mEOFError\u001B[39;00m\n\u001B[1;32m   1211\u001B[0m         \u001B[38;5;28;01massert\u001B[39;00m \u001B[38;5;28misinstance\u001B[39m(key, bytes_types)\n\u001B[0;32m-> 1212\u001B[0m         \u001B[43mdispatch\u001B[49m\u001B[43m[\u001B[49m\u001B[43mkey\u001B[49m\u001B[43m[\u001B[49m\u001B[38;5;241;43m0\u001B[39;49m\u001B[43m]\u001B[49m\u001B[43m]\u001B[49m\u001B[43m(\u001B[49m\u001B[38;5;28;43mself\u001B[39;49m\u001B[43m)\u001B[49m\n\u001B[1;32m   1213\u001B[0m \u001B[38;5;28;01mexcept\u001B[39;00m _Stop \u001B[38;5;28;01mas\u001B[39;00m stopinst:\n\u001B[1;32m   1214\u001B[0m     \u001B[38;5;28;01mreturn\u001B[39;00m stopinst\u001B[38;5;241m.\u001B[39mvalue\n",
      "File \u001B[0;32m~/opt/anaconda3/lib/python3.9/pickle.py:1589\u001B[0m, in \u001B[0;36m_Unpickler.load_reduce\u001B[0;34m(self)\u001B[0m\n\u001B[1;32m   1587\u001B[0m args \u001B[38;5;241m=\u001B[39m stack\u001B[38;5;241m.\u001B[39mpop()\n\u001B[1;32m   1588\u001B[0m func \u001B[38;5;241m=\u001B[39m stack[\u001B[38;5;241m-\u001B[39m\u001B[38;5;241m1\u001B[39m]\n\u001B[0;32m-> 1589\u001B[0m stack[\u001B[38;5;241m-\u001B[39m\u001B[38;5;241m1\u001B[39m] \u001B[38;5;241m=\u001B[39m \u001B[43mfunc\u001B[49m\u001B[43m(\u001B[49m\u001B[38;5;241;43m*\u001B[39;49m\u001B[43margs\u001B[49m\u001B[43m)\u001B[49m\n",
      "\u001B[0;31mKeyboardInterrupt\u001B[0m: "
     ]
    }
   ],
   "source": [
    "oper_char_full = None\n",
    "ds_rank_def_count_full = None\n",
    "target_dict_full = None\n",
    "pval_dict_full = None\n",
    "MSE_dict_full = None\n",
    "\n",
    "for path in files_list:\n",
    "    print(path)\n",
    "    if path in ['vary_signal0.7_250_300.pkl', 'vary_signal0.7_400_450.pkl']:\n",
    "        continue\n",
    "    ds_rank_def_count, target_dict, pval_dict, MSE_dict, oper_char = joblib.load(path)\n",
    "    # Combine ds_rank_def_count\n",
    "    if not ds_rank_def_count_full:\n",
    "        ds_rank_def_count_full = ds_rank_def_count\n",
    "    else:\n",
    "        ds_rank_def_count_full = combine_dicts(ds_rank_def_count_full, ds_rank_def_count)\n",
    "    # Combine target_dict\n",
    "    if not target_dict_full:\n",
    "        target_dict_full = target_dict\n",
    "    else:\n",
    "        target_dict_full = combine_dicts(target_dict_full, target_dict)\n",
    "    if not pval_dict_full:\n",
    "        pval_dict_full = pval_dict\n",
    "    else:\n",
    "        pval_dict_full = combine_nested_dicts(pval_dict_full, pval_dict)\n",
    "    # Combine MSE_dict\n",
    "    if not MSE_dict_full:\n",
    "        MSE_dict_full = MSE_dict\n",
    "    else:\n",
    "        MSE_dict_full = combine_dicts(MSE_dict_full, MSE_dict)\n",
    "    # Combine oper_char\n",
    "    if not oper_char_full:\n",
    "        oper_char_full = oper_char\n",
    "    else:\n",
    "        oper_char_full = combine_dicts(oper_char_full, oper_char)"
   ]
  },
  {
   "cell_type": "code",
   "execution_count": null,
   "outputs": [],
   "source": [
    "ds_rank_def_count_full"
   ],
   "metadata": {
    "collapsed": false,
    "ExecuteTime": {
     "end_time": "2025-01-28T21:29:26.098344Z",
     "start_time": "2025-01-28T21:29:26.097267Z"
    }
   },
   "id": "31ef749c40841c1d"
  },
  {
   "cell_type": "code",
   "execution_count": null,
   "id": "f87b7f70-e723-4955-b1f1-206fbf6cc557",
   "metadata": {
    "ExecuteTime": {
     "end_time": "2025-01-28T21:29:26.099354Z",
     "start_time": "2025-01-28T21:29:26.099060Z"
    }
   },
   "outputs": [],
   "source": [
    "plot_ecdfs(pval_dict_full, xaxis=\"SD(Y)\")"
   ]
  },
  {
   "cell_type": "code",
   "execution_count": null,
   "id": "12f636d2-4215-4380-b7fc-f05c6f39c09c",
   "metadata": {
    "ExecuteTime": {
     "end_time": "2025-01-28T21:29:26.100977Z",
     "start_time": "2025-01-28T21:29:26.100804Z"
    }
   },
   "outputs": [],
   "source": [
    "## Plotting dict: SNR - Method - List of pvals\n",
    "filtered_dict = filter_pval_dict_new(target_dict, threshold = 0,\n",
    "                                     operator=ge)"
   ]
  },
  {
   "cell_type": "code",
   "execution_count": null,
   "id": "104b944c-de70-40ad-806c-da9bc0a28182",
   "metadata": {
    "ExecuteTime": {
     "end_time": "2025-01-28T21:29:26.103109Z",
     "start_time": "2025-01-28T21:29:26.102604Z"
    }
   },
   "outputs": [],
   "source": [
    "plot_ecdfs(filtered_dict, xaxis=\"SD(Y)\")"
   ]
  },
  {
   "cell_type": "code",
   "execution_count": null,
   "outputs": [],
   "source": [
    "my_palette = {\"MLE\": \"#48c072\",\n",
    "                  \"Naive\": \"#fc5a50\",\n",
    "                  \"Data Splitting\": \"#03719c\"}\n",
    "sns.set_style(\"white\", {'axes.facecolor': 'white',\n",
    "                            'axes.grid': True,\n",
    "                            'axes.linewidth': 2.0,\n",
    "                            'grid.linestyle': u'--',\n",
    "                            'grid.linewidth': 4.0,\n",
    "                            'xtick.major.size': 5.0,\n",
    "                            })"
   ],
   "metadata": {
    "collapsed": false,
    "ExecuteTime": {
     "start_time": "2025-01-28T21:29:26.104386Z"
    }
   },
   "id": "82fe83ef55d99865"
  },
  {
   "cell_type": "code",
   "execution_count": null,
   "outputs": [],
   "source": [
    "sns.pointplot(x=pd.DataFrame(oper_char_full)[\"sd_y\"],\n",
    "              y=pd.DataFrame(oper_char_full)[\"avg length\"],\n",
    "              hue=pd.DataFrame(oper_char_full)[\"method\"], markers='o',\n",
    "              palette=my_palette)\n",
    "#plt.ylim(10,35)\n",
    "plt.xlabel(r\"SD(Y)\")\n",
    "plt.ylabel(\"Average Length\")"
   ],
   "metadata": {
    "collapsed": false,
    "ExecuteTime": {
     "end_time": "2025-01-28T21:29:26.111543Z",
     "start_time": "2025-01-28T21:29:26.106411Z"
    }
   },
   "id": "218d33e84f7ce20a"
  },
  {
   "cell_type": "code",
   "execution_count": null,
   "outputs": [],
   "source": [
    "sns.pointplot(x=pd.DataFrame(MSE_dict_full)[\"sd_y\"],\n",
    "              y=pd.DataFrame(MSE_dict_full)[\"MSE\"],\n",
    "              hue=pd.DataFrame(MSE_dict_full)[\"method\"], markers='o',\n",
    "              palette=my_palette)\n",
    "#plt.ylim(25,30)\n",
    "plt.xlabel(r\"SD(Y)\")\n",
    "plt.ylabel(\"Test MSE\")"
   ],
   "metadata": {
    "collapsed": false,
    "ExecuteTime": {
     "start_time": "2025-01-28T21:29:26.108946Z"
    }
   },
   "id": "f73f9ca9b1432a74"
  },
  {
   "cell_type": "markdown",
   "source": [
    "# Applying BY Correction to the p-values"
   ],
   "metadata": {
    "collapsed": false
   },
   "id": "fbcd1d5b5c44d8a8"
  },
  {
   "cell_type": "code",
   "execution_count": null,
   "outputs": [],
   "source": [
    "from collections import defaultdict\n",
    "from scipy.stats import false_discovery_control\n",
    "\n",
    "\n",
    "def add_BY_pval_by_method_and_index(data):\n",
    "    # Check if BYpval is there\n",
    "    if \"BYpval\" in data.keys():\n",
    "        return\n",
    "    # Assuming your dictionary is named 'data' and structured as described\n",
    "    methods = data['method']\n",
    "    indices = data['index']\n",
    "    pvals = data['pval']\n",
    "\n",
    "    # Initialize default dictionaries to collect p-values and positions for each (method, index) pair\n",
    "    pvals_dict = defaultdict(list)\n",
    "    pos_dict = defaultdict(list)\n",
    "\n",
    "    # Iterate over the data and populate the dictionaries\n",
    "    for i, (method, index, pval) in enumerate(zip(methods, indices, pvals)):\n",
    "        key = (method, index)\n",
    "        pvals_dict[key].append(pval)\n",
    "        pos_dict[key].append(i)\n",
    "\n",
    "    # Initialize BYpvals array with the same length as pvals\n",
    "    BYpvals = [0] * len(pvals)  # or use numpy.zeros_like(pvals) if pvals is a numpy array\n",
    "\n",
    "    # Apply BY correction and assign back to positions\n",
    "    for key in pvals_dict:\n",
    "        pvals_list = pvals_dict[key]\n",
    "        positions = pos_dict[key]\n",
    "        corrected_pvals = false_discovery_control(pvals_list, method='by')\n",
    "        for pos, by_pval in zip(positions, corrected_pvals):\n",
    "            BYpvals[pos] = by_pval\n",
    "\n",
    "    # Add BYpvals to the original data dictionary\n",
    "    data['BYpvals'] = BYpvals\n",
    "\n",
    "    # Now, pvals_dict contains lists of p-values for each unique (method, index) pair"
   ],
   "metadata": {
    "collapsed": false,
    "ExecuteTime": {
     "end_time": "2025-01-28T21:29:26.113265Z",
     "start_time": "2025-01-28T21:29:26.111683Z"
    }
   },
   "id": "5c57df0f6ec063ad"
  },
  {
   "cell_type": "code",
   "execution_count": null,
   "outputs": [],
   "source": [
    "add_BY_pval_by_method_and_index(target_dict_full)"
   ],
   "metadata": {
    "collapsed": false,
    "ExecuteTime": {
     "end_time": "2025-01-28T21:29:26.115362Z",
     "start_time": "2025-01-28T21:29:26.113719Z"
    }
   },
   "id": "371364144fba1191"
  },
  {
   "cell_type": "code",
   "execution_count": null,
   "outputs": [],
   "source": [
    "pd.DataFrame(target_dict_full)"
   ],
   "metadata": {
    "collapsed": false,
    "ExecuteTime": {
     "end_time": "2025-01-28T21:29:26.115450Z",
     "start_time": "2025-01-28T21:29:26.115411Z"
    }
   },
   "id": "6e59827526765c2f"
  },
  {
   "cell_type": "code",
   "execution_count": null,
   "outputs": [],
   "source": [
    "pd.DataFrame(target_dict_full).groupby(['parameter', 'method', 'index'])['BYpvals'].apply(lambda x: np.mean(x < 0.1)).groupby(level=['parameter', 'method']).apply(np.mean)"
   ],
   "metadata": {
    "collapsed": false,
    "ExecuteTime": {
     "start_time": "2025-01-28T21:29:26.117130Z"
    }
   },
   "id": "457a564e73da3996"
  },
  {
   "cell_type": "markdown",
   "source": [
    "# Calculating Thresholded Power"
   ],
   "metadata": {
    "collapsed": false
   },
   "id": "ec7b5ebacfb43a37"
  },
  {
   "cell_type": "code",
   "execution_count": null,
   "outputs": [],
   "source": [
    "def calculate_thresholded_power(pvalue, targets, level, threshold=0.05,\n",
    "                                operator=ge):\n",
    "    pvalue = np.array(pvalue)\n",
    "    targets = np.array(targets)\n",
    "    non_null = operator(np.abs(targets), threshold)\n",
    "    rejection = pvalue < level\n",
    "    if np.sum(non_null) == 0 or np.sum(rejection) == 0:\n",
    "        return 0\n",
    "    else:\n",
    "        if operator == ge:\n",
    "            true_rej = np.sum(non_null * rejection) / np.sum(non_null)\n",
    "        else:\n",
    "            true_rej = np.sum(non_null * rejection) / np.sum(rejection)\n",
    "\n",
    "    return true_rej\n",
    "\n",
    "def calculate_thresholded_power_df(targets_dict,\n",
    "                                   threshold=0.1,\n",
    "                                   level=0.1,\n",
    "                                   operator=ge, \n",
    "                                   pval_key = \"BYpvals\"):\n",
    "    grouped_targets = pd.DataFrame(targets_dict).groupby(['index',\n",
    "                                                          'method', 'parameter'])\n",
    "    power_df = {}\n",
    "    power_df['parameter'] = []\n",
    "    power_df['method'] = []\n",
    "    power_df['thresholded power'] = []\n",
    "    for name, group in grouped_targets:\n",
    "        power_df['parameter'].append(name[2])\n",
    "        power_df['method'].append(name[1])\n",
    "        pvalues = group[pval_key]\n",
    "        targets = group['target']\n",
    "        power_df['thresholded power'].append(\n",
    "            calculate_thresholded_power(pvalues, targets, level=level, \n",
    "                                        threshold=threshold, operator=operator))\n",
    "    return power_df"
   ],
   "metadata": {
    "collapsed": false,
    "ExecuteTime": {
     "start_time": "2025-01-28T21:29:26.119250Z"
    }
   },
   "id": "e5c20d6b17c19190"
  },
  {
   "cell_type": "code",
   "execution_count": null,
   "outputs": [],
   "source": [
    "def point_plot_power(oper_char_dfs, x_axis='p', hue='method', \n",
    "                     ylim_low=None, ylim_high=None, exclude_naive=True,\n",
    "                     randomizer_scales=None, x_label=None):\n",
    "    for i in range(len(oper_char_dfs)):\n",
    "        oper_char_dfs[i] = oper_char_dfs[i].copy()\n",
    "        if exclude_naive:\n",
    "            oper_char_dfs[i] = oper_char_dfs[i][oper_char_dfs[i]['method'] != \"Naive\"]\n",
    "    sns.set_style(\"white\", {'axes.facecolor': 'white',\n",
    "                            'axes.grid': True,\n",
    "                            'axes.linewidth': 2.0,\n",
    "                            'grid.linestyle': u'--',\n",
    "                            'grid.linewidth': 4.0,\n",
    "                            'xtick.major.size': 5.0,\n",
    "                            })\n",
    "    # sns.histplot(oper_char_df[\"sparsity size\"])\n",
    "    # plt.show()\n",
    "    n_subplots = len(oper_char_dfs)\n",
    "    # cols = int(np.ceil(n_subplots / 2))\n",
    "    cols = n_subplots\n",
    "\n",
    "    fig = plt.figure(figsize=(cols * 5, 6))\n",
    "\n",
    "    my_palette = {\"MLE\": \"#48c072\",\n",
    "                  \"Naive\": \"#fc5a50\",\n",
    "                  \"Data Splitting\": \"#03719c\"}\n",
    "\n",
    "    # Create each subplot\n",
    "    for i in range(1, n_subplots + 1):\n",
    "        # ax = fig.add_subplot(2, cols, i) #two rows\n",
    "        ax = fig.add_subplot(1, cols, i)  # one row\n",
    "        if hue is not None:\n",
    "            sns.pointplot(x=oper_char_dfs[i-1][x_axis],\n",
    "                          y=oper_char_dfs[i-1]['thresholded power'],\n",
    "                          hue=oper_char_dfs[i-1][hue],\n",
    "                          markers='o',\n",
    "                          palette=my_palette,\n",
    "                          ax=ax)\n",
    "            ax.set_title(\"Randomizer Scale:\" + str(randomizer_scales[i-1]))\n",
    "        else:\n",
    "            sns.pointplot(x=oper_char_dfs[i-1][x_axis],\n",
    "                          y=oper_char_dfs[i-1]['thresholded power'],\n",
    "                          markers='o',\n",
    "                          palette=my_palette,\n",
    "                          ax=ax)\n",
    "        if ylim_low is not None and ylim_high is not None:\n",
    "            ax.set_ylim([ylim_low, ylim_high])\n",
    "\n",
    "        ax.legend().set_visible(False)\n",
    "\n",
    "    handles, labels = ax.get_legend_handles_labels()\n",
    "    # fig.tight_layout(pad=0.4, w_pad=0.5, h_pad=1.2)\n",
    "\n",
    "    fig.subplots_adjust(bottom=0.3)\n",
    "    fig.legend(handles, labels, loc='lower center', ncol=n_subplots,\n",
    "               prop={'size': 15})\n",
    "\n",
    "    # cov_plot.legend_.remove()\n",
    "    # len_plot.legend_.remove()\n",
    "\n",
    "    # plt.suptitle(\"Changing n,p\")\n",
    "    plt.subplots_adjust(wspace=0.3, hspace=0.5)\n",
    "    if x_label is not None:\n",
    "        plt.xlabel(x_label)\n",
    "    plt.show()"
   ],
   "metadata": {
    "collapsed": false,
    "ExecuteTime": {
     "start_time": "2025-01-28T21:29:26.121438Z"
    }
   },
   "id": "10e7e30914dcc3cf"
  },
  {
   "cell_type": "code",
   "execution_count": null,
   "outputs": [],
   "source": [
    "power_threshold = 1\n",
    "power_df1 = calculate_thresholded_power_df(targets_dict=target_dict_full, \n",
    "                                           threshold=power_threshold, level=0.1,\n",
    "                                           operator=ge, pval_key=\"BYpvals\")"
   ],
   "metadata": {
    "collapsed": false,
    "ExecuteTime": {
     "start_time": "2025-01-28T21:29:26.123127Z"
    }
   },
   "id": "97257066f2e4497e"
  },
  {
   "cell_type": "code",
   "execution_count": null,
   "outputs": [],
   "source": [
    "pd.DataFrame(target_dict_full)"
   ],
   "metadata": {
    "collapsed": false,
    "ExecuteTime": {
     "start_time": "2025-01-28T21:29:26.124916Z"
    }
   },
   "id": "8c9c5b45ddca9432"
  },
  {
   "cell_type": "code",
   "execution_count": null,
   "outputs": [],
   "source": [
    "pd.DataFrame(power_df1)"
   ],
   "metadata": {
    "collapsed": false,
    "ExecuteTime": {
     "start_time": "2025-01-28T21:29:26.126738Z"
    }
   },
   "id": "fdf373cc83550364"
  },
  {
   "cell_type": "code",
   "execution_count": null,
   "outputs": [],
   "source": [
    "my_palette = {\"MLE\": \"#48c072\",\n",
    "                  \"Naive\": \"#fc5a50\",\n",
    "                  \"Data Splitting\": \"#03719c\"}"
   ],
   "metadata": {
    "collapsed": false,
    "ExecuteTime": {
     "start_time": "2025-01-28T21:29:26.128408Z"
    }
   },
   "id": "31060ff26e1121f1"
  },
  {
   "cell_type": "code",
   "execution_count": null,
   "outputs": [],
   "source": [
    "df = pd.DataFrame(power_df1)\n",
    "#df = df[df[\"method\"] != \"Naive\"]\n",
    "sns.pointplot(x=df[\"parameter\"],\n",
    "              y=df[\"thresholded power\"],\n",
    "              hue=df[\"method\"], markers='o',\n",
    "              palette=my_palette)\n",
    "plt.xlabel(\"SD(Y)\")\n",
    "plt.ylabel(\"Thresholded Power (BY)\")"
   ],
   "metadata": {
    "collapsed": false,
    "ExecuteTime": {
     "end_time": "2025-01-28T21:29:26.164097Z",
     "start_time": "2025-01-28T21:29:26.130110Z"
    }
   },
   "id": "14223fc706544869"
  },
  {
   "cell_type": "code",
   "execution_count": null,
   "outputs": [],
   "source": [
    "power_threshold = 1\n",
    "FDP_df1 = calculate_thresholded_power_df(targets_dict=target_dict_full,\n",
    "                                           threshold=power_threshold, level=0.1,\n",
    "                                           operator=le, pval_key=\"BYpvals\")\n",
    "df = pd.DataFrame(FDP_df1)\n",
    "#df = df[df[\"method\"] != \"Naive\"]\n",
    "sns.pointplot(x=df[\"parameter\"],\n",
    "              y=df[\"thresholded power\"],\n",
    "              hue=df[\"method\"], markers='o',\n",
    "              palette=my_palette)\n",
    "plt.xlabel(\"SD(Y)\")\n",
    "plt.ylabel(\"FDP (BY)\")"
   ],
   "metadata": {
    "collapsed": false,
    "ExecuteTime": {
     "start_time": "2025-01-28T21:29:26.131860Z"
    }
   },
   "id": "70406d74cdc4b8b1"
  },
  {
   "cell_type": "markdown",
   "source": [
    "# Power and FDP without Correction"
   ],
   "metadata": {
    "collapsed": false
   },
   "id": "7b9990218851a365"
  },
  {
   "cell_type": "code",
   "execution_count": null,
   "outputs": [],
   "source": [
    "power_threshold = 1\n",
    "power_df_noBY = calculate_thresholded_power_df(targets_dict=target_dict_full, \n",
    "                                           threshold=power_threshold, level=0.1,\n",
    "                                           operator=ge, pval_key=\"pval\")\n",
    "df = pd.DataFrame(power_df_noBY)\n",
    "#df = df[df[\"method\"] != \"Naive\"]\n",
    "sns.pointplot(x=df[\"parameter\"],\n",
    "              y=df[\"thresholded power\"],\n",
    "              hue=df[\"method\"], markers='o',\n",
    "              palette=my_palette)\n",
    "plt.xlabel(\"SD(Y)\")\n",
    "plt.ylabel(\"Thresholded Power (non-BY)\")"
   ],
   "metadata": {
    "collapsed": false,
    "ExecuteTime": {
     "start_time": "2025-01-28T21:29:26.133483Z"
    }
   },
   "id": "e79c103e3c057ba7"
  },
  {
   "cell_type": "code",
   "execution_count": null,
   "outputs": [],
   "source": [
    "power_threshold = 1\n",
    "FDP_df1 = calculate_thresholded_power_df(targets_dict=target_dict_full,\n",
    "                                           threshold=power_threshold, level=0.1,\n",
    "                                           operator=le, pval_key=\"pval\")\n",
    "df = pd.DataFrame(FDP_df1)\n",
    "#df = df[df[\"method\"] != \"Naive\"]\n",
    "sns.pointplot(x=df[\"parameter\"],\n",
    "              y=df[\"thresholded power\"],\n",
    "              hue=df[\"method\"], markers='o',\n",
    "              palette=my_palette)\n",
    "plt.xlabel(\"SD(Y)\")\n",
    "plt.ylabel(\"FDP (non-BY)\")"
   ],
   "metadata": {
    "collapsed": false,
    "ExecuteTime": {
     "start_time": "2025-01-28T21:29:26.135425Z"
    }
   },
   "id": "34f835bee5f30973"
  },
  {
   "cell_type": "code",
   "execution_count": null,
   "outputs": [],
   "source": [
    "pd.DataFrame(FDP_df1)"
   ],
   "metadata": {
    "collapsed": false,
    "ExecuteTime": {
     "start_time": "2025-01-28T21:29:26.136987Z"
    }
   },
   "id": "1552c4668700ed9a"
  },
  {
   "cell_type": "code",
   "execution_count": null,
   "outputs": [],
   "source": [
    "target_df = pd.DataFrame(target_dict_full)\n",
    "\n",
    "plt.hist(np.abs(target_df[target_df['parameter'] == 10]['target']), bins=1000)\n",
    "plt.xlim(0,2)"
   ],
   "metadata": {
    "collapsed": false,
    "ExecuteTime": {
     "start_time": "2025-01-28T21:29:26.138236Z"
    }
   },
   "id": "7ffa223cb0560396"
  },
  {
   "cell_type": "code",
   "execution_count": null,
   "outputs": [],
   "source": [
    "plt.hist(np.abs(target_df[target_df['parameter'] == 0.5]['target']), bins=1000)\n",
    "plt.xlim(0,2)"
   ],
   "metadata": {
    "collapsed": false,
    "ExecuteTime": {
     "start_time": "2025-01-28T21:29:26.139614Z"
    }
   },
   "id": "3f3b99079bc751b6"
  },
  {
   "cell_type": "code",
   "execution_count": null,
   "outputs": [],
   "source": [
    "def power_plot(target_dict=None, thresholds=np.array(range(1,11))*0.1, level=0.1, pval_key=\"pval\", show=True,\n",
    "               parameter_name='parameter', operator=ge):\n",
    "    yaxis_name_dict = {(\"pval\", ge): \"Power (non-BY)\",\n",
    "                       (\"pval\", le): \"FDP (non-BY)\",\n",
    "                       (\"BYpvals\", ge): \"Power (BY)\",\n",
    "                       (\"BYpvals\", le): \"FDP (BY)\",}\n",
    "    # Collect the data for each threshold\n",
    "    df_list = []\n",
    "    for t in thresholds:\n",
    "        df_t = calculate_thresholded_power_df(targets_dict=target_dict,\n",
    "                                              threshold=t, level=level,\n",
    "                                              operator=operator, pval_key=pval_key)     # compute power(t) -> DataFrame\n",
    "        df_t = pd.DataFrame(df_t).copy()                      # so we can safely modify\n",
    "        df_t['threshold'] = t                   # store which threshold was used\n",
    "        df_list.append(df_t)\n",
    "\n",
    "    # Concatenate all thresholded results\n",
    "    df_all = pd.concat(df_list, ignore_index=True)\n",
    "    \n",
    "    df_plot = (\n",
    "        df_all\n",
    "        .groupby(['parameter', 'method', 'threshold'], as_index=False)\n",
    "        .agg({'thresholded power': 'mean'})\n",
    "    )\n",
    "\n",
    "    # --- 4) Create separate plots for each p ---\n",
    "    figures = {}\n",
    "    unique_ps = df_plot['parameter'].unique()\n",
    "    \n",
    "    # Create a figure with 1 row and len(unique_ps) columns\n",
    "    n_p = len(unique_ps)\n",
    "    fig, axes = plt.subplots(\n",
    "        1, \n",
    "        n_p, \n",
    "        figsize=(3 * n_p, 4),   # width scales with number of p's\n",
    "        sharey=True             # share y-axis if desired\n",
    "    )\n",
    "    \n",
    "    # If there's only one p, axes is not a list by default, so make it a list\n",
    "    if n_p == 1:\n",
    "        axes = [axes]\n",
    "    \n",
    "    for i, par_val in enumerate(unique_ps):\n",
    "        ax = axes[i]\n",
    "        \n",
    "        # Filter to only rows where p == p_val\n",
    "        df_p = df_plot[df_plot['parameter'] == par_val]\n",
    "        \n",
    "        # Seaborn lineplot\n",
    "        sns.lineplot(\n",
    "            data=df_p,\n",
    "            x='threshold',\n",
    "            y='thresholded power',\n",
    "            hue='method',\n",
    "            palette=my_palette,\n",
    "            marker='o',\n",
    "            ax=ax\n",
    "        )\n",
    "        \n",
    "        ax.set_title(f'{parameter_name} = {par_val}')\n",
    "        ax.set_xlabel('Threshold (t)')\n",
    "        if i == 0:\n",
    "            ax.set_ylabel(yaxis_name_dict[(pval_key, operator)])\n",
    "        else:\n",
    "            ax.set_ylabel('')  # to avoid repeating \"Power(t)\" on every subplot if you like\n",
    "\n",
    "        ax.grid(True)\n",
    "        \n",
    "        # Optionally, move the legend to the first subplot only,\n",
    "        # or keep them all. For a single legend, you could do:\n",
    "        # if i == 0:\n",
    "        #     ax.legend()\n",
    "        # else:\n",
    "        #     ax.get_legend().remove()\n",
    "\n",
    "    # Optional: tighten layout\n",
    "    plt.tight_layout()\n",
    "\n",
    "    # 6) Show or return\n",
    "    if show:\n",
    "        plt.show()"
   ],
   "metadata": {
    "collapsed": false,
    "ExecuteTime": {
     "start_time": "2025-01-28T21:29:26.140615Z"
    }
   },
   "id": "2c5bf06d642d1789"
  },
  {
   "cell_type": "markdown",
   "source": [
    "# Power plot for non-BY p-values"
   ],
   "metadata": {
    "collapsed": false
   },
   "id": "6e59f724fa16478e"
  },
  {
   "cell_type": "code",
   "execution_count": null,
   "outputs": [],
   "source": [
    "power_plot(target_dict=target_dict_full, pval_key=\"pval\", parameter_name=\"SD(Y)\", operator=ge)"
   ],
   "metadata": {
    "collapsed": false,
    "ExecuteTime": {
     "start_time": "2025-01-28T21:29:26.141631Z"
    }
   },
   "id": "872394cb090e3c60"
  },
  {
   "cell_type": "markdown",
   "source": [
    "# FDP plot for non-BY p-values"
   ],
   "metadata": {
    "collapsed": false
   },
   "id": "76c131c2a1819934"
  },
  {
   "cell_type": "code",
   "execution_count": null,
   "outputs": [],
   "source": [
    "power_plot(target_dict=target_dict_full, pval_key=\"pval\", parameter_name=\"SD(Y)\", operator=le)"
   ],
   "metadata": {
    "collapsed": false,
    "ExecuteTime": {
     "start_time": "2025-01-28T21:29:26.142727Z"
    }
   },
   "id": "a7d80fcecf7bb617"
  },
  {
   "cell_type": "markdown",
   "source": [
    "# Power plot for BY p-values"
   ],
   "metadata": {
    "collapsed": false
   },
   "id": "95e4da58984f028d"
  },
  {
   "cell_type": "code",
   "execution_count": null,
   "outputs": [],
   "source": [
    "power_plot(target_dict=target_dict_full, pval_key=\"BYpvals\", parameter_name=\"SD(Y)\", operator=ge)"
   ],
   "metadata": {
    "collapsed": false,
    "ExecuteTime": {
     "start_time": "2025-01-28T21:29:26.143730Z"
    }
   },
   "id": "6674c3249e407ac0"
  },
  {
   "cell_type": "markdown",
   "source": [
    "# FDP for BY p-values"
   ],
   "metadata": {
    "collapsed": false
   },
   "id": "c75b690225751bb9"
  },
  {
   "cell_type": "code",
   "execution_count": null,
   "outputs": [],
   "source": [
    "power_plot(target_dict=target_dict_full, pval_key=\"BYpvals\", parameter_name=\"SD(Y)\", operator=le)"
   ],
   "metadata": {
    "collapsed": false,
    "ExecuteTime": {
     "start_time": "2025-01-28T21:29:26.144845Z"
    }
   },
   "id": "d88124ee2bb4ff71"
  },
  {
   "cell_type": "markdown",
   "source": [
    "# F1 score plot for interaction p-values without BY"
   ],
   "metadata": {
    "collapsed": false
   },
   "id": "213109ba6368c815"
  },
  {
   "cell_type": "code",
   "execution_count": null,
   "outputs": [],
   "source": [
    "def calculate_F1_score(pvalue, targets, level, threshold=0.05):\n",
    "    pvalue = np.array(pvalue)\n",
    "    targets = np.array(targets)\n",
    "    non_null = np.abs(targets) < threshold\n",
    "    rejection = pvalue < level\n",
    "    if np.sum(non_null) == 0 or np.sum(rejection) == 0:\n",
    "        return 0\n",
    "    else:\n",
    "        precision = np.sum(non_null * rejection) / np.sum(rejection)\n",
    "        recall = np.sum(non_null * rejection) / np.sum(non_null)\n",
    "        if precision * recall == 0:\n",
    "            return 0\n",
    "        F1 = 2 * precision * recall / (precision + recall)\n",
    "    return F1\n",
    "\n",
    "def calculate_F1_score_df(targets_dict,\n",
    "                                   threshold=0.1,\n",
    "                                   level=0.1,\n",
    "                                   pval_key = \"BYpvals\"):\n",
    "    grouped_targets = pd.DataFrame(targets_dict).groupby(['index',\n",
    "                                                          'method', 'parameter'])\n",
    "    power_df = {}\n",
    "    power_df['parameter'] = []\n",
    "    power_df['method'] = []\n",
    "    power_df['F1 score'] = []\n",
    "    for name, group in grouped_targets:\n",
    "        power_df['parameter'].append(name[2])\n",
    "        power_df['method'].append(name[1])\n",
    "        pvalues = group[pval_key]\n",
    "        targets = group['target']\n",
    "        power_df['F1 score'].append(\n",
    "            calculate_F1_score(pvalues, targets, level=level, threshold=threshold))\n",
    "    return power_df"
   ],
   "metadata": {
    "collapsed": false,
    "ExecuteTime": {
     "start_time": "2025-01-28T21:29:26.145879Z"
    }
   },
   "id": "146891f331821620"
  },
  {
   "cell_type": "code",
   "execution_count": null,
   "outputs": [],
   "source": [
    "def F1_plot(target_dict=None, thresholds=np.array(range(1,11))*0.1, level=0.1, \n",
    "            pval_key=\"pval\", show=True,\n",
    "               parameter_name='parameter', operator=ge):\n",
    "    yaxis_name_dict = {(\"pval\", ge): \"Power (non-BY)\",\n",
    "                       (\"pval\", le): \"FDP (non-BY)\",\n",
    "                       (\"BYpvals\", ge): \"Power (BY)\",\n",
    "                       (\"BYpvals\", le): \"FDP (BY)\",}\n",
    "    # Collect the data for each threshold\n",
    "    df_list = []\n",
    "    for t in thresholds:\n",
    "        df_t = calculate_F1_score_df(targets_dict=target_dict,\n",
    "                                     threshold=t, level=level,\n",
    "                                     pval_key=pval_key)     # compute power(t) -> DataFrame\n",
    "        df_t = pd.DataFrame(df_t).copy()                      # so we can safely modify\n",
    "        df_t['threshold'] = t                   # store which threshold was used\n",
    "        df_list.append(df_t)\n",
    "\n",
    "    # Concatenate all thresholded results\n",
    "    df_all = pd.concat(df_list, ignore_index=True)\n",
    "    \n",
    "    df_plot = (\n",
    "        df_all\n",
    "        .groupby(['parameter', 'method', 'threshold'], as_index=False)\n",
    "        .agg({'F1 score': 'mean'})\n",
    "    )\n",
    "\n",
    "    # --- 4) Create separate plots for each p ---\n",
    "    figures = {}\n",
    "    unique_ps = df_plot['parameter'].unique()\n",
    "    \n",
    "    # Create a figure with 1 row and len(unique_ps) columns\n",
    "    n_p = len(unique_ps)\n",
    "    fig, axes = plt.subplots(\n",
    "        1, \n",
    "        n_p, \n",
    "        figsize=(3 * n_p, 4),   # width scales with number of p's\n",
    "        sharey=True             # share y-axis if desired\n",
    "    )\n",
    "    \n",
    "    # If there's only one p, axes is not a list by default, so make it a list\n",
    "    if n_p == 1:\n",
    "        axes = [axes]\n",
    "    \n",
    "    for i, par_val in enumerate(unique_ps):\n",
    "        ax = axes[i]\n",
    "        \n",
    "        # Filter to only rows where p == p_val\n",
    "        df_p = df_plot[df_plot['parameter'] == par_val]\n",
    "        \n",
    "        # Seaborn lineplot\n",
    "        sns.lineplot(\n",
    "            data=df_p,\n",
    "            x='threshold',\n",
    "            y='F1 score',\n",
    "            hue='method',\n",
    "            palette=my_palette,\n",
    "            marker='o',\n",
    "            ax=ax\n",
    "        )\n",
    "        \n",
    "        ax.set_title(f'{parameter_name} = {par_val}')\n",
    "        ax.set_xlabel('Threshold (t)')\n",
    "        if i == 0:\n",
    "            ax.set_ylabel(yaxis_name_dict[(pval_key, operator)])\n",
    "        else:\n",
    "            ax.set_ylabel('')  # to avoid repeating \"Power(t)\" on every subplot if you like\n",
    "\n",
    "        ax.grid(True)\n",
    "        \n",
    "        # Optionally, move the legend to the first subplot only,\n",
    "        # or keep them all. For a single legend, you could do:\n",
    "        # if i == 0:\n",
    "        #     ax.legend()\n",
    "        # else:\n",
    "        #     ax.get_legend().remove()\n",
    "\n",
    "    # Optional: tighten layout\n",
    "    plt.tight_layout()\n",
    "\n",
    "    # 6) Show or return\n",
    "    if show:\n",
    "        plt.show()"
   ],
   "metadata": {
    "collapsed": false,
    "ExecuteTime": {
     "start_time": "2025-01-28T21:29:26.147Z"
    }
   },
   "id": "b28a99d3b71af3f6"
  },
  {
   "cell_type": "code",
   "execution_count": null,
   "outputs": [],
   "source": [
    "F1_plot(target_dict=target_dict_full, pval_key=\"pval\", \n",
    "        parameter_name=\"SD(Y)\")"
   ],
   "metadata": {
    "collapsed": false,
    "ExecuteTime": {
     "start_time": "2025-01-28T21:29:26.148112Z"
    }
   },
   "id": "30bbc248b24b5ce2"
  },
  {
   "cell_type": "code",
   "execution_count": null,
   "outputs": [],
   "source": [
    "F1_plot(target_dict=target_dict_full, pval_key=\"BYpvals\",\n",
    "        parameter_name=\"SD(Y)\")"
   ],
   "metadata": {
    "collapsed": false,
    "ExecuteTime": {
     "start_time": "2025-01-28T21:29:26.149098Z"
    }
   },
   "id": "79b9a407a6c002d5"
  },
  {
   "cell_type": "markdown",
   "source": [
    "# Check Number of True & False Rejections"
   ],
   "metadata": {
    "collapsed": false
   },
   "id": "c794cffc96db499a"
  },
  {
   "cell_type": "code",
   "execution_count": null,
   "outputs": [],
   "source": [
    "def calculate_metrics(pvalue, targets, level, type, threshold=0.05):\n",
    "    # Type = \"Total\", \"Rej\", \"NonNull\", \"TP\", \"TN\", \"FP\", \"FN\" \n",
    "    pvalue = np.array(pvalue)\n",
    "    targets = np.array(targets)\n",
    "    non_null = np.abs(targets) < threshold\n",
    "    rejection = pvalue < level\n",
    "    null = np.abs(targets) >= threshold\n",
    "    acceptance = pvalue >= level\n",
    "    def E(s, p):\n",
    "        return -np.sqrt((1-2*p)**2/4-2*s)-(1-2*p)/2\n",
    "    if type == \"Total\":\n",
    "        #print(len(targets))\n",
    "        return len(targets)\n",
    "    if type == \"Card\":\n",
    "        return E(len(targets), 20)\n",
    "    if type == \"Rej\":\n",
    "        return np.sum(rejection)\n",
    "    if type == \"NonNull\":\n",
    "        return np.sum(non_null)\n",
    "    if type == \"TP\":\n",
    "        return np.sum(non_null * rejection)\n",
    "    if type == \"TN\":\n",
    "        return np.sum(null * acceptance)\n",
    "    if type == \"FP\":\n",
    "        return np.sum(null * rejection)\n",
    "    if type == \"FN\":\n",
    "        return np.sum(non_null * acceptance)\n",
    "\n",
    "\n",
    "def calculate_metric_df(targets_dict,\n",
    "                          threshold=0.1,\n",
    "                          level=0.1,\n",
    "                          pval_key=\"BYpvals\"):\n",
    "    grouped_targets = pd.DataFrame(targets_dict).groupby(['index',\n",
    "                                                          'method', 'parameter'])\n",
    "    power_df = {}\n",
    "    power_df['parameter'] = []\n",
    "    power_df['method'] = []\n",
    "    metric_list = [\"Total\", \"Card\", \"Rej\", \"NonNull\", \"TP\", \"TN\", \"FP\", \"FN\"]\n",
    "    for met in metric_list:\n",
    "        power_df[met] = []\n",
    "    \n",
    "    for name, group in grouped_targets:\n",
    "        power_df['parameter'].append(name[2])\n",
    "        power_df['method'].append(name[1])\n",
    "        pvalues = group[pval_key]\n",
    "        targets = group['target']\n",
    "        for met in metric_list:\n",
    "            power_df[met].append(\n",
    "                calculate_metrics(pvalues, targets, level=level,\n",
    "                                  type=met, threshold=threshold)\n",
    "            )\n",
    "    return power_df"
   ],
   "metadata": {
    "collapsed": false,
    "ExecuteTime": {
     "start_time": "2025-01-28T21:29:26.150095Z"
    }
   },
   "id": "d22309cbb506bba5"
  },
  {
   "cell_type": "code",
   "execution_count": null,
   "outputs": [],
   "source": [
    "power_threshold = 0.1\n",
    "metric_df = calculate_metric_df(targets_dict=target_dict_full,\n",
    "                                threshold=power_threshold, level=0.1,\n",
    "                                pval_key=\"pval\")\n",
    "df = pd.DataFrame(metric_df)\n",
    "#df = df[df[\"method\"] != \"Naive\"]\n",
    "metric_list = [\"Total\", \"Card\", \"Rej\", \"NonNull\", \"TP\", \"TN\", \"FP\", \"FN\"]\n",
    "for met in metric_list:\n",
    "    sns.pointplot(x=df[\"parameter\"],\n",
    "              y=df[met],\n",
    "              hue=df[\"method\"], markers='o',\n",
    "              palette=my_palette)\n",
    "    plt.xlabel(\"SD(Y)\")\n",
    "    plt.ylabel(met)\n",
    "    plt.show()"
   ],
   "metadata": {
    "collapsed": false,
    "ExecuteTime": {
     "start_time": "2025-01-28T21:29:26.151056Z"
    }
   },
   "id": "b25b00ffcec8b8b9"
  },
  {
   "cell_type": "code",
   "execution_count": null,
   "outputs": [],
   "source": [
    "def E(s, p):\n",
    "    return -np.sqrt((1-2*p)**2/4-2*s)-(1-2*p)/2"
   ],
   "metadata": {
    "collapsed": false,
    "ExecuteTime": {
     "start_time": "2025-01-28T21:29:26.152077Z"
    }
   },
   "id": "2f05f4b5e8fbfc13"
  },
  {
   "cell_type": "code",
   "execution_count": null,
   "outputs": [],
   "source": [
    "E(99, 20)"
   ],
   "metadata": {
    "collapsed": false,
    "ExecuteTime": {
     "start_time": "2025-01-28T21:29:26.153107Z"
    }
   },
   "id": "3a2f61402fc75e6d"
  },
  {
   "cell_type": "code",
   "execution_count": null,
   "outputs": [],
   "source": [
    "metric_df.keys()"
   ],
   "metadata": {
    "collapsed": false,
    "ExecuteTime": {
     "start_time": "2025-01-28T21:29:26.154155Z"
    }
   },
   "id": "bfe7ad06d4077b20"
  },
  {
   "cell_type": "code",
   "execution_count": null,
   "outputs": [],
   "source": [
    "len(metric_df['parameter'])"
   ],
   "metadata": {
    "collapsed": false,
    "ExecuteTime": {
     "start_time": "2025-01-28T21:29:26.155173Z"
    }
   },
   "id": "5c87815dba492a79"
  },
  {
   "cell_type": "code",
   "execution_count": null,
   "outputs": [],
   "source": [
    "len(metric_df['Rej'])"
   ],
   "metadata": {
    "collapsed": false,
    "ExecuteTime": {
     "start_time": "2025-01-28T21:29:26.156129Z"
    }
   },
   "id": "562cf04659190875"
  },
  {
   "cell_type": "code",
   "execution_count": null,
   "outputs": [],
   "source": [],
   "metadata": {
    "collapsed": false,
    "ExecuteTime": {
     "start_time": "2025-01-28T21:29:26.157103Z"
    }
   },
   "id": "a6094aa58e7083bf"
  }
 ],
 "metadata": {
  "kernelspec": {
   "name": "python3",
   "language": "python",
   "display_name": "Python 3 (ipykernel)"
  },
  "language_info": {
   "codemirror_mode": {
    "name": "ipython",
    "version": 3
   },
   "file_extension": ".py",
   "mimetype": "text/x-python",
   "name": "python",
   "nbconvert_exporter": "python",
   "pygments_lexer": "ipython3",
   "version": "3.10.9"
  }
 },
 "nbformat": 4,
 "nbformat_minor": 5
}
