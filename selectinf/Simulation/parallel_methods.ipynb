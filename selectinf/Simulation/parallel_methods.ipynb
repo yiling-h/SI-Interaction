{
 "cells": [
  {
   "cell_type": "code",
   "execution_count": 12,
   "id": "initial_id",
   "metadata": {
    "collapsed": true,
    "ExecuteTime": {
     "end_time": "2024-03-21T01:48:12.198940Z",
     "start_time": "2024-03-21T01:48:12.179209Z"
    }
   },
   "outputs": [],
   "source": [
    "import time\n",
    "import numpy as np\n",
    "import scipy.stats\n",
    "import sys\n",
    "sys.path.append('/home/yilingh/SI-Interaction')\n",
    "\n",
    "from selectinf.Simulation.spline_instance import generate_gaussian_instance_nonlinear_interaction_simple\n",
    "from selectinf.group_lasso_query import group_lasso\n",
    "from selectinf.reluctant_interaction import (SPAM, split_SPAM)\n",
    "from selectinf.base import selected_targets_interaction\n",
    "import seaborn as sns\n",
    "import matplotlib.pyplot as plt\n",
    "from simulation_helpers import (interaction_t_test_single,\n",
    "                                interaction_t_tests_all,\n",
    "                                interaction_t_tests_all_parallel)\n",
    "from selectinf.Simulation.spline_instance import generate_gaussian_instance_from_bspline_interaction\n",
    "from multiprocessing import Pool\n",
    "from functools import partial"
   ]
  },
  {
   "cell_type": "code",
   "execution_count": 35,
   "outputs": [
    {
     "name": "stdout",
     "output_type": "stream",
     "text": [
      "Equally spaced quantile knots used.\n"
     ]
    }
   ],
   "source": [
    "inst = generate_gaussian_instance_nonlinear_interaction_simple\n",
    "p=30\n",
    "intercept_flag = True\n",
    "SNR = 1\n",
    "(design, data_interaction, Y, Y_mean, data_combined,\n",
    "         groups, active, active_inter_adj, active_inter_list) \\\n",
    "            = inst(n=500, p_nl=p, p_l=0, s_l=0,\n",
    "                   nknots=6, degree=2, SNR=SNR,\n",
    "                   rho=0.5, rho_noise=0.5, full_corr=False,\n",
    "                   center=False, scale=False, random_signs=True,\n",
    "                   intercept=intercept_flag, structure='weakhierarchy',\n",
    "                   s_interaction=10, interaction_signal=2)"
   ],
   "metadata": {
    "collapsed": false,
    "ExecuteTime": {
     "end_time": "2024-03-21T02:03:01.351646Z",
     "start_time": "2024-03-21T02:03:01.316228Z"
    }
   },
   "id": "abc5f08ae8172779"
  },
  {
   "cell_type": "code",
   "execution_count": 36,
   "outputs": [],
   "source": [
    "from simulation_helpers import MLE_inference_inter"
   ],
   "metadata": {
    "collapsed": false,
    "ExecuteTime": {
     "end_time": "2024-03-21T02:03:02.078388Z",
     "start_time": "2024-03-21T02:03:02.067756Z"
    }
   },
   "id": "8dc4fbd2bf4b392f"
  },
  {
   "cell_type": "code",
   "execution_count": 37,
   "outputs": [],
   "source": [
    "conv, nonzero \\\n",
    "    = MLE_inference_inter(design, Y, Y_mean, groups,\n",
    "                          n_features=p, interactions=data_interaction, \n",
    "                          intercept=False,\n",
    "                          weight_frac=2, level=0.9,\n",
    "                          proportion=0.5, mode=\"stronghierarchy\",\n",
    "                          parallel=False, continued=False, solve_only=True,\n",
    "                          conv_cont=None, nonzero_cont=None, ncores=8\n",
    "                        )"
   ],
   "metadata": {
    "collapsed": false,
    "ExecuteTime": {
     "end_time": "2024-03-21T02:03:03.057019Z",
     "start_time": "2024-03-21T02:03:02.849339Z"
    }
   },
   "id": "f38fd4d137e9bb1c"
  },
  {
   "cell_type": "code",
   "execution_count": 48,
   "outputs": [
    {
     "name": "stdout",
     "output_type": "stream",
     "text": [
      "34.75310015678406\n",
      "0.9955555555555555\n",
      "11.161891861489702\n"
     ]
    }
   ],
   "source": [
    "start = time.time()\n",
    "coverages, lengths, selected_interactions \\\n",
    "    = MLE_inference_inter(design, Y, Y_mean, groups,\n",
    "                          n_features=p, interactions=data_interaction, \n",
    "                          intercept=False,\n",
    "                          weight_frac=2, level=0.9,\n",
    "                          proportion=0.5, mode=\"weakhierarchy\",\n",
    "                          parallel=False, continued=True, solve_only=False,\n",
    "                          conv_cont=conv, nonzero_cont=nonzero, ncores=8\n",
    "                        )\n",
    "end = time.time()\n",
    "print(end - start)\n",
    "print(np.mean(coverages))\n",
    "print(np.mean(lengths))"
   ],
   "metadata": {
    "collapsed": false,
    "ExecuteTime": {
     "end_time": "2024-03-21T02:10:57.469033Z",
     "start_time": "2024-03-21T02:10:22.713036Z"
    }
   },
   "id": "83426871be32549e"
  },
  {
   "cell_type": "code",
   "execution_count": 50,
   "outputs": [
    {
     "name": "stderr",
     "output_type": "stream",
     "text": [
      "/Users/yilingh/Desktop/PhD/SI_Codes/SI-Interaction/env3/lib/python3.9/site-packages/regreg/atoms/slope.py:16: UserWarning: unable to import isotonic regression from sklearn, using a pure python implementation\n",
      "  warn('unable to import isotonic regression from sklearn, using a pure python implementation')\n",
      "/Users/yilingh/Desktop/PhD/SI_Codes/SI-Interaction/env3/lib/python3.9/site-packages/regreg/atoms/slope.py:16: UserWarning: unable to import isotonic regression from sklearn, using a pure python implementation\n",
      "  warn('unable to import isotonic regression from sklearn, using a pure python implementation')\n"
     ]
    },
    {
     "name": "stdout",
     "output_type": "stream",
     "text": [
      "22.189836740493774\n",
      "0.9955555555555555\n",
      "11.161891861489702\n"
     ]
    }
   ],
   "source": [
    "start = time.time()\n",
    "coverages, lengths, selected_interactions1 \\\n",
    "    = MLE_inference_inter(design, Y, Y_mean, groups,\n",
    "                          n_features=p, interactions=data_interaction, \n",
    "                          intercept=False,\n",
    "                          weight_frac=2, level=0.9,\n",
    "                          proportion=0.5, mode=\"weakhierarchy\",\n",
    "                          parallel=True, continued=True, solve_only=False,\n",
    "                          conv_cont=conv, nonzero_cont=nonzero, ncores=2\n",
    "                        )\n",
    "end = time.time()\n",
    "print(end - start)\n",
    "print(np.mean(coverages))\n",
    "print(np.mean(lengths))"
   ],
   "metadata": {
    "collapsed": false,
    "ExecuteTime": {
     "end_time": "2024-03-21T02:12:33.496805Z",
     "start_time": "2024-03-21T02:12:11.303809Z"
    }
   },
   "id": "6d127b1ebb2f7ab9"
  },
  {
   "cell_type": "code",
   "execution_count": 17,
   "outputs": [],
   "source": [
    "import time\n",
    "import itertools\n",
    "\n",
    "import pandas as pd\n",
    "from simulation_helpers import (one_sim_mode, one_sim_mode_serial)\n",
    "from multiprocessing import Pool\n",
    "\n",
    "from functools import partial"
   ],
   "metadata": {
    "collapsed": false,
    "ExecuteTime": {
     "end_time": "2024-03-20T04:22:08.926137Z",
     "start_time": "2024-03-20T04:22:08.913472Z"
    }
   },
   "id": "409aa0bece475d1f"
  },
  {
   "cell_type": "code",
   "execution_count": 18,
   "outputs": [],
   "source": [
    "def interaction_filter_vary_SNR(nsim=100, use_MLE=True, parallel=True,\n",
    "                                ncores=8):\n",
    "    \"\"\"\n",
    "    Compare to R randomized lasso\n",
    "    \"\"\"\n",
    "\n",
    "    # Operating characteristics\n",
    "    oper_char = {}\n",
    "    oper_char[\"coverage rate\"] = []\n",
    "    oper_char[\"avg length\"] = []\n",
    "    oper_char[\"method\"] = []\n",
    "    oper_char[\"F1 score interaction\"] = []\n",
    "    oper_char[\"|G|\"] = []\n",
    "    oper_char[\"mode\"] = []\n",
    "    oper_char[\"SNR\"] = []\n",
    "    \n",
    "    p = 30\n",
    "    mode = 'weakhierarchy'\n",
    "    intercept_flag = True\n",
    "    \n",
    "    \"\"\"\n",
    "    GOOD RESULT:\n",
    "    1. \n",
    "    p = 30\n",
    "    SNR = 1\n",
    "    intercept_flag = True\n",
    "    ### Partially correlated\n",
    "    (design, data_interaction, Y, Y_mean, data_combined,\n",
    "                 groups, active, active_inter_adj, active_inter_list) \\\n",
    "                    = inst(n=500, p_nl=p, p_l=0, s_l=0,\n",
    "                           nknots=6, degree=2, SNR=SNR, rho=0.5, rho_noise=0.5,\n",
    "                           center=False, scale=False, random_signs=True,\n",
    "                           intercept=intercept_flag, structure='weakhierarchy', \n",
    "                           s_interaction=10, interaction_signal=2)\n",
    "    weight_frac = 2\n",
    "                           \n",
    "    2. \n",
    "    p = 30\n",
    "    SNR = 0.5\n",
    "    intercept_flag = True\n",
    "    ### Fully correlated\n",
    "    (design, data_interaction, Y, Y_mean, data_combined,\n",
    "                 groups, active, active_inter_adj, active_inter_list) \\\n",
    "                    = inst(n=500, p_nl=p, p_l=0, s_l=0,\n",
    "                           nknots=6, degree=2, SNR=SNR, rho=0.5, rho_noise=0.5,\n",
    "                           center=False, scale=False, random_signs=True,\n",
    "                           intercept=intercept_flag, structure='weakhierarchy', \n",
    "                           s_interaction=10, interaction_signal=2)\n",
    "    weight_frac = 2\n",
    "    \"\"\"\n",
    "    if parallel:\n",
    "        oper_char_list = []\n",
    "        \n",
    "    for SNR in [0.1, 0.5, 1, 2, 5]:  \n",
    "        if parallel:\n",
    "            with Pool(ncores) as pool:\n",
    "                results = pool.map(partial(one_sim_mode, SNR=SNR, \n",
    "                                           intercept_flag=intercept_flag,\n",
    "                                           p=p, use_MLE=use_MLE, mode=mode,\n",
    "                                           weight_frac=1.5),\n",
    "                                   list(range(nsim)))\n",
    "            oper_char_list = oper_char_list + results\n",
    "        else:\n",
    "            for i in range(nsim):\n",
    "                print(i, \"th simulation for mode:\", mode)\n",
    "                \n",
    "                one_sim_mode_serial(SNR=SNR, intercept_flag=intercept_flag,\n",
    "                             p=p, oper_char=oper_char, use_MLE=use_MLE,\n",
    "                             mode=mode)\n",
    "    if parallel:\n",
    "        oper_char_list = list(itertools.chain(*oper_char_list))\n",
    "        oper_char = pd.DataFrame(oper_char_list)\n",
    "        oper_char.columns = [\"coverage rate\",\"avg length\",\"F1 score interaction\",\n",
    "                             \"method\", \"|G|\", \"mode\", \"SNR\"]\n",
    "        return oper_char\n",
    "    else:\n",
    "        return pd.DataFrame(oper_char)"
   ],
   "metadata": {
    "collapsed": false,
    "ExecuteTime": {
     "end_time": "2024-03-20T04:22:32.275690Z",
     "start_time": "2024-03-20T04:22:32.256578Z"
    }
   },
   "id": "2a19b1edfcbc1e35"
  },
  {
   "cell_type": "code",
   "execution_count": 19,
   "outputs": [
    {
     "name": "stdout",
     "output_type": "stream",
     "text": [
      "0 th simulation for mode: weakhierarchy\n",
      "Equally spaced quantile knots used.\n",
      "Equally spaced quantile knots used.\n",
      "Equally spaced quantile knots used.\n",
      "Equally spaced quantile knots used.\n",
      "Equally spaced quantile knots used.\n",
      "Equally spaced quantile knots used.\n",
      "Equally spaced quantile knots used.\n",
      "Equally spaced quantile knots used.\n",
      "Equally spaced quantile knots used.\n",
      "Equally spaced quantile knots used.\n",
      "Equally spaced quantile knots used.\n",
      "Equally spaced quantile knots used.\n",
      "Equally spaced quantile knots used.\n",
      "Equally spaced quantile knots used.\n",
      "Equally spaced quantile knots used.\n",
      "Equally spaced quantile knots used.\n",
      "DS Selection Size: 35\n",
      "Equally spaced quantile knots used.\n",
      "Equally spaced quantile knots used.\n",
      "Equally spaced quantile knots used.\n",
      "Equally spaced quantile knots used.\n",
      "Equally spaced quantile knots used.\n",
      "Equally spaced quantile knots used.\n",
      "Equally spaced quantile knots used.\n",
      "Equally spaced quantile knots used.\n",
      "Equally spaced quantile knots used.\n",
      "Equally spaced quantile knots used.\n",
      "Equally spaced quantile knots used.\n",
      "Equally spaced quantile knots used.\n",
      "DS Selection Size: 39\n",
      "Equally spaced quantile knots used.\n",
      "Equally spaced quantile knots used.\n",
      "Equally spaced quantile knots used.\n",
      "Equally spaced quantile knots used.\n",
      "Equally spaced quantile knots used.\n",
      "Equally spaced quantile knots used.\n",
      "DS Selection Size: 21\n",
      "Equally spaced quantile knots used.\n",
      "Equally spaced quantile knots used.\n",
      "Equally spaced quantile knots used.\n",
      "Equally spaced quantile knots used.\n",
      "Equally spaced quantile knots used.\n",
      "Equally spaced quantile knots used.\n",
      "Equally spaced quantile knots used.\n",
      "Equally spaced quantile knots used.\n",
      "Equally spaced quantile knots used.\n",
      "Equally spaced quantile knots used.\n",
      "Equally spaced quantile knots used.\n",
      "Equally spaced quantile knots used.\n",
      "Equally spaced quantile knots used.\n",
      "Equally spaced quantile knots used.\n",
      "Equally spaced quantile knots used.\n",
      "Equally spaced quantile knots used.\n",
      "Equally spaced quantile knots used.\n",
      "DS Selection Size: 32\n",
      "Equally spaced quantile knots used.\n",
      "DS Selection Size: 11\n",
      "Equally spaced quantile knots used.\n",
      "Equally spaced quantile knots used.\n",
      "Equally spaced quantile knots used.\n",
      "DS Selection Size: 8\n",
      "Equally spaced quantile knots used.\n",
      "DS Selection Size: 21\n",
      "Equally spaced quantile knots used.\n",
      "Equally spaced quantile knots used.\n",
      "Equally spaced quantile knots used.\n",
      "Equally spaced quantile knots used.\n",
      "Equally spaced quantile knots used.\n",
      "Equally spaced quantile knots used.\n",
      "Equally spaced quantile knots used.\n",
      "Equally spaced quantile knots used.\n",
      "Equally spaced quantile knots used.\n",
      "Equally spaced quantile knots used.\n",
      "Equally spaced quantile knots used.\n",
      "Equally spaced quantile knots used.\n",
      "Equally spaced quantile knots used.\n",
      "Equally spaced quantile knots used.\n",
      "Equally spaced quantile knots used.\n",
      "Equally spaced quantile knots used.\n",
      "DS Selection Size: 12\n",
      "Equally spaced quantile knots used.\n",
      "Equally spaced quantile knots used.\n",
      "Equally spaced quantile knots used.\n",
      "Equally spaced quantile knots used.\n",
      "Equally spaced quantile knots used.\n",
      "Equally spaced quantile knots used.\n",
      "Equally spaced quantile knots used.\n",
      "Equally spaced quantile knots used.\n",
      "Equally spaced quantile knots used.\n",
      "DS Selection Size: 18\n",
      "Equally spaced quantile knots used.\n",
      "Equally spaced quantile knots used.\n",
      "Equally spaced quantile knots used.\n",
      "Equally spaced quantile knots used.\n",
      "Equally spaced quantile knots used.\n",
      "Equally spaced quantile knots used.\n",
      "Equally spaced quantile knots used.\n",
      "Equally spaced quantile knots used.\n",
      "Equally spaced quantile knots used.\n",
      "Equally spaced quantile knots used.\n",
      "Equally spaced quantile knots used.\n",
      "Equally spaced quantile knots used.\n",
      "Equally spaced quantile knots used.\n",
      "Equally spaced quantile knots used.\n",
      "Equally spaced quantile knots used.\n",
      "Equally spaced quantile knots used.\n",
      "DS Selection Size: 28\n",
      "Equally spaced quantile knots used.\n",
      "Equally spaced quantile knots used.\n",
      "Equally spaced quantile knots used.\n",
      "Equally spaced quantile knots used.\n",
      "Equally spaced quantile knots used.\n"
     ]
    },
    {
     "ename": "KeyboardInterrupt",
     "evalue": "",
     "output_type": "error",
     "traceback": [
      "\u001B[0;31m---------------------------------------------------------------------------\u001B[0m",
      "\u001B[0;31mKeyboardInterrupt\u001B[0m                         Traceback (most recent call last)",
      "Cell \u001B[0;32mIn[19], line 1\u001B[0m\n\u001B[0;32m----> 1\u001B[0m oper_char_SNR \u001B[38;5;241m=\u001B[39m \u001B[43minteraction_filter_vary_SNR\u001B[49m\u001B[43m(\u001B[49m\u001B[38;5;241;43m80\u001B[39;49m\u001B[43m,\u001B[49m\u001B[43m \u001B[49m\u001B[43muse_MLE\u001B[49m\u001B[38;5;241;43m=\u001B[39;49m\u001B[38;5;28;43;01mFalse\u001B[39;49;00m\u001B[43m,\u001B[49m\u001B[43m \u001B[49m\u001B[43mparallel\u001B[49m\u001B[38;5;241;43m=\u001B[39;49m\u001B[38;5;28;43;01mFalse\u001B[39;49;00m\u001B[43m)\u001B[49m\n",
      "Cell \u001B[0;32mIn[18], line 67\u001B[0m, in \u001B[0;36minteraction_filter_vary_SNR\u001B[0;34m(nsim, use_MLE, parallel, ncores)\u001B[0m\n\u001B[1;32m     64\u001B[0m         \u001B[38;5;28;01mfor\u001B[39;00m i \u001B[38;5;129;01min\u001B[39;00m \u001B[38;5;28mrange\u001B[39m(nsim):\n\u001B[1;32m     65\u001B[0m             \u001B[38;5;28mprint\u001B[39m(i, \u001B[38;5;124m\"\u001B[39m\u001B[38;5;124mth simulation for mode:\u001B[39m\u001B[38;5;124m\"\u001B[39m, mode)\n\u001B[0;32m---> 67\u001B[0m             \u001B[43mone_sim_mode_serial\u001B[49m\u001B[43m(\u001B[49m\u001B[43mSNR\u001B[49m\u001B[38;5;241;43m=\u001B[39;49m\u001B[43mSNR\u001B[49m\u001B[43m,\u001B[49m\u001B[43m \u001B[49m\u001B[43mintercept_flag\u001B[49m\u001B[38;5;241;43m=\u001B[39;49m\u001B[43mintercept_flag\u001B[49m\u001B[43m,\u001B[49m\n\u001B[1;32m     68\u001B[0m \u001B[43m                         \u001B[49m\u001B[43mp\u001B[49m\u001B[38;5;241;43m=\u001B[39;49m\u001B[43mp\u001B[49m\u001B[43m,\u001B[49m\u001B[43m \u001B[49m\u001B[43moper_char\u001B[49m\u001B[38;5;241;43m=\u001B[39;49m\u001B[43moper_char\u001B[49m\u001B[43m,\u001B[49m\u001B[43m \u001B[49m\u001B[43muse_MLE\u001B[49m\u001B[38;5;241;43m=\u001B[39;49m\u001B[43muse_MLE\u001B[49m\u001B[43m,\u001B[49m\n\u001B[1;32m     69\u001B[0m \u001B[43m                         \u001B[49m\u001B[43mmode\u001B[49m\u001B[38;5;241;43m=\u001B[39;49m\u001B[43mmode\u001B[49m\u001B[43m)\u001B[49m\n\u001B[1;32m     70\u001B[0m \u001B[38;5;28;01mif\u001B[39;00m parallel:\n\u001B[1;32m     71\u001B[0m     oper_char_list \u001B[38;5;241m=\u001B[39m \u001B[38;5;28mlist\u001B[39m(itertools\u001B[38;5;241m.\u001B[39mchain(\u001B[38;5;241m*\u001B[39moper_char_list))\n",
      "File \u001B[0;32m~/Desktop/PhD/SI_Codes/SI-Interaction/selectinf/Simulation/simulation_helpers.py:593\u001B[0m, in \u001B[0;36mone_sim_mode_serial\u001B[0;34m(SNR, intercept_flag, p, oper_char, use_MLE, mode)\u001B[0m\n\u001B[1;32m    590\u001B[0m size_plot\u001B[38;5;241m.\u001B[39mlegend_\u001B[38;5;241m.\u001B[39mremove()\n\u001B[1;32m    592\u001B[0m \u001B[38;5;66;03m# plt.suptitle(\"Changing n,p\")\u001B[39;00m\n\u001B[0;32m--> 593\u001B[0m plt\u001B[38;5;241m.\u001B[39msubplots_adjust(wspace\u001B[38;5;241m=\u001B[39m\u001B[38;5;241m0.6\u001B[39m, hspace\u001B[38;5;241m=\u001B[39m\u001B[38;5;241m0.5\u001B[39m)\n\u001B[1;32m    594\u001B[0m plt\u001B[38;5;241m.\u001B[39mshow()\n",
      "File \u001B[0;32m~/Desktop/PhD/SI_Codes/SI-Interaction/selectinf/Simulation/spline_instance.py:657\u001B[0m, in \u001B[0;36mgenerate_gaussian_instance_nonlinear_interaction_simple\u001B[0;34m(n, p_nl, p_l, s_l, rho, rho_noise, full_corr, nknots, degree, SNR, center, scale, random_signs, intercept, structure, s_interaction, interaction_signal)\u001B[0m\n\u001B[1;32m    653\u001B[0m     active_inter_adj, active_inter_list  \u001B[38;5;241m=\u001B[39m sample_interaction_pairs(p, s_interaction)\n\u001B[1;32m    654\u001B[0m \u001B[38;5;28;01melif\u001B[39;00m structure \u001B[38;5;241m==\u001B[39m \u001B[38;5;124m'\u001B[39m\u001B[38;5;124mweakhierarchy\u001B[39m\u001B[38;5;124m'\u001B[39m:\n\u001B[1;32m    655\u001B[0m     \u001B[38;5;66;03m# sample interactions without replacement\u001B[39;00m\n\u001B[1;32m    656\u001B[0m     active_inter_adj, active_inter_list\\\n\u001B[0;32m--> 657\u001B[0m         \u001B[38;5;241m=\u001B[39m \u001B[43msample_interaction_pairs_hierarchy\u001B[49m\u001B[43m(\u001B[49m\u001B[43mp\u001B[49m\u001B[43m,\u001B[49m\u001B[43m \u001B[49m\u001B[43ms_interaction\u001B[49m\u001B[43m,\u001B[49m\n\u001B[1;32m    658\u001B[0m \u001B[43m                                             \u001B[49m\u001B[43mactive_idx\u001B[49m\u001B[38;5;241;43m=\u001B[39;49m\u001B[43mgroup_active\u001B[49m\u001B[43m,\u001B[49m\n\u001B[1;32m    659\u001B[0m \u001B[43m                                             \u001B[49m\u001B[43mmode\u001B[49m\u001B[38;5;241;43m=\u001B[39;49m\u001B[43mstructure\u001B[49m\u001B[43m,\u001B[49m\u001B[43m \u001B[49m\u001B[43mintercept\u001B[49m\u001B[38;5;241;43m=\u001B[39;49m\u001B[43mintercept\u001B[49m\u001B[43m)\u001B[49m\n\u001B[1;32m    660\u001B[0m \u001B[38;5;28;01melif\u001B[39;00m structure \u001B[38;5;241m==\u001B[39m \u001B[38;5;124m'\u001B[39m\u001B[38;5;124mstronghierarchy\u001B[39m\u001B[38;5;124m'\u001B[39m:\n\u001B[1;32m    661\u001B[0m     \u001B[38;5;66;03m# sample interactions without replacement\u001B[39;00m\n\u001B[1;32m    662\u001B[0m     active_inter_adj, active_inter_list \\\n\u001B[1;32m    663\u001B[0m         \u001B[38;5;241m=\u001B[39m sample_interaction_pairs_hierarchy(p, s_interaction,\n\u001B[1;32m    664\u001B[0m                                              active_idx\u001B[38;5;241m=\u001B[39mgroup_active,\n\u001B[1;32m    665\u001B[0m                                              mode\u001B[38;5;241m=\u001B[39mstructure, intercept\u001B[38;5;241m=\u001B[39mintercept)\n",
      "File \u001B[0;32m~/Desktop/PhD/SI_Codes/SI-Interaction/selectinf/Simulation/spline_instance.py:282\u001B[0m, in \u001B[0;36msample_interaction_pairs_hierarchy\u001B[0;34m(p, s_inter, active_idx, mode, intercept)\u001B[0m\n\u001B[1;32m    280\u001B[0m \u001B[38;5;28;01mif\u001B[39;00m mode \u001B[38;5;241m==\u001B[39m \u001B[38;5;124m'\u001B[39m\u001B[38;5;124mweakhierarchy\u001B[39m\u001B[38;5;124m'\u001B[39m:\n\u001B[1;32m    281\u001B[0m     \u001B[38;5;28;01mfor\u001B[39;00m i \u001B[38;5;129;01min\u001B[39;00m \u001B[38;5;28mrange\u001B[39m(p):\n\u001B[0;32m--> 282\u001B[0m         \u001B[38;5;28;01mfor\u001B[39;00m j \u001B[38;5;129;01min\u001B[39;00m \u001B[38;5;28mrange\u001B[39m(i \u001B[38;5;241m+\u001B[39m \u001B[38;5;241m1\u001B[39m, p):\n\u001B[1;32m    283\u001B[0m             \u001B[38;5;28;01mif\u001B[39;00m i \u001B[38;5;129;01min\u001B[39;00m active_idx \u001B[38;5;129;01mor\u001B[39;00m j \u001B[38;5;129;01min\u001B[39;00m active_idx:\n\u001B[1;32m    284\u001B[0m                 pairs\u001B[38;5;241m.\u001B[39mappend((i, j))\n",
      "\u001B[0;31mKeyboardInterrupt\u001B[0m: "
     ]
    }
   ],
   "source": [
    "oper_char_SNR = interaction_filter_vary_SNR(80, use_MLE=False, parallel=False)"
   ],
   "metadata": {
    "collapsed": false,
    "ExecuteTime": {
     "end_time": "2024-03-20T04:22:55.609944Z",
     "start_time": "2024-03-20T04:22:47.697717Z"
    }
   },
   "id": "1aa8e42eaae42b4a"
  },
  {
   "cell_type": "code",
   "execution_count": null,
   "outputs": [],
   "source": [],
   "metadata": {
    "collapsed": false
   },
   "id": "1727f5b7904e939b"
  }
 ],
 "metadata": {
  "kernelspec": {
   "display_name": "Python 3",
   "language": "python",
   "name": "python3"
  },
  "language_info": {
   "codemirror_mode": {
    "name": "ipython",
    "version": 2
   },
   "file_extension": ".py",
   "mimetype": "text/x-python",
   "name": "python",
   "nbconvert_exporter": "python",
   "pygments_lexer": "ipython2",
   "version": "2.7.6"
  }
 },
 "nbformat": 4,
 "nbformat_minor": 5
}
