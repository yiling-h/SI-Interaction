{
 "cells": [
  {
   "cell_type": "code",
   "execution_count": 26,
   "id": "initial_id",
   "metadata": {
    "collapsed": true,
    "ExecuteTime": {
     "end_time": "2025-04-16T01:09:12.557936Z",
     "start_time": "2025-04-16T01:09:12.546274Z"
    }
   },
   "outputs": [],
   "source": [
    "import pandas as pd\n",
    "import numpy as np\n",
    "from datetime import datetime"
   ]
  },
  {
   "cell_type": "code",
   "execution_count": 27,
   "outputs": [],
   "source": [
    "flights = pd.read_csv(\"flights.csv\", index_col=0)"
   ],
   "metadata": {
    "collapsed": false,
    "ExecuteTime": {
     "end_time": "2025-04-16T01:09:12.892554Z",
     "start_time": "2025-04-16T01:09:12.862056Z"
    }
   },
   "id": "89d44b4915659f59"
  },
  {
   "cell_type": "code",
   "execution_count": 28,
   "outputs": [
    {
     "data": {
      "text/plain": "      year  month  day  dep_time  sched_dep_time  dep_delay  arr_time  \\\n1     2024      1    1      15.0            2347       28.0     107.0   \n2     2024      1    1     517.0             530      -13.0     806.0   \n3     2024      1    1     557.0             600       -3.0     653.0   \n4     2024      1    1     603.0             606       -3.0     903.0   \n5     2024      1    1     604.0             600        4.0     827.0   \n...    ...    ...  ...       ...             ...        ...       ...   \n9467  2024      1   31    2224.0            2230       -6.0    2330.0   \n9468  2024      1   31    2255.0            2259       -4.0     334.0   \n9469  2024      1   31    2256.0            2259       -3.0      20.0   \n9470  2024      1   31    2302.0            2159       63.0       6.0   \n9471  2024      1   31    2303.0            2235       28.0       9.0   \n\n      sched_arr_time  arr_delay carrier  flight tailnum origin dest  air_time  \\\n1                 59        8.0      B6     261  N198JB    JFK  BOS      36.0   \n2                836      -30.0      B6     166  N805JB    JFK  PBI     152.0   \n3                711      -18.0      B6      60  N279JB    JFK  BOS      37.0   \n4                927      -24.0      AA     135  N341RW    JFK  MIA     154.0   \n5                837      -10.0      DL     221  N707TW    JFK  ATL     113.0   \n...              ...        ...     ...     ...     ...    ...  ...       ...   \n9467            2357      -27.0      9E     556  N315PQ    JFK  SYR      43.0   \n9468             350      -16.0      B6     151  N607JB    JFK  PSE     200.0   \n9469              35      -15.0      OO     416  N295SY    JFK  BUF      59.0   \n9470            2323       43.0      B6      40  N279JB    JFK  BOS      43.0   \n9471            2353       16.0      B6     222  N328JB    JFK  BOS      44.0   \n\n      distance  hour  minute            time_hour  \n1          187    23      47  2024-01-01 23:00:00  \n2         1028     5      30  2024-01-01 05:00:00  \n3          187     6       0  2024-01-01 06:00:00  \n4         1089     6       6  2024-01-01 06:00:00  \n5          760     6       0  2024-01-01 06:00:00  \n...        ...   ...     ...                  ...  \n9467       209    22      30  2024-01-31 22:00:00  \n9468      1617    22      59  2024-01-31 22:00:00  \n9469       301    22      59  2024-01-31 22:00:00  \n9470       187    21      59  2024-01-31 21:00:00  \n9471       187    22      35  2024-01-31 22:00:00  \n\n[9471 rows x 19 columns]",
      "text/html": "<div>\n<style scoped>\n    .dataframe tbody tr th:only-of-type {\n        vertical-align: middle;\n    }\n\n    .dataframe tbody tr th {\n        vertical-align: top;\n    }\n\n    .dataframe thead th {\n        text-align: right;\n    }\n</style>\n<table border=\"1\" class=\"dataframe\">\n  <thead>\n    <tr style=\"text-align: right;\">\n      <th></th>\n      <th>year</th>\n      <th>month</th>\n      <th>day</th>\n      <th>dep_time</th>\n      <th>sched_dep_time</th>\n      <th>dep_delay</th>\n      <th>arr_time</th>\n      <th>sched_arr_time</th>\n      <th>arr_delay</th>\n      <th>carrier</th>\n      <th>flight</th>\n      <th>tailnum</th>\n      <th>origin</th>\n      <th>dest</th>\n      <th>air_time</th>\n      <th>distance</th>\n      <th>hour</th>\n      <th>minute</th>\n      <th>time_hour</th>\n    </tr>\n  </thead>\n  <tbody>\n    <tr>\n      <th>1</th>\n      <td>2024</td>\n      <td>1</td>\n      <td>1</td>\n      <td>15.0</td>\n      <td>2347</td>\n      <td>28.0</td>\n      <td>107.0</td>\n      <td>59</td>\n      <td>8.0</td>\n      <td>B6</td>\n      <td>261</td>\n      <td>N198JB</td>\n      <td>JFK</td>\n      <td>BOS</td>\n      <td>36.0</td>\n      <td>187</td>\n      <td>23</td>\n      <td>47</td>\n      <td>2024-01-01 23:00:00</td>\n    </tr>\n    <tr>\n      <th>2</th>\n      <td>2024</td>\n      <td>1</td>\n      <td>1</td>\n      <td>517.0</td>\n      <td>530</td>\n      <td>-13.0</td>\n      <td>806.0</td>\n      <td>836</td>\n      <td>-30.0</td>\n      <td>B6</td>\n      <td>166</td>\n      <td>N805JB</td>\n      <td>JFK</td>\n      <td>PBI</td>\n      <td>152.0</td>\n      <td>1028</td>\n      <td>5</td>\n      <td>30</td>\n      <td>2024-01-01 05:00:00</td>\n    </tr>\n    <tr>\n      <th>3</th>\n      <td>2024</td>\n      <td>1</td>\n      <td>1</td>\n      <td>557.0</td>\n      <td>600</td>\n      <td>-3.0</td>\n      <td>653.0</td>\n      <td>711</td>\n      <td>-18.0</td>\n      <td>B6</td>\n      <td>60</td>\n      <td>N279JB</td>\n      <td>JFK</td>\n      <td>BOS</td>\n      <td>37.0</td>\n      <td>187</td>\n      <td>6</td>\n      <td>0</td>\n      <td>2024-01-01 06:00:00</td>\n    </tr>\n    <tr>\n      <th>4</th>\n      <td>2024</td>\n      <td>1</td>\n      <td>1</td>\n      <td>603.0</td>\n      <td>606</td>\n      <td>-3.0</td>\n      <td>903.0</td>\n      <td>927</td>\n      <td>-24.0</td>\n      <td>AA</td>\n      <td>135</td>\n      <td>N341RW</td>\n      <td>JFK</td>\n      <td>MIA</td>\n      <td>154.0</td>\n      <td>1089</td>\n      <td>6</td>\n      <td>6</td>\n      <td>2024-01-01 06:00:00</td>\n    </tr>\n    <tr>\n      <th>5</th>\n      <td>2024</td>\n      <td>1</td>\n      <td>1</td>\n      <td>604.0</td>\n      <td>600</td>\n      <td>4.0</td>\n      <td>827.0</td>\n      <td>837</td>\n      <td>-10.0</td>\n      <td>DL</td>\n      <td>221</td>\n      <td>N707TW</td>\n      <td>JFK</td>\n      <td>ATL</td>\n      <td>113.0</td>\n      <td>760</td>\n      <td>6</td>\n      <td>0</td>\n      <td>2024-01-01 06:00:00</td>\n    </tr>\n    <tr>\n      <th>...</th>\n      <td>...</td>\n      <td>...</td>\n      <td>...</td>\n      <td>...</td>\n      <td>...</td>\n      <td>...</td>\n      <td>...</td>\n      <td>...</td>\n      <td>...</td>\n      <td>...</td>\n      <td>...</td>\n      <td>...</td>\n      <td>...</td>\n      <td>...</td>\n      <td>...</td>\n      <td>...</td>\n      <td>...</td>\n      <td>...</td>\n      <td>...</td>\n    </tr>\n    <tr>\n      <th>9467</th>\n      <td>2024</td>\n      <td>1</td>\n      <td>31</td>\n      <td>2224.0</td>\n      <td>2230</td>\n      <td>-6.0</td>\n      <td>2330.0</td>\n      <td>2357</td>\n      <td>-27.0</td>\n      <td>9E</td>\n      <td>556</td>\n      <td>N315PQ</td>\n      <td>JFK</td>\n      <td>SYR</td>\n      <td>43.0</td>\n      <td>209</td>\n      <td>22</td>\n      <td>30</td>\n      <td>2024-01-31 22:00:00</td>\n    </tr>\n    <tr>\n      <th>9468</th>\n      <td>2024</td>\n      <td>1</td>\n      <td>31</td>\n      <td>2255.0</td>\n      <td>2259</td>\n      <td>-4.0</td>\n      <td>334.0</td>\n      <td>350</td>\n      <td>-16.0</td>\n      <td>B6</td>\n      <td>151</td>\n      <td>N607JB</td>\n      <td>JFK</td>\n      <td>PSE</td>\n      <td>200.0</td>\n      <td>1617</td>\n      <td>22</td>\n      <td>59</td>\n      <td>2024-01-31 22:00:00</td>\n    </tr>\n    <tr>\n      <th>9469</th>\n      <td>2024</td>\n      <td>1</td>\n      <td>31</td>\n      <td>2256.0</td>\n      <td>2259</td>\n      <td>-3.0</td>\n      <td>20.0</td>\n      <td>35</td>\n      <td>-15.0</td>\n      <td>OO</td>\n      <td>416</td>\n      <td>N295SY</td>\n      <td>JFK</td>\n      <td>BUF</td>\n      <td>59.0</td>\n      <td>301</td>\n      <td>22</td>\n      <td>59</td>\n      <td>2024-01-31 22:00:00</td>\n    </tr>\n    <tr>\n      <th>9470</th>\n      <td>2024</td>\n      <td>1</td>\n      <td>31</td>\n      <td>2302.0</td>\n      <td>2159</td>\n      <td>63.0</td>\n      <td>6.0</td>\n      <td>2323</td>\n      <td>43.0</td>\n      <td>B6</td>\n      <td>40</td>\n      <td>N279JB</td>\n      <td>JFK</td>\n      <td>BOS</td>\n      <td>43.0</td>\n      <td>187</td>\n      <td>21</td>\n      <td>59</td>\n      <td>2024-01-31 21:00:00</td>\n    </tr>\n    <tr>\n      <th>9471</th>\n      <td>2024</td>\n      <td>1</td>\n      <td>31</td>\n      <td>2303.0</td>\n      <td>2235</td>\n      <td>28.0</td>\n      <td>9.0</td>\n      <td>2353</td>\n      <td>16.0</td>\n      <td>B6</td>\n      <td>222</td>\n      <td>N328JB</td>\n      <td>JFK</td>\n      <td>BOS</td>\n      <td>44.0</td>\n      <td>187</td>\n      <td>22</td>\n      <td>35</td>\n      <td>2024-01-31 22:00:00</td>\n    </tr>\n  </tbody>\n</table>\n<p>9471 rows × 19 columns</p>\n</div>"
     },
     "execution_count": 28,
     "metadata": {},
     "output_type": "execute_result"
    }
   ],
   "source": [
    "flights"
   ],
   "metadata": {
    "collapsed": false,
    "ExecuteTime": {
     "end_time": "2025-04-16T01:09:13.279055Z",
     "start_time": "2025-04-16T01:09:13.271183Z"
    }
   },
   "id": "a25aa1771c10ef87"
  },
  {
   "cell_type": "code",
   "execution_count": 29,
   "outputs": [],
   "source": [
    "flights.drop([\"origin\", 'year', 'month', 'hour', 'minute'], axis=1, inplace=True)"
   ],
   "metadata": {
    "collapsed": false,
    "ExecuteTime": {
     "end_time": "2025-04-16T01:09:13.672474Z",
     "start_time": "2025-04-16T01:09:13.659516Z"
    }
   },
   "id": "7295b18a4098bde7"
  },
  {
   "cell_type": "code",
   "execution_count": 30,
   "outputs": [
    {
     "data": {
      "text/plain": "      day  dep_time  sched_dep_time  dep_delay  arr_time  sched_arr_time  \\\n1       1      15.0            2347       28.0     107.0              59   \n2       1     517.0             530      -13.0     806.0             836   \n3       1     557.0             600       -3.0     653.0             711   \n4       1     603.0             606       -3.0     903.0             927   \n5       1     604.0             600        4.0     827.0             837   \n...   ...       ...             ...        ...       ...             ...   \n9467   31    2224.0            2230       -6.0    2330.0            2357   \n9468   31    2255.0            2259       -4.0     334.0             350   \n9469   31    2256.0            2259       -3.0      20.0              35   \n9470   31    2302.0            2159       63.0       6.0            2323   \n9471   31    2303.0            2235       28.0       9.0            2353   \n\n      arr_delay carrier  flight tailnum dest  air_time  distance  \\\n1           8.0      B6     261  N198JB  BOS      36.0       187   \n2         -30.0      B6     166  N805JB  PBI     152.0      1028   \n3         -18.0      B6      60  N279JB  BOS      37.0       187   \n4         -24.0      AA     135  N341RW  MIA     154.0      1089   \n5         -10.0      DL     221  N707TW  ATL     113.0       760   \n...         ...     ...     ...     ...  ...       ...       ...   \n9467      -27.0      9E     556  N315PQ  SYR      43.0       209   \n9468      -16.0      B6     151  N607JB  PSE     200.0      1617   \n9469      -15.0      OO     416  N295SY  BUF      59.0       301   \n9470       43.0      B6      40  N279JB  BOS      43.0       187   \n9471       16.0      B6     222  N328JB  BOS      44.0       187   \n\n                time_hour  \n1     2024-01-01 23:00:00  \n2     2024-01-01 05:00:00  \n3     2024-01-01 06:00:00  \n4     2024-01-01 06:00:00  \n5     2024-01-01 06:00:00  \n...                   ...  \n9467  2024-01-31 22:00:00  \n9468  2024-01-31 22:00:00  \n9469  2024-01-31 22:00:00  \n9470  2024-01-31 21:00:00  \n9471  2024-01-31 22:00:00  \n\n[9471 rows x 14 columns]",
      "text/html": "<div>\n<style scoped>\n    .dataframe tbody tr th:only-of-type {\n        vertical-align: middle;\n    }\n\n    .dataframe tbody tr th {\n        vertical-align: top;\n    }\n\n    .dataframe thead th {\n        text-align: right;\n    }\n</style>\n<table border=\"1\" class=\"dataframe\">\n  <thead>\n    <tr style=\"text-align: right;\">\n      <th></th>\n      <th>day</th>\n      <th>dep_time</th>\n      <th>sched_dep_time</th>\n      <th>dep_delay</th>\n      <th>arr_time</th>\n      <th>sched_arr_time</th>\n      <th>arr_delay</th>\n      <th>carrier</th>\n      <th>flight</th>\n      <th>tailnum</th>\n      <th>dest</th>\n      <th>air_time</th>\n      <th>distance</th>\n      <th>time_hour</th>\n    </tr>\n  </thead>\n  <tbody>\n    <tr>\n      <th>1</th>\n      <td>1</td>\n      <td>15.0</td>\n      <td>2347</td>\n      <td>28.0</td>\n      <td>107.0</td>\n      <td>59</td>\n      <td>8.0</td>\n      <td>B6</td>\n      <td>261</td>\n      <td>N198JB</td>\n      <td>BOS</td>\n      <td>36.0</td>\n      <td>187</td>\n      <td>2024-01-01 23:00:00</td>\n    </tr>\n    <tr>\n      <th>2</th>\n      <td>1</td>\n      <td>517.0</td>\n      <td>530</td>\n      <td>-13.0</td>\n      <td>806.0</td>\n      <td>836</td>\n      <td>-30.0</td>\n      <td>B6</td>\n      <td>166</td>\n      <td>N805JB</td>\n      <td>PBI</td>\n      <td>152.0</td>\n      <td>1028</td>\n      <td>2024-01-01 05:00:00</td>\n    </tr>\n    <tr>\n      <th>3</th>\n      <td>1</td>\n      <td>557.0</td>\n      <td>600</td>\n      <td>-3.0</td>\n      <td>653.0</td>\n      <td>711</td>\n      <td>-18.0</td>\n      <td>B6</td>\n      <td>60</td>\n      <td>N279JB</td>\n      <td>BOS</td>\n      <td>37.0</td>\n      <td>187</td>\n      <td>2024-01-01 06:00:00</td>\n    </tr>\n    <tr>\n      <th>4</th>\n      <td>1</td>\n      <td>603.0</td>\n      <td>606</td>\n      <td>-3.0</td>\n      <td>903.0</td>\n      <td>927</td>\n      <td>-24.0</td>\n      <td>AA</td>\n      <td>135</td>\n      <td>N341RW</td>\n      <td>MIA</td>\n      <td>154.0</td>\n      <td>1089</td>\n      <td>2024-01-01 06:00:00</td>\n    </tr>\n    <tr>\n      <th>5</th>\n      <td>1</td>\n      <td>604.0</td>\n      <td>600</td>\n      <td>4.0</td>\n      <td>827.0</td>\n      <td>837</td>\n      <td>-10.0</td>\n      <td>DL</td>\n      <td>221</td>\n      <td>N707TW</td>\n      <td>ATL</td>\n      <td>113.0</td>\n      <td>760</td>\n      <td>2024-01-01 06:00:00</td>\n    </tr>\n    <tr>\n      <th>...</th>\n      <td>...</td>\n      <td>...</td>\n      <td>...</td>\n      <td>...</td>\n      <td>...</td>\n      <td>...</td>\n      <td>...</td>\n      <td>...</td>\n      <td>...</td>\n      <td>...</td>\n      <td>...</td>\n      <td>...</td>\n      <td>...</td>\n      <td>...</td>\n    </tr>\n    <tr>\n      <th>9467</th>\n      <td>31</td>\n      <td>2224.0</td>\n      <td>2230</td>\n      <td>-6.0</td>\n      <td>2330.0</td>\n      <td>2357</td>\n      <td>-27.0</td>\n      <td>9E</td>\n      <td>556</td>\n      <td>N315PQ</td>\n      <td>SYR</td>\n      <td>43.0</td>\n      <td>209</td>\n      <td>2024-01-31 22:00:00</td>\n    </tr>\n    <tr>\n      <th>9468</th>\n      <td>31</td>\n      <td>2255.0</td>\n      <td>2259</td>\n      <td>-4.0</td>\n      <td>334.0</td>\n      <td>350</td>\n      <td>-16.0</td>\n      <td>B6</td>\n      <td>151</td>\n      <td>N607JB</td>\n      <td>PSE</td>\n      <td>200.0</td>\n      <td>1617</td>\n      <td>2024-01-31 22:00:00</td>\n    </tr>\n    <tr>\n      <th>9469</th>\n      <td>31</td>\n      <td>2256.0</td>\n      <td>2259</td>\n      <td>-3.0</td>\n      <td>20.0</td>\n      <td>35</td>\n      <td>-15.0</td>\n      <td>OO</td>\n      <td>416</td>\n      <td>N295SY</td>\n      <td>BUF</td>\n      <td>59.0</td>\n      <td>301</td>\n      <td>2024-01-31 22:00:00</td>\n    </tr>\n    <tr>\n      <th>9470</th>\n      <td>31</td>\n      <td>2302.0</td>\n      <td>2159</td>\n      <td>63.0</td>\n      <td>6.0</td>\n      <td>2323</td>\n      <td>43.0</td>\n      <td>B6</td>\n      <td>40</td>\n      <td>N279JB</td>\n      <td>BOS</td>\n      <td>43.0</td>\n      <td>187</td>\n      <td>2024-01-31 21:00:00</td>\n    </tr>\n    <tr>\n      <th>9471</th>\n      <td>31</td>\n      <td>2303.0</td>\n      <td>2235</td>\n      <td>28.0</td>\n      <td>9.0</td>\n      <td>2353</td>\n      <td>16.0</td>\n      <td>B6</td>\n      <td>222</td>\n      <td>N328JB</td>\n      <td>BOS</td>\n      <td>44.0</td>\n      <td>187</td>\n      <td>2024-01-31 22:00:00</td>\n    </tr>\n  </tbody>\n</table>\n<p>9471 rows × 14 columns</p>\n</div>"
     },
     "execution_count": 30,
     "metadata": {},
     "output_type": "execute_result"
    }
   ],
   "source": [
    "flights"
   ],
   "metadata": {
    "collapsed": false,
    "ExecuteTime": {
     "end_time": "2025-04-16T01:09:14.207332Z",
     "start_time": "2025-04-16T01:09:14.199268Z"
    }
   },
   "id": "fe9785f80762a9f2"
  },
  {
   "cell_type": "code",
   "execution_count": 31,
   "outputs": [],
   "source": [
    "planes = pd.read_csv(\"planes.csv\", index_col=0)"
   ],
   "metadata": {
    "collapsed": false,
    "ExecuteTime": {
     "end_time": "2025-04-16T01:09:14.803344Z",
     "start_time": "2025-04-16T01:09:14.792292Z"
    }
   },
   "id": "3caa5860dd4d8409"
  },
  {
   "cell_type": "code",
   "execution_count": 32,
   "outputs": [
    {
     "data": {
      "text/plain": "tailnum         1452\nyear              33\ntype               1\nmanufacturer      10\nmodel             43\nengines            1\nseats             29\nspeed              1\nengine             2\ndtype: int64"
     },
     "execution_count": 32,
     "metadata": {},
     "output_type": "execute_result"
    }
   ],
   "source": [
    "planes.nunique()"
   ],
   "metadata": {
    "collapsed": false,
    "ExecuteTime": {
     "end_time": "2025-04-16T01:09:15.152560Z",
     "start_time": "2025-04-16T01:09:15.137988Z"
    }
   },
   "id": "deb1df2200399578"
  },
  {
   "cell_type": "code",
   "execution_count": 33,
   "outputs": [],
   "source": [
    "planes.drop([\"type\", 'manufacturer', 'model', 'engines', 'speed', 'engine'], axis=1, inplace=True)"
   ],
   "metadata": {
    "collapsed": false,
    "ExecuteTime": {
     "end_time": "2025-04-16T01:09:15.638637Z",
     "start_time": "2025-04-16T01:09:15.629839Z"
    }
   },
   "id": "f1a53a5381f6b526"
  },
  {
   "cell_type": "code",
   "execution_count": 34,
   "outputs": [
    {
     "data": {
      "text/plain": "     tailnum    year  seats\n1     N101DQ  2020.0    199\n2     N101DU  2018.0    133\n3     N101HQ  2007.0     80\n4     N101NN  2013.0    379\n5     N102DN  2020.0    199\n...      ...     ...    ...\n1448  N996NN  2016.0    162\n1449  N997JL  2018.0    379\n1450  N997NN  2016.0    162\n1451  N998JE  2018.0    379\n1452  N999JQ  2018.0    379\n\n[1452 rows x 3 columns]",
      "text/html": "<div>\n<style scoped>\n    .dataframe tbody tr th:only-of-type {\n        vertical-align: middle;\n    }\n\n    .dataframe tbody tr th {\n        vertical-align: top;\n    }\n\n    .dataframe thead th {\n        text-align: right;\n    }\n</style>\n<table border=\"1\" class=\"dataframe\">\n  <thead>\n    <tr style=\"text-align: right;\">\n      <th></th>\n      <th>tailnum</th>\n      <th>year</th>\n      <th>seats</th>\n    </tr>\n  </thead>\n  <tbody>\n    <tr>\n      <th>1</th>\n      <td>N101DQ</td>\n      <td>2020.0</td>\n      <td>199</td>\n    </tr>\n    <tr>\n      <th>2</th>\n      <td>N101DU</td>\n      <td>2018.0</td>\n      <td>133</td>\n    </tr>\n    <tr>\n      <th>3</th>\n      <td>N101HQ</td>\n      <td>2007.0</td>\n      <td>80</td>\n    </tr>\n    <tr>\n      <th>4</th>\n      <td>N101NN</td>\n      <td>2013.0</td>\n      <td>379</td>\n    </tr>\n    <tr>\n      <th>5</th>\n      <td>N102DN</td>\n      <td>2020.0</td>\n      <td>199</td>\n    </tr>\n    <tr>\n      <th>...</th>\n      <td>...</td>\n      <td>...</td>\n      <td>...</td>\n    </tr>\n    <tr>\n      <th>1448</th>\n      <td>N996NN</td>\n      <td>2016.0</td>\n      <td>162</td>\n    </tr>\n    <tr>\n      <th>1449</th>\n      <td>N997JL</td>\n      <td>2018.0</td>\n      <td>379</td>\n    </tr>\n    <tr>\n      <th>1450</th>\n      <td>N997NN</td>\n      <td>2016.0</td>\n      <td>162</td>\n    </tr>\n    <tr>\n      <th>1451</th>\n      <td>N998JE</td>\n      <td>2018.0</td>\n      <td>379</td>\n    </tr>\n    <tr>\n      <th>1452</th>\n      <td>N999JQ</td>\n      <td>2018.0</td>\n      <td>379</td>\n    </tr>\n  </tbody>\n</table>\n<p>1452 rows × 3 columns</p>\n</div>"
     },
     "execution_count": 34,
     "metadata": {},
     "output_type": "execute_result"
    }
   ],
   "source": [
    "planes"
   ],
   "metadata": {
    "collapsed": false,
    "ExecuteTime": {
     "end_time": "2025-04-16T01:09:16.066085Z",
     "start_time": "2025-04-16T01:09:16.057941Z"
    }
   },
   "id": "a48685c99563f717"
  },
  {
   "cell_type": "code",
   "execution_count": 35,
   "outputs": [],
   "source": [
    "weather = pd.read_csv(\"weather.csv\", index_col=0)"
   ],
   "metadata": {
    "collapsed": false,
    "ExecuteTime": {
     "end_time": "2025-04-16T01:09:16.617258Z",
     "start_time": "2025-04-16T01:09:16.607507Z"
    }
   },
   "id": "8960fe6a3f6148c5"
  },
  {
   "cell_type": "code",
   "execution_count": 36,
   "outputs": [],
   "source": [
    "weather.drop([\"origin\", 'year', 'month', 'day', 'hour'], axis=1, inplace=True)"
   ],
   "metadata": {
    "collapsed": false,
    "ExecuteTime": {
     "end_time": "2025-04-16T01:09:17.247487Z",
     "start_time": "2025-04-16T01:09:17.209817Z"
    }
   },
   "id": "d1aae3dfe55f86dc"
  },
  {
   "cell_type": "code",
   "execution_count": 37,
   "outputs": [
    {
     "data": {
      "text/plain": "     temp  dewp  humid  wind_dir  wind_speed  wind_gust  precip  pressure  \\\n1    42.0  27.0  54.99     270.0    10.35702  11.918651  0.0000    1016.3   \n2    42.0  28.0  57.30     250.0    10.35702  11.918651  0.0000    1016.2   \n3    42.0  29.0  59.69     270.0    10.35702  11.918651  0.0000    1016.3   \n4    42.0  28.0  57.30     260.0     8.05546   9.270062  0.0000    1016.2   \n5    41.0  31.0  67.30     260.0     9.20624  10.594357  0.0000    1016.4   \n..    ...   ...    ...       ...         ...        ...     ...       ...   \n716  37.0  25.0  61.50       0.0     0.00000   0.000000  0.0000    1022.9   \n717  37.0  25.0  61.50      70.0     4.60312   5.297178  0.0000    1022.8   \n718  36.0  26.0  66.69     110.0     8.05546   9.270062  0.0000    1022.7   \n719  35.0  30.0  81.78      90.0     9.20624  10.594357  0.0001    1022.7   \n720  35.0  30.0  81.78     100.0    10.35702  11.918651  0.0000    1022.7   \n\n     visib            time_hour  \n1     10.0           2024-01-01  \n2     10.0  2024-01-01 01:00:00  \n3     10.0  2024-01-01 02:00:00  \n4     10.0  2024-01-01 03:00:00  \n5     10.0  2024-01-01 04:00:00  \n..     ...                  ...  \n716   10.0  2024-01-30 19:00:00  \n717   10.0  2024-01-30 20:00:00  \n718   10.0  2024-01-30 21:00:00  \n719   10.0  2024-01-30 22:00:00  \n720   10.0  2024-01-30 23:00:00  \n\n[720 rows x 10 columns]",
      "text/html": "<div>\n<style scoped>\n    .dataframe tbody tr th:only-of-type {\n        vertical-align: middle;\n    }\n\n    .dataframe tbody tr th {\n        vertical-align: top;\n    }\n\n    .dataframe thead th {\n        text-align: right;\n    }\n</style>\n<table border=\"1\" class=\"dataframe\">\n  <thead>\n    <tr style=\"text-align: right;\">\n      <th></th>\n      <th>temp</th>\n      <th>dewp</th>\n      <th>humid</th>\n      <th>wind_dir</th>\n      <th>wind_speed</th>\n      <th>wind_gust</th>\n      <th>precip</th>\n      <th>pressure</th>\n      <th>visib</th>\n      <th>time_hour</th>\n    </tr>\n  </thead>\n  <tbody>\n    <tr>\n      <th>1</th>\n      <td>42.0</td>\n      <td>27.0</td>\n      <td>54.99</td>\n      <td>270.0</td>\n      <td>10.35702</td>\n      <td>11.918651</td>\n      <td>0.0000</td>\n      <td>1016.3</td>\n      <td>10.0</td>\n      <td>2024-01-01</td>\n    </tr>\n    <tr>\n      <th>2</th>\n      <td>42.0</td>\n      <td>28.0</td>\n      <td>57.30</td>\n      <td>250.0</td>\n      <td>10.35702</td>\n      <td>11.918651</td>\n      <td>0.0000</td>\n      <td>1016.2</td>\n      <td>10.0</td>\n      <td>2024-01-01 01:00:00</td>\n    </tr>\n    <tr>\n      <th>3</th>\n      <td>42.0</td>\n      <td>29.0</td>\n      <td>59.69</td>\n      <td>270.0</td>\n      <td>10.35702</td>\n      <td>11.918651</td>\n      <td>0.0000</td>\n      <td>1016.3</td>\n      <td>10.0</td>\n      <td>2024-01-01 02:00:00</td>\n    </tr>\n    <tr>\n      <th>4</th>\n      <td>42.0</td>\n      <td>28.0</td>\n      <td>57.30</td>\n      <td>260.0</td>\n      <td>8.05546</td>\n      <td>9.270062</td>\n      <td>0.0000</td>\n      <td>1016.2</td>\n      <td>10.0</td>\n      <td>2024-01-01 03:00:00</td>\n    </tr>\n    <tr>\n      <th>5</th>\n      <td>41.0</td>\n      <td>31.0</td>\n      <td>67.30</td>\n      <td>260.0</td>\n      <td>9.20624</td>\n      <td>10.594357</td>\n      <td>0.0000</td>\n      <td>1016.4</td>\n      <td>10.0</td>\n      <td>2024-01-01 04:00:00</td>\n    </tr>\n    <tr>\n      <th>...</th>\n      <td>...</td>\n      <td>...</td>\n      <td>...</td>\n      <td>...</td>\n      <td>...</td>\n      <td>...</td>\n      <td>...</td>\n      <td>...</td>\n      <td>...</td>\n      <td>...</td>\n    </tr>\n    <tr>\n      <th>716</th>\n      <td>37.0</td>\n      <td>25.0</td>\n      <td>61.50</td>\n      <td>0.0</td>\n      <td>0.00000</td>\n      <td>0.000000</td>\n      <td>0.0000</td>\n      <td>1022.9</td>\n      <td>10.0</td>\n      <td>2024-01-30 19:00:00</td>\n    </tr>\n    <tr>\n      <th>717</th>\n      <td>37.0</td>\n      <td>25.0</td>\n      <td>61.50</td>\n      <td>70.0</td>\n      <td>4.60312</td>\n      <td>5.297178</td>\n      <td>0.0000</td>\n      <td>1022.8</td>\n      <td>10.0</td>\n      <td>2024-01-30 20:00:00</td>\n    </tr>\n    <tr>\n      <th>718</th>\n      <td>36.0</td>\n      <td>26.0</td>\n      <td>66.69</td>\n      <td>110.0</td>\n      <td>8.05546</td>\n      <td>9.270062</td>\n      <td>0.0000</td>\n      <td>1022.7</td>\n      <td>10.0</td>\n      <td>2024-01-30 21:00:00</td>\n    </tr>\n    <tr>\n      <th>719</th>\n      <td>35.0</td>\n      <td>30.0</td>\n      <td>81.78</td>\n      <td>90.0</td>\n      <td>9.20624</td>\n      <td>10.594357</td>\n      <td>0.0001</td>\n      <td>1022.7</td>\n      <td>10.0</td>\n      <td>2024-01-30 22:00:00</td>\n    </tr>\n    <tr>\n      <th>720</th>\n      <td>35.0</td>\n      <td>30.0</td>\n      <td>81.78</td>\n      <td>100.0</td>\n      <td>10.35702</td>\n      <td>11.918651</td>\n      <td>0.0000</td>\n      <td>1022.7</td>\n      <td>10.0</td>\n      <td>2024-01-30 23:00:00</td>\n    </tr>\n  </tbody>\n</table>\n<p>720 rows × 10 columns</p>\n</div>"
     },
     "execution_count": 37,
     "metadata": {},
     "output_type": "execute_result"
    }
   ],
   "source": [
    "weather"
   ],
   "metadata": {
    "collapsed": false,
    "ExecuteTime": {
     "end_time": "2025-04-16T01:09:17.938747Z",
     "start_time": "2025-04-16T01:09:17.933265Z"
    }
   },
   "id": "427ad5cf3b4fbafe"
  },
  {
   "cell_type": "code",
   "execution_count": 38,
   "outputs": [],
   "source": [
    "fp = pd.merge(flights, planes, on=\"tailnum\", how='inner')\n",
    "fp.rename(columns={\"year\":\"plane_year\"}, inplace=True)"
   ],
   "metadata": {
    "collapsed": false,
    "ExecuteTime": {
     "end_time": "2025-04-16T01:09:18.307402Z",
     "start_time": "2025-04-16T01:09:18.292876Z"
    }
   },
   "id": "79911e7ec4f5448"
  },
  {
   "cell_type": "code",
   "execution_count": 39,
   "outputs": [
    {
     "data": {
      "text/plain": "      day  dep_time  sched_dep_time  dep_delay  arr_time  sched_arr_time  \\\n0       1      15.0            2347       28.0     107.0              59   \n1       1     806.0             800        6.0    1109.0            1118   \n2       1    1606.0            1530       36.0    1856.0            1836   \n3       3    1303.0            1300        3.0    1606.0            1603   \n4       1     517.0             530      -13.0     806.0             836   \n...   ...       ...             ...        ...       ...             ...   \n8716   31    1753.0            1759       -6.0    1956.0            2051   \n8717   31    1829.0            1830       -1.0    2136.0            2146   \n8718   31    1857.0            1859       -2.0    2131.0            2218   \n8719   31    1915.0            1925      -10.0    2053.0            2131   \n8720   31    1917.0            1920       -3.0    2102.0            2135   \n\n      arr_delay carrier  flight tailnum dest  air_time  distance  \\\n0           8.0      B6     261  N198JB  BOS      36.0       187   \n1          -9.0      B6      33  N198JB  SRQ     155.0      1041   \n2          20.0      B6     173  N198JB  MCO     137.0       944   \n3           3.0      B6     243  N198JB  MCO     148.0       944   \n4         -30.0      B6     166  N805JB  PBI     152.0      1028   \n...         ...     ...     ...     ...  ...       ...       ...   \n8716      -55.0      DL     184  N910DU  DEN     214.0      1626   \n8717      -10.0      AA     203  N301NW  MIA     139.0      1089   \n8718      -47.0      DL     213   N3756  AUS     195.0      1521   \n8719      -38.0      OO     401  N293SY  ORD     127.0       740   \n8720      -33.0      AA     226  N778XF  CLT      78.0       541   \n\n                time_hour  plane_year  seats  \n0     2024-01-01 23:00:00      2006.0     20  \n1     2024-01-01 08:00:00      2006.0     20  \n2     2024-01-01 15:00:00      2006.0     20  \n3     2024-01-03 13:00:00      2006.0     20  \n4     2024-01-01 05:00:00      2012.0    200  \n...                   ...         ...    ...  \n8716  2024-01-31 17:00:00      2018.0    222  \n8717  2024-01-31 18:00:00      2016.0    189  \n8718  2024-01-31 18:00:00      2001.0    189  \n8719  2024-01-31 19:00:00      2019.0     88  \n8720  2024-01-31 19:00:00      2009.0    100  \n\n[8721 rows x 16 columns]",
      "text/html": "<div>\n<style scoped>\n    .dataframe tbody tr th:only-of-type {\n        vertical-align: middle;\n    }\n\n    .dataframe tbody tr th {\n        vertical-align: top;\n    }\n\n    .dataframe thead th {\n        text-align: right;\n    }\n</style>\n<table border=\"1\" class=\"dataframe\">\n  <thead>\n    <tr style=\"text-align: right;\">\n      <th></th>\n      <th>day</th>\n      <th>dep_time</th>\n      <th>sched_dep_time</th>\n      <th>dep_delay</th>\n      <th>arr_time</th>\n      <th>sched_arr_time</th>\n      <th>arr_delay</th>\n      <th>carrier</th>\n      <th>flight</th>\n      <th>tailnum</th>\n      <th>dest</th>\n      <th>air_time</th>\n      <th>distance</th>\n      <th>time_hour</th>\n      <th>plane_year</th>\n      <th>seats</th>\n    </tr>\n  </thead>\n  <tbody>\n    <tr>\n      <th>0</th>\n      <td>1</td>\n      <td>15.0</td>\n      <td>2347</td>\n      <td>28.0</td>\n      <td>107.0</td>\n      <td>59</td>\n      <td>8.0</td>\n      <td>B6</td>\n      <td>261</td>\n      <td>N198JB</td>\n      <td>BOS</td>\n      <td>36.0</td>\n      <td>187</td>\n      <td>2024-01-01 23:00:00</td>\n      <td>2006.0</td>\n      <td>20</td>\n    </tr>\n    <tr>\n      <th>1</th>\n      <td>1</td>\n      <td>806.0</td>\n      <td>800</td>\n      <td>6.0</td>\n      <td>1109.0</td>\n      <td>1118</td>\n      <td>-9.0</td>\n      <td>B6</td>\n      <td>33</td>\n      <td>N198JB</td>\n      <td>SRQ</td>\n      <td>155.0</td>\n      <td>1041</td>\n      <td>2024-01-01 08:00:00</td>\n      <td>2006.0</td>\n      <td>20</td>\n    </tr>\n    <tr>\n      <th>2</th>\n      <td>1</td>\n      <td>1606.0</td>\n      <td>1530</td>\n      <td>36.0</td>\n      <td>1856.0</td>\n      <td>1836</td>\n      <td>20.0</td>\n      <td>B6</td>\n      <td>173</td>\n      <td>N198JB</td>\n      <td>MCO</td>\n      <td>137.0</td>\n      <td>944</td>\n      <td>2024-01-01 15:00:00</td>\n      <td>2006.0</td>\n      <td>20</td>\n    </tr>\n    <tr>\n      <th>3</th>\n      <td>3</td>\n      <td>1303.0</td>\n      <td>1300</td>\n      <td>3.0</td>\n      <td>1606.0</td>\n      <td>1603</td>\n      <td>3.0</td>\n      <td>B6</td>\n      <td>243</td>\n      <td>N198JB</td>\n      <td>MCO</td>\n      <td>148.0</td>\n      <td>944</td>\n      <td>2024-01-03 13:00:00</td>\n      <td>2006.0</td>\n      <td>20</td>\n    </tr>\n    <tr>\n      <th>4</th>\n      <td>1</td>\n      <td>517.0</td>\n      <td>530</td>\n      <td>-13.0</td>\n      <td>806.0</td>\n      <td>836</td>\n      <td>-30.0</td>\n      <td>B6</td>\n      <td>166</td>\n      <td>N805JB</td>\n      <td>PBI</td>\n      <td>152.0</td>\n      <td>1028</td>\n      <td>2024-01-01 05:00:00</td>\n      <td>2012.0</td>\n      <td>200</td>\n    </tr>\n    <tr>\n      <th>...</th>\n      <td>...</td>\n      <td>...</td>\n      <td>...</td>\n      <td>...</td>\n      <td>...</td>\n      <td>...</td>\n      <td>...</td>\n      <td>...</td>\n      <td>...</td>\n      <td>...</td>\n      <td>...</td>\n      <td>...</td>\n      <td>...</td>\n      <td>...</td>\n      <td>...</td>\n      <td>...</td>\n    </tr>\n    <tr>\n      <th>8716</th>\n      <td>31</td>\n      <td>1753.0</td>\n      <td>1759</td>\n      <td>-6.0</td>\n      <td>1956.0</td>\n      <td>2051</td>\n      <td>-55.0</td>\n      <td>DL</td>\n      <td>184</td>\n      <td>N910DU</td>\n      <td>DEN</td>\n      <td>214.0</td>\n      <td>1626</td>\n      <td>2024-01-31 17:00:00</td>\n      <td>2018.0</td>\n      <td>222</td>\n    </tr>\n    <tr>\n      <th>8717</th>\n      <td>31</td>\n      <td>1829.0</td>\n      <td>1830</td>\n      <td>-1.0</td>\n      <td>2136.0</td>\n      <td>2146</td>\n      <td>-10.0</td>\n      <td>AA</td>\n      <td>203</td>\n      <td>N301NW</td>\n      <td>MIA</td>\n      <td>139.0</td>\n      <td>1089</td>\n      <td>2024-01-31 18:00:00</td>\n      <td>2016.0</td>\n      <td>189</td>\n    </tr>\n    <tr>\n      <th>8718</th>\n      <td>31</td>\n      <td>1857.0</td>\n      <td>1859</td>\n      <td>-2.0</td>\n      <td>2131.0</td>\n      <td>2218</td>\n      <td>-47.0</td>\n      <td>DL</td>\n      <td>213</td>\n      <td>N3756</td>\n      <td>AUS</td>\n      <td>195.0</td>\n      <td>1521</td>\n      <td>2024-01-31 18:00:00</td>\n      <td>2001.0</td>\n      <td>189</td>\n    </tr>\n    <tr>\n      <th>8719</th>\n      <td>31</td>\n      <td>1915.0</td>\n      <td>1925</td>\n      <td>-10.0</td>\n      <td>2053.0</td>\n      <td>2131</td>\n      <td>-38.0</td>\n      <td>OO</td>\n      <td>401</td>\n      <td>N293SY</td>\n      <td>ORD</td>\n      <td>127.0</td>\n      <td>740</td>\n      <td>2024-01-31 19:00:00</td>\n      <td>2019.0</td>\n      <td>88</td>\n    </tr>\n    <tr>\n      <th>8720</th>\n      <td>31</td>\n      <td>1917.0</td>\n      <td>1920</td>\n      <td>-3.0</td>\n      <td>2102.0</td>\n      <td>2135</td>\n      <td>-33.0</td>\n      <td>AA</td>\n      <td>226</td>\n      <td>N778XF</td>\n      <td>CLT</td>\n      <td>78.0</td>\n      <td>541</td>\n      <td>2024-01-31 19:00:00</td>\n      <td>2009.0</td>\n      <td>100</td>\n    </tr>\n  </tbody>\n</table>\n<p>8721 rows × 16 columns</p>\n</div>"
     },
     "execution_count": 39,
     "metadata": {},
     "output_type": "execute_result"
    }
   ],
   "source": [
    "fp"
   ],
   "metadata": {
    "collapsed": false,
    "ExecuteTime": {
     "end_time": "2025-04-16T01:09:18.850296Z",
     "start_time": "2025-04-16T01:09:18.841701Z"
    }
   },
   "id": "8fd1a5fd628b60cd"
  },
  {
   "cell_type": "code",
   "execution_count": 40,
   "outputs": [],
   "source": [
    "fpw = pd.merge(fp, weather, on=\"time_hour\", how='inner')"
   ],
   "metadata": {
    "collapsed": false,
    "ExecuteTime": {
     "end_time": "2025-04-16T01:09:19.564352Z",
     "start_time": "2025-04-16T01:09:19.546215Z"
    }
   },
   "id": "c66d62a0d5a9bf97"
  },
  {
   "cell_type": "code",
   "execution_count": 41,
   "outputs": [
    {
     "data": {
      "text/plain": "      day  dep_time  sched_dep_time  dep_delay  arr_time  sched_arr_time  \\\n0       1      15.0            2347       28.0     107.0              59   \n1       1    2313.0            2325      -12.0     356.0             405   \n2       1     806.0             800        6.0    1109.0            1118   \n3       1     755.0             802       -7.0    1019.0            1050   \n4       1     756.0             800       -4.0     930.0            1030   \n...   ...       ...             ...        ...       ...             ...   \n8435   27     527.0             530       -3.0     619.0             642   \n8436   27     527.0             525        2.0     827.0             839   \n8437   16     925.0             525      240.0    1357.0             839   \n8438   27    2255.0            2300       -5.0      11.0              27   \n8439   18     529.0             525        4.0     846.0             839   \n\n      arr_delay carrier  flight tailnum  ... seats  temp  dewp  humid  \\\n0           8.0      B6     261  N198JB  ...    20  42.0  30.0  62.18   \n1          -9.0      B6     167  N579JB  ...   200  42.0  30.0  62.18   \n2          -9.0      B6      33  N198JB  ...    20  41.0  30.0  64.63   \n3         -31.0      DL     356  N315NB  ...   145  41.0  30.0  64.63   \n4         -60.0      DL     246  N352NB  ...   145  41.0  30.0  64.63   \n...         ...     ...     ...     ...  ...   ...   ...   ...    ...   \n8435      -23.0      B6     373  N834JB  ...   200  42.0  41.0  96.21   \n8436      -12.0      AA     135  N331TK  ...   185  42.0  41.0  96.21   \n8437      318.0      AA     135  N338PK  ...   189  26.0  23.0  88.23   \n8438      -16.0      9E     556  N901XJ  ...    95  42.0  39.0  89.01   \n8439        7.0      AA     135  N906AN  ...   162  22.0   6.0  49.57   \n\n      wind_dir  wind_speed  wind_gust  precip  pressure  visib  \n0        360.0     9.20624  10.594357    0.00    1017.8  10.00  \n1        360.0     9.20624  10.594357    0.00    1017.8  10.00  \n2        250.0     9.20624  10.594357    0.00    1015.7  10.00  \n3        250.0     9.20624  10.594357    0.00    1015.7  10.00  \n4        250.0     9.20624  10.594357    0.00    1015.7  10.00  \n...        ...         ...        ...     ...       ...    ...  \n8435       0.0     0.00000   0.000000    0.00    1019.2   1.50  \n8436       0.0     0.00000   0.000000    0.00    1019.2   1.50  \n8437     330.0     4.60312   5.297178    0.01    1020.9   1.25  \n8438     160.0     4.60312   5.297178    0.00    1023.2  10.00  \n8439     260.0    16.11092  18.540125    0.00    1021.4  10.00  \n\n[8440 rows x 25 columns]",
      "text/html": "<div>\n<style scoped>\n    .dataframe tbody tr th:only-of-type {\n        vertical-align: middle;\n    }\n\n    .dataframe tbody tr th {\n        vertical-align: top;\n    }\n\n    .dataframe thead th {\n        text-align: right;\n    }\n</style>\n<table border=\"1\" class=\"dataframe\">\n  <thead>\n    <tr style=\"text-align: right;\">\n      <th></th>\n      <th>day</th>\n      <th>dep_time</th>\n      <th>sched_dep_time</th>\n      <th>dep_delay</th>\n      <th>arr_time</th>\n      <th>sched_arr_time</th>\n      <th>arr_delay</th>\n      <th>carrier</th>\n      <th>flight</th>\n      <th>tailnum</th>\n      <th>...</th>\n      <th>seats</th>\n      <th>temp</th>\n      <th>dewp</th>\n      <th>humid</th>\n      <th>wind_dir</th>\n      <th>wind_speed</th>\n      <th>wind_gust</th>\n      <th>precip</th>\n      <th>pressure</th>\n      <th>visib</th>\n    </tr>\n  </thead>\n  <tbody>\n    <tr>\n      <th>0</th>\n      <td>1</td>\n      <td>15.0</td>\n      <td>2347</td>\n      <td>28.0</td>\n      <td>107.0</td>\n      <td>59</td>\n      <td>8.0</td>\n      <td>B6</td>\n      <td>261</td>\n      <td>N198JB</td>\n      <td>...</td>\n      <td>20</td>\n      <td>42.0</td>\n      <td>30.0</td>\n      <td>62.18</td>\n      <td>360.0</td>\n      <td>9.20624</td>\n      <td>10.594357</td>\n      <td>0.00</td>\n      <td>1017.8</td>\n      <td>10.00</td>\n    </tr>\n    <tr>\n      <th>1</th>\n      <td>1</td>\n      <td>2313.0</td>\n      <td>2325</td>\n      <td>-12.0</td>\n      <td>356.0</td>\n      <td>405</td>\n      <td>-9.0</td>\n      <td>B6</td>\n      <td>167</td>\n      <td>N579JB</td>\n      <td>...</td>\n      <td>200</td>\n      <td>42.0</td>\n      <td>30.0</td>\n      <td>62.18</td>\n      <td>360.0</td>\n      <td>9.20624</td>\n      <td>10.594357</td>\n      <td>0.00</td>\n      <td>1017.8</td>\n      <td>10.00</td>\n    </tr>\n    <tr>\n      <th>2</th>\n      <td>1</td>\n      <td>806.0</td>\n      <td>800</td>\n      <td>6.0</td>\n      <td>1109.0</td>\n      <td>1118</td>\n      <td>-9.0</td>\n      <td>B6</td>\n      <td>33</td>\n      <td>N198JB</td>\n      <td>...</td>\n      <td>20</td>\n      <td>41.0</td>\n      <td>30.0</td>\n      <td>64.63</td>\n      <td>250.0</td>\n      <td>9.20624</td>\n      <td>10.594357</td>\n      <td>0.00</td>\n      <td>1015.7</td>\n      <td>10.00</td>\n    </tr>\n    <tr>\n      <th>3</th>\n      <td>1</td>\n      <td>755.0</td>\n      <td>802</td>\n      <td>-7.0</td>\n      <td>1019.0</td>\n      <td>1050</td>\n      <td>-31.0</td>\n      <td>DL</td>\n      <td>356</td>\n      <td>N315NB</td>\n      <td>...</td>\n      <td>145</td>\n      <td>41.0</td>\n      <td>30.0</td>\n      <td>64.63</td>\n      <td>250.0</td>\n      <td>9.20624</td>\n      <td>10.594357</td>\n      <td>0.00</td>\n      <td>1015.7</td>\n      <td>10.00</td>\n    </tr>\n    <tr>\n      <th>4</th>\n      <td>1</td>\n      <td>756.0</td>\n      <td>800</td>\n      <td>-4.0</td>\n      <td>930.0</td>\n      <td>1030</td>\n      <td>-60.0</td>\n      <td>DL</td>\n      <td>246</td>\n      <td>N352NB</td>\n      <td>...</td>\n      <td>145</td>\n      <td>41.0</td>\n      <td>30.0</td>\n      <td>64.63</td>\n      <td>250.0</td>\n      <td>9.20624</td>\n      <td>10.594357</td>\n      <td>0.00</td>\n      <td>1015.7</td>\n      <td>10.00</td>\n    </tr>\n    <tr>\n      <th>...</th>\n      <td>...</td>\n      <td>...</td>\n      <td>...</td>\n      <td>...</td>\n      <td>...</td>\n      <td>...</td>\n      <td>...</td>\n      <td>...</td>\n      <td>...</td>\n      <td>...</td>\n      <td>...</td>\n      <td>...</td>\n      <td>...</td>\n      <td>...</td>\n      <td>...</td>\n      <td>...</td>\n      <td>...</td>\n      <td>...</td>\n      <td>...</td>\n      <td>...</td>\n      <td>...</td>\n    </tr>\n    <tr>\n      <th>8435</th>\n      <td>27</td>\n      <td>527.0</td>\n      <td>530</td>\n      <td>-3.0</td>\n      <td>619.0</td>\n      <td>642</td>\n      <td>-23.0</td>\n      <td>B6</td>\n      <td>373</td>\n      <td>N834JB</td>\n      <td>...</td>\n      <td>200</td>\n      <td>42.0</td>\n      <td>41.0</td>\n      <td>96.21</td>\n      <td>0.0</td>\n      <td>0.00000</td>\n      <td>0.000000</td>\n      <td>0.00</td>\n      <td>1019.2</td>\n      <td>1.50</td>\n    </tr>\n    <tr>\n      <th>8436</th>\n      <td>27</td>\n      <td>527.0</td>\n      <td>525</td>\n      <td>2.0</td>\n      <td>827.0</td>\n      <td>839</td>\n      <td>-12.0</td>\n      <td>AA</td>\n      <td>135</td>\n      <td>N331TK</td>\n      <td>...</td>\n      <td>185</td>\n      <td>42.0</td>\n      <td>41.0</td>\n      <td>96.21</td>\n      <td>0.0</td>\n      <td>0.00000</td>\n      <td>0.000000</td>\n      <td>0.00</td>\n      <td>1019.2</td>\n      <td>1.50</td>\n    </tr>\n    <tr>\n      <th>8437</th>\n      <td>16</td>\n      <td>925.0</td>\n      <td>525</td>\n      <td>240.0</td>\n      <td>1357.0</td>\n      <td>839</td>\n      <td>318.0</td>\n      <td>AA</td>\n      <td>135</td>\n      <td>N338PK</td>\n      <td>...</td>\n      <td>189</td>\n      <td>26.0</td>\n      <td>23.0</td>\n      <td>88.23</td>\n      <td>330.0</td>\n      <td>4.60312</td>\n      <td>5.297178</td>\n      <td>0.01</td>\n      <td>1020.9</td>\n      <td>1.25</td>\n    </tr>\n    <tr>\n      <th>8438</th>\n      <td>27</td>\n      <td>2255.0</td>\n      <td>2300</td>\n      <td>-5.0</td>\n      <td>11.0</td>\n      <td>27</td>\n      <td>-16.0</td>\n      <td>9E</td>\n      <td>556</td>\n      <td>N901XJ</td>\n      <td>...</td>\n      <td>95</td>\n      <td>42.0</td>\n      <td>39.0</td>\n      <td>89.01</td>\n      <td>160.0</td>\n      <td>4.60312</td>\n      <td>5.297178</td>\n      <td>0.00</td>\n      <td>1023.2</td>\n      <td>10.00</td>\n    </tr>\n    <tr>\n      <th>8439</th>\n      <td>18</td>\n      <td>529.0</td>\n      <td>525</td>\n      <td>4.0</td>\n      <td>846.0</td>\n      <td>839</td>\n      <td>7.0</td>\n      <td>AA</td>\n      <td>135</td>\n      <td>N906AN</td>\n      <td>...</td>\n      <td>162</td>\n      <td>22.0</td>\n      <td>6.0</td>\n      <td>49.57</td>\n      <td>260.0</td>\n      <td>16.11092</td>\n      <td>18.540125</td>\n      <td>0.00</td>\n      <td>1021.4</td>\n      <td>10.00</td>\n    </tr>\n  </tbody>\n</table>\n<p>8440 rows × 25 columns</p>\n</div>"
     },
     "execution_count": 41,
     "metadata": {},
     "output_type": "execute_result"
    }
   ],
   "source": [
    "fpw"
   ],
   "metadata": {
    "collapsed": false,
    "ExecuteTime": {
     "end_time": "2025-04-16T01:09:20.061994Z",
     "start_time": "2025-04-16T01:09:20.030284Z"
    }
   },
   "id": "1cb7ca8b9f1231f1"
  },
  {
   "cell_type": "code",
   "execution_count": 42,
   "outputs": [],
   "source": [
    "fpw.drop([\"carrier\", \"flight\", \"tailnum\", \"dest\", \"time_hour\"], axis=1, inplace=True)"
   ],
   "metadata": {
    "collapsed": false,
    "ExecuteTime": {
     "end_time": "2025-04-16T01:09:22.200987Z",
     "start_time": "2025-04-16T01:09:22.182025Z"
    }
   },
   "id": "d6ac82252193b475"
  },
  {
   "cell_type": "code",
   "execution_count": 43,
   "outputs": [],
   "source": [
    "fpw[\"sched_dep_hour\"] = fpw[\"sched_dep_time\"] // 100"
   ],
   "metadata": {
    "collapsed": false,
    "ExecuteTime": {
     "end_time": "2025-04-16T01:09:24.947040Z",
     "start_time": "2025-04-16T01:09:24.931619Z"
    }
   },
   "id": "36b49070b4cf67f0"
  },
  {
   "cell_type": "code",
   "execution_count": 44,
   "outputs": [],
   "source": [
    "fpw[\"sched_arr_hour\"] = fpw[\"sched_arr_time\"] // 100"
   ],
   "metadata": {
    "collapsed": false,
    "ExecuteTime": {
     "end_time": "2025-04-16T01:09:25.393181Z",
     "start_time": "2025-04-16T01:09:25.383161Z"
    }
   },
   "id": "3f7132f74ddfeb99"
  },
  {
   "cell_type": "code",
   "execution_count": 45,
   "outputs": [],
   "source": [
    "fpw.drop(['dep_time', 'sched_dep_time', 'arr_time', 'sched_arr_time', 'arr_delay', 'air_time'], axis=1, inplace=True)"
   ],
   "metadata": {
    "collapsed": false,
    "ExecuteTime": {
     "end_time": "2025-04-16T01:09:26.159557Z",
     "start_time": "2025-04-16T01:09:26.142177Z"
    }
   },
   "id": "8127e6dcd8466f78"
  },
  {
   "cell_type": "code",
   "execution_count": 46,
   "outputs": [],
   "source": [
    "fpw[\"plane_year\"] = 2024 - fpw[\"plane_year\"]\n",
    "fpw.rename(columns={\"plane_year\":\"plane_age\"}, inplace=True)"
   ],
   "metadata": {
    "collapsed": false,
    "ExecuteTime": {
     "end_time": "2025-04-16T01:09:26.605774Z",
     "start_time": "2025-04-16T01:09:26.596241Z"
    }
   },
   "id": "fb88decb4bde1af3"
  },
  {
   "cell_type": "code",
   "execution_count": 47,
   "outputs": [],
   "source": [
    "fpw.dropna(inplace=True)"
   ],
   "metadata": {
    "collapsed": false,
    "ExecuteTime": {
     "end_time": "2025-04-16T01:09:27.158318Z",
     "start_time": "2025-04-16T01:09:27.146729Z"
    }
   },
   "id": "1cdaeb1a4ec2253a"
  },
  {
   "cell_type": "code",
   "execution_count": 48,
   "outputs": [],
   "source": [
    "fpw.to_csv(\"fpw.csv\")"
   ],
   "metadata": {
    "collapsed": false,
    "ExecuteTime": {
     "end_time": "2025-04-16T01:09:27.771421Z",
     "start_time": "2025-04-16T01:09:27.706358Z"
    }
   },
   "id": "48436ac4f320b1dc"
  },
  {
   "cell_type": "code",
   "execution_count": 49,
   "outputs": [
    {
     "data": {
      "text/plain": "      day  dep_delay  distance  plane_age  seats  temp  dewp  humid  wind_dir  \\\n0       1       28.0       187       18.0     20  42.0  30.0  62.18     360.0   \n1       1      -12.0      1576       21.0    200  42.0  30.0  62.18     360.0   \n2       1        6.0      1041       18.0     20  41.0  30.0  64.63     250.0   \n3       1       -7.0      1182       24.0    145  41.0  30.0  64.63     250.0   \n4       1       -4.0      1029       22.0    145  41.0  30.0  64.63     250.0   \n...   ...        ...       ...        ...    ...   ...   ...    ...       ...   \n8435   27       -3.0       187       11.0    200  42.0  41.0  96.21       0.0   \n8436   27        2.0      1089        1.0    185  42.0  41.0  96.21       0.0   \n8437   16      240.0      1089        7.0    189  26.0  23.0  88.23     330.0   \n8438   27       -5.0       209       17.0     95  42.0  39.0  89.01     160.0   \n8439   18        4.0      1089       25.0    162  22.0   6.0  49.57     260.0   \n\n      wind_speed  wind_gust  precip  pressure  visib  sched_dep_hour  \\\n0        9.20624  10.594357    0.00    1017.8  10.00       23.783333   \n1        9.20624  10.594357    0.00    1017.8  10.00       23.416667   \n2        9.20624  10.594357    0.00    1015.7  10.00        8.000000   \n3        9.20624  10.594357    0.00    1015.7  10.00        8.033333   \n4        9.20624  10.594357    0.00    1015.7  10.00        8.000000   \n...          ...        ...     ...       ...    ...             ...   \n8435     0.00000   0.000000    0.00    1019.2   1.50        5.500000   \n8436     0.00000   0.000000    0.00    1019.2   1.50        5.416667   \n8437     4.60312   5.297178    0.01    1020.9   1.25        5.416667   \n8438     4.60312   5.297178    0.00    1023.2  10.00       23.000000   \n8439    16.11092  18.540125    0.00    1021.4  10.00        5.416667   \n\n      sched_arr_hour  \n0           0.983333  \n1           4.083333  \n2          11.300000  \n3          10.833333  \n4          10.500000  \n...              ...  \n8435        6.700000  \n8436        8.650000  \n8437        8.650000  \n8438        0.450000  \n8439        8.650000  \n\n[7358 rows x 16 columns]",
      "text/html": "<div>\n<style scoped>\n    .dataframe tbody tr th:only-of-type {\n        vertical-align: middle;\n    }\n\n    .dataframe tbody tr th {\n        vertical-align: top;\n    }\n\n    .dataframe thead th {\n        text-align: right;\n    }\n</style>\n<table border=\"1\" class=\"dataframe\">\n  <thead>\n    <tr style=\"text-align: right;\">\n      <th></th>\n      <th>day</th>\n      <th>dep_delay</th>\n      <th>distance</th>\n      <th>plane_age</th>\n      <th>seats</th>\n      <th>temp</th>\n      <th>dewp</th>\n      <th>humid</th>\n      <th>wind_dir</th>\n      <th>wind_speed</th>\n      <th>wind_gust</th>\n      <th>precip</th>\n      <th>pressure</th>\n      <th>visib</th>\n      <th>sched_dep_hour</th>\n      <th>sched_arr_hour</th>\n    </tr>\n  </thead>\n  <tbody>\n    <tr>\n      <th>0</th>\n      <td>1</td>\n      <td>28.0</td>\n      <td>187</td>\n      <td>18.0</td>\n      <td>20</td>\n      <td>42.0</td>\n      <td>30.0</td>\n      <td>62.18</td>\n      <td>360.0</td>\n      <td>9.20624</td>\n      <td>10.594357</td>\n      <td>0.00</td>\n      <td>1017.8</td>\n      <td>10.00</td>\n      <td>23.783333</td>\n      <td>0.983333</td>\n    </tr>\n    <tr>\n      <th>1</th>\n      <td>1</td>\n      <td>-12.0</td>\n      <td>1576</td>\n      <td>21.0</td>\n      <td>200</td>\n      <td>42.0</td>\n      <td>30.0</td>\n      <td>62.18</td>\n      <td>360.0</td>\n      <td>9.20624</td>\n      <td>10.594357</td>\n      <td>0.00</td>\n      <td>1017.8</td>\n      <td>10.00</td>\n      <td>23.416667</td>\n      <td>4.083333</td>\n    </tr>\n    <tr>\n      <th>2</th>\n      <td>1</td>\n      <td>6.0</td>\n      <td>1041</td>\n      <td>18.0</td>\n      <td>20</td>\n      <td>41.0</td>\n      <td>30.0</td>\n      <td>64.63</td>\n      <td>250.0</td>\n      <td>9.20624</td>\n      <td>10.594357</td>\n      <td>0.00</td>\n      <td>1015.7</td>\n      <td>10.00</td>\n      <td>8.000000</td>\n      <td>11.300000</td>\n    </tr>\n    <tr>\n      <th>3</th>\n      <td>1</td>\n      <td>-7.0</td>\n      <td>1182</td>\n      <td>24.0</td>\n      <td>145</td>\n      <td>41.0</td>\n      <td>30.0</td>\n      <td>64.63</td>\n      <td>250.0</td>\n      <td>9.20624</td>\n      <td>10.594357</td>\n      <td>0.00</td>\n      <td>1015.7</td>\n      <td>10.00</td>\n      <td>8.033333</td>\n      <td>10.833333</td>\n    </tr>\n    <tr>\n      <th>4</th>\n      <td>1</td>\n      <td>-4.0</td>\n      <td>1029</td>\n      <td>22.0</td>\n      <td>145</td>\n      <td>41.0</td>\n      <td>30.0</td>\n      <td>64.63</td>\n      <td>250.0</td>\n      <td>9.20624</td>\n      <td>10.594357</td>\n      <td>0.00</td>\n      <td>1015.7</td>\n      <td>10.00</td>\n      <td>8.000000</td>\n      <td>10.500000</td>\n    </tr>\n    <tr>\n      <th>...</th>\n      <td>...</td>\n      <td>...</td>\n      <td>...</td>\n      <td>...</td>\n      <td>...</td>\n      <td>...</td>\n      <td>...</td>\n      <td>...</td>\n      <td>...</td>\n      <td>...</td>\n      <td>...</td>\n      <td>...</td>\n      <td>...</td>\n      <td>...</td>\n      <td>...</td>\n      <td>...</td>\n    </tr>\n    <tr>\n      <th>8435</th>\n      <td>27</td>\n      <td>-3.0</td>\n      <td>187</td>\n      <td>11.0</td>\n      <td>200</td>\n      <td>42.0</td>\n      <td>41.0</td>\n      <td>96.21</td>\n      <td>0.0</td>\n      <td>0.00000</td>\n      <td>0.000000</td>\n      <td>0.00</td>\n      <td>1019.2</td>\n      <td>1.50</td>\n      <td>5.500000</td>\n      <td>6.700000</td>\n    </tr>\n    <tr>\n      <th>8436</th>\n      <td>27</td>\n      <td>2.0</td>\n      <td>1089</td>\n      <td>1.0</td>\n      <td>185</td>\n      <td>42.0</td>\n      <td>41.0</td>\n      <td>96.21</td>\n      <td>0.0</td>\n      <td>0.00000</td>\n      <td>0.000000</td>\n      <td>0.00</td>\n      <td>1019.2</td>\n      <td>1.50</td>\n      <td>5.416667</td>\n      <td>8.650000</td>\n    </tr>\n    <tr>\n      <th>8437</th>\n      <td>16</td>\n      <td>240.0</td>\n      <td>1089</td>\n      <td>7.0</td>\n      <td>189</td>\n      <td>26.0</td>\n      <td>23.0</td>\n      <td>88.23</td>\n      <td>330.0</td>\n      <td>4.60312</td>\n      <td>5.297178</td>\n      <td>0.01</td>\n      <td>1020.9</td>\n      <td>1.25</td>\n      <td>5.416667</td>\n      <td>8.650000</td>\n    </tr>\n    <tr>\n      <th>8438</th>\n      <td>27</td>\n      <td>-5.0</td>\n      <td>209</td>\n      <td>17.0</td>\n      <td>95</td>\n      <td>42.0</td>\n      <td>39.0</td>\n      <td>89.01</td>\n      <td>160.0</td>\n      <td>4.60312</td>\n      <td>5.297178</td>\n      <td>0.00</td>\n      <td>1023.2</td>\n      <td>10.00</td>\n      <td>23.000000</td>\n      <td>0.450000</td>\n    </tr>\n    <tr>\n      <th>8439</th>\n      <td>18</td>\n      <td>4.0</td>\n      <td>1089</td>\n      <td>25.0</td>\n      <td>162</td>\n      <td>22.0</td>\n      <td>6.0</td>\n      <td>49.57</td>\n      <td>260.0</td>\n      <td>16.11092</td>\n      <td>18.540125</td>\n      <td>0.00</td>\n      <td>1021.4</td>\n      <td>10.00</td>\n      <td>5.416667</td>\n      <td>8.650000</td>\n    </tr>\n  </tbody>\n</table>\n<p>7358 rows × 16 columns</p>\n</div>"
     },
     "execution_count": 49,
     "metadata": {},
     "output_type": "execute_result"
    }
   ],
   "source": [],
   "metadata": {
    "collapsed": false,
    "ExecuteTime": {
     "end_time": "2025-04-16T01:09:28.152949Z",
     "start_time": "2025-04-16T01:09:28.138459Z"
    }
   },
   "id": "50fd2d0bcf876bd7"
  }
 ],
 "metadata": {
  "kernelspec": {
   "display_name": "Python 3",
   "language": "python",
   "name": "python3"
  },
  "language_info": {
   "codemirror_mode": {
    "name": "ipython",
    "version": 2
   },
   "file_extension": ".py",
   "mimetype": "text/x-python",
   "name": "python",
   "nbconvert_exporter": "python",
   "pygments_lexer": "ipython2",
   "version": "2.7.6"
  }
 },
 "nbformat": 4,
 "nbformat_minor": 5
}
