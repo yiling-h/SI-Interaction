{
 "cells": [
  {
   "cell_type": "code",
   "execution_count": 4,
   "id": "initial_id",
   "metadata": {
    "collapsed": true,
    "ExecuteTime": {
     "end_time": "2025-02-21T04:29:54.500495Z",
     "start_time": "2025-02-21T04:29:54.494589Z"
    }
   },
   "outputs": [],
   "source": [
    "import pandas as pd\n",
    "import numpy as np\n",
    "from datetime import datetime"
   ]
  },
  {
   "cell_type": "code",
   "execution_count": 10,
   "outputs": [],
   "source": [
    "fpw = pd.read_csv(\"fpw.csv\", index_col=0)"
   ],
   "metadata": {
    "collapsed": false,
    "ExecuteTime": {
     "end_time": "2025-02-21T04:31:21.978594Z",
     "start_time": "2025-02-21T04:31:21.961237Z"
    }
   },
   "id": "2f2c87fa2b52e552"
  },
  {
   "cell_type": "code",
   "execution_count": 14,
   "outputs": [
    {
     "data": {
      "text/plain": "      day  dep_delay  distance  plane_age  seats  temp  dewp  humid  wind_dir  \\\n0       1       28.0       187       18.0     20  42.0  30.0  62.18     360.0   \n1       1      -12.0      1576       21.0    200  42.0  30.0  62.18     360.0   \n2       1        6.0      1041       18.0     20  41.0  30.0  64.63     250.0   \n3       1       -7.0      1182       24.0    145  41.0  30.0  64.63     250.0   \n4       1       -4.0      1029       22.0    145  41.0  30.0  64.63     250.0   \n...   ...        ...       ...        ...    ...   ...   ...    ...       ...   \n8435   27       -3.0       187       11.0    200  42.0  41.0  96.21       0.0   \n8436   27        2.0      1089        1.0    185  42.0  41.0  96.21       0.0   \n8437   16      240.0      1089        7.0    189  26.0  23.0  88.23     330.0   \n8438   27       -5.0       209       17.0     95  42.0  39.0  89.01     160.0   \n8439   18        4.0      1089       25.0    162  22.0   6.0  49.57     260.0   \n\n      wind_speed  wind_gust  precip  pressure  visib  sched_dep_hour  \\\n0        9.20624  10.594357    0.00    1017.8  10.00              23   \n1        9.20624  10.594357    0.00    1017.8  10.00              23   \n2        9.20624  10.594357    0.00    1015.7  10.00               8   \n3        9.20624  10.594357    0.00    1015.7  10.00               8   \n4        9.20624  10.594357    0.00    1015.7  10.00               8   \n...          ...        ...     ...       ...    ...             ...   \n8435     0.00000   0.000000    0.00    1019.2   1.50               5   \n8436     0.00000   0.000000    0.00    1019.2   1.50               5   \n8437     4.60312   5.297178    0.01    1020.9   1.25               5   \n8438     4.60312   5.297178    0.00    1023.2  10.00              23   \n8439    16.11092  18.540125    0.00    1021.4  10.00               5   \n\n      sched_arr_hour  \n0                  0  \n1                  4  \n2                 11  \n3                 10  \n4                 10  \n...              ...  \n8435               6  \n8436               8  \n8437               8  \n8438               0  \n8439               8  \n\n[7358 rows x 16 columns]",
      "text/html": "<div>\n<style scoped>\n    .dataframe tbody tr th:only-of-type {\n        vertical-align: middle;\n    }\n\n    .dataframe tbody tr th {\n        vertical-align: top;\n    }\n\n    .dataframe thead th {\n        text-align: right;\n    }\n</style>\n<table border=\"1\" class=\"dataframe\">\n  <thead>\n    <tr style=\"text-align: right;\">\n      <th></th>\n      <th>day</th>\n      <th>dep_delay</th>\n      <th>distance</th>\n      <th>plane_age</th>\n      <th>seats</th>\n      <th>temp</th>\n      <th>dewp</th>\n      <th>humid</th>\n      <th>wind_dir</th>\n      <th>wind_speed</th>\n      <th>wind_gust</th>\n      <th>precip</th>\n      <th>pressure</th>\n      <th>visib</th>\n      <th>sched_dep_hour</th>\n      <th>sched_arr_hour</th>\n    </tr>\n  </thead>\n  <tbody>\n    <tr>\n      <th>0</th>\n      <td>1</td>\n      <td>28.0</td>\n      <td>187</td>\n      <td>18.0</td>\n      <td>20</td>\n      <td>42.0</td>\n      <td>30.0</td>\n      <td>62.18</td>\n      <td>360.0</td>\n      <td>9.20624</td>\n      <td>10.594357</td>\n      <td>0.00</td>\n      <td>1017.8</td>\n      <td>10.00</td>\n      <td>23</td>\n      <td>0</td>\n    </tr>\n    <tr>\n      <th>1</th>\n      <td>1</td>\n      <td>-12.0</td>\n      <td>1576</td>\n      <td>21.0</td>\n      <td>200</td>\n      <td>42.0</td>\n      <td>30.0</td>\n      <td>62.18</td>\n      <td>360.0</td>\n      <td>9.20624</td>\n      <td>10.594357</td>\n      <td>0.00</td>\n      <td>1017.8</td>\n      <td>10.00</td>\n      <td>23</td>\n      <td>4</td>\n    </tr>\n    <tr>\n      <th>2</th>\n      <td>1</td>\n      <td>6.0</td>\n      <td>1041</td>\n      <td>18.0</td>\n      <td>20</td>\n      <td>41.0</td>\n      <td>30.0</td>\n      <td>64.63</td>\n      <td>250.0</td>\n      <td>9.20624</td>\n      <td>10.594357</td>\n      <td>0.00</td>\n      <td>1015.7</td>\n      <td>10.00</td>\n      <td>8</td>\n      <td>11</td>\n    </tr>\n    <tr>\n      <th>3</th>\n      <td>1</td>\n      <td>-7.0</td>\n      <td>1182</td>\n      <td>24.0</td>\n      <td>145</td>\n      <td>41.0</td>\n      <td>30.0</td>\n      <td>64.63</td>\n      <td>250.0</td>\n      <td>9.20624</td>\n      <td>10.594357</td>\n      <td>0.00</td>\n      <td>1015.7</td>\n      <td>10.00</td>\n      <td>8</td>\n      <td>10</td>\n    </tr>\n    <tr>\n      <th>4</th>\n      <td>1</td>\n      <td>-4.0</td>\n      <td>1029</td>\n      <td>22.0</td>\n      <td>145</td>\n      <td>41.0</td>\n      <td>30.0</td>\n      <td>64.63</td>\n      <td>250.0</td>\n      <td>9.20624</td>\n      <td>10.594357</td>\n      <td>0.00</td>\n      <td>1015.7</td>\n      <td>10.00</td>\n      <td>8</td>\n      <td>10</td>\n    </tr>\n    <tr>\n      <th>...</th>\n      <td>...</td>\n      <td>...</td>\n      <td>...</td>\n      <td>...</td>\n      <td>...</td>\n      <td>...</td>\n      <td>...</td>\n      <td>...</td>\n      <td>...</td>\n      <td>...</td>\n      <td>...</td>\n      <td>...</td>\n      <td>...</td>\n      <td>...</td>\n      <td>...</td>\n      <td>...</td>\n    </tr>\n    <tr>\n      <th>8435</th>\n      <td>27</td>\n      <td>-3.0</td>\n      <td>187</td>\n      <td>11.0</td>\n      <td>200</td>\n      <td>42.0</td>\n      <td>41.0</td>\n      <td>96.21</td>\n      <td>0.0</td>\n      <td>0.00000</td>\n      <td>0.000000</td>\n      <td>0.00</td>\n      <td>1019.2</td>\n      <td>1.50</td>\n      <td>5</td>\n      <td>6</td>\n    </tr>\n    <tr>\n      <th>8436</th>\n      <td>27</td>\n      <td>2.0</td>\n      <td>1089</td>\n      <td>1.0</td>\n      <td>185</td>\n      <td>42.0</td>\n      <td>41.0</td>\n      <td>96.21</td>\n      <td>0.0</td>\n      <td>0.00000</td>\n      <td>0.000000</td>\n      <td>0.00</td>\n      <td>1019.2</td>\n      <td>1.50</td>\n      <td>5</td>\n      <td>8</td>\n    </tr>\n    <tr>\n      <th>8437</th>\n      <td>16</td>\n      <td>240.0</td>\n      <td>1089</td>\n      <td>7.0</td>\n      <td>189</td>\n      <td>26.0</td>\n      <td>23.0</td>\n      <td>88.23</td>\n      <td>330.0</td>\n      <td>4.60312</td>\n      <td>5.297178</td>\n      <td>0.01</td>\n      <td>1020.9</td>\n      <td>1.25</td>\n      <td>5</td>\n      <td>8</td>\n    </tr>\n    <tr>\n      <th>8438</th>\n      <td>27</td>\n      <td>-5.0</td>\n      <td>209</td>\n      <td>17.0</td>\n      <td>95</td>\n      <td>42.0</td>\n      <td>39.0</td>\n      <td>89.01</td>\n      <td>160.0</td>\n      <td>4.60312</td>\n      <td>5.297178</td>\n      <td>0.00</td>\n      <td>1023.2</td>\n      <td>10.00</td>\n      <td>23</td>\n      <td>0</td>\n    </tr>\n    <tr>\n      <th>8439</th>\n      <td>18</td>\n      <td>4.0</td>\n      <td>1089</td>\n      <td>25.0</td>\n      <td>162</td>\n      <td>22.0</td>\n      <td>6.0</td>\n      <td>49.57</td>\n      <td>260.0</td>\n      <td>16.11092</td>\n      <td>18.540125</td>\n      <td>0.00</td>\n      <td>1021.4</td>\n      <td>10.00</td>\n      <td>5</td>\n      <td>8</td>\n    </tr>\n  </tbody>\n</table>\n<p>7358 rows × 16 columns</p>\n</div>"
     },
     "execution_count": 14,
     "metadata": {},
     "output_type": "execute_result"
    }
   ],
   "source": [
    "fpw"
   ],
   "metadata": {
    "collapsed": false,
    "ExecuteTime": {
     "end_time": "2025-02-21T06:08:14.229922Z",
     "start_time": "2025-02-21T06:08:14.209683Z"
    }
   },
   "id": "7151f358fc2f63a5"
  },
  {
   "cell_type": "code",
   "execution_count": 13,
   "outputs": [
    {
     "data": {
      "text/plain": "day                 8.883416\ndep_delay          52.603051\ndistance          879.642788\nplane_age           7.067966\nseats             111.433964\ntemp                8.080623\ndewp               11.566432\nhumid              17.956340\nwind_dir          116.555662\nwind_speed          5.834810\nwind_gust           6.714582\nprecip              0.004617\npressure            9.718189\nvisib               2.753055\nsched_dep_hour      4.819892\nsched_arr_hour      5.442576\ndtype: float64"
     },
     "execution_count": 13,
     "metadata": {},
     "output_type": "execute_result"
    }
   ],
   "source": [
    "fpw.std()"
   ],
   "metadata": {
    "collapsed": false,
    "ExecuteTime": {
     "end_time": "2025-02-21T04:36:19.421229Z",
     "start_time": "2025-02-21T04:36:19.409570Z"
    }
   },
   "id": "e3577dcc1ad48133"
  },
  {
   "cell_type": "code",
   "execution_count": 16,
   "outputs": [],
   "source": [
    "Y = fpw[\"dep_delay\"]\n",
    "X = fpw.drop([\"dep_delay\", 'day'], axis=1)"
   ],
   "metadata": {
    "collapsed": false,
    "ExecuteTime": {
     "end_time": "2025-02-21T06:32:47.772288Z",
     "start_time": "2025-02-21T06:32:47.763228Z"
    }
   },
   "id": "118b0d2e43495c24"
  },
  {
   "cell_type": "code",
   "execution_count": 17,
   "outputs": [],
   "source": [
    "from sklearn.model_selection import train_test_split\n",
    "x_train, x_test, y_train, y_test = train_test_split(X, Y, test_size=0.2, random_state=48105)"
   ],
   "metadata": {
    "collapsed": false,
    "ExecuteTime": {
     "end_time": "2025-02-21T06:33:20.739721Z",
     "start_time": "2025-02-21T06:33:20.606330Z"
    }
   },
   "id": "71dc706281b2f5d4"
  },
  {
   "cell_type": "code",
   "execution_count": null,
   "outputs": [],
   "source": [],
   "metadata": {
    "collapsed": false
   },
   "id": "3eea8409db18a6ff"
  }
 ],
 "metadata": {
  "kernelspec": {
   "display_name": "Python 3",
   "language": "python",
   "name": "python3"
  },
  "language_info": {
   "codemirror_mode": {
    "name": "ipython",
    "version": 2
   },
   "file_extension": ".py",
   "mimetype": "text/x-python",
   "name": "python",
   "nbconvert_exporter": "python",
   "pygments_lexer": "ipython2",
   "version": "2.7.6"
  }
 },
 "nbformat": 4,
 "nbformat_minor": 5
}
