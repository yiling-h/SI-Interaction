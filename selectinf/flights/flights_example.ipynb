{
 "cells": [
  {
   "cell_type": "code",
   "execution_count": 18,
   "id": "initial_id",
   "metadata": {
    "collapsed": true,
    "ExecuteTime": {
     "end_time": "2025-02-21T20:14:33.547295Z",
     "start_time": "2025-02-21T20:14:33.339237Z"
    }
   },
   "outputs": [],
   "source": [
    "import pandas as pd\n",
    "import numpy as np\n",
    "from datetime import datetime\n",
    "import matplotlib.pyplot as plt\n",
    "import seaborn as sns\n",
    "from sklearn.model_selection import train_test_split\n",
    "from selectinf.Simulation.spline import cubic_spline, b_spline\n",
    "from selectinf.Simulation.H1.nonlinear_H1_helpers import *\n",
    "from selectinf.RealDataHelpers.rdhelpers import *\n",
    "from sklearn.decomposition import PCA"
   ]
  },
  {
   "cell_type": "code",
   "execution_count": 19,
   "outputs": [],
   "source": [
    "fpw = pd.read_csv(\"fpw.csv\", index_col=0)"
   ],
   "metadata": {
    "collapsed": false,
    "ExecuteTime": {
     "end_time": "2025-02-21T20:14:35.161502Z",
     "start_time": "2025-02-21T20:14:35.133365Z"
    }
   },
   "id": "2f2c87fa2b52e552"
  },
  {
   "cell_type": "code",
   "execution_count": 20,
   "outputs": [
    {
     "data": {
      "text/plain": "      day  dep_delay  distance  plane_age  seats  temp  dewp  humid  wind_dir  \\\n0       1       28.0       187       18.0     20  42.0  30.0  62.18     360.0   \n1       1      -12.0      1576       21.0    200  42.0  30.0  62.18     360.0   \n2       1        6.0      1041       18.0     20  41.0  30.0  64.63     250.0   \n3       1       -7.0      1182       24.0    145  41.0  30.0  64.63     250.0   \n4       1       -4.0      1029       22.0    145  41.0  30.0  64.63     250.0   \n...   ...        ...       ...        ...    ...   ...   ...    ...       ...   \n8435   27       -3.0       187       11.0    200  42.0  41.0  96.21       0.0   \n8436   27        2.0      1089        1.0    185  42.0  41.0  96.21       0.0   \n8437   16      240.0      1089        7.0    189  26.0  23.0  88.23     330.0   \n8438   27       -5.0       209       17.0     95  42.0  39.0  89.01     160.0   \n8439   18        4.0      1089       25.0    162  22.0   6.0  49.57     260.0   \n\n      wind_speed  wind_gust  precip  pressure  visib  sched_dep_hour  \\\n0        9.20624  10.594357    0.00    1017.8  10.00              23   \n1        9.20624  10.594357    0.00    1017.8  10.00              23   \n2        9.20624  10.594357    0.00    1015.7  10.00               8   \n3        9.20624  10.594357    0.00    1015.7  10.00               8   \n4        9.20624  10.594357    0.00    1015.7  10.00               8   \n...          ...        ...     ...       ...    ...             ...   \n8435     0.00000   0.000000    0.00    1019.2   1.50               5   \n8436     0.00000   0.000000    0.00    1019.2   1.50               5   \n8437     4.60312   5.297178    0.01    1020.9   1.25               5   \n8438     4.60312   5.297178    0.00    1023.2  10.00              23   \n8439    16.11092  18.540125    0.00    1021.4  10.00               5   \n\n      sched_arr_hour  \n0                  0  \n1                  4  \n2                 11  \n3                 10  \n4                 10  \n...              ...  \n8435               6  \n8436               8  \n8437               8  \n8438               0  \n8439               8  \n\n[7358 rows x 16 columns]",
      "text/html": "<div>\n<style scoped>\n    .dataframe tbody tr th:only-of-type {\n        vertical-align: middle;\n    }\n\n    .dataframe tbody tr th {\n        vertical-align: top;\n    }\n\n    .dataframe thead th {\n        text-align: right;\n    }\n</style>\n<table border=\"1\" class=\"dataframe\">\n  <thead>\n    <tr style=\"text-align: right;\">\n      <th></th>\n      <th>day</th>\n      <th>dep_delay</th>\n      <th>distance</th>\n      <th>plane_age</th>\n      <th>seats</th>\n      <th>temp</th>\n      <th>dewp</th>\n      <th>humid</th>\n      <th>wind_dir</th>\n      <th>wind_speed</th>\n      <th>wind_gust</th>\n      <th>precip</th>\n      <th>pressure</th>\n      <th>visib</th>\n      <th>sched_dep_hour</th>\n      <th>sched_arr_hour</th>\n    </tr>\n  </thead>\n  <tbody>\n    <tr>\n      <th>0</th>\n      <td>1</td>\n      <td>28.0</td>\n      <td>187</td>\n      <td>18.0</td>\n      <td>20</td>\n      <td>42.0</td>\n      <td>30.0</td>\n      <td>62.18</td>\n      <td>360.0</td>\n      <td>9.20624</td>\n      <td>10.594357</td>\n      <td>0.00</td>\n      <td>1017.8</td>\n      <td>10.00</td>\n      <td>23</td>\n      <td>0</td>\n    </tr>\n    <tr>\n      <th>1</th>\n      <td>1</td>\n      <td>-12.0</td>\n      <td>1576</td>\n      <td>21.0</td>\n      <td>200</td>\n      <td>42.0</td>\n      <td>30.0</td>\n      <td>62.18</td>\n      <td>360.0</td>\n      <td>9.20624</td>\n      <td>10.594357</td>\n      <td>0.00</td>\n      <td>1017.8</td>\n      <td>10.00</td>\n      <td>23</td>\n      <td>4</td>\n    </tr>\n    <tr>\n      <th>2</th>\n      <td>1</td>\n      <td>6.0</td>\n      <td>1041</td>\n      <td>18.0</td>\n      <td>20</td>\n      <td>41.0</td>\n      <td>30.0</td>\n      <td>64.63</td>\n      <td>250.0</td>\n      <td>9.20624</td>\n      <td>10.594357</td>\n      <td>0.00</td>\n      <td>1015.7</td>\n      <td>10.00</td>\n      <td>8</td>\n      <td>11</td>\n    </tr>\n    <tr>\n      <th>3</th>\n      <td>1</td>\n      <td>-7.0</td>\n      <td>1182</td>\n      <td>24.0</td>\n      <td>145</td>\n      <td>41.0</td>\n      <td>30.0</td>\n      <td>64.63</td>\n      <td>250.0</td>\n      <td>9.20624</td>\n      <td>10.594357</td>\n      <td>0.00</td>\n      <td>1015.7</td>\n      <td>10.00</td>\n      <td>8</td>\n      <td>10</td>\n    </tr>\n    <tr>\n      <th>4</th>\n      <td>1</td>\n      <td>-4.0</td>\n      <td>1029</td>\n      <td>22.0</td>\n      <td>145</td>\n      <td>41.0</td>\n      <td>30.0</td>\n      <td>64.63</td>\n      <td>250.0</td>\n      <td>9.20624</td>\n      <td>10.594357</td>\n      <td>0.00</td>\n      <td>1015.7</td>\n      <td>10.00</td>\n      <td>8</td>\n      <td>10</td>\n    </tr>\n    <tr>\n      <th>...</th>\n      <td>...</td>\n      <td>...</td>\n      <td>...</td>\n      <td>...</td>\n      <td>...</td>\n      <td>...</td>\n      <td>...</td>\n      <td>...</td>\n      <td>...</td>\n      <td>...</td>\n      <td>...</td>\n      <td>...</td>\n      <td>...</td>\n      <td>...</td>\n      <td>...</td>\n      <td>...</td>\n    </tr>\n    <tr>\n      <th>8435</th>\n      <td>27</td>\n      <td>-3.0</td>\n      <td>187</td>\n      <td>11.0</td>\n      <td>200</td>\n      <td>42.0</td>\n      <td>41.0</td>\n      <td>96.21</td>\n      <td>0.0</td>\n      <td>0.00000</td>\n      <td>0.000000</td>\n      <td>0.00</td>\n      <td>1019.2</td>\n      <td>1.50</td>\n      <td>5</td>\n      <td>6</td>\n    </tr>\n    <tr>\n      <th>8436</th>\n      <td>27</td>\n      <td>2.0</td>\n      <td>1089</td>\n      <td>1.0</td>\n      <td>185</td>\n      <td>42.0</td>\n      <td>41.0</td>\n      <td>96.21</td>\n      <td>0.0</td>\n      <td>0.00000</td>\n      <td>0.000000</td>\n      <td>0.00</td>\n      <td>1019.2</td>\n      <td>1.50</td>\n      <td>5</td>\n      <td>8</td>\n    </tr>\n    <tr>\n      <th>8437</th>\n      <td>16</td>\n      <td>240.0</td>\n      <td>1089</td>\n      <td>7.0</td>\n      <td>189</td>\n      <td>26.0</td>\n      <td>23.0</td>\n      <td>88.23</td>\n      <td>330.0</td>\n      <td>4.60312</td>\n      <td>5.297178</td>\n      <td>0.01</td>\n      <td>1020.9</td>\n      <td>1.25</td>\n      <td>5</td>\n      <td>8</td>\n    </tr>\n    <tr>\n      <th>8438</th>\n      <td>27</td>\n      <td>-5.0</td>\n      <td>209</td>\n      <td>17.0</td>\n      <td>95</td>\n      <td>42.0</td>\n      <td>39.0</td>\n      <td>89.01</td>\n      <td>160.0</td>\n      <td>4.60312</td>\n      <td>5.297178</td>\n      <td>0.00</td>\n      <td>1023.2</td>\n      <td>10.00</td>\n      <td>23</td>\n      <td>0</td>\n    </tr>\n    <tr>\n      <th>8439</th>\n      <td>18</td>\n      <td>4.0</td>\n      <td>1089</td>\n      <td>25.0</td>\n      <td>162</td>\n      <td>22.0</td>\n      <td>6.0</td>\n      <td>49.57</td>\n      <td>260.0</td>\n      <td>16.11092</td>\n      <td>18.540125</td>\n      <td>0.00</td>\n      <td>1021.4</td>\n      <td>10.00</td>\n      <td>5</td>\n      <td>8</td>\n    </tr>\n  </tbody>\n</table>\n<p>7358 rows × 16 columns</p>\n</div>"
     },
     "execution_count": 20,
     "metadata": {},
     "output_type": "execute_result"
    }
   ],
   "source": [
    "fpw"
   ],
   "metadata": {
    "collapsed": false,
    "ExecuteTime": {
     "end_time": "2025-02-21T20:14:35.457025Z",
     "start_time": "2025-02-21T20:14:35.444143Z"
    }
   },
   "id": "7151f358fc2f63a5"
  },
  {
   "cell_type": "code",
   "execution_count": 33,
   "outputs": [
    {
     "data": {
      "text/plain": "array([0.    , 0.01  , 0.02  , 0.03  , 0.0001, 0.04  ])"
     },
     "execution_count": 33,
     "metadata": {},
     "output_type": "execute_result"
    }
   ],
   "source": [
    "fpw[\"precip\"].unique()"
   ],
   "metadata": {
    "collapsed": false,
    "ExecuteTime": {
     "end_time": "2025-02-21T20:16:58.741655Z",
     "start_time": "2025-02-21T20:16:58.716150Z"
    }
   },
   "id": "e3577dcc1ad48133"
  },
  {
   "cell_type": "code",
   "execution_count": 73,
   "outputs": [],
   "source": [
    "Y = fpw[\"dep_delay\"]\n",
    "X = fpw.drop([\"dep_delay\", 'day', \"wind_gust\"], axis=1)"
   ],
   "metadata": {
    "collapsed": false,
    "ExecuteTime": {
     "end_time": "2025-02-21T20:35:15.963549Z",
     "start_time": "2025-02-21T20:35:15.949840Z"
    }
   },
   "id": "118b0d2e43495c24"
  },
  {
   "cell_type": "code",
   "execution_count": 161,
   "outputs": [],
   "source": [
    "from sklearn.model_selection import train_test_split\n",
    "x_train, x_test, y_train, y_test = train_test_split(X, Y, test_size=0.95,\n",
    "                                                    random_state=48105)"
   ],
   "metadata": {
    "collapsed": false,
    "ExecuteTime": {
     "end_time": "2025-02-21T20:41:32.395898Z",
     "start_time": "2025-02-21T20:41:32.383764Z"
    }
   },
   "id": "71dc706281b2f5d4"
  },
  {
   "cell_type": "markdown",
   "source": [
    "# Construct splines"
   ],
   "metadata": {
    "collapsed": false
   },
   "id": "dec60c8fe474705a"
  },
  {
   "cell_type": "code",
   "execution_count": 162,
   "outputs": [],
   "source": [
    "def get_splines(x_nl, x_l, nknots, degree, intercept):\n",
    "    bs = b_spline(data_nl=np.array(x_nl), data_l=np.array(x_l), \n",
    "                  nknots=nknots, degree=degree, intercept=intercept)\n",
    "    bs.construct_splines(use_quantiles=True, equally_spaced=False, center=False)\n",
    "    design_train = bs.get_spline_data()\n",
    "    design_train *= np.sqrt(design_train.shape[0])\n",
    "    design_train[:, 0] = 1\n",
    "    # Returning group labels with 0 meaning the intercept (if applicable)\n",
    "    groups = bs.get_groups()\n",
    "\n",
    "    return design_train, groups\n"
   ],
   "metadata": {
    "collapsed": false,
    "ExecuteTime": {
     "end_time": "2025-02-21T20:41:33.289532Z",
     "start_time": "2025-02-21T20:41:33.277952Z"
    }
   },
   "id": "a114963c1ee396a0"
  },
  {
   "cell_type": "code",
   "execution_count": 163,
   "outputs": [],
   "source": [
    "x_train.nunique()\n",
    "linear = list(x_train.columns[x_train.nunique() < 40])"
   ],
   "metadata": {
    "collapsed": false,
    "ExecuteTime": {
     "end_time": "2025-02-21T20:41:33.603121Z",
     "start_time": "2025-02-21T20:41:33.587972Z"
    }
   },
   "id": "c92e92648d25f593"
  },
  {
   "cell_type": "code",
   "execution_count": 164,
   "outputs": [],
   "source": [
    "x_train_nl = x_train.drop(linear, axis=1)\n",
    "x_train_l = x_train[linear]\n",
    "x_test_nl = x_test.drop(linear, axis=1)\n",
    "x_test_l = x_test[linear]"
   ],
   "metadata": {
    "collapsed": false,
    "ExecuteTime": {
     "end_time": "2025-02-21T20:41:33.983667Z",
     "start_time": "2025-02-21T20:41:33.972655Z"
    }
   },
   "id": "50f848666229377"
  },
  {
   "cell_type": "code",
   "execution_count": 165,
   "outputs": [
    {
     "name": "stdout",
     "output_type": "stream",
     "text": [
      "Equally spaced quantile knots used.\n",
      "Equally spaced quantile knots used.\n"
     ]
    }
   ],
   "source": [
    "design_train, groups_train = (\n",
    "        get_splines(x_train_nl, x_train_l, nknots=6, degree=2, intercept=True))\n",
    "design_test, groups_test = (\n",
    "        get_splines(x_test_nl, x_test_l, nknots=6, degree=2, intercept=True))"
   ],
   "metadata": {
    "collapsed": false,
    "ExecuteTime": {
     "end_time": "2025-02-21T20:41:34.339130Z",
     "start_time": "2025-02-21T20:41:34.297808Z"
    }
   },
   "id": "42dddc5afe0d6b38"
  },
  {
   "cell_type": "code",
   "execution_count": 166,
   "outputs": [],
   "source": [
    "# Steps:\n",
    "# 1. Transform training fully for naive and MLE\n",
    "# 2. Transform 90% of training for data splitting's selection\n",
    "# 3. Use 10% of remaining to get the transformed PCs for data splitting's inference\n",
    "# 4. "
   ],
   "metadata": {
    "collapsed": false,
    "ExecuteTime": {
     "end_time": "2025-02-21T20:41:34.870309Z",
     "start_time": "2025-02-21T20:41:34.859578Z"
    }
   },
   "id": "bf5ad2e5a8617dc0"
  },
  {
   "cell_type": "code",
   "execution_count": 167,
   "outputs": [
    {
     "data": {
      "text/plain": "array([[ 1.00000000e+00, -2.82382270e-01, -1.48607054e+00, ...,\n         1.91572441e+02,  3.44830393e+02,  3.83144881e+02],\n       [ 1.00000000e+00, -3.42889987e-02, -8.64822114e-01, ...,\n         1.91572441e+02,  3.63987637e+02,  4.21459369e+02],\n       [ 1.00000000e+00, -3.42889987e-02, -8.64822114e-01, ...,\n         1.91572441e+02,  3.63987637e+02,  4.21459369e+02],\n       ...,\n       [ 1.00000000e+00, -3.89797575e-01, -1.66885261e+00, ...,\n         1.91572441e+02,  2.68201417e+02,  3.06515905e+02],\n       [ 1.00000000e+00, -4.59079262e-02, -2.64939519e-01, ...,\n         1.91572441e+02,  2.68201417e+02,  3.25673149e+02],\n       [ 1.00000000e+00, -1.12802153e+00,  5.93502449e-01, ...,\n         2.87358661e+01,  2.10729685e+02,  2.68201417e+02]])"
     },
     "execution_count": 167,
     "metadata": {},
     "output_type": "execute_result"
    }
   ],
   "source": [
    "design_train"
   ],
   "metadata": {
    "collapsed": false,
    "ExecuteTime": {
     "end_time": "2025-02-21T20:41:35.202684Z",
     "start_time": "2025-02-21T20:41:35.191237Z"
    }
   },
   "id": "abb48a2b4cdca8b5"
  },
  {
   "cell_type": "code",
   "execution_count": 168,
   "outputs": [
    {
     "data": {
      "text/plain": "array([[ 3.67000000e+02, -1.49938522e+02, -2.33783054e+02,\n        -2.26743972e+02,  5.18235806e+01, -2.83006308e+02,\n         8.23416159e+01, -1.72277663e+02,  6.28134187e+01,\n         9.29892627e+04,  1.25449297e+06,  2.57783708e+05,\n         1.47913081e+06,  7.85049988e+04,  1.11954934e+01,\n         6.01677311e+04,  9.29317909e+04,  1.01954853e+05],\n       [-1.49938522e+02,  3.67000000e+02,  4.66293670e-15,\n         7.23137294e+01, -3.21406281e+01,  1.00349896e+02,\n        -2.46329941e+01,  5.76178230e+01, -2.39668142e+01,\n        -4.04820620e+04, -7.25755138e+05, -1.04259554e+05,\n        -6.03296104e+05, -2.83158113e+04, -3.88672624e+00,\n        -2.50936209e+04, -3.61776670e+04, -4.18720024e+04],\n       [-2.33783054e+02,  4.66293670e-15,  3.67000000e+02,\n         1.59543581e+02, -2.83567808e+01,  2.03261335e+02,\n        -5.05196139e+01,  1.18236029e+02, -6.97937733e+00,\n        -6.71350067e+04, -3.39591129e+05, -1.64094760e+05,\n        -9.41442633e+05, -5.06960275e+04, -8.71644001e+00,\n        -3.68545938e+04, -6.33199336e+04, -6.98124427e+04],\n       [-2.26743972e+02,  7.23137294e+01,  1.59543581e+02,\n         3.67000000e+02, -1.24344979e-14,  2.66456208e+02,\n        -8.55923694e+01,  9.89852115e+01, -1.13065793e+01,\n        -5.70402170e+04, -7.39527878e+05, -1.36897518e+05,\n        -1.06268567e+06, -5.59757964e+04, -4.25063419e+00,\n        -3.66596506e+04, -5.53463835e+04, -6.31897585e+04],\n       [ 5.18235806e+01, -3.21406281e+01, -2.83567808e+01,\n        -1.24344979e-14,  3.67000000e+02,  3.37685202e+01,\n         2.92755547e+02,  6.48366595e+01, -2.81454582e+01,\n         1.27054968e+04,  1.87982483e+05, -3.10762996e+02,\n         4.83754171e+05,  1.79549468e+04, -7.48928726e+00,\n         2.19960042e+04,  9.76286120e+03,  1.22039862e+04],\n       [-2.83006308e+02,  1.00349896e+02,  2.03261335e+02,\n         2.66456208e+02,  3.37685202e+01,  3.67000000e+02,\n        -3.01980663e-14,  1.49663412e+02, -5.89504337e+01,\n        -7.32264098e+04, -9.31846477e+05, -2.01657828e+05,\n        -1.17714113e+06, -6.43287805e+04, -1.16979781e+01,\n        -4.11685996e+04, -7.43684035e+04, -8.14161355e+04],\n       [ 8.23416159e+01, -2.46329941e+01, -5.05196139e+01,\n        -8.55923694e+01,  2.92755547e+02, -3.01980663e-14,\n         3.67000000e+02,  1.19372019e+01, -2.65713271e+01,\n         2.06665363e+04,  2.60564495e+05,  3.47335715e+04,\n         7.12394942e+05,  2.78816905e+04, -1.21632632e+01,\n         2.93303801e+04,  2.24018604e+04,  2.44471163e+04],\n       [-1.72277663e+02,  5.76178230e+01,  1.18236029e+02,\n         9.89852115e+01,  6.48366595e+01,  1.49663412e+02,\n         1.19372019e+01,  3.67000000e+02,  5.32907052e-15,\n        -4.11768238e+04, -5.58949031e+05, -1.35469687e+05,\n        -7.16249368e+05, -5.14296796e+04, -4.26301858e+00,\n        -2.56697208e+04, -4.50545689e+04, -4.93514593e+04],\n       [ 6.28134187e+01, -2.39668142e+01, -6.97937733e+00,\n        -1.13065793e+01, -2.81454582e+01, -5.89504337e+01,\n        -2.65713271e+01,  5.32907052e-15,  3.67000000e+02,\n         2.06443250e+04,  2.93162619e+05,  5.22939305e+04,\n         2.46932331e+05,  2.61758488e+04,  6.45900980e+00,\n         7.19981343e+03,  1.82467936e+04,  1.56169968e+04],\n       [ 9.29892627e+04, -4.04820620e+04, -6.71350067e+04,\n        -5.70402170e+04,  1.27054968e+04, -7.32264098e+04,\n         2.06665363e+04, -4.11768238e+04,  2.06443250e+04,\n         2.95985500e+07,  2.97101180e+08,  6.55889922e+07,\n         3.67554170e+08,  1.98468479e+07,  3.03732870e+03,\n         1.51192146e+07,  2.38931680e+07,  2.62291230e+07],\n       [ 1.25449297e+06, -7.25755138e+05, -3.39591129e+05,\n        -7.39527878e+05,  1.87982483e+05, -9.31846477e+05,\n         2.60564495e+05, -5.58949031e+05,  2.93162619e+05,\n         2.97101180e+08,  5.96742587e+09,  8.79659731e+08,\n         5.02086828e+09,  2.67124306e+08,  3.78035690e+04,\n         2.07457804e+08,  3.06717314e+08,  3.31879201e+08],\n       [ 2.57783708e+05, -1.04259554e+05, -1.64094760e+05,\n        -1.36897518e+05, -3.10762996e+02, -2.01657828e+05,\n         3.47335715e+04, -1.35469687e+05,  5.22939305e+04,\n         6.55889922e+07,  8.79659731e+08,  1.89837987e+08,\n         1.00896961e+09,  5.40786377e+07,  8.52819920e+03,\n         4.12473796e+07,  6.67937798e+07,  7.24882986e+07],\n       [ 1.47913081e+06, -6.03296104e+05, -9.41442633e+05,\n        -1.06268567e+06,  4.83754171e+05, -1.17714113e+06,\n         7.12394942e+05, -7.16249368e+05,  2.46932331e+05,\n         3.67554170e+08,  5.02086828e+09,  1.00896961e+09,\n         7.71356930e+09,  3.47540508e+08,  2.38149970e+04,\n         2.58695144e+08,  3.71088380e+08,  4.05586380e+08],\n       [ 7.85049988e+04, -2.83158113e+04, -5.06960275e+04,\n        -5.59757964e+04,  1.79549468e+04, -6.43287805e+04,\n         2.78816905e+04, -5.14296796e+04,  2.61758488e+04,\n         1.98468479e+07,  2.67124306e+08,  5.40786377e+07,\n         3.47540508e+08,  2.12675795e+07,  2.41673478e+03,\n         1.31736689e+07,  1.98945719e+07,  2.19534611e+07],\n       [ 1.11954934e+01, -3.88672624e+00, -8.71644001e+00,\n        -4.25063419e+00, -7.48928726e+00, -1.16979781e+01,\n        -1.21632632e+01, -4.26301858e+00,  6.45900980e+00,\n         3.03732870e+03,  3.78035690e+04,  8.52819920e+03,\n         2.38149970e+04,  2.41673478e+03,  3.22976148e+00,\n         9.62475116e+02,  2.55692570e+03,  2.99626140e+03],\n       [ 6.01677311e+04, -2.50936209e+04, -3.68545938e+04,\n        -3.66596506e+04,  2.19960042e+04, -4.11685996e+04,\n         2.93303801e+04, -2.56697208e+04,  7.19981343e+03,\n         1.51192146e+07,  2.07457804e+08,  4.12473796e+07,\n         2.58695144e+08,  1.31736689e+07,  9.62475116e+02,\n         1.09599697e+07,  1.52668220e+07,  1.67080126e+07],\n       [ 9.29317909e+04, -3.61776670e+04, -6.33199336e+04,\n        -5.53463835e+04,  9.76286120e+03, -7.43684035e+04,\n         2.24018604e+04, -4.50545689e+04,  1.82467936e+04,\n         2.38931680e+07,  3.06717314e+08,  6.67937798e+07,\n         3.71088380e+08,  1.98945719e+07,  2.55692570e+03,\n         1.52668220e+07,  2.67172330e+07,  2.74578390e+07],\n       [ 1.01954853e+05, -4.18720024e+04, -6.98124427e+04,\n        -6.31897585e+04,  1.22039862e+04, -8.14161355e+04,\n         2.44471163e+04, -4.93514593e+04,  1.56169968e+04,\n         2.62291230e+07,  3.31879201e+08,  7.24882986e+07,\n         4.05586380e+08,  2.19534611e+07,  2.99626140e+03,\n         1.67080126e+07,  2.74578390e+07,  3.25059240e+07]])"
     },
     "execution_count": 168,
     "metadata": {},
     "output_type": "execute_result"
    }
   ],
   "source": [
    "design_train.T @ design_train"
   ],
   "metadata": {
    "collapsed": false,
    "ExecuteTime": {
     "end_time": "2025-02-21T20:41:35.541742Z",
     "start_time": "2025-02-21T20:41:35.527541Z"
    }
   },
   "id": "e70f2fef2620027c"
  },
  {
   "cell_type": "code",
   "execution_count": 169,
   "outputs": [
    {
     "data": {
      "text/plain": "array([[ 1.00000000e+00, -2.82382270e-01, -1.48607054e+00, ...,\n         1.91572441e+02,  3.44830393e+02,  3.83144881e+02],\n       [ 1.00000000e+00, -3.42889987e-02, -8.64822114e-01, ...,\n         1.91572441e+02,  3.63987637e+02,  4.21459369e+02],\n       [ 1.00000000e+00, -3.42889987e-02, -8.64822114e-01, ...,\n         1.91572441e+02,  3.63987637e+02,  4.21459369e+02],\n       ...,\n       [ 1.00000000e+00, -3.89797575e-01, -1.66885261e+00, ...,\n         1.91572441e+02,  2.68201417e+02,  3.06515905e+02],\n       [ 1.00000000e+00, -4.59079262e-02, -2.64939519e-01, ...,\n         1.91572441e+02,  2.68201417e+02,  3.25673149e+02],\n       [ 1.00000000e+00, -1.12802153e+00,  5.93502449e-01, ...,\n         2.87358661e+01,  2.10729685e+02,  2.68201417e+02]])"
     },
     "execution_count": 169,
     "metadata": {},
     "output_type": "execute_result"
    }
   ],
   "source": [
    "design_train"
   ],
   "metadata": {
    "collapsed": false,
    "ExecuteTime": {
     "end_time": "2025-02-21T20:41:35.926524Z",
     "start_time": "2025-02-21T20:41:35.902777Z"
    }
   },
   "id": "52e9524e1d986f68"
  },
  {
   "cell_type": "code",
   "execution_count": 169,
   "outputs": [],
   "source": [],
   "metadata": {
    "collapsed": false,
    "ExecuteTime": {
     "end_time": "2025-02-21T20:41:36.893524Z",
     "start_time": "2025-02-21T20:41:36.879769Z"
    }
   },
   "id": "d6a058635be6f731"
  },
  {
   "cell_type": "code",
   "execution_count": 192,
   "outputs": [
    {
     "name": "stdout",
     "output_type": "stream",
     "text": [
      "Selected groups: [0, 4, 5, 6, 7, 8, 9, 11, 12, 13]\n",
      "Naive Selected Groups: 10\n"
     ]
    }
   ],
   "source": [
    "const = group_lasso.gaussian\n",
    "result_naive, nonzero_naive, selected_groups_naive \\\n",
    "    = naive_inference_real_data(X=design_train, Y=np.array(y_train), \n",
    "                                raw_data=np.array(x_train), \n",
    "                                groups=groups_train, const=const,\n",
    "                                n_features=x_train.shape[1], \n",
    "                                intercept=True, weight_frac=1, level=0.9,\n",
    "                                mode=\"weakhierarchy\", root_n_scaled=False)"
   ],
   "metadata": {
    "collapsed": false,
    "ExecuteTime": {
     "end_time": "2025-02-21T20:42:40.829723Z",
     "start_time": "2025-02-21T20:42:38.139361Z"
    }
   },
   "id": "37ef330611eb6fc2"
  },
  {
   "cell_type": "code",
   "execution_count": 193,
   "outputs": [
    {
     "data": {
      "text/plain": "    i   j          CI_l      CI_u  beta_hat      pval\n1   0   4  5.998946e-06  0.000385  0.000195  0.088874\n2   0   5  7.855609e-08  0.000150  0.000075  0.098763\n5   0   8  1.483645e-01  1.673687  0.911026  0.048841\n10  1   4 -8.540047e-02 -0.003719 -0.044560  0.071967\n33  3  10  2.967577e-02  0.420132  0.224904  0.057454\n67  9  11  4.022288e-02  0.203263  0.121743  0.013783",
      "text/html": "<div>\n<style scoped>\n    .dataframe tbody tr th:only-of-type {\n        vertical-align: middle;\n    }\n\n    .dataframe tbody tr th {\n        vertical-align: top;\n    }\n\n    .dataframe thead th {\n        text-align: right;\n    }\n</style>\n<table border=\"1\" class=\"dataframe\">\n  <thead>\n    <tr style=\"text-align: right;\">\n      <th></th>\n      <th>i</th>\n      <th>j</th>\n      <th>CI_l</th>\n      <th>CI_u</th>\n      <th>beta_hat</th>\n      <th>pval</th>\n    </tr>\n  </thead>\n  <tbody>\n    <tr>\n      <th>1</th>\n      <td>0</td>\n      <td>4</td>\n      <td>5.998946e-06</td>\n      <td>0.000385</td>\n      <td>0.000195</td>\n      <td>0.088874</td>\n    </tr>\n    <tr>\n      <th>2</th>\n      <td>0</td>\n      <td>5</td>\n      <td>7.855609e-08</td>\n      <td>0.000150</td>\n      <td>0.000075</td>\n      <td>0.098763</td>\n    </tr>\n    <tr>\n      <th>5</th>\n      <td>0</td>\n      <td>8</td>\n      <td>1.483645e-01</td>\n      <td>1.673687</td>\n      <td>0.911026</td>\n      <td>0.048841</td>\n    </tr>\n    <tr>\n      <th>10</th>\n      <td>1</td>\n      <td>4</td>\n      <td>-8.540047e-02</td>\n      <td>-0.003719</td>\n      <td>-0.044560</td>\n      <td>0.071967</td>\n    </tr>\n    <tr>\n      <th>33</th>\n      <td>3</td>\n      <td>10</td>\n      <td>2.967577e-02</td>\n      <td>0.420132</td>\n      <td>0.224904</td>\n      <td>0.057454</td>\n    </tr>\n    <tr>\n      <th>67</th>\n      <td>9</td>\n      <td>11</td>\n      <td>4.022288e-02</td>\n      <td>0.203263</td>\n      <td>0.121743</td>\n      <td>0.013783</td>\n    </tr>\n  </tbody>\n</table>\n</div>"
     },
     "execution_count": 193,
     "metadata": {},
     "output_type": "execute_result"
    }
   ],
   "source": [
    "pd.DataFrame(result_naive)[pd.DataFrame(result_naive)['pval'] < 0.1]"
   ],
   "metadata": {
    "collapsed": false,
    "ExecuteTime": {
     "end_time": "2025-02-21T20:42:40.843733Z",
     "start_time": "2025-02-21T20:42:40.840603Z"
    }
   },
   "id": "cb1b7a5ec3b4a346"
  },
  {
   "cell_type": "code",
   "execution_count": 194,
   "outputs": [
    {
     "name": "stdout",
     "output_type": "stream",
     "text": [
      "Selected groups: [0, 4, 5, 6, 7, 8, 9, 11, 12, 13]\n",
      "MLE Selected Groups: 10\n"
     ]
    }
   ],
   "source": [
    "result_MLE, nonzero_MLE, selected_groups_MLE\\\n",
    "    = MLE_inference_real_data(X=design_train, Y=np.array(y_train), \n",
    "                              raw_data=np.array(x_train), groups=groups_train, \n",
    "                              n_features=x_train.shape[1], \n",
    "                              intercept=True, weight_frac=1, level=0.9, \n",
    "                              mode=\"weakhierarchy\", \n",
    "                              root_n_scaled=False, proportion=0.9)"
   ],
   "metadata": {
    "collapsed": false,
    "ExecuteTime": {
     "end_time": "2025-02-21T20:42:51.272863Z",
     "start_time": "2025-02-21T20:42:40.845684Z"
    }
   },
   "id": "3bbb784718033a63"
  },
  {
   "cell_type": "code",
   "execution_count": 195,
   "outputs": [
    {
     "data": {
      "text/plain": "     i   j       CI_l       CI_u   beta_hat           pval\n1    0   4   0.000096   0.001125   0.000611   5.111640e-02\n2    0   5   0.000134   0.000569   0.000352   7.892693e-03\n3    0   6  -0.000908  -0.000801  -0.000855  6.431335e-151\n4    0   7  -0.012682  -0.010208  -0.011445   2.648483e-52\n5    0   8  -6.270124  -2.781589  -4.525857   1.973154e-05\n..  ..  ..        ...        ...        ...            ...\n67   9  11  -9.759472  -9.552653  -9.656063   0.000000e+00\n68   9  12  -6.285534  -6.120508  -6.203021   0.000000e+00\n69  10  11  -9.899123  -9.167095  -9.533109   0.000000e+00\n70  10  12 -12.948571 -12.304919 -12.626745   0.000000e+00\n71  11  12  16.180597  16.731090  16.455843   0.000000e+00\n\n[66 rows x 6 columns]",
      "text/html": "<div>\n<style scoped>\n    .dataframe tbody tr th:only-of-type {\n        vertical-align: middle;\n    }\n\n    .dataframe tbody tr th {\n        vertical-align: top;\n    }\n\n    .dataframe thead th {\n        text-align: right;\n    }\n</style>\n<table border=\"1\" class=\"dataframe\">\n  <thead>\n    <tr style=\"text-align: right;\">\n      <th></th>\n      <th>i</th>\n      <th>j</th>\n      <th>CI_l</th>\n      <th>CI_u</th>\n      <th>beta_hat</th>\n      <th>pval</th>\n    </tr>\n  </thead>\n  <tbody>\n    <tr>\n      <th>1</th>\n      <td>0</td>\n      <td>4</td>\n      <td>0.000096</td>\n      <td>0.001125</td>\n      <td>0.000611</td>\n      <td>5.111640e-02</td>\n    </tr>\n    <tr>\n      <th>2</th>\n      <td>0</td>\n      <td>5</td>\n      <td>0.000134</td>\n      <td>0.000569</td>\n      <td>0.000352</td>\n      <td>7.892693e-03</td>\n    </tr>\n    <tr>\n      <th>3</th>\n      <td>0</td>\n      <td>6</td>\n      <td>-0.000908</td>\n      <td>-0.000801</td>\n      <td>-0.000855</td>\n      <td>6.431335e-151</td>\n    </tr>\n    <tr>\n      <th>4</th>\n      <td>0</td>\n      <td>7</td>\n      <td>-0.012682</td>\n      <td>-0.010208</td>\n      <td>-0.011445</td>\n      <td>2.648483e-52</td>\n    </tr>\n    <tr>\n      <th>5</th>\n      <td>0</td>\n      <td>8</td>\n      <td>-6.270124</td>\n      <td>-2.781589</td>\n      <td>-4.525857</td>\n      <td>1.973154e-05</td>\n    </tr>\n    <tr>\n      <th>...</th>\n      <td>...</td>\n      <td>...</td>\n      <td>...</td>\n      <td>...</td>\n      <td>...</td>\n      <td>...</td>\n    </tr>\n    <tr>\n      <th>67</th>\n      <td>9</td>\n      <td>11</td>\n      <td>-9.759472</td>\n      <td>-9.552653</td>\n      <td>-9.656063</td>\n      <td>0.000000e+00</td>\n    </tr>\n    <tr>\n      <th>68</th>\n      <td>9</td>\n      <td>12</td>\n      <td>-6.285534</td>\n      <td>-6.120508</td>\n      <td>-6.203021</td>\n      <td>0.000000e+00</td>\n    </tr>\n    <tr>\n      <th>69</th>\n      <td>10</td>\n      <td>11</td>\n      <td>-9.899123</td>\n      <td>-9.167095</td>\n      <td>-9.533109</td>\n      <td>0.000000e+00</td>\n    </tr>\n    <tr>\n      <th>70</th>\n      <td>10</td>\n      <td>12</td>\n      <td>-12.948571</td>\n      <td>-12.304919</td>\n      <td>-12.626745</td>\n      <td>0.000000e+00</td>\n    </tr>\n    <tr>\n      <th>71</th>\n      <td>11</td>\n      <td>12</td>\n      <td>16.180597</td>\n      <td>16.731090</td>\n      <td>16.455843</td>\n      <td>0.000000e+00</td>\n    </tr>\n  </tbody>\n</table>\n<p>66 rows × 6 columns</p>\n</div>"
     },
     "execution_count": 195,
     "metadata": {},
     "output_type": "execute_result"
    }
   ],
   "source": [
    "pd.DataFrame(result_MLE)[pd.DataFrame(result_MLE)['pval'] < 0.1]"
   ],
   "metadata": {
    "collapsed": false,
    "ExecuteTime": {
     "end_time": "2025-02-21T20:42:51.283151Z",
     "start_time": "2025-02-21T20:42:51.279689Z"
    }
   },
   "id": "d895735eef763907"
  },
  {
   "cell_type": "markdown",
   "source": [
    "# Validate significant interactions on a holdout set"
   ],
   "metadata": {
    "collapsed": false
   },
   "id": "71d39fc22e1d28e2"
  },
  {
   "cell_type": "code",
   "execution_count": 196,
   "outputs": [],
   "source": [
    "def validate(x_test, design_test, y_test, nonzero, selected_groups, \n",
    "             groups = None, n_features=None, intercept=True, mode=\"allpairs\", level=0.9):\n",
    "    X_E = design_test[:, nonzero]\n",
    "    active_flag = np.zeros(np.unique(groups).shape[0])\n",
    "    active_flag[selected_groups] = 1.\n",
    "    raw_data=np.array(x_test)\n",
    "\n",
    "    if intercept:\n",
    "        active_vars_flag = active_flag[1:]\n",
    "    else:\n",
    "        active_vars_flag = active_flag\n",
    "\n",
    "    data_interaction = {}\n",
    "    task_idx = []\n",
    "    for i in range(n_features):\n",
    "        for j in range(i + 1, n_features):\n",
    "            if mode == \"allpairs\":\n",
    "                task_idx.append((i, j))\n",
    "                data_interaction[(i, j)] = raw_data[:, i] * raw_data[:, j]\n",
    "            elif mode == 'weakhierarchy':\n",
    "                if active_vars_flag[i] or active_vars_flag[j]:\n",
    "                    task_idx.append((i, j))\n",
    "                    data_interaction[(i, j)] = raw_data[:, i] * raw_data[:, j]\n",
    "            elif mode == 'stronghierarchy':\n",
    "                if active_vars_flag[i] and active_vars_flag[j]:\n",
    "                    task_idx.append((i, j))\n",
    "                    data_interaction[(i, j)] = raw_data[:, i] * raw_data[:, j]\n",
    "\n",
    "    result_dict = interaction_t_tests_all(X_E, y_test, n_features,\n",
    "                                          active_vars_flag, data_interaction,\n",
    "                                          level=level, mode=mode)\n",
    "\n",
    "    return result_dict"
   ],
   "metadata": {
    "collapsed": false,
    "ExecuteTime": {
     "end_time": "2025-02-21T20:43:03.093078Z",
     "start_time": "2025-02-21T20:43:03.082582Z"
    }
   },
   "id": "b1ded8609285892d"
  },
  {
   "cell_type": "code",
   "execution_count": 197,
   "outputs": [],
   "source": [
    "result_naive_validate = validate(x_test, design_test, y_test, nonzero_naive, \n",
    "                                 selected_groups_naive, groups = groups_train, \n",
    "                                 n_features=x_train.shape[1],\n",
    "                                 intercept=True, mode=\"weakhierarchy\", level=0.9)"
   ],
   "metadata": {
    "collapsed": false,
    "ExecuteTime": {
     "end_time": "2025-02-21T20:43:13.168714Z",
     "start_time": "2025-02-21T20:43:03.470921Z"
    }
   },
   "id": "d2fbc15682c8b770"
  },
  {
   "cell_type": "code",
   "execution_count": 198,
   "outputs": [
    {
     "data": {
      "text/plain": "     i   j      CI_l      CI_u  beta_hat      pval\n0    0   3 -0.000016  0.000078  0.000031  0.285025\n1    0   4 -0.000039  0.000070  0.000016  0.637015\n2    0   5 -0.000040  0.000006 -0.000017  0.218457\n3    0   6 -0.000002  0.000010  0.000004  0.295011\n4    0   7 -0.000125  0.000121 -0.000002  0.977187\n..  ..  ..       ...       ...       ...       ...\n67   9  11 -0.060116 -0.012799 -0.036458  0.011245\n68   9  12 -0.045121 -0.004087 -0.024604  0.048525\n69  10  11 -0.128064  0.029340 -0.049362  0.302172\n70  10  12 -0.147773 -0.013460 -0.080617  0.048292\n71  11  12 -0.098290  0.012739 -0.042775  0.204951\n\n[72 rows x 6 columns]",
      "text/html": "<div>\n<style scoped>\n    .dataframe tbody tr th:only-of-type {\n        vertical-align: middle;\n    }\n\n    .dataframe tbody tr th {\n        vertical-align: top;\n    }\n\n    .dataframe thead th {\n        text-align: right;\n    }\n</style>\n<table border=\"1\" class=\"dataframe\">\n  <thead>\n    <tr style=\"text-align: right;\">\n      <th></th>\n      <th>i</th>\n      <th>j</th>\n      <th>CI_l</th>\n      <th>CI_u</th>\n      <th>beta_hat</th>\n      <th>pval</th>\n    </tr>\n  </thead>\n  <tbody>\n    <tr>\n      <th>0</th>\n      <td>0</td>\n      <td>3</td>\n      <td>-0.000016</td>\n      <td>0.000078</td>\n      <td>0.000031</td>\n      <td>0.285025</td>\n    </tr>\n    <tr>\n      <th>1</th>\n      <td>0</td>\n      <td>4</td>\n      <td>-0.000039</td>\n      <td>0.000070</td>\n      <td>0.000016</td>\n      <td>0.637015</td>\n    </tr>\n    <tr>\n      <th>2</th>\n      <td>0</td>\n      <td>5</td>\n      <td>-0.000040</td>\n      <td>0.000006</td>\n      <td>-0.000017</td>\n      <td>0.218457</td>\n    </tr>\n    <tr>\n      <th>3</th>\n      <td>0</td>\n      <td>6</td>\n      <td>-0.000002</td>\n      <td>0.000010</td>\n      <td>0.000004</td>\n      <td>0.295011</td>\n    </tr>\n    <tr>\n      <th>4</th>\n      <td>0</td>\n      <td>7</td>\n      <td>-0.000125</td>\n      <td>0.000121</td>\n      <td>-0.000002</td>\n      <td>0.977187</td>\n    </tr>\n    <tr>\n      <th>...</th>\n      <td>...</td>\n      <td>...</td>\n      <td>...</td>\n      <td>...</td>\n      <td>...</td>\n      <td>...</td>\n    </tr>\n    <tr>\n      <th>67</th>\n      <td>9</td>\n      <td>11</td>\n      <td>-0.060116</td>\n      <td>-0.012799</td>\n      <td>-0.036458</td>\n      <td>0.011245</td>\n    </tr>\n    <tr>\n      <th>68</th>\n      <td>9</td>\n      <td>12</td>\n      <td>-0.045121</td>\n      <td>-0.004087</td>\n      <td>-0.024604</td>\n      <td>0.048525</td>\n    </tr>\n    <tr>\n      <th>69</th>\n      <td>10</td>\n      <td>11</td>\n      <td>-0.128064</td>\n      <td>0.029340</td>\n      <td>-0.049362</td>\n      <td>0.302172</td>\n    </tr>\n    <tr>\n      <th>70</th>\n      <td>10</td>\n      <td>12</td>\n      <td>-0.147773</td>\n      <td>-0.013460</td>\n      <td>-0.080617</td>\n      <td>0.048292</td>\n    </tr>\n    <tr>\n      <th>71</th>\n      <td>11</td>\n      <td>12</td>\n      <td>-0.098290</td>\n      <td>0.012739</td>\n      <td>-0.042775</td>\n      <td>0.204951</td>\n    </tr>\n  </tbody>\n</table>\n<p>72 rows × 6 columns</p>\n</div>"
     },
     "execution_count": 198,
     "metadata": {},
     "output_type": "execute_result"
    }
   ],
   "source": [
    "pd.DataFrame(result_naive_validate)"
   ],
   "metadata": {
    "collapsed": false,
    "ExecuteTime": {
     "end_time": "2025-02-21T20:43:13.181756Z",
     "start_time": "2025-02-21T20:43:13.176067Z"
    }
   },
   "id": "e7f3357f235442be"
  },
  {
   "cell_type": "code",
   "execution_count": 199,
   "outputs": [],
   "source": [
    "result_MLE_validate = validate(x_test, design_test, y_test, nonzero_MLE, \n",
    "                                 selected_groups_MLE, groups = groups_train, \n",
    "                                 n_features=x_train.shape[1],\n",
    "                                 intercept=True, mode=\"weakhierarchy\", level=0.9)"
   ],
   "metadata": {
    "collapsed": false,
    "ExecuteTime": {
     "end_time": "2025-02-21T20:43:22.799908Z",
     "start_time": "2025-02-21T20:43:13.180037Z"
    }
   },
   "id": "31f152d496635ef8"
  },
  {
   "cell_type": "code",
   "execution_count": 200,
   "outputs": [
    {
     "data": {
      "text/plain": "     i   j      CI_l      CI_u  beta_hat      pval\n0    0   3 -0.000016  0.000078  0.000031  0.285025\n1    0   4 -0.000039  0.000070  0.000016  0.637015\n2    0   5 -0.000040  0.000006 -0.000017  0.218457\n3    0   6 -0.000002  0.000010  0.000004  0.295011\n4    0   7 -0.000125  0.000121 -0.000002  0.977187\n..  ..  ..       ...       ...       ...       ...\n67   9  11 -0.060116 -0.012799 -0.036458  0.011245\n68   9  12 -0.045121 -0.004087 -0.024604  0.048525\n69  10  11 -0.128064  0.029340 -0.049362  0.302172\n70  10  12 -0.147773 -0.013460 -0.080617  0.048292\n71  11  12 -0.098290  0.012739 -0.042775  0.204951\n\n[72 rows x 6 columns]",
      "text/html": "<div>\n<style scoped>\n    .dataframe tbody tr th:only-of-type {\n        vertical-align: middle;\n    }\n\n    .dataframe tbody tr th {\n        vertical-align: top;\n    }\n\n    .dataframe thead th {\n        text-align: right;\n    }\n</style>\n<table border=\"1\" class=\"dataframe\">\n  <thead>\n    <tr style=\"text-align: right;\">\n      <th></th>\n      <th>i</th>\n      <th>j</th>\n      <th>CI_l</th>\n      <th>CI_u</th>\n      <th>beta_hat</th>\n      <th>pval</th>\n    </tr>\n  </thead>\n  <tbody>\n    <tr>\n      <th>0</th>\n      <td>0</td>\n      <td>3</td>\n      <td>-0.000016</td>\n      <td>0.000078</td>\n      <td>0.000031</td>\n      <td>0.285025</td>\n    </tr>\n    <tr>\n      <th>1</th>\n      <td>0</td>\n      <td>4</td>\n      <td>-0.000039</td>\n      <td>0.000070</td>\n      <td>0.000016</td>\n      <td>0.637015</td>\n    </tr>\n    <tr>\n      <th>2</th>\n      <td>0</td>\n      <td>5</td>\n      <td>-0.000040</td>\n      <td>0.000006</td>\n      <td>-0.000017</td>\n      <td>0.218457</td>\n    </tr>\n    <tr>\n      <th>3</th>\n      <td>0</td>\n      <td>6</td>\n      <td>-0.000002</td>\n      <td>0.000010</td>\n      <td>0.000004</td>\n      <td>0.295011</td>\n    </tr>\n    <tr>\n      <th>4</th>\n      <td>0</td>\n      <td>7</td>\n      <td>-0.000125</td>\n      <td>0.000121</td>\n      <td>-0.000002</td>\n      <td>0.977187</td>\n    </tr>\n    <tr>\n      <th>...</th>\n      <td>...</td>\n      <td>...</td>\n      <td>...</td>\n      <td>...</td>\n      <td>...</td>\n      <td>...</td>\n    </tr>\n    <tr>\n      <th>67</th>\n      <td>9</td>\n      <td>11</td>\n      <td>-0.060116</td>\n      <td>-0.012799</td>\n      <td>-0.036458</td>\n      <td>0.011245</td>\n    </tr>\n    <tr>\n      <th>68</th>\n      <td>9</td>\n      <td>12</td>\n      <td>-0.045121</td>\n      <td>-0.004087</td>\n      <td>-0.024604</td>\n      <td>0.048525</td>\n    </tr>\n    <tr>\n      <th>69</th>\n      <td>10</td>\n      <td>11</td>\n      <td>-0.128064</td>\n      <td>0.029340</td>\n      <td>-0.049362</td>\n      <td>0.302172</td>\n    </tr>\n    <tr>\n      <th>70</th>\n      <td>10</td>\n      <td>12</td>\n      <td>-0.147773</td>\n      <td>-0.013460</td>\n      <td>-0.080617</td>\n      <td>0.048292</td>\n    </tr>\n    <tr>\n      <th>71</th>\n      <td>11</td>\n      <td>12</td>\n      <td>-0.098290</td>\n      <td>0.012739</td>\n      <td>-0.042775</td>\n      <td>0.204951</td>\n    </tr>\n  </tbody>\n</table>\n<p>72 rows × 6 columns</p>\n</div>"
     },
     "execution_count": 200,
     "metadata": {},
     "output_type": "execute_result"
    }
   ],
   "source": [
    "pd.DataFrame(result_MLE_validate)"
   ],
   "metadata": {
    "collapsed": false,
    "ExecuteTime": {
     "end_time": "2025-02-21T20:43:24.982656Z",
     "start_time": "2025-02-21T20:43:24.960540Z"
    }
   },
   "id": "e3078e8ee4333dbc"
  },
  {
   "cell_type": "code",
   "execution_count": 201,
   "outputs": [],
   "source": [
    "naive_df = pd.DataFrame(result_naive)\n",
    "naive_significant = \\\n",
    "    [(naive_df[\"i\"][k], naive_df[\"j\"][k]) for k in range(naive_df.shape[0])\n",
    "     if naive_df[\"pval\"][k] < 0.1]\n",
    "naive_insig = \\\n",
    "    [(naive_df[\"i\"][k], naive_df[\"j\"][k]) for k in range(naive_df.shape[0])\n",
    "     if naive_df[\"pval\"][k] >= 0.1]"
   ],
   "metadata": {
    "collapsed": false,
    "ExecuteTime": {
     "end_time": "2025-02-21T20:43:26.151596Z",
     "start_time": "2025-02-21T20:43:26.136801Z"
    }
   },
   "id": "296dd893aa71d616"
  },
  {
   "cell_type": "code",
   "execution_count": 202,
   "outputs": [],
   "source": [
    "naive_test_df = pd.DataFrame(result_naive_validate)\n",
    "naive_test_significant = \\\n",
    "    [(naive_test_df[\"i\"][k], naive_test_df[\"j\"][k]) for k in range(naive_test_df.shape[0])\n",
    "     if naive_test_df[\"pval\"][k] < 0.1]\n",
    "naive_test_insig = \\\n",
    "    [(naive_test_df[\"i\"][k], naive_test_df[\"j\"][k]) for k in range(naive_test_df.shape[0])\n",
    "     if naive_test_df[\"pval\"][k] >= 0.1]"
   ],
   "metadata": {
    "collapsed": false,
    "ExecuteTime": {
     "end_time": "2025-02-21T20:43:26.550058Z",
     "start_time": "2025-02-21T20:43:26.540292Z"
    }
   },
   "id": "5ff47d296a3d2fb0"
  },
  {
   "cell_type": "code",
   "execution_count": 203,
   "outputs": [],
   "source": [
    "naive_all = [(naive_test_df[\"i\"][k], naive_test_df[\"j\"][k]) \n",
    "             for k in range(naive_test_df.shape[0])]"
   ],
   "metadata": {
    "collapsed": false,
    "ExecuteTime": {
     "end_time": "2025-02-21T20:43:26.969552Z",
     "start_time": "2025-02-21T20:43:26.957576Z"
    }
   },
   "id": "5770d3f66d88a2ed"
  },
  {
   "cell_type": "code",
   "execution_count": 204,
   "outputs": [
    {
     "data": {
      "text/plain": "0.3333333333333333"
     },
     "execution_count": 204,
     "metadata": {},
     "output_type": "execute_result"
    }
   ],
   "source": [
    "len(set(naive_test_significant).intersection(set(naive_significant))) / len(set(naive_significant))"
   ],
   "metadata": {
    "collapsed": false,
    "ExecuteTime": {
     "end_time": "2025-02-21T20:43:27.482056Z",
     "start_time": "2025-02-21T20:43:27.433234Z"
    }
   },
   "id": "61f11969a56c8231"
  },
  {
   "cell_type": "code",
   "execution_count": 205,
   "outputs": [
    {
     "data": {
      "text/plain": "0.9"
     },
     "execution_count": 205,
     "metadata": {},
     "output_type": "execute_result"
    }
   ],
   "source": [
    "len(set(naive_test_insig).intersection(set(naive_insig))) / len(set(naive_test_insig))"
   ],
   "metadata": {
    "collapsed": false,
    "ExecuteTime": {
     "end_time": "2025-02-21T20:43:27.872513Z",
     "start_time": "2025-02-21T20:43:27.858962Z"
    }
   },
   "id": "7ad7276a67a644cd"
  },
  {
   "cell_type": "code",
   "execution_count": 206,
   "outputs": [],
   "source": [
    "MLE_df = pd.DataFrame(result_MLE)\n",
    "MLE_significant = \\\n",
    "    [(MLE_df[\"i\"][k], MLE_df[\"j\"][k]) for k in range(MLE_df.shape[0])\n",
    "     if MLE_df[\"pval\"][k] < 0.1]\n",
    "MLE_insig = \\\n",
    "    [(MLE_df[\"i\"][k], MLE_df[\"j\"][k]) for k in range(MLE_df.shape[0])\n",
    "     if MLE_df[\"pval\"][k] >= 0.1]"
   ],
   "metadata": {
    "collapsed": false,
    "ExecuteTime": {
     "end_time": "2025-02-21T20:43:28.226167Z",
     "start_time": "2025-02-21T20:43:28.214020Z"
    }
   },
   "id": "7ad648bfdc173adc"
  },
  {
   "cell_type": "code",
   "execution_count": 207,
   "outputs": [],
   "source": [
    "MLE_test_df = pd.DataFrame(result_MLE_validate)\n",
    "MLE_test_significant = \\\n",
    "    [(MLE_test_df[\"i\"][k], MLE_test_df[\"j\"][k]) for k in range(MLE_test_df.shape[0])\n",
    "     if MLE_test_df[\"pval\"][k] < 0.1]\n",
    "MLE_test_insig = \\\n",
    "    [(MLE_test_df[\"i\"][k], MLE_test_df[\"j\"][k]) for k in range(MLE_test_df.shape[0])\n",
    "     if MLE_test_df[\"pval\"][k] >= 0.1]"
   ],
   "metadata": {
    "collapsed": false,
    "ExecuteTime": {
     "end_time": "2025-02-21T20:43:28.636085Z",
     "start_time": "2025-02-21T20:43:28.625912Z"
    }
   },
   "id": "4916a5cbcafb4eb"
  },
  {
   "cell_type": "code",
   "execution_count": 208,
   "outputs": [],
   "source": [
    "MLE_all = [(MLE_test_df[\"i\"][k], MLE_test_df[\"j\"][k]) \n",
    "             for k in range(MLE_test_df.shape[0])]"
   ],
   "metadata": {
    "collapsed": false,
    "ExecuteTime": {
     "end_time": "2025-02-21T20:43:28.900501Z",
     "start_time": "2025-02-21T20:43:28.884491Z"
    }
   },
   "id": "2129c3a58b1f6b8c"
  },
  {
   "cell_type": "code",
   "execution_count": 209,
   "outputs": [],
   "source": [
    "alpha = 0.1\n",
    "naive_train = [(naive_df[\"pval\"][k] < alpha) for k in range(naive_df.shape[0])]\n",
    "naive_test = [(naive_test_df[\"pval\"][k] < alpha) for k in range(naive_test_df.shape[0])]"
   ],
   "metadata": {
    "collapsed": false,
    "ExecuteTime": {
     "end_time": "2025-02-21T20:43:29.216752Z",
     "start_time": "2025-02-21T20:43:29.201163Z"
    }
   },
   "id": "e8d80e001237f85"
  },
  {
   "cell_type": "code",
   "execution_count": 210,
   "outputs": [
    {
     "data": {
      "text/plain": "array([[36,  4],\n       [30,  2]])"
     },
     "execution_count": 210,
     "metadata": {},
     "output_type": "execute_result"
    }
   ],
   "source": [
    "from sklearn.metrics import confusion_matrix\n",
    "# tn, fp, \n",
    "# fn, tp\n",
    "confusion_matrix(naive_test, naive_train)"
   ],
   "metadata": {
    "collapsed": false,
    "ExecuteTime": {
     "end_time": "2025-02-21T20:43:29.575922Z",
     "start_time": "2025-02-21T20:43:29.556197Z"
    }
   },
   "id": "fcfd3ca5b8476384"
  },
  {
   "cell_type": "code",
   "execution_count": 216,
   "outputs": [
    {
     "data": {
      "text/plain": "0.10526315789473684"
     },
     "execution_count": 216,
     "metadata": {},
     "output_type": "execute_result"
    }
   ],
   "source": [
    "from sklearn.metrics import f1_score\n",
    "f1_score(naive_test, naive_train)"
   ],
   "metadata": {
    "collapsed": false,
    "ExecuteTime": {
     "end_time": "2025-02-21T20:44:52.099731Z",
     "start_time": "2025-02-21T20:44:52.081077Z"
    }
   },
   "id": "a89df0cf086b7765"
  },
  {
   "cell_type": "code",
   "execution_count": 211,
   "outputs": [],
   "source": [
    "MLE_train = [(MLE_df[\"pval\"][k] < alpha) for k in range(MLE_df.shape[0])]\n",
    "MLE_test = [(MLE_test_df[\"pval\"][k] < alpha) for k in range(MLE_test_df.shape[0])]"
   ],
   "metadata": {
    "collapsed": false,
    "ExecuteTime": {
     "end_time": "2025-02-21T20:43:30.079666Z",
     "start_time": "2025-02-21T20:43:30.070519Z"
    }
   },
   "id": "3f42fe90bd091efb"
  },
  {
   "cell_type": "code",
   "execution_count": 212,
   "outputs": [
    {
     "data": {
      "text/plain": "array([[ 4, 36],\n       [ 2, 30]])"
     },
     "execution_count": 212,
     "metadata": {},
     "output_type": "execute_result"
    }
   ],
   "source": [
    "from sklearn.metrics import confusion_matrix\n",
    "# tn, fp, \n",
    "# fn, tp\n",
    "confusion_matrix(MLE_test, MLE_train)"
   ],
   "metadata": {
    "collapsed": false,
    "ExecuteTime": {
     "end_time": "2025-02-21T20:43:30.462311Z",
     "start_time": "2025-02-21T20:43:30.449548Z"
    }
   },
   "id": "5753a5bb10ba942b"
  },
  {
   "cell_type": "code",
   "execution_count": 214,
   "outputs": [
    {
     "data": {
      "text/plain": "0.6122448979591837"
     },
     "execution_count": 214,
     "metadata": {},
     "output_type": "execute_result"
    }
   ],
   "source": [
    "from sklearn.metrics import f1_score\n",
    "f1_score(MLE_test, MLE_train)"
   ],
   "metadata": {
    "collapsed": false,
    "ExecuteTime": {
     "end_time": "2025-02-21T20:44:22.228999Z",
     "start_time": "2025-02-21T20:44:22.219980Z"
    }
   },
   "id": "9e5caff85873d7da"
  },
  {
   "cell_type": "code",
   "execution_count": 213,
   "outputs": [
    {
     "data": {
      "text/plain": "30"
     },
     "execution_count": 213,
     "metadata": {},
     "output_type": "execute_result"
    }
   ],
   "source": [
    "len(set(MLE_test_significant).intersection(set(MLE_significant)))# / len(MLE_test_significant)"
   ],
   "metadata": {
    "collapsed": false,
    "ExecuteTime": {
     "end_time": "2025-02-21T20:43:30.761850Z",
     "start_time": "2025-02-21T20:43:30.744532Z"
    }
   },
   "id": "8a3d3f01f1cd77fb"
  },
  {
   "cell_type": "code",
   "execution_count": null,
   "outputs": [],
   "source": [],
   "metadata": {
    "collapsed": false
   },
   "id": "6b15b02c81f335d1"
  },
  {
   "cell_type": "code",
   "execution_count": 64,
   "outputs": [
    {
     "data": {
      "text/plain": "106"
     },
     "execution_count": 64,
     "metadata": {},
     "output_type": "execute_result"
    }
   ],
   "source": [
    "len(set(MLE_test_insig).intersection(set(MLE_insig)))# / len(set(MLE_test_insig))"
   ],
   "metadata": {
    "collapsed": false
   },
   "id": "7b9675d0002637e"
  }
 ],
 "metadata": {
  "kernelspec": {
   "display_name": "Python 3",
   "language": "python",
   "name": "python3"
  },
  "language_info": {
   "codemirror_mode": {
    "name": "ipython",
    "version": 2
   },
   "file_extension": ".py",
   "mimetype": "text/x-python",
   "name": "python",
   "nbconvert_exporter": "python",
   "pygments_lexer": "ipython2",
   "version": "2.7.6"
  }
 },
 "nbformat": 4,
 "nbformat_minor": 5
}
