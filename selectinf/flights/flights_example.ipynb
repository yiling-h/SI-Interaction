{
 "cells": [
  {
   "cell_type": "code",
   "execution_count": 1,
   "id": "initial_id",
   "metadata": {
    "collapsed": true,
    "ExecuteTime": {
     "end_time": "2025-02-26T05:22:22.968828Z",
     "start_time": "2025-02-26T05:22:22.644326Z"
    }
   },
   "outputs": [],
   "source": [
    "import pandas as pd\n",
    "import numpy as np\n",
    "from datetime import datetime\n",
    "import matplotlib.pyplot as plt\n",
    "import seaborn as sns\n",
    "from sklearn.model_selection import train_test_split\n",
    "from selectinf.Simulation.spline import cubic_spline, b_spline\n",
    "from selectinf.Simulation.H1.nonlinear_H1_helpers import *\n",
    "from selectinf.RealDataHelpers.rdhelpers import *\n",
    "from sklearn.decomposition import PCA"
   ]
  },
  {
   "cell_type": "code",
   "execution_count": 2,
   "outputs": [],
   "source": [
    "fpw = pd.read_csv(\"fpw.csv\", index_col=0)"
   ],
   "metadata": {
    "collapsed": false,
    "ExecuteTime": {
     "end_time": "2025-02-26T05:22:23.022040Z",
     "start_time": "2025-02-26T05:22:22.969570Z"
    }
   },
   "id": "2f2c87fa2b52e552"
  },
  {
   "cell_type": "code",
   "execution_count": 3,
   "outputs": [
    {
     "data": {
      "text/plain": "      day  dep_delay  distance  plane_age  seats  temp  dewp  humid  wind_dir  \\\n0       1       28.0       187       18.0     20  42.0  30.0  62.18     360.0   \n1       1      -12.0      1576       21.0    200  42.0  30.0  62.18     360.0   \n2       1        6.0      1041       18.0     20  41.0  30.0  64.63     250.0   \n3       1       -7.0      1182       24.0    145  41.0  30.0  64.63     250.0   \n4       1       -4.0      1029       22.0    145  41.0  30.0  64.63     250.0   \n...   ...        ...       ...        ...    ...   ...   ...    ...       ...   \n8435   27       -3.0       187       11.0    200  42.0  41.0  96.21       0.0   \n8436   27        2.0      1089        1.0    185  42.0  41.0  96.21       0.0   \n8437   16      240.0      1089        7.0    189  26.0  23.0  88.23     330.0   \n8438   27       -5.0       209       17.0     95  42.0  39.0  89.01     160.0   \n8439   18        4.0      1089       25.0    162  22.0   6.0  49.57     260.0   \n\n      wind_speed  wind_gust  precip  pressure  visib  sched_dep_hour  \\\n0        9.20624  10.594357    0.00    1017.8  10.00              23   \n1        9.20624  10.594357    0.00    1017.8  10.00              23   \n2        9.20624  10.594357    0.00    1015.7  10.00               8   \n3        9.20624  10.594357    0.00    1015.7  10.00               8   \n4        9.20624  10.594357    0.00    1015.7  10.00               8   \n...          ...        ...     ...       ...    ...             ...   \n8435     0.00000   0.000000    0.00    1019.2   1.50               5   \n8436     0.00000   0.000000    0.00    1019.2   1.50               5   \n8437     4.60312   5.297178    0.01    1020.9   1.25               5   \n8438     4.60312   5.297178    0.00    1023.2  10.00              23   \n8439    16.11092  18.540125    0.00    1021.4  10.00               5   \n\n      sched_arr_hour  \n0                  0  \n1                  4  \n2                 11  \n3                 10  \n4                 10  \n...              ...  \n8435               6  \n8436               8  \n8437               8  \n8438               0  \n8439               8  \n\n[7358 rows x 16 columns]",
      "text/html": "<div>\n<style scoped>\n    .dataframe tbody tr th:only-of-type {\n        vertical-align: middle;\n    }\n\n    .dataframe tbody tr th {\n        vertical-align: top;\n    }\n\n    .dataframe thead th {\n        text-align: right;\n    }\n</style>\n<table border=\"1\" class=\"dataframe\">\n  <thead>\n    <tr style=\"text-align: right;\">\n      <th></th>\n      <th>day</th>\n      <th>dep_delay</th>\n      <th>distance</th>\n      <th>plane_age</th>\n      <th>seats</th>\n      <th>temp</th>\n      <th>dewp</th>\n      <th>humid</th>\n      <th>wind_dir</th>\n      <th>wind_speed</th>\n      <th>wind_gust</th>\n      <th>precip</th>\n      <th>pressure</th>\n      <th>visib</th>\n      <th>sched_dep_hour</th>\n      <th>sched_arr_hour</th>\n    </tr>\n  </thead>\n  <tbody>\n    <tr>\n      <th>0</th>\n      <td>1</td>\n      <td>28.0</td>\n      <td>187</td>\n      <td>18.0</td>\n      <td>20</td>\n      <td>42.0</td>\n      <td>30.0</td>\n      <td>62.18</td>\n      <td>360.0</td>\n      <td>9.20624</td>\n      <td>10.594357</td>\n      <td>0.00</td>\n      <td>1017.8</td>\n      <td>10.00</td>\n      <td>23</td>\n      <td>0</td>\n    </tr>\n    <tr>\n      <th>1</th>\n      <td>1</td>\n      <td>-12.0</td>\n      <td>1576</td>\n      <td>21.0</td>\n      <td>200</td>\n      <td>42.0</td>\n      <td>30.0</td>\n      <td>62.18</td>\n      <td>360.0</td>\n      <td>9.20624</td>\n      <td>10.594357</td>\n      <td>0.00</td>\n      <td>1017.8</td>\n      <td>10.00</td>\n      <td>23</td>\n      <td>4</td>\n    </tr>\n    <tr>\n      <th>2</th>\n      <td>1</td>\n      <td>6.0</td>\n      <td>1041</td>\n      <td>18.0</td>\n      <td>20</td>\n      <td>41.0</td>\n      <td>30.0</td>\n      <td>64.63</td>\n      <td>250.0</td>\n      <td>9.20624</td>\n      <td>10.594357</td>\n      <td>0.00</td>\n      <td>1015.7</td>\n      <td>10.00</td>\n      <td>8</td>\n      <td>11</td>\n    </tr>\n    <tr>\n      <th>3</th>\n      <td>1</td>\n      <td>-7.0</td>\n      <td>1182</td>\n      <td>24.0</td>\n      <td>145</td>\n      <td>41.0</td>\n      <td>30.0</td>\n      <td>64.63</td>\n      <td>250.0</td>\n      <td>9.20624</td>\n      <td>10.594357</td>\n      <td>0.00</td>\n      <td>1015.7</td>\n      <td>10.00</td>\n      <td>8</td>\n      <td>10</td>\n    </tr>\n    <tr>\n      <th>4</th>\n      <td>1</td>\n      <td>-4.0</td>\n      <td>1029</td>\n      <td>22.0</td>\n      <td>145</td>\n      <td>41.0</td>\n      <td>30.0</td>\n      <td>64.63</td>\n      <td>250.0</td>\n      <td>9.20624</td>\n      <td>10.594357</td>\n      <td>0.00</td>\n      <td>1015.7</td>\n      <td>10.00</td>\n      <td>8</td>\n      <td>10</td>\n    </tr>\n    <tr>\n      <th>...</th>\n      <td>...</td>\n      <td>...</td>\n      <td>...</td>\n      <td>...</td>\n      <td>...</td>\n      <td>...</td>\n      <td>...</td>\n      <td>...</td>\n      <td>...</td>\n      <td>...</td>\n      <td>...</td>\n      <td>...</td>\n      <td>...</td>\n      <td>...</td>\n      <td>...</td>\n      <td>...</td>\n    </tr>\n    <tr>\n      <th>8435</th>\n      <td>27</td>\n      <td>-3.0</td>\n      <td>187</td>\n      <td>11.0</td>\n      <td>200</td>\n      <td>42.0</td>\n      <td>41.0</td>\n      <td>96.21</td>\n      <td>0.0</td>\n      <td>0.00000</td>\n      <td>0.000000</td>\n      <td>0.00</td>\n      <td>1019.2</td>\n      <td>1.50</td>\n      <td>5</td>\n      <td>6</td>\n    </tr>\n    <tr>\n      <th>8436</th>\n      <td>27</td>\n      <td>2.0</td>\n      <td>1089</td>\n      <td>1.0</td>\n      <td>185</td>\n      <td>42.0</td>\n      <td>41.0</td>\n      <td>96.21</td>\n      <td>0.0</td>\n      <td>0.00000</td>\n      <td>0.000000</td>\n      <td>0.00</td>\n      <td>1019.2</td>\n      <td>1.50</td>\n      <td>5</td>\n      <td>8</td>\n    </tr>\n    <tr>\n      <th>8437</th>\n      <td>16</td>\n      <td>240.0</td>\n      <td>1089</td>\n      <td>7.0</td>\n      <td>189</td>\n      <td>26.0</td>\n      <td>23.0</td>\n      <td>88.23</td>\n      <td>330.0</td>\n      <td>4.60312</td>\n      <td>5.297178</td>\n      <td>0.01</td>\n      <td>1020.9</td>\n      <td>1.25</td>\n      <td>5</td>\n      <td>8</td>\n    </tr>\n    <tr>\n      <th>8438</th>\n      <td>27</td>\n      <td>-5.0</td>\n      <td>209</td>\n      <td>17.0</td>\n      <td>95</td>\n      <td>42.0</td>\n      <td>39.0</td>\n      <td>89.01</td>\n      <td>160.0</td>\n      <td>4.60312</td>\n      <td>5.297178</td>\n      <td>0.00</td>\n      <td>1023.2</td>\n      <td>10.00</td>\n      <td>23</td>\n      <td>0</td>\n    </tr>\n    <tr>\n      <th>8439</th>\n      <td>18</td>\n      <td>4.0</td>\n      <td>1089</td>\n      <td>25.0</td>\n      <td>162</td>\n      <td>22.0</td>\n      <td>6.0</td>\n      <td>49.57</td>\n      <td>260.0</td>\n      <td>16.11092</td>\n      <td>18.540125</td>\n      <td>0.00</td>\n      <td>1021.4</td>\n      <td>10.00</td>\n      <td>5</td>\n      <td>8</td>\n    </tr>\n  </tbody>\n</table>\n<p>7358 rows × 16 columns</p>\n</div>"
     },
     "execution_count": 3,
     "metadata": {},
     "output_type": "execute_result"
    }
   ],
   "source": [
    "fpw"
   ],
   "metadata": {
    "collapsed": false,
    "ExecuteTime": {
     "end_time": "2025-02-26T05:22:23.254322Z",
     "start_time": "2025-02-26T05:22:23.238154Z"
    }
   },
   "id": "7151f358fc2f63a5"
  },
  {
   "cell_type": "code",
   "execution_count": 4,
   "outputs": [
    {
     "data": {
      "text/plain": "array([0.    , 0.01  , 0.02  , 0.03  , 0.0001, 0.04  ])"
     },
     "execution_count": 4,
     "metadata": {},
     "output_type": "execute_result"
    }
   ],
   "source": [
    "fpw[\"precip\"].unique()"
   ],
   "metadata": {
    "collapsed": false,
    "ExecuteTime": {
     "end_time": "2025-02-26T05:22:23.594271Z",
     "start_time": "2025-02-26T05:22:23.571189Z"
    }
   },
   "id": "e3577dcc1ad48133"
  },
  {
   "cell_type": "code",
   "execution_count": 5,
   "outputs": [],
   "source": [
    "Y = fpw[\"dep_delay\"]\n",
    "X = fpw.drop([\"dep_delay\", 'day', \"wind_gust\"], axis=1)"
   ],
   "metadata": {
    "collapsed": false,
    "ExecuteTime": {
     "end_time": "2025-02-26T05:22:23.883959Z",
     "start_time": "2025-02-26T05:22:23.860804Z"
    }
   },
   "id": "118b0d2e43495c24"
  },
  {
   "cell_type": "code",
   "execution_count": 6,
   "outputs": [
    {
     "data": {
      "text/plain": "(7358, 13)"
     },
     "execution_count": 6,
     "metadata": {},
     "output_type": "execute_result"
    }
   ],
   "source": [
    "X.shape"
   ],
   "metadata": {
    "collapsed": false,
    "ExecuteTime": {
     "end_time": "2025-02-26T05:22:24.217509Z",
     "start_time": "2025-02-26T05:22:24.200313Z"
    }
   },
   "id": "2822d91594c04ae8"
  },
  {
   "cell_type": "code",
   "execution_count": 7,
   "outputs": [],
   "source": [
    "from sklearn.model_selection import train_test_split\n",
    "x_train, x_test, y_train, y_test = train_test_split(X, Y, test_size=0.9,\n",
    "                                                    random_state=42)\n",
    "# Standardize\n",
    "#x_train = (x_train - x_train.mean()) / x_train.std()\n",
    "#x_test = (x_test - x_train.mean()) / x_train.std()"
   ],
   "metadata": {
    "collapsed": false,
    "ExecuteTime": {
     "end_time": "2025-02-26T05:22:24.521734Z",
     "start_time": "2025-02-26T05:22:24.489978Z"
    }
   },
   "id": "71dc706281b2f5d4"
  },
  {
   "cell_type": "markdown",
   "source": [
    "# Construct splines"
   ],
   "metadata": {
    "collapsed": false
   },
   "id": "dec60c8fe474705a"
  },
  {
   "cell_type": "code",
   "execution_count": 8,
   "outputs": [],
   "source": [
    "def get_splines(x_nl, x_l, nknots, degree, intercept):\n",
    "    bs = b_spline(data_nl=np.array(x_nl), data_l=np.array(x_l), \n",
    "                  nknots=nknots, degree=degree, intercept=intercept)\n",
    "    bs.construct_splines(use_quantiles=True, equally_spaced=False, center=False)\n",
    "    design_train = bs.get_spline_data()\n",
    "    design_train *= np.sqrt(design_train.shape[0])\n",
    "    design_train[:, 0] = 1\n",
    "    # Returning group labels with 0 meaning the intercept (if applicable)\n",
    "    groups = bs.get_groups()\n",
    "\n",
    "    return design_train, groups\n"
   ],
   "metadata": {
    "collapsed": false,
    "ExecuteTime": {
     "end_time": "2025-02-26T05:22:24.903491Z",
     "start_time": "2025-02-26T05:22:24.879749Z"
    }
   },
   "id": "a114963c1ee396a0"
  },
  {
   "cell_type": "code",
   "execution_count": 9,
   "outputs": [],
   "source": [
    "linear = list(x_train.columns[x_train.nunique() < 40])"
   ],
   "metadata": {
    "collapsed": false,
    "ExecuteTime": {
     "end_time": "2025-02-26T05:22:25.115778Z",
     "start_time": "2025-02-26T05:22:25.099972Z"
    }
   },
   "id": "c92e92648d25f593"
  },
  {
   "cell_type": "code",
   "execution_count": 10,
   "outputs": [
    {
     "data": {
      "text/plain": "distance           59\nplane_age          31\nseats              26\ntemp               41\ndewp               52\nhumid             230\nwind_dir           36\nwind_speed         21\nprecip              6\npressure          217\nvisib              19\nsched_dep_hour     18\nsched_arr_hour     21\ndtype: int64"
     },
     "execution_count": 10,
     "metadata": {},
     "output_type": "execute_result"
    }
   ],
   "source": [
    "x_train.nunique()"
   ],
   "metadata": {
    "collapsed": false,
    "ExecuteTime": {
     "end_time": "2025-02-26T05:22:25.314158Z",
     "start_time": "2025-02-26T05:22:25.295032Z"
    }
   },
   "id": "f14103a91000f7f1"
  },
  {
   "cell_type": "code",
   "execution_count": 11,
   "outputs": [],
   "source": [
    "x_train_nl = x_train.drop(linear, axis=1)\n",
    "x_train_l_temp = x_train[linear]\n",
    "x_test_nl = x_test.drop(linear, axis=1)\n",
    "x_test_l = x_test[linear]\n",
    "n_train = x_train_l_temp.shape[0]\n",
    "n_test = x_test_l.shape[0]\n",
    "\n",
    "x_train_l = (x_train_l_temp - x_train_l_temp.mean()) / (x_train_l_temp.std() * np.sqrt(n_train))\n",
    "x_test_l = (x_test_l - x_train_l_temp.mean()) / (x_train_l_temp.std() * np.sqrt(n_test))"
   ],
   "metadata": {
    "collapsed": false,
    "ExecuteTime": {
     "end_time": "2025-02-26T05:22:25.523902Z",
     "start_time": "2025-02-26T05:22:25.503717Z"
    }
   },
   "id": "50f848666229377"
  },
  {
   "cell_type": "code",
   "execution_count": 12,
   "outputs": [
    {
     "data": {
      "text/plain": "plane_age         0.012439\nseats             0.012695\nwind_dir          0.012015\nwind_speed        0.012213\nprecip            0.011678\nvisib             0.012367\nsched_dep_hour    0.012716\nsched_arr_hour    0.012545\ndtype: float64"
     },
     "execution_count": 12,
     "metadata": {},
     "output_type": "execute_result"
    }
   ],
   "source": [
    "x_test_l.std()"
   ],
   "metadata": {
    "collapsed": false,
    "ExecuteTime": {
     "end_time": "2025-02-26T05:22:25.739633Z",
     "start_time": "2025-02-26T05:22:25.725090Z"
    }
   },
   "id": "675018df7157166e"
  },
  {
   "cell_type": "code",
   "execution_count": 13,
   "outputs": [
    {
     "data": {
      "text/plain": "plane_age         0.036886\nseats             0.036886\nwind_dir          0.036886\nwind_speed        0.036886\nprecip            0.036886\nvisib             0.036886\nsched_dep_hour    0.036886\nsched_arr_hour    0.036886\ndtype: float64"
     },
     "execution_count": 13,
     "metadata": {},
     "output_type": "execute_result"
    }
   ],
   "source": [
    "x_train_l.std()"
   ],
   "metadata": {
    "collapsed": false,
    "ExecuteTime": {
     "end_time": "2025-02-26T05:22:25.904713Z",
     "start_time": "2025-02-26T05:22:25.885645Z"
    }
   },
   "id": "970257f4ed77796e"
  },
  {
   "cell_type": "code",
   "execution_count": 14,
   "outputs": [
    {
     "name": "stdout",
     "output_type": "stream",
     "text": [
      "Equally spaced quantile knots used.\n",
      "Equally spaced quantile knots used.\n"
     ]
    }
   ],
   "source": [
    "design_train, groups_train = (\n",
    "        get_splines(x_train_nl, x_train_l, nknots=6, degree=2, intercept=True))\n",
    "design_test, groups_test = (\n",
    "        get_splines(x_test_nl, x_test_l, nknots=6, degree=2, intercept=True))"
   ],
   "metadata": {
    "collapsed": false,
    "ExecuteTime": {
     "end_time": "2025-02-26T05:22:26.129861Z",
     "start_time": "2025-02-26T05:22:26.093289Z"
    }
   },
   "id": "42dddc5afe0d6b38"
  },
  {
   "cell_type": "code",
   "execution_count": 15,
   "outputs": [],
   "source": [
    "# Steps:\n",
    "# 1. Transform training fully for naive and MLE\n",
    "# 2. Transform 90% of training for data splitting's selection\n",
    "# 3. Use 10% of remaining to get the transformed PCs for data splitting's inference\n",
    "# 4. "
   ],
   "metadata": {
    "collapsed": false,
    "ExecuteTime": {
     "end_time": "2025-02-26T05:22:26.311462Z",
     "start_time": "2025-02-26T05:22:26.295214Z"
    }
   },
   "id": "bf5ad2e5a8617dc0"
  },
  {
   "cell_type": "code",
   "execution_count": 16,
   "outputs": [
    {
     "data": {
      "text/plain": "array([[ 1.        , -1.29469158, -0.51859089, ...,  0.49814698,\n         0.31064035,  0.48803806],\n       [ 1.        , -1.19756794, -0.48768174, ...,  0.49814698,\n         0.5246241 ,  0.86247227],\n       [ 1.        , -1.29469158, -0.51859089, ...,  0.49814698,\n         0.73860785,  0.86247227],\n       ...,\n       [ 1.        , -0.12116343,  1.10133351, ..., -1.32841514,\n         0.0966566 ,  0.30082095],\n       [ 1.        , -1.51037039, -0.5800947 , ..., -0.23247787,\n         0.31064035,  0.67525517],\n       [ 1.        , -0.22672314,  1.29537708, ...,  0.49814698,\n        -0.75927839, -0.63526457]])"
     },
     "execution_count": 16,
     "metadata": {},
     "output_type": "execute_result"
    }
   ],
   "source": [
    "design_train"
   ],
   "metadata": {
    "collapsed": false,
    "ExecuteTime": {
     "end_time": "2025-02-26T05:22:26.498589Z",
     "start_time": "2025-02-26T05:22:26.480686Z"
    }
   },
   "id": "abb48a2b4cdca8b5"
  },
  {
   "cell_type": "code",
   "execution_count": 17,
   "outputs": [
    {
     "data": {
      "text/plain": "array([[ 7.35000000e+02, -3.67100058e+02,  4.59106234e+02,\n        -4.33438163e+02, -7.45968241e+01, -4.59180683e+02,\n        -1.26910180e+02, -5.45186805e+02, -2.82949388e+02,\n        -3.33743647e+02,  1.22029202e+02, -4.39648318e-14,\n         8.88178420e-16,  7.46069873e-14,  2.30926389e-14,\n         7.99360578e-15,  3.55271368e-15,  8.34887715e-14,\n        -2.13162821e-14],\n       [-3.67100058e+02,  7.35000000e+02,  2.04281037e-14,\n         2.80018211e+02,  2.37180387e+01,  2.73259862e+02,\n         7.53470033e+01,  2.84940969e+02,  1.49968697e+02,\n         1.55389995e+02, -6.42800149e+01,  1.61092469e+01,\n        -2.55856216e+02, -9.41992913e+00,  1.66531060e+01,\n        -1.37017392e+01,  1.08940864e+01, -5.32271236e+00,\n        -2.23713029e+01],\n       [ 4.59106234e+02,  2.04281037e-14,  7.35000000e+02,\n        -2.48589798e+02, -7.28982263e+01, -2.58679981e+02,\n        -1.07045308e+02, -3.22637687e+02, -1.94284345e+02,\n        -2.40647586e+02,  3.92143608e+01,  9.96624583e+01,\n        -4.69452073e+02, -4.99211177e+00,  1.55887342e+01,\n         1.49746050e+01,  9.91868642e+00,  4.76016829e+01,\n         3.92240414e+01],\n       [-4.33438163e+02,  2.80018211e+02, -2.48589798e+02,\n         7.35000000e+02, -7.99360578e-14,  6.35355244e+02,\n         1.87102742e+02,  3.08431568e+02,  2.97984526e+02,\n         2.02504501e+02, -8.87242048e+01, -1.45678651e+01,\n        -1.12651101e+01, -1.37325007e+02, -1.54823100e+02,\n         5.79265909e+01, -4.40934901e+01,  9.51997958e+01,\n         5.15608024e+01],\n       [-7.45968241e+01,  2.37180387e+01, -7.28982263e+01,\n        -7.99360578e-14,  7.35000000e+02, -5.88621786e+01,\n         5.32657492e+02, -8.54795337e+01,  1.94691261e+02,\n        -2.23450043e+02,  5.16038867e+01, -2.82287048e+01,\n         3.50649973e+01, -4.29018737e+01,  5.09182950e+01,\n         8.25023531e+01, -1.87346432e+02,  1.29465925e+02,\n         8.31461316e+01],\n       [-4.59180683e+02,  2.73259862e+02, -2.58679981e+02,\n         6.35355244e+02, -5.88621786e+01,  7.35000000e+02,\n        -3.55271368e-14,  4.95258960e+02,  2.12149184e+02,\n         1.92057678e+02, -3.67271642e+01,  1.31449967e+01,\n        -3.70243196e+01, -1.04396128e+02, -1.05026639e+02,\n        -4.65819361e+00,  5.74374517e+01,  4.28203131e+01,\n         3.01829331e+01],\n       [-1.26910180e+02,  7.53470033e+01, -1.07045308e+02,\n         1.87102742e+02,  5.32657492e+02, -3.55271368e-14,\n         7.35000000e+02, -1.60718101e+02,  5.78070127e+02,\n        -1.15020754e+02,  2.55612191e+01, -3.57783636e+01,\n         6.25426011e+01, -2.52315416e+02, -1.22458047e+02,\n         2.88440097e+02, -4.52430358e+02,  2.10128776e+01,\n        -1.07526262e+01],\n       [-5.45186805e+02,  2.84940969e+02, -3.22637687e+02,\n         3.08431568e+02, -8.54795337e+01,  4.95258960e+02,\n        -1.60718101e+02,  7.35000000e+02,  2.93098879e-14,\n         2.72419996e+02, -1.16467029e+02,  3.46243771e+01,\n        -3.88132564e+01,  3.62419647e+01, -1.48419971e+01,\n        -1.90188661e+02,  2.86421927e+02, -6.34980781e+01,\n        -4.99157211e+01],\n       [-2.82949388e+02,  1.49968697e+02, -1.94284345e+02,\n         2.97984526e+02,  1.94691261e+02,  2.12149184e+02,\n         5.78070127e+02,  2.93098879e-14,  7.35000000e+02,\n         4.75156077e+01,  3.77552604e+01, -1.48883045e+01,\n         4.91137908e+01, -3.24470783e+02, -1.73806533e+02,\n         3.64235001e+02, -5.12285192e+02, -8.90165499e+01,\n        -7.61813994e+01],\n       [-3.33743647e+02,  1.55389995e+02, -2.40647586e+02,\n         2.02504501e+02, -2.23450043e+02,  1.92057678e+02,\n        -1.15020754e+02,  2.72419996e+02,  4.75156077e+01,\n         7.35000000e+02,  3.73034936e-14, -2.35172720e+01,\n         5.45001907e+01, -1.00250418e+01, -2.52247972e+02,\n        -1.27085634e+02,  7.29769097e+01, -8.00447822e+00,\n        -1.89152126e+01],\n       [ 1.22029202e+02, -6.42800149e+01,  3.92143608e+01,\n        -8.87242048e+01,  5.16038867e+01, -3.67271642e+01,\n         2.55612191e+01, -1.16467029e+02,  3.77552604e+01,\n         3.73034936e-14,  7.35000000e+02,  3.09064586e+01,\n         4.37983232e+01, -3.78834871e+01,  1.98135323e+02,\n         1.10205124e+02, -1.16254963e+02,  5.40216648e+01,\n         2.25638361e+01],\n       [-4.39648318e-14,  1.61092469e+01,  9.96624583e+01,\n        -1.45678651e+01, -2.82287048e+01,  1.31449967e+01,\n        -3.57783636e+01,  3.46243771e+01, -1.48883045e+01,\n        -2.35172720e+01,  3.09064586e+01,  7.34000000e+02,\n        -1.39253725e+02,  1.94310573e+01,  4.00413679e+01,\n        -1.03329552e+00,  2.84097991e+01, -1.22483179e+01,\n        -1.76060676e+01],\n       [ 8.88178420e-16, -2.55856216e+02, -4.69452073e+02,\n        -1.12651101e+01,  3.50649973e+01, -3.70243196e+01,\n         6.25426011e+01, -3.88132564e+01,  4.91137908e+01,\n         5.45001907e+01,  4.37983232e+01, -1.39253725e+02,\n         7.34000000e+02, -4.58981347e+00, -2.29526962e+01,\n         1.80005485e+00, -4.00882647e+01, -3.21271627e+01,\n        -3.55757734e+01],\n       [ 7.46069873e-14, -9.41992913e+00, -4.99211177e+00,\n        -1.37325007e+02, -4.29018737e+01, -1.04396128e+02,\n        -2.52315416e+02,  3.62419647e+01, -3.24470783e+02,\n        -1.00250418e+01, -3.78834871e+01,  1.94310573e+01,\n        -4.58981347e+00,  7.34000000e+02,  2.48587897e+02,\n        -1.51875074e+02,  2.60689685e+02, -1.10192508e+01,\n         5.12269139e+00],\n       [ 2.30926389e-14,  1.66531060e+01,  1.55887342e+01,\n        -1.54823100e+02,  5.09182950e+01, -1.05026639e+02,\n        -1.22458047e+02, -1.48419971e+01, -1.73806533e+02,\n        -2.52247972e+02,  1.98135323e+02,  4.00413679e+01,\n        -2.29526962e+01,  2.48587897e+02,  7.34000000e+02,\n         4.91344421e+01,  9.39052669e+01,  7.07764411e+01,\n         7.69971164e+01],\n       [ 7.99360578e-15, -1.37017392e+01,  1.49746050e+01,\n         5.79265909e+01,  8.25023531e+01, -4.65819361e+00,\n         2.88440097e+02, -1.90188661e+02,  3.64235001e+02,\n        -1.27085634e+02,  1.10205124e+02, -1.03329552e+00,\n         1.80005485e+00, -1.51875074e+02,  4.91344421e+01,\n         7.34000000e+02, -4.12089801e+02, -7.43355135e+01,\n        -3.44949540e+01],\n       [ 3.55271368e-15,  1.08940864e+01,  9.91868642e+00,\n        -4.40934901e+01, -1.87346432e+02,  5.74374517e+01,\n        -4.52430358e+02,  2.86421927e+02, -5.12285192e+02,\n         7.29769097e+01, -1.16254963e+02,  2.84097991e+01,\n        -4.00882647e+01,  2.60689685e+02,  9.39052669e+01,\n        -4.12089801e+02,  7.34000000e+02,  2.87500739e+00,\n         1.50673233e+01],\n       [ 8.34887715e-14, -5.32271236e+00,  4.76016829e+01,\n         9.51997958e+01,  1.29465925e+02,  4.28203131e+01,\n         2.10128776e+01, -6.34980781e+01, -8.90165499e+01,\n        -8.00447822e+00,  5.40216648e+01, -1.22483179e+01,\n        -3.21271627e+01, -1.10192508e+01,  7.07764411e+01,\n        -7.43355135e+01,  2.87500739e+00,  7.34000000e+02,\n         4.47107117e+02],\n       [-2.13162821e-14, -2.23713029e+01,  3.92240414e+01,\n         5.15608024e+01,  8.31461316e+01,  3.01829331e+01,\n        -1.07526262e+01, -4.99157211e+01, -7.61813994e+01,\n        -1.89152126e+01,  2.25638361e+01, -1.76060676e+01,\n        -3.55757734e+01,  5.12269139e+00,  7.69971164e+01,\n        -3.44949540e+01,  1.50673233e+01,  4.47107117e+02,\n         7.34000000e+02]])"
     },
     "execution_count": 17,
     "metadata": {},
     "output_type": "execute_result"
    }
   ],
   "source": [
    "design_train.T @ design_train"
   ],
   "metadata": {
    "collapsed": false,
    "ExecuteTime": {
     "end_time": "2025-02-26T05:22:26.704408Z",
     "start_time": "2025-02-26T05:22:26.689633Z"
    }
   },
   "id": "e70f2fef2620027c"
  },
  {
   "cell_type": "code",
   "execution_count": 18,
   "outputs": [
    {
     "data": {
      "text/plain": "array([[ 1.        , -1.29469158, -0.51859089, ...,  0.49814698,\n         0.31064035,  0.48803806],\n       [ 1.        , -1.19756794, -0.48768174, ...,  0.49814698,\n         0.5246241 ,  0.86247227],\n       [ 1.        , -1.29469158, -0.51859089, ...,  0.49814698,\n         0.73860785,  0.86247227],\n       ...,\n       [ 1.        , -0.12116343,  1.10133351, ..., -1.32841514,\n         0.0966566 ,  0.30082095],\n       [ 1.        , -1.51037039, -0.5800947 , ..., -0.23247787,\n         0.31064035,  0.67525517],\n       [ 1.        , -0.22672314,  1.29537708, ...,  0.49814698,\n        -0.75927839, -0.63526457]])"
     },
     "execution_count": 18,
     "metadata": {},
     "output_type": "execute_result"
    }
   ],
   "source": [
    "design_train"
   ],
   "metadata": {
    "collapsed": false,
    "ExecuteTime": {
     "end_time": "2025-02-26T05:22:26.961466Z",
     "start_time": "2025-02-26T05:22:26.939267Z"
    }
   },
   "id": "52e9524e1d986f68"
  },
  {
   "cell_type": "code",
   "execution_count": 19,
   "outputs": [
    {
     "data": {
      "text/plain": "array([0.        , 0.86633933, 0.78091738, 0.80761377, 0.99483633,\n       0.78083635, 0.98498027, 0.67067564, 0.92293111, 0.89096449,\n       0.98612135, 0.9993195 , 0.9993195 , 0.9993195 , 0.9993195 ,\n       0.9993195 , 0.9993195 , 0.9993195 , 0.9993195 ])"
     },
     "execution_count": 19,
     "metadata": {},
     "output_type": "execute_result"
    }
   ],
   "source": [
    "design_train.std(axis=0)"
   ],
   "metadata": {
    "collapsed": false,
    "ExecuteTime": {
     "end_time": "2025-02-26T05:22:27.219356Z",
     "start_time": "2025-02-26T05:22:27.197173Z"
    }
   },
   "id": "d6a058635be6f731"
  },
  {
   "cell_type": "code",
   "execution_count": 20,
   "outputs": [
    {
     "data": {
      "text/plain": "array([0.        , 0.87850686, 0.78465437, 0.79840987, 0.99396775,\n       0.77836609, 0.98646269, 0.67557672, 0.92621893, 0.88931565,\n       0.98917161, 1.01222734, 1.03310309, 0.97769863, 0.99383786,\n       0.95030807, 1.00635762, 1.0347683 , 1.02083753])"
     },
     "execution_count": 20,
     "metadata": {},
     "output_type": "execute_result"
    }
   ],
   "source": [
    "design_test.std(axis=0)"
   ],
   "metadata": {
    "collapsed": false,
    "ExecuteTime": {
     "end_time": "2025-02-26T05:22:27.425994Z",
     "start_time": "2025-02-26T05:22:27.403342Z"
    }
   },
   "id": "53a643ea37794fbd"
  },
  {
   "cell_type": "code",
   "execution_count": 87,
   "outputs": [
    {
     "name": "stdout",
     "output_type": "stream",
     "text": [
      "Selected groups: [0, 2, 5, 6, 7, 8, 9, 11, 12, 13]\n",
      "Naive Selected Groups: 10\n"
     ]
    }
   ],
   "source": [
    "const = group_lasso.gaussian\n",
    "result_naive, nonzero_naive, selected_groups_naive, soln \\\n",
    "    = naive_inference_real_data(X=design_train, Y=np.array(y_train), \n",
    "                                raw_data=np.array(x_train), \n",
    "                                groups=groups_train, const=const,\n",
    "                                n_features=x_train.shape[1], \n",
    "                                intercept=True, weight_frac=0.3, level=0.9,\n",
    "                                mode=\"weakhierarchy\", root_n_scaled=False)"
   ],
   "metadata": {
    "collapsed": false,
    "ExecuteTime": {
     "end_time": "2025-02-26T05:24:35.197355Z",
     "start_time": "2025-02-26T05:24:35.027333Z"
    }
   },
   "id": "37ef330611eb6fc2"
  },
  {
   "cell_type": "code",
   "execution_count": 88,
   "outputs": [
    {
     "data": {
      "text/plain": "    i   j      CI_l      CI_u  beta_hat      pval\n9   1   2  0.005942  0.020583  0.013262  0.002847\n14  1   7 -0.256408 -0.038172 -0.147290  0.026208\n23  2   7 -0.015090 -0.001422 -0.008256  0.046630\n26  2  11 -0.018790 -0.000907 -0.009848  0.069669\n30  3   6  0.001421  0.013735  0.007578  0.042655\n34  3  11 -0.409781 -0.132192 -0.270987  0.001302\n42  4  11 -0.144185 -0.030029 -0.087107  0.011955\n58  7   9  0.014887  0.227377  0.121132  0.060417\n61  7  12 -0.279672 -0.002405 -0.141039  0.093828\n67  9  11  0.023962  0.229241  0.126601  0.042209\n68  9  12 -0.209943 -0.019217 -0.114580  0.047832",
      "text/html": "<div>\n<style scoped>\n    .dataframe tbody tr th:only-of-type {\n        vertical-align: middle;\n    }\n\n    .dataframe tbody tr th {\n        vertical-align: top;\n    }\n\n    .dataframe thead th {\n        text-align: right;\n    }\n</style>\n<table border=\"1\" class=\"dataframe\">\n  <thead>\n    <tr style=\"text-align: right;\">\n      <th></th>\n      <th>i</th>\n      <th>j</th>\n      <th>CI_l</th>\n      <th>CI_u</th>\n      <th>beta_hat</th>\n      <th>pval</th>\n    </tr>\n  </thead>\n  <tbody>\n    <tr>\n      <th>9</th>\n      <td>1</td>\n      <td>2</td>\n      <td>0.005942</td>\n      <td>0.020583</td>\n      <td>0.013262</td>\n      <td>0.002847</td>\n    </tr>\n    <tr>\n      <th>14</th>\n      <td>1</td>\n      <td>7</td>\n      <td>-0.256408</td>\n      <td>-0.038172</td>\n      <td>-0.147290</td>\n      <td>0.026208</td>\n    </tr>\n    <tr>\n      <th>23</th>\n      <td>2</td>\n      <td>7</td>\n      <td>-0.015090</td>\n      <td>-0.001422</td>\n      <td>-0.008256</td>\n      <td>0.046630</td>\n    </tr>\n    <tr>\n      <th>26</th>\n      <td>2</td>\n      <td>11</td>\n      <td>-0.018790</td>\n      <td>-0.000907</td>\n      <td>-0.009848</td>\n      <td>0.069669</td>\n    </tr>\n    <tr>\n      <th>30</th>\n      <td>3</td>\n      <td>6</td>\n      <td>0.001421</td>\n      <td>0.013735</td>\n      <td>0.007578</td>\n      <td>0.042655</td>\n    </tr>\n    <tr>\n      <th>34</th>\n      <td>3</td>\n      <td>11</td>\n      <td>-0.409781</td>\n      <td>-0.132192</td>\n      <td>-0.270987</td>\n      <td>0.001302</td>\n    </tr>\n    <tr>\n      <th>42</th>\n      <td>4</td>\n      <td>11</td>\n      <td>-0.144185</td>\n      <td>-0.030029</td>\n      <td>-0.087107</td>\n      <td>0.011955</td>\n    </tr>\n    <tr>\n      <th>58</th>\n      <td>7</td>\n      <td>9</td>\n      <td>0.014887</td>\n      <td>0.227377</td>\n      <td>0.121132</td>\n      <td>0.060417</td>\n    </tr>\n    <tr>\n      <th>61</th>\n      <td>7</td>\n      <td>12</td>\n      <td>-0.279672</td>\n      <td>-0.002405</td>\n      <td>-0.141039</td>\n      <td>0.093828</td>\n    </tr>\n    <tr>\n      <th>67</th>\n      <td>9</td>\n      <td>11</td>\n      <td>0.023962</td>\n      <td>0.229241</td>\n      <td>0.126601</td>\n      <td>0.042209</td>\n    </tr>\n    <tr>\n      <th>68</th>\n      <td>9</td>\n      <td>12</td>\n      <td>-0.209943</td>\n      <td>-0.019217</td>\n      <td>-0.114580</td>\n      <td>0.047832</td>\n    </tr>\n  </tbody>\n</table>\n</div>"
     },
     "execution_count": 88,
     "metadata": {},
     "output_type": "execute_result"
    }
   ],
   "source": [
    "pd.DataFrame(result_naive)[pd.DataFrame(result_naive)['pval'] < 0.1]"
   ],
   "metadata": {
    "collapsed": false,
    "ExecuteTime": {
     "end_time": "2025-02-26T05:24:35.916537Z",
     "start_time": "2025-02-26T05:24:35.889659Z"
    }
   },
   "id": "cb1b7a5ec3b4a346"
  },
  {
   "cell_type": "code",
   "execution_count": 89,
   "outputs": [
    {
     "name": "stdout",
     "output_type": "stream",
     "text": [
      "Selected groups: [0, 1, 2, 5, 6, 7, 8, 9, 11, 12, 13]\n",
      "MLE Selected Groups: 11\n"
     ]
    }
   ],
   "source": [
    "result_MLE, nonzero_MLE, selected_groups_MLE, soln_MLE\\\n",
    "    = MLE_inference_real_data(X=design_train, Y=np.array(y_train), \n",
    "                              raw_data=np.array(x_train), groups=groups_train, \n",
    "                              n_features=x_train.shape[1], \n",
    "                              intercept=True, weight_frac=0.3, level=0.9, \n",
    "                              mode=\"weakhierarchy\", \n",
    "                              root_n_scaled=False, proportion=0.9)"
   ],
   "metadata": {
    "collapsed": false,
    "ExecuteTime": {
     "end_time": "2025-02-26T05:24:49.082646Z",
     "start_time": "2025-02-26T05:24:36.558460Z"
    }
   },
   "id": "3bbb784718033a63"
  },
  {
   "cell_type": "code",
   "execution_count": 90,
   "outputs": [
    {
     "data": {
      "text/plain": "    i   j      CI_l      CI_u  beta_hat      pval\n0   0   1  0.000210  0.001797  0.001003  0.037588\n2   0   3  0.000180  0.001504  0.000842  0.036344\n10  0  11 -0.002719 -0.000228 -0.001474  0.051653\n11  0  12  0.000816  0.002964  0.001890  0.003793\n12  1   2  0.007387  0.022756  0.015072  0.001255\n13  1   3  0.004517  0.169278  0.086898  0.082732\n17  1   7 -0.256175 -0.034678 -0.145426  0.030781\n24  2   5 -0.007706 -0.000323 -0.004015  0.073662\n26  2   7 -0.016092 -0.001281 -0.008686  0.053679\n30  2  12  0.000450  0.015981  0.008216  0.081817\n37  3  11 -0.657962 -0.233755 -0.445858  0.000545\n43  4   9 -0.007250 -0.000384 -0.003817  0.067443\n44  4  10 -0.659526 -0.044554 -0.352040  0.059675\n45  4  11 -0.384412 -0.089298 -0.236855  0.008284\n47  5   6 -0.008248 -0.000043 -0.004146  0.096474\n50  5   9 -0.002687 -0.000151 -0.001419  0.065586\n51  5  10 -0.266182 -0.007387 -0.136784  0.082079\n52  5  11 -0.160135 -0.016308 -0.088221  0.043607\n54  6   7 -0.021948 -0.001663 -0.011806  0.055542\n56  6   9  0.002258  0.016186  0.009222  0.029400\n61  7   9  0.048229  0.272008  0.160118  0.018580\n62  7  10 -0.933837 -0.018238 -0.476038  0.087195\n64  7  12 -0.348841 -0.011616 -0.180228  0.078718\n69  9  10  0.128443  0.619302  0.373872  0.012222\n70  9  11  0.091505  0.379015  0.235260  0.007105",
      "text/html": "<div>\n<style scoped>\n    .dataframe tbody tr th:only-of-type {\n        vertical-align: middle;\n    }\n\n    .dataframe tbody tr th {\n        vertical-align: top;\n    }\n\n    .dataframe thead th {\n        text-align: right;\n    }\n</style>\n<table border=\"1\" class=\"dataframe\">\n  <thead>\n    <tr style=\"text-align: right;\">\n      <th></th>\n      <th>i</th>\n      <th>j</th>\n      <th>CI_l</th>\n      <th>CI_u</th>\n      <th>beta_hat</th>\n      <th>pval</th>\n    </tr>\n  </thead>\n  <tbody>\n    <tr>\n      <th>0</th>\n      <td>0</td>\n      <td>1</td>\n      <td>0.000210</td>\n      <td>0.001797</td>\n      <td>0.001003</td>\n      <td>0.037588</td>\n    </tr>\n    <tr>\n      <th>2</th>\n      <td>0</td>\n      <td>3</td>\n      <td>0.000180</td>\n      <td>0.001504</td>\n      <td>0.000842</td>\n      <td>0.036344</td>\n    </tr>\n    <tr>\n      <th>10</th>\n      <td>0</td>\n      <td>11</td>\n      <td>-0.002719</td>\n      <td>-0.000228</td>\n      <td>-0.001474</td>\n      <td>0.051653</td>\n    </tr>\n    <tr>\n      <th>11</th>\n      <td>0</td>\n      <td>12</td>\n      <td>0.000816</td>\n      <td>0.002964</td>\n      <td>0.001890</td>\n      <td>0.003793</td>\n    </tr>\n    <tr>\n      <th>12</th>\n      <td>1</td>\n      <td>2</td>\n      <td>0.007387</td>\n      <td>0.022756</td>\n      <td>0.015072</td>\n      <td>0.001255</td>\n    </tr>\n    <tr>\n      <th>13</th>\n      <td>1</td>\n      <td>3</td>\n      <td>0.004517</td>\n      <td>0.169278</td>\n      <td>0.086898</td>\n      <td>0.082732</td>\n    </tr>\n    <tr>\n      <th>17</th>\n      <td>1</td>\n      <td>7</td>\n      <td>-0.256175</td>\n      <td>-0.034678</td>\n      <td>-0.145426</td>\n      <td>0.030781</td>\n    </tr>\n    <tr>\n      <th>24</th>\n      <td>2</td>\n      <td>5</td>\n      <td>-0.007706</td>\n      <td>-0.000323</td>\n      <td>-0.004015</td>\n      <td>0.073662</td>\n    </tr>\n    <tr>\n      <th>26</th>\n      <td>2</td>\n      <td>7</td>\n      <td>-0.016092</td>\n      <td>-0.001281</td>\n      <td>-0.008686</td>\n      <td>0.053679</td>\n    </tr>\n    <tr>\n      <th>30</th>\n      <td>2</td>\n      <td>12</td>\n      <td>0.000450</td>\n      <td>0.015981</td>\n      <td>0.008216</td>\n      <td>0.081817</td>\n    </tr>\n    <tr>\n      <th>37</th>\n      <td>3</td>\n      <td>11</td>\n      <td>-0.657962</td>\n      <td>-0.233755</td>\n      <td>-0.445858</td>\n      <td>0.000545</td>\n    </tr>\n    <tr>\n      <th>43</th>\n      <td>4</td>\n      <td>9</td>\n      <td>-0.007250</td>\n      <td>-0.000384</td>\n      <td>-0.003817</td>\n      <td>0.067443</td>\n    </tr>\n    <tr>\n      <th>44</th>\n      <td>4</td>\n      <td>10</td>\n      <td>-0.659526</td>\n      <td>-0.044554</td>\n      <td>-0.352040</td>\n      <td>0.059675</td>\n    </tr>\n    <tr>\n      <th>45</th>\n      <td>4</td>\n      <td>11</td>\n      <td>-0.384412</td>\n      <td>-0.089298</td>\n      <td>-0.236855</td>\n      <td>0.008284</td>\n    </tr>\n    <tr>\n      <th>47</th>\n      <td>5</td>\n      <td>6</td>\n      <td>-0.008248</td>\n      <td>-0.000043</td>\n      <td>-0.004146</td>\n      <td>0.096474</td>\n    </tr>\n    <tr>\n      <th>50</th>\n      <td>5</td>\n      <td>9</td>\n      <td>-0.002687</td>\n      <td>-0.000151</td>\n      <td>-0.001419</td>\n      <td>0.065586</td>\n    </tr>\n    <tr>\n      <th>51</th>\n      <td>5</td>\n      <td>10</td>\n      <td>-0.266182</td>\n      <td>-0.007387</td>\n      <td>-0.136784</td>\n      <td>0.082079</td>\n    </tr>\n    <tr>\n      <th>52</th>\n      <td>5</td>\n      <td>11</td>\n      <td>-0.160135</td>\n      <td>-0.016308</td>\n      <td>-0.088221</td>\n      <td>0.043607</td>\n    </tr>\n    <tr>\n      <th>54</th>\n      <td>6</td>\n      <td>7</td>\n      <td>-0.021948</td>\n      <td>-0.001663</td>\n      <td>-0.011806</td>\n      <td>0.055542</td>\n    </tr>\n    <tr>\n      <th>56</th>\n      <td>6</td>\n      <td>9</td>\n      <td>0.002258</td>\n      <td>0.016186</td>\n      <td>0.009222</td>\n      <td>0.029400</td>\n    </tr>\n    <tr>\n      <th>61</th>\n      <td>7</td>\n      <td>9</td>\n      <td>0.048229</td>\n      <td>0.272008</td>\n      <td>0.160118</td>\n      <td>0.018580</td>\n    </tr>\n    <tr>\n      <th>62</th>\n      <td>7</td>\n      <td>10</td>\n      <td>-0.933837</td>\n      <td>-0.018238</td>\n      <td>-0.476038</td>\n      <td>0.087195</td>\n    </tr>\n    <tr>\n      <th>64</th>\n      <td>7</td>\n      <td>12</td>\n      <td>-0.348841</td>\n      <td>-0.011616</td>\n      <td>-0.180228</td>\n      <td>0.078718</td>\n    </tr>\n    <tr>\n      <th>69</th>\n      <td>9</td>\n      <td>10</td>\n      <td>0.128443</td>\n      <td>0.619302</td>\n      <td>0.373872</td>\n      <td>0.012222</td>\n    </tr>\n    <tr>\n      <th>70</th>\n      <td>9</td>\n      <td>11</td>\n      <td>0.091505</td>\n      <td>0.379015</td>\n      <td>0.235260</td>\n      <td>0.007105</td>\n    </tr>\n  </tbody>\n</table>\n</div>"
     },
     "execution_count": 90,
     "metadata": {},
     "output_type": "execute_result"
    }
   ],
   "source": [
    "pd.DataFrame(result_MLE)[pd.DataFrame(result_MLE)['pval'] < 0.1]"
   ],
   "metadata": {
    "collapsed": false,
    "ExecuteTime": {
     "end_time": "2025-02-26T05:24:49.094409Z",
     "start_time": "2025-02-26T05:24:49.089869Z"
    }
   },
   "id": "d895735eef763907"
  },
  {
   "cell_type": "markdown",
   "source": [
    "# Validate significant interactions on a holdout set"
   ],
   "metadata": {
    "collapsed": false
   },
   "id": "71d39fc22e1d28e2"
  },
  {
   "cell_type": "code",
   "execution_count": 91,
   "outputs": [],
   "source": [
    "def validate(x_test, design_test, y_test, nonzero, selected_groups, \n",
    "             groups = None, n_features=None, intercept=True, mode=\"allpairs\", level=0.9):\n",
    "    X_E = design_test[:, nonzero]\n",
    "    active_flag = np.zeros(np.unique(groups).shape[0])\n",
    "    active_flag[selected_groups] = 1.\n",
    "    raw_data=np.array(x_test)\n",
    "\n",
    "    if intercept:\n",
    "        active_vars_flag = active_flag[1:]\n",
    "    else:\n",
    "        active_vars_flag = active_flag\n",
    "\n",
    "    data_interaction = {}\n",
    "    task_idx = []\n",
    "    for i in range(n_features):\n",
    "        for j in range(i + 1, n_features):\n",
    "            if mode == \"allpairs\":\n",
    "                task_idx.append((i, j))\n",
    "                data_interaction[(i, j)] = raw_data[:, i] * raw_data[:, j]\n",
    "            elif mode == 'weakhierarchy':\n",
    "                if active_vars_flag[i] or active_vars_flag[j]:\n",
    "                    task_idx.append((i, j))\n",
    "                    data_interaction[(i, j)] = raw_data[:, i] * raw_data[:, j]\n",
    "            elif mode == 'stronghierarchy':\n",
    "                if active_vars_flag[i] and active_vars_flag[j]:\n",
    "                    task_idx.append((i, j))\n",
    "                    data_interaction[(i, j)] = raw_data[:, i] * raw_data[:, j]\n",
    "\n",
    "    result_dict = interaction_t_tests_all(X_E, y_test, n_features,\n",
    "                                          active_vars_flag, data_interaction,\n",
    "                                          level=level, mode=mode)\n",
    "\n",
    "    return result_dict"
   ],
   "metadata": {
    "collapsed": false,
    "ExecuteTime": {
     "end_time": "2025-02-26T05:24:49.101789Z",
     "start_time": "2025-02-26T05:24:49.097367Z"
    }
   },
   "id": "b1ded8609285892d"
  },
  {
   "cell_type": "code",
   "execution_count": 92,
   "outputs": [],
   "source": [
    "result_naive_validate = validate(x_test, design_test, y_test, nonzero_naive, \n",
    "                                 selected_groups_naive, groups = groups_train, \n",
    "                                 n_features=x_train.shape[1],\n",
    "                                 intercept=True, mode=\"weakhierarchy\", level=0.9)"
   ],
   "metadata": {
    "collapsed": false,
    "ExecuteTime": {
     "end_time": "2025-02-26T05:24:59.036061Z",
     "start_time": "2025-02-26T05:24:49.102720Z"
    }
   },
   "id": "d2fbc15682c8b770"
  },
  {
   "cell_type": "code",
   "execution_count": 93,
   "outputs": [
    {
     "data": {
      "text/plain": "     i   j      CI_l      CI_u      beta_hat      pval\n0    0   1 -0.000095  0.000094 -6.486249e-07  0.990986\n1    0   4 -0.000032  0.000071  1.938177e-05  0.535395\n2    0   5 -0.000032  0.000011 -1.074883e-05  0.410731\n3    0   6 -0.000002  0.000010  4.231314e-06  0.251963\n4    0   7 -0.000074  0.000162  4.409881e-05  0.539246\n..  ..  ..       ...       ...           ...       ...\n67   9  11 -0.067831 -0.022459 -4.514489e-02  0.001062\n68   9  12 -0.033269  0.005891 -1.368888e-02  0.250087\n69  10  11 -0.124127  0.026494 -4.881667e-02  0.286263\n70  10  12 -0.121909  0.007219 -5.734475e-02  0.143977\n71  11  12 -0.088740  0.018534 -3.510299e-02  0.281648\n\n[72 rows x 6 columns]",
      "text/html": "<div>\n<style scoped>\n    .dataframe tbody tr th:only-of-type {\n        vertical-align: middle;\n    }\n\n    .dataframe tbody tr th {\n        vertical-align: top;\n    }\n\n    .dataframe thead th {\n        text-align: right;\n    }\n</style>\n<table border=\"1\" class=\"dataframe\">\n  <thead>\n    <tr style=\"text-align: right;\">\n      <th></th>\n      <th>i</th>\n      <th>j</th>\n      <th>CI_l</th>\n      <th>CI_u</th>\n      <th>beta_hat</th>\n      <th>pval</th>\n    </tr>\n  </thead>\n  <tbody>\n    <tr>\n      <th>0</th>\n      <td>0</td>\n      <td>1</td>\n      <td>-0.000095</td>\n      <td>0.000094</td>\n      <td>-6.486249e-07</td>\n      <td>0.990986</td>\n    </tr>\n    <tr>\n      <th>1</th>\n      <td>0</td>\n      <td>4</td>\n      <td>-0.000032</td>\n      <td>0.000071</td>\n      <td>1.938177e-05</td>\n      <td>0.535395</td>\n    </tr>\n    <tr>\n      <th>2</th>\n      <td>0</td>\n      <td>5</td>\n      <td>-0.000032</td>\n      <td>0.000011</td>\n      <td>-1.074883e-05</td>\n      <td>0.410731</td>\n    </tr>\n    <tr>\n      <th>3</th>\n      <td>0</td>\n      <td>6</td>\n      <td>-0.000002</td>\n      <td>0.000010</td>\n      <td>4.231314e-06</td>\n      <td>0.251963</td>\n    </tr>\n    <tr>\n      <th>4</th>\n      <td>0</td>\n      <td>7</td>\n      <td>-0.000074</td>\n      <td>0.000162</td>\n      <td>4.409881e-05</td>\n      <td>0.539246</td>\n    </tr>\n    <tr>\n      <th>...</th>\n      <td>...</td>\n      <td>...</td>\n      <td>...</td>\n      <td>...</td>\n      <td>...</td>\n      <td>...</td>\n    </tr>\n    <tr>\n      <th>67</th>\n      <td>9</td>\n      <td>11</td>\n      <td>-0.067831</td>\n      <td>-0.022459</td>\n      <td>-4.514489e-02</td>\n      <td>0.001062</td>\n    </tr>\n    <tr>\n      <th>68</th>\n      <td>9</td>\n      <td>12</td>\n      <td>-0.033269</td>\n      <td>0.005891</td>\n      <td>-1.368888e-02</td>\n      <td>0.250087</td>\n    </tr>\n    <tr>\n      <th>69</th>\n      <td>10</td>\n      <td>11</td>\n      <td>-0.124127</td>\n      <td>0.026494</td>\n      <td>-4.881667e-02</td>\n      <td>0.286263</td>\n    </tr>\n    <tr>\n      <th>70</th>\n      <td>10</td>\n      <td>12</td>\n      <td>-0.121909</td>\n      <td>0.007219</td>\n      <td>-5.734475e-02</td>\n      <td>0.143977</td>\n    </tr>\n    <tr>\n      <th>71</th>\n      <td>11</td>\n      <td>12</td>\n      <td>-0.088740</td>\n      <td>0.018534</td>\n      <td>-3.510299e-02</td>\n      <td>0.281648</td>\n    </tr>\n  </tbody>\n</table>\n<p>72 rows × 6 columns</p>\n</div>"
     },
     "execution_count": 93,
     "metadata": {},
     "output_type": "execute_result"
    }
   ],
   "source": [
    "pd.DataFrame(result_naive_validate)"
   ],
   "metadata": {
    "collapsed": false,
    "ExecuteTime": {
     "end_time": "2025-02-26T05:24:59.043135Z",
     "start_time": "2025-02-26T05:24:59.032780Z"
    }
   },
   "id": "e7f3357f235442be"
  },
  {
   "cell_type": "code",
   "execution_count": 94,
   "outputs": [],
   "source": [
    "result_MLE_validate = validate(x_test, design_test, y_test, nonzero_MLE, \n",
    "                                 selected_groups_MLE, groups = groups_train, \n",
    "                                 n_features=x_train.shape[1],\n",
    "                                 intercept=True, mode=\"weakhierarchy\", level=0.9)"
   ],
   "metadata": {
    "collapsed": false,
    "ExecuteTime": {
     "end_time": "2025-02-26T05:25:08.884866Z",
     "start_time": "2025-02-26T05:24:59.043097Z"
    }
   },
   "id": "31f152d496635ef8"
  },
  {
   "cell_type": "code",
   "execution_count": 95,
   "outputs": [
    {
     "data": {
      "text/plain": "     i   j      CI_l      CI_u  beta_hat      pval\n0    0   1 -0.000153  0.000180  0.000014  0.891593\n1    0   2 -0.000039 -0.000009 -0.000024  0.009601\n2    0   3  0.000157  0.000429  0.000293  0.000392\n3    0   4 -0.000038  0.000135  0.000049  0.355616\n4    0   5 -0.000105 -0.000009 -0.000057  0.052592\n..  ..  ..       ...       ...       ...       ...\n70   9  11 -0.067172 -0.021798 -0.044485  0.001257\n71   9  12 -0.032919  0.006233 -0.013343  0.262161\n72  10  11 -0.121028  0.029642 -0.045693  0.318380\n73  10  12 -0.121492  0.007605 -0.056944  0.146705\n74  11  12 -0.090832  0.018352 -0.036240  0.274808\n\n[75 rows x 6 columns]",
      "text/html": "<div>\n<style scoped>\n    .dataframe tbody tr th:only-of-type {\n        vertical-align: middle;\n    }\n\n    .dataframe tbody tr th {\n        vertical-align: top;\n    }\n\n    .dataframe thead th {\n        text-align: right;\n    }\n</style>\n<table border=\"1\" class=\"dataframe\">\n  <thead>\n    <tr style=\"text-align: right;\">\n      <th></th>\n      <th>i</th>\n      <th>j</th>\n      <th>CI_l</th>\n      <th>CI_u</th>\n      <th>beta_hat</th>\n      <th>pval</th>\n    </tr>\n  </thead>\n  <tbody>\n    <tr>\n      <th>0</th>\n      <td>0</td>\n      <td>1</td>\n      <td>-0.000153</td>\n      <td>0.000180</td>\n      <td>0.000014</td>\n      <td>0.891593</td>\n    </tr>\n    <tr>\n      <th>1</th>\n      <td>0</td>\n      <td>2</td>\n      <td>-0.000039</td>\n      <td>-0.000009</td>\n      <td>-0.000024</td>\n      <td>0.009601</td>\n    </tr>\n    <tr>\n      <th>2</th>\n      <td>0</td>\n      <td>3</td>\n      <td>0.000157</td>\n      <td>0.000429</td>\n      <td>0.000293</td>\n      <td>0.000392</td>\n    </tr>\n    <tr>\n      <th>3</th>\n      <td>0</td>\n      <td>4</td>\n      <td>-0.000038</td>\n      <td>0.000135</td>\n      <td>0.000049</td>\n      <td>0.355616</td>\n    </tr>\n    <tr>\n      <th>4</th>\n      <td>0</td>\n      <td>5</td>\n      <td>-0.000105</td>\n      <td>-0.000009</td>\n      <td>-0.000057</td>\n      <td>0.052592</td>\n    </tr>\n    <tr>\n      <th>...</th>\n      <td>...</td>\n      <td>...</td>\n      <td>...</td>\n      <td>...</td>\n      <td>...</td>\n      <td>...</td>\n    </tr>\n    <tr>\n      <th>70</th>\n      <td>9</td>\n      <td>11</td>\n      <td>-0.067172</td>\n      <td>-0.021798</td>\n      <td>-0.044485</td>\n      <td>0.001257</td>\n    </tr>\n    <tr>\n      <th>71</th>\n      <td>9</td>\n      <td>12</td>\n      <td>-0.032919</td>\n      <td>0.006233</td>\n      <td>-0.013343</td>\n      <td>0.262161</td>\n    </tr>\n    <tr>\n      <th>72</th>\n      <td>10</td>\n      <td>11</td>\n      <td>-0.121028</td>\n      <td>0.029642</td>\n      <td>-0.045693</td>\n      <td>0.318380</td>\n    </tr>\n    <tr>\n      <th>73</th>\n      <td>10</td>\n      <td>12</td>\n      <td>-0.121492</td>\n      <td>0.007605</td>\n      <td>-0.056944</td>\n      <td>0.146705</td>\n    </tr>\n    <tr>\n      <th>74</th>\n      <td>11</td>\n      <td>12</td>\n      <td>-0.090832</td>\n      <td>0.018352</td>\n      <td>-0.036240</td>\n      <td>0.274808</td>\n    </tr>\n  </tbody>\n</table>\n<p>75 rows × 6 columns</p>\n</div>"
     },
     "execution_count": 95,
     "metadata": {},
     "output_type": "execute_result"
    }
   ],
   "source": [
    "pd.DataFrame(result_MLE_validate)"
   ],
   "metadata": {
    "collapsed": false,
    "ExecuteTime": {
     "end_time": "2025-02-26T05:25:08.894389Z",
     "start_time": "2025-02-26T05:25:08.888867Z"
    }
   },
   "id": "e3078e8ee4333dbc"
  },
  {
   "cell_type": "code",
   "execution_count": 96,
   "outputs": [],
   "source": [
    "naive_df = pd.DataFrame(result_naive)\n",
    "naive_significant = \\\n",
    "    [(naive_df[\"i\"][k], naive_df[\"j\"][k]) for k in range(naive_df.shape[0])\n",
    "     if naive_df[\"pval\"][k] < 0.1]\n",
    "naive_insig = \\\n",
    "    [(naive_df[\"i\"][k], naive_df[\"j\"][k]) for k in range(naive_df.shape[0])\n",
    "     if naive_df[\"pval\"][k] >= 0.1]"
   ],
   "metadata": {
    "collapsed": false,
    "ExecuteTime": {
     "end_time": "2025-02-26T05:25:08.906795Z",
     "start_time": "2025-02-26T05:25:08.896689Z"
    }
   },
   "id": "296dd893aa71d616"
  },
  {
   "cell_type": "code",
   "execution_count": 97,
   "outputs": [],
   "source": [
    "naive_test_df = pd.DataFrame(result_naive_validate)\n",
    "naive_test_significant = \\\n",
    "    [(naive_test_df[\"i\"][k], naive_test_df[\"j\"][k]) for k in range(naive_test_df.shape[0])\n",
    "     if naive_test_df[\"pval\"][k] < 0.1]\n",
    "naive_test_insig = \\\n",
    "    [(naive_test_df[\"i\"][k], naive_test_df[\"j\"][k]) for k in range(naive_test_df.shape[0])\n",
    "     if naive_test_df[\"pval\"][k] >= 0.1]"
   ],
   "metadata": {
    "collapsed": false,
    "ExecuteTime": {
     "end_time": "2025-02-26T05:25:08.906910Z",
     "start_time": "2025-02-26T05:25:08.902076Z"
    }
   },
   "id": "5ff47d296a3d2fb0"
  },
  {
   "cell_type": "code",
   "execution_count": 98,
   "outputs": [],
   "source": [
    "naive_all = [(naive_test_df[\"i\"][k], naive_test_df[\"j\"][k]) \n",
    "             for k in range(naive_test_df.shape[0])]"
   ],
   "metadata": {
    "collapsed": false,
    "ExecuteTime": {
     "end_time": "2025-02-26T05:25:08.914619Z",
     "start_time": "2025-02-26T05:25:08.905640Z"
    }
   },
   "id": "5770d3f66d88a2ed"
  },
  {
   "cell_type": "code",
   "execution_count": 99,
   "outputs": [
    {
     "data": {
      "text/plain": "0.2727272727272727"
     },
     "execution_count": 99,
     "metadata": {},
     "output_type": "execute_result"
    }
   ],
   "source": [
    "len(set(naive_test_significant).intersection(set(naive_significant))) / len(set(naive_significant))"
   ],
   "metadata": {
    "collapsed": false,
    "ExecuteTime": {
     "end_time": "2025-02-26T05:25:08.930846Z",
     "start_time": "2025-02-26T05:25:08.908408Z"
    }
   },
   "id": "61f11969a56c8231"
  },
  {
   "cell_type": "code",
   "execution_count": 100,
   "outputs": [
    {
     "data": {
      "text/plain": "0.8181818181818182"
     },
     "execution_count": 100,
     "metadata": {},
     "output_type": "execute_result"
    }
   ],
   "source": [
    "len(set(naive_test_insig).intersection(set(naive_insig))) / len(set(naive_test_insig))"
   ],
   "metadata": {
    "collapsed": false,
    "ExecuteTime": {
     "end_time": "2025-02-26T05:25:08.942145Z",
     "start_time": "2025-02-26T05:25:08.912329Z"
    }
   },
   "id": "7ad7276a67a644cd"
  },
  {
   "cell_type": "code",
   "execution_count": 101,
   "outputs": [],
   "source": [
    "MLE_df = pd.DataFrame(result_MLE)\n",
    "MLE_significant = \\\n",
    "    [(MLE_df[\"i\"][k], MLE_df[\"j\"][k]) for k in range(MLE_df.shape[0])\n",
    "     if MLE_df[\"pval\"][k] < 0.1]\n",
    "MLE_insig = \\\n",
    "    [(MLE_df[\"i\"][k], MLE_df[\"j\"][k]) for k in range(MLE_df.shape[0])\n",
    "     if MLE_df[\"pval\"][k] >= 0.1]"
   ],
   "metadata": {
    "collapsed": false,
    "ExecuteTime": {
     "end_time": "2025-02-26T05:25:13.039605Z",
     "start_time": "2025-02-26T05:25:12.998441Z"
    }
   },
   "id": "7ad648bfdc173adc"
  },
  {
   "cell_type": "code",
   "execution_count": 101,
   "outputs": [],
   "source": [],
   "metadata": {
    "collapsed": false,
    "ExecuteTime": {
     "end_time": "2025-02-26T05:25:13.321039Z",
     "start_time": "2025-02-26T05:25:13.301083Z"
    }
   },
   "id": "9a05aee7f052570b"
  },
  {
   "cell_type": "code",
   "execution_count": 102,
   "outputs": [
    {
     "data": {
      "text/plain": "25"
     },
     "execution_count": 102,
     "metadata": {},
     "output_type": "execute_result"
    }
   ],
   "source": [
    "len(MLE_significant)"
   ],
   "metadata": {
    "collapsed": false,
    "ExecuteTime": {
     "end_time": "2025-02-26T05:25:13.655929Z",
     "start_time": "2025-02-26T05:25:13.632006Z"
    }
   },
   "id": "8bda3f289671a95f"
  },
  {
   "cell_type": "code",
   "execution_count": 103,
   "outputs": [],
   "source": [
    "MLE_test_df = pd.DataFrame(result_MLE_validate)\n",
    "MLE_test_significant = \\\n",
    "    [(MLE_test_df[\"i\"][k], MLE_test_df[\"j\"][k]) for k in range(MLE_test_df.shape[0])\n",
    "     if MLE_test_df[\"pval\"][k] < 0.1]\n",
    "MLE_test_insig = \\\n",
    "    [(MLE_test_df[\"i\"][k], MLE_test_df[\"j\"][k]) for k in range(MLE_test_df.shape[0])\n",
    "     if MLE_test_df[\"pval\"][k] >= 0.1]"
   ],
   "metadata": {
    "collapsed": false,
    "ExecuteTime": {
     "end_time": "2025-02-26T05:25:13.883314Z",
     "start_time": "2025-02-26T05:25:13.865953Z"
    }
   },
   "id": "4916a5cbcafb4eb"
  },
  {
   "cell_type": "code",
   "execution_count": 104,
   "outputs": [],
   "source": [
    "MLE_all = [(MLE_test_df[\"i\"][k], MLE_test_df[\"j\"][k]) \n",
    "             for k in range(MLE_test_df.shape[0])]"
   ],
   "metadata": {
    "collapsed": false,
    "ExecuteTime": {
     "end_time": "2025-02-26T05:25:14.250452Z",
     "start_time": "2025-02-26T05:25:14.237466Z"
    }
   },
   "id": "2129c3a58b1f6b8c"
  },
  {
   "cell_type": "code",
   "execution_count": 105,
   "outputs": [],
   "source": [
    "alpha = 0.1\n",
    "naive_train = [(naive_df[\"pval\"][k] < alpha) for k in range(naive_df.shape[0])]\n",
    "naive_test = [(naive_test_df[\"pval\"][k] < alpha) for k in range(naive_test_df.shape[0])]"
   ],
   "metadata": {
    "collapsed": false,
    "ExecuteTime": {
     "end_time": "2025-02-26T05:25:14.604350Z",
     "start_time": "2025-02-26T05:25:14.579516Z"
    }
   },
   "id": "e8d80e001237f85"
  },
  {
   "cell_type": "code",
   "execution_count": 106,
   "outputs": [
    {
     "data": {
      "text/plain": "array([[36,  8],\n       [25,  3]])"
     },
     "execution_count": 106,
     "metadata": {},
     "output_type": "execute_result"
    }
   ],
   "source": [
    "from sklearn.metrics import confusion_matrix\n",
    "# tn, fp, \n",
    "# fn, tp\n",
    "confusion_matrix(naive_test, naive_train)"
   ],
   "metadata": {
    "collapsed": false,
    "ExecuteTime": {
     "end_time": "2025-02-26T05:25:14.817460Z",
     "start_time": "2025-02-26T05:25:14.791155Z"
    }
   },
   "id": "fcfd3ca5b8476384"
  },
  {
   "cell_type": "code",
   "execution_count": 107,
   "outputs": [
    {
     "data": {
      "text/plain": "0.15384615384615385"
     },
     "execution_count": 107,
     "metadata": {},
     "output_type": "execute_result"
    }
   ],
   "source": [
    "from sklearn.metrics import f1_score\n",
    "f1_score(naive_test, naive_train)"
   ],
   "metadata": {
    "collapsed": false,
    "ExecuteTime": {
     "end_time": "2025-02-26T05:25:15.172321Z",
     "start_time": "2025-02-26T05:25:15.150083Z"
    }
   },
   "id": "a89df0cf086b7765"
  },
  {
   "cell_type": "code",
   "execution_count": 108,
   "outputs": [],
   "source": [
    "MLE_train = [(MLE_df[\"pval\"][k] < alpha) for k in range(MLE_df.shape[0])]\n",
    "MLE_test = [(MLE_test_df[\"pval\"][k] < alpha) for k in range(MLE_test_df.shape[0])]"
   ],
   "metadata": {
    "collapsed": false,
    "ExecuteTime": {
     "end_time": "2025-02-26T05:25:15.822292Z",
     "start_time": "2025-02-26T05:25:15.805728Z"
    }
   },
   "id": "3f42fe90bd091efb"
  },
  {
   "cell_type": "code",
   "execution_count": 109,
   "outputs": [
    {
     "data": {
      "text/plain": "array([[29, 12],\n       [21, 13]])"
     },
     "execution_count": 109,
     "metadata": {},
     "output_type": "execute_result"
    }
   ],
   "source": [
    "from sklearn.metrics import confusion_matrix, precision_score, recall_score\n",
    "# tn, fp, \n",
    "# fn, tp\n",
    "confusion_matrix(MLE_test, MLE_train)"
   ],
   "metadata": {
    "collapsed": false,
    "ExecuteTime": {
     "end_time": "2025-02-26T05:25:16.137742Z",
     "start_time": "2025-02-26T05:25:16.119085Z"
    }
   },
   "id": "5753a5bb10ba942b"
  },
  {
   "cell_type": "code",
   "execution_count": 110,
   "outputs": [],
   "source": [
    "tn, fp = confusion_matrix(MLE_test, MLE_train)[0]\n",
    "fn, tp = confusion_matrix(MLE_test, MLE_train)[1]"
   ],
   "metadata": {
    "collapsed": false,
    "ExecuteTime": {
     "end_time": "2025-02-26T05:25:16.471474Z",
     "start_time": "2025-02-26T05:25:16.454401Z"
    }
   },
   "id": "5131401da37a6005"
  },
  {
   "cell_type": "code",
   "execution_count": 111,
   "outputs": [
    {
     "data": {
      "text/plain": "(29, 12, 21, 13)"
     },
     "execution_count": 111,
     "metadata": {},
     "output_type": "execute_result"
    }
   ],
   "source": [
    "tn, fp, fn, tp"
   ],
   "metadata": {
    "collapsed": false,
    "ExecuteTime": {
     "end_time": "2025-02-26T05:25:16.846991Z",
     "start_time": "2025-02-26T05:25:16.828133Z"
    }
   },
   "id": "22ace9fdcfba2c6e"
  },
  {
   "cell_type": "code",
   "execution_count": 112,
   "outputs": [
    {
     "data": {
      "text/plain": "0.38235294117647056"
     },
     "execution_count": 112,
     "metadata": {},
     "output_type": "execute_result"
    }
   ],
   "source": [
    "recall_score(MLE_test, MLE_train)"
   ],
   "metadata": {
    "collapsed": false,
    "ExecuteTime": {
     "end_time": "2025-02-26T05:25:17.103015Z",
     "start_time": "2025-02-26T05:25:17.082947Z"
    }
   },
   "id": "f7e13482a4da6a75"
  },
  {
   "cell_type": "code",
   "execution_count": 74,
   "outputs": [
    {
     "data": {
      "text/plain": "0.10810810810810811"
     },
     "execution_count": 74,
     "metadata": {},
     "output_type": "execute_result"
    }
   ],
   "source": [
    "from sklearn.metrics import f1_score\n",
    "f1_score(MLE_test, MLE_train)"
   ],
   "metadata": {
    "collapsed": false,
    "ExecuteTime": {
     "end_time": "2025-02-26T05:23:31.137948Z",
     "start_time": "2025-02-26T05:23:31.120676Z"
    }
   },
   "id": "9e5caff85873d7da"
  },
  {
   "cell_type": "code",
   "execution_count": 75,
   "outputs": [
    {
     "data": {
      "text/plain": "2"
     },
     "execution_count": 75,
     "metadata": {},
     "output_type": "execute_result"
    }
   ],
   "source": [
    "len(set(MLE_test_significant).intersection(set(MLE_significant)))# / len(MLE_test_significant)"
   ],
   "metadata": {
    "collapsed": false,
    "ExecuteTime": {
     "end_time": "2025-02-26T05:23:31.803328Z",
     "start_time": "2025-02-26T05:23:31.788236Z"
    }
   },
   "id": "8a3d3f01f1cd77fb"
  },
  {
   "cell_type": "code",
   "execution_count": 76,
   "outputs": [],
   "source": [
    "def predict(beta_hat, X_test):\n",
    "    return X_test.dot(beta_hat)"
   ],
   "metadata": {
    "collapsed": false,
    "ExecuteTime": {
     "end_time": "2025-02-26T05:23:33.398606Z",
     "start_time": "2025-02-26T05:23:33.357242Z"
    }
   },
   "id": "6b15b02c81f335d1"
  },
  {
   "cell_type": "code",
   "execution_count": 77,
   "outputs": [
    {
     "data": {
      "text/plain": "22"
     },
     "execution_count": 77,
     "metadata": {},
     "output_type": "execute_result"
    }
   ],
   "source": [
    "len(set(MLE_test_insig).intersection(set(MLE_insig)))# / len(set(MLE_test_insig))"
   ],
   "metadata": {
    "collapsed": false,
    "ExecuteTime": {
     "end_time": "2025-02-26T05:23:33.790924Z",
     "start_time": "2025-02-26T05:23:33.771326Z"
    }
   },
   "id": "7b9675d0002637e"
  },
  {
   "cell_type": "code",
   "execution_count": 78,
   "outputs": [
    {
     "data": {
      "text/plain": "Index(['distance', 'plane_age', 'seats', 'temp', 'dewp', 'humid', 'wind_dir',\n       'wind_speed', 'precip', 'pressure', 'visib', 'sched_dep_hour',\n       'sched_arr_hour'],\n      dtype='object')"
     },
     "execution_count": 78,
     "metadata": {},
     "output_type": "execute_result"
    }
   ],
   "source": [
    "X.columns"
   ],
   "metadata": {
    "collapsed": false,
    "ExecuteTime": {
     "end_time": "2025-02-26T05:23:52.066936Z",
     "start_time": "2025-02-26T05:23:52.047297Z"
    }
   },
   "id": "9b1ab6df7d908ac"
  },
  {
   "cell_type": "markdown",
   "source": [
    "# Repeated subsampling"
   ],
   "metadata": {
    "collapsed": false
   },
   "id": "afde7042028f702"
  },
  {
   "cell_type": "code",
   "execution_count": 113,
   "outputs": [],
   "source": [
    "def subsampling_inference(Y, X, test_size, n_rep, alpha = 0.1):\n",
    "    \n",
    "    f1_dict = {\"method\":[], \"F1\":[], \"Precision\":[], \"Recall\":[]}\n",
    "    MSE_dict = {\"method\":[], \"MSE_test\":[], \"MSE_train\":[]}\n",
    "    main_effects_freq_Naive = {name: 0 for name in X.columns}\n",
    "    interaction_freq_Naive = {}\n",
    "    main_effects_freq_MLE = {name: 0 for name in X.columns}\n",
    "    interaction_freq_MLE = {}\n",
    "    \n",
    "    for i in range(n_rep):\n",
    "        x_train, x_test, y_train, y_test = train_test_split(X, Y, \n",
    "                                                            test_size=test_size,\n",
    "                                                            random_state=i)\n",
    "    \n",
    "        linear = list(x_train.columns[x_train.nunique() < 40])\n",
    "        x_train_nl = x_train.drop(linear, axis=1)\n",
    "        x_train_l_temp = x_train[linear]\n",
    "        x_test_nl = x_test.drop(linear, axis=1)\n",
    "        x_test_l = x_test[linear]\n",
    "        n_train = x_train_l_temp.shape[0]\n",
    "        n_test = x_test_l.shape[0]\n",
    "        \n",
    "        x_train_l = (x_train_l_temp - x_train_l_temp.mean()) / (x_train_l_temp.std() * np.sqrt(n_train))\n",
    "        x_test_l = (x_test_l - x_train_l_temp.mean()) / (x_train_l_temp.std() * np.sqrt(n_test))\n",
    "        design_train, groups_train = (\n",
    "            get_splines(x_train_nl, x_train_l, nknots=6, degree=2, intercept=True))\n",
    "        design_test, groups_test = (\n",
    "            get_splines(x_test_nl, x_test_l, nknots=6, degree=2, intercept=True))\n",
    "\n",
    "        names_map = {i: None for i in range(X.shape[1])}\n",
    "        for i in range(len(x_train_nl.columns)):\n",
    "            names_map[i] = x_train_nl.columns[i]\n",
    "        for j in range(len(x_train_nl.columns),\n",
    "                       len(x_train_nl.columns) + len(x_train_l.columns)):\n",
    "            names_map[j] = x_train_l.columns[j - len(x_train_nl.columns)]\n",
    "        print(names_map)\n",
    "    \n",
    "        const = group_lasso.gaussian\n",
    "    \n",
    "    \n",
    "        result_naive, nonzero_naive, selected_groups_naive, soln_naive \\\n",
    "            = naive_inference_real_data(X=design_train, Y=np.array(y_train),\n",
    "                                        raw_data=np.array(x_train),\n",
    "                                        groups=groups_train, const=const,\n",
    "                                        n_features=x_train.shape[1],\n",
    "                                        intercept=True, weight_frac=0.5, level=0.9,\n",
    "                                        mode=\"weakhierarchy\", root_n_scaled=False)\n",
    "        \n",
    "        result_MLE, nonzero_MLE, selected_groups_MLE, soln_MLE \\\n",
    "            = MLE_inference_real_data(X=design_train, Y=np.array(y_train),\n",
    "                                      raw_data=np.array(x_train), groups=groups_train,\n",
    "                                      n_features=x_train.shape[1],\n",
    "                                      intercept=True, weight_frac=0.5, level=0.9,\n",
    "                                      mode=\"weakhierarchy\",\n",
    "                                      root_n_scaled=False, proportion=0.9)\n",
    "        \n",
    "        if result_naive is not None:\n",
    "            for g in selected_groups_naive:\n",
    "                if g != 0:\n",
    "                    main_effects_freq_Naive[names_map[g-1]] += 1\n",
    "    \n",
    "            result_naive_validate = validate(x_test, design_test, y_test, nonzero_naive,\n",
    "                                             selected_groups_naive, groups=groups_train,\n",
    "                                             n_features=x_train.shape[1],\n",
    "                                             intercept=True, mode=\"weakhierarchy\", level=0.9)\n",
    "            naive_df = pd.DataFrame(result_naive)\n",
    "            naive_test_df = pd.DataFrame(result_naive_validate)\n",
    "            naive_train = [(naive_df[\"pval\"][k] < alpha) for k in range(naive_df.shape[0])]\n",
    "            naive_test = [(naive_test_df[\"pval\"][k] < alpha) for k in range(naive_test_df.shape[0])]\n",
    "            f1_dict[\"method\"].append(\"Naive\")\n",
    "            f1_dict[\"F1\"].append(f1_score(naive_test, naive_train))\n",
    "            f1_dict[\"Precision\"].append(precision_score(naive_test, naive_train))\n",
    "            f1_dict[\"Recall\"].append(recall_score(naive_test, naive_train))\n",
    "            \n",
    "            for index, row in naive_df.iterrows():\n",
    "                if row[\"pval\"] < alpha:\n",
    "                    i = row[\"i\"]\n",
    "                    j = row[\"j\"]\n",
    "                    if (names_map[i], names_map[j]) in interaction_freq_Naive.keys():\n",
    "                        interaction_freq_Naive[(names_map[i], names_map[j])] += 1\n",
    "                    elif (names_map[j], names_map[i]) in interaction_freq_Naive.keys():\n",
    "                        interaction_freq_Naive[(names_map[j], names_map[i])] += 1\n",
    "                    else:\n",
    "                        interaction_freq_Naive[(names_map[i], names_map[j])] = 1\n",
    "            \n",
    "        else:\n",
    "            f1_dict[\"method\"].append(\"Naive\")\n",
    "            f1_dict[\"F1\"].append(0)\n",
    "            f1_dict[\"Precision\"].append(0)\n",
    "            f1_dict[\"Recall\"].append(0)\n",
    "    \n",
    "        if result_MLE is not None:\n",
    "            for g in selected_groups_MLE:\n",
    "                if g != 0:\n",
    "                    main_effects_freq_MLE[names_map[g-1]] += 1\n",
    "            result_MLE_validate = validate(x_test, design_test, y_test, nonzero_MLE,\n",
    "                                           selected_groups_MLE, groups=groups_train,\n",
    "                                           n_features=x_train.shape[1],\n",
    "                                           intercept=True, mode=\"weakhierarchy\", level=0.9)\n",
    "        \n",
    "            MLE_df = pd.DataFrame(result_MLE)\n",
    "            MLE_test_df = pd.DataFrame(result_MLE_validate)\n",
    "            MLE_train = [(MLE_df[\"pval\"][k] < alpha) for k in range(MLE_df.shape[0])]\n",
    "            MLE_test = [(MLE_test_df[\"pval\"][k] < alpha) for k in range(MLE_test_df.shape[0])]\n",
    "            f1_dict[\"method\"].append(\"MLE\")\n",
    "            f1_dict[\"F1\"].append(f1_score(MLE_test, MLE_train))\n",
    "            f1_dict[\"Precision\"].append(precision_score(MLE_test, MLE_train))\n",
    "            f1_dict[\"Recall\"].append(recall_score(MLE_test, MLE_train))\n",
    "            \n",
    "            for index, row in MLE_df.iterrows():\n",
    "                if row[\"pval\"] < alpha:\n",
    "                    i = row[\"i\"]\n",
    "                    j = row[\"j\"]\n",
    "                    if (names_map[i], names_map[j]) in interaction_freq_MLE.keys():\n",
    "                        interaction_freq_MLE[(names_map[i], names_map[j])] += 1\n",
    "                    elif (names_map[j], names_map[i]) in interaction_freq_MLE.keys():\n",
    "                        interaction_freq_MLE[(names_map[j], names_map[i])] += 1\n",
    "                    else:\n",
    "                        interaction_freq_MLE[(names_map[i], names_map[j])] = 1\n",
    "        else:\n",
    "            f1_dict[\"method\"].append(\"MLE\")\n",
    "            f1_dict[\"F1\"].append(0)\n",
    "            f1_dict[\"Precision\"].append(0)\n",
    "            f1_dict[\"Recall\"].append(0)\n",
    "        \n",
    "        MSE_naive = np.mean((y_test - predict(soln_naive, design_test))**2)\n",
    "        MSE_naive_train = np.mean((y_train - predict(soln_naive, design_train))**2)\n",
    "        MSE_MLE = np.mean((y_test - predict(soln_MLE, design_test))**2)\n",
    "        MSE_MLE_train = np.mean((y_train - predict(soln_MLE, design_train))**2)\n",
    "        MSE_dict[\"method\"].append(\"Naive\")\n",
    "        MSE_dict[\"MSE_test\"].append(MSE_naive)\n",
    "        MSE_dict[\"MSE_train\"].append(MSE_naive_train)\n",
    "        MSE_dict[\"method\"].append(\"MLE\")\n",
    "        MSE_dict[\"MSE_test\"].append(MSE_MLE)\n",
    "        MSE_dict[\"MSE_train\"].append(MSE_MLE_train)\n",
    "        \n",
    "    return (f1_dict, MSE_dict, interaction_freq_Naive, interaction_freq_MLE,\n",
    "            main_effects_freq_Naive, main_effects_freq_MLE)\n",
    "    "
   ],
   "metadata": {
    "collapsed": false,
    "ExecuteTime": {
     "end_time": "2025-02-26T05:25:50.426359Z",
     "start_time": "2025-02-26T05:25:50.403686Z"
    }
   },
   "id": "4a4039240a0e696b"
  },
  {
   "cell_type": "code",
   "execution_count": 129,
   "outputs": [
    {
     "name": "stdout",
     "output_type": "stream",
     "text": [
      "Equally spaced quantile knots used.\n",
      "Equally spaced quantile knots used.\n",
      "{0: 'distance', 1: 'temp', 2: 'dewp', 3: 'humid', 4: 'pressure', 5: 'plane_age', 6: 'seats', 7: 'wind_dir', 8: 'wind_speed', 9: 'precip', 10: 'visib', 11: 'sched_dep_hour', 12: 'sched_arr_hour'}\n",
      "Selected groups: [0, 2, 3, 5, 6, 8, 9, 11, 12]\n",
      "Naive Selected Groups: 9\n",
      "Selected groups: [0, 3, 5, 6, 8, 9, 11, 12]\n",
      "MLE Selected Groups: 8\n",
      "Equally spaced quantile knots used.\n",
      "Equally spaced quantile knots used.\n",
      "{0: 'distance', 1: 'temp', 2: 'dewp', 3: 'humid', 4: 'pressure', 5: 'plane_age', 6: 'seats', 7: 'wind_dir', 8: 'wind_speed', 9: 'precip', 10: 'visib', 11: 'sched_dep_hour', 12: 'sched_arr_hour'}\n",
      "Selected groups: [0, 2, 5, 7, 11, 12]\n",
      "Naive Selected Groups: 6\n",
      "Selected groups: [0, 1, 2, 5, 7, 11, 12]\n",
      "MLE Selected Groups: 7\n",
      "Equally spaced quantile knots used.\n",
      "Equally spaced quantile knots used.\n",
      "{0: 'distance', 1: 'temp', 2: 'dewp', 3: 'humid', 4: 'pressure', 5: 'plane_age', 6: 'seats', 7: 'wind_dir', 8: 'wind_speed', 9: 'precip', 10: 'visib', 11: 'sched_dep_hour', 12: 'sched_arr_hour'}\n",
      "Selected groups: [0, 2, 5, 9, 12]\n",
      "Naive Selected Groups: 5\n",
      "Selected groups: [0, 2, 5, 9, 12]\n",
      "MLE Selected Groups: 5\n",
      "Equally spaced quantile knots used.\n",
      "Equally spaced quantile knots used.\n",
      "{0: 'distance', 1: 'temp', 2: 'dewp', 3: 'humid', 4: 'pressure', 5: 'plane_age', 6: 'seats', 7: 'wind_dir', 8: 'wind_speed', 9: 'precip', 10: 'visib', 11: 'sched_dep_hour', 12: 'sched_arr_hour'}\n",
      "Selected groups: [0, 2, 5, 8, 9, 11, 12]\n",
      "Naive Selected Groups: 7\n",
      "Selected groups: [0, 5, 8, 9, 12]\n",
      "MLE Selected Groups: 5\n",
      "Equally spaced quantile knots used.\n",
      "Equally spaced quantile knots used.\n",
      "{0: 'distance', 1: 'temp', 2: 'dewp', 3: 'humid', 4: 'pressure', 5: 'plane_age', 6: 'seats', 7: 'wind_dir', 8: 'wind_speed', 9: 'precip', 10: 'visib', 11: 'sched_dep_hour', 12: 'sched_arr_hour'}\n",
      "Selected groups: [0, 2, 5, 7, 8, 9, 11, 12]\n",
      "Naive Selected Groups: 8\n",
      "Selected groups: [0, 2, 5, 7, 8, 9, 11, 12]\n",
      "MLE Selected Groups: 8\n",
      "Equally spaced quantile knots used.\n",
      "Equally spaced quantile knots used.\n",
      "{0: 'distance', 1: 'dewp', 2: 'humid', 3: 'pressure', 4: 'plane_age', 5: 'seats', 6: 'temp', 7: 'wind_dir', 8: 'wind_speed', 9: 'precip', 10: 'visib', 11: 'sched_dep_hour', 12: 'sched_arr_hour'}\n",
      "Selected groups: [0, 4, 6, 7, 8, 9, 11, 12, 13]\n",
      "Naive Selected Groups: 9\n",
      "Selected groups: [0, 2, 4, 6, 7, 8, 9, 11, 12, 13]\n",
      "MLE Selected Groups: 10\n",
      "Equally spaced quantile knots used.\n",
      "Equally spaced quantile knots used.\n",
      "{0: 'distance', 1: 'temp', 2: 'dewp', 3: 'humid', 4: 'pressure', 5: 'plane_age', 6: 'seats', 7: 'wind_dir', 8: 'wind_speed', 9: 'precip', 10: 'visib', 11: 'sched_dep_hour', 12: 'sched_arr_hour'}\n",
      "Selected groups: [0, 3, 5, 7, 8, 9, 11, 12, 13]\n",
      "Naive Selected Groups: 9\n",
      "Selected groups: [0, 5, 7, 8, 9, 11, 12]\n",
      "MLE Selected Groups: 7\n",
      "Equally spaced quantile knots used.\n",
      "Equally spaced quantile knots used.\n",
      "{0: 'distance', 1: 'temp', 2: 'dewp', 3: 'humid', 4: 'pressure', 5: 'plane_age', 6: 'seats', 7: 'wind_dir', 8: 'wind_speed', 9: 'precip', 10: 'visib', 11: 'sched_dep_hour', 12: 'sched_arr_hour'}\n",
      "Selected groups: [0, 3, 5, 7, 10, 11, 12]\n",
      "Naive Selected Groups: 7\n",
      "Selected groups: [0, 3, 5, 10, 11, 12]\n",
      "MLE Selected Groups: 6\n",
      "Equally spaced quantile knots used.\n",
      "Equally spaced quantile knots used.\n",
      "{0: 'distance', 1: 'temp', 2: 'dewp', 3: 'humid', 4: 'pressure', 5: 'plane_age', 6: 'seats', 7: 'wind_dir', 8: 'wind_speed', 9: 'precip', 10: 'visib', 11: 'sched_dep_hour', 12: 'sched_arr_hour'}\n",
      "Selected groups: [0, 3, 8, 9, 12, 13]\n",
      "Naive Selected Groups: 6\n",
      "Selected groups: [0, 3, 8, 9, 12, 13]\n",
      "MLE Selected Groups: 6\n",
      "Equally spaced quantile knots used.\n",
      "Equally spaced quantile knots used.\n",
      "{0: 'distance', 1: 'temp', 2: 'dewp', 3: 'humid', 4: 'pressure', 5: 'plane_age', 6: 'seats', 7: 'wind_dir', 8: 'wind_speed', 9: 'precip', 10: 'visib', 11: 'sched_dep_hour', 12: 'sched_arr_hour'}\n",
      "Selected groups: [0, 2, 5, 8, 9, 10, 11, 12]\n",
      "Naive Selected Groups: 8\n",
      "Selected groups: [0, 2, 5, 8, 9, 10, 11, 12]\n",
      "MLE Selected Groups: 8\n",
      "Equally spaced quantile knots used.\n",
      "Equally spaced quantile knots used.\n",
      "{0: 'distance', 1: 'temp', 2: 'dewp', 3: 'humid', 4: 'pressure', 5: 'plane_age', 6: 'seats', 7: 'wind_dir', 8: 'wind_speed', 9: 'precip', 10: 'visib', 11: 'sched_dep_hour', 12: 'sched_arr_hour'}\n",
      "Selected groups: [0, 2, 3, 5, 8, 9, 10, 12]\n",
      "Naive Selected Groups: 8\n",
      "Selected groups: [0, 2, 3, 5, 8, 9, 10, 12]\n",
      "MLE Selected Groups: 8\n",
      "Equally spaced quantile knots used.\n",
      "Equally spaced quantile knots used.\n",
      "{0: 'distance', 1: 'temp', 2: 'dewp', 3: 'humid', 4: 'pressure', 5: 'plane_age', 6: 'seats', 7: 'wind_dir', 8: 'wind_speed', 9: 'precip', 10: 'visib', 11: 'sched_dep_hour', 12: 'sched_arr_hour'}\n",
      "Selected groups: [0, 2, 5, 7, 8, 9, 12]\n",
      "Naive Selected Groups: 7\n",
      "Selected groups: [0, 2, 5, 8, 9, 10, 12]\n",
      "MLE Selected Groups: 7\n",
      "Equally spaced quantile knots used.\n",
      "Equally spaced quantile knots used.\n",
      "{0: 'distance', 1: 'temp', 2: 'dewp', 3: 'humid', 4: 'pressure', 5: 'plane_age', 6: 'seats', 7: 'wind_dir', 8: 'wind_speed', 9: 'precip', 10: 'visib', 11: 'sched_dep_hour', 12: 'sched_arr_hour'}\n",
      "Selected groups: [0, 2, 5, 9, 10, 11, 12]\n",
      "Naive Selected Groups: 7\n",
      "Selected groups: [0, 2, 5, 9, 10, 11, 12]\n",
      "MLE Selected Groups: 7\n",
      "Equally spaced quantile knots used.\n",
      "Equally spaced quantile knots used.\n",
      "{0: 'distance', 1: 'temp', 2: 'dewp', 3: 'humid', 4: 'pressure', 5: 'plane_age', 6: 'seats', 7: 'wind_dir', 8: 'wind_speed', 9: 'precip', 10: 'visib', 11: 'sched_dep_hour', 12: 'sched_arr_hour'}\n",
      "Selected groups: [0, 2, 5, 6, 7, 11, 12]\n",
      "Naive Selected Groups: 7\n",
      "Selected groups: [0, 2, 5, 6, 11, 12]\n",
      "MLE Selected Groups: 6\n",
      "Equally spaced quantile knots used.\n",
      "Equally spaced quantile knots used.\n",
      "{0: 'distance', 1: 'temp', 2: 'dewp', 3: 'humid', 4: 'pressure', 5: 'plane_age', 6: 'seats', 7: 'wind_dir', 8: 'wind_speed', 9: 'precip', 10: 'visib', 11: 'sched_dep_hour', 12: 'sched_arr_hour'}\n",
      "Selected groups: [0, 2, 5, 9, 12]\n",
      "Naive Selected Groups: 5\n",
      "Selected groups: [0, 2, 5, 9, 12]\n",
      "MLE Selected Groups: 5\n",
      "Equally spaced quantile knots used.\n",
      "Equally spaced quantile knots used.\n",
      "{0: 'distance', 1: 'temp', 2: 'dewp', 3: 'humid', 4: 'pressure', 5: 'plane_age', 6: 'seats', 7: 'wind_dir', 8: 'wind_speed', 9: 'precip', 10: 'visib', 11: 'sched_dep_hour', 12: 'sched_arr_hour'}\n",
      "Selected groups: [0, 2, 5, 6, 8, 10, 12]\n",
      "Naive Selected Groups: 7\n",
      "Selected groups: [0, 2, 5, 6, 8, 10, 12]\n",
      "MLE Selected Groups: 7\n",
      "Equally spaced quantile knots used.\n",
      "Equally spaced quantile knots used.\n",
      "{0: 'distance', 1: 'dewp', 2: 'humid', 3: 'pressure', 4: 'plane_age', 5: 'seats', 6: 'temp', 7: 'wind_dir', 8: 'wind_speed', 9: 'precip', 10: 'visib', 11: 'sched_dep_hour', 12: 'sched_arr_hour'}\n",
      "Selected groups: [0, 2, 4, 7, 8, 9, 10, 11, 12, 13]\n",
      "Naive Selected Groups: 10\n",
      "Selected groups: [0, 2, 4, 7, 8, 10, 11, 12, 13]\n",
      "MLE Selected Groups: 9\n",
      "Equally spaced quantile knots used.\n",
      "Equally spaced quantile knots used.\n",
      "{0: 'distance', 1: 'temp', 2: 'dewp', 3: 'humid', 4: 'pressure', 5: 'plane_age', 6: 'seats', 7: 'wind_dir', 8: 'wind_speed', 9: 'precip', 10: 'visib', 11: 'sched_dep_hour', 12: 'sched_arr_hour'}\n",
      "Selected groups: [0, 2, 5, 8, 9, 11, 12]\n",
      "Naive Selected Groups: 7\n",
      "Selected groups: [0, 5, 8, 9, 12]\n",
      "MLE Selected Groups: 5\n",
      "Equally spaced quantile knots used.\n",
      "Equally spaced quantile knots used.\n",
      "{0: 'distance', 1: 'temp', 2: 'dewp', 3: 'humid', 4: 'pressure', 5: 'plane_age', 6: 'seats', 7: 'wind_dir', 8: 'wind_speed', 9: 'precip', 10: 'visib', 11: 'sched_dep_hour', 12: 'sched_arr_hour'}\n",
      "Selected groups: [0, 2, 3, 8, 9, 11, 12, 13]\n",
      "Naive Selected Groups: 8\n",
      "Selected groups: [0, 2, 3, 8, 9, 11, 12, 13]\n",
      "MLE Selected Groups: 8\n",
      "Equally spaced quantile knots used.\n",
      "Equally spaced quantile knots used.\n",
      "{0: 'distance', 1: 'temp', 2: 'dewp', 3: 'humid', 4: 'pressure', 5: 'plane_age', 6: 'seats', 7: 'wind_dir', 8: 'wind_speed', 9: 'precip', 10: 'visib', 11: 'sched_dep_hour', 12: 'sched_arr_hour'}\n",
      "Selected groups: [0, 2, 5, 6, 8, 10, 11, 12, 13]\n",
      "Naive Selected Groups: 9\n",
      "Selected groups: [0, 2, 5, 6, 8, 10, 12, 13]\n",
      "MLE Selected Groups: 8\n",
      "Equally spaced quantile knots used.\n",
      "Equally spaced quantile knots used.\n",
      "{0: 'distance', 1: 'temp', 2: 'dewp', 3: 'humid', 4: 'pressure', 5: 'plane_age', 6: 'seats', 7: 'wind_dir', 8: 'wind_speed', 9: 'precip', 10: 'visib', 11: 'sched_dep_hour', 12: 'sched_arr_hour'}\n",
      "Selected groups: [0, 2, 5, 8, 9, 11, 12, 13]\n",
      "Naive Selected Groups: 8\n",
      "Selected groups: [0, 2, 5, 8, 9, 11, 12, 13]\n",
      "MLE Selected Groups: 8\n",
      "Equally spaced quantile knots used.\n",
      "Equally spaced quantile knots used.\n",
      "{0: 'distance', 1: 'temp', 2: 'dewp', 3: 'humid', 4: 'pressure', 5: 'plane_age', 6: 'seats', 7: 'wind_dir', 8: 'wind_speed', 9: 'precip', 10: 'visib', 11: 'sched_dep_hour', 12: 'sched_arr_hour'}\n",
      "Selected groups: [0, 2, 5, 7, 8, 12]\n",
      "Naive Selected Groups: 6\n",
      "Selected groups: [0, 2, 3, 5, 7, 8, 12]\n",
      "MLE Selected Groups: 7\n",
      "Equally spaced quantile knots used.\n",
      "Equally spaced quantile knots used.\n",
      "{0: 'distance', 1: 'temp', 2: 'dewp', 3: 'humid', 4: 'pressure', 5: 'plane_age', 6: 'seats', 7: 'wind_dir', 8: 'wind_speed', 9: 'precip', 10: 'visib', 11: 'sched_dep_hour', 12: 'sched_arr_hour'}\n",
      "Selected groups: [0, 2, 3, 5, 7, 12]\n",
      "Naive Selected Groups: 6\n",
      "Selected groups: [0, 2, 3, 12]\n",
      "MLE Selected Groups: 4\n",
      "Equally spaced quantile knots used.\n",
      "Equally spaced quantile knots used.\n",
      "{0: 'distance', 1: 'temp', 2: 'dewp', 3: 'humid', 4: 'pressure', 5: 'plane_age', 6: 'seats', 7: 'wind_dir', 8: 'wind_speed', 9: 'precip', 10: 'visib', 11: 'sched_dep_hour', 12: 'sched_arr_hour'}\n",
      "Selected groups: [0, 2, 3, 5, 6, 7, 8, 9, 10, 11, 12]\n",
      "Naive Selected Groups: 11\n",
      "Selected groups: [0, 2, 3, 5, 6, 8, 9, 10, 11, 12]\n",
      "MLE Selected Groups: 10\n",
      "Equally spaced quantile knots used.\n",
      "Equally spaced quantile knots used.\n",
      "{0: 'distance', 1: 'temp', 2: 'dewp', 3: 'humid', 4: 'pressure', 5: 'plane_age', 6: 'seats', 7: 'wind_dir', 8: 'wind_speed', 9: 'precip', 10: 'visib', 11: 'sched_dep_hour', 12: 'sched_arr_hour'}\n",
      "Selected groups: [0, 2, 5, 10, 12, 13]\n",
      "Naive Selected Groups: 6\n",
      "Selected groups: [0, 2, 5, 10, 12, 13]\n",
      "MLE Selected Groups: 6\n",
      "Equally spaced quantile knots used.\n",
      "Equally spaced quantile knots used.\n",
      "{0: 'distance', 1: 'temp', 2: 'dewp', 3: 'humid', 4: 'pressure', 5: 'plane_age', 6: 'seats', 7: 'wind_dir', 8: 'wind_speed', 9: 'precip', 10: 'visib', 11: 'sched_dep_hour', 12: 'sched_arr_hour'}\n",
      "Selected groups: [0, 2, 5, 8, 9, 10, 12, 13]\n",
      "Naive Selected Groups: 8\n",
      "Selected groups: [0, 2, 3, 5, 8, 9, 12]\n",
      "MLE Selected Groups: 7\n",
      "Equally spaced quantile knots used.\n",
      "Equally spaced quantile knots used.\n",
      "{0: 'distance', 1: 'temp', 2: 'dewp', 3: 'humid', 4: 'pressure', 5: 'plane_age', 6: 'seats', 7: 'wind_dir', 8: 'wind_speed', 9: 'precip', 10: 'visib', 11: 'sched_dep_hour', 12: 'sched_arr_hour'}\n",
      "Selected groups: [0, 1, 2, 3, 9, 11, 12, 13]\n",
      "Naive Selected Groups: 8\n",
      "Selected groups: [0, 2, 3, 8, 9, 11, 12, 13]\n",
      "MLE Selected Groups: 8\n",
      "Equally spaced quantile knots used.\n",
      "Equally spaced quantile knots used.\n",
      "{0: 'distance', 1: 'temp', 2: 'dewp', 3: 'humid', 4: 'pressure', 5: 'plane_age', 6: 'seats', 7: 'wind_dir', 8: 'wind_speed', 9: 'precip', 10: 'visib', 11: 'sched_dep_hour', 12: 'sched_arr_hour'}\n",
      "Selected groups: [0, 3, 5, 8, 11, 12, 13]\n",
      "Naive Selected Groups: 7\n",
      "Selected groups: [0, 3, 5, 8, 11, 12]\n",
      "MLE Selected Groups: 6\n",
      "Equally spaced quantile knots used.\n",
      "Equally spaced quantile knots used.\n",
      "{0: 'distance', 1: 'temp', 2: 'dewp', 3: 'humid', 4: 'pressure', 5: 'plane_age', 6: 'seats', 7: 'wind_dir', 8: 'wind_speed', 9: 'precip', 10: 'visib', 11: 'sched_dep_hour', 12: 'sched_arr_hour'}\n",
      "Selected groups: [0, 8, 9, 11, 12]\n",
      "Naive Selected Groups: 5\n",
      "Selected groups: [0, 8, 12]\n",
      "MLE Selected Groups: 3\n",
      "Equally spaced quantile knots used.\n",
      "Equally spaced quantile knots used.\n",
      "{0: 'distance', 1: 'temp', 2: 'dewp', 3: 'humid', 4: 'pressure', 5: 'plane_age', 6: 'seats', 7: 'wind_dir', 8: 'wind_speed', 9: 'precip', 10: 'visib', 11: 'sched_dep_hour', 12: 'sched_arr_hour'}\n",
      "Selected groups: [0, 2, 5, 7, 8, 11, 12]\n",
      "Naive Selected Groups: 7\n",
      "Selected groups: [0, 2, 5, 7, 8, 11, 12]\n",
      "MLE Selected Groups: 7\n",
      "Equally spaced quantile knots used.\n",
      "Equally spaced quantile knots used.\n",
      "{0: 'distance', 1: 'temp', 2: 'dewp', 3: 'humid', 4: 'pressure', 5: 'plane_age', 6: 'seats', 7: 'wind_dir', 8: 'wind_speed', 9: 'precip', 10: 'visib', 11: 'sched_dep_hour', 12: 'sched_arr_hour'}\n",
      "Selected groups: [0, 2, 5, 7, 12]\n",
      "Naive Selected Groups: 5\n",
      "Selected groups: [0, 2, 5, 10, 12]\n",
      "MLE Selected Groups: 5\n"
     ]
    },
    {
     "name": "stderr",
     "output_type": "stream",
     "text": [
      "/Users/yilingh/Desktop/PhD/SI_Codes/SI-Interaction/env3/lib/python3.9/site-packages/sklearn/metrics/_classification.py:1517: UndefinedMetricWarning: Precision is ill-defined and being set to 0.0 due to no predicted samples. Use `zero_division` parameter to control this behavior.\n",
      "  _warn_prf(average, modifier, f\"{metric.capitalize()} is\", len(result))\n"
     ]
    },
    {
     "name": "stdout",
     "output_type": "stream",
     "text": [
      "Equally spaced quantile knots used.\n",
      "Equally spaced quantile knots used.\n",
      "{0: 'distance', 1: 'temp', 2: 'dewp', 3: 'humid', 4: 'pressure', 5: 'plane_age', 6: 'seats', 7: 'wind_dir', 8: 'wind_speed', 9: 'precip', 10: 'visib', 11: 'sched_dep_hour', 12: 'sched_arr_hour'}\n",
      "Selected groups: [0, 1, 2, 5, 9, 11, 12]\n",
      "Naive Selected Groups: 7\n",
      "Selected groups: [0, 1, 2, 5, 9, 11, 12]\n",
      "MLE Selected Groups: 7\n"
     ]
    },
    {
     "name": "stderr",
     "output_type": "stream",
     "text": [
      "/Users/yilingh/Desktop/PhD/SI_Codes/SI-Interaction/env3/lib/python3.9/site-packages/sklearn/metrics/_classification.py:1517: UndefinedMetricWarning: Precision is ill-defined and being set to 0.0 due to no predicted samples. Use `zero_division` parameter to control this behavior.\n",
      "  _warn_prf(average, modifier, f\"{metric.capitalize()} is\", len(result))\n"
     ]
    },
    {
     "name": "stdout",
     "output_type": "stream",
     "text": [
      "Equally spaced quantile knots used.\n",
      "Equally spaced quantile knots used.\n",
      "{0: 'distance', 1: 'dewp', 2: 'humid', 3: 'pressure', 4: 'plane_age', 5: 'seats', 6: 'temp', 7: 'wind_dir', 8: 'wind_speed', 9: 'precip', 10: 'visib', 11: 'sched_dep_hour', 12: 'sched_arr_hour'}\n",
      "Selected groups: [0, 4, 6, 7, 8, 11, 12, 13]\n",
      "Naive Selected Groups: 8\n",
      "Selected groups: [0, 2, 4, 6, 7, 8, 11, 12, 13]\n",
      "MLE Selected Groups: 9\n",
      "Equally spaced quantile knots used.\n",
      "Equally spaced quantile knots used.\n",
      "{0: 'distance', 1: 'temp', 2: 'dewp', 3: 'humid', 4: 'pressure', 5: 'plane_age', 6: 'seats', 7: 'wind_dir', 8: 'wind_speed', 9: 'precip', 10: 'visib', 11: 'sched_dep_hour', 12: 'sched_arr_hour'}\n",
      "Selected groups: [0, 2, 5, 7, 9, 11, 12]\n",
      "Naive Selected Groups: 7\n",
      "Selected groups: [0, 2, 5, 7, 9, 11, 12]\n",
      "MLE Selected Groups: 7\n",
      "Equally spaced quantile knots used.\n",
      "Equally spaced quantile knots used.\n",
      "{0: 'distance', 1: 'temp', 2: 'dewp', 3: 'humid', 4: 'pressure', 5: 'plane_age', 6: 'seats', 7: 'wind_dir', 8: 'wind_speed', 9: 'precip', 10: 'visib', 11: 'sched_dep_hour', 12: 'sched_arr_hour'}\n",
      "Selected groups: [0, 2, 7, 9, 12]\n",
      "Naive Selected Groups: 5\n",
      "Selected groups: [0, 2, 9, 12]\n",
      "MLE Selected Groups: 4\n",
      "Equally spaced quantile knots used.\n",
      "Equally spaced quantile knots used.\n",
      "{0: 'distance', 1: 'temp', 2: 'dewp', 3: 'humid', 4: 'pressure', 5: 'plane_age', 6: 'seats', 7: 'wind_dir', 8: 'wind_speed', 9: 'precip', 10: 'visib', 11: 'sched_dep_hour', 12: 'sched_arr_hour'}\n",
      "Selected groups: [0, 2, 3, 5, 6, 8, 9, 11, 12]\n",
      "Naive Selected Groups: 9\n",
      "Selected groups: [0, 2, 3, 5, 6, 8, 9, 11, 12]\n",
      "MLE Selected Groups: 9\n",
      "Equally spaced quantile knots used.\n",
      "Equally spaced quantile knots used.\n",
      "{0: 'distance', 1: 'temp', 2: 'dewp', 3: 'humid', 4: 'pressure', 5: 'plane_age', 6: 'seats', 7: 'wind_dir', 8: 'wind_speed', 9: 'precip', 10: 'visib', 11: 'sched_dep_hour', 12: 'sched_arr_hour'}\n",
      "Selected groups: [0, 2, 8, 9, 11, 12, 13]\n",
      "Naive Selected Groups: 7\n",
      "Selected groups: [0, 8, 9, 11, 12, 13]\n",
      "MLE Selected Groups: 6\n",
      "Equally spaced quantile knots used.\n",
      "Equally spaced quantile knots used.\n",
      "{0: 'distance', 1: 'temp', 2: 'dewp', 3: 'humid', 4: 'pressure', 5: 'plane_age', 6: 'seats', 7: 'wind_dir', 8: 'wind_speed', 9: 'precip', 10: 'visib', 11: 'sched_dep_hour', 12: 'sched_arr_hour'}\n",
      "Selected groups: [0, 2, 3, 5, 7, 8, 9, 11, 12]\n",
      "Naive Selected Groups: 9\n",
      "Selected groups: [0, 3, 7, 8, 9, 11, 12]\n",
      "MLE Selected Groups: 7\n",
      "Equally spaced quantile knots used.\n",
      "Equally spaced quantile knots used.\n",
      "{0: 'distance', 1: 'temp', 2: 'dewp', 3: 'humid', 4: 'pressure', 5: 'plane_age', 6: 'seats', 7: 'wind_dir', 8: 'wind_speed', 9: 'precip', 10: 'visib', 11: 'sched_dep_hour', 12: 'sched_arr_hour'}\n",
      "Selected groups: [0, 2, 3, 5, 8, 9, 11, 12, 13]\n",
      "Naive Selected Groups: 9\n",
      "Selected groups: [0, 3, 5, 8, 9, 11, 12]\n",
      "MLE Selected Groups: 7\n",
      "Equally spaced quantile knots used.\n",
      "Equally spaced quantile knots used.\n",
      "{0: 'distance', 1: 'temp', 2: 'dewp', 3: 'humid', 4: 'pressure', 5: 'plane_age', 6: 'seats', 7: 'wind_dir', 8: 'wind_speed', 9: 'precip', 10: 'visib', 11: 'sched_dep_hour', 12: 'sched_arr_hour'}\n",
      "Selected groups: [0, 2, 5, 8, 9, 11, 12]\n",
      "Naive Selected Groups: 7\n",
      "Selected groups: [0, 2, 5, 9, 12]\n",
      "MLE Selected Groups: 5\n",
      "Equally spaced quantile knots used.\n",
      "Equally spaced quantile knots used.\n",
      "{0: 'distance', 1: 'temp', 2: 'dewp', 3: 'humid', 4: 'pressure', 5: 'plane_age', 6: 'seats', 7: 'wind_dir', 8: 'wind_speed', 9: 'precip', 10: 'visib', 11: 'sched_dep_hour', 12: 'sched_arr_hour'}\n",
      "Selected groups: [0, 2, 5, 8, 9, 11, 12]\n",
      "Naive Selected Groups: 7\n",
      "Selected groups: [0, 2, 5, 8, 9, 11, 12]\n",
      "MLE Selected Groups: 7\n",
      "Equally spaced quantile knots used.\n",
      "Equally spaced quantile knots used.\n",
      "{0: 'distance', 1: 'temp', 2: 'dewp', 3: 'humid', 4: 'pressure', 5: 'plane_age', 6: 'seats', 7: 'wind_dir', 8: 'wind_speed', 9: 'precip', 10: 'visib', 11: 'sched_dep_hour', 12: 'sched_arr_hour'}\n",
      "Selected groups: [0, 3, 5, 9, 12]\n",
      "Naive Selected Groups: 5\n",
      "Selected groups: [0, 3, 5, 12]\n",
      "MLE Selected Groups: 4\n",
      "Equally spaced quantile knots used.\n",
      "Equally spaced quantile knots used.\n",
      "{0: 'distance', 1: 'temp', 2: 'dewp', 3: 'humid', 4: 'pressure', 5: 'plane_age', 6: 'seats', 7: 'wind_dir', 8: 'wind_speed', 9: 'precip', 10: 'visib', 11: 'sched_dep_hour', 12: 'sched_arr_hour'}\n",
      "Selected groups: [0, 2, 5, 7, 9, 11, 12]\n",
      "Naive Selected Groups: 7\n",
      "Selected groups: [0, 2, 5, 7, 9, 11, 12]\n",
      "MLE Selected Groups: 7\n",
      "Equally spaced quantile knots used.\n",
      "Equally spaced quantile knots used.\n",
      "{0: 'distance', 1: 'temp', 2: 'dewp', 3: 'humid', 4: 'pressure', 5: 'plane_age', 6: 'seats', 7: 'wind_dir', 8: 'wind_speed', 9: 'precip', 10: 'visib', 11: 'sched_dep_hour', 12: 'sched_arr_hour'}\n",
      "Selected groups: [0, 2, 5, 7, 11, 12]\n",
      "Naive Selected Groups: 6\n",
      "Selected groups: [0, 2, 5, 11, 12]\n",
      "MLE Selected Groups: 5\n",
      "Equally spaced quantile knots used.\n",
      "Equally spaced quantile knots used.\n",
      "{0: 'distance', 1: 'temp', 2: 'dewp', 3: 'humid', 4: 'pressure', 5: 'plane_age', 6: 'seats', 7: 'wind_dir', 8: 'wind_speed', 9: 'precip', 10: 'visib', 11: 'sched_dep_hour', 12: 'sched_arr_hour'}\n",
      "Selected groups: [0, 2, 3, 5, 7, 8, 11, 12, 13]\n",
      "Naive Selected Groups: 9\n",
      "Selected groups: [0, 2, 3, 5, 7, 8, 11, 12, 13]\n",
      "MLE Selected Groups: 9\n",
      "Equally spaced quantile knots used.\n",
      "Equally spaced quantile knots used.\n",
      "{0: 'distance', 1: 'temp', 2: 'dewp', 3: 'humid', 4: 'pressure', 5: 'plane_age', 6: 'seats', 7: 'wind_dir', 8: 'wind_speed', 9: 'precip', 10: 'visib', 11: 'sched_dep_hour', 12: 'sched_arr_hour'}\n",
      "Selected groups: [0, 2, 3, 5, 8, 9, 12]\n",
      "Naive Selected Groups: 7\n",
      "Selected groups: [0, 3, 5, 8, 9, 12]\n",
      "MLE Selected Groups: 6\n",
      "Equally spaced quantile knots used.\n",
      "Equally spaced quantile knots used.\n",
      "{0: 'distance', 1: 'temp', 2: 'dewp', 3: 'humid', 4: 'pressure', 5: 'plane_age', 6: 'seats', 7: 'wind_dir', 8: 'wind_speed', 9: 'precip', 10: 'visib', 11: 'sched_dep_hour', 12: 'sched_arr_hour'}\n",
      "Selected groups: [0, 2, 3, 5, 7, 10, 11, 12, 13]\n",
      "Naive Selected Groups: 9\n",
      "Selected groups: [0, 2, 3, 5, 8, 10, 11, 12, 13]\n",
      "MLE Selected Groups: 9\n",
      "Equally spaced quantile knots used.\n",
      "Equally spaced quantile knots used.\n",
      "{0: 'distance', 1: 'temp', 2: 'dewp', 3: 'humid', 4: 'pressure', 5: 'plane_age', 6: 'seats', 7: 'wind_dir', 8: 'wind_speed', 9: 'precip', 10: 'visib', 11: 'sched_dep_hour', 12: 'sched_arr_hour'}\n",
      "Selected groups: [0, 2, 3, 5, 8, 11, 12]\n",
      "Naive Selected Groups: 7\n",
      "Selected groups: [0, 2, 3, 5, 8, 11, 12]\n",
      "MLE Selected Groups: 7\n",
      "Equally spaced quantile knots used.\n",
      "Equally spaced quantile knots used.\n",
      "{0: 'distance', 1: 'temp', 2: 'dewp', 3: 'humid', 4: 'pressure', 5: 'plane_age', 6: 'seats', 7: 'wind_dir', 8: 'wind_speed', 9: 'precip', 10: 'visib', 11: 'sched_dep_hour', 12: 'sched_arr_hour'}\n",
      "Selected groups: [0, 2, 3, 5, 7, 8, 11, 12]\n",
      "Naive Selected Groups: 8\n",
      "Selected groups: [0, 2, 3, 5, 7, 8, 11, 12]\n",
      "MLE Selected Groups: 8\n",
      "Equally spaced quantile knots used.\n",
      "Equally spaced quantile knots used.\n",
      "{0: 'distance', 1: 'temp', 2: 'dewp', 3: 'humid', 4: 'pressure', 5: 'plane_age', 6: 'seats', 7: 'wind_dir', 8: 'wind_speed', 9: 'precip', 10: 'visib', 11: 'sched_dep_hour', 12: 'sched_arr_hour'}\n",
      "Selected groups: [0, 2, 5, 7, 11, 12]\n",
      "Naive Selected Groups: 6\n",
      "Selected groups: [0, 2, 5, 12]\n",
      "MLE Selected Groups: 4\n",
      "Equally spaced quantile knots used.\n",
      "Equally spaced quantile knots used.\n",
      "{0: 'distance', 1: 'temp', 2: 'dewp', 3: 'humid', 4: 'pressure', 5: 'plane_age', 6: 'seats', 7: 'wind_dir', 8: 'wind_speed', 9: 'precip', 10: 'visib', 11: 'sched_dep_hour', 12: 'sched_arr_hour'}\n",
      "Selected groups: [0, 2, 3, 5, 7, 9, 11, 12]\n",
      "Naive Selected Groups: 8\n",
      "Selected groups: [0, 2, 3, 5, 9, 11, 12]\n",
      "MLE Selected Groups: 7\n",
      "Equally spaced quantile knots used.\n",
      "Equally spaced quantile knots used.\n",
      "{0: 'distance', 1: 'temp', 2: 'dewp', 3: 'humid', 4: 'pressure', 5: 'plane_age', 6: 'seats', 7: 'wind_dir', 8: 'wind_speed', 9: 'precip', 10: 'visib', 11: 'sched_dep_hour', 12: 'sched_arr_hour'}\n",
      "Selected groups: [0, 2, 3, 5, 6, 8, 9, 10, 11, 12]\n",
      "Naive Selected Groups: 10\n",
      "Selected groups: [0, 2, 3, 5, 6, 8, 9, 10, 11, 12]\n",
      "MLE Selected Groups: 10\n",
      "Equally spaced quantile knots used.\n",
      "Equally spaced quantile knots used.\n",
      "{0: 'distance', 1: 'temp', 2: 'dewp', 3: 'humid', 4: 'pressure', 5: 'plane_age', 6: 'seats', 7: 'wind_dir', 8: 'wind_speed', 9: 'precip', 10: 'visib', 11: 'sched_dep_hour', 12: 'sched_arr_hour'}\n",
      "Selected groups: [0, 2, 3, 5, 9, 11, 12, 13]\n",
      "Naive Selected Groups: 8\n",
      "Selected groups: [0, 2, 3, 5, 9, 11, 12, 13]\n",
      "MLE Selected Groups: 8\n",
      "Equally spaced quantile knots used.\n",
      "Equally spaced quantile knots used.\n",
      "{0: 'distance', 1: 'temp', 2: 'dewp', 3: 'humid', 4: 'pressure', 5: 'plane_age', 6: 'seats', 7: 'wind_dir', 8: 'wind_speed', 9: 'precip', 10: 'visib', 11: 'sched_dep_hour', 12: 'sched_arr_hour'}\n",
      "Selected groups: [0, 2, 5, 6, 8, 10, 11, 12, 13]\n",
      "Naive Selected Groups: 9\n",
      "Selected groups: [0, 2, 6, 8, 9, 10, 12, 13]\n",
      "MLE Selected Groups: 8\n",
      "Equally spaced quantile knots used.\n",
      "Equally spaced quantile knots used.\n",
      "{0: 'distance', 1: 'temp', 2: 'dewp', 3: 'humid', 4: 'pressure', 5: 'plane_age', 6: 'seats', 7: 'wind_dir', 8: 'wind_speed', 9: 'precip', 10: 'visib', 11: 'sched_dep_hour', 12: 'sched_arr_hour'}\n",
      "Selected groups: [0, 2, 5, 7, 8, 9, 10, 11, 12]\n",
      "Naive Selected Groups: 9\n",
      "Selected groups: [0, 2, 5, 7, 8, 9, 10, 11, 12]\n",
      "MLE Selected Groups: 9\n",
      "Equally spaced quantile knots used.\n",
      "Equally spaced quantile knots used.\n",
      "{0: 'distance', 1: 'temp', 2: 'dewp', 3: 'humid', 4: 'pressure', 5: 'plane_age', 6: 'seats', 7: 'wind_dir', 8: 'wind_speed', 9: 'precip', 10: 'visib', 11: 'sched_dep_hour', 12: 'sched_arr_hour'}\n",
      "Selected groups: [0, 5, 7, 9, 10, 11, 12]\n",
      "Naive Selected Groups: 7\n",
      "Selected groups: [0, 5, 9, 11, 12]\n",
      "MLE Selected Groups: 5\n",
      "Equally spaced quantile knots used.\n",
      "Equally spaced quantile knots used.\n",
      "{0: 'distance', 1: 'temp', 2: 'dewp', 3: 'humid', 4: 'pressure', 5: 'plane_age', 6: 'seats', 7: 'wind_dir', 8: 'wind_speed', 9: 'precip', 10: 'visib', 11: 'sched_dep_hour', 12: 'sched_arr_hour'}\n",
      "Selected groups: [0, 2, 5, 7, 8, 9, 10, 11, 12]\n",
      "Naive Selected Groups: 9\n",
      "Selected groups: [0, 1, 2, 3, 5, 8, 9, 10, 11, 12]\n",
      "MLE Selected Groups: 10\n",
      "Equally spaced quantile knots used.\n",
      "Equally spaced quantile knots used.\n",
      "{0: 'distance', 1: 'temp', 2: 'dewp', 3: 'humid', 4: 'pressure', 5: 'plane_age', 6: 'seats', 7: 'wind_dir', 8: 'wind_speed', 9: 'precip', 10: 'visib', 11: 'sched_dep_hour', 12: 'sched_arr_hour'}\n",
      "Selected groups: [0, 2, 3, 5, 6, 7, 8, 9, 11, 12, 13]\n",
      "Naive Selected Groups: 11\n",
      "Selected groups: [0, 2, 3, 5, 8, 9, 11, 12, 13]\n",
      "MLE Selected Groups: 9\n",
      "Equally spaced quantile knots used.\n",
      "Equally spaced quantile knots used.\n",
      "{0: 'distance', 1: 'temp', 2: 'dewp', 3: 'humid', 4: 'pressure', 5: 'plane_age', 6: 'seats', 7: 'wind_dir', 8: 'wind_speed', 9: 'precip', 10: 'visib', 11: 'sched_dep_hour', 12: 'sched_arr_hour'}\n",
      "Selected groups: [0, 3, 5, 7, 8, 9, 10, 11, 12]\n",
      "Naive Selected Groups: 9\n",
      "Selected groups: [0, 3, 5, 8, 9, 11, 12]\n",
      "MLE Selected Groups: 7\n",
      "Equally spaced quantile knots used.\n",
      "Equally spaced quantile knots used.\n",
      "{0: 'distance', 1: 'temp', 2: 'dewp', 3: 'humid', 4: 'pressure', 5: 'plane_age', 6: 'seats', 7: 'wind_dir', 8: 'wind_speed', 9: 'precip', 10: 'visib', 11: 'sched_dep_hour', 12: 'sched_arr_hour'}\n",
      "Selected groups: [0, 2, 3, 5, 9, 11, 12]\n",
      "Naive Selected Groups: 7\n",
      "Selected groups: [0, 2, 3, 5, 9, 12]\n",
      "MLE Selected Groups: 6\n",
      "Equally spaced quantile knots used.\n",
      "Equally spaced quantile knots used.\n",
      "{0: 'distance', 1: 'temp', 2: 'dewp', 3: 'humid', 4: 'pressure', 5: 'plane_age', 6: 'seats', 7: 'wind_dir', 8: 'wind_speed', 9: 'precip', 10: 'visib', 11: 'sched_dep_hour', 12: 'sched_arr_hour'}\n",
      "Selected groups: [0, 2, 3, 5, 8, 9, 10, 11, 12, 13]\n",
      "Naive Selected Groups: 10\n",
      "Selected groups: [0, 2, 3, 5, 8, 9, 10, 11, 12, 13]\n",
      "MLE Selected Groups: 10\n",
      "Equally spaced quantile knots used.\n",
      "Equally spaced quantile knots used.\n",
      "{0: 'distance', 1: 'temp', 2: 'dewp', 3: 'humid', 4: 'pressure', 5: 'plane_age', 6: 'seats', 7: 'wind_dir', 8: 'wind_speed', 9: 'precip', 10: 'visib', 11: 'sched_dep_hour', 12: 'sched_arr_hour'}\n",
      "Selected groups: [0, 2, 3, 5, 11, 12]\n",
      "Naive Selected Groups: 6\n",
      "Selected groups: [0, 2, 3, 5, 11, 12]\n",
      "MLE Selected Groups: 6\n",
      "Equally spaced quantile knots used.\n",
      "Equally spaced quantile knots used.\n",
      "{0: 'distance', 1: 'temp', 2: 'dewp', 3: 'humid', 4: 'pressure', 5: 'plane_age', 6: 'seats', 7: 'wind_dir', 8: 'wind_speed', 9: 'precip', 10: 'visib', 11: 'sched_dep_hour', 12: 'sched_arr_hour'}\n",
      "Selected groups: [0, 2, 3, 5, 7, 8, 11, 12]\n",
      "Naive Selected Groups: 8\n",
      "Selected groups: [0, 3, 5, 7, 8, 11, 12]\n",
      "MLE Selected Groups: 7\n",
      "Equally spaced quantile knots used.\n",
      "Equally spaced quantile knots used.\n",
      "{0: 'distance', 1: 'temp', 2: 'dewp', 3: 'humid', 4: 'pressure', 5: 'plane_age', 6: 'seats', 7: 'wind_dir', 8: 'wind_speed', 9: 'precip', 10: 'visib', 11: 'sched_dep_hour', 12: 'sched_arr_hour'}\n",
      "Selected groups: [0, 3, 5, 7, 9, 12, 13]\n",
      "Naive Selected Groups: 7\n",
      "Selected groups: [0, 3, 5, 9, 12, 13]\n",
      "MLE Selected Groups: 6\n",
      "Equally spaced quantile knots used.\n",
      "Equally spaced quantile knots used.\n",
      "{0: 'distance', 1: 'temp', 2: 'dewp', 3: 'humid', 4: 'pressure', 5: 'plane_age', 6: 'seats', 7: 'wind_dir', 8: 'wind_speed', 9: 'precip', 10: 'visib', 11: 'sched_dep_hour', 12: 'sched_arr_hour'}\n",
      "Selected groups: [0, 2, 3, 5, 7, 8, 11, 12, 13]\n",
      "Naive Selected Groups: 9\n",
      "Selected groups: [0, 3, 5, 8, 11, 12]\n",
      "MLE Selected Groups: 6\n",
      "Equally spaced quantile knots used.\n",
      "Equally spaced quantile knots used.\n",
      "{0: 'distance', 1: 'temp', 2: 'dewp', 3: 'humid', 4: 'pressure', 5: 'plane_age', 6: 'seats', 7: 'wind_dir', 8: 'wind_speed', 9: 'precip', 10: 'visib', 11: 'sched_dep_hour', 12: 'sched_arr_hour'}\n",
      "Selected groups: [0, 2, 3, 5, 7, 8, 9, 10, 11, 12]\n",
      "Naive Selected Groups: 10\n",
      "Selected groups: [0, 2, 3, 5, 7, 8, 9, 10, 11, 12]\n",
      "MLE Selected Groups: 10\n",
      "Equally spaced quantile knots used.\n",
      "Equally spaced quantile knots used.\n",
      "{0: 'distance', 1: 'temp', 2: 'dewp', 3: 'humid', 4: 'pressure', 5: 'plane_age', 6: 'seats', 7: 'wind_dir', 8: 'wind_speed', 9: 'precip', 10: 'visib', 11: 'sched_dep_hour', 12: 'sched_arr_hour'}\n",
      "Selected groups: [0, 2, 8, 9, 10, 11, 12]\n",
      "Naive Selected Groups: 7\n",
      "Selected groups: [0, 2, 5, 8, 9, 10, 11, 12]\n",
      "MLE Selected Groups: 8\n",
      "Equally spaced quantile knots used.\n",
      "Equally spaced quantile knots used.\n",
      "{0: 'distance', 1: 'temp', 2: 'dewp', 3: 'humid', 4: 'pressure', 5: 'plane_age', 6: 'seats', 7: 'wind_dir', 8: 'wind_speed', 9: 'precip', 10: 'visib', 11: 'sched_dep_hour', 12: 'sched_arr_hour'}\n",
      "Selected groups: [0, 1, 2, 3, 5, 7, 11, 12, 13]\n",
      "Naive Selected Groups: 9\n",
      "Selected groups: [0, 1, 2, 3, 5, 11, 12]\n",
      "MLE Selected Groups: 7\n",
      "Equally spaced quantile knots used.\n",
      "Equally spaced quantile knots used.\n",
      "{0: 'distance', 1: 'temp', 2: 'dewp', 3: 'humid', 4: 'pressure', 5: 'plane_age', 6: 'seats', 7: 'wind_dir', 8: 'wind_speed', 9: 'precip', 10: 'visib', 11: 'sched_dep_hour', 12: 'sched_arr_hour'}\n",
      "Selected groups: [0, 2, 5, 6, 9, 11]\n",
      "Naive Selected Groups: 6\n",
      "Selected groups: [0, 2, 5, 6, 9, 12]\n",
      "MLE Selected Groups: 6\n",
      "Equally spaced quantile knots used.\n",
      "Equally spaced quantile knots used.\n",
      "{0: 'distance', 1: 'temp', 2: 'dewp', 3: 'humid', 4: 'pressure', 5: 'plane_age', 6: 'seats', 7: 'wind_dir', 8: 'wind_speed', 9: 'precip', 10: 'visib', 11: 'sched_dep_hour', 12: 'sched_arr_hour'}\n",
      "Selected groups: [0, 2, 5, 6, 9, 11, 12]\n",
      "Naive Selected Groups: 7\n",
      "Selected groups: [0, 2, 5, 6, 9, 11, 12]\n",
      "MLE Selected Groups: 7\n",
      "Equally spaced quantile knots used.\n",
      "Equally spaced quantile knots used.\n",
      "{0: 'distance', 1: 'temp', 2: 'dewp', 3: 'humid', 4: 'pressure', 5: 'plane_age', 6: 'seats', 7: 'wind_dir', 8: 'wind_speed', 9: 'precip', 10: 'visib', 11: 'sched_dep_hour', 12: 'sched_arr_hour'}\n",
      "Selected groups: [0, 2, 5, 7, 8, 9, 11, 12]\n",
      "Naive Selected Groups: 8\n",
      "Selected groups: [0, 2, 5, 8, 9, 11, 12]\n",
      "MLE Selected Groups: 7\n",
      "Equally spaced quantile knots used.\n",
      "Equally spaced quantile knots used.\n",
      "{0: 'distance', 1: 'temp', 2: 'dewp', 3: 'humid', 4: 'pressure', 5: 'plane_age', 6: 'seats', 7: 'wind_dir', 8: 'wind_speed', 9: 'precip', 10: 'visib', 11: 'sched_dep_hour', 12: 'sched_arr_hour'}\n",
      "Selected groups: [0, 1, 2, 5, 8, 9, 12]\n",
      "Naive Selected Groups: 7\n",
      "Selected groups: [0, 1, 5, 8, 9, 12]\n",
      "MLE Selected Groups: 6\n",
      "Equally spaced quantile knots used.\n",
      "Equally spaced quantile knots used.\n",
      "{0: 'distance', 1: 'temp', 2: 'dewp', 3: 'humid', 4: 'pressure', 5: 'plane_age', 6: 'seats', 7: 'wind_dir', 8: 'wind_speed', 9: 'precip', 10: 'visib', 11: 'sched_dep_hour', 12: 'sched_arr_hour'}\n",
      "Selected groups: [0, 2, 5, 11, 12, 13]\n",
      "Naive Selected Groups: 6\n",
      "Selected groups: [0, 2, 5, 11, 12, 13]\n",
      "MLE Selected Groups: 6\n",
      "Equally spaced quantile knots used.\n",
      "Equally spaced quantile knots used.\n",
      "{0: 'distance', 1: 'temp', 2: 'dewp', 3: 'humid', 4: 'pressure', 5: 'plane_age', 6: 'seats', 7: 'wind_dir', 8: 'wind_speed', 9: 'precip', 10: 'visib', 11: 'sched_dep_hour', 12: 'sched_arr_hour'}\n",
      "Selected groups: [0, 1, 2, 9, 10, 12, 13]\n",
      "Naive Selected Groups: 7\n",
      "Selected groups: [0, 2, 9, 10, 12, 13]\n",
      "MLE Selected Groups: 6\n",
      "Equally spaced quantile knots used.\n",
      "Equally spaced quantile knots used.\n",
      "{0: 'distance', 1: 'temp', 2: 'dewp', 3: 'humid', 4: 'pressure', 5: 'plane_age', 6: 'seats', 7: 'wind_dir', 8: 'wind_speed', 9: 'precip', 10: 'visib', 11: 'sched_dep_hour', 12: 'sched_arr_hour'}\n",
      "Selected groups: [0, 2, 5, 6, 7, 8, 9, 10, 11, 12]\n",
      "Naive Selected Groups: 10\n",
      "Selected groups: [0, 2, 5, 6, 7, 8, 9, 11, 12]\n",
      "MLE Selected Groups: 9\n",
      "Equally spaced quantile knots used.\n",
      "Equally spaced quantile knots used.\n",
      "{0: 'distance', 1: 'temp', 2: 'dewp', 3: 'humid', 4: 'pressure', 5: 'plane_age', 6: 'seats', 7: 'wind_dir', 8: 'wind_speed', 9: 'precip', 10: 'visib', 11: 'sched_dep_hour', 12: 'sched_arr_hour'}\n",
      "Selected groups: [0, 5, 6, 8, 9, 11, 12, 13]\n",
      "Naive Selected Groups: 8\n",
      "Selected groups: [0, 5, 8, 9, 12]\n",
      "MLE Selected Groups: 5\n",
      "Equally spaced quantile knots used.\n",
      "Equally spaced quantile knots used.\n",
      "{0: 'distance', 1: 'temp', 2: 'dewp', 3: 'humid', 4: 'pressure', 5: 'plane_age', 6: 'seats', 7: 'wind_dir', 8: 'wind_speed', 9: 'precip', 10: 'visib', 11: 'sched_dep_hour', 12: 'sched_arr_hour'}\n",
      "Selected groups: [0, 2, 5, 7, 8, 9, 12]\n",
      "Naive Selected Groups: 7\n",
      "Selected groups: [0, 1, 2, 3, 5, 7, 8, 9, 12]\n",
      "MLE Selected Groups: 9\n",
      "Equally spaced quantile knots used.\n",
      "Equally spaced quantile knots used.\n",
      "{0: 'distance', 1: 'temp', 2: 'dewp', 3: 'humid', 4: 'pressure', 5: 'plane_age', 6: 'seats', 7: 'wind_dir', 8: 'wind_speed', 9: 'precip', 10: 'visib', 11: 'sched_dep_hour', 12: 'sched_arr_hour'}\n",
      "Selected groups: [0, 1, 2, 5, 7, 8, 9, 11, 12]\n",
      "Naive Selected Groups: 9\n",
      "Selected groups: [0, 2, 5, 8, 9, 11, 12]\n",
      "MLE Selected Groups: 7\n",
      "Equally spaced quantile knots used.\n",
      "Equally spaced quantile knots used.\n",
      "{0: 'distance', 1: 'temp', 2: 'dewp', 3: 'humid', 4: 'pressure', 5: 'plane_age', 6: 'seats', 7: 'wind_dir', 8: 'wind_speed', 9: 'precip', 10: 'visib', 11: 'sched_dep_hour', 12: 'sched_arr_hour'}\n",
      "Selected groups: [0, 2, 6, 7, 9, 12]\n",
      "Naive Selected Groups: 6\n",
      "Selected groups: [0, 2, 6, 9, 12]\n",
      "MLE Selected Groups: 5\n",
      "Equally spaced quantile knots used.\n",
      "Equally spaced quantile knots used.\n",
      "{0: 'distance', 1: 'temp', 2: 'dewp', 3: 'humid', 4: 'pressure', 5: 'plane_age', 6: 'seats', 7: 'wind_dir', 8: 'wind_speed', 9: 'precip', 10: 'visib', 11: 'sched_dep_hour', 12: 'sched_arr_hour'}\n",
      "Selected groups: [0, 2, 3, 5, 6, 8, 9, 11, 12]\n",
      "Naive Selected Groups: 9\n",
      "Selected groups: [0, 2, 3, 5, 6, 8, 9, 11, 12]\n",
      "MLE Selected Groups: 9\n",
      "Equally spaced quantile knots used.\n",
      "Equally spaced quantile knots used.\n",
      "{0: 'distance', 1: 'temp', 2: 'dewp', 3: 'humid', 4: 'pressure', 5: 'plane_age', 6: 'seats', 7: 'wind_dir', 8: 'wind_speed', 9: 'precip', 10: 'visib', 11: 'sched_dep_hour', 12: 'sched_arr_hour'}\n",
      "Selected groups: [0, 2, 5, 7, 8, 9, 12, 13]\n",
      "Naive Selected Groups: 8\n",
      "Selected groups: [0, 2, 3, 5, 8, 9, 12, 13]\n",
      "MLE Selected Groups: 8\n",
      "Equally spaced quantile knots used.\n",
      "Equally spaced quantile knots used.\n",
      "{0: 'distance', 1: 'temp', 2: 'dewp', 3: 'humid', 4: 'pressure', 5: 'plane_age', 6: 'seats', 7: 'wind_dir', 8: 'wind_speed', 9: 'precip', 10: 'visib', 11: 'sched_dep_hour', 12: 'sched_arr_hour'}\n",
      "Selected groups: [0, 1, 2, 5, 7, 8, 9, 10, 12]\n",
      "Naive Selected Groups: 9\n",
      "Selected groups: [0, 1, 2, 3, 5, 7, 8, 9, 10, 12]\n",
      "MLE Selected Groups: 10\n",
      "Equally spaced quantile knots used.\n",
      "Equally spaced quantile knots used.\n",
      "{0: 'distance', 1: 'temp', 2: 'dewp', 3: 'humid', 4: 'pressure', 5: 'plane_age', 6: 'seats', 7: 'wind_dir', 8: 'wind_speed', 9: 'precip', 10: 'visib', 11: 'sched_dep_hour', 12: 'sched_arr_hour'}\n",
      "Selected groups: [0, 2, 3, 5, 6, 7, 8, 9, 11, 12]\n",
      "Naive Selected Groups: 10\n",
      "Selected groups: [0, 2, 3, 5, 6, 7, 8, 9, 11, 12]\n",
      "MLE Selected Groups: 10\n",
      "Equally spaced quantile knots used.\n",
      "Equally spaced quantile knots used.\n",
      "{0: 'distance', 1: 'temp', 2: 'dewp', 3: 'humid', 4: 'pressure', 5: 'plane_age', 6: 'seats', 7: 'wind_dir', 8: 'wind_speed', 9: 'precip', 10: 'visib', 11: 'sched_dep_hour', 12: 'sched_arr_hour'}\n",
      "Selected groups: [0, 1, 2, 5, 7, 8, 11, 12]\n",
      "Naive Selected Groups: 8\n",
      "Selected groups: [0, 2, 5, 8, 12]\n",
      "MLE Selected Groups: 5\n",
      "Equally spaced quantile knots used.\n",
      "Equally spaced quantile knots used.\n",
      "{0: 'distance', 1: 'temp', 2: 'dewp', 3: 'humid', 4: 'pressure', 5: 'plane_age', 6: 'seats', 7: 'wind_dir', 8: 'wind_speed', 9: 'precip', 10: 'visib', 11: 'sched_dep_hour', 12: 'sched_arr_hour'}\n",
      "Selected groups: [0, 2, 3, 5, 7, 9, 10, 11, 12]\n",
      "Naive Selected Groups: 9\n",
      "Selected groups: [0, 2, 3, 5, 9, 10, 11, 12]\n",
      "MLE Selected Groups: 8\n",
      "Equally spaced quantile knots used.\n",
      "Equally spaced quantile knots used.\n",
      "{0: 'distance', 1: 'temp', 2: 'dewp', 3: 'humid', 4: 'pressure', 5: 'plane_age', 6: 'seats', 7: 'wind_dir', 8: 'wind_speed', 9: 'precip', 10: 'visib', 11: 'sched_dep_hour', 12: 'sched_arr_hour'}\n",
      "Selected groups: [0, 2, 3, 5, 7, 11, 12]\n",
      "Naive Selected Groups: 7\n",
      "Selected groups: [0, 2, 3, 5, 7, 8, 11, 12]\n",
      "MLE Selected Groups: 8\n",
      "Equally spaced quantile knots used.\n",
      "Equally spaced quantile knots used.\n",
      "{0: 'distance', 1: 'temp', 2: 'dewp', 3: 'humid', 4: 'pressure', 5: 'plane_age', 6: 'seats', 7: 'wind_dir', 8: 'wind_speed', 9: 'precip', 10: 'visib', 11: 'sched_dep_hour', 12: 'sched_arr_hour'}\n",
      "Selected groups: [0, 5, 8, 9, 12]\n",
      "Naive Selected Groups: 5\n",
      "Selected groups: [0, 3, 8, 9, 12]\n",
      "MLE Selected Groups: 5\n",
      "Equally spaced quantile knots used.\n",
      "Equally spaced quantile knots used.\n",
      "{0: 'distance', 1: 'temp', 2: 'dewp', 3: 'humid', 4: 'pressure', 5: 'plane_age', 6: 'seats', 7: 'wind_dir', 8: 'wind_speed', 9: 'precip', 10: 'visib', 11: 'sched_dep_hour', 12: 'sched_arr_hour'}\n",
      "Selected groups: [0, 2, 5, 6, 7, 8, 9, 10, 11, 12]\n",
      "Naive Selected Groups: 10\n",
      "Selected groups: [0, 2, 3, 5, 6, 7, 8, 9, 10, 11, 12]\n",
      "MLE Selected Groups: 11\n",
      "Equally spaced quantile knots used.\n",
      "Equally spaced quantile knots used.\n",
      "{0: 'distance', 1: 'temp', 2: 'dewp', 3: 'humid', 4: 'pressure', 5: 'plane_age', 6: 'seats', 7: 'wind_dir', 8: 'wind_speed', 9: 'precip', 10: 'visib', 11: 'sched_dep_hour', 12: 'sched_arr_hour'}\n",
      "Selected groups: [0, 7, 9, 12, 13]\n",
      "Naive Selected Groups: 5\n",
      "Selected groups: [0, 3, 9, 12, 13]\n",
      "MLE Selected Groups: 5\n",
      "Equally spaced quantile knots used.\n",
      "Equally spaced quantile knots used.\n",
      "{0: 'distance', 1: 'temp', 2: 'dewp', 3: 'humid', 4: 'pressure', 5: 'plane_age', 6: 'seats', 7: 'wind_dir', 8: 'wind_speed', 9: 'precip', 10: 'visib', 11: 'sched_dep_hour', 12: 'sched_arr_hour'}\n",
      "Selected groups: [0, 2, 5, 8, 11, 12]\n",
      "Naive Selected Groups: 6\n",
      "Selected groups: [0, 2, 5, 8, 11, 12]\n",
      "MLE Selected Groups: 6\n",
      "Equally spaced quantile knots used.\n",
      "Equally spaced quantile knots used.\n",
      "{0: 'distance', 1: 'temp', 2: 'dewp', 3: 'humid', 4: 'pressure', 5: 'plane_age', 6: 'seats', 7: 'wind_dir', 8: 'wind_speed', 9: 'precip', 10: 'visib', 11: 'sched_dep_hour', 12: 'sched_arr_hour'}\n",
      "Selected groups: [0, 1, 2, 5, 7, 8, 11]\n",
      "Naive Selected Groups: 7\n",
      "Selected groups: [0, 1, 5, 8, 12]\n",
      "MLE Selected Groups: 5\n",
      "Equally spaced quantile knots used.\n",
      "Equally spaced quantile knots used.\n",
      "{0: 'distance', 1: 'temp', 2: 'dewp', 3: 'humid', 4: 'pressure', 5: 'plane_age', 6: 'seats', 7: 'wind_dir', 8: 'wind_speed', 9: 'precip', 10: 'visib', 11: 'sched_dep_hour', 12: 'sched_arr_hour'}\n",
      "Selected groups: [0, 2, 5, 8, 9, 10, 12]\n",
      "Naive Selected Groups: 7\n",
      "Selected groups: [0, 2, 3, 5, 8, 9, 12]\n",
      "MLE Selected Groups: 7\n",
      "Equally spaced quantile knots used.\n",
      "Equally spaced quantile knots used.\n",
      "{0: 'distance', 1: 'temp', 2: 'dewp', 3: 'humid', 4: 'pressure', 5: 'plane_age', 6: 'seats', 7: 'wind_dir', 8: 'wind_speed', 9: 'precip', 10: 'visib', 11: 'sched_dep_hour', 12: 'sched_arr_hour'}\n",
      "Selected groups: [0, 6, 7, 9, 12]\n",
      "Naive Selected Groups: 5\n",
      "Selected groups: [0, 6, 7, 9, 12]\n",
      "MLE Selected Groups: 5\n",
      "Equally spaced quantile knots used.\n",
      "Equally spaced quantile knots used.\n",
      "{0: 'distance', 1: 'temp', 2: 'dewp', 3: 'humid', 4: 'pressure', 5: 'plane_age', 6: 'seats', 7: 'wind_dir', 8: 'wind_speed', 9: 'precip', 10: 'visib', 11: 'sched_dep_hour', 12: 'sched_arr_hour'}\n",
      "Selected groups: [0, 2, 5, 8, 9, 10, 12]\n",
      "Naive Selected Groups: 7\n",
      "Selected groups: [0, 2, 3, 5, 8, 9, 10, 12]\n",
      "MLE Selected Groups: 8\n",
      "Equally spaced quantile knots used.\n",
      "Equally spaced quantile knots used.\n",
      "{0: 'distance', 1: 'temp', 2: 'dewp', 3: 'humid', 4: 'pressure', 5: 'plane_age', 6: 'seats', 7: 'wind_dir', 8: 'wind_speed', 9: 'precip', 10: 'visib', 11: 'sched_dep_hour', 12: 'sched_arr_hour'}\n",
      "Selected groups: [0, 2, 3, 5, 6, 7, 8, 10, 11, 12]\n",
      "Naive Selected Groups: 10\n",
      "Selected groups: [0, 3, 5, 6, 8, 10, 11, 12]\n",
      "MLE Selected Groups: 8\n",
      "Equally spaced quantile knots used.\n",
      "Equally spaced quantile knots used.\n",
      "{0: 'distance', 1: 'temp', 2: 'dewp', 3: 'humid', 4: 'pressure', 5: 'plane_age', 6: 'seats', 7: 'wind_dir', 8: 'wind_speed', 9: 'precip', 10: 'visib', 11: 'sched_dep_hour', 12: 'sched_arr_hour'}\n",
      "Selected groups: [0, 2, 5, 7, 9, 11]\n",
      "Naive Selected Groups: 6\n",
      "Selected groups: [0, 2, 5, 9, 12]\n",
      "MLE Selected Groups: 5\n",
      "Equally spaced quantile knots used.\n",
      "Equally spaced quantile knots used.\n",
      "{0: 'distance', 1: 'temp', 2: 'dewp', 3: 'humid', 4: 'pressure', 5: 'plane_age', 6: 'seats', 7: 'wind_dir', 8: 'wind_speed', 9: 'precip', 10: 'visib', 11: 'sched_dep_hour', 12: 'sched_arr_hour'}\n",
      "Selected groups: [0, 2, 5, 7, 8, 11, 12]\n",
      "Naive Selected Groups: 7\n",
      "Selected groups: [0, 2, 5, 8, 11, 12]\n",
      "MLE Selected Groups: 6\n",
      "Equally spaced quantile knots used.\n",
      "Equally spaced quantile knots used.\n",
      "{0: 'distance', 1: 'temp', 2: 'dewp', 3: 'humid', 4: 'pressure', 5: 'plane_age', 6: 'seats', 7: 'wind_dir', 8: 'wind_speed', 9: 'precip', 10: 'visib', 11: 'sched_dep_hour', 12: 'sched_arr_hour'}\n",
      "Selected groups: [0, 2, 5, 8, 9, 11, 12, 13]\n",
      "Naive Selected Groups: 8\n",
      "Selected groups: [0, 2, 5, 8, 9, 10, 12, 13]\n",
      "MLE Selected Groups: 8\n",
      "Equally spaced quantile knots used.\n",
      "Equally spaced quantile knots used.\n",
      "{0: 'distance', 1: 'temp', 2: 'dewp', 3: 'humid', 4: 'pressure', 5: 'plane_age', 6: 'seats', 7: 'wind_dir', 8: 'wind_speed', 9: 'precip', 10: 'visib', 11: 'sched_dep_hour', 12: 'sched_arr_hour'}\n",
      "Selected groups: [0, 2, 5, 6, 7, 9, 11, 12]\n",
      "Naive Selected Groups: 8\n",
      "Selected groups: [0, 2, 6, 9, 11, 12]\n",
      "MLE Selected Groups: 6\n",
      "Equally spaced quantile knots used.\n",
      "Equally spaced quantile knots used.\n",
      "{0: 'distance', 1: 'temp', 2: 'dewp', 3: 'humid', 4: 'pressure', 5: 'plane_age', 6: 'seats', 7: 'wind_dir', 8: 'wind_speed', 9: 'precip', 10: 'visib', 11: 'sched_dep_hour', 12: 'sched_arr_hour'}\n",
      "Selected groups: [0, 2, 5, 6, 8, 10, 11, 12, 13]\n",
      "Naive Selected Groups: 9\n",
      "Selected groups: [0, 2, 3, 5, 6, 8, 12]\n",
      "MLE Selected Groups: 7\n"
     ]
    }
   ],
   "source": [
    "(f1_dict, MSE_dict, interaction_freq_Naive, interaction_freq_MLE,\n",
    "            main_effects_freq_Naive, main_effects_freq_MLE)\\\n",
    "    = subsampling_inference(Y, X, test_size=0.9, n_rep=100, alpha=0.1)"
   ],
   "metadata": {
    "collapsed": false,
    "ExecuteTime": {
     "end_time": "2025-02-26T08:52:24.383451Z",
     "start_time": "2025-02-26T06:37:57.985255Z"
    }
   },
   "id": "5d9eebde745b44d1"
  },
  {
   "cell_type": "code",
   "execution_count": 124,
   "outputs": [
    {
     "data": {
      "text/plain": "Index(['distance', 'plane_age', 'seats', 'temp', 'dewp', 'humid', 'wind_dir',\n       'wind_speed', 'precip', 'pressure', 'visib', 'sched_dep_hour',\n       'sched_arr_hour'],\n      dtype='object')"
     },
     "execution_count": 124,
     "metadata": {},
     "output_type": "execute_result"
    }
   ],
   "source": [
    "X.columns"
   ],
   "metadata": {
    "collapsed": false,
    "ExecuteTime": {
     "end_time": "2025-02-26T04:59:15.754691Z",
     "start_time": "2025-02-26T04:59:15.732993Z"
    }
   },
   "id": "7efdf9572cc1bb65"
  },
  {
   "cell_type": "code",
   "execution_count": 71,
   "outputs": [
    {
     "data": {
      "text/plain": "dict_keys(['method', 'F1'])"
     },
     "execution_count": 71,
     "metadata": {},
     "output_type": "execute_result"
    }
   ],
   "source": [
    "f1_dict.keys()"
   ],
   "metadata": {
    "collapsed": false,
    "ExecuteTime": {
     "end_time": "2025-02-25T19:31:41.999160Z",
     "start_time": "2025-02-25T19:31:41.969074Z"
    }
   },
   "id": "6c09f35d271e9ed9"
  },
  {
   "cell_type": "code",
   "execution_count": 142,
   "outputs": [
    {
     "data": {
      "text/plain": "<Axes: xlabel='method', ylabel='F1'>"
     },
     "execution_count": 142,
     "metadata": {},
     "output_type": "execute_result"
    },
    {
     "data": {
      "text/plain": "<Figure size 640x480 with 1 Axes>",
      "image/png": "[encoded data removed]"
     },
     "metadata": {},
     "output_type": "display_data"
    }
   ],
   "source": [
    "import matplotlib.pyplot as plt\n",
    "import seaborn as sns\n",
    "sns.boxplot(\n",
    "    data=pd.DataFrame(f1_dict),\n",
    "    x='method',\n",
    "    y='F1',\n",
    "    showmeans=True\n",
    ")"
   ],
   "metadata": {
    "collapsed": false,
    "ExecuteTime": {
     "end_time": "2025-02-26T17:15:58.713619Z",
     "start_time": "2025-02-26T17:15:58.596055Z"
    }
   },
   "id": "1ace21a636347640"
  },
  {
   "cell_type": "code",
   "execution_count": 143,
   "outputs": [
    {
     "data": {
      "text/plain": "<Axes: xlabel='method', ylabel='Precision'>"
     },
     "execution_count": 143,
     "metadata": {},
     "output_type": "execute_result"
    },
    {
     "data": {
      "text/plain": "<Figure size 640x480 with 1 Axes>",
      "image/png": "[encoded data removed]"
     },
     "metadata": {},
     "output_type": "display_data"
    }
   ],
   "source": [
    "import matplotlib.pyplot as plt\n",
    "import seaborn as sns\n",
    "sns.boxplot(\n",
    "    data=pd.DataFrame(f1_dict),\n",
    "    x='method',\n",
    "    y='Precision',\n",
    "    showmeans=True\n",
    ")"
   ],
   "metadata": {
    "collapsed": false,
    "ExecuteTime": {
     "end_time": "2025-02-26T17:16:17.191591Z",
     "start_time": "2025-02-26T17:16:17.088175Z"
    }
   },
   "id": "309b7ce6b84aa059"
  },
  {
   "cell_type": "code",
   "execution_count": 144,
   "outputs": [
    {
     "data": {
      "text/plain": "<Axes: xlabel='method', ylabel='Recall'>"
     },
     "execution_count": 144,
     "metadata": {},
     "output_type": "execute_result"
    },
    {
     "data": {
      "text/plain": "<Figure size 640x480 with 1 Axes>",
      "image/png": "[encoded data removed]"
     },
     "metadata": {},
     "output_type": "display_data"
    }
   ],
   "source": [
    "import matplotlib.pyplot as plt\n",
    "import seaborn as sns\n",
    "sns.boxplot(\n",
    "    data=pd.DataFrame(f1_dict),\n",
    "    x='method',\n",
    "    y='Recall',\n",
    "    showmeans=True\n",
    ")"
   ],
   "metadata": {
    "collapsed": false,
    "ExecuteTime": {
     "end_time": "2025-02-26T17:16:34.389253Z",
     "start_time": "2025-02-26T17:16:34.252781Z"
    }
   },
   "id": "7cfc905adc73e1b3"
  },
  {
   "cell_type": "code",
   "execution_count": 145,
   "outputs": [
    {
     "data": {
      "text/plain": "<Axes: xlabel='method', ylabel='MSE_test'>"
     },
     "execution_count": 145,
     "metadata": {},
     "output_type": "execute_result"
    },
    {
     "data": {
      "text/plain": "<Figure size 640x480 with 1 Axes>",
      "image/png": "[encoded data removed]"
     },
     "metadata": {},
     "output_type": "display_data"
    }
   ],
   "source": [
    "sns.boxplot(\n",
    "    data=pd.DataFrame(MSE_dict),\n",
    "    x='method',\n",
    "    y='MSE_test',\n",
    "    showmeans=True\n",
    ")"
   ],
   "metadata": {
    "collapsed": false,
    "ExecuteTime": {
     "end_time": "2025-02-26T17:16:49.592064Z",
     "start_time": "2025-02-26T17:16:49.497174Z"
    }
   },
   "id": "65972116c5ed4c6"
  },
  {
   "cell_type": "code",
   "execution_count": 134,
   "outputs": [
    {
     "data": {
      "text/plain": "<Axes: xlabel='method', ylabel='MSE_train'>"
     },
     "execution_count": 134,
     "metadata": {},
     "output_type": "execute_result"
    },
    {
     "data": {
      "text/plain": "<Figure size 640x480 with 1 Axes>",
      "image/png": "[encoded data removed]"
     },
     "metadata": {},
     "output_type": "display_data"
    }
   ],
   "source": [
    "sns.boxplot(\n",
    "    data=pd.DataFrame(MSE_dict),\n",
    "    x='method',\n",
    "    y='MSE_train'\n",
    ")"
   ],
   "metadata": {
    "collapsed": false,
    "ExecuteTime": {
     "end_time": "2025-02-26T16:39:49.771576Z",
     "start_time": "2025-02-26T16:39:49.687177Z"
    }
   },
   "id": "74dfad27e66f328a"
  },
  {
   "cell_type": "code",
   "execution_count": 135,
   "outputs": [
    {
     "data": {
      "text/plain": "2457.5003734594484"
     },
     "execution_count": 135,
     "metadata": {},
     "output_type": "execute_result"
    }
   ],
   "source": [
    "y_test.std()**2"
   ],
   "metadata": {
    "collapsed": false,
    "ExecuteTime": {
     "end_time": "2025-02-26T16:39:50.863063Z",
     "start_time": "2025-02-26T16:39:50.848747Z"
    }
   },
   "id": "1a2f6f91b0774c7e"
  },
  {
   "cell_type": "code",
   "execution_count": 136,
   "outputs": [
    {
     "data": {
      "text/plain": "({('distance', 'plane_age'): 3,\n  ('distance', 'wind_dir'): 4,\n  ('distance', 'sched_dep_hour'): 8,\n  ('dewp', 'sched_dep_hour'): 6,\n  ('humid', 'wind_dir'): 20,\n  ('humid', 'sched_dep_hour'): 34,\n  ('pressure', 'seats'): 35,\n  ('pressure', 'wind_dir'): 33,\n  ('pressure', 'visib'): 39,\n  ('pressure', 'sched_dep_hour'): 20,\n  ('plane_age', 'visib'): 30,\n  ('seats', 'wind_dir'): 44,\n  ('precip', 'visib'): 10,\n  ('precip', 'sched_dep_hour'): 23,\n  ('humid', 'visib'): 48,\n  ('visib', 'sched_arr_hour'): 14,\n  ('sched_dep_hour', 'sched_arr_hour'): 15,\n  ('dewp', 'wind_speed'): 14,\n  ('wind_dir', 'sched_dep_hour'): 14,\n  ('pressure', 'sched_arr_hour'): 15,\n  ('plane_age', 'wind_speed'): 12,\n  ('seats', 'sched_dep_hour'): 17,\n  ('wind_dir', 'sched_arr_hour'): 16,\n  ('wind_speed', 'precip'): 12,\n  ('wind_speed', 'sched_arr_hour'): 10,\n  ('visib', 'sched_dep_hour'): 18,\n  ('dewp', 'visib'): 14,\n  ('humid', 'seats'): 24,\n  ('humid', 'pressure'): 13,\n  ('pressure', 'plane_age'): 13,\n  ('pressure', 'temp'): 11,\n  ('pressure', 'precip'): 10,\n  ('plane_age', 'temp'): 7,\n  ('plane_age', 'sched_dep_hour'): 9,\n  ('wind_dir', 'precip'): 5,\n  ('distance', 'visib'): 7,\n  ('dewp', 'seats'): 8,\n  ('seats', 'visib'): 8,\n  ('seats', 'sched_arr_hour'): 12,\n  ('wind_speed', 'visib'): 10,\n  ('dewp', 'sched_arr_hour'): 5,\n  ('plane_age', 'wind_dir'): 15,\n  ('wind_dir', 'visib'): 28,\n  ('distance', 'wind_speed'): 6,\n  ('humid', 'wind_speed'): 11,\n  ('pressure', 'wind_speed'): 15,\n  ('wind_dir', 'wind_speed'): 21,\n  ('wind_speed', 'sched_dep_hour'): 13,\n  ('seats', 'wind_speed'): 6,\n  ('temp', 'precip'): 2,\n  ('humid', 'plane_age'): 5,\n  ('plane_age', 'sched_arr_hour'): 7,\n  ('distance', 'temp'): 3,\n  ('distance', 'sched_arr_hour'): 5,\n  ('seats', 'temp'): 6,\n  ('temp', 'wind_dir'): 11,\n  ('temp', 'wind_speed'): 4,\n  ('temp', 'visib'): 5,\n  ('humid', 'sched_arr_hour'): 7,\n  ('seats', 'precip'): 8,\n  ('dewp', 'humid'): 12,\n  ('dewp', 'pressure'): 6,\n  ('distance', 'pressure'): 4,\n  ('distance', 'seats'): 2,\n  ('distance', 'precip'): 3,\n  ('temp', 'humid'): 6,\n  ('dewp', 'wind_dir'): 4,\n  ('plane_age', 'seats'): 2,\n  ('temp', 'sched_dep_hour'): 3,\n  ('temp', 'sched_arr_hour'): 2,\n  ('dewp', 'precip'): 6,\n  ('humid', 'precip'): 3,\n  ('precip', 'sched_arr_hour'): 4,\n  ('plane_age', 'precip'): 2,\n  ('distance', 'humid'): 1,\n  ('temp', 'dewp'): 2,\n  ('dewp', 'plane_age'): 1},\n {('distance', 'sched_dep_hour'): 13,\n  ('temp', 'sched_dep_hour'): 3,\n  ('dewp', 'plane_age'): 22,\n  ('dewp', 'wind_dir'): 29,\n  ('dewp', 'sched_dep_hour'): 43,\n  ('humid', 'wind_dir'): 18,\n  ('pressure', 'seats'): 40,\n  ('seats', 'wind_dir'): 39,\n  ('precip', 'visib'): 23,\n  ('distance', 'wind_speed'): 5,\n  ('temp', 'wind_speed'): 15,\n  ('dewp', 'wind_speed'): 10,\n  ('humid', 'wind_speed'): 15,\n  ('humid', 'sched_dep_hour'): 54,\n  ('pressure', 'wind_speed'): 22,\n  ('pressure', 'visib'): 56,\n  ('plane_age', 'wind_speed'): 17,\n  ('seats', 'wind_speed'): 15,\n  ('wind_dir', 'wind_speed'): 26,\n  ('wind_speed', 'precip'): 20,\n  ('wind_speed', 'visib'): 8,\n  ('wind_speed', 'sched_dep_hour'): 30,\n  ('wind_speed', 'sched_arr_hour'): 18,\n  ('visib', 'sched_dep_hour'): 41,\n  ('seats', 'sched_dep_hour'): 9,\n  ('wind_dir', 'precip'): 7,\n  ('wind_dir', 'visib'): 38,\n  ('precip', 'sched_dep_hour'): 14,\n  ('dewp', 'seats'): 20,\n  ('dewp', 'visib'): 36,\n  ('pressure', 'sched_dep_hour'): 21,\n  ('humid', 'pressure'): 15,\n  ('pressure', 'plane_age'): 18,\n  ('pressure', 'temp'): 7,\n  ('pressure', 'wind_dir'): 28,\n  ('pressure', 'precip'): 15,\n  ('pressure', 'sched_arr_hour'): 8,\n  ('plane_age', 'seats'): 9,\n  ('plane_age', 'temp'): 4,\n  ('plane_age', 'sched_dep_hour'): 16,\n  ('seats', 'temp'): 2,\n  ('seats', 'precip'): 7,\n  ('temp', 'visib'): 10,\n  ('wind_dir', 'sched_dep_hour'): 11,\n  ('distance', 'pressure'): 6,\n  ('dewp', 'pressure'): 29,\n  ('humid', 'seats'): 10,\n  ('humid', 'visib'): 25,\n  ('seats', 'visib'): 9,\n  ('distance', 'dewp'): 4,\n  ('distance', 'precip'): 6,\n  ('distance', 'visib'): 5,\n  ('dewp', 'humid'): 18,\n  ('dewp', 'precip'): 35,\n  ('humid', 'precip'): 7,\n  ('plane_age', 'precip'): 8,\n  ('plane_age', 'visib'): 28,\n  ('visib', 'sched_arr_hour'): 10,\n  ('plane_age', 'wind_dir'): 15,\n  ('temp', 'dewp'): 7,\n  ('temp', 'precip'): 1,\n  ('temp', 'humid'): 5,\n  ('plane_age', 'sched_arr_hour'): 7,\n  ('seats', 'sched_arr_hour'): 3,\n  ('wind_dir', 'sched_arr_hour'): 4,\n  ('humid', 'plane_age'): 4,\n  ('sched_dep_hour', 'sched_arr_hour'): 3,\n  ('humid', 'sched_arr_hour'): 8,\n  ('distance', 'sched_arr_hour'): 1,\n  ('dewp', 'sched_arr_hour'): 7,\n  ('distance', 'wind_dir'): 1,\n  ('temp', 'wind_dir'): 3,\n  ('distance', 'plane_age'): 1,\n  ('distance', 'humid'): 1})"
     },
     "execution_count": 136,
     "metadata": {},
     "output_type": "execute_result"
    }
   ],
   "source": [
    "interaction_freq_Naive, interaction_freq_MLE"
   ],
   "metadata": {
    "collapsed": false,
    "ExecuteTime": {
     "end_time": "2025-02-26T16:39:51.381006Z",
     "start_time": "2025-02-26T16:39:51.358721Z"
    }
   },
   "id": "c7ddccc4ed75ec0e"
  },
  {
   "cell_type": "code",
   "execution_count": 138,
   "outputs": [
    {
     "data": {
      "text/plain": "[(('humid', 'visib'), 48),\n (('seats', 'wind_dir'), 44),\n (('pressure', 'visib'), 39),\n (('pressure', 'seats'), 35),\n (('humid', 'sched_dep_hour'), 34),\n (('pressure', 'wind_dir'), 33),\n (('plane_age', 'visib'), 30),\n (('wind_dir', 'visib'), 28),\n (('humid', 'seats'), 24),\n (('precip', 'sched_dep_hour'), 23),\n (('wind_dir', 'wind_speed'), 21),\n (('humid', 'wind_dir'), 20),\n (('pressure', 'sched_dep_hour'), 20),\n (('visib', 'sched_dep_hour'), 18),\n (('seats', 'sched_dep_hour'), 17),\n (('wind_dir', 'sched_arr_hour'), 16),\n (('sched_dep_hour', 'sched_arr_hour'), 15),\n (('pressure', 'sched_arr_hour'), 15),\n (('plane_age', 'wind_dir'), 15),\n (('pressure', 'wind_speed'), 15),\n (('visib', 'sched_arr_hour'), 14),\n (('dewp', 'wind_speed'), 14),\n (('wind_dir', 'sched_dep_hour'), 14),\n (('dewp', 'visib'), 14),\n (('humid', 'pressure'), 13),\n (('pressure', 'plane_age'), 13),\n (('wind_speed', 'sched_dep_hour'), 13),\n (('plane_age', 'wind_speed'), 12),\n (('wind_speed', 'precip'), 12),\n (('seats', 'sched_arr_hour'), 12),\n (('dewp', 'humid'), 12),\n (('pressure', 'temp'), 11),\n (('humid', 'wind_speed'), 11),\n (('temp', 'wind_dir'), 11),\n (('precip', 'visib'), 10),\n (('wind_speed', 'sched_arr_hour'), 10),\n (('pressure', 'precip'), 10),\n (('wind_speed', 'visib'), 10),\n (('plane_age', 'sched_dep_hour'), 9),\n (('distance', 'sched_dep_hour'), 8),\n (('dewp', 'seats'), 8),\n (('seats', 'visib'), 8),\n (('seats', 'precip'), 8),\n (('plane_age', 'temp'), 7),\n (('distance', 'visib'), 7),\n (('plane_age', 'sched_arr_hour'), 7),\n (('humid', 'sched_arr_hour'), 7),\n (('dewp', 'sched_dep_hour'), 6),\n (('distance', 'wind_speed'), 6),\n (('seats', 'wind_speed'), 6),\n (('seats', 'temp'), 6),\n (('dewp', 'pressure'), 6),\n (('temp', 'humid'), 6),\n (('dewp', 'precip'), 6),\n (('wind_dir', 'precip'), 5),\n (('dewp', 'sched_arr_hour'), 5),\n (('humid', 'plane_age'), 5),\n (('distance', 'sched_arr_hour'), 5),\n (('temp', 'visib'), 5),\n (('distance', 'wind_dir'), 4),\n (('temp', 'wind_speed'), 4),\n (('distance', 'pressure'), 4),\n (('dewp', 'wind_dir'), 4),\n (('precip', 'sched_arr_hour'), 4),\n (('distance', 'plane_age'), 3),\n (('distance', 'temp'), 3),\n (('distance', 'precip'), 3),\n (('temp', 'sched_dep_hour'), 3),\n (('humid', 'precip'), 3),\n (('temp', 'precip'), 2),\n (('distance', 'seats'), 2),\n (('plane_age', 'seats'), 2),\n (('temp', 'sched_arr_hour'), 2),\n (('plane_age', 'precip'), 2),\n (('temp', 'dewp'), 2),\n (('distance', 'humid'), 1),\n (('dewp', 'plane_age'), 1)]"
     },
     "execution_count": 138,
     "metadata": {},
     "output_type": "execute_result"
    }
   ],
   "source": [
    "sorted(interaction_freq_Naive.items(), key=lambda kv: kv[1], reverse=True)"
   ],
   "metadata": {
    "collapsed": false,
    "ExecuteTime": {
     "end_time": "2025-02-26T16:40:05.990073Z",
     "start_time": "2025-02-26T16:40:05.946759Z"
    }
   },
   "id": "81256bfddd83b416"
  },
  {
   "cell_type": "code",
   "execution_count": 139,
   "outputs": [
    {
     "data": {
      "text/plain": "[(('pressure', 'visib'), 56),\n (('humid', 'sched_dep_hour'), 54),\n (('dewp', 'sched_dep_hour'), 43),\n (('visib', 'sched_dep_hour'), 41),\n (('pressure', 'seats'), 40),\n (('seats', 'wind_dir'), 39),\n (('wind_dir', 'visib'), 38),\n (('dewp', 'visib'), 36),\n (('dewp', 'precip'), 35),\n (('wind_speed', 'sched_dep_hour'), 30),\n (('dewp', 'wind_dir'), 29),\n (('dewp', 'pressure'), 29),\n (('pressure', 'wind_dir'), 28),\n (('plane_age', 'visib'), 28),\n (('wind_dir', 'wind_speed'), 26),\n (('humid', 'visib'), 25),\n (('precip', 'visib'), 23),\n (('dewp', 'plane_age'), 22),\n (('pressure', 'wind_speed'), 22),\n (('pressure', 'sched_dep_hour'), 21),\n (('wind_speed', 'precip'), 20),\n (('dewp', 'seats'), 20),\n (('humid', 'wind_dir'), 18),\n (('wind_speed', 'sched_arr_hour'), 18),\n (('pressure', 'plane_age'), 18),\n (('dewp', 'humid'), 18),\n (('plane_age', 'wind_speed'), 17),\n (('plane_age', 'sched_dep_hour'), 16),\n (('temp', 'wind_speed'), 15),\n (('humid', 'wind_speed'), 15),\n (('seats', 'wind_speed'), 15),\n (('humid', 'pressure'), 15),\n (('pressure', 'precip'), 15),\n (('plane_age', 'wind_dir'), 15),\n (('precip', 'sched_dep_hour'), 14),\n (('distance', 'sched_dep_hour'), 13),\n (('wind_dir', 'sched_dep_hour'), 11),\n (('dewp', 'wind_speed'), 10),\n (('temp', 'visib'), 10),\n (('humid', 'seats'), 10),\n (('visib', 'sched_arr_hour'), 10),\n (('seats', 'sched_dep_hour'), 9),\n (('plane_age', 'seats'), 9),\n (('seats', 'visib'), 9),\n (('wind_speed', 'visib'), 8),\n (('pressure', 'sched_arr_hour'), 8),\n (('plane_age', 'precip'), 8),\n (('humid', 'sched_arr_hour'), 8),\n (('wind_dir', 'precip'), 7),\n (('pressure', 'temp'), 7),\n (('seats', 'precip'), 7),\n (('humid', 'precip'), 7),\n (('temp', 'dewp'), 7),\n (('plane_age', 'sched_arr_hour'), 7),\n (('dewp', 'sched_arr_hour'), 7),\n (('distance', 'pressure'), 6),\n (('distance', 'precip'), 6),\n (('distance', 'wind_speed'), 5),\n (('distance', 'visib'), 5),\n (('temp', 'humid'), 5),\n (('plane_age', 'temp'), 4),\n (('distance', 'dewp'), 4),\n (('wind_dir', 'sched_arr_hour'), 4),\n (('humid', 'plane_age'), 4),\n (('temp', 'sched_dep_hour'), 3),\n (('seats', 'sched_arr_hour'), 3),\n (('sched_dep_hour', 'sched_arr_hour'), 3),\n (('temp', 'wind_dir'), 3),\n (('seats', 'temp'), 2),\n (('temp', 'precip'), 1),\n (('distance', 'sched_arr_hour'), 1),\n (('distance', 'wind_dir'), 1),\n (('distance', 'plane_age'), 1),\n (('distance', 'humid'), 1)]"
     },
     "execution_count": 139,
     "metadata": {},
     "output_type": "execute_result"
    }
   ],
   "source": [
    "sorted(interaction_freq_MLE.items(), key=lambda kv: kv[1], reverse=True)"
   ],
   "metadata": {
    "collapsed": false,
    "ExecuteTime": {
     "end_time": "2025-02-26T16:40:12.731699Z",
     "start_time": "2025-02-26T16:40:12.708623Z"
    }
   },
   "id": "87a82074cf39e234"
  },
  {
   "cell_type": "code",
   "execution_count": 140,
   "outputs": [
    {
     "data": {
      "text/plain": "[('sched_dep_hour', 97),\n ('pressure', 89),\n ('temp', 87),\n ('visib', 74),\n ('wind_speed', 69),\n ('wind_dir', 64),\n ('seats', 52),\n ('dewp', 38),\n ('sched_arr_hour', 30),\n ('precip', 29),\n ('plane_age', 21),\n ('distance', 9),\n ('humid', 0)]"
     },
     "execution_count": 140,
     "metadata": {},
     "output_type": "execute_result"
    }
   ],
   "source": [
    "sorted(main_effects_freq_Naive.items(), key=lambda kv: kv[1], reverse=True)"
   ],
   "metadata": {
    "collapsed": false,
    "ExecuteTime": {
     "end_time": "2025-02-26T16:40:21.824114Z",
     "start_time": "2025-02-26T16:40:21.789174Z"
    }
   },
   "id": "22ec9ed03c9a7bd4"
  },
  {
   "cell_type": "code",
   "execution_count": 141,
   "outputs": [
    {
     "data": {
      "text/plain": "[('sched_dep_hour', 100),\n ('pressure', 85),\n ('temp', 75),\n ('wind_speed', 67),\n ('wind_dir', 66),\n ('visib', 59),\n ('dewp', 51),\n ('precip', 26),\n ('seats', 22),\n ('sched_arr_hour', 22),\n ('plane_age', 19),\n ('distance', 8),\n ('humid', 0)]"
     },
     "execution_count": 141,
     "metadata": {},
     "output_type": "execute_result"
    }
   ],
   "source": [
    "sorted(main_effects_freq_MLE.items(), key=lambda kv: kv[1], reverse=True)"
   ],
   "metadata": {
    "collapsed": false,
    "ExecuteTime": {
     "end_time": "2025-02-26T16:40:35.321118Z",
     "start_time": "2025-02-26T16:40:35.300779Z"
    }
   },
   "id": "29ea8a6a94286fb1"
  },
  {
   "cell_type": "code",
   "execution_count": null,
   "outputs": [],
   "source": [],
   "metadata": {
    "collapsed": false
   },
   "id": "58a8e24c1550cd32"
  }
 ],
 "metadata": {
  "kernelspec": {
   "display_name": "Python 3",
   "language": "python",
   "name": "python3"
  },
  "language_info": {
   "codemirror_mode": {
    "name": "ipython",
    "version": 2
   },
   "file_extension": ".py",
   "mimetype": "text/x-python",
   "name": "python",
   "nbconvert_exporter": "python",
   "pygments_lexer": "ipython2",
   "version": "2.7.6"
  }
 },
 "nbformat": 4,
 "nbformat_minor": 5
}
