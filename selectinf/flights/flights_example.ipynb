{
 "cells": [
  {
   "cell_type": "code",
   "execution_count": 355,
   "id": "initial_id",
   "metadata": {
    "collapsed": true,
    "ExecuteTime": {
     "end_time": "2025-02-23T20:19:58.010503Z",
     "start_time": "2025-02-23T20:19:57.982308Z"
    }
   },
   "outputs": [],
   "source": [
    "import pandas as pd\n",
    "import numpy as np\n",
    "from datetime import datetime\n",
    "import matplotlib.pyplot as plt\n",
    "import seaborn as sns\n",
    "from sklearn.model_selection import train_test_split\n",
    "from selectinf.Simulation.spline import cubic_spline, b_spline\n",
    "from selectinf.Simulation.H1.nonlinear_H1_helpers import *\n",
    "from selectinf.RealDataHelpers.rdhelpers import *\n",
    "from sklearn.decomposition import PCA"
   ]
  },
  {
   "cell_type": "code",
   "execution_count": 356,
   "outputs": [],
   "source": [
    "fpw = pd.read_csv(\"fpw.csv\", index_col=0)"
   ],
   "metadata": {
    "collapsed": false,
    "ExecuteTime": {
     "end_time": "2025-02-23T20:19:58.387351Z",
     "start_time": "2025-02-23T20:19:58.355821Z"
    }
   },
   "id": "2f2c87fa2b52e552"
  },
  {
   "cell_type": "code",
   "execution_count": 357,
   "outputs": [
    {
     "data": {
      "text/plain": "      day  dep_delay  distance  plane_age  seats  temp  dewp  humid  wind_dir  \\\n0       1       28.0       187       18.0     20  42.0  30.0  62.18     360.0   \n1       1      -12.0      1576       21.0    200  42.0  30.0  62.18     360.0   \n2       1        6.0      1041       18.0     20  41.0  30.0  64.63     250.0   \n3       1       -7.0      1182       24.0    145  41.0  30.0  64.63     250.0   \n4       1       -4.0      1029       22.0    145  41.0  30.0  64.63     250.0   \n...   ...        ...       ...        ...    ...   ...   ...    ...       ...   \n8435   27       -3.0       187       11.0    200  42.0  41.0  96.21       0.0   \n8436   27        2.0      1089        1.0    185  42.0  41.0  96.21       0.0   \n8437   16      240.0      1089        7.0    189  26.0  23.0  88.23     330.0   \n8438   27       -5.0       209       17.0     95  42.0  39.0  89.01     160.0   \n8439   18        4.0      1089       25.0    162  22.0   6.0  49.57     260.0   \n\n      wind_speed  wind_gust  precip  pressure  visib  sched_dep_hour  \\\n0        9.20624  10.594357    0.00    1017.8  10.00              23   \n1        9.20624  10.594357    0.00    1017.8  10.00              23   \n2        9.20624  10.594357    0.00    1015.7  10.00               8   \n3        9.20624  10.594357    0.00    1015.7  10.00               8   \n4        9.20624  10.594357    0.00    1015.7  10.00               8   \n...          ...        ...     ...       ...    ...             ...   \n8435     0.00000   0.000000    0.00    1019.2   1.50               5   \n8436     0.00000   0.000000    0.00    1019.2   1.50               5   \n8437     4.60312   5.297178    0.01    1020.9   1.25               5   \n8438     4.60312   5.297178    0.00    1023.2  10.00              23   \n8439    16.11092  18.540125    0.00    1021.4  10.00               5   \n\n      sched_arr_hour  \n0                  0  \n1                  4  \n2                 11  \n3                 10  \n4                 10  \n...              ...  \n8435               6  \n8436               8  \n8437               8  \n8438               0  \n8439               8  \n\n[7358 rows x 16 columns]",
      "text/html": "<div>\n<style scoped>\n    .dataframe tbody tr th:only-of-type {\n        vertical-align: middle;\n    }\n\n    .dataframe tbody tr th {\n        vertical-align: top;\n    }\n\n    .dataframe thead th {\n        text-align: right;\n    }\n</style>\n<table border=\"1\" class=\"dataframe\">\n  <thead>\n    <tr style=\"text-align: right;\">\n      <th></th>\n      <th>day</th>\n      <th>dep_delay</th>\n      <th>distance</th>\n      <th>plane_age</th>\n      <th>seats</th>\n      <th>temp</th>\n      <th>dewp</th>\n      <th>humid</th>\n      <th>wind_dir</th>\n      <th>wind_speed</th>\n      <th>wind_gust</th>\n      <th>precip</th>\n      <th>pressure</th>\n      <th>visib</th>\n      <th>sched_dep_hour</th>\n      <th>sched_arr_hour</th>\n    </tr>\n  </thead>\n  <tbody>\n    <tr>\n      <th>0</th>\n      <td>1</td>\n      <td>28.0</td>\n      <td>187</td>\n      <td>18.0</td>\n      <td>20</td>\n      <td>42.0</td>\n      <td>30.0</td>\n      <td>62.18</td>\n      <td>360.0</td>\n      <td>9.20624</td>\n      <td>10.594357</td>\n      <td>0.00</td>\n      <td>1017.8</td>\n      <td>10.00</td>\n      <td>23</td>\n      <td>0</td>\n    </tr>\n    <tr>\n      <th>1</th>\n      <td>1</td>\n      <td>-12.0</td>\n      <td>1576</td>\n      <td>21.0</td>\n      <td>200</td>\n      <td>42.0</td>\n      <td>30.0</td>\n      <td>62.18</td>\n      <td>360.0</td>\n      <td>9.20624</td>\n      <td>10.594357</td>\n      <td>0.00</td>\n      <td>1017.8</td>\n      <td>10.00</td>\n      <td>23</td>\n      <td>4</td>\n    </tr>\n    <tr>\n      <th>2</th>\n      <td>1</td>\n      <td>6.0</td>\n      <td>1041</td>\n      <td>18.0</td>\n      <td>20</td>\n      <td>41.0</td>\n      <td>30.0</td>\n      <td>64.63</td>\n      <td>250.0</td>\n      <td>9.20624</td>\n      <td>10.594357</td>\n      <td>0.00</td>\n      <td>1015.7</td>\n      <td>10.00</td>\n      <td>8</td>\n      <td>11</td>\n    </tr>\n    <tr>\n      <th>3</th>\n      <td>1</td>\n      <td>-7.0</td>\n      <td>1182</td>\n      <td>24.0</td>\n      <td>145</td>\n      <td>41.0</td>\n      <td>30.0</td>\n      <td>64.63</td>\n      <td>250.0</td>\n      <td>9.20624</td>\n      <td>10.594357</td>\n      <td>0.00</td>\n      <td>1015.7</td>\n      <td>10.00</td>\n      <td>8</td>\n      <td>10</td>\n    </tr>\n    <tr>\n      <th>4</th>\n      <td>1</td>\n      <td>-4.0</td>\n      <td>1029</td>\n      <td>22.0</td>\n      <td>145</td>\n      <td>41.0</td>\n      <td>30.0</td>\n      <td>64.63</td>\n      <td>250.0</td>\n      <td>9.20624</td>\n      <td>10.594357</td>\n      <td>0.00</td>\n      <td>1015.7</td>\n      <td>10.00</td>\n      <td>8</td>\n      <td>10</td>\n    </tr>\n    <tr>\n      <th>...</th>\n      <td>...</td>\n      <td>...</td>\n      <td>...</td>\n      <td>...</td>\n      <td>...</td>\n      <td>...</td>\n      <td>...</td>\n      <td>...</td>\n      <td>...</td>\n      <td>...</td>\n      <td>...</td>\n      <td>...</td>\n      <td>...</td>\n      <td>...</td>\n      <td>...</td>\n      <td>...</td>\n    </tr>\n    <tr>\n      <th>8435</th>\n      <td>27</td>\n      <td>-3.0</td>\n      <td>187</td>\n      <td>11.0</td>\n      <td>200</td>\n      <td>42.0</td>\n      <td>41.0</td>\n      <td>96.21</td>\n      <td>0.0</td>\n      <td>0.00000</td>\n      <td>0.000000</td>\n      <td>0.00</td>\n      <td>1019.2</td>\n      <td>1.50</td>\n      <td>5</td>\n      <td>6</td>\n    </tr>\n    <tr>\n      <th>8436</th>\n      <td>27</td>\n      <td>2.0</td>\n      <td>1089</td>\n      <td>1.0</td>\n      <td>185</td>\n      <td>42.0</td>\n      <td>41.0</td>\n      <td>96.21</td>\n      <td>0.0</td>\n      <td>0.00000</td>\n      <td>0.000000</td>\n      <td>0.00</td>\n      <td>1019.2</td>\n      <td>1.50</td>\n      <td>5</td>\n      <td>8</td>\n    </tr>\n    <tr>\n      <th>8437</th>\n      <td>16</td>\n      <td>240.0</td>\n      <td>1089</td>\n      <td>7.0</td>\n      <td>189</td>\n      <td>26.0</td>\n      <td>23.0</td>\n      <td>88.23</td>\n      <td>330.0</td>\n      <td>4.60312</td>\n      <td>5.297178</td>\n      <td>0.01</td>\n      <td>1020.9</td>\n      <td>1.25</td>\n      <td>5</td>\n      <td>8</td>\n    </tr>\n    <tr>\n      <th>8438</th>\n      <td>27</td>\n      <td>-5.0</td>\n      <td>209</td>\n      <td>17.0</td>\n      <td>95</td>\n      <td>42.0</td>\n      <td>39.0</td>\n      <td>89.01</td>\n      <td>160.0</td>\n      <td>4.60312</td>\n      <td>5.297178</td>\n      <td>0.00</td>\n      <td>1023.2</td>\n      <td>10.00</td>\n      <td>23</td>\n      <td>0</td>\n    </tr>\n    <tr>\n      <th>8439</th>\n      <td>18</td>\n      <td>4.0</td>\n      <td>1089</td>\n      <td>25.0</td>\n      <td>162</td>\n      <td>22.0</td>\n      <td>6.0</td>\n      <td>49.57</td>\n      <td>260.0</td>\n      <td>16.11092</td>\n      <td>18.540125</td>\n      <td>0.00</td>\n      <td>1021.4</td>\n      <td>10.00</td>\n      <td>5</td>\n      <td>8</td>\n    </tr>\n  </tbody>\n</table>\n<p>7358 rows × 16 columns</p>\n</div>"
     },
     "execution_count": 357,
     "metadata": {},
     "output_type": "execute_result"
    }
   ],
   "source": [
    "fpw"
   ],
   "metadata": {
    "collapsed": false,
    "ExecuteTime": {
     "end_time": "2025-02-23T20:19:58.758428Z",
     "start_time": "2025-02-23T20:19:58.731474Z"
    }
   },
   "id": "7151f358fc2f63a5"
  },
  {
   "cell_type": "code",
   "execution_count": 358,
   "outputs": [
    {
     "data": {
      "text/plain": "array([0.    , 0.01  , 0.02  , 0.03  , 0.0001, 0.04  ])"
     },
     "execution_count": 358,
     "metadata": {},
     "output_type": "execute_result"
    }
   ],
   "source": [
    "fpw[\"precip\"].unique()"
   ],
   "metadata": {
    "collapsed": false,
    "ExecuteTime": {
     "end_time": "2025-02-23T20:19:59.209764Z",
     "start_time": "2025-02-23T20:19:59.187662Z"
    }
   },
   "id": "e3577dcc1ad48133"
  },
  {
   "cell_type": "code",
   "execution_count": 359,
   "outputs": [],
   "source": [
    "Y = fpw[\"dep_delay\"]\n",
    "X = fpw.drop([\"dep_delay\", 'day', \"wind_gust\"], axis=1)"
   ],
   "metadata": {
    "collapsed": false,
    "ExecuteTime": {
     "end_time": "2025-02-23T20:19:59.603984Z",
     "start_time": "2025-02-23T20:19:59.576646Z"
    }
   },
   "id": "118b0d2e43495c24"
  },
  {
   "cell_type": "code",
   "execution_count": 376,
   "outputs": [],
   "source": [
    "from sklearn.model_selection import train_test_split\n",
    "x_train, x_test, y_train, y_test = train_test_split(X, Y, test_size=0.95,\n",
    "                                                    random_state=42)\n",
    "# Standardize\n",
    "x_train = (x_train - x_train.mean()) / x_train.std()\n",
    "x_test = (x_test - x_train.mean()) / x_train.std()"
   ],
   "metadata": {
    "collapsed": false,
    "ExecuteTime": {
     "end_time": "2025-02-23T20:21:38.536784Z",
     "start_time": "2025-02-23T20:21:38.499631Z"
    }
   },
   "id": "71dc706281b2f5d4"
  },
  {
   "cell_type": "markdown",
   "source": [
    "# Construct splines"
   ],
   "metadata": {
    "collapsed": false
   },
   "id": "dec60c8fe474705a"
  },
  {
   "cell_type": "code",
   "execution_count": 377,
   "outputs": [],
   "source": [
    "def get_splines(x_nl, x_l, nknots, degree, intercept):\n",
    "    bs = b_spline(data_nl=np.array(x_nl), data_l=np.array(x_l), \n",
    "                  nknots=nknots, degree=degree, intercept=intercept)\n",
    "    bs.construct_splines(use_quantiles=True, equally_spaced=False, center=False)\n",
    "    design_train = bs.get_spline_data()\n",
    "    design_train *= np.sqrt(design_train.shape[0])\n",
    "    design_train[:, 0] = 1\n",
    "    # Returning group labels with 0 meaning the intercept (if applicable)\n",
    "    groups = bs.get_groups()\n",
    "\n",
    "    return design_train, groups\n"
   ],
   "metadata": {
    "collapsed": false,
    "ExecuteTime": {
     "end_time": "2025-02-23T20:21:41.006562Z",
     "start_time": "2025-02-23T20:21:40.984874Z"
    }
   },
   "id": "a114963c1ee396a0"
  },
  {
   "cell_type": "code",
   "execution_count": 378,
   "outputs": [],
   "source": [
    "linear = list(x_train.columns[x_train.nunique() < 40])"
   ],
   "metadata": {
    "collapsed": false,
    "ExecuteTime": {
     "end_time": "2025-02-23T20:21:41.539991Z",
     "start_time": "2025-02-23T20:21:41.511978Z"
    }
   },
   "id": "c92e92648d25f593"
  },
  {
   "cell_type": "code",
   "execution_count": 379,
   "outputs": [
    {
     "data": {
      "text/plain": "distance           56\nplane_age          31\nseats              23\ntemp               39\ndewp               48\nhumid             182\nwind_dir           34\nwind_speed         21\nprecip              6\npressure          174\nvisib              17\nsched_dep_hour     18\nsched_arr_hour     20\ndtype: int64"
     },
     "execution_count": 379,
     "metadata": {},
     "output_type": "execute_result"
    }
   ],
   "source": [
    "x_train.nunique()"
   ],
   "metadata": {
    "collapsed": false,
    "ExecuteTime": {
     "end_time": "2025-02-23T20:21:41.875534Z",
     "start_time": "2025-02-23T20:21:41.854811Z"
    }
   },
   "id": "f14103a91000f7f1"
  },
  {
   "cell_type": "code",
   "execution_count": 380,
   "outputs": [],
   "source": [
    "x_train_nl = x_train.drop(linear, axis=1)\n",
    "x_train_l = x_train[linear]\n",
    "x_test_nl = x_test.drop(linear, axis=1)\n",
    "x_test_l = x_test[linear]"
   ],
   "metadata": {
    "collapsed": false,
    "ExecuteTime": {
     "end_time": "2025-02-23T20:21:42.494260Z",
     "start_time": "2025-02-23T20:21:42.468892Z"
    }
   },
   "id": "50f848666229377"
  },
  {
   "cell_type": "code",
   "execution_count": 381,
   "outputs": [
    {
     "name": "stdout",
     "output_type": "stream",
     "text": [
      "Equally spaced quantile knots used.\n",
      "Equally spaced quantile knots used.\n"
     ]
    }
   ],
   "source": [
    "design_train, groups_train = (\n",
    "        get_splines(x_train_nl, x_train_l, nknots=6, degree=2, intercept=True))\n",
    "design_test, groups_test = (\n",
    "        get_splines(x_test_nl, x_test_l, nknots=6, degree=2, intercept=True))"
   ],
   "metadata": {
    "collapsed": false,
    "ExecuteTime": {
     "end_time": "2025-02-23T20:21:43.188425Z",
     "start_time": "2025-02-23T20:21:43.147554Z"
    }
   },
   "id": "42dddc5afe0d6b38"
  },
  {
   "cell_type": "code",
   "execution_count": 382,
   "outputs": [],
   "source": [
    "# Steps:\n",
    "# 1. Transform training fully for naive and MLE\n",
    "# 2. Transform 90% of training for data splitting's selection\n",
    "# 3. Use 10% of remaining to get the transformed PCs for data splitting's inference\n",
    "# 4. "
   ],
   "metadata": {
    "collapsed": false,
    "ExecuteTime": {
     "end_time": "2025-02-23T20:21:43.882160Z",
     "start_time": "2025-02-23T20:21:43.866975Z"
    }
   },
   "id": "bf5ad2e5a8617dc0"
  },
  {
   "cell_type": "code",
   "execution_count": 383,
   "outputs": [
    {
     "data": {
      "text/plain": "array([[  1.        ,  -0.16992383,   1.20894571, ...,   9.67651294,\n        -18.73071828, -18.03147071],\n       [  1.        ,  -1.52320332,  -0.58029123, ...,   9.67651294,\n        -31.10175656, -21.82376284],\n       [  1.        ,  -0.55177734,  -0.1985028 , ...,   9.67651294,\n         30.75343487, -59.74668405],\n       ...,\n       [  1.        ,  -0.12219291,   1.11424005, ..., -24.9026521 ,\n          1.88767887,   4.72228201],\n       [  1.        ,  -1.52320332,  -0.58029123, ...,  -4.15515308,\n          6.01135829,  12.30686626],\n       [  1.        ,  -0.2286495 ,   1.31091077, ...,   9.67651294,\n        -14.60703885, -14.23917859]])"
     },
     "execution_count": 383,
     "metadata": {},
     "output_type": "execute_result"
    }
   ],
   "source": [
    "design_train"
   ],
   "metadata": {
    "collapsed": false,
    "ExecuteTime": {
     "end_time": "2025-02-23T20:21:44.341464Z",
     "start_time": "2025-02-23T20:21:44.319234Z"
    }
   },
   "id": "abb48a2b4cdca8b5"
  },
  {
   "cell_type": "code",
   "execution_count": 384,
   "outputs": [
    {
     "data": {
      "text/plain": "array([[ 3.67000000e+02, -1.81122388e+02,  2.30346530e+02,\n        -2.27841228e+02, -6.39262000e+01, -2.70706142e+02,\n         1.44802282e+02, -1.75079678e+02,  6.41689396e+01,\n         0.00000000e+00, -6.11066753e-13,  3.04112291e-12,\n        -3.97903932e-13, -2.27373675e-13, -2.11386464e-13,\n         7.38964445e-13,  1.51345603e-12,  4.58300065e-13],\n       [-1.81122388e+02,  3.67000000e+02,  8.88178420e-15,\n         1.48840631e+02,  3.65639193e+01,  1.45958587e+02,\n        -8.44870264e+01,  7.33157831e+01, -3.28115888e+01,\n         3.51491808e+01, -2.42976417e+03,  4.74999302e+02,\n        -2.75377927e+02, -5.31769435e+01,  4.25329840e+01,\n        -8.00465776e+01,  1.23246727e+02, -9.18033929e+01],\n       [ 2.30346530e+02,  8.88178420e-15,  3.67000000e+02,\n        -1.16333009e+02, -4.55006294e+01, -1.55077021e+02,\n         8.33730363e+01, -1.23068516e+02,  1.22208946e+01,\n         1.17203341e+03, -4.47720660e+03,  1.09370504e+02,\n        -5.37250290e+02, -2.52840538e+02, -7.19885106e+01,\n        -1.75344554e+01,  7.06825548e+02,  4.73422337e+02],\n       [-2.27841228e+02,  1.48840631e+02, -1.16333009e+02,\n         3.67000000e+02, -9.76996262e-15,  2.35848989e+02,\n        -1.01641417e+02,  9.51980486e+01, -1.92044831e+01,\n        -1.37096271e+02, -3.83929407e+02,  2.45580471e+03,\n        -9.40473630e+02, -6.86630848e+02, -2.45813177e+02,\n         6.19519676e+02,  5.21284779e+02,  1.70188805e+02],\n       [-6.39262000e+01,  3.65639193e+01, -4.55006294e+01,\n        -9.76996262e-15,  3.67000000e+02, -8.36590040e+01,\n        -2.89982560e+02, -3.89231662e+01,  5.12581614e+00,\n        -3.24553666e+02,  4.20211696e+02,  4.55881110e+03,\n        -2.64304771e+03, -1.48421096e+03,  2.95342437e+03,\n        -4.49896382e+03,  5.29742783e+01, -1.59729244e+02],\n       [-2.70706142e+02,  1.45958587e+02, -1.55077021e+02,\n         2.35848989e+02, -8.36590040e+01,  3.67000000e+02,\n         9.21485110e-15,  1.45636751e+02, -5.47962907e+01,\n         1.41812919e+02, -3.73133113e+02, -1.32968360e+03,\n         4.07316649e+02,  4.11911721e+01, -1.93609955e+03,\n         2.78100824e+03, -6.89718741e+02, -5.21317851e+02],\n       [ 1.44802282e+02, -8.44870264e+01,  8.33730363e+01,\n        -1.01641417e+02, -2.89982560e+02,  9.21485110e-15,\n         3.67000000e+02, -3.68232825e+01, -3.23351693e+00,\n        -7.72019915e+01, -1.80980392e+02, -2.12887138e+03,\n         3.05478778e+03,  1.87413350e+03, -3.49200124e+03,\n         4.92135444e+03,  9.55897385e+02,  1.05323721e+03],\n       [-1.75079678e+02,  7.33157831e+01, -1.23068516e+02,\n         9.51980486e+01, -3.89231662e+01,  1.45636751e+02,\n        -3.68232825e+01,  3.67000000e+02, -8.88178420e-16,\n         1.38352569e+02,  6.66566710e+02, -1.60185139e+03,\n         2.47637538e+01, -2.16465855e+03, -1.45759237e+03,\n         7.03151849e+02, -6.89082015e+01, -1.46021488e+02],\n       [ 6.41689396e+01, -3.28115888e+01,  1.22208946e+01,\n        -1.92044831e+01,  5.12581614e+00, -5.47962907e+01,\n        -3.23351693e+00, -8.88178420e-16,  3.67000000e+02,\n         2.09176536e+02,  4.67549530e+02,  3.50048418e+02,\n        -5.66987603e+01,  2.23799822e+03,  1.11039247e+03,\n        -8.76600331e+02,  1.49227549e+02,  1.27716887e+02],\n       [ 0.00000000e+00,  3.51491808e+01,  1.17203341e+03,\n        -1.37096271e+02, -3.24553666e+02,  1.41812919e+02,\n        -7.72019915e+01,  1.38352569e+02,  2.09176536e+02,\n         1.34322000e+05, -3.20258291e+04, -1.34763319e+04,\n         1.16963922e+03,  1.08151098e+03,  3.88318944e+03,\n        -2.11714044e+03, -6.03137057e+03, -1.05128884e+04],\n       [-6.11066753e-13, -2.42976417e+03, -4.47720660e+03,\n        -3.83929407e+02,  4.20211696e+02, -3.73133113e+02,\n        -1.80980392e+02,  6.66566710e+02,  4.67549530e+02,\n        -3.20258291e+04,  1.34322000e+05,  3.11483277e+03,\n         2.39059425e+03, -1.81953986e+03,  6.34789375e+03,\n        -4.15582322e+03, -1.11641732e+04, -6.33556989e+03],\n       [ 3.04112291e-12,  4.74999302e+02,  1.09370504e+02,\n         2.45580471e+03,  4.55881110e+03, -1.32968360e+03,\n        -2.12887138e+03, -1.60185139e+03,  3.50048418e+02,\n        -1.34763319e+04,  3.11483277e+03,  1.34322000e+05,\n        -3.27685060e+04, -1.67494843e+04,  2.12576347e+04,\n        -3.39727602e+04,  3.38476530e+04,  2.24139824e+04],\n       [-3.97903932e-13, -2.75377927e+02, -5.37250290e+02,\n        -9.40473630e+02, -2.64304771e+03,  4.07316649e+02,\n         3.05478778e+03,  2.47637538e+01, -5.66987603e+01,\n         1.16963922e+03,  2.39059425e+03, -3.27685060e+04,\n         1.34322000e+05,  4.73205038e+04, -2.85662038e+04,\n         4.86677578e+04, -6.53555679e+03, -3.91896498e+03],\n       [-2.27373675e-13, -5.31769435e+01, -2.52840538e+02,\n        -6.86630848e+02, -1.48421096e+03,  4.11911721e+01,\n         1.87413350e+03, -2.16465855e+03,  2.23799822e+03,\n         1.08151098e+03, -1.81953986e+03, -1.67494843e+04,\n         4.73205038e+04,  1.34322000e+05,  1.02220602e+04,\n         2.25065820e+04,  1.31755531e+04,  1.77829084e+04],\n       [-2.11386464e-13,  4.25329840e+01, -7.19885106e+01,\n        -2.45813177e+02,  2.95342437e+03, -1.93609955e+03,\n        -3.49200124e+03, -1.45759237e+03,  1.11039247e+03,\n         3.88318944e+03,  6.34789375e+03,  2.12576347e+04,\n        -2.85662038e+04,  1.02220602e+04,  1.34322000e+05,\n        -7.99153427e+04, -1.48200174e+04, -9.58171736e+03],\n       [ 7.38964445e-13, -8.00465776e+01, -1.75344554e+01,\n         6.19519676e+02, -4.49896382e+03,  2.78100824e+03,\n         4.92135444e+03,  7.03151849e+02, -8.76600331e+02,\n        -2.11714044e+03, -4.15582322e+03, -3.39727602e+04,\n         4.86677578e+04,  2.25065820e+04, -7.99153427e+04,\n         1.34322000e+05,  4.39008919e+03,  8.90594814e+03],\n       [ 1.51345603e-12,  1.23246727e+02,  7.06825548e+02,\n         5.21284779e+02,  5.29742783e+01, -6.89718741e+02,\n         9.55897385e+02, -6.89082015e+01,  1.49227549e+02,\n        -6.03137057e+03, -1.11641732e+04,  3.38476530e+04,\n        -6.53555679e+03,  1.31755531e+04, -1.48200174e+04,\n         4.39008919e+03,  1.34322000e+05,  1.00816346e+05],\n       [ 4.58300065e-13, -9.18033929e+01,  4.73422337e+02,\n         1.70188805e+02, -1.59729244e+02, -5.21317851e+02,\n         1.05323721e+03, -1.46021488e+02,  1.27716887e+02,\n        -1.05128884e+04, -6.33556989e+03,  2.24139824e+04,\n        -3.91896498e+03,  1.77829084e+04, -9.58171736e+03,\n         8.90594814e+03,  1.00816346e+05,  1.34322000e+05]])"
     },
     "execution_count": 384,
     "metadata": {},
     "output_type": "execute_result"
    }
   ],
   "source": [
    "design_train.T @ design_train"
   ],
   "metadata": {
    "collapsed": false,
    "ExecuteTime": {
     "end_time": "2025-02-23T20:21:45.040680Z",
     "start_time": "2025-02-23T20:21:45.024720Z"
    }
   },
   "id": "e70f2fef2620027c"
  },
  {
   "cell_type": "code",
   "execution_count": 385,
   "outputs": [
    {
     "data": {
      "text/plain": "array([[  1.        ,  -0.16992383,   1.20894571, ...,   9.67651294,\n        -18.73071828, -18.03147071],\n       [  1.        ,  -1.52320332,  -0.58029123, ...,   9.67651294,\n        -31.10175656, -21.82376284],\n       [  1.        ,  -0.55177734,  -0.1985028 , ...,   9.67651294,\n         30.75343487, -59.74668405],\n       ...,\n       [  1.        ,  -0.12219291,   1.11424005, ..., -24.9026521 ,\n          1.88767887,   4.72228201],\n       [  1.        ,  -1.52320332,  -0.58029123, ...,  -4.15515308,\n          6.01135829,  12.30686626],\n       [  1.        ,  -0.2286495 ,   1.31091077, ...,   9.67651294,\n        -14.60703885, -14.23917859]])"
     },
     "execution_count": 385,
     "metadata": {},
     "output_type": "execute_result"
    }
   ],
   "source": [
    "design_train"
   ],
   "metadata": {
    "collapsed": false,
    "ExecuteTime": {
     "end_time": "2025-02-23T20:21:45.607841Z",
     "start_time": "2025-02-23T20:21:45.576843Z"
    }
   },
   "id": "52e9524e1d986f68"
  },
  {
   "cell_type": "code",
   "execution_count": 385,
   "outputs": [],
   "source": [],
   "metadata": {
    "collapsed": false,
    "ExecuteTime": {
     "end_time": "2025-02-23T20:21:46.095182Z",
     "start_time": "2025-02-23T20:21:46.070932Z"
    }
   },
   "id": "d6a058635be6f731"
  },
  {
   "cell_type": "code",
   "execution_count": 438,
   "outputs": [
    {
     "name": "stdout",
     "output_type": "stream",
     "text": [
      "Selected groups: [0, 4, 5, 6, 7, 8, 9, 10, 11, 12, 13]\n",
      "Naive Selected Groups: 11\n"
     ]
    }
   ],
   "source": [
    "const = group_lasso.gaussian\n",
    "result_naive, nonzero_naive, selected_groups_naive \\\n",
    "    = naive_inference_real_data(X=design_train, Y=np.array(y_train), \n",
    "                                raw_data=np.array(x_train), \n",
    "                                groups=groups_train, const=const,\n",
    "                                n_features=x_train.shape[1], \n",
    "                                intercept=True, weight_frac=5, level=0.9,\n",
    "                                mode=\"weakhierarchy\", root_n_scaled=True)"
   ],
   "metadata": {
    "collapsed": false,
    "ExecuteTime": {
     "end_time": "2025-02-23T20:24:30.707532Z",
     "start_time": "2025-02-23T20:24:30.514408Z"
    }
   },
   "id": "37ef330611eb6fc2"
  },
  {
   "cell_type": "code",
   "execution_count": 413,
   "outputs": [
    {
     "data": {
      "text/plain": "    i   j       CI_l       CI_u   beta_hat      pval\n20  3   6   0.967577  18.233321   9.600449  0.066663\n23  3  11 -18.491357  -2.815682 -10.653520  0.024991\n25  4   6   1.093364  19.707564  10.400464  0.065352\n28  4   9 -17.559740  -2.941687 -10.250713  0.020732\n30  4  11 -15.172237  -0.390690  -7.781463  0.082514\n35  5   9 -16.624708  -2.635061  -9.629885  0.023186\n46  7  10 -17.717474  -2.876981 -10.297228  0.022108\n52  9  10   6.110416  21.010464  13.560440  0.002685",
      "text/html": "<div>\n<style scoped>\n    .dataframe tbody tr th:only-of-type {\n        vertical-align: middle;\n    }\n\n    .dataframe tbody tr th {\n        vertical-align: top;\n    }\n\n    .dataframe thead th {\n        text-align: right;\n    }\n</style>\n<table border=\"1\" class=\"dataframe\">\n  <thead>\n    <tr style=\"text-align: right;\">\n      <th></th>\n      <th>i</th>\n      <th>j</th>\n      <th>CI_l</th>\n      <th>CI_u</th>\n      <th>beta_hat</th>\n      <th>pval</th>\n    </tr>\n  </thead>\n  <tbody>\n    <tr>\n      <th>20</th>\n      <td>3</td>\n      <td>6</td>\n      <td>0.967577</td>\n      <td>18.233321</td>\n      <td>9.600449</td>\n      <td>0.066663</td>\n    </tr>\n    <tr>\n      <th>23</th>\n      <td>3</td>\n      <td>11</td>\n      <td>-18.491357</td>\n      <td>-2.815682</td>\n      <td>-10.653520</td>\n      <td>0.024991</td>\n    </tr>\n    <tr>\n      <th>25</th>\n      <td>4</td>\n      <td>6</td>\n      <td>1.093364</td>\n      <td>19.707564</td>\n      <td>10.400464</td>\n      <td>0.065352</td>\n    </tr>\n    <tr>\n      <th>28</th>\n      <td>4</td>\n      <td>9</td>\n      <td>-17.559740</td>\n      <td>-2.941687</td>\n      <td>-10.250713</td>\n      <td>0.020732</td>\n    </tr>\n    <tr>\n      <th>30</th>\n      <td>4</td>\n      <td>11</td>\n      <td>-15.172237</td>\n      <td>-0.390690</td>\n      <td>-7.781463</td>\n      <td>0.082514</td>\n    </tr>\n    <tr>\n      <th>35</th>\n      <td>5</td>\n      <td>9</td>\n      <td>-16.624708</td>\n      <td>-2.635061</td>\n      <td>-9.629885</td>\n      <td>0.023186</td>\n    </tr>\n    <tr>\n      <th>46</th>\n      <td>7</td>\n      <td>10</td>\n      <td>-17.717474</td>\n      <td>-2.876981</td>\n      <td>-10.297228</td>\n      <td>0.022108</td>\n    </tr>\n    <tr>\n      <th>52</th>\n      <td>9</td>\n      <td>10</td>\n      <td>6.110416</td>\n      <td>21.010464</td>\n      <td>13.560440</td>\n      <td>0.002685</td>\n    </tr>\n  </tbody>\n</table>\n</div>"
     },
     "execution_count": 413,
     "metadata": {},
     "output_type": "execute_result"
    }
   ],
   "source": [
    "pd.DataFrame(result_naive)[pd.DataFrame(result_naive)['pval'] < 0.1]"
   ],
   "metadata": {
    "collapsed": false,
    "ExecuteTime": {
     "end_time": "2025-02-23T20:23:17.679450Z",
     "start_time": "2025-02-23T20:23:17.664204Z"
    }
   },
   "id": "cb1b7a5ec3b4a346"
  },
  {
   "cell_type": "code",
   "execution_count": 439,
   "outputs": [
    {
     "name": "stdout",
     "output_type": "stream",
     "text": [
      "Selected groups: [0, 4, 5, 6, 7, 8, 9, 10, 11, 12, 13]\n",
      "MLE Selected Groups: 11\n"
     ]
    }
   ],
   "source": [
    "result_MLE, nonzero_MLE, selected_groups_MLE\\\n",
    "    = MLE_inference_real_data(X=design_train, Y=np.array(y_train), \n",
    "                              raw_data=np.array(x_train), groups=groups_train, \n",
    "                              n_features=x_train.shape[1], \n",
    "                              intercept=True, weight_frac=5, level=0.9, \n",
    "                              mode=\"weakhierarchy\", \n",
    "                              root_n_scaled=True, proportion=0.9)"
   ],
   "metadata": {
    "collapsed": false,
    "ExecuteTime": {
     "end_time": "2025-02-23T20:24:45.852680Z",
     "start_time": "2025-02-23T20:24:36.592173Z"
    }
   },
   "id": "3bbb784718033a63"
  },
  {
   "cell_type": "code",
   "execution_count": 440,
   "outputs": [
    {
     "data": {
      "text/plain": "    i   j        CI_l        CI_u   beta_hat      pval\n14  1   7  -16.861629   -0.800609  -8.831119  0.070476\n16  1   9    2.096330   17.609547   9.852939  0.036672\n20  2   3    0.050667   16.277308   8.163988  0.097899\n24  2   7  -16.934544   -1.002255  -8.968400  0.064055\n37  3  11  -29.132414   -6.191193 -17.661803  0.011320\n38  3  12  -30.135588   -6.616663 -18.376126  0.010159\n42  4   8    1.766295   42.332865  22.049580  0.073762\n43  4   9  -39.958886  -11.654092 -25.806489  0.002706\n44  4  10  -49.477189   -0.672676 -25.074933  0.090990\n45  4  11  -30.608469   -7.095236 -18.851853  0.008351\n46  4  12  -26.577555   -4.512450 -15.545003  0.020470\n49  5   8   33.254880  149.718048  91.486464  0.009761\n50  5   9  -26.550503   -7.344424 -16.947464  0.003698\n51  5  10 -119.020712  -31.435042 -75.227877  0.004720\n52  5  11  -25.425399   -0.723448 -13.074423  0.081649\n56  6   9    1.703191   26.172925  13.938058  0.060954\n69  9  10    4.271393   24.416129  14.343761  0.019161\n70  9  11    2.157588   20.802066  11.479827  0.042811",
      "text/html": "<div>\n<style scoped>\n    .dataframe tbody tr th:only-of-type {\n        vertical-align: middle;\n    }\n\n    .dataframe tbody tr th {\n        vertical-align: top;\n    }\n\n    .dataframe thead th {\n        text-align: right;\n    }\n</style>\n<table border=\"1\" class=\"dataframe\">\n  <thead>\n    <tr style=\"text-align: right;\">\n      <th></th>\n      <th>i</th>\n      <th>j</th>\n      <th>CI_l</th>\n      <th>CI_u</th>\n      <th>beta_hat</th>\n      <th>pval</th>\n    </tr>\n  </thead>\n  <tbody>\n    <tr>\n      <th>14</th>\n      <td>1</td>\n      <td>7</td>\n      <td>-16.861629</td>\n      <td>-0.800609</td>\n      <td>-8.831119</td>\n      <td>0.070476</td>\n    </tr>\n    <tr>\n      <th>16</th>\n      <td>1</td>\n      <td>9</td>\n      <td>2.096330</td>\n      <td>17.609547</td>\n      <td>9.852939</td>\n      <td>0.036672</td>\n    </tr>\n    <tr>\n      <th>20</th>\n      <td>2</td>\n      <td>3</td>\n      <td>0.050667</td>\n      <td>16.277308</td>\n      <td>8.163988</td>\n      <td>0.097899</td>\n    </tr>\n    <tr>\n      <th>24</th>\n      <td>2</td>\n      <td>7</td>\n      <td>-16.934544</td>\n      <td>-1.002255</td>\n      <td>-8.968400</td>\n      <td>0.064055</td>\n    </tr>\n    <tr>\n      <th>37</th>\n      <td>3</td>\n      <td>11</td>\n      <td>-29.132414</td>\n      <td>-6.191193</td>\n      <td>-17.661803</td>\n      <td>0.011320</td>\n    </tr>\n    <tr>\n      <th>38</th>\n      <td>3</td>\n      <td>12</td>\n      <td>-30.135588</td>\n      <td>-6.616663</td>\n      <td>-18.376126</td>\n      <td>0.010159</td>\n    </tr>\n    <tr>\n      <th>42</th>\n      <td>4</td>\n      <td>8</td>\n      <td>1.766295</td>\n      <td>42.332865</td>\n      <td>22.049580</td>\n      <td>0.073762</td>\n    </tr>\n    <tr>\n      <th>43</th>\n      <td>4</td>\n      <td>9</td>\n      <td>-39.958886</td>\n      <td>-11.654092</td>\n      <td>-25.806489</td>\n      <td>0.002706</td>\n    </tr>\n    <tr>\n      <th>44</th>\n      <td>4</td>\n      <td>10</td>\n      <td>-49.477189</td>\n      <td>-0.672676</td>\n      <td>-25.074933</td>\n      <td>0.090990</td>\n    </tr>\n    <tr>\n      <th>45</th>\n      <td>4</td>\n      <td>11</td>\n      <td>-30.608469</td>\n      <td>-7.095236</td>\n      <td>-18.851853</td>\n      <td>0.008351</td>\n    </tr>\n    <tr>\n      <th>46</th>\n      <td>4</td>\n      <td>12</td>\n      <td>-26.577555</td>\n      <td>-4.512450</td>\n      <td>-15.545003</td>\n      <td>0.020470</td>\n    </tr>\n    <tr>\n      <th>49</th>\n      <td>5</td>\n      <td>8</td>\n      <td>33.254880</td>\n      <td>149.718048</td>\n      <td>91.486464</td>\n      <td>0.009761</td>\n    </tr>\n    <tr>\n      <th>50</th>\n      <td>5</td>\n      <td>9</td>\n      <td>-26.550503</td>\n      <td>-7.344424</td>\n      <td>-16.947464</td>\n      <td>0.003698</td>\n    </tr>\n    <tr>\n      <th>51</th>\n      <td>5</td>\n      <td>10</td>\n      <td>-119.020712</td>\n      <td>-31.435042</td>\n      <td>-75.227877</td>\n      <td>0.004720</td>\n    </tr>\n    <tr>\n      <th>52</th>\n      <td>5</td>\n      <td>11</td>\n      <td>-25.425399</td>\n      <td>-0.723448</td>\n      <td>-13.074423</td>\n      <td>0.081649</td>\n    </tr>\n    <tr>\n      <th>56</th>\n      <td>6</td>\n      <td>9</td>\n      <td>1.703191</td>\n      <td>26.172925</td>\n      <td>13.938058</td>\n      <td>0.060954</td>\n    </tr>\n    <tr>\n      <th>69</th>\n      <td>9</td>\n      <td>10</td>\n      <td>4.271393</td>\n      <td>24.416129</td>\n      <td>14.343761</td>\n      <td>0.019161</td>\n    </tr>\n    <tr>\n      <th>70</th>\n      <td>9</td>\n      <td>11</td>\n      <td>2.157588</td>\n      <td>20.802066</td>\n      <td>11.479827</td>\n      <td>0.042811</td>\n    </tr>\n  </tbody>\n</table>\n</div>"
     },
     "execution_count": 440,
     "metadata": {},
     "output_type": "execute_result"
    }
   ],
   "source": [
    "pd.DataFrame(result_MLE)[pd.DataFrame(result_MLE)['pval'] < 0.1]"
   ],
   "metadata": {
    "collapsed": false,
    "ExecuteTime": {
     "end_time": "2025-02-23T20:24:45.865063Z",
     "start_time": "2025-02-23T20:24:45.852827Z"
    }
   },
   "id": "d895735eef763907"
  },
  {
   "cell_type": "markdown",
   "source": [
    "# Validate significant interactions on a holdout set"
   ],
   "metadata": {
    "collapsed": false
   },
   "id": "71d39fc22e1d28e2"
  },
  {
   "cell_type": "code",
   "execution_count": 441,
   "outputs": [],
   "source": [
    "def validate(x_test, design_test, y_test, nonzero, selected_groups, \n",
    "             groups = None, n_features=None, intercept=True, mode=\"allpairs\", level=0.9):\n",
    "    X_E = design_test[:, nonzero]\n",
    "    active_flag = np.zeros(np.unique(groups).shape[0])\n",
    "    active_flag[selected_groups] = 1.\n",
    "    raw_data=np.array(x_test)\n",
    "\n",
    "    if intercept:\n",
    "        active_vars_flag = active_flag[1:]\n",
    "    else:\n",
    "        active_vars_flag = active_flag\n",
    "\n",
    "    data_interaction = {}\n",
    "    task_idx = []\n",
    "    for i in range(n_features):\n",
    "        for j in range(i + 1, n_features):\n",
    "            if mode == \"allpairs\":\n",
    "                task_idx.append((i, j))\n",
    "                data_interaction[(i, j)] = raw_data[:, i] * raw_data[:, j]\n",
    "            elif mode == 'weakhierarchy':\n",
    "                if active_vars_flag[i] or active_vars_flag[j]:\n",
    "                    task_idx.append((i, j))\n",
    "                    data_interaction[(i, j)] = raw_data[:, i] * raw_data[:, j]\n",
    "            elif mode == 'stronghierarchy':\n",
    "                if active_vars_flag[i] and active_vars_flag[j]:\n",
    "                    task_idx.append((i, j))\n",
    "                    data_interaction[(i, j)] = raw_data[:, i] * raw_data[:, j]\n",
    "\n",
    "    result_dict = interaction_t_tests_all(X_E, y_test, n_features,\n",
    "                                          active_vars_flag, data_interaction,\n",
    "                                          level=level, mode=mode)\n",
    "\n",
    "    return result_dict"
   ],
   "metadata": {
    "collapsed": false,
    "ExecuteTime": {
     "end_time": "2025-02-23T20:24:45.871754Z",
     "start_time": "2025-02-23T20:24:45.865577Z"
    }
   },
   "id": "b1ded8609285892d"
  },
  {
   "cell_type": "code",
   "execution_count": 442,
   "outputs": [],
   "source": [
    "result_naive_validate = validate(x_test, design_test, y_test, nonzero_naive, \n",
    "                                 selected_groups_naive, groups = groups_train, \n",
    "                                 n_features=x_train.shape[1],\n",
    "                                 intercept=True, mode=\"weakhierarchy\", level=0.9)"
   ],
   "metadata": {
    "collapsed": false,
    "ExecuteTime": {
     "end_time": "2025-02-23T20:24:56.602188Z",
     "start_time": "2025-02-23T20:24:46.716980Z"
    }
   },
   "id": "d2fbc15682c8b770"
  },
  {
   "cell_type": "code",
   "execution_count": 443,
   "outputs": [
    {
     "data": {
      "text/plain": "     i   j      CI_l      CI_u  beta_hat      pval\n0    0   3 -0.000013  0.000076  0.000032  0.237806\n1    0   4 -0.000036  0.000066  0.000015  0.622868\n2    0   5 -0.000035  0.000008 -0.000014  0.292419\n3    0   6 -0.000002  0.000010  0.000004  0.281871\n4    0   7 -0.000105  0.000131  0.000013  0.856069\n..  ..  ..       ...       ...       ...       ...\n70   9  11 -0.060874 -0.015162 -0.038018  0.006212\n71   9  12 -0.046554 -0.007463 -0.027008  0.023013\n72  10  11 -0.123986  0.026534 -0.048726  0.286838\n73  10  12 -0.137401 -0.009214 -0.073307  0.059894\n74  11  12 -0.099290  0.006616 -0.046337  0.150000\n\n[75 rows x 6 columns]",
      "text/html": "<div>\n<style scoped>\n    .dataframe tbody tr th:only-of-type {\n        vertical-align: middle;\n    }\n\n    .dataframe tbody tr th {\n        vertical-align: top;\n    }\n\n    .dataframe thead th {\n        text-align: right;\n    }\n</style>\n<table border=\"1\" class=\"dataframe\">\n  <thead>\n    <tr style=\"text-align: right;\">\n      <th></th>\n      <th>i</th>\n      <th>j</th>\n      <th>CI_l</th>\n      <th>CI_u</th>\n      <th>beta_hat</th>\n      <th>pval</th>\n    </tr>\n  </thead>\n  <tbody>\n    <tr>\n      <th>0</th>\n      <td>0</td>\n      <td>3</td>\n      <td>-0.000013</td>\n      <td>0.000076</td>\n      <td>0.000032</td>\n      <td>0.237806</td>\n    </tr>\n    <tr>\n      <th>1</th>\n      <td>0</td>\n      <td>4</td>\n      <td>-0.000036</td>\n      <td>0.000066</td>\n      <td>0.000015</td>\n      <td>0.622868</td>\n    </tr>\n    <tr>\n      <th>2</th>\n      <td>0</td>\n      <td>5</td>\n      <td>-0.000035</td>\n      <td>0.000008</td>\n      <td>-0.000014</td>\n      <td>0.292419</td>\n    </tr>\n    <tr>\n      <th>3</th>\n      <td>0</td>\n      <td>6</td>\n      <td>-0.000002</td>\n      <td>0.000010</td>\n      <td>0.000004</td>\n      <td>0.281871</td>\n    </tr>\n    <tr>\n      <th>4</th>\n      <td>0</td>\n      <td>7</td>\n      <td>-0.000105</td>\n      <td>0.000131</td>\n      <td>0.000013</td>\n      <td>0.856069</td>\n    </tr>\n    <tr>\n      <th>...</th>\n      <td>...</td>\n      <td>...</td>\n      <td>...</td>\n      <td>...</td>\n      <td>...</td>\n      <td>...</td>\n    </tr>\n    <tr>\n      <th>70</th>\n      <td>9</td>\n      <td>11</td>\n      <td>-0.060874</td>\n      <td>-0.015162</td>\n      <td>-0.038018</td>\n      <td>0.006212</td>\n    </tr>\n    <tr>\n      <th>71</th>\n      <td>9</td>\n      <td>12</td>\n      <td>-0.046554</td>\n      <td>-0.007463</td>\n      <td>-0.027008</td>\n      <td>0.023013</td>\n    </tr>\n    <tr>\n      <th>72</th>\n      <td>10</td>\n      <td>11</td>\n      <td>-0.123986</td>\n      <td>0.026534</td>\n      <td>-0.048726</td>\n      <td>0.286838</td>\n    </tr>\n    <tr>\n      <th>73</th>\n      <td>10</td>\n      <td>12</td>\n      <td>-0.137401</td>\n      <td>-0.009214</td>\n      <td>-0.073307</td>\n      <td>0.059894</td>\n    </tr>\n    <tr>\n      <th>74</th>\n      <td>11</td>\n      <td>12</td>\n      <td>-0.099290</td>\n      <td>0.006616</td>\n      <td>-0.046337</td>\n      <td>0.150000</td>\n    </tr>\n  </tbody>\n</table>\n<p>75 rows × 6 columns</p>\n</div>"
     },
     "execution_count": 443,
     "metadata": {},
     "output_type": "execute_result"
    }
   ],
   "source": [
    "pd.DataFrame(result_naive_validate)"
   ],
   "metadata": {
    "collapsed": false,
    "ExecuteTime": {
     "end_time": "2025-02-23T20:25:01.521280Z",
     "start_time": "2025-02-23T20:25:01.503476Z"
    }
   },
   "id": "e7f3357f235442be"
  },
  {
   "cell_type": "code",
   "execution_count": 444,
   "outputs": [],
   "source": [
    "result_MLE_validate = validate(x_test, design_test, y_test, nonzero_MLE, \n",
    "                                 selected_groups_MLE, groups = groups_train, \n",
    "                                 n_features=x_train.shape[1],\n",
    "                                 intercept=True, mode=\"weakhierarchy\", level=0.9)"
   ],
   "metadata": {
    "collapsed": false,
    "ExecuteTime": {
     "end_time": "2025-02-23T20:25:12.657976Z",
     "start_time": "2025-02-23T20:25:02.757963Z"
    }
   },
   "id": "31f152d496635ef8"
  },
  {
   "cell_type": "code",
   "execution_count": 445,
   "outputs": [
    {
     "data": {
      "text/plain": "     i   j      CI_l      CI_u  beta_hat      pval\n0    0   3 -0.000013  0.000076  0.000032  0.237806\n1    0   4 -0.000036  0.000066  0.000015  0.622868\n2    0   5 -0.000035  0.000008 -0.000014  0.292419\n3    0   6 -0.000002  0.000010  0.000004  0.281871\n4    0   7 -0.000105  0.000131  0.000013  0.856069\n..  ..  ..       ...       ...       ...       ...\n70   9  11 -0.060874 -0.015162 -0.038018  0.006212\n71   9  12 -0.046554 -0.007463 -0.027008  0.023013\n72  10  11 -0.123986  0.026534 -0.048726  0.286838\n73  10  12 -0.137401 -0.009214 -0.073307  0.059894\n74  11  12 -0.099290  0.006616 -0.046337  0.150000\n\n[75 rows x 6 columns]",
      "text/html": "<div>\n<style scoped>\n    .dataframe tbody tr th:only-of-type {\n        vertical-align: middle;\n    }\n\n    .dataframe tbody tr th {\n        vertical-align: top;\n    }\n\n    .dataframe thead th {\n        text-align: right;\n    }\n</style>\n<table border=\"1\" class=\"dataframe\">\n  <thead>\n    <tr style=\"text-align: right;\">\n      <th></th>\n      <th>i</th>\n      <th>j</th>\n      <th>CI_l</th>\n      <th>CI_u</th>\n      <th>beta_hat</th>\n      <th>pval</th>\n    </tr>\n  </thead>\n  <tbody>\n    <tr>\n      <th>0</th>\n      <td>0</td>\n      <td>3</td>\n      <td>-0.000013</td>\n      <td>0.000076</td>\n      <td>0.000032</td>\n      <td>0.237806</td>\n    </tr>\n    <tr>\n      <th>1</th>\n      <td>0</td>\n      <td>4</td>\n      <td>-0.000036</td>\n      <td>0.000066</td>\n      <td>0.000015</td>\n      <td>0.622868</td>\n    </tr>\n    <tr>\n      <th>2</th>\n      <td>0</td>\n      <td>5</td>\n      <td>-0.000035</td>\n      <td>0.000008</td>\n      <td>-0.000014</td>\n      <td>0.292419</td>\n    </tr>\n    <tr>\n      <th>3</th>\n      <td>0</td>\n      <td>6</td>\n      <td>-0.000002</td>\n      <td>0.000010</td>\n      <td>0.000004</td>\n      <td>0.281871</td>\n    </tr>\n    <tr>\n      <th>4</th>\n      <td>0</td>\n      <td>7</td>\n      <td>-0.000105</td>\n      <td>0.000131</td>\n      <td>0.000013</td>\n      <td>0.856069</td>\n    </tr>\n    <tr>\n      <th>...</th>\n      <td>...</td>\n      <td>...</td>\n      <td>...</td>\n      <td>...</td>\n      <td>...</td>\n      <td>...</td>\n    </tr>\n    <tr>\n      <th>70</th>\n      <td>9</td>\n      <td>11</td>\n      <td>-0.060874</td>\n      <td>-0.015162</td>\n      <td>-0.038018</td>\n      <td>0.006212</td>\n    </tr>\n    <tr>\n      <th>71</th>\n      <td>9</td>\n      <td>12</td>\n      <td>-0.046554</td>\n      <td>-0.007463</td>\n      <td>-0.027008</td>\n      <td>0.023013</td>\n    </tr>\n    <tr>\n      <th>72</th>\n      <td>10</td>\n      <td>11</td>\n      <td>-0.123986</td>\n      <td>0.026534</td>\n      <td>-0.048726</td>\n      <td>0.286838</td>\n    </tr>\n    <tr>\n      <th>73</th>\n      <td>10</td>\n      <td>12</td>\n      <td>-0.137401</td>\n      <td>-0.009214</td>\n      <td>-0.073307</td>\n      <td>0.059894</td>\n    </tr>\n    <tr>\n      <th>74</th>\n      <td>11</td>\n      <td>12</td>\n      <td>-0.099290</td>\n      <td>0.006616</td>\n      <td>-0.046337</td>\n      <td>0.150000</td>\n    </tr>\n  </tbody>\n</table>\n<p>75 rows × 6 columns</p>\n</div>"
     },
     "execution_count": 445,
     "metadata": {},
     "output_type": "execute_result"
    }
   ],
   "source": [
    "pd.DataFrame(result_MLE_validate)"
   ],
   "metadata": {
    "collapsed": false,
    "ExecuteTime": {
     "end_time": "2025-02-23T20:25:12.669855Z",
     "start_time": "2025-02-23T20:25:12.664409Z"
    }
   },
   "id": "e3078e8ee4333dbc"
  },
  {
   "cell_type": "code",
   "execution_count": 446,
   "outputs": [],
   "source": [
    "naive_df = pd.DataFrame(result_naive)\n",
    "naive_significant = \\\n",
    "    [(naive_df[\"i\"][k], naive_df[\"j\"][k]) for k in range(naive_df.shape[0])\n",
    "     if naive_df[\"pval\"][k] < 0.1]\n",
    "naive_insig = \\\n",
    "    [(naive_df[\"i\"][k], naive_df[\"j\"][k]) for k in range(naive_df.shape[0])\n",
    "     if naive_df[\"pval\"][k] >= 0.1]"
   ],
   "metadata": {
    "collapsed": false,
    "ExecuteTime": {
     "end_time": "2025-02-23T20:25:33.811582Z",
     "start_time": "2025-02-23T20:25:33.784068Z"
    }
   },
   "id": "296dd893aa71d616"
  },
  {
   "cell_type": "code",
   "execution_count": 447,
   "outputs": [],
   "source": [
    "naive_test_df = pd.DataFrame(result_naive_validate)\n",
    "naive_test_significant = \\\n",
    "    [(naive_test_df[\"i\"][k], naive_test_df[\"j\"][k]) for k in range(naive_test_df.shape[0])\n",
    "     if naive_test_df[\"pval\"][k] < 0.1]\n",
    "naive_test_insig = \\\n",
    "    [(naive_test_df[\"i\"][k], naive_test_df[\"j\"][k]) for k in range(naive_test_df.shape[0])\n",
    "     if naive_test_df[\"pval\"][k] >= 0.1]"
   ],
   "metadata": {
    "collapsed": false,
    "ExecuteTime": {
     "end_time": "2025-02-23T20:25:34.305762Z",
     "start_time": "2025-02-23T20:25:34.285455Z"
    }
   },
   "id": "5ff47d296a3d2fb0"
  },
  {
   "cell_type": "code",
   "execution_count": 448,
   "outputs": [],
   "source": [
    "naive_all = [(naive_test_df[\"i\"][k], naive_test_df[\"j\"][k]) \n",
    "             for k in range(naive_test_df.shape[0])]"
   ],
   "metadata": {
    "collapsed": false,
    "ExecuteTime": {
     "end_time": "2025-02-23T20:25:34.829766Z",
     "start_time": "2025-02-23T20:25:34.816697Z"
    }
   },
   "id": "5770d3f66d88a2ed"
  },
  {
   "cell_type": "code",
   "execution_count": 449,
   "outputs": [
    {
     "data": {
      "text/plain": "0.4166666666666667"
     },
     "execution_count": 449,
     "metadata": {},
     "output_type": "execute_result"
    }
   ],
   "source": [
    "len(set(naive_test_significant).intersection(set(naive_significant))) / len(set(naive_significant))"
   ],
   "metadata": {
    "collapsed": false,
    "ExecuteTime": {
     "end_time": "2025-02-23T20:25:35.271938Z",
     "start_time": "2025-02-23T20:25:35.257103Z"
    }
   },
   "id": "61f11969a56c8231"
  },
  {
   "cell_type": "code",
   "execution_count": 450,
   "outputs": [
    {
     "data": {
      "text/plain": "0.8292682926829268"
     },
     "execution_count": 450,
     "metadata": {},
     "output_type": "execute_result"
    }
   ],
   "source": [
    "len(set(naive_test_insig).intersection(set(naive_insig))) / len(set(naive_test_insig))"
   ],
   "metadata": {
    "collapsed": false,
    "ExecuteTime": {
     "end_time": "2025-02-23T20:25:35.793437Z",
     "start_time": "2025-02-23T20:25:35.778570Z"
    }
   },
   "id": "7ad7276a67a644cd"
  },
  {
   "cell_type": "code",
   "execution_count": 451,
   "outputs": [],
   "source": [
    "MLE_df = pd.DataFrame(result_MLE)\n",
    "MLE_significant = \\\n",
    "    [(MLE_df[\"i\"][k], MLE_df[\"j\"][k]) for k in range(MLE_df.shape[0])\n",
    "     if MLE_df[\"pval\"][k] < 0.1]\n",
    "MLE_insig = \\\n",
    "    [(MLE_df[\"i\"][k], MLE_df[\"j\"][k]) for k in range(MLE_df.shape[0])\n",
    "     if MLE_df[\"pval\"][k] >= 0.1]"
   ],
   "metadata": {
    "collapsed": false,
    "ExecuteTime": {
     "end_time": "2025-02-23T20:25:36.319903Z",
     "start_time": "2025-02-23T20:25:36.307733Z"
    }
   },
   "id": "7ad648bfdc173adc"
  },
  {
   "cell_type": "code",
   "execution_count": 451,
   "outputs": [],
   "source": [],
   "metadata": {
    "collapsed": false,
    "ExecuteTime": {
     "end_time": "2025-02-23T20:25:36.849920Z",
     "start_time": "2025-02-23T20:25:36.835338Z"
    }
   },
   "id": "9a05aee7f052570b"
  },
  {
   "cell_type": "code",
   "execution_count": 452,
   "outputs": [
    {
     "data": {
      "text/plain": "18"
     },
     "execution_count": 452,
     "metadata": {},
     "output_type": "execute_result"
    }
   ],
   "source": [
    "len(MLE_significant)"
   ],
   "metadata": {
    "collapsed": false,
    "ExecuteTime": {
     "end_time": "2025-02-23T20:25:37.327942Z",
     "start_time": "2025-02-23T20:25:37.314408Z"
    }
   },
   "id": "8bda3f289671a95f"
  },
  {
   "cell_type": "code",
   "execution_count": 453,
   "outputs": [],
   "source": [
    "MLE_test_df = pd.DataFrame(result_MLE_validate)\n",
    "MLE_test_significant = \\\n",
    "    [(MLE_test_df[\"i\"][k], MLE_test_df[\"j\"][k]) for k in range(MLE_test_df.shape[0])\n",
    "     if MLE_test_df[\"pval\"][k] < 0.1]\n",
    "MLE_test_insig = \\\n",
    "    [(MLE_test_df[\"i\"][k], MLE_test_df[\"j\"][k]) for k in range(MLE_test_df.shape[0])\n",
    "     if MLE_test_df[\"pval\"][k] >= 0.1]"
   ],
   "metadata": {
    "collapsed": false,
    "ExecuteTime": {
     "end_time": "2025-02-23T20:25:37.712857Z",
     "start_time": "2025-02-23T20:25:37.696509Z"
    }
   },
   "id": "4916a5cbcafb4eb"
  },
  {
   "cell_type": "code",
   "execution_count": 454,
   "outputs": [],
   "source": [
    "MLE_all = [(MLE_test_df[\"i\"][k], MLE_test_df[\"j\"][k]) \n",
    "             for k in range(MLE_test_df.shape[0])]"
   ],
   "metadata": {
    "collapsed": false,
    "ExecuteTime": {
     "end_time": "2025-02-23T20:25:38.126502Z",
     "start_time": "2025-02-23T20:25:38.112046Z"
    }
   },
   "id": "2129c3a58b1f6b8c"
  },
  {
   "cell_type": "code",
   "execution_count": 455,
   "outputs": [],
   "source": [
    "alpha = 0.1\n",
    "naive_train = [(naive_df[\"pval\"][k] < alpha) for k in range(naive_df.shape[0])]\n",
    "naive_test = [(naive_test_df[\"pval\"][k] < alpha) for k in range(naive_test_df.shape[0])]"
   ],
   "metadata": {
    "collapsed": false,
    "ExecuteTime": {
     "end_time": "2025-02-23T20:25:38.576680Z",
     "start_time": "2025-02-23T20:25:38.562415Z"
    }
   },
   "id": "e8d80e001237f85"
  },
  {
   "cell_type": "code",
   "execution_count": 456,
   "outputs": [
    {
     "data": {
      "text/plain": "array([[34,  7],\n       [29,  5]])"
     },
     "execution_count": 456,
     "metadata": {},
     "output_type": "execute_result"
    }
   ],
   "source": [
    "from sklearn.metrics import confusion_matrix\n",
    "# tn, fp, \n",
    "# fn, tp\n",
    "confusion_matrix(naive_test, naive_train)"
   ],
   "metadata": {
    "collapsed": false,
    "ExecuteTime": {
     "end_time": "2025-02-23T20:25:39.025961Z",
     "start_time": "2025-02-23T20:25:38.999893Z"
    }
   },
   "id": "fcfd3ca5b8476384"
  },
  {
   "cell_type": "code",
   "execution_count": 457,
   "outputs": [
    {
     "data": {
      "text/plain": "0.21739130434782608"
     },
     "execution_count": 457,
     "metadata": {},
     "output_type": "execute_result"
    }
   ],
   "source": [
    "from sklearn.metrics import f1_score\n",
    "f1_score(naive_test, naive_train)"
   ],
   "metadata": {
    "collapsed": false,
    "ExecuteTime": {
     "end_time": "2025-02-23T20:25:39.340798Z",
     "start_time": "2025-02-23T20:25:39.326866Z"
    }
   },
   "id": "a89df0cf086b7765"
  },
  {
   "cell_type": "code",
   "execution_count": 458,
   "outputs": [],
   "source": [
    "MLE_train = [(MLE_df[\"pval\"][k] < alpha) for k in range(MLE_df.shape[0])]\n",
    "MLE_test = [(MLE_test_df[\"pval\"][k] < alpha) for k in range(MLE_test_df.shape[0])]"
   ],
   "metadata": {
    "collapsed": false,
    "ExecuteTime": {
     "end_time": "2025-02-23T20:25:40.031839Z",
     "start_time": "2025-02-23T20:25:40.017481Z"
    }
   },
   "id": "3f42fe90bd091efb"
  },
  {
   "cell_type": "code",
   "execution_count": 459,
   "outputs": [
    {
     "data": {
      "text/plain": "array([[35,  6],\n       [22, 12]])"
     },
     "execution_count": 459,
     "metadata": {},
     "output_type": "execute_result"
    }
   ],
   "source": [
    "from sklearn.metrics import confusion_matrix\n",
    "# tn, fp, \n",
    "# fn, tp\n",
    "confusion_matrix(MLE_test, MLE_train)"
   ],
   "metadata": {
    "collapsed": false,
    "ExecuteTime": {
     "end_time": "2025-02-23T20:25:40.559590Z",
     "start_time": "2025-02-23T20:25:40.545199Z"
    }
   },
   "id": "5753a5bb10ba942b"
  },
  {
   "cell_type": "code",
   "execution_count": 460,
   "outputs": [
    {
     "data": {
      "text/plain": "0.46153846153846156"
     },
     "execution_count": 460,
     "metadata": {},
     "output_type": "execute_result"
    }
   ],
   "source": [
    "from sklearn.metrics import f1_score\n",
    "f1_score(MLE_test, MLE_train)"
   ],
   "metadata": {
    "collapsed": false,
    "ExecuteTime": {
     "end_time": "2025-02-23T20:25:41.416284Z",
     "start_time": "2025-02-23T20:25:41.403554Z"
    }
   },
   "id": "9e5caff85873d7da"
  },
  {
   "cell_type": "code",
   "execution_count": 461,
   "outputs": [
    {
     "data": {
      "text/plain": "12"
     },
     "execution_count": 461,
     "metadata": {},
     "output_type": "execute_result"
    }
   ],
   "source": [
    "len(set(MLE_test_significant).intersection(set(MLE_significant)))# / len(MLE_test_significant)"
   ],
   "metadata": {
    "collapsed": false,
    "ExecuteTime": {
     "end_time": "2025-02-23T20:25:42.518990Z",
     "start_time": "2025-02-23T20:25:42.497759Z"
    }
   },
   "id": "8a3d3f01f1cd77fb"
  },
  {
   "cell_type": "code",
   "execution_count": 461,
   "outputs": [],
   "source": [],
   "metadata": {
    "collapsed": false,
    "ExecuteTime": {
     "end_time": "2025-02-23T20:25:43.262748Z",
     "start_time": "2025-02-23T20:25:43.249089Z"
    }
   },
   "id": "6b15b02c81f335d1"
  },
  {
   "cell_type": "code",
   "execution_count": 437,
   "outputs": [
    {
     "data": {
      "text/plain": "15"
     },
     "execution_count": 437,
     "metadata": {},
     "output_type": "execute_result"
    }
   ],
   "source": [
    "len(set(MLE_test_insig).intersection(set(MLE_insig)))# / len(set(MLE_test_insig))"
   ],
   "metadata": {
    "collapsed": false,
    "ExecuteTime": {
     "end_time": "2025-02-23T20:24:02.266251Z",
     "start_time": "2025-02-23T20:24:02.254266Z"
    }
   },
   "id": "7b9675d0002637e"
  },
  {
   "cell_type": "code",
   "execution_count": null,
   "outputs": [],
   "source": [],
   "metadata": {
    "collapsed": false
   },
   "id": "ef4764b9ed429fa5"
  }
 ],
 "metadata": {
  "kernelspec": {
   "display_name": "Python 3",
   "language": "python",
   "name": "python3"
  },
  "language_info": {
   "codemirror_mode": {
    "name": "ipython",
    "version": 2
   },
   "file_extension": ".py",
   "mimetype": "text/x-python",
   "name": "python",
   "nbconvert_exporter": "python",
   "pygments_lexer": "ipython2",
   "version": "2.7.6"
  }
 },
 "nbformat": 4,
 "nbformat_minor": 5
}
