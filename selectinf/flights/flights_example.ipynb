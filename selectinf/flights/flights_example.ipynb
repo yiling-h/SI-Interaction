{
 "cells": [
  {
   "cell_type": "code",
   "execution_count": 2,
   "id": "initial_id",
   "metadata": {
    "collapsed": true,
    "ExecuteTime": {
     "end_time": "2025-04-19T01:57:37.812649Z",
     "start_time": "2025-04-19T01:57:37.526447Z"
    }
   },
   "outputs": [],
   "source": [
    "import pandas as pd\n",
    "import numpy as np\n",
    "from datetime import datetime\n",
    "import matplotlib.pyplot as plt\n",
    "import seaborn as sns\n",
    "from sklearn.model_selection import train_test_split\n",
    "from selectinf.Simulation.spline import cubic_spline, b_spline\n",
    "from selectinf.Simulation.H1.nonlinear_H1_helpers import *\n",
    "from selectinf.RealDataHelpers.rdhelpers import *\n",
    "from sklearn.decomposition import PCA"
   ]
  },
  {
   "cell_type": "code",
   "execution_count": 3,
   "outputs": [],
   "source": [
    "fpw = pd.read_csv(\"fpw.csv\", index_col=0)"
   ],
   "metadata": {
    "collapsed": false,
    "ExecuteTime": {
     "end_time": "2025-04-19T01:57:37.836775Z",
     "start_time": "2025-04-19T01:57:37.812204Z"
    }
   },
   "id": "2f2c87fa2b52e552"
  },
  {
   "cell_type": "code",
   "execution_count": 4,
   "outputs": [
    {
     "data": {
      "text/plain": "      day  dep_delay  distance  plane_age  seats  temp  dewp  humid  wind_dir  \\\n0       1       28.0       187       18.0     20  42.0  30.0  62.18     360.0   \n1       1      -12.0      1576       21.0    200  42.0  30.0  62.18     360.0   \n2       1        6.0      1041       18.0     20  41.0  30.0  64.63     250.0   \n3       1       -7.0      1182       24.0    145  41.0  30.0  64.63     250.0   \n4       1       -4.0      1029       22.0    145  41.0  30.0  64.63     250.0   \n...   ...        ...       ...        ...    ...   ...   ...    ...       ...   \n8435   27       -3.0       187       11.0    200  42.0  41.0  96.21       0.0   \n8436   27        2.0      1089        1.0    185  42.0  41.0  96.21       0.0   \n8437   16      240.0      1089        7.0    189  26.0  23.0  88.23     330.0   \n8438   27       -5.0       209       17.0     95  42.0  39.0  89.01     160.0   \n8439   18        4.0      1089       25.0    162  22.0   6.0  49.57     260.0   \n\n      wind_speed  wind_gust  precip  pressure  visib  sched_dep_hour  \\\n0        9.20624  10.594357    0.00    1017.8  10.00       23.783333   \n1        9.20624  10.594357    0.00    1017.8  10.00       23.416667   \n2        9.20624  10.594357    0.00    1015.7  10.00        8.000000   \n3        9.20624  10.594357    0.00    1015.7  10.00        8.033333   \n4        9.20624  10.594357    0.00    1015.7  10.00        8.000000   \n...          ...        ...     ...       ...    ...             ...   \n8435     0.00000   0.000000    0.00    1019.2   1.50        5.500000   \n8436     0.00000   0.000000    0.00    1019.2   1.50        5.416667   \n8437     4.60312   5.297178    0.01    1020.9   1.25        5.416667   \n8438     4.60312   5.297178    0.00    1023.2  10.00       23.000000   \n8439    16.11092  18.540125    0.00    1021.4  10.00        5.416667   \n\n      sched_arr_hour  \n0           0.983333  \n1           4.083333  \n2          11.300000  \n3          10.833333  \n4          10.500000  \n...              ...  \n8435        6.700000  \n8436        8.650000  \n8437        8.650000  \n8438        0.450000  \n8439        8.650000  \n\n[7358 rows x 16 columns]",
      "text/html": "<div>\n<style scoped>\n    .dataframe tbody tr th:only-of-type {\n        vertical-align: middle;\n    }\n\n    .dataframe tbody tr th {\n        vertical-align: top;\n    }\n\n    .dataframe thead th {\n        text-align: right;\n    }\n</style>\n<table border=\"1\" class=\"dataframe\">\n  <thead>\n    <tr style=\"text-align: right;\">\n      <th></th>\n      <th>day</th>\n      <th>dep_delay</th>\n      <th>distance</th>\n      <th>plane_age</th>\n      <th>seats</th>\n      <th>temp</th>\n      <th>dewp</th>\n      <th>humid</th>\n      <th>wind_dir</th>\n      <th>wind_speed</th>\n      <th>wind_gust</th>\n      <th>precip</th>\n      <th>pressure</th>\n      <th>visib</th>\n      <th>sched_dep_hour</th>\n      <th>sched_arr_hour</th>\n    </tr>\n  </thead>\n  <tbody>\n    <tr>\n      <th>0</th>\n      <td>1</td>\n      <td>28.0</td>\n      <td>187</td>\n      <td>18.0</td>\n      <td>20</td>\n      <td>42.0</td>\n      <td>30.0</td>\n      <td>62.18</td>\n      <td>360.0</td>\n      <td>9.20624</td>\n      <td>10.594357</td>\n      <td>0.00</td>\n      <td>1017.8</td>\n      <td>10.00</td>\n      <td>23.783333</td>\n      <td>0.983333</td>\n    </tr>\n    <tr>\n      <th>1</th>\n      <td>1</td>\n      <td>-12.0</td>\n      <td>1576</td>\n      <td>21.0</td>\n      <td>200</td>\n      <td>42.0</td>\n      <td>30.0</td>\n      <td>62.18</td>\n      <td>360.0</td>\n      <td>9.20624</td>\n      <td>10.594357</td>\n      <td>0.00</td>\n      <td>1017.8</td>\n      <td>10.00</td>\n      <td>23.416667</td>\n      <td>4.083333</td>\n    </tr>\n    <tr>\n      <th>2</th>\n      <td>1</td>\n      <td>6.0</td>\n      <td>1041</td>\n      <td>18.0</td>\n      <td>20</td>\n      <td>41.0</td>\n      <td>30.0</td>\n      <td>64.63</td>\n      <td>250.0</td>\n      <td>9.20624</td>\n      <td>10.594357</td>\n      <td>0.00</td>\n      <td>1015.7</td>\n      <td>10.00</td>\n      <td>8.000000</td>\n      <td>11.300000</td>\n    </tr>\n    <tr>\n      <th>3</th>\n      <td>1</td>\n      <td>-7.0</td>\n      <td>1182</td>\n      <td>24.0</td>\n      <td>145</td>\n      <td>41.0</td>\n      <td>30.0</td>\n      <td>64.63</td>\n      <td>250.0</td>\n      <td>9.20624</td>\n      <td>10.594357</td>\n      <td>0.00</td>\n      <td>1015.7</td>\n      <td>10.00</td>\n      <td>8.033333</td>\n      <td>10.833333</td>\n    </tr>\n    <tr>\n      <th>4</th>\n      <td>1</td>\n      <td>-4.0</td>\n      <td>1029</td>\n      <td>22.0</td>\n      <td>145</td>\n      <td>41.0</td>\n      <td>30.0</td>\n      <td>64.63</td>\n      <td>250.0</td>\n      <td>9.20624</td>\n      <td>10.594357</td>\n      <td>0.00</td>\n      <td>1015.7</td>\n      <td>10.00</td>\n      <td>8.000000</td>\n      <td>10.500000</td>\n    </tr>\n    <tr>\n      <th>...</th>\n      <td>...</td>\n      <td>...</td>\n      <td>...</td>\n      <td>...</td>\n      <td>...</td>\n      <td>...</td>\n      <td>...</td>\n      <td>...</td>\n      <td>...</td>\n      <td>...</td>\n      <td>...</td>\n      <td>...</td>\n      <td>...</td>\n      <td>...</td>\n      <td>...</td>\n      <td>...</td>\n    </tr>\n    <tr>\n      <th>8435</th>\n      <td>27</td>\n      <td>-3.0</td>\n      <td>187</td>\n      <td>11.0</td>\n      <td>200</td>\n      <td>42.0</td>\n      <td>41.0</td>\n      <td>96.21</td>\n      <td>0.0</td>\n      <td>0.00000</td>\n      <td>0.000000</td>\n      <td>0.00</td>\n      <td>1019.2</td>\n      <td>1.50</td>\n      <td>5.500000</td>\n      <td>6.700000</td>\n    </tr>\n    <tr>\n      <th>8436</th>\n      <td>27</td>\n      <td>2.0</td>\n      <td>1089</td>\n      <td>1.0</td>\n      <td>185</td>\n      <td>42.0</td>\n      <td>41.0</td>\n      <td>96.21</td>\n      <td>0.0</td>\n      <td>0.00000</td>\n      <td>0.000000</td>\n      <td>0.00</td>\n      <td>1019.2</td>\n      <td>1.50</td>\n      <td>5.416667</td>\n      <td>8.650000</td>\n    </tr>\n    <tr>\n      <th>8437</th>\n      <td>16</td>\n      <td>240.0</td>\n      <td>1089</td>\n      <td>7.0</td>\n      <td>189</td>\n      <td>26.0</td>\n      <td>23.0</td>\n      <td>88.23</td>\n      <td>330.0</td>\n      <td>4.60312</td>\n      <td>5.297178</td>\n      <td>0.01</td>\n      <td>1020.9</td>\n      <td>1.25</td>\n      <td>5.416667</td>\n      <td>8.650000</td>\n    </tr>\n    <tr>\n      <th>8438</th>\n      <td>27</td>\n      <td>-5.0</td>\n      <td>209</td>\n      <td>17.0</td>\n      <td>95</td>\n      <td>42.0</td>\n      <td>39.0</td>\n      <td>89.01</td>\n      <td>160.0</td>\n      <td>4.60312</td>\n      <td>5.297178</td>\n      <td>0.00</td>\n      <td>1023.2</td>\n      <td>10.00</td>\n      <td>23.000000</td>\n      <td>0.450000</td>\n    </tr>\n    <tr>\n      <th>8439</th>\n      <td>18</td>\n      <td>4.0</td>\n      <td>1089</td>\n      <td>25.0</td>\n      <td>162</td>\n      <td>22.0</td>\n      <td>6.0</td>\n      <td>49.57</td>\n      <td>260.0</td>\n      <td>16.11092</td>\n      <td>18.540125</td>\n      <td>0.00</td>\n      <td>1021.4</td>\n      <td>10.00</td>\n      <td>5.416667</td>\n      <td>8.650000</td>\n    </tr>\n  </tbody>\n</table>\n<p>7358 rows × 16 columns</p>\n</div>"
     },
     "execution_count": 4,
     "metadata": {},
     "output_type": "execute_result"
    }
   ],
   "source": [
    "fpw"
   ],
   "metadata": {
    "collapsed": false,
    "ExecuteTime": {
     "end_time": "2025-04-19T01:57:38.238391Z",
     "start_time": "2025-04-19T01:57:38.228006Z"
    }
   },
   "id": "7151f358fc2f63a5"
  },
  {
   "cell_type": "code",
   "execution_count": 5,
   "outputs": [
    {
     "data": {
      "text/plain": "array([0.    , 0.01  , 0.02  , 0.03  , 0.0001, 0.04  ])"
     },
     "execution_count": 5,
     "metadata": {},
     "output_type": "execute_result"
    }
   ],
   "source": [
    "fpw[\"precip\"].unique()"
   ],
   "metadata": {
    "collapsed": false,
    "ExecuteTime": {
     "end_time": "2025-04-19T01:57:38.518430Z",
     "start_time": "2025-04-19T01:57:38.505379Z"
    }
   },
   "id": "e3577dcc1ad48133"
  },
  {
   "cell_type": "code",
   "execution_count": 6,
   "outputs": [],
   "source": [
    "Y = fpw[\"dep_delay\"]\n",
    "X = fpw.drop([\"dep_delay\", 'day', \"wind_gust\"], axis=1)"
   ],
   "metadata": {
    "collapsed": false,
    "ExecuteTime": {
     "end_time": "2025-04-19T01:57:38.975046Z",
     "start_time": "2025-04-19T01:57:38.966935Z"
    }
   },
   "id": "118b0d2e43495c24"
  },
  {
   "cell_type": "code",
   "execution_count": 7,
   "outputs": [
    {
     "data": {
      "text/plain": "(7358, 13)"
     },
     "execution_count": 7,
     "metadata": {},
     "output_type": "execute_result"
    }
   ],
   "source": [
    "X.shape"
   ],
   "metadata": {
    "collapsed": false,
    "ExecuteTime": {
     "end_time": "2025-04-19T01:57:39.395989Z",
     "start_time": "2025-04-19T01:57:39.385012Z"
    }
   },
   "id": "2822d91594c04ae8"
  },
  {
   "cell_type": "markdown",
   "source": [
    "# Implementation: Construct splines"
   ],
   "metadata": {
    "collapsed": false
   },
   "id": "dec60c8fe474705a"
  },
  {
   "cell_type": "code",
   "execution_count": 8,
   "outputs": [],
   "source": [
    "def get_splines(x_nl, x_l, nknots, degree, intercept):\n",
    "    bs = b_spline(data_nl=np.array(x_nl), data_l=np.array(x_l), \n",
    "                  nknots=nknots, degree=degree, intercept=intercept)\n",
    "    bs.construct_splines(use_quantiles=True, equally_spaced=False, center=False)\n",
    "    design_train = bs.get_spline_data()\n",
    "    design_train *= np.sqrt(design_train.shape[0])\n",
    "    design_train[:, 0] = 1\n",
    "    # Returning group labels with 0 meaning the intercept (if applicable)\n",
    "    groups = bs.get_groups()\n",
    "\n",
    "    return design_train, groups\n"
   ],
   "metadata": {
    "collapsed": false,
    "ExecuteTime": {
     "end_time": "2025-04-19T01:57:40.153079Z",
     "start_time": "2025-04-19T01:57:40.142098Z"
    }
   },
   "id": "a114963c1ee396a0"
  },
  {
   "cell_type": "markdown",
   "source": [
    "# Implementation: Validate significant interactions on a holdout set"
   ],
   "metadata": {
    "collapsed": false
   },
   "id": "71d39fc22e1d28e2"
  },
  {
   "cell_type": "code",
   "execution_count": 9,
   "outputs": [],
   "source": [
    "def validate(x_test, design_test, y_test, nonzero, selected_groups, \n",
    "             groups = None, n_features=None, intercept=True, mode=\"allpairs\", level=0.9):\n",
    "    X_E = design_test[:, nonzero]\n",
    "    active_flag = np.zeros(np.unique(groups).shape[0])\n",
    "    active_flag[selected_groups] = 1.\n",
    "    raw_data=np.array(x_test)\n",
    "\n",
    "    if intercept:\n",
    "        active_vars_flag = active_flag[1:]\n",
    "    else:\n",
    "        active_vars_flag = active_flag\n",
    "\n",
    "    data_interaction = {}\n",
    "    task_idx = []\n",
    "    for i in range(n_features):\n",
    "        for j in range(i + 1, n_features):\n",
    "            if mode == \"allpairs\":\n",
    "                task_idx.append((i, j))\n",
    "                data_interaction[(i, j)] = raw_data[:, i] * raw_data[:, j]\n",
    "            elif mode == 'weakhierarchy':\n",
    "                if active_vars_flag[i] or active_vars_flag[j]:\n",
    "                    task_idx.append((i, j))\n",
    "                    data_interaction[(i, j)] = raw_data[:, i] * raw_data[:, j]\n",
    "            elif mode == 'stronghierarchy':\n",
    "                if active_vars_flag[i] and active_vars_flag[j]:\n",
    "                    task_idx.append((i, j))\n",
    "                    data_interaction[(i, j)] = raw_data[:, i] * raw_data[:, j]\n",
    "\n",
    "    result_dict = interaction_t_tests_all(X_E, y_test, n_features,\n",
    "                                          active_vars_flag, data_interaction,\n",
    "                                          level=level, mode=mode)\n",
    "\n",
    "    return result_dict"
   ],
   "metadata": {
    "collapsed": false,
    "ExecuteTime": {
     "end_time": "2025-04-19T01:57:40.933696Z",
     "start_time": "2025-04-19T01:57:40.915172Z"
    }
   },
   "id": "b1ded8609285892d"
  },
  {
   "cell_type": "markdown",
   "source": [
    "# Repeated subsampling"
   ],
   "metadata": {
    "collapsed": false
   },
   "id": "afde7042028f702"
  },
  {
   "cell_type": "code",
   "execution_count": 10,
   "outputs": [],
   "source": [
    "def subsampling_inference(Y, X, test_size, n_rep, alpha = 0.1):\n",
    "    \n",
    "    f1_dict = {\"method\":[], \"F1\":[], \"Precision\":[], \"Recall\":[]}\n",
    "    MSE_dict = {\"method\":[], \"MSE_test\":[], \"MSE_train\":[]}\n",
    "    main_effects_freq_Naive = {name: 0 for name in X.columns}\n",
    "    interaction_freq_Naive = {}\n",
    "    main_effects_freq_MLE = {name: 0 for name in X.columns}\n",
    "    interaction_freq_MLE = {}\n",
    "    \n",
    "    for i in range(n_rep):\n",
    "        x_train, x_test, y_train, y_test = train_test_split(X, Y, \n",
    "                                                            test_size=test_size,\n",
    "                                                            random_state=i)\n",
    "    \n",
    "        linear = list(x_train.columns[x_train.nunique() < 40])\n",
    "        x_train_nl = x_train.drop(linear, axis=1)\n",
    "        x_train_l_temp = x_train[linear]\n",
    "        x_test_nl = x_test.drop(linear, axis=1)\n",
    "        x_test_l = x_test[linear]\n",
    "        n_train = x_train_l_temp.shape[0]\n",
    "        n_test = x_test_l.shape[0]\n",
    "        \n",
    "        x_train_l = (x_train_l_temp - x_train_l_temp.mean()) / (x_train_l_temp.std() * np.sqrt(n_train))\n",
    "        x_test_l = (x_test_l - x_train_l_temp.mean()) / (x_train_l_temp.std() * np.sqrt(n_test))\n",
    "        design_train, groups_train = (\n",
    "            get_splines(x_train_nl, x_train_l, nknots=6, degree=2, intercept=True))\n",
    "        design_test, groups_test = (\n",
    "            get_splines(x_test_nl, x_test_l, nknots=6, degree=2, intercept=True))\n",
    "\n",
    "        names_map = {i: None for i in range(X.shape[1])}\n",
    "        for i in range(len(x_train_nl.columns)):\n",
    "            names_map[i] = x_train_nl.columns[i]\n",
    "        for j in range(len(x_train_nl.columns),\n",
    "                       len(x_train_nl.columns) + len(x_train_l.columns)):\n",
    "            names_map[j] = x_train_l.columns[j - len(x_train_nl.columns)]\n",
    "        print(names_map)\n",
    "    \n",
    "        const = group_lasso.gaussian\n",
    "    \n",
    "    \n",
    "        result_naive, nonzero_naive, selected_groups_naive, soln_naive \\\n",
    "            = naive_inference_real_data(X=design_train, Y=np.array(y_train),\n",
    "                                        raw_data=np.array(x_train),\n",
    "                                        groups=groups_train, const=const,\n",
    "                                        n_features=x_train.shape[1],\n",
    "                                        intercept=True, weight_frac=0.5, level=0.9,\n",
    "                                        mode=\"weakhierarchy\", root_n_scaled=False)\n",
    "        \n",
    "        result_MLE, nonzero_MLE, selected_groups_MLE, soln_MLE \\\n",
    "            = MLE_inference_real_data(X=design_train, Y=np.array(y_train),\n",
    "                                      raw_data=np.array(x_train), groups=groups_train,\n",
    "                                      n_features=x_train.shape[1],\n",
    "                                      intercept=True, weight_frac=0.5, level=0.9,\n",
    "                                      mode=\"weakhierarchy\",\n",
    "                                      root_n_scaled=False, proportion=0.9)\n",
    "        \n",
    "        if result_naive is not None:\n",
    "            for g in selected_groups_naive:\n",
    "                if g != 0:\n",
    "                    main_effects_freq_Naive[names_map[g-1]] += 1\n",
    "    \n",
    "            result_naive_validate = validate(x_test, design_test, y_test, nonzero_naive,\n",
    "                                             selected_groups_naive, groups=groups_train,\n",
    "                                             n_features=x_train.shape[1],\n",
    "                                             intercept=True, mode=\"weakhierarchy\", level=0.9)\n",
    "            naive_df = pd.DataFrame(result_naive)\n",
    "            naive_test_df = pd.DataFrame(result_naive_validate)\n",
    "            naive_train = [(naive_df[\"pval\"][k] < alpha) for k in range(naive_df.shape[0])]\n",
    "            naive_test = [(naive_test_df[\"pval\"][k] < alpha) for k in range(naive_test_df.shape[0])]\n",
    "            f1_dict[\"method\"].append(\"Naive\")\n",
    "            f1_dict[\"F1\"].append(f1_score(naive_test, naive_train))\n",
    "            f1_dict[\"Precision\"].append(precision_score(naive_test, naive_train))\n",
    "            f1_dict[\"Recall\"].append(recall_score(naive_test, naive_train))\n",
    "            \n",
    "            for index, row in naive_df.iterrows():\n",
    "                if row[\"pval\"] < alpha:\n",
    "                    i = row[\"i\"]\n",
    "                    j = row[\"j\"]\n",
    "                    if (names_map[i], names_map[j]) in interaction_freq_Naive.keys():\n",
    "                        interaction_freq_Naive[(names_map[i], names_map[j])] += 1\n",
    "                    elif (names_map[j], names_map[i]) in interaction_freq_Naive.keys():\n",
    "                        interaction_freq_Naive[(names_map[j], names_map[i])] += 1\n",
    "                    else:\n",
    "                        interaction_freq_Naive[(names_map[i], names_map[j])] = 1\n",
    "            \n",
    "        else:\n",
    "            f1_dict[\"method\"].append(\"Naive\")\n",
    "            f1_dict[\"F1\"].append(0)\n",
    "            f1_dict[\"Precision\"].append(0)\n",
    "            f1_dict[\"Recall\"].append(0)\n",
    "    \n",
    "        if result_MLE is not None:\n",
    "            for g in selected_groups_MLE:\n",
    "                if g != 0:\n",
    "                    main_effects_freq_MLE[names_map[g-1]] += 1\n",
    "            result_MLE_validate = validate(x_test, design_test, y_test, nonzero_MLE,\n",
    "                                           selected_groups_MLE, groups=groups_train,\n",
    "                                           n_features=x_train.shape[1],\n",
    "                                           intercept=True, mode=\"weakhierarchy\", level=0.9)\n",
    "        \n",
    "            MLE_df = pd.DataFrame(result_MLE)\n",
    "            MLE_test_df = pd.DataFrame(result_MLE_validate)\n",
    "            MLE_train = [(MLE_df[\"pval\"][k] < alpha) for k in range(MLE_df.shape[0])]\n",
    "            MLE_test = [(MLE_test_df[\"pval\"][k] < alpha) for k in range(MLE_test_df.shape[0])]\n",
    "            f1_dict[\"method\"].append(\"MLE\")\n",
    "            f1_dict[\"F1\"].append(f1_score(MLE_test, MLE_train))\n",
    "            f1_dict[\"Precision\"].append(precision_score(MLE_test, MLE_train))\n",
    "            f1_dict[\"Recall\"].append(recall_score(MLE_test, MLE_train))\n",
    "            \n",
    "            for index, row in MLE_df.iterrows():\n",
    "                if row[\"pval\"] < alpha:\n",
    "                    i = row[\"i\"]\n",
    "                    j = row[\"j\"]\n",
    "                    if (names_map[i], names_map[j]) in interaction_freq_MLE.keys():\n",
    "                        interaction_freq_MLE[(names_map[i], names_map[j])] += 1\n",
    "                    elif (names_map[j], names_map[i]) in interaction_freq_MLE.keys():\n",
    "                        interaction_freq_MLE[(names_map[j], names_map[i])] += 1\n",
    "                    else:\n",
    "                        interaction_freq_MLE[(names_map[i], names_map[j])] = 1\n",
    "        else:\n",
    "            f1_dict[\"method\"].append(\"MLE\")\n",
    "            f1_dict[\"F1\"].append(0)\n",
    "            f1_dict[\"Precision\"].append(0)\n",
    "            f1_dict[\"Recall\"].append(0)\n",
    "        \n",
    "        MSE_naive = np.mean((y_test - predict(soln_naive, design_test))**2)\n",
    "        MSE_naive_train = np.mean((y_train - predict(soln_naive, design_train))**2)\n",
    "        MSE_MLE = np.mean((y_test - predict(soln_MLE, design_test))**2)\n",
    "        MSE_MLE_train = np.mean((y_train - predict(soln_MLE, design_train))**2)\n",
    "        MSE_dict[\"method\"].append(\"Naive\")\n",
    "        MSE_dict[\"MSE_test\"].append(MSE_naive)\n",
    "        MSE_dict[\"MSE_train\"].append(MSE_naive_train)\n",
    "        MSE_dict[\"method\"].append(\"MLE\")\n",
    "        MSE_dict[\"MSE_test\"].append(MSE_MLE)\n",
    "        MSE_dict[\"MSE_train\"].append(MSE_MLE_train)\n",
    "        \n",
    "    return (f1_dict, MSE_dict, interaction_freq_Naive, interaction_freq_MLE,\n",
    "            main_effects_freq_Naive, main_effects_freq_MLE)\n",
    "    "
   ],
   "metadata": {
    "collapsed": false,
    "ExecuteTime": {
     "end_time": "2025-04-19T01:57:41.728655Z",
     "start_time": "2025-04-19T01:57:41.720717Z"
    }
   },
   "id": "4a4039240a0e696b"
  },
  {
   "cell_type": "code",
   "execution_count": 53,
   "outputs": [
    {
     "name": "stdout",
     "output_type": "stream",
     "text": [
      "Equally spaced quantile knots used.\n",
      "Equally spaced quantile knots used.\n",
      "{0: 'distance', 1: 'temp', 2: 'dewp', 3: 'humid', 4: 'pressure', 5: 'plane_age', 6: 'seats', 7: 'wind_dir', 8: 'wind_speed', 9: 'precip', 10: 'visib', 11: 'sched_dep_hour', 12: 'sched_arr_hour'}\n",
      "Selected groups: [0, 2, 3, 5, 6, 8, 9, 11, 12]\n",
      "Naive Selected Groups: 9\n",
      "Selected groups: [0, 3, 5, 6, 8, 9, 11, 12]\n",
      "MLE Selected Groups: 8\n",
      "Equally spaced quantile knots used.\n",
      "Equally spaced quantile knots used.\n",
      "{0: 'distance', 1: 'temp', 2: 'dewp', 3: 'humid', 4: 'pressure', 5: 'plane_age', 6: 'seats', 7: 'wind_dir', 8: 'wind_speed', 9: 'precip', 10: 'visib', 11: 'sched_dep_hour', 12: 'sched_arr_hour'}\n",
      "Selected groups: [0, 2, 5, 7, 11, 12]\n",
      "Naive Selected Groups: 6\n",
      "Selected groups: [0, 1, 2, 5, 7, 11, 12]\n",
      "MLE Selected Groups: 7\n",
      "Equally spaced quantile knots used.\n",
      "Equally spaced quantile knots used.\n",
      "{0: 'distance', 1: 'temp', 2: 'dewp', 3: 'humid', 4: 'pressure', 5: 'plane_age', 6: 'seats', 7: 'wind_dir', 8: 'wind_speed', 9: 'precip', 10: 'visib', 11: 'sched_dep_hour', 12: 'sched_arr_hour'}\n",
      "Selected groups: [0, 2, 5, 9, 12]\n",
      "Naive Selected Groups: 5\n",
      "Selected groups: [0, 2, 5, 9, 12]\n",
      "MLE Selected Groups: 5\n",
      "Equally spaced quantile knots used.\n",
      "Equally spaced quantile knots used.\n",
      "{0: 'distance', 1: 'temp', 2: 'dewp', 3: 'humid', 4: 'pressure', 5: 'plane_age', 6: 'seats', 7: 'wind_dir', 8: 'wind_speed', 9: 'precip', 10: 'visib', 11: 'sched_dep_hour', 12: 'sched_arr_hour'}\n",
      "Selected groups: [0, 2, 5, 8, 9, 11, 12]\n",
      "Naive Selected Groups: 7\n",
      "Selected groups: [0, 5, 8, 9, 12]\n",
      "MLE Selected Groups: 5\n",
      "Equally spaced quantile knots used.\n",
      "Equally spaced quantile knots used.\n",
      "{0: 'distance', 1: 'temp', 2: 'dewp', 3: 'humid', 4: 'pressure', 5: 'plane_age', 6: 'seats', 7: 'wind_dir', 8: 'wind_speed', 9: 'precip', 10: 'visib', 11: 'sched_dep_hour', 12: 'sched_arr_hour'}\n",
      "Selected groups: [0, 2, 5, 7, 8, 9, 11, 12]\n",
      "Naive Selected Groups: 8\n",
      "Selected groups: [0, 2, 5, 7, 8, 9, 11, 12]\n",
      "MLE Selected Groups: 8\n",
      "Equally spaced quantile knots used.\n",
      "Equally spaced quantile knots used.\n",
      "{0: 'distance', 1: 'dewp', 2: 'humid', 3: 'pressure', 4: 'plane_age', 5: 'seats', 6: 'temp', 7: 'wind_dir', 8: 'wind_speed', 9: 'precip', 10: 'visib', 11: 'sched_dep_hour', 12: 'sched_arr_hour'}\n",
      "Selected groups: [0, 4, 6, 7, 8, 9, 11, 12, 13]\n",
      "Naive Selected Groups: 9\n",
      "Selected groups: [0, 2, 4, 6, 7, 8, 9, 11, 12, 13]\n",
      "MLE Selected Groups: 10\n",
      "Equally spaced quantile knots used.\n",
      "Equally spaced quantile knots used.\n",
      "{0: 'distance', 1: 'temp', 2: 'dewp', 3: 'humid', 4: 'pressure', 5: 'plane_age', 6: 'seats', 7: 'wind_dir', 8: 'wind_speed', 9: 'precip', 10: 'visib', 11: 'sched_dep_hour', 12: 'sched_arr_hour'}\n",
      "Selected groups: [0, 3, 5, 7, 8, 9, 11, 12, 13]\n",
      "Naive Selected Groups: 9\n",
      "Selected groups: [0, 5, 7, 8, 9, 11, 12]\n",
      "MLE Selected Groups: 7\n",
      "Equally spaced quantile knots used.\n",
      "Equally spaced quantile knots used.\n",
      "{0: 'distance', 1: 'temp', 2: 'dewp', 3: 'humid', 4: 'pressure', 5: 'plane_age', 6: 'seats', 7: 'wind_dir', 8: 'wind_speed', 9: 'precip', 10: 'visib', 11: 'sched_dep_hour', 12: 'sched_arr_hour'}\n",
      "Selected groups: [0, 3, 5, 7, 10, 11, 12]\n",
      "Naive Selected Groups: 7\n",
      "Selected groups: [0, 3, 5, 10, 11, 12]\n",
      "MLE Selected Groups: 6\n",
      "Equally spaced quantile knots used.\n",
      "Equally spaced quantile knots used.\n",
      "{0: 'distance', 1: 'temp', 2: 'dewp', 3: 'humid', 4: 'pressure', 5: 'plane_age', 6: 'seats', 7: 'wind_dir', 8: 'wind_speed', 9: 'precip', 10: 'visib', 11: 'sched_dep_hour', 12: 'sched_arr_hour'}\n",
      "Selected groups: [0, 3, 8, 9, 12, 13]\n",
      "Naive Selected Groups: 6\n",
      "Selected groups: [0, 3, 8, 9, 12, 13]\n",
      "MLE Selected Groups: 6\n",
      "Equally spaced quantile knots used.\n",
      "Equally spaced quantile knots used.\n",
      "{0: 'distance', 1: 'temp', 2: 'dewp', 3: 'humid', 4: 'pressure', 5: 'plane_age', 6: 'seats', 7: 'wind_dir', 8: 'wind_speed', 9: 'precip', 10: 'visib', 11: 'sched_dep_hour', 12: 'sched_arr_hour'}\n",
      "Selected groups: [0, 2, 5, 8, 9, 10, 11, 12]\n",
      "Naive Selected Groups: 8\n",
      "Selected groups: [0, 2, 5, 8, 9, 10, 11, 12]\n",
      "MLE Selected Groups: 8\n",
      "Equally spaced quantile knots used.\n",
      "Equally spaced quantile knots used.\n",
      "{0: 'distance', 1: 'temp', 2: 'dewp', 3: 'humid', 4: 'pressure', 5: 'plane_age', 6: 'seats', 7: 'wind_dir', 8: 'wind_speed', 9: 'precip', 10: 'visib', 11: 'sched_dep_hour', 12: 'sched_arr_hour'}\n",
      "Selected groups: [0, 2, 3, 5, 8, 9, 10, 12]\n",
      "Naive Selected Groups: 8\n",
      "Selected groups: [0, 2, 3, 5, 8, 9, 10, 12]\n",
      "MLE Selected Groups: 8\n",
      "Equally spaced quantile knots used.\n",
      "Equally spaced quantile knots used.\n",
      "{0: 'distance', 1: 'temp', 2: 'dewp', 3: 'humid', 4: 'pressure', 5: 'plane_age', 6: 'seats', 7: 'wind_dir', 8: 'wind_speed', 9: 'precip', 10: 'visib', 11: 'sched_dep_hour', 12: 'sched_arr_hour'}\n",
      "Selected groups: [0, 2, 5, 7, 8, 9, 12]\n",
      "Naive Selected Groups: 7\n",
      "Selected groups: [0, 2, 5, 8, 9, 10, 12]\n",
      "MLE Selected Groups: 7\n",
      "Equally spaced quantile knots used.\n",
      "Equally spaced quantile knots used.\n",
      "{0: 'distance', 1: 'temp', 2: 'dewp', 3: 'humid', 4: 'pressure', 5: 'plane_age', 6: 'seats', 7: 'wind_dir', 8: 'wind_speed', 9: 'precip', 10: 'visib', 11: 'sched_dep_hour', 12: 'sched_arr_hour'}\n",
      "Selected groups: [0, 2, 5, 9, 10, 11, 12]\n",
      "Naive Selected Groups: 7\n",
      "Selected groups: [0, 2, 5, 9, 10, 11, 12]\n",
      "MLE Selected Groups: 7\n",
      "Equally spaced quantile knots used.\n",
      "Equally spaced quantile knots used.\n",
      "{0: 'distance', 1: 'temp', 2: 'dewp', 3: 'humid', 4: 'pressure', 5: 'plane_age', 6: 'seats', 7: 'wind_dir', 8: 'wind_speed', 9: 'precip', 10: 'visib', 11: 'sched_dep_hour', 12: 'sched_arr_hour'}\n",
      "Selected groups: [0, 2, 5, 6, 7, 11, 12]\n",
      "Naive Selected Groups: 7\n",
      "Selected groups: [0, 2, 5, 6, 11, 12]\n",
      "MLE Selected Groups: 6\n",
      "Equally spaced quantile knots used.\n",
      "Equally spaced quantile knots used.\n",
      "{0: 'distance', 1: 'temp', 2: 'dewp', 3: 'humid', 4: 'pressure', 5: 'plane_age', 6: 'seats', 7: 'wind_dir', 8: 'wind_speed', 9: 'precip', 10: 'visib', 11: 'sched_dep_hour', 12: 'sched_arr_hour'}\n",
      "Selected groups: [0, 2, 5, 9, 12]\n",
      "Naive Selected Groups: 5\n",
      "Selected groups: [0, 2, 5, 9, 12]\n",
      "MLE Selected Groups: 5\n",
      "Equally spaced quantile knots used.\n",
      "Equally spaced quantile knots used.\n",
      "{0: 'distance', 1: 'temp', 2: 'dewp', 3: 'humid', 4: 'pressure', 5: 'plane_age', 6: 'seats', 7: 'wind_dir', 8: 'wind_speed', 9: 'precip', 10: 'visib', 11: 'sched_dep_hour', 12: 'sched_arr_hour'}\n",
      "Selected groups: [0, 2, 5, 6, 8, 10, 12]\n",
      "Naive Selected Groups: 7\n",
      "Selected groups: [0, 2, 5, 6, 8, 10, 12]\n",
      "MLE Selected Groups: 7\n",
      "Equally spaced quantile knots used.\n",
      "Equally spaced quantile knots used.\n",
      "{0: 'distance', 1: 'dewp', 2: 'humid', 3: 'pressure', 4: 'plane_age', 5: 'seats', 6: 'temp', 7: 'wind_dir', 8: 'wind_speed', 9: 'precip', 10: 'visib', 11: 'sched_dep_hour', 12: 'sched_arr_hour'}\n",
      "Selected groups: [0, 2, 4, 7, 8, 9, 10, 11, 12, 13]\n",
      "Naive Selected Groups: 10\n",
      "Selected groups: [0, 2, 4, 7, 8, 10, 11, 12, 13]\n",
      "MLE Selected Groups: 9\n",
      "Equally spaced quantile knots used.\n",
      "Equally spaced quantile knots used.\n",
      "{0: 'distance', 1: 'temp', 2: 'dewp', 3: 'humid', 4: 'pressure', 5: 'plane_age', 6: 'seats', 7: 'wind_dir', 8: 'wind_speed', 9: 'precip', 10: 'visib', 11: 'sched_dep_hour', 12: 'sched_arr_hour'}\n",
      "Selected groups: [0, 2, 5, 8, 9, 11, 12]\n",
      "Naive Selected Groups: 7\n",
      "Selected groups: [0, 5, 8, 9, 12]\n",
      "MLE Selected Groups: 5\n",
      "Equally spaced quantile knots used.\n",
      "Equally spaced quantile knots used.\n",
      "{0: 'distance', 1: 'temp', 2: 'dewp', 3: 'humid', 4: 'pressure', 5: 'plane_age', 6: 'seats', 7: 'wind_dir', 8: 'wind_speed', 9: 'precip', 10: 'visib', 11: 'sched_dep_hour', 12: 'sched_arr_hour'}\n",
      "Selected groups: [0, 2, 3, 8, 9, 11, 12, 13]\n",
      "Naive Selected Groups: 8\n",
      "Selected groups: [0, 2, 3, 8, 9, 11, 12, 13]\n",
      "MLE Selected Groups: 8\n",
      "Equally spaced quantile knots used.\n",
      "Equally spaced quantile knots used.\n",
      "{0: 'distance', 1: 'temp', 2: 'dewp', 3: 'humid', 4: 'pressure', 5: 'plane_age', 6: 'seats', 7: 'wind_dir', 8: 'wind_speed', 9: 'precip', 10: 'visib', 11: 'sched_dep_hour', 12: 'sched_arr_hour'}\n",
      "Selected groups: [0, 2, 5, 6, 8, 10, 11, 12, 13]\n",
      "Naive Selected Groups: 9\n",
      "Selected groups: [0, 2, 5, 6, 8, 10, 12, 13]\n",
      "MLE Selected Groups: 8\n",
      "Equally spaced quantile knots used.\n",
      "Equally spaced quantile knots used.\n",
      "{0: 'distance', 1: 'temp', 2: 'dewp', 3: 'humid', 4: 'pressure', 5: 'plane_age', 6: 'seats', 7: 'wind_dir', 8: 'wind_speed', 9: 'precip', 10: 'visib', 11: 'sched_dep_hour', 12: 'sched_arr_hour'}\n",
      "Selected groups: [0, 2, 5, 8, 9, 11, 12, 13]\n",
      "Naive Selected Groups: 8\n",
      "Selected groups: [0, 2, 5, 8, 9, 11, 12, 13]\n",
      "MLE Selected Groups: 8\n",
      "Equally spaced quantile knots used.\n",
      "Equally spaced quantile knots used.\n",
      "{0: 'distance', 1: 'temp', 2: 'dewp', 3: 'humid', 4: 'pressure', 5: 'plane_age', 6: 'seats', 7: 'wind_dir', 8: 'wind_speed', 9: 'precip', 10: 'visib', 11: 'sched_dep_hour', 12: 'sched_arr_hour'}\n",
      "Selected groups: [0, 2, 5, 7, 8, 12]\n",
      "Naive Selected Groups: 6\n",
      "Selected groups: [0, 2, 3, 5, 7, 8, 12]\n",
      "MLE Selected Groups: 7\n",
      "Equally spaced quantile knots used.\n",
      "Equally spaced quantile knots used.\n",
      "{0: 'distance', 1: 'temp', 2: 'dewp', 3: 'humid', 4: 'pressure', 5: 'plane_age', 6: 'seats', 7: 'wind_dir', 8: 'wind_speed', 9: 'precip', 10: 'visib', 11: 'sched_dep_hour', 12: 'sched_arr_hour'}\n",
      "Selected groups: [0, 2, 3, 5, 7, 12]\n",
      "Naive Selected Groups: 6\n",
      "Selected groups: [0, 2, 3, 12]\n",
      "MLE Selected Groups: 4\n",
      "Equally spaced quantile knots used.\n",
      "Equally spaced quantile knots used.\n",
      "{0: 'distance', 1: 'temp', 2: 'dewp', 3: 'humid', 4: 'pressure', 5: 'plane_age', 6: 'seats', 7: 'wind_dir', 8: 'wind_speed', 9: 'precip', 10: 'visib', 11: 'sched_dep_hour', 12: 'sched_arr_hour'}\n",
      "Selected groups: [0, 2, 3, 5, 6, 7, 8, 9, 10, 11, 12]\n",
      "Naive Selected Groups: 11\n",
      "Selected groups: [0, 2, 3, 5, 6, 8, 9, 10, 11, 12]\n",
      "MLE Selected Groups: 10\n",
      "Equally spaced quantile knots used.\n",
      "Equally spaced quantile knots used.\n",
      "{0: 'distance', 1: 'temp', 2: 'dewp', 3: 'humid', 4: 'pressure', 5: 'plane_age', 6: 'seats', 7: 'wind_dir', 8: 'wind_speed', 9: 'precip', 10: 'visib', 11: 'sched_dep_hour', 12: 'sched_arr_hour'}\n",
      "Selected groups: [0, 2, 5, 10, 12, 13]\n",
      "Naive Selected Groups: 6\n",
      "Selected groups: [0, 2, 5, 10, 12, 13]\n",
      "MLE Selected Groups: 6\n",
      "Equally spaced quantile knots used.\n",
      "Equally spaced quantile knots used.\n",
      "{0: 'distance', 1: 'temp', 2: 'dewp', 3: 'humid', 4: 'pressure', 5: 'plane_age', 6: 'seats', 7: 'wind_dir', 8: 'wind_speed', 9: 'precip', 10: 'visib', 11: 'sched_dep_hour', 12: 'sched_arr_hour'}\n",
      "Selected groups: [0, 2, 5, 8, 9, 10, 12, 13]\n",
      "Naive Selected Groups: 8\n",
      "Selected groups: [0, 2, 3, 5, 8, 9, 12]\n",
      "MLE Selected Groups: 7\n",
      "Equally spaced quantile knots used.\n",
      "Equally spaced quantile knots used.\n",
      "{0: 'distance', 1: 'temp', 2: 'dewp', 3: 'humid', 4: 'pressure', 5: 'plane_age', 6: 'seats', 7: 'wind_dir', 8: 'wind_speed', 9: 'precip', 10: 'visib', 11: 'sched_dep_hour', 12: 'sched_arr_hour'}\n",
      "Selected groups: [0, 1, 2, 3, 9, 11, 12, 13]\n",
      "Naive Selected Groups: 8\n",
      "Selected groups: [0, 2, 3, 8, 9, 11, 12, 13]\n",
      "MLE Selected Groups: 8\n",
      "Equally spaced quantile knots used.\n",
      "Equally spaced quantile knots used.\n",
      "{0: 'distance', 1: 'temp', 2: 'dewp', 3: 'humid', 4: 'pressure', 5: 'plane_age', 6: 'seats', 7: 'wind_dir', 8: 'wind_speed', 9: 'precip', 10: 'visib', 11: 'sched_dep_hour', 12: 'sched_arr_hour'}\n",
      "Selected groups: [0, 3, 5, 8, 11, 12, 13]\n",
      "Naive Selected Groups: 7\n",
      "Selected groups: [0, 3, 5, 8, 11, 12]\n",
      "MLE Selected Groups: 6\n",
      "Equally spaced quantile knots used.\n",
      "Equally spaced quantile knots used.\n",
      "{0: 'distance', 1: 'temp', 2: 'dewp', 3: 'humid', 4: 'pressure', 5: 'plane_age', 6: 'seats', 7: 'wind_dir', 8: 'wind_speed', 9: 'precip', 10: 'visib', 11: 'sched_dep_hour', 12: 'sched_arr_hour'}\n",
      "Selected groups: [0, 8, 9, 11, 12]\n",
      "Naive Selected Groups: 5\n",
      "Selected groups: [0, 8, 12]\n",
      "MLE Selected Groups: 3\n",
      "Equally spaced quantile knots used.\n",
      "Equally spaced quantile knots used.\n",
      "{0: 'distance', 1: 'temp', 2: 'dewp', 3: 'humid', 4: 'pressure', 5: 'plane_age', 6: 'seats', 7: 'wind_dir', 8: 'wind_speed', 9: 'precip', 10: 'visib', 11: 'sched_dep_hour', 12: 'sched_arr_hour'}\n",
      "Selected groups: [0, 2, 5, 7, 8, 11, 12]\n",
      "Naive Selected Groups: 7\n",
      "Selected groups: [0, 2, 5, 7, 8, 11, 12]\n",
      "MLE Selected Groups: 7\n",
      "Equally spaced quantile knots used.\n",
      "Equally spaced quantile knots used.\n",
      "{0: 'distance', 1: 'temp', 2: 'dewp', 3: 'humid', 4: 'pressure', 5: 'plane_age', 6: 'seats', 7: 'wind_dir', 8: 'wind_speed', 9: 'precip', 10: 'visib', 11: 'sched_dep_hour', 12: 'sched_arr_hour'}\n",
      "Selected groups: [0, 2, 5, 7, 12]\n",
      "Naive Selected Groups: 5\n",
      "Selected groups: [0, 2, 5, 10, 12]\n",
      "MLE Selected Groups: 5\n"
     ]
    },
    {
     "name": "stderr",
     "output_type": "stream",
     "text": [
      "/Users/yilingh/Desktop/PhD/SI_Codes/SI-Interaction/env3/lib/python3.9/site-packages/sklearn/metrics/_classification.py:1517: UndefinedMetricWarning: Precision is ill-defined and being set to 0.0 due to no predicted samples. Use `zero_division` parameter to control this behavior.\n",
      "  _warn_prf(average, modifier, f\"{metric.capitalize()} is\", len(result))\n"
     ]
    },
    {
     "name": "stdout",
     "output_type": "stream",
     "text": [
      "Equally spaced quantile knots used.\n",
      "Equally spaced quantile knots used.\n",
      "{0: 'distance', 1: 'temp', 2: 'dewp', 3: 'humid', 4: 'pressure', 5: 'plane_age', 6: 'seats', 7: 'wind_dir', 8: 'wind_speed', 9: 'precip', 10: 'visib', 11: 'sched_dep_hour', 12: 'sched_arr_hour'}\n",
      "Selected groups: [0, 1, 2, 5, 9, 11, 12]\n",
      "Naive Selected Groups: 7\n",
      "Selected groups: [0, 1, 2, 5, 9, 11, 12]\n",
      "MLE Selected Groups: 7\n"
     ]
    },
    {
     "name": "stderr",
     "output_type": "stream",
     "text": [
      "/Users/yilingh/Desktop/PhD/SI_Codes/SI-Interaction/env3/lib/python3.9/site-packages/sklearn/metrics/_classification.py:1517: UndefinedMetricWarning: Precision is ill-defined and being set to 0.0 due to no predicted samples. Use `zero_division` parameter to control this behavior.\n",
      "  _warn_prf(average, modifier, f\"{metric.capitalize()} is\", len(result))\n"
     ]
    },
    {
     "name": "stdout",
     "output_type": "stream",
     "text": [
      "Equally spaced quantile knots used.\n",
      "Equally spaced quantile knots used.\n",
      "{0: 'distance', 1: 'dewp', 2: 'humid', 3: 'pressure', 4: 'plane_age', 5: 'seats', 6: 'temp', 7: 'wind_dir', 8: 'wind_speed', 9: 'precip', 10: 'visib', 11: 'sched_dep_hour', 12: 'sched_arr_hour'}\n",
      "Selected groups: [0, 4, 6, 7, 8, 11, 12, 13]\n",
      "Naive Selected Groups: 8\n",
      "Selected groups: [0, 2, 4, 6, 7, 8, 11, 12, 13]\n",
      "MLE Selected Groups: 9\n",
      "Equally spaced quantile knots used.\n",
      "Equally spaced quantile knots used.\n",
      "{0: 'distance', 1: 'temp', 2: 'dewp', 3: 'humid', 4: 'pressure', 5: 'plane_age', 6: 'seats', 7: 'wind_dir', 8: 'wind_speed', 9: 'precip', 10: 'visib', 11: 'sched_dep_hour', 12: 'sched_arr_hour'}\n",
      "Selected groups: [0, 2, 5, 7, 9, 11, 12]\n",
      "Naive Selected Groups: 7\n",
      "Selected groups: [0, 2, 5, 7, 9, 11, 12]\n",
      "MLE Selected Groups: 7\n",
      "Equally spaced quantile knots used.\n",
      "Equally spaced quantile knots used.\n",
      "{0: 'distance', 1: 'temp', 2: 'dewp', 3: 'humid', 4: 'pressure', 5: 'plane_age', 6: 'seats', 7: 'wind_dir', 8: 'wind_speed', 9: 'precip', 10: 'visib', 11: 'sched_dep_hour', 12: 'sched_arr_hour'}\n",
      "Selected groups: [0, 2, 7, 9, 12]\n",
      "Naive Selected Groups: 5\n",
      "Selected groups: [0, 2, 9, 12]\n",
      "MLE Selected Groups: 4\n",
      "Equally spaced quantile knots used.\n",
      "Equally spaced quantile knots used.\n",
      "{0: 'distance', 1: 'temp', 2: 'dewp', 3: 'humid', 4: 'pressure', 5: 'plane_age', 6: 'seats', 7: 'wind_dir', 8: 'wind_speed', 9: 'precip', 10: 'visib', 11: 'sched_dep_hour', 12: 'sched_arr_hour'}\n",
      "Selected groups: [0, 2, 3, 5, 6, 8, 9, 11, 12]\n",
      "Naive Selected Groups: 9\n",
      "Selected groups: [0, 2, 3, 5, 6, 8, 9, 11, 12]\n",
      "MLE Selected Groups: 9\n",
      "Equally spaced quantile knots used.\n",
      "Equally spaced quantile knots used.\n",
      "{0: 'distance', 1: 'temp', 2: 'dewp', 3: 'humid', 4: 'pressure', 5: 'plane_age', 6: 'seats', 7: 'wind_dir', 8: 'wind_speed', 9: 'precip', 10: 'visib', 11: 'sched_dep_hour', 12: 'sched_arr_hour'}\n",
      "Selected groups: [0, 2, 8, 9, 11, 12, 13]\n",
      "Naive Selected Groups: 7\n",
      "Selected groups: [0, 8, 9, 11, 12, 13]\n",
      "MLE Selected Groups: 6\n",
      "Equally spaced quantile knots used.\n",
      "Equally spaced quantile knots used.\n",
      "{0: 'distance', 1: 'temp', 2: 'dewp', 3: 'humid', 4: 'pressure', 5: 'plane_age', 6: 'seats', 7: 'wind_dir', 8: 'wind_speed', 9: 'precip', 10: 'visib', 11: 'sched_dep_hour', 12: 'sched_arr_hour'}\n",
      "Selected groups: [0, 2, 3, 5, 7, 8, 9, 11, 12]\n",
      "Naive Selected Groups: 9\n",
      "Selected groups: [0, 3, 7, 8, 9, 11, 12]\n",
      "MLE Selected Groups: 7\n",
      "Equally spaced quantile knots used.\n",
      "Equally spaced quantile knots used.\n",
      "{0: 'distance', 1: 'temp', 2: 'dewp', 3: 'humid', 4: 'pressure', 5: 'plane_age', 6: 'seats', 7: 'wind_dir', 8: 'wind_speed', 9: 'precip', 10: 'visib', 11: 'sched_dep_hour', 12: 'sched_arr_hour'}\n",
      "Selected groups: [0, 2, 3, 5, 8, 9, 11, 12, 13]\n",
      "Naive Selected Groups: 9\n",
      "Selected groups: [0, 3, 5, 8, 9, 11, 12]\n",
      "MLE Selected Groups: 7\n",
      "Equally spaced quantile knots used.\n",
      "Equally spaced quantile knots used.\n",
      "{0: 'distance', 1: 'temp', 2: 'dewp', 3: 'humid', 4: 'pressure', 5: 'plane_age', 6: 'seats', 7: 'wind_dir', 8: 'wind_speed', 9: 'precip', 10: 'visib', 11: 'sched_dep_hour', 12: 'sched_arr_hour'}\n",
      "Selected groups: [0, 2, 5, 8, 9, 11, 12]\n",
      "Naive Selected Groups: 7\n",
      "Selected groups: [0, 2, 5, 9, 12]\n",
      "MLE Selected Groups: 5\n",
      "Equally spaced quantile knots used.\n",
      "Equally spaced quantile knots used.\n",
      "{0: 'distance', 1: 'temp', 2: 'dewp', 3: 'humid', 4: 'pressure', 5: 'plane_age', 6: 'seats', 7: 'wind_dir', 8: 'wind_speed', 9: 'precip', 10: 'visib', 11: 'sched_dep_hour', 12: 'sched_arr_hour'}\n",
      "Selected groups: [0, 2, 5, 8, 9, 11, 12]\n",
      "Naive Selected Groups: 7\n",
      "Selected groups: [0, 2, 5, 8, 9, 11, 12]\n",
      "MLE Selected Groups: 7\n",
      "Equally spaced quantile knots used.\n",
      "Equally spaced quantile knots used.\n",
      "{0: 'distance', 1: 'temp', 2: 'dewp', 3: 'humid', 4: 'pressure', 5: 'plane_age', 6: 'seats', 7: 'wind_dir', 8: 'wind_speed', 9: 'precip', 10: 'visib', 11: 'sched_dep_hour', 12: 'sched_arr_hour'}\n",
      "Selected groups: [0, 3, 5, 9, 12]\n",
      "Naive Selected Groups: 5\n",
      "Selected groups: [0, 3, 5, 12]\n",
      "MLE Selected Groups: 4\n",
      "Equally spaced quantile knots used.\n",
      "Equally spaced quantile knots used.\n",
      "{0: 'distance', 1: 'temp', 2: 'dewp', 3: 'humid', 4: 'pressure', 5: 'plane_age', 6: 'seats', 7: 'wind_dir', 8: 'wind_speed', 9: 'precip', 10: 'visib', 11: 'sched_dep_hour', 12: 'sched_arr_hour'}\n",
      "Selected groups: [0, 2, 5, 7, 9, 11, 12]\n",
      "Naive Selected Groups: 7\n",
      "Selected groups: [0, 2, 5, 7, 9, 11, 12]\n",
      "MLE Selected Groups: 7\n",
      "Equally spaced quantile knots used.\n",
      "Equally spaced quantile knots used.\n",
      "{0: 'distance', 1: 'temp', 2: 'dewp', 3: 'humid', 4: 'pressure', 5: 'plane_age', 6: 'seats', 7: 'wind_dir', 8: 'wind_speed', 9: 'precip', 10: 'visib', 11: 'sched_dep_hour', 12: 'sched_arr_hour'}\n",
      "Selected groups: [0, 2, 5, 7, 11, 12]\n",
      "Naive Selected Groups: 6\n",
      "Selected groups: [0, 2, 5, 11, 12]\n",
      "MLE Selected Groups: 5\n",
      "Equally spaced quantile knots used.\n",
      "Equally spaced quantile knots used.\n",
      "{0: 'distance', 1: 'temp', 2: 'dewp', 3: 'humid', 4: 'pressure', 5: 'plane_age', 6: 'seats', 7: 'wind_dir', 8: 'wind_speed', 9: 'precip', 10: 'visib', 11: 'sched_dep_hour', 12: 'sched_arr_hour'}\n",
      "Selected groups: [0, 2, 3, 5, 7, 8, 11, 12, 13]\n",
      "Naive Selected Groups: 9\n",
      "Selected groups: [0, 2, 3, 5, 7, 8, 11, 12, 13]\n",
      "MLE Selected Groups: 9\n",
      "Equally spaced quantile knots used.\n",
      "Equally spaced quantile knots used.\n",
      "{0: 'distance', 1: 'temp', 2: 'dewp', 3: 'humid', 4: 'pressure', 5: 'plane_age', 6: 'seats', 7: 'wind_dir', 8: 'wind_speed', 9: 'precip', 10: 'visib', 11: 'sched_dep_hour', 12: 'sched_arr_hour'}\n",
      "Selected groups: [0, 2, 3, 5, 8, 9, 12]\n",
      "Naive Selected Groups: 7\n",
      "Selected groups: [0, 3, 5, 8, 9, 12]\n",
      "MLE Selected Groups: 6\n",
      "Equally spaced quantile knots used.\n",
      "Equally spaced quantile knots used.\n",
      "{0: 'distance', 1: 'temp', 2: 'dewp', 3: 'humid', 4: 'pressure', 5: 'plane_age', 6: 'seats', 7: 'wind_dir', 8: 'wind_speed', 9: 'precip', 10: 'visib', 11: 'sched_dep_hour', 12: 'sched_arr_hour'}\n",
      "Selected groups: [0, 2, 3, 5, 7, 10, 11, 12, 13]\n",
      "Naive Selected Groups: 9\n",
      "Selected groups: [0, 2, 3, 5, 8, 10, 11, 12, 13]\n",
      "MLE Selected Groups: 9\n",
      "Equally spaced quantile knots used.\n",
      "Equally spaced quantile knots used.\n",
      "{0: 'distance', 1: 'temp', 2: 'dewp', 3: 'humid', 4: 'pressure', 5: 'plane_age', 6: 'seats', 7: 'wind_dir', 8: 'wind_speed', 9: 'precip', 10: 'visib', 11: 'sched_dep_hour', 12: 'sched_arr_hour'}\n",
      "Selected groups: [0, 2, 3, 5, 8, 11, 12]\n",
      "Naive Selected Groups: 7\n",
      "Selected groups: [0, 2, 3, 5, 8, 11, 12]\n",
      "MLE Selected Groups: 7\n",
      "Equally spaced quantile knots used.\n",
      "Equally spaced quantile knots used.\n",
      "{0: 'distance', 1: 'temp', 2: 'dewp', 3: 'humid', 4: 'pressure', 5: 'plane_age', 6: 'seats', 7: 'wind_dir', 8: 'wind_speed', 9: 'precip', 10: 'visib', 11: 'sched_dep_hour', 12: 'sched_arr_hour'}\n",
      "Selected groups: [0, 2, 3, 5, 7, 8, 11, 12]\n",
      "Naive Selected Groups: 8\n",
      "Selected groups: [0, 2, 3, 5, 7, 8, 11, 12]\n",
      "MLE Selected Groups: 8\n",
      "Equally spaced quantile knots used.\n",
      "Equally spaced quantile knots used.\n",
      "{0: 'distance', 1: 'temp', 2: 'dewp', 3: 'humid', 4: 'pressure', 5: 'plane_age', 6: 'seats', 7: 'wind_dir', 8: 'wind_speed', 9: 'precip', 10: 'visib', 11: 'sched_dep_hour', 12: 'sched_arr_hour'}\n",
      "Selected groups: [0, 2, 5, 7, 11, 12]\n",
      "Naive Selected Groups: 6\n",
      "Selected groups: [0, 2, 5, 12]\n",
      "MLE Selected Groups: 4\n",
      "Equally spaced quantile knots used.\n",
      "Equally spaced quantile knots used.\n",
      "{0: 'distance', 1: 'temp', 2: 'dewp', 3: 'humid', 4: 'pressure', 5: 'plane_age', 6: 'seats', 7: 'wind_dir', 8: 'wind_speed', 9: 'precip', 10: 'visib', 11: 'sched_dep_hour', 12: 'sched_arr_hour'}\n",
      "Selected groups: [0, 2, 3, 5, 7, 9, 11, 12]\n",
      "Naive Selected Groups: 8\n",
      "Selected groups: [0, 2, 3, 5, 9, 11, 12]\n",
      "MLE Selected Groups: 7\n",
      "Equally spaced quantile knots used.\n",
      "Equally spaced quantile knots used.\n",
      "{0: 'distance', 1: 'temp', 2: 'dewp', 3: 'humid', 4: 'pressure', 5: 'plane_age', 6: 'seats', 7: 'wind_dir', 8: 'wind_speed', 9: 'precip', 10: 'visib', 11: 'sched_dep_hour', 12: 'sched_arr_hour'}\n",
      "Selected groups: [0, 2, 3, 5, 6, 8, 9, 10, 11, 12]\n",
      "Naive Selected Groups: 10\n",
      "Selected groups: [0, 2, 3, 5, 6, 8, 9, 10, 11, 12]\n",
      "MLE Selected Groups: 10\n",
      "Equally spaced quantile knots used.\n",
      "Equally spaced quantile knots used.\n",
      "{0: 'distance', 1: 'temp', 2: 'dewp', 3: 'humid', 4: 'pressure', 5: 'plane_age', 6: 'seats', 7: 'wind_dir', 8: 'wind_speed', 9: 'precip', 10: 'visib', 11: 'sched_dep_hour', 12: 'sched_arr_hour'}\n",
      "Selected groups: [0, 2, 3, 5, 9, 11, 12, 13]\n",
      "Naive Selected Groups: 8\n",
      "Selected groups: [0, 2, 3, 5, 9, 11, 12, 13]\n",
      "MLE Selected Groups: 8\n",
      "Equally spaced quantile knots used.\n",
      "Equally spaced quantile knots used.\n",
      "{0: 'distance', 1: 'temp', 2: 'dewp', 3: 'humid', 4: 'pressure', 5: 'plane_age', 6: 'seats', 7: 'wind_dir', 8: 'wind_speed', 9: 'precip', 10: 'visib', 11: 'sched_dep_hour', 12: 'sched_arr_hour'}\n",
      "Selected groups: [0, 2, 5, 6, 8, 10, 11, 12, 13]\n",
      "Naive Selected Groups: 9\n",
      "Selected groups: [0, 2, 6, 8, 9, 10, 12, 13]\n",
      "MLE Selected Groups: 8\n",
      "Equally spaced quantile knots used.\n",
      "Equally spaced quantile knots used.\n",
      "{0: 'distance', 1: 'temp', 2: 'dewp', 3: 'humid', 4: 'pressure', 5: 'plane_age', 6: 'seats', 7: 'wind_dir', 8: 'wind_speed', 9: 'precip', 10: 'visib', 11: 'sched_dep_hour', 12: 'sched_arr_hour'}\n",
      "Selected groups: [0, 2, 5, 7, 8, 9, 10, 11, 12]\n",
      "Naive Selected Groups: 9\n",
      "Selected groups: [0, 2, 5, 7, 8, 9, 10, 11, 12]\n",
      "MLE Selected Groups: 9\n",
      "Equally spaced quantile knots used.\n",
      "Equally spaced quantile knots used.\n",
      "{0: 'distance', 1: 'temp', 2: 'dewp', 3: 'humid', 4: 'pressure', 5: 'plane_age', 6: 'seats', 7: 'wind_dir', 8: 'wind_speed', 9: 'precip', 10: 'visib', 11: 'sched_dep_hour', 12: 'sched_arr_hour'}\n",
      "Selected groups: [0, 5, 7, 9, 10, 11, 12]\n",
      "Naive Selected Groups: 7\n",
      "Selected groups: [0, 5, 9, 11, 12]\n",
      "MLE Selected Groups: 5\n",
      "Equally spaced quantile knots used.\n",
      "Equally spaced quantile knots used.\n",
      "{0: 'distance', 1: 'temp', 2: 'dewp', 3: 'humid', 4: 'pressure', 5: 'plane_age', 6: 'seats', 7: 'wind_dir', 8: 'wind_speed', 9: 'precip', 10: 'visib', 11: 'sched_dep_hour', 12: 'sched_arr_hour'}\n",
      "Selected groups: [0, 2, 5, 7, 8, 9, 10, 11, 12]\n",
      "Naive Selected Groups: 9\n",
      "Selected groups: [0, 1, 2, 3, 5, 8, 9, 10, 11, 12]\n",
      "MLE Selected Groups: 10\n",
      "Equally spaced quantile knots used.\n",
      "Equally spaced quantile knots used.\n",
      "{0: 'distance', 1: 'temp', 2: 'dewp', 3: 'humid', 4: 'pressure', 5: 'plane_age', 6: 'seats', 7: 'wind_dir', 8: 'wind_speed', 9: 'precip', 10: 'visib', 11: 'sched_dep_hour', 12: 'sched_arr_hour'}\n",
      "Selected groups: [0, 2, 3, 5, 6, 7, 8, 9, 11, 12, 13]\n",
      "Naive Selected Groups: 11\n",
      "Selected groups: [0, 2, 3, 5, 8, 9, 11, 12, 13]\n",
      "MLE Selected Groups: 9\n",
      "Equally spaced quantile knots used.\n",
      "Equally spaced quantile knots used.\n",
      "{0: 'distance', 1: 'temp', 2: 'dewp', 3: 'humid', 4: 'pressure', 5: 'plane_age', 6: 'seats', 7: 'wind_dir', 8: 'wind_speed', 9: 'precip', 10: 'visib', 11: 'sched_dep_hour', 12: 'sched_arr_hour'}\n",
      "Selected groups: [0, 3, 5, 7, 8, 9, 10, 11, 12]\n",
      "Naive Selected Groups: 9\n",
      "Selected groups: [0, 3, 5, 8, 9, 11, 12]\n",
      "MLE Selected Groups: 7\n",
      "Equally spaced quantile knots used.\n",
      "Equally spaced quantile knots used.\n",
      "{0: 'distance', 1: 'temp', 2: 'dewp', 3: 'humid', 4: 'pressure', 5: 'plane_age', 6: 'seats', 7: 'wind_dir', 8: 'wind_speed', 9: 'precip', 10: 'visib', 11: 'sched_dep_hour', 12: 'sched_arr_hour'}\n",
      "Selected groups: [0, 2, 3, 5, 9, 11, 12]\n",
      "Naive Selected Groups: 7\n",
      "Selected groups: [0, 2, 3, 5, 9, 12]\n",
      "MLE Selected Groups: 6\n",
      "Equally spaced quantile knots used.\n",
      "Equally spaced quantile knots used.\n",
      "{0: 'distance', 1: 'temp', 2: 'dewp', 3: 'humid', 4: 'pressure', 5: 'plane_age', 6: 'seats', 7: 'wind_dir', 8: 'wind_speed', 9: 'precip', 10: 'visib', 11: 'sched_dep_hour', 12: 'sched_arr_hour'}\n",
      "Selected groups: [0, 2, 3, 5, 8, 9, 10, 11, 12, 13]\n",
      "Naive Selected Groups: 10\n",
      "Selected groups: [0, 2, 3, 5, 8, 9, 10, 11, 12, 13]\n",
      "MLE Selected Groups: 10\n",
      "Equally spaced quantile knots used.\n",
      "Equally spaced quantile knots used.\n",
      "{0: 'distance', 1: 'temp', 2: 'dewp', 3: 'humid', 4: 'pressure', 5: 'plane_age', 6: 'seats', 7: 'wind_dir', 8: 'wind_speed', 9: 'precip', 10: 'visib', 11: 'sched_dep_hour', 12: 'sched_arr_hour'}\n",
      "Selected groups: [0, 2, 3, 5, 11, 12]\n",
      "Naive Selected Groups: 6\n",
      "Selected groups: [0, 2, 3, 5, 11, 12]\n",
      "MLE Selected Groups: 6\n",
      "Equally spaced quantile knots used.\n",
      "Equally spaced quantile knots used.\n",
      "{0: 'distance', 1: 'temp', 2: 'dewp', 3: 'humid', 4: 'pressure', 5: 'plane_age', 6: 'seats', 7: 'wind_dir', 8: 'wind_speed', 9: 'precip', 10: 'visib', 11: 'sched_dep_hour', 12: 'sched_arr_hour'}\n",
      "Selected groups: [0, 2, 3, 5, 7, 8, 11, 12]\n",
      "Naive Selected Groups: 8\n",
      "Selected groups: [0, 3, 5, 7, 8, 11, 12]\n",
      "MLE Selected Groups: 7\n",
      "Equally spaced quantile knots used.\n",
      "Equally spaced quantile knots used.\n",
      "{0: 'distance', 1: 'temp', 2: 'dewp', 3: 'humid', 4: 'pressure', 5: 'plane_age', 6: 'seats', 7: 'wind_dir', 8: 'wind_speed', 9: 'precip', 10: 'visib', 11: 'sched_dep_hour', 12: 'sched_arr_hour'}\n",
      "Selected groups: [0, 3, 5, 7, 9, 12, 13]\n",
      "Naive Selected Groups: 7\n",
      "Selected groups: [0, 3, 5, 9, 12, 13]\n",
      "MLE Selected Groups: 6\n",
      "Equally spaced quantile knots used.\n",
      "Equally spaced quantile knots used.\n",
      "{0: 'distance', 1: 'temp', 2: 'dewp', 3: 'humid', 4: 'pressure', 5: 'plane_age', 6: 'seats', 7: 'wind_dir', 8: 'wind_speed', 9: 'precip', 10: 'visib', 11: 'sched_dep_hour', 12: 'sched_arr_hour'}\n",
      "Selected groups: [0, 2, 3, 5, 7, 8, 11, 12, 13]\n",
      "Naive Selected Groups: 9\n",
      "Selected groups: [0, 3, 5, 8, 11, 12]\n",
      "MLE Selected Groups: 6\n",
      "Equally spaced quantile knots used.\n",
      "Equally spaced quantile knots used.\n",
      "{0: 'distance', 1: 'temp', 2: 'dewp', 3: 'humid', 4: 'pressure', 5: 'plane_age', 6: 'seats', 7: 'wind_dir', 8: 'wind_speed', 9: 'precip', 10: 'visib', 11: 'sched_dep_hour', 12: 'sched_arr_hour'}\n",
      "Selected groups: [0, 2, 3, 5, 7, 8, 9, 10, 11, 12]\n",
      "Naive Selected Groups: 10\n",
      "Selected groups: [0, 2, 3, 5, 7, 8, 9, 10, 11, 12]\n",
      "MLE Selected Groups: 10\n",
      "Equally spaced quantile knots used.\n",
      "Equally spaced quantile knots used.\n",
      "{0: 'distance', 1: 'temp', 2: 'dewp', 3: 'humid', 4: 'pressure', 5: 'plane_age', 6: 'seats', 7: 'wind_dir', 8: 'wind_speed', 9: 'precip', 10: 'visib', 11: 'sched_dep_hour', 12: 'sched_arr_hour'}\n",
      "Selected groups: [0, 2, 8, 9, 10, 11, 12]\n",
      "Naive Selected Groups: 7\n",
      "Selected groups: [0, 2, 5, 8, 9, 10, 11, 12]\n",
      "MLE Selected Groups: 8\n",
      "Equally spaced quantile knots used.\n",
      "Equally spaced quantile knots used.\n",
      "{0: 'distance', 1: 'temp', 2: 'dewp', 3: 'humid', 4: 'pressure', 5: 'plane_age', 6: 'seats', 7: 'wind_dir', 8: 'wind_speed', 9: 'precip', 10: 'visib', 11: 'sched_dep_hour', 12: 'sched_arr_hour'}\n",
      "Selected groups: [0, 1, 2, 3, 5, 7, 11, 12, 13]\n",
      "Naive Selected Groups: 9\n",
      "Selected groups: [0, 1, 2, 3, 5, 11, 12]\n",
      "MLE Selected Groups: 7\n",
      "Equally spaced quantile knots used.\n",
      "Equally spaced quantile knots used.\n",
      "{0: 'distance', 1: 'temp', 2: 'dewp', 3: 'humid', 4: 'pressure', 5: 'plane_age', 6: 'seats', 7: 'wind_dir', 8: 'wind_speed', 9: 'precip', 10: 'visib', 11: 'sched_dep_hour', 12: 'sched_arr_hour'}\n",
      "Selected groups: [0, 2, 5, 6, 9, 11]\n",
      "Naive Selected Groups: 6\n",
      "Selected groups: [0, 2, 5, 6, 9, 12]\n",
      "MLE Selected Groups: 6\n",
      "Equally spaced quantile knots used.\n",
      "Equally spaced quantile knots used.\n",
      "{0: 'distance', 1: 'temp', 2: 'dewp', 3: 'humid', 4: 'pressure', 5: 'plane_age', 6: 'seats', 7: 'wind_dir', 8: 'wind_speed', 9: 'precip', 10: 'visib', 11: 'sched_dep_hour', 12: 'sched_arr_hour'}\n",
      "Selected groups: [0, 2, 5, 6, 9, 11, 12]\n",
      "Naive Selected Groups: 7\n",
      "Selected groups: [0, 2, 5, 6, 9, 11, 12]\n",
      "MLE Selected Groups: 7\n",
      "Equally spaced quantile knots used.\n",
      "Equally spaced quantile knots used.\n",
      "{0: 'distance', 1: 'temp', 2: 'dewp', 3: 'humid', 4: 'pressure', 5: 'plane_age', 6: 'seats', 7: 'wind_dir', 8: 'wind_speed', 9: 'precip', 10: 'visib', 11: 'sched_dep_hour', 12: 'sched_arr_hour'}\n",
      "Selected groups: [0, 2, 5, 7, 8, 9, 11, 12]\n",
      "Naive Selected Groups: 8\n",
      "Selected groups: [0, 2, 5, 8, 9, 11, 12]\n",
      "MLE Selected Groups: 7\n",
      "Equally spaced quantile knots used.\n",
      "Equally spaced quantile knots used.\n",
      "{0: 'distance', 1: 'temp', 2: 'dewp', 3: 'humid', 4: 'pressure', 5: 'plane_age', 6: 'seats', 7: 'wind_dir', 8: 'wind_speed', 9: 'precip', 10: 'visib', 11: 'sched_dep_hour', 12: 'sched_arr_hour'}\n",
      "Selected groups: [0, 1, 2, 5, 8, 9, 12]\n",
      "Naive Selected Groups: 7\n",
      "Selected groups: [0, 1, 5, 8, 9, 12]\n",
      "MLE Selected Groups: 6\n",
      "Equally spaced quantile knots used.\n",
      "Equally spaced quantile knots used.\n",
      "{0: 'distance', 1: 'temp', 2: 'dewp', 3: 'humid', 4: 'pressure', 5: 'plane_age', 6: 'seats', 7: 'wind_dir', 8: 'wind_speed', 9: 'precip', 10: 'visib', 11: 'sched_dep_hour', 12: 'sched_arr_hour'}\n",
      "Selected groups: [0, 2, 5, 11, 12, 13]\n",
      "Naive Selected Groups: 6\n",
      "Selected groups: [0, 2, 5, 11, 12, 13]\n",
      "MLE Selected Groups: 6\n",
      "Equally spaced quantile knots used.\n",
      "Equally spaced quantile knots used.\n",
      "{0: 'distance', 1: 'temp', 2: 'dewp', 3: 'humid', 4: 'pressure', 5: 'plane_age', 6: 'seats', 7: 'wind_dir', 8: 'wind_speed', 9: 'precip', 10: 'visib', 11: 'sched_dep_hour', 12: 'sched_arr_hour'}\n",
      "Selected groups: [0, 1, 2, 9, 10, 12, 13]\n",
      "Naive Selected Groups: 7\n",
      "Selected groups: [0, 2, 9, 10, 12, 13]\n",
      "MLE Selected Groups: 6\n",
      "Equally spaced quantile knots used.\n",
      "Equally spaced quantile knots used.\n",
      "{0: 'distance', 1: 'temp', 2: 'dewp', 3: 'humid', 4: 'pressure', 5: 'plane_age', 6: 'seats', 7: 'wind_dir', 8: 'wind_speed', 9: 'precip', 10: 'visib', 11: 'sched_dep_hour', 12: 'sched_arr_hour'}\n",
      "Selected groups: [0, 2, 5, 6, 7, 8, 9, 10, 11, 12]\n",
      "Naive Selected Groups: 10\n",
      "Selected groups: [0, 2, 5, 6, 7, 8, 9, 11, 12]\n",
      "MLE Selected Groups: 9\n",
      "Equally spaced quantile knots used.\n",
      "Equally spaced quantile knots used.\n",
      "{0: 'distance', 1: 'temp', 2: 'dewp', 3: 'humid', 4: 'pressure', 5: 'plane_age', 6: 'seats', 7: 'wind_dir', 8: 'wind_speed', 9: 'precip', 10: 'visib', 11: 'sched_dep_hour', 12: 'sched_arr_hour'}\n",
      "Selected groups: [0, 5, 6, 8, 9, 11, 12, 13]\n",
      "Naive Selected Groups: 8\n",
      "Selected groups: [0, 5, 8, 9, 12]\n",
      "MLE Selected Groups: 5\n",
      "Equally spaced quantile knots used.\n",
      "Equally spaced quantile knots used.\n",
      "{0: 'distance', 1: 'temp', 2: 'dewp', 3: 'humid', 4: 'pressure', 5: 'plane_age', 6: 'seats', 7: 'wind_dir', 8: 'wind_speed', 9: 'precip', 10: 'visib', 11: 'sched_dep_hour', 12: 'sched_arr_hour'}\n",
      "Selected groups: [0, 2, 5, 7, 8, 9, 12]\n",
      "Naive Selected Groups: 7\n",
      "Selected groups: [0, 1, 2, 3, 5, 7, 8, 9, 12]\n",
      "MLE Selected Groups: 9\n",
      "Equally spaced quantile knots used.\n",
      "Equally spaced quantile knots used.\n",
      "{0: 'distance', 1: 'temp', 2: 'dewp', 3: 'humid', 4: 'pressure', 5: 'plane_age', 6: 'seats', 7: 'wind_dir', 8: 'wind_speed', 9: 'precip', 10: 'visib', 11: 'sched_dep_hour', 12: 'sched_arr_hour'}\n",
      "Selected groups: [0, 1, 2, 5, 7, 8, 9, 11, 12]\n",
      "Naive Selected Groups: 9\n",
      "Selected groups: [0, 2, 5, 8, 9, 11, 12]\n",
      "MLE Selected Groups: 7\n",
      "Equally spaced quantile knots used.\n",
      "Equally spaced quantile knots used.\n",
      "{0: 'distance', 1: 'temp', 2: 'dewp', 3: 'humid', 4: 'pressure', 5: 'plane_age', 6: 'seats', 7: 'wind_dir', 8: 'wind_speed', 9: 'precip', 10: 'visib', 11: 'sched_dep_hour', 12: 'sched_arr_hour'}\n",
      "Selected groups: [0, 2, 6, 7, 9, 12]\n",
      "Naive Selected Groups: 6\n",
      "Selected groups: [0, 2, 6, 9, 12]\n",
      "MLE Selected Groups: 5\n",
      "Equally spaced quantile knots used.\n",
      "Equally spaced quantile knots used.\n",
      "{0: 'distance', 1: 'temp', 2: 'dewp', 3: 'humid', 4: 'pressure', 5: 'plane_age', 6: 'seats', 7: 'wind_dir', 8: 'wind_speed', 9: 'precip', 10: 'visib', 11: 'sched_dep_hour', 12: 'sched_arr_hour'}\n",
      "Selected groups: [0, 2, 3, 5, 6, 8, 9, 11, 12]\n",
      "Naive Selected Groups: 9\n",
      "Selected groups: [0, 2, 3, 5, 6, 8, 9, 11, 12]\n",
      "MLE Selected Groups: 9\n",
      "Equally spaced quantile knots used.\n",
      "Equally spaced quantile knots used.\n",
      "{0: 'distance', 1: 'temp', 2: 'dewp', 3: 'humid', 4: 'pressure', 5: 'plane_age', 6: 'seats', 7: 'wind_dir', 8: 'wind_speed', 9: 'precip', 10: 'visib', 11: 'sched_dep_hour', 12: 'sched_arr_hour'}\n",
      "Selected groups: [0, 2, 5, 7, 8, 9, 12, 13]\n",
      "Naive Selected Groups: 8\n",
      "Selected groups: [0, 2, 3, 5, 8, 9, 12, 13]\n",
      "MLE Selected Groups: 8\n",
      "Equally spaced quantile knots used.\n",
      "Equally spaced quantile knots used.\n",
      "{0: 'distance', 1: 'temp', 2: 'dewp', 3: 'humid', 4: 'pressure', 5: 'plane_age', 6: 'seats', 7: 'wind_dir', 8: 'wind_speed', 9: 'precip', 10: 'visib', 11: 'sched_dep_hour', 12: 'sched_arr_hour'}\n",
      "Selected groups: [0, 1, 2, 5, 7, 8, 9, 10, 12]\n",
      "Naive Selected Groups: 9\n",
      "Selected groups: [0, 1, 2, 3, 5, 7, 8, 9, 10, 12]\n",
      "MLE Selected Groups: 10\n",
      "Equally spaced quantile knots used.\n",
      "Equally spaced quantile knots used.\n",
      "{0: 'distance', 1: 'temp', 2: 'dewp', 3: 'humid', 4: 'pressure', 5: 'plane_age', 6: 'seats', 7: 'wind_dir', 8: 'wind_speed', 9: 'precip', 10: 'visib', 11: 'sched_dep_hour', 12: 'sched_arr_hour'}\n",
      "Selected groups: [0, 2, 3, 5, 6, 7, 8, 9, 11, 12]\n",
      "Naive Selected Groups: 10\n",
      "Selected groups: [0, 2, 3, 5, 6, 7, 8, 9, 11, 12]\n",
      "MLE Selected Groups: 10\n",
      "Equally spaced quantile knots used.\n",
      "Equally spaced quantile knots used.\n",
      "{0: 'distance', 1: 'temp', 2: 'dewp', 3: 'humid', 4: 'pressure', 5: 'plane_age', 6: 'seats', 7: 'wind_dir', 8: 'wind_speed', 9: 'precip', 10: 'visib', 11: 'sched_dep_hour', 12: 'sched_arr_hour'}\n",
      "Selected groups: [0, 1, 2, 5, 7, 8, 11, 12]\n",
      "Naive Selected Groups: 8\n",
      "Selected groups: [0, 2, 5, 8, 12]\n",
      "MLE Selected Groups: 5\n",
      "Equally spaced quantile knots used.\n",
      "Equally spaced quantile knots used.\n",
      "{0: 'distance', 1: 'temp', 2: 'dewp', 3: 'humid', 4: 'pressure', 5: 'plane_age', 6: 'seats', 7: 'wind_dir', 8: 'wind_speed', 9: 'precip', 10: 'visib', 11: 'sched_dep_hour', 12: 'sched_arr_hour'}\n",
      "Selected groups: [0, 2, 3, 5, 7, 9, 10, 11, 12]\n",
      "Naive Selected Groups: 9\n",
      "Selected groups: [0, 2, 3, 5, 9, 10, 11, 12]\n",
      "MLE Selected Groups: 8\n",
      "Equally spaced quantile knots used.\n",
      "Equally spaced quantile knots used.\n",
      "{0: 'distance', 1: 'temp', 2: 'dewp', 3: 'humid', 4: 'pressure', 5: 'plane_age', 6: 'seats', 7: 'wind_dir', 8: 'wind_speed', 9: 'precip', 10: 'visib', 11: 'sched_dep_hour', 12: 'sched_arr_hour'}\n",
      "Selected groups: [0, 2, 3, 5, 7, 11, 12]\n",
      "Naive Selected Groups: 7\n",
      "Selected groups: [0, 2, 3, 5, 7, 8, 11, 12]\n",
      "MLE Selected Groups: 8\n",
      "Equally spaced quantile knots used.\n",
      "Equally spaced quantile knots used.\n",
      "{0: 'distance', 1: 'temp', 2: 'dewp', 3: 'humid', 4: 'pressure', 5: 'plane_age', 6: 'seats', 7: 'wind_dir', 8: 'wind_speed', 9: 'precip', 10: 'visib', 11: 'sched_dep_hour', 12: 'sched_arr_hour'}\n",
      "Selected groups: [0, 5, 8, 9, 12]\n",
      "Naive Selected Groups: 5\n",
      "Selected groups: [0, 3, 8, 9, 12]\n",
      "MLE Selected Groups: 5\n",
      "Equally spaced quantile knots used.\n",
      "Equally spaced quantile knots used.\n",
      "{0: 'distance', 1: 'temp', 2: 'dewp', 3: 'humid', 4: 'pressure', 5: 'plane_age', 6: 'seats', 7: 'wind_dir', 8: 'wind_speed', 9: 'precip', 10: 'visib', 11: 'sched_dep_hour', 12: 'sched_arr_hour'}\n",
      "Selected groups: [0, 2, 5, 6, 7, 8, 9, 10, 11, 12]\n",
      "Naive Selected Groups: 10\n",
      "Selected groups: [0, 2, 3, 5, 6, 7, 8, 9, 10, 11, 12]\n",
      "MLE Selected Groups: 11\n",
      "Equally spaced quantile knots used.\n",
      "Equally spaced quantile knots used.\n",
      "{0: 'distance', 1: 'temp', 2: 'dewp', 3: 'humid', 4: 'pressure', 5: 'plane_age', 6: 'seats', 7: 'wind_dir', 8: 'wind_speed', 9: 'precip', 10: 'visib', 11: 'sched_dep_hour', 12: 'sched_arr_hour'}\n",
      "Selected groups: [0, 7, 9, 12, 13]\n",
      "Naive Selected Groups: 5\n",
      "Selected groups: [0, 3, 9, 12, 13]\n",
      "MLE Selected Groups: 5\n",
      "Equally spaced quantile knots used.\n",
      "Equally spaced quantile knots used.\n",
      "{0: 'distance', 1: 'temp', 2: 'dewp', 3: 'humid', 4: 'pressure', 5: 'plane_age', 6: 'seats', 7: 'wind_dir', 8: 'wind_speed', 9: 'precip', 10: 'visib', 11: 'sched_dep_hour', 12: 'sched_arr_hour'}\n",
      "Selected groups: [0, 2, 5, 8, 11, 12]\n",
      "Naive Selected Groups: 6\n",
      "Selected groups: [0, 2, 5, 8, 11, 12]\n",
      "MLE Selected Groups: 6\n",
      "Equally spaced quantile knots used.\n",
      "Equally spaced quantile knots used.\n",
      "{0: 'distance', 1: 'temp', 2: 'dewp', 3: 'humid', 4: 'pressure', 5: 'plane_age', 6: 'seats', 7: 'wind_dir', 8: 'wind_speed', 9: 'precip', 10: 'visib', 11: 'sched_dep_hour', 12: 'sched_arr_hour'}\n",
      "Selected groups: [0, 1, 2, 5, 7, 8, 11]\n",
      "Naive Selected Groups: 7\n",
      "Selected groups: [0, 1, 5, 8, 12]\n",
      "MLE Selected Groups: 5\n",
      "Equally spaced quantile knots used.\n",
      "Equally spaced quantile knots used.\n",
      "{0: 'distance', 1: 'temp', 2: 'dewp', 3: 'humid', 4: 'pressure', 5: 'plane_age', 6: 'seats', 7: 'wind_dir', 8: 'wind_speed', 9: 'precip', 10: 'visib', 11: 'sched_dep_hour', 12: 'sched_arr_hour'}\n",
      "Selected groups: [0, 2, 5, 8, 9, 10, 12]\n",
      "Naive Selected Groups: 7\n",
      "Selected groups: [0, 2, 3, 5, 8, 9, 12]\n",
      "MLE Selected Groups: 7\n",
      "Equally spaced quantile knots used.\n",
      "Equally spaced quantile knots used.\n",
      "{0: 'distance', 1: 'temp', 2: 'dewp', 3: 'humid', 4: 'pressure', 5: 'plane_age', 6: 'seats', 7: 'wind_dir', 8: 'wind_speed', 9: 'precip', 10: 'visib', 11: 'sched_dep_hour', 12: 'sched_arr_hour'}\n",
      "Selected groups: [0, 6, 7, 9, 12]\n",
      "Naive Selected Groups: 5\n",
      "Selected groups: [0, 6, 7, 9, 12]\n",
      "MLE Selected Groups: 5\n",
      "Equally spaced quantile knots used.\n",
      "Equally spaced quantile knots used.\n",
      "{0: 'distance', 1: 'temp', 2: 'dewp', 3: 'humid', 4: 'pressure', 5: 'plane_age', 6: 'seats', 7: 'wind_dir', 8: 'wind_speed', 9: 'precip', 10: 'visib', 11: 'sched_dep_hour', 12: 'sched_arr_hour'}\n",
      "Selected groups: [0, 2, 5, 8, 9, 10, 12]\n",
      "Naive Selected Groups: 7\n",
      "Selected groups: [0, 2, 3, 5, 8, 9, 10, 12]\n",
      "MLE Selected Groups: 8\n",
      "Equally spaced quantile knots used.\n",
      "Equally spaced quantile knots used.\n",
      "{0: 'distance', 1: 'temp', 2: 'dewp', 3: 'humid', 4: 'pressure', 5: 'plane_age', 6: 'seats', 7: 'wind_dir', 8: 'wind_speed', 9: 'precip', 10: 'visib', 11: 'sched_dep_hour', 12: 'sched_arr_hour'}\n",
      "Selected groups: [0, 2, 3, 5, 6, 7, 8, 10, 11, 12]\n",
      "Naive Selected Groups: 10\n",
      "Selected groups: [0, 3, 5, 6, 8, 10, 11, 12]\n",
      "MLE Selected Groups: 8\n",
      "Equally spaced quantile knots used.\n",
      "Equally spaced quantile knots used.\n",
      "{0: 'distance', 1: 'temp', 2: 'dewp', 3: 'humid', 4: 'pressure', 5: 'plane_age', 6: 'seats', 7: 'wind_dir', 8: 'wind_speed', 9: 'precip', 10: 'visib', 11: 'sched_dep_hour', 12: 'sched_arr_hour'}\n",
      "Selected groups: [0, 2, 5, 7, 9, 11]\n",
      "Naive Selected Groups: 6\n",
      "Selected groups: [0, 2, 5, 9, 12]\n",
      "MLE Selected Groups: 5\n",
      "Equally spaced quantile knots used.\n",
      "Equally spaced quantile knots used.\n",
      "{0: 'distance', 1: 'temp', 2: 'dewp', 3: 'humid', 4: 'pressure', 5: 'plane_age', 6: 'seats', 7: 'wind_dir', 8: 'wind_speed', 9: 'precip', 10: 'visib', 11: 'sched_dep_hour', 12: 'sched_arr_hour'}\n",
      "Selected groups: [0, 2, 5, 7, 8, 11, 12]\n",
      "Naive Selected Groups: 7\n",
      "Selected groups: [0, 2, 5, 8, 11, 12]\n",
      "MLE Selected Groups: 6\n",
      "Equally spaced quantile knots used.\n",
      "Equally spaced quantile knots used.\n",
      "{0: 'distance', 1: 'temp', 2: 'dewp', 3: 'humid', 4: 'pressure', 5: 'plane_age', 6: 'seats', 7: 'wind_dir', 8: 'wind_speed', 9: 'precip', 10: 'visib', 11: 'sched_dep_hour', 12: 'sched_arr_hour'}\n",
      "Selected groups: [0, 2, 5, 8, 9, 11, 12, 13]\n",
      "Naive Selected Groups: 8\n",
      "Selected groups: [0, 2, 5, 8, 9, 10, 12, 13]\n",
      "MLE Selected Groups: 8\n",
      "Equally spaced quantile knots used.\n",
      "Equally spaced quantile knots used.\n",
      "{0: 'distance', 1: 'temp', 2: 'dewp', 3: 'humid', 4: 'pressure', 5: 'plane_age', 6: 'seats', 7: 'wind_dir', 8: 'wind_speed', 9: 'precip', 10: 'visib', 11: 'sched_dep_hour', 12: 'sched_arr_hour'}\n",
      "Selected groups: [0, 2, 5, 6, 7, 9, 11, 12]\n",
      "Naive Selected Groups: 8\n",
      "Selected groups: [0, 2, 6, 9, 11, 12]\n",
      "MLE Selected Groups: 6\n",
      "Equally spaced quantile knots used.\n",
      "Equally spaced quantile knots used.\n",
      "{0: 'distance', 1: 'temp', 2: 'dewp', 3: 'humid', 4: 'pressure', 5: 'plane_age', 6: 'seats', 7: 'wind_dir', 8: 'wind_speed', 9: 'precip', 10: 'visib', 11: 'sched_dep_hour', 12: 'sched_arr_hour'}\n",
      "Selected groups: [0, 2, 5, 6, 8, 10, 11, 12, 13]\n",
      "Naive Selected Groups: 9\n",
      "Selected groups: [0, 2, 3, 5, 6, 8, 12]\n",
      "MLE Selected Groups: 7\n"
     ]
    }
   ],
   "source": [
    "(f1_dict, MSE_dict, interaction_freq_Naive, interaction_freq_MLE,\n",
    "            main_effects_freq_Naive, main_effects_freq_MLE)\\\n",
    "    = subsampling_inference(Y, X, test_size=0.9, n_rep=100, alpha=0.1)"
   ],
   "metadata": {
    "collapsed": false,
    "ExecuteTime": {
     "end_time": "2025-04-13T01:31:39.182498Z",
     "start_time": "2025-04-13T00:48:51.472259Z"
    }
   },
   "id": "5d9eebde745b44d1"
  },
  {
   "cell_type": "code",
   "execution_count": 54,
   "outputs": [
    {
     "data": {
      "text/plain": "Index(['distance', 'plane_age', 'seats', 'temp', 'dewp', 'humid', 'wind_dir',\n       'wind_speed', 'precip', 'pressure', 'visib', 'sched_dep_hour',\n       'sched_arr_hour'],\n      dtype='object')"
     },
     "execution_count": 54,
     "metadata": {},
     "output_type": "execute_result"
    }
   ],
   "source": [
    "X.columns"
   ],
   "metadata": {
    "collapsed": false,
    "ExecuteTime": {
     "end_time": "2025-04-13T01:32:19.469205Z",
     "start_time": "2025-04-13T01:32:19.452620Z"
    }
   },
   "id": "7efdf9572cc1bb65"
  },
  {
   "cell_type": "code",
   "execution_count": 55,
   "outputs": [
    {
     "data": {
      "text/plain": "dict_keys(['method', 'F1', 'Precision', 'Recall'])"
     },
     "execution_count": 55,
     "metadata": {},
     "output_type": "execute_result"
    }
   ],
   "source": [
    "f1_dict.keys()"
   ],
   "metadata": {
    "collapsed": false,
    "ExecuteTime": {
     "end_time": "2025-04-13T01:32:20.288337Z",
     "start_time": "2025-04-13T01:32:20.278276Z"
    }
   },
   "id": "6c09f35d271e9ed9"
  },
  {
   "cell_type": "code",
   "execution_count": 56,
   "outputs": [
    {
     "data": {
      "text/plain": "<Axes: xlabel='method', ylabel='F1'>"
     },
     "execution_count": 56,
     "metadata": {},
     "output_type": "execute_result"
    },
    {
     "data": {
      "text/plain": "<Figure size 640x480 with 1 Axes>",
      "image/png": "[encoded data removed]"
     },
     "metadata": {},
     "output_type": "display_data"
    }
   ],
   "source": [
    "import matplotlib.pyplot as plt\n",
    "import seaborn as sns\n",
    "sns.boxplot(\n",
    "    data=pd.DataFrame(f1_dict),\n",
    "    x='method',\n",
    "    y='F1',\n",
    "    showmeans=True\n",
    ")"
   ],
   "metadata": {
    "collapsed": false,
    "ExecuteTime": {
     "end_time": "2025-04-13T01:32:21.076706Z",
     "start_time": "2025-04-13T01:32:20.889980Z"
    }
   },
   "id": "1ace21a636347640"
  },
  {
   "cell_type": "code",
   "execution_count": 57,
   "outputs": [
    {
     "data": {
      "text/plain": "<Axes: xlabel='method', ylabel='Precision'>"
     },
     "execution_count": 57,
     "metadata": {},
     "output_type": "execute_result"
    },
    {
     "data": {
      "text/plain": "<Figure size 640x480 with 1 Axes>",
      "image/png": "[encoded data removed]"
     },
     "metadata": {},
     "output_type": "display_data"
    }
   ],
   "source": [
    "import matplotlib.pyplot as plt\n",
    "import seaborn as sns\n",
    "sns.boxplot(\n",
    "    data=pd.DataFrame(f1_dict),\n",
    "    x='method',\n",
    "    y='Precision',\n",
    "    showmeans=True\n",
    ")"
   ],
   "metadata": {
    "collapsed": false,
    "ExecuteTime": {
     "end_time": "2025-04-13T01:32:24.580968Z",
     "start_time": "2025-04-13T01:32:24.491416Z"
    }
   },
   "id": "309b7ce6b84aa059"
  },
  {
   "cell_type": "code",
   "execution_count": 58,
   "outputs": [
    {
     "data": {
      "text/plain": "<Axes: xlabel='method', ylabel='Recall'>"
     },
     "execution_count": 58,
     "metadata": {},
     "output_type": "execute_result"
    },
    {
     "data": {
      "text/plain": "<Figure size 640x480 with 1 Axes>",
      "image/png": "[encoded data removed]"
     },
     "metadata": {},
     "output_type": "display_data"
    }
   ],
   "source": [
    "import matplotlib.pyplot as plt\n",
    "import seaborn as sns\n",
    "sns.boxplot(\n",
    "    data=pd.DataFrame(f1_dict),\n",
    "    x='method',\n",
    "    y='Recall',\n",
    "    showmeans=True\n",
    ")"
   ],
   "metadata": {
    "collapsed": false,
    "ExecuteTime": {
     "end_time": "2025-04-13T01:32:29.519246Z",
     "start_time": "2025-04-13T01:32:29.336542Z"
    }
   },
   "id": "7cfc905adc73e1b3"
  },
  {
   "cell_type": "code",
   "execution_count": 59,
   "outputs": [
    {
     "data": {
      "text/plain": "<Axes: xlabel='method', ylabel='MSE_test'>"
     },
     "execution_count": 59,
     "metadata": {},
     "output_type": "execute_result"
    },
    {
     "data": {
      "text/plain": "<Figure size 640x480 with 1 Axes>",
      "image/png": "[encoded data removed]"
     },
     "metadata": {},
     "output_type": "display_data"
    }
   ],
   "source": [
    "sns.boxplot(\n",
    "    data=pd.DataFrame(MSE_dict),\n",
    "    x='method',\n",
    "    y='MSE_test',\n",
    "    showmeans=True\n",
    ")"
   ],
   "metadata": {
    "collapsed": false,
    "ExecuteTime": {
     "end_time": "2025-04-13T01:32:30.814107Z",
     "start_time": "2025-04-13T01:32:30.723495Z"
    }
   },
   "id": "65972116c5ed4c6"
  },
  {
   "cell_type": "code",
   "execution_count": 60,
   "outputs": [
    {
     "data": {
      "text/plain": "<Axes: xlabel='method', ylabel='MSE_train'>"
     },
     "execution_count": 60,
     "metadata": {},
     "output_type": "execute_result"
    },
    {
     "data": {
      "text/plain": "<Figure size 640x480 with 1 Axes>",
      "image/png": "[encoded data removed]"
     },
     "metadata": {},
     "output_type": "display_data"
    }
   ],
   "source": [
    "sns.boxplot(\n",
    "    data=pd.DataFrame(MSE_dict),\n",
    "    x='method',\n",
    "    y='MSE_train'\n",
    ")"
   ],
   "metadata": {
    "collapsed": false,
    "ExecuteTime": {
     "end_time": "2025-04-13T01:32:35.333792Z",
     "start_time": "2025-04-13T01:32:35.247543Z"
    }
   },
   "id": "74dfad27e66f328a"
  },
  {
   "cell_type": "code",
   "execution_count": 62,
   "outputs": [
    {
     "data": {
      "text/plain": "({('distance', 'plane_age'): 3,\n  ('distance', 'wind_dir'): 4,\n  ('distance', 'sched_dep_hour'): 8,\n  ('dewp', 'sched_dep_hour'): 6,\n  ('humid', 'wind_dir'): 20,\n  ('humid', 'sched_dep_hour'): 34,\n  ('pressure', 'seats'): 35,\n  ('pressure', 'wind_dir'): 33,\n  ('pressure', 'visib'): 39,\n  ('pressure', 'sched_dep_hour'): 20,\n  ('plane_age', 'visib'): 30,\n  ('seats', 'wind_dir'): 44,\n  ('precip', 'visib'): 10,\n  ('precip', 'sched_dep_hour'): 23,\n  ('humid', 'visib'): 48,\n  ('visib', 'sched_arr_hour'): 14,\n  ('sched_dep_hour', 'sched_arr_hour'): 15,\n  ('dewp', 'wind_speed'): 14,\n  ('wind_dir', 'sched_dep_hour'): 14,\n  ('pressure', 'sched_arr_hour'): 15,\n  ('plane_age', 'wind_speed'): 12,\n  ('seats', 'sched_dep_hour'): 17,\n  ('wind_dir', 'sched_arr_hour'): 16,\n  ('wind_speed', 'precip'): 12,\n  ('wind_speed', 'sched_arr_hour'): 10,\n  ('visib', 'sched_dep_hour'): 18,\n  ('dewp', 'visib'): 14,\n  ('humid', 'seats'): 24,\n  ('humid', 'pressure'): 13,\n  ('pressure', 'plane_age'): 13,\n  ('pressure', 'temp'): 11,\n  ('pressure', 'precip'): 10,\n  ('plane_age', 'temp'): 7,\n  ('plane_age', 'sched_dep_hour'): 9,\n  ('wind_dir', 'precip'): 5,\n  ('distance', 'visib'): 7,\n  ('dewp', 'seats'): 8,\n  ('seats', 'visib'): 8,\n  ('seats', 'sched_arr_hour'): 12,\n  ('wind_speed', 'visib'): 10,\n  ('dewp', 'sched_arr_hour'): 5,\n  ('plane_age', 'wind_dir'): 15,\n  ('wind_dir', 'visib'): 28,\n  ('distance', 'wind_speed'): 6,\n  ('humid', 'wind_speed'): 11,\n  ('pressure', 'wind_speed'): 15,\n  ('wind_dir', 'wind_speed'): 21,\n  ('wind_speed', 'sched_dep_hour'): 13,\n  ('seats', 'wind_speed'): 6,\n  ('temp', 'precip'): 2,\n  ('humid', 'plane_age'): 5,\n  ('plane_age', 'sched_arr_hour'): 7,\n  ('distance', 'temp'): 3,\n  ('distance', 'sched_arr_hour'): 5,\n  ('seats', 'temp'): 6,\n  ('temp', 'wind_dir'): 11,\n  ('temp', 'wind_speed'): 4,\n  ('temp', 'visib'): 5,\n  ('humid', 'sched_arr_hour'): 7,\n  ('seats', 'precip'): 8,\n  ('dewp', 'humid'): 12,\n  ('dewp', 'pressure'): 6,\n  ('distance', 'pressure'): 4,\n  ('distance', 'seats'): 2,\n  ('distance', 'precip'): 3,\n  ('temp', 'humid'): 6,\n  ('dewp', 'wind_dir'): 4,\n  ('plane_age', 'seats'): 2,\n  ('temp', 'sched_dep_hour'): 3,\n  ('temp', 'sched_arr_hour'): 2,\n  ('dewp', 'precip'): 6,\n  ('humid', 'precip'): 3,\n  ('precip', 'sched_arr_hour'): 4,\n  ('plane_age', 'precip'): 2,\n  ('distance', 'humid'): 1,\n  ('temp', 'dewp'): 2,\n  ('dewp', 'plane_age'): 1},\n {('distance', 'sched_dep_hour'): 13,\n  ('temp', 'sched_dep_hour'): 3,\n  ('dewp', 'plane_age'): 22,\n  ('dewp', 'wind_dir'): 29,\n  ('dewp', 'sched_dep_hour'): 43,\n  ('humid', 'wind_dir'): 18,\n  ('pressure', 'seats'): 40,\n  ('seats', 'wind_dir'): 39,\n  ('precip', 'visib'): 23,\n  ('distance', 'wind_speed'): 5,\n  ('temp', 'wind_speed'): 15,\n  ('dewp', 'wind_speed'): 10,\n  ('humid', 'wind_speed'): 15,\n  ('humid', 'sched_dep_hour'): 54,\n  ('pressure', 'wind_speed'): 22,\n  ('pressure', 'visib'): 56,\n  ('plane_age', 'wind_speed'): 17,\n  ('seats', 'wind_speed'): 15,\n  ('wind_dir', 'wind_speed'): 26,\n  ('wind_speed', 'precip'): 20,\n  ('wind_speed', 'visib'): 8,\n  ('wind_speed', 'sched_dep_hour'): 30,\n  ('wind_speed', 'sched_arr_hour'): 18,\n  ('visib', 'sched_dep_hour'): 41,\n  ('seats', 'sched_dep_hour'): 9,\n  ('wind_dir', 'precip'): 7,\n  ('wind_dir', 'visib'): 38,\n  ('precip', 'sched_dep_hour'): 14,\n  ('dewp', 'seats'): 20,\n  ('dewp', 'visib'): 36,\n  ('pressure', 'sched_dep_hour'): 21,\n  ('humid', 'pressure'): 15,\n  ('pressure', 'plane_age'): 18,\n  ('pressure', 'temp'): 7,\n  ('pressure', 'wind_dir'): 28,\n  ('pressure', 'precip'): 15,\n  ('pressure', 'sched_arr_hour'): 8,\n  ('plane_age', 'seats'): 9,\n  ('plane_age', 'temp'): 4,\n  ('plane_age', 'sched_dep_hour'): 16,\n  ('seats', 'temp'): 2,\n  ('seats', 'precip'): 7,\n  ('temp', 'visib'): 10,\n  ('wind_dir', 'sched_dep_hour'): 11,\n  ('distance', 'pressure'): 6,\n  ('dewp', 'pressure'): 29,\n  ('humid', 'seats'): 10,\n  ('humid', 'visib'): 25,\n  ('seats', 'visib'): 9,\n  ('distance', 'dewp'): 4,\n  ('distance', 'precip'): 6,\n  ('distance', 'visib'): 5,\n  ('dewp', 'humid'): 18,\n  ('dewp', 'precip'): 35,\n  ('humid', 'precip'): 7,\n  ('plane_age', 'precip'): 8,\n  ('plane_age', 'visib'): 28,\n  ('visib', 'sched_arr_hour'): 10,\n  ('plane_age', 'wind_dir'): 15,\n  ('temp', 'dewp'): 7,\n  ('temp', 'precip'): 1,\n  ('temp', 'humid'): 5,\n  ('plane_age', 'sched_arr_hour'): 7,\n  ('seats', 'sched_arr_hour'): 3,\n  ('wind_dir', 'sched_arr_hour'): 4,\n  ('humid', 'plane_age'): 4,\n  ('sched_dep_hour', 'sched_arr_hour'): 3,\n  ('humid', 'sched_arr_hour'): 8,\n  ('distance', 'sched_arr_hour'): 1,\n  ('dewp', 'sched_arr_hour'): 7,\n  ('distance', 'wind_dir'): 1,\n  ('temp', 'wind_dir'): 3,\n  ('distance', 'plane_age'): 1,\n  ('distance', 'humid'): 1})"
     },
     "execution_count": 62,
     "metadata": {},
     "output_type": "execute_result"
    }
   ],
   "source": [
    "interaction_freq_Naive, interaction_freq_MLE"
   ],
   "metadata": {
    "collapsed": false,
    "ExecuteTime": {
     "end_time": "2025-04-13T01:32:38.880665Z",
     "start_time": "2025-04-13T01:32:38.865714Z"
    }
   },
   "id": "c7ddccc4ed75ec0e"
  },
  {
   "cell_type": "code",
   "execution_count": 63,
   "outputs": [
    {
     "data": {
      "text/plain": "[(('humid', 'visib'), 48),\n (('seats', 'wind_dir'), 44),\n (('pressure', 'visib'), 39),\n (('pressure', 'seats'), 35),\n (('humid', 'sched_dep_hour'), 34),\n (('pressure', 'wind_dir'), 33),\n (('plane_age', 'visib'), 30),\n (('wind_dir', 'visib'), 28),\n (('humid', 'seats'), 24),\n (('precip', 'sched_dep_hour'), 23),\n (('wind_dir', 'wind_speed'), 21),\n (('humid', 'wind_dir'), 20),\n (('pressure', 'sched_dep_hour'), 20),\n (('visib', 'sched_dep_hour'), 18),\n (('seats', 'sched_dep_hour'), 17),\n (('wind_dir', 'sched_arr_hour'), 16),\n (('sched_dep_hour', 'sched_arr_hour'), 15),\n (('pressure', 'sched_arr_hour'), 15),\n (('plane_age', 'wind_dir'), 15),\n (('pressure', 'wind_speed'), 15),\n (('visib', 'sched_arr_hour'), 14),\n (('dewp', 'wind_speed'), 14),\n (('wind_dir', 'sched_dep_hour'), 14),\n (('dewp', 'visib'), 14),\n (('humid', 'pressure'), 13),\n (('pressure', 'plane_age'), 13),\n (('wind_speed', 'sched_dep_hour'), 13),\n (('plane_age', 'wind_speed'), 12),\n (('wind_speed', 'precip'), 12),\n (('seats', 'sched_arr_hour'), 12),\n (('dewp', 'humid'), 12),\n (('pressure', 'temp'), 11),\n (('humid', 'wind_speed'), 11),\n (('temp', 'wind_dir'), 11),\n (('precip', 'visib'), 10),\n (('wind_speed', 'sched_arr_hour'), 10),\n (('pressure', 'precip'), 10),\n (('wind_speed', 'visib'), 10),\n (('plane_age', 'sched_dep_hour'), 9),\n (('distance', 'sched_dep_hour'), 8),\n (('dewp', 'seats'), 8),\n (('seats', 'visib'), 8),\n (('seats', 'precip'), 8),\n (('plane_age', 'temp'), 7),\n (('distance', 'visib'), 7),\n (('plane_age', 'sched_arr_hour'), 7),\n (('humid', 'sched_arr_hour'), 7),\n (('dewp', 'sched_dep_hour'), 6),\n (('distance', 'wind_speed'), 6),\n (('seats', 'wind_speed'), 6),\n (('seats', 'temp'), 6),\n (('dewp', 'pressure'), 6),\n (('temp', 'humid'), 6),\n (('dewp', 'precip'), 6),\n (('wind_dir', 'precip'), 5),\n (('dewp', 'sched_arr_hour'), 5),\n (('humid', 'plane_age'), 5),\n (('distance', 'sched_arr_hour'), 5),\n (('temp', 'visib'), 5),\n (('distance', 'wind_dir'), 4),\n (('temp', 'wind_speed'), 4),\n (('distance', 'pressure'), 4),\n (('dewp', 'wind_dir'), 4),\n (('precip', 'sched_arr_hour'), 4),\n (('distance', 'plane_age'), 3),\n (('distance', 'temp'), 3),\n (('distance', 'precip'), 3),\n (('temp', 'sched_dep_hour'), 3),\n (('humid', 'precip'), 3),\n (('temp', 'precip'), 2),\n (('distance', 'seats'), 2),\n (('plane_age', 'seats'), 2),\n (('temp', 'sched_arr_hour'), 2),\n (('plane_age', 'precip'), 2),\n (('temp', 'dewp'), 2),\n (('distance', 'humid'), 1),\n (('dewp', 'plane_age'), 1)]"
     },
     "execution_count": 63,
     "metadata": {},
     "output_type": "execute_result"
    }
   ],
   "source": [
    "sorted(interaction_freq_Naive.items(), key=lambda kv: kv[1], reverse=True)"
   ],
   "metadata": {
    "collapsed": false,
    "ExecuteTime": {
     "end_time": "2025-04-13T01:32:39.637912Z",
     "start_time": "2025-04-13T01:32:39.629809Z"
    }
   },
   "id": "81256bfddd83b416"
  },
  {
   "cell_type": "code",
   "execution_count": 64,
   "outputs": [
    {
     "data": {
      "text/plain": "[(('pressure', 'visib'), 56),\n (('humid', 'sched_dep_hour'), 54),\n (('dewp', 'sched_dep_hour'), 43),\n (('visib', 'sched_dep_hour'), 41),\n (('pressure', 'seats'), 40),\n (('seats', 'wind_dir'), 39),\n (('wind_dir', 'visib'), 38),\n (('dewp', 'visib'), 36),\n (('dewp', 'precip'), 35),\n (('wind_speed', 'sched_dep_hour'), 30),\n (('dewp', 'wind_dir'), 29),\n (('dewp', 'pressure'), 29),\n (('pressure', 'wind_dir'), 28),\n (('plane_age', 'visib'), 28),\n (('wind_dir', 'wind_speed'), 26),\n (('humid', 'visib'), 25),\n (('precip', 'visib'), 23),\n (('dewp', 'plane_age'), 22),\n (('pressure', 'wind_speed'), 22),\n (('pressure', 'sched_dep_hour'), 21),\n (('wind_speed', 'precip'), 20),\n (('dewp', 'seats'), 20),\n (('humid', 'wind_dir'), 18),\n (('wind_speed', 'sched_arr_hour'), 18),\n (('pressure', 'plane_age'), 18),\n (('dewp', 'humid'), 18),\n (('plane_age', 'wind_speed'), 17),\n (('plane_age', 'sched_dep_hour'), 16),\n (('temp', 'wind_speed'), 15),\n (('humid', 'wind_speed'), 15),\n (('seats', 'wind_speed'), 15),\n (('humid', 'pressure'), 15),\n (('pressure', 'precip'), 15),\n (('plane_age', 'wind_dir'), 15),\n (('precip', 'sched_dep_hour'), 14),\n (('distance', 'sched_dep_hour'), 13),\n (('wind_dir', 'sched_dep_hour'), 11),\n (('dewp', 'wind_speed'), 10),\n (('temp', 'visib'), 10),\n (('humid', 'seats'), 10),\n (('visib', 'sched_arr_hour'), 10),\n (('seats', 'sched_dep_hour'), 9),\n (('plane_age', 'seats'), 9),\n (('seats', 'visib'), 9),\n (('wind_speed', 'visib'), 8),\n (('pressure', 'sched_arr_hour'), 8),\n (('plane_age', 'precip'), 8),\n (('humid', 'sched_arr_hour'), 8),\n (('wind_dir', 'precip'), 7),\n (('pressure', 'temp'), 7),\n (('seats', 'precip'), 7),\n (('humid', 'precip'), 7),\n (('temp', 'dewp'), 7),\n (('plane_age', 'sched_arr_hour'), 7),\n (('dewp', 'sched_arr_hour'), 7),\n (('distance', 'pressure'), 6),\n (('distance', 'precip'), 6),\n (('distance', 'wind_speed'), 5),\n (('distance', 'visib'), 5),\n (('temp', 'humid'), 5),\n (('plane_age', 'temp'), 4),\n (('distance', 'dewp'), 4),\n (('wind_dir', 'sched_arr_hour'), 4),\n (('humid', 'plane_age'), 4),\n (('temp', 'sched_dep_hour'), 3),\n (('seats', 'sched_arr_hour'), 3),\n (('sched_dep_hour', 'sched_arr_hour'), 3),\n (('temp', 'wind_dir'), 3),\n (('seats', 'temp'), 2),\n (('temp', 'precip'), 1),\n (('distance', 'sched_arr_hour'), 1),\n (('distance', 'wind_dir'), 1),\n (('distance', 'plane_age'), 1),\n (('distance', 'humid'), 1)]"
     },
     "execution_count": 64,
     "metadata": {},
     "output_type": "execute_result"
    }
   ],
   "source": [
    "sorted(interaction_freq_MLE.items(), key=lambda kv: kv[1], reverse=True)"
   ],
   "metadata": {
    "collapsed": false,
    "ExecuteTime": {
     "end_time": "2025-04-13T01:32:40.337929Z",
     "start_time": "2025-04-13T01:32:40.330393Z"
    }
   },
   "id": "87a82074cf39e234"
  },
  {
   "cell_type": "code",
   "execution_count": 65,
   "outputs": [
    {
     "data": {
      "text/plain": "[('sched_dep_hour', 97),\n ('pressure', 89),\n ('temp', 87),\n ('visib', 74),\n ('wind_speed', 69),\n ('wind_dir', 64),\n ('seats', 52),\n ('dewp', 38),\n ('sched_arr_hour', 30),\n ('precip', 29),\n ('plane_age', 21),\n ('distance', 9),\n ('humid', 0)]"
     },
     "execution_count": 65,
     "metadata": {},
     "output_type": "execute_result"
    }
   ],
   "source": [
    "sorted(main_effects_freq_Naive.items(), key=lambda kv: kv[1], reverse=True)"
   ],
   "metadata": {
    "collapsed": false,
    "ExecuteTime": {
     "end_time": "2025-04-13T01:32:40.949901Z",
     "start_time": "2025-04-13T01:32:40.935075Z"
    }
   },
   "id": "22ec9ed03c9a7bd4"
  },
  {
   "cell_type": "code",
   "execution_count": 66,
   "outputs": [
    {
     "data": {
      "text/plain": "[('sched_dep_hour', 100),\n ('pressure', 85),\n ('temp', 75),\n ('wind_speed', 67),\n ('wind_dir', 66),\n ('visib', 59),\n ('dewp', 51),\n ('precip', 26),\n ('seats', 22),\n ('sched_arr_hour', 22),\n ('plane_age', 19),\n ('distance', 8),\n ('humid', 0)]"
     },
     "execution_count": 66,
     "metadata": {},
     "output_type": "execute_result"
    }
   ],
   "source": [
    "sorted(main_effects_freq_MLE.items(), key=lambda kv: kv[1], reverse=True)"
   ],
   "metadata": {
    "collapsed": false,
    "ExecuteTime": {
     "end_time": "2025-04-13T01:32:41.326929Z",
     "start_time": "2025-04-13T01:32:41.313928Z"
    }
   },
   "id": "29ea8a6a94286fb1"
  },
  {
   "cell_type": "markdown",
   "source": [
    "# Focusing on one subsample"
   ],
   "metadata": {
    "collapsed": false
   },
   "id": "77b745f015ab204f"
  },
  {
   "cell_type": "code",
   "execution_count": 188,
   "outputs": [],
   "source": [
    "from sklearn.model_selection import train_test_split\n",
    "\n",
    "x_train, x_test, y_train, y_test = train_test_split(X, Y, test_size=0.9,\n",
    "                                                    random_state=42)\n",
    "# Standardize\n",
    "#x_train = (x_train - x_train.mean()) / x_train.std()\n",
    "#x_test = (x_test - x_train.mean()) / x_train.std()"
   ],
   "metadata": {
    "collapsed": false,
    "ExecuteTime": {
     "end_time": "2025-04-20T00:54:34.689321Z",
     "start_time": "2025-04-20T00:54:34.657885Z"
    }
   },
   "id": "359072c9a8eb12e3"
  },
  {
   "cell_type": "code",
   "execution_count": 356,
   "outputs": [],
   "source": [
    "linear = list(x_train.columns[x_train.nunique() < 40])"
   ],
   "metadata": {
    "collapsed": false,
    "ExecuteTime": {
     "end_time": "2025-04-28T21:47:06.537471Z",
     "start_time": "2025-04-28T21:47:06.442772Z"
    }
   },
   "id": "3e1220ec7e76ac9b"
  },
  {
   "cell_type": "code",
   "execution_count": 357,
   "outputs": [
    {
     "data": {
      "text/plain": "distance           59\nplane_age          31\nseats              26\ntemp               41\ndewp               52\nhumid             230\nwind_dir           36\nwind_speed         21\nprecip              6\npressure          217\nvisib              19\nsched_dep_hour    206\nsched_arr_hour    354\ndtype: int64"
     },
     "execution_count": 357,
     "metadata": {},
     "output_type": "execute_result"
    }
   ],
   "source": [
    "x_train.nunique()"
   ],
   "metadata": {
    "collapsed": false,
    "ExecuteTime": {
     "end_time": "2025-04-28T21:47:08.319213Z",
     "start_time": "2025-04-28T21:47:08.278700Z"
    }
   },
   "id": "21a3306753977a6"
  },
  {
   "cell_type": "code",
   "execution_count": 358,
   "outputs": [],
   "source": [
    "x_train_nl = x_train.drop(linear, axis=1)\n",
    "x_train_l_temp = x_train[linear]\n",
    "x_test_nl = x_test.drop(linear, axis=1)\n",
    "x_test_l = x_test[linear]\n",
    "n_train = x_train_l_temp.shape[0]\n",
    "n_test = x_test_l.shape[0]\n",
    "\n",
    "x_train_l = (x_train_l_temp - x_train_l_temp.mean()) / (x_train_l_temp.std() * np.sqrt(n_train))\n",
    "x_test_l = (x_test_l - x_train_l_temp.mean()) / (x_train_l_temp.std() * np.sqrt(n_test))"
   ],
   "metadata": {
    "collapsed": false,
    "ExecuteTime": {
     "end_time": "2025-04-28T21:47:08.690175Z",
     "start_time": "2025-04-28T21:47:08.656898Z"
    }
   },
   "id": "1a9d92496abb71a3"
  },
  {
   "cell_type": "code",
   "execution_count": 360,
   "outputs": [
    {
     "data": {
      "text/plain": "      distance  temp  dewp  humid  pressure  sched_dep_hour  sched_arr_hour\n6276      2475  37.0  27.0  66.82    1033.0       15.500000       18.933333\n7174      2422  40.0  26.0  57.01    1033.1       16.500000       20.000000\n1303      2475  37.0  25.0  61.50    1023.1       17.000000       20.533333\n6571      1598  35.0  33.0  92.32    1008.2       12.316667       17.083333\n5989       301  42.0  31.0  64.75    1012.4       22.983333        0.583333\n...        ...   ...   ...    ...       ...             ...             ...\n5865       213  38.0  33.0  82.00    1026.8       13.983333       15.516667\n5921       427  33.0  21.0  60.95    1030.5        9.816667       11.716667\n6104       665  37.0  36.0  96.13    1001.9       14.833333       17.350000\n909       2586  31.0  23.0  71.89    1009.8       15.833333       19.516667\n8330       509  19.0   8.0  61.66    1013.8       10.500000       12.650000\n\n[735 rows x 7 columns]",
      "text/html": "<div>\n<style scoped>\n    .dataframe tbody tr th:only-of-type {\n        vertical-align: middle;\n    }\n\n    .dataframe tbody tr th {\n        vertical-align: top;\n    }\n\n    .dataframe thead th {\n        text-align: right;\n    }\n</style>\n<table border=\"1\" class=\"dataframe\">\n  <thead>\n    <tr style=\"text-align: right;\">\n      <th></th>\n      <th>distance</th>\n      <th>temp</th>\n      <th>dewp</th>\n      <th>humid</th>\n      <th>pressure</th>\n      <th>sched_dep_hour</th>\n      <th>sched_arr_hour</th>\n    </tr>\n  </thead>\n  <tbody>\n    <tr>\n      <th>6276</th>\n      <td>2475</td>\n      <td>37.0</td>\n      <td>27.0</td>\n      <td>66.82</td>\n      <td>1033.0</td>\n      <td>15.500000</td>\n      <td>18.933333</td>\n    </tr>\n    <tr>\n      <th>7174</th>\n      <td>2422</td>\n      <td>40.0</td>\n      <td>26.0</td>\n      <td>57.01</td>\n      <td>1033.1</td>\n      <td>16.500000</td>\n      <td>20.000000</td>\n    </tr>\n    <tr>\n      <th>1303</th>\n      <td>2475</td>\n      <td>37.0</td>\n      <td>25.0</td>\n      <td>61.50</td>\n      <td>1023.1</td>\n      <td>17.000000</td>\n      <td>20.533333</td>\n    </tr>\n    <tr>\n      <th>6571</th>\n      <td>1598</td>\n      <td>35.0</td>\n      <td>33.0</td>\n      <td>92.32</td>\n      <td>1008.2</td>\n      <td>12.316667</td>\n      <td>17.083333</td>\n    </tr>\n    <tr>\n      <th>5989</th>\n      <td>301</td>\n      <td>42.0</td>\n      <td>31.0</td>\n      <td>64.75</td>\n      <td>1012.4</td>\n      <td>22.983333</td>\n      <td>0.583333</td>\n    </tr>\n    <tr>\n      <th>...</th>\n      <td>...</td>\n      <td>...</td>\n      <td>...</td>\n      <td>...</td>\n      <td>...</td>\n      <td>...</td>\n      <td>...</td>\n    </tr>\n    <tr>\n      <th>5865</th>\n      <td>213</td>\n      <td>38.0</td>\n      <td>33.0</td>\n      <td>82.00</td>\n      <td>1026.8</td>\n      <td>13.983333</td>\n      <td>15.516667</td>\n    </tr>\n    <tr>\n      <th>5921</th>\n      <td>427</td>\n      <td>33.0</td>\n      <td>21.0</td>\n      <td>60.95</td>\n      <td>1030.5</td>\n      <td>9.816667</td>\n      <td>11.716667</td>\n    </tr>\n    <tr>\n      <th>6104</th>\n      <td>665</td>\n      <td>37.0</td>\n      <td>36.0</td>\n      <td>96.13</td>\n      <td>1001.9</td>\n      <td>14.833333</td>\n      <td>17.350000</td>\n    </tr>\n    <tr>\n      <th>909</th>\n      <td>2586</td>\n      <td>31.0</td>\n      <td>23.0</td>\n      <td>71.89</td>\n      <td>1009.8</td>\n      <td>15.833333</td>\n      <td>19.516667</td>\n    </tr>\n    <tr>\n      <th>8330</th>\n      <td>509</td>\n      <td>19.0</td>\n      <td>8.0</td>\n      <td>61.66</td>\n      <td>1013.8</td>\n      <td>10.500000</td>\n      <td>12.650000</td>\n    </tr>\n  </tbody>\n</table>\n<p>735 rows × 7 columns</p>\n</div>"
     },
     "execution_count": 360,
     "metadata": {},
     "output_type": "execute_result"
    }
   ],
   "source": [
    "x_train_nl"
   ],
   "metadata": {
    "collapsed": false,
    "ExecuteTime": {
     "end_time": "2025-04-28T21:47:22.372576Z",
     "start_time": "2025-04-28T21:47:22.324736Z"
    }
   },
   "id": "13b296372191b7aa"
  },
  {
   "cell_type": "code",
   "execution_count": 359,
   "outputs": [
    {
     "data": {
      "text/plain": "plane_age     0.012439\nseats         0.012695\nwind_dir      0.012015\nwind_speed    0.012213\nprecip        0.011678\nvisib         0.012367\ndtype: float64"
     },
     "execution_count": 359,
     "metadata": {},
     "output_type": "execute_result"
    }
   ],
   "source": [
    "x_test_l.std()"
   ],
   "metadata": {
    "collapsed": false,
    "ExecuteTime": {
     "end_time": "2025-04-28T21:47:09.578749Z",
     "start_time": "2025-04-28T21:47:09.559637Z"
    }
   },
   "id": "2e8bfda1d76574f9"
  },
  {
   "cell_type": "code",
   "execution_count": 193,
   "outputs": [
    {
     "data": {
      "text/plain": "plane_age     0.036886\nseats         0.036886\nwind_dir      0.036886\nwind_speed    0.036886\nprecip        0.036886\nvisib         0.036886\ndtype: float64"
     },
     "execution_count": 193,
     "metadata": {},
     "output_type": "execute_result"
    }
   ],
   "source": [
    "x_train_l.std()"
   ],
   "metadata": {
    "collapsed": false,
    "ExecuteTime": {
     "end_time": "2025-04-20T00:54:36.670093Z",
     "start_time": "2025-04-20T00:54:36.661850Z"
    }
   },
   "id": "a40b546458ebf84e"
  },
  {
   "cell_type": "code",
   "execution_count": 194,
   "outputs": [
    {
     "name": "stdout",
     "output_type": "stream",
     "text": [
      "Equally spaced quantile knots used.\n",
      "Equally spaced quantile knots used.\n"
     ]
    }
   ],
   "source": [
    "design_train, groups_train = (\n",
    "        get_splines(x_train_nl, x_train_l, nknots=6, degree=2, intercept=True))\n",
    "design_test, groups_test = (\n",
    "        get_splines(x_test_nl, x_test_l, nknots=6, degree=2, intercept=True))"
   ],
   "metadata": {
    "collapsed": false,
    "ExecuteTime": {
     "end_time": "2025-04-20T00:54:37.330420Z",
     "start_time": "2025-04-20T00:54:37.283374Z"
    }
   },
   "id": "b0542f46490bf347"
  },
  {
   "cell_type": "code",
   "execution_count": 195,
   "outputs": [],
   "source": [
    "# Steps:\n",
    "# 1. Transform training fully for naive and MLE\n",
    "# 2. Transform 90% of training for data splitting's selection\n",
    "# 3. Use 10% of remaining to get the transformed PCs for data splitting's inference\n",
    "# 4. "
   ],
   "metadata": {
    "collapsed": false,
    "ExecuteTime": {
     "end_time": "2025-04-20T00:54:38.126377Z",
     "start_time": "2025-04-20T00:54:38.093241Z"
    }
   },
   "id": "a8b2380aca8b3518"
  },
  {
   "cell_type": "code",
   "execution_count": 196,
   "outputs": [
    {
     "data": {
      "text/plain": "array([[ 1.        , -1.29469158, -0.51859089, ..., -0.02321697,\n         1.70640133,  0.49814698],\n       [ 1.        , -1.19756794, -0.48768174, ..., -0.61164706,\n        -0.34237836,  0.49814698],\n       [ 1.        , -1.29469158, -0.51859089, ..., -1.20007715,\n        -0.3630731 ,  0.49814698],\n       ...,\n       [ 1.        , -0.12116343,  1.10133351, ...,  0.17292639,\n         1.70640133, -1.32841514],\n       [ 1.        , -1.51037039, -0.5800947 , ...,  0.17292639,\n        -0.34237836, -0.23247787],\n       [ 1.        , -0.22672314,  1.29537708, ..., -0.02321697,\n        -0.3630731 ,  0.49814698]])"
     },
     "execution_count": 196,
     "metadata": {},
     "output_type": "execute_result"
    }
   ],
   "source": [
    "design_train"
   ],
   "metadata": {
    "collapsed": false,
    "ExecuteTime": {
     "end_time": "2025-04-20T00:54:38.653179Z",
     "start_time": "2025-04-20T00:54:38.623333Z"
    }
   },
   "id": "9ba8c457b2e90ecb"
  },
  {
   "cell_type": "code",
   "execution_count": 197,
   "outputs": [
    {
     "data": {
      "text/plain": "array([[ 7.35000000e+02, -3.67100058e+02,  4.59106234e+02,\n        -4.33438163e+02, -7.45968241e+01, -4.59180683e+02,\n        -1.26910180e+02, -5.45186805e+02, -2.82949388e+02,\n        -3.33743647e+02,  1.22029202e+02, -4.95963482e+02,\n        -3.24920458e+01, -3.74107200e+02,  1.71374326e+02,\n        -4.39648318e-14,  8.88178420e-16,  7.46069873e-14,\n         2.30926389e-14,  7.99360578e-15,  3.55271368e-15],\n       [-3.67100058e+02,  7.35000000e+02,  2.04281037e-14,\n         2.80018211e+02,  2.37180387e+01,  2.73259862e+02,\n         7.53470033e+01,  2.84940969e+02,  1.49968697e+02,\n         1.55389995e+02, -6.42800149e+01,  2.40917848e+02,\n         2.43800493e+01,  1.91671590e+02, -5.31155140e+01,\n         1.61092469e+01, -2.55856216e+02, -9.41992913e+00,\n         1.66531060e+01, -1.37017392e+01,  1.08940864e+01],\n       [ 4.59106234e+02,  2.04281037e-14,  7.35000000e+02,\n        -2.48589798e+02, -7.28982263e+01, -2.58679981e+02,\n        -1.07045308e+02, -3.22637687e+02, -1.94284345e+02,\n        -2.40647586e+02,  3.92143608e+01, -2.72477718e+02,\n         3.11044345e+00, -1.59839865e+02,  1.42169904e+02,\n         9.96624583e+01, -4.69452073e+02, -4.99211177e+00,\n         1.55887342e+01,  1.49746050e+01,  9.91868642e+00],\n       [-4.33438163e+02,  2.80018211e+02, -2.48589798e+02,\n         7.35000000e+02, -7.99360578e-14,  6.35355244e+02,\n         1.87102742e+02,  3.08431568e+02,  2.97984526e+02,\n         2.02504501e+02, -8.87242048e+01,  3.13108335e+02,\n         1.19458360e+02,  1.95226796e+02, -1.98366691e+02,\n        -1.45678651e+01, -1.12651101e+01, -1.37325007e+02,\n        -1.54823100e+02,  5.79265909e+01, -4.40934901e+01],\n       [-7.45968241e+01,  2.37180387e+01, -7.28982263e+01,\n        -7.99360578e-14,  7.35000000e+02, -5.88621786e+01,\n         5.32657492e+02, -8.54795337e+01,  1.94691261e+02,\n        -2.23450043e+02,  5.16038867e+01,  1.30810612e+02,\n         7.38117533e+01,  3.17386621e+01, -1.30570105e+02,\n        -2.82287048e+01,  3.50649973e+01, -4.29018737e+01,\n         5.09182950e+01,  8.25023531e+01, -1.87346432e+02],\n       [-4.59180683e+02,  2.73259862e+02, -2.58679981e+02,\n         6.35355244e+02, -5.88621786e+01,  7.35000000e+02,\n        -3.55271368e-14,  4.95258960e+02,  2.12149184e+02,\n         1.92057678e+02, -3.67271642e+01,  3.15517688e+02,\n         6.97999193e+01,  2.31848659e+02, -1.47767079e+02,\n         1.31449967e+01, -3.70243196e+01, -1.04396128e+02,\n        -1.05026639e+02, -4.65819361e+00,  5.74374517e+01],\n       [-1.26910180e+02,  7.53470033e+01, -1.07045308e+02,\n         1.87102742e+02,  5.32657492e+02, -3.55271368e-14,\n         7.35000000e+02, -1.60718101e+02,  5.78070127e+02,\n        -1.15020754e+02,  2.55612191e+01,  1.08574796e+02,\n         2.77153389e+00,  4.09706028e+01, -4.14136960e+01,\n        -3.57783636e+01,  6.25426011e+01, -2.52315416e+02,\n        -1.22458047e+02,  2.88440097e+02, -4.52430358e+02],\n       [-5.45186805e+02,  2.84940969e+02, -3.22637687e+02,\n         3.08431568e+02, -8.54795337e+01,  4.95258960e+02,\n        -1.60718101e+02,  7.35000000e+02,  2.93098879e-14,\n         2.72419996e+02, -1.16467029e+02,  3.39809008e+02,\n        -2.51620021e+01,  2.85226944e+02, -5.19956029e+01,\n         3.46243771e+01, -3.88132564e+01,  3.62419647e+01,\n        -1.48419971e+01, -1.90188661e+02,  2.86421927e+02],\n       [-2.82949388e+02,  1.49968697e+02, -1.94284345e+02,\n         2.97984526e+02,  1.94691261e+02,  2.12149184e+02,\n         5.78070127e+02,  2.93098879e-14,  7.35000000e+02,\n         4.75156077e+01,  3.77552604e+01,  1.59456328e+02,\n        -6.86283621e+01,  1.34134462e+02,  2.32686390e+01,\n        -1.48883045e+01,  4.91137908e+01, -3.24470783e+02,\n        -1.73806533e+02,  3.64235001e+02, -5.12285192e+02],\n       [-3.33743647e+02,  1.55389995e+02, -2.40647586e+02,\n         2.02504501e+02, -2.23450043e+02,  1.92057678e+02,\n        -1.15020754e+02,  2.72419996e+02,  4.75156077e+01,\n         7.35000000e+02,  3.73034936e-14,  2.23531291e+02,\n         7.23872003e+00,  1.50770911e+02, -7.63803591e+01,\n        -2.35172720e+01,  5.45001907e+01, -1.00250418e+01,\n        -2.52247972e+02, -1.27085634e+02,  7.29769097e+01],\n       [ 1.22029202e+02, -6.42800149e+01,  3.92143608e+01,\n        -8.87242048e+01,  5.16038867e+01, -3.67271642e+01,\n         2.55612191e+01, -1.16467029e+02,  3.77552604e+01,\n         3.73034936e-14,  7.35000000e+02, -7.55621522e+01,\n         6.32174547e+01, -1.02891028e+02, -4.77479557e+01,\n         3.09064586e+01,  4.37983232e+01, -3.78834871e+01,\n         1.98135323e+02,  1.10205124e+02, -1.16254963e+02],\n       [-4.95963482e+02,  2.40917848e+02, -2.72477718e+02,\n         3.13108335e+02,  1.30810612e+02,  3.15517688e+02,\n         1.08574796e+02,  3.39809008e+02,  1.59456328e+02,\n         2.23531291e+02, -7.55621522e+01,  7.35000000e+02,\n        -3.55271368e-15,  4.26207970e+02, -3.33103494e+02,\n        -9.16032367e+00, -2.81415372e+01, -3.61389439e+01,\n        -5.56268982e+00, -2.71883507e+01, -5.93360206e+00],\n       [-3.24920458e+01,  2.43800493e+01,  3.11044345e+00,\n         1.19458360e+02,  7.38117533e+01,  6.97999193e+01,\n         2.77153389e+00, -2.51620021e+01, -6.86283621e+01,\n         7.23872003e+00,  6.32174547e+01, -3.55271368e-15,\n         7.35000000e+02, -2.83833923e+02, -6.05073716e+02,\n        -6.24772659e+00, -1.66168456e+01,  3.59194084e+01,\n         1.04419225e+02, -6.25352511e+01,  1.10635967e+01],\n       [-3.74107200e+02,  1.91671590e+02, -1.59839865e+02,\n         1.95226796e+02,  3.17386621e+01,  2.31848659e+02,\n         4.09706028e+01,  2.85226944e+02,  1.34134462e+02,\n         1.50770911e+02, -1.02891028e+02,  4.26207970e+02,\n        -2.83833923e+02,  7.35000000e+02,  2.13162821e-14,\n         8.40928481e+00, -8.59356793e+01, -8.99956177e+00,\n         5.54856431e+00,  1.82869560e+01,  1.28663496e+01],\n       [ 1.71374326e+02, -5.31155140e+01,  1.42169904e+02,\n        -1.98366691e+02, -1.30570105e+02, -1.47767079e+02,\n        -4.14136960e+01, -5.19956029e+01,  2.32686390e+01,\n        -7.63803591e+01, -4.77479557e+01, -3.33103494e+02,\n        -6.05073716e+02,  2.13162821e-14,  7.35000000e+02,\n         3.31469238e+01, -5.27894219e+01, -2.01970065e+01,\n        -9.69161390e+01,  6.47824562e+01, -5.20668974e+00],\n       [-4.39648318e-14,  1.61092469e+01,  9.96624583e+01,\n        -1.45678651e+01, -2.82287048e+01,  1.31449967e+01,\n        -3.57783636e+01,  3.46243771e+01, -1.48883045e+01,\n        -2.35172720e+01,  3.09064586e+01, -9.16032367e+00,\n        -6.24772659e+00,  8.40928481e+00,  3.31469238e+01,\n         7.34000000e+02, -1.39253725e+02,  1.94310573e+01,\n         4.00413679e+01, -1.03329552e+00,  2.84097991e+01],\n       [ 8.88178420e-16, -2.55856216e+02, -4.69452073e+02,\n        -1.12651101e+01,  3.50649973e+01, -3.70243196e+01,\n         6.25426011e+01, -3.88132564e+01,  4.91137908e+01,\n         5.45001907e+01,  4.37983232e+01, -2.81415372e+01,\n        -1.66168456e+01, -8.59356793e+01, -5.27894219e+01,\n        -1.39253725e+02,  7.34000000e+02, -4.58981347e+00,\n        -2.29526962e+01,  1.80005485e+00, -4.00882647e+01],\n       [ 7.46069873e-14, -9.41992913e+00, -4.99211177e+00,\n        -1.37325007e+02, -4.29018737e+01, -1.04396128e+02,\n        -2.52315416e+02,  3.62419647e+01, -3.24470783e+02,\n        -1.00250418e+01, -3.78834871e+01, -3.61389439e+01,\n         3.59194084e+01, -8.99956177e+00, -2.01970065e+01,\n         1.94310573e+01, -4.58981347e+00,  7.34000000e+02,\n         2.48587897e+02, -1.51875074e+02,  2.60689685e+02],\n       [ 2.30926389e-14,  1.66531060e+01,  1.55887342e+01,\n        -1.54823100e+02,  5.09182950e+01, -1.05026639e+02,\n        -1.22458047e+02, -1.48419971e+01, -1.73806533e+02,\n        -2.52247972e+02,  1.98135323e+02, -5.56268982e+00,\n         1.04419225e+02,  5.54856431e+00, -9.69161390e+01,\n         4.00413679e+01, -2.29526962e+01,  2.48587897e+02,\n         7.34000000e+02,  4.91344421e+01,  9.39052669e+01],\n       [ 7.99360578e-15, -1.37017392e+01,  1.49746050e+01,\n         5.79265909e+01,  8.25023531e+01, -4.65819361e+00,\n         2.88440097e+02, -1.90188661e+02,  3.64235001e+02,\n        -1.27085634e+02,  1.10205124e+02, -2.71883507e+01,\n        -6.25352511e+01,  1.82869560e+01,  6.47824562e+01,\n        -1.03329552e+00,  1.80005485e+00, -1.51875074e+02,\n         4.91344421e+01,  7.34000000e+02, -4.12089801e+02],\n       [ 3.55271368e-15,  1.08940864e+01,  9.91868642e+00,\n        -4.40934901e+01, -1.87346432e+02,  5.74374517e+01,\n        -4.52430358e+02,  2.86421927e+02, -5.12285192e+02,\n         7.29769097e+01, -1.16254963e+02, -5.93360206e+00,\n         1.10635967e+01,  1.28663496e+01, -5.20668974e+00,\n         2.84097991e+01, -4.00882647e+01,  2.60689685e+02,\n         9.39052669e+01, -4.12089801e+02,  7.34000000e+02]])"
     },
     "execution_count": 197,
     "metadata": {},
     "output_type": "execute_result"
    }
   ],
   "source": [
    "design_train.T @ design_train"
   ],
   "metadata": {
    "collapsed": false,
    "ExecuteTime": {
     "end_time": "2025-04-20T00:54:39.100473Z",
     "start_time": "2025-04-20T00:54:39.089154Z"
    }
   },
   "id": "7b2339d4a5c89c66"
  },
  {
   "cell_type": "code",
   "execution_count": 198,
   "outputs": [
    {
     "data": {
      "text/plain": "array([[ 1.        , -1.29469158, -0.51859089, ..., -0.02321697,\n         1.70640133,  0.49814698],\n       [ 1.        , -1.19756794, -0.48768174, ..., -0.61164706,\n        -0.34237836,  0.49814698],\n       [ 1.        , -1.29469158, -0.51859089, ..., -1.20007715,\n        -0.3630731 ,  0.49814698],\n       ...,\n       [ 1.        , -0.12116343,  1.10133351, ...,  0.17292639,\n         1.70640133, -1.32841514],\n       [ 1.        , -1.51037039, -0.5800947 , ...,  0.17292639,\n        -0.34237836, -0.23247787],\n       [ 1.        , -0.22672314,  1.29537708, ..., -0.02321697,\n        -0.3630731 ,  0.49814698]])"
     },
     "execution_count": 198,
     "metadata": {},
     "output_type": "execute_result"
    }
   ],
   "source": [
    "design_train"
   ],
   "metadata": {
    "collapsed": false,
    "ExecuteTime": {
     "end_time": "2025-04-20T00:54:39.655474Z",
     "start_time": "2025-04-20T00:54:39.642742Z"
    }
   },
   "id": "e33b398e1279592c"
  },
  {
   "cell_type": "code",
   "execution_count": 199,
   "outputs": [
    {
     "data": {
      "text/plain": "array([0.        , 0.86633933, 0.78091738, 0.80761377, 0.99483633,\n       0.78083635, 0.98498027, 0.67067564, 0.92293111, 0.89096449,\n       0.98612135, 0.73801871, 0.9990224 , 0.86077279, 0.97243782,\n       0.9993195 , 0.9993195 , 0.9993195 , 0.9993195 , 0.9993195 ,\n       0.9993195 ])"
     },
     "execution_count": 199,
     "metadata": {},
     "output_type": "execute_result"
    }
   ],
   "source": [
    "design_train.std(axis=0)"
   ],
   "metadata": {
    "collapsed": false,
    "ExecuteTime": {
     "end_time": "2025-04-20T00:54:40.161514Z",
     "start_time": "2025-04-20T00:54:40.143347Z"
    }
   },
   "id": "31321f65c82fcc6"
  },
  {
   "cell_type": "code",
   "execution_count": 200,
   "outputs": [
    {
     "data": {
      "text/plain": "array([0.        , 0.87850686, 0.78465437, 0.79840987, 0.99396775,\n       0.77836609, 0.98646269, 0.67557672, 0.92621893, 0.88931565,\n       0.98917161, 0.69592871, 0.9994111 , 0.84888042, 0.97292605,\n       1.01222734, 1.03310309, 0.97769863, 0.99383786, 0.95030807,\n       1.00635762])"
     },
     "execution_count": 200,
     "metadata": {},
     "output_type": "execute_result"
    }
   ],
   "source": [
    "design_test.std(axis=0)"
   ],
   "metadata": {
    "collapsed": false,
    "ExecuteTime": {
     "end_time": "2025-04-20T00:54:40.475008Z",
     "start_time": "2025-04-20T00:54:40.453250Z"
    }
   },
   "id": "59ca995b62346e25"
  },
  {
   "cell_type": "code",
   "execution_count": 201,
   "outputs": [
    {
     "name": "stdout",
     "output_type": "stream",
     "text": [
      "Selected groups: [0, 2, 5, 6, 7, 9, 11, 13]\n",
      "Naive Selected Groups: 8\n"
     ]
    }
   ],
   "source": [
    "const = group_lasso.gaussian\n",
    "result_naive, nonzero_naive, selected_groups_naive, soln \\\n",
    "    = naive_inference_real_data(X=design_train, Y=np.array(y_train), \n",
    "                                raw_data=np.array(x_train), \n",
    "                                groups=groups_train, const=const,\n",
    "                                n_features=x_train.shape[1], \n",
    "                                intercept=True, weight_frac=0.5, level=0.9,\n",
    "                                mode=\"weakhierarchy\", root_n_scaled=False)"
   ],
   "metadata": {
    "collapsed": false,
    "ExecuteTime": {
     "end_time": "2025-04-20T00:54:41.087508Z",
     "start_time": "2025-04-20T00:54:40.947317Z"
    }
   },
   "id": "f76292133b79dfda"
  },
  {
   "cell_type": "code",
   "execution_count": 202,
   "outputs": [
    {
     "data": {
      "text/plain": "     i   j      CI_l      CI_u  beta_hat      pval\n11   1   6 -0.004813 -0.000700 -0.002756  0.027287\n12   1   7 -0.119630 -0.024062 -0.071846  0.013275\n16   1  11 -0.096608 -0.006443 -0.051526  0.059787\n23   2  12  0.001351  0.017346  0.009349  0.054195\n36   4  11 -0.128926 -0.020201 -0.074563  0.023886\n50   6  12 -0.004974  0.000002 -0.002486  0.099853\n53   7  12 -0.287614 -0.007033 -0.147323  0.083714\n58   9  10  0.010666  0.404281  0.207473  0.082525\n59   9  12 -0.232027 -0.040315 -0.136171  0.019303\n62  11  12 -1.757318 -0.544371 -1.150845  0.001776",
      "text/html": "<div>\n<style scoped>\n    .dataframe tbody tr th:only-of-type {\n        vertical-align: middle;\n    }\n\n    .dataframe tbody tr th {\n        vertical-align: top;\n    }\n\n    .dataframe thead th {\n        text-align: right;\n    }\n</style>\n<table border=\"1\" class=\"dataframe\">\n  <thead>\n    <tr style=\"text-align: right;\">\n      <th></th>\n      <th>i</th>\n      <th>j</th>\n      <th>CI_l</th>\n      <th>CI_u</th>\n      <th>beta_hat</th>\n      <th>pval</th>\n    </tr>\n  </thead>\n  <tbody>\n    <tr>\n      <th>11</th>\n      <td>1</td>\n      <td>6</td>\n      <td>-0.004813</td>\n      <td>-0.000700</td>\n      <td>-0.002756</td>\n      <td>0.027287</td>\n    </tr>\n    <tr>\n      <th>12</th>\n      <td>1</td>\n      <td>7</td>\n      <td>-0.119630</td>\n      <td>-0.024062</td>\n      <td>-0.071846</td>\n      <td>0.013275</td>\n    </tr>\n    <tr>\n      <th>16</th>\n      <td>1</td>\n      <td>11</td>\n      <td>-0.096608</td>\n      <td>-0.006443</td>\n      <td>-0.051526</td>\n      <td>0.059787</td>\n    </tr>\n    <tr>\n      <th>23</th>\n      <td>2</td>\n      <td>12</td>\n      <td>0.001351</td>\n      <td>0.017346</td>\n      <td>0.009349</td>\n      <td>0.054195</td>\n    </tr>\n    <tr>\n      <th>36</th>\n      <td>4</td>\n      <td>11</td>\n      <td>-0.128926</td>\n      <td>-0.020201</td>\n      <td>-0.074563</td>\n      <td>0.023886</td>\n    </tr>\n    <tr>\n      <th>50</th>\n      <td>6</td>\n      <td>12</td>\n      <td>-0.004974</td>\n      <td>0.000002</td>\n      <td>-0.002486</td>\n      <td>0.099853</td>\n    </tr>\n    <tr>\n      <th>53</th>\n      <td>7</td>\n      <td>12</td>\n      <td>-0.287614</td>\n      <td>-0.007033</td>\n      <td>-0.147323</td>\n      <td>0.083714</td>\n    </tr>\n    <tr>\n      <th>58</th>\n      <td>9</td>\n      <td>10</td>\n      <td>0.010666</td>\n      <td>0.404281</td>\n      <td>0.207473</td>\n      <td>0.082525</td>\n    </tr>\n    <tr>\n      <th>59</th>\n      <td>9</td>\n      <td>12</td>\n      <td>-0.232027</td>\n      <td>-0.040315</td>\n      <td>-0.136171</td>\n      <td>0.019303</td>\n    </tr>\n    <tr>\n      <th>62</th>\n      <td>11</td>\n      <td>12</td>\n      <td>-1.757318</td>\n      <td>-0.544371</td>\n      <td>-1.150845</td>\n      <td>0.001776</td>\n    </tr>\n  </tbody>\n</table>\n</div>"
     },
     "execution_count": 202,
     "metadata": {},
     "output_type": "execute_result"
    }
   ],
   "source": [
    "pd.DataFrame(result_naive)[pd.DataFrame(result_naive)['pval'] < 0.1]"
   ],
   "metadata": {
    "collapsed": false,
    "ExecuteTime": {
     "end_time": "2025-04-20T00:54:41.546352Z",
     "start_time": "2025-04-20T00:54:41.533662Z"
    }
   },
   "id": "e75a5b4cf30d64d6"
  },
  {
   "cell_type": "code",
   "execution_count": 203,
   "outputs": [
    {
     "name": "stdout",
     "output_type": "stream",
     "text": [
      "Selected groups: [0, 2, 5, 6, 8, 9, 11, 13]\n",
      "MLE Selected Groups: 8\n"
     ]
    }
   ],
   "source": [
    "result_MLE, nonzero_MLE, selected_groups_MLE, soln_MLE\\\n",
    "    = MLE_inference_real_data(X=design_train, Y=np.array(y_train), \n",
    "                              raw_data=np.array(x_train), groups=groups_train, \n",
    "                              n_features=x_train.shape[1], \n",
    "                              intercept=True, weight_frac=0.5, level=0.9, \n",
    "                              mode=\"weakhierarchy\", \n",
    "                              root_n_scaled=False, proportion=0.9)"
   ],
   "metadata": {
    "collapsed": false,
    "ExecuteTime": {
     "end_time": "2025-04-20T00:54:51.008392Z",
     "start_time": "2025-04-20T00:54:42.302326Z"
    }
   },
   "id": "1688c0927ea695a5"
  },
  {
   "cell_type": "code",
   "execution_count": 204,
   "outputs": [
    {
     "data": {
      "text/plain": "    i   j       CI_l      CI_u   beta_hat      pval\n7   1   2   0.007807  0.023873   0.015840  0.001182\n11  1   6  -0.020166 -0.005309  -0.012738  0.004795\n12  1   7  -0.259521 -0.035893  -0.147707  0.029791\n22  2  10   0.002295  0.033528   0.017911  0.059217\n31  4   6  -0.011866 -0.003237  -0.007552  0.003987\n36  4  11  -0.284397 -0.000538  -0.142467  0.098721\n38  5   6  -0.004950 -0.001493  -0.003221  0.002177\n45  6   7  -0.030070 -0.008752  -0.019411  0.002741\n46  6   8 -31.842092 -0.603693 -16.222893  0.087557\n47  6  10  -0.036473 -0.007934  -0.022204  0.010484\n48  6  12  -0.018225 -0.004957  -0.011591  0.004054\n51  7  10  -1.235729 -0.237614  -0.736671  0.015182\n58  9  10   0.208086  0.736753   0.472419  0.003285",
      "text/html": "<div>\n<style scoped>\n    .dataframe tbody tr th:only-of-type {\n        vertical-align: middle;\n    }\n\n    .dataframe tbody tr th {\n        vertical-align: top;\n    }\n\n    .dataframe thead th {\n        text-align: right;\n    }\n</style>\n<table border=\"1\" class=\"dataframe\">\n  <thead>\n    <tr style=\"text-align: right;\">\n      <th></th>\n      <th>i</th>\n      <th>j</th>\n      <th>CI_l</th>\n      <th>CI_u</th>\n      <th>beta_hat</th>\n      <th>pval</th>\n    </tr>\n  </thead>\n  <tbody>\n    <tr>\n      <th>7</th>\n      <td>1</td>\n      <td>2</td>\n      <td>0.007807</td>\n      <td>0.023873</td>\n      <td>0.015840</td>\n      <td>0.001182</td>\n    </tr>\n    <tr>\n      <th>11</th>\n      <td>1</td>\n      <td>6</td>\n      <td>-0.020166</td>\n      <td>-0.005309</td>\n      <td>-0.012738</td>\n      <td>0.004795</td>\n    </tr>\n    <tr>\n      <th>12</th>\n      <td>1</td>\n      <td>7</td>\n      <td>-0.259521</td>\n      <td>-0.035893</td>\n      <td>-0.147707</td>\n      <td>0.029791</td>\n    </tr>\n    <tr>\n      <th>22</th>\n      <td>2</td>\n      <td>10</td>\n      <td>0.002295</td>\n      <td>0.033528</td>\n      <td>0.017911</td>\n      <td>0.059217</td>\n    </tr>\n    <tr>\n      <th>31</th>\n      <td>4</td>\n      <td>6</td>\n      <td>-0.011866</td>\n      <td>-0.003237</td>\n      <td>-0.007552</td>\n      <td>0.003987</td>\n    </tr>\n    <tr>\n      <th>36</th>\n      <td>4</td>\n      <td>11</td>\n      <td>-0.284397</td>\n      <td>-0.000538</td>\n      <td>-0.142467</td>\n      <td>0.098721</td>\n    </tr>\n    <tr>\n      <th>38</th>\n      <td>5</td>\n      <td>6</td>\n      <td>-0.004950</td>\n      <td>-0.001493</td>\n      <td>-0.003221</td>\n      <td>0.002177</td>\n    </tr>\n    <tr>\n      <th>45</th>\n      <td>6</td>\n      <td>7</td>\n      <td>-0.030070</td>\n      <td>-0.008752</td>\n      <td>-0.019411</td>\n      <td>0.002741</td>\n    </tr>\n    <tr>\n      <th>46</th>\n      <td>6</td>\n      <td>8</td>\n      <td>-31.842092</td>\n      <td>-0.603693</td>\n      <td>-16.222893</td>\n      <td>0.087557</td>\n    </tr>\n    <tr>\n      <th>47</th>\n      <td>6</td>\n      <td>10</td>\n      <td>-0.036473</td>\n      <td>-0.007934</td>\n      <td>-0.022204</td>\n      <td>0.010484</td>\n    </tr>\n    <tr>\n      <th>48</th>\n      <td>6</td>\n      <td>12</td>\n      <td>-0.018225</td>\n      <td>-0.004957</td>\n      <td>-0.011591</td>\n      <td>0.004054</td>\n    </tr>\n    <tr>\n      <th>51</th>\n      <td>7</td>\n      <td>10</td>\n      <td>-1.235729</td>\n      <td>-0.237614</td>\n      <td>-0.736671</td>\n      <td>0.015182</td>\n    </tr>\n    <tr>\n      <th>58</th>\n      <td>9</td>\n      <td>10</td>\n      <td>0.208086</td>\n      <td>0.736753</td>\n      <td>0.472419</td>\n      <td>0.003285</td>\n    </tr>\n  </tbody>\n</table>\n</div>"
     },
     "execution_count": 204,
     "metadata": {},
     "output_type": "execute_result"
    }
   ],
   "source": [
    "pd.DataFrame(result_MLE)[pd.DataFrame(result_MLE)['pval'] < 0.1]"
   ],
   "metadata": {
    "collapsed": false,
    "ExecuteTime": {
     "end_time": "2025-04-20T00:54:52.382521Z",
     "start_time": "2025-04-20T00:54:52.359001Z"
    }
   },
   "id": "b9234f1fb2da634a"
  },
  {
   "cell_type": "code",
   "execution_count": 205,
   "outputs": [],
   "source": [
    "result_naive_validate = validate(x_test, design_test, y_test, nonzero_naive, \n",
    "                                 selected_groups_naive, groups = groups_train, \n",
    "                                 n_features=x_train.shape[1],\n",
    "                                 intercept=True, mode=\"weakhierarchy\", level=0.9)"
   ],
   "metadata": {
    "collapsed": false,
    "ExecuteTime": {
     "end_time": "2025-04-20T00:55:01.192956Z",
     "start_time": "2025-04-20T00:54:53.084655Z"
    }
   },
   "id": "52eb999ec11d4020"
  },
  {
   "cell_type": "code",
   "execution_count": 206,
   "outputs": [
    {
     "data": {
      "text/plain": "     i   j      CI_l          CI_u  beta_hat      pval\n0    0   1 -0.000073  5.145407e-05 -0.000011  0.775068\n1    0   4 -0.000019  8.652867e-05  0.000034  0.289526\n2    0   5 -0.000027  1.682326e-05 -0.000005  0.704026\n3    0   6 -0.000010 -5.272651e-07 -0.000005  0.068445\n4    0   8 -0.011780  3.088742e-01  0.148547  0.127455\n..  ..  ..       ...           ...       ...       ...\n58   9  10 -0.009610  6.605867e-02  0.028224  0.219732\n59   9  12 -0.037986  1.241174e-03 -0.018372  0.123321\n60  10  11 -0.133604  1.502106e-02 -0.059292  0.189332\n61  10  12 -0.119281  1.041259e-02 -0.054434  0.167301\n62  11  12 -0.270793 -2.138874e-02 -0.146091  0.053949\n\n[63 rows x 6 columns]",
      "text/html": "<div>\n<style scoped>\n    .dataframe tbody tr th:only-of-type {\n        vertical-align: middle;\n    }\n\n    .dataframe tbody tr th {\n        vertical-align: top;\n    }\n\n    .dataframe thead th {\n        text-align: right;\n    }\n</style>\n<table border=\"1\" class=\"dataframe\">\n  <thead>\n    <tr style=\"text-align: right;\">\n      <th></th>\n      <th>i</th>\n      <th>j</th>\n      <th>CI_l</th>\n      <th>CI_u</th>\n      <th>beta_hat</th>\n      <th>pval</th>\n    </tr>\n  </thead>\n  <tbody>\n    <tr>\n      <th>0</th>\n      <td>0</td>\n      <td>1</td>\n      <td>-0.000073</td>\n      <td>5.145407e-05</td>\n      <td>-0.000011</td>\n      <td>0.775068</td>\n    </tr>\n    <tr>\n      <th>1</th>\n      <td>0</td>\n      <td>4</td>\n      <td>-0.000019</td>\n      <td>8.652867e-05</td>\n      <td>0.000034</td>\n      <td>0.289526</td>\n    </tr>\n    <tr>\n      <th>2</th>\n      <td>0</td>\n      <td>5</td>\n      <td>-0.000027</td>\n      <td>1.682326e-05</td>\n      <td>-0.000005</td>\n      <td>0.704026</td>\n    </tr>\n    <tr>\n      <th>3</th>\n      <td>0</td>\n      <td>6</td>\n      <td>-0.000010</td>\n      <td>-5.272651e-07</td>\n      <td>-0.000005</td>\n      <td>0.068445</td>\n    </tr>\n    <tr>\n      <th>4</th>\n      <td>0</td>\n      <td>8</td>\n      <td>-0.011780</td>\n      <td>3.088742e-01</td>\n      <td>0.148547</td>\n      <td>0.127455</td>\n    </tr>\n    <tr>\n      <th>...</th>\n      <td>...</td>\n      <td>...</td>\n      <td>...</td>\n      <td>...</td>\n      <td>...</td>\n      <td>...</td>\n    </tr>\n    <tr>\n      <th>58</th>\n      <td>9</td>\n      <td>10</td>\n      <td>-0.009610</td>\n      <td>6.605867e-02</td>\n      <td>0.028224</td>\n      <td>0.219732</td>\n    </tr>\n    <tr>\n      <th>59</th>\n      <td>9</td>\n      <td>12</td>\n      <td>-0.037986</td>\n      <td>1.241174e-03</td>\n      <td>-0.018372</td>\n      <td>0.123321</td>\n    </tr>\n    <tr>\n      <th>60</th>\n      <td>10</td>\n      <td>11</td>\n      <td>-0.133604</td>\n      <td>1.502106e-02</td>\n      <td>-0.059292</td>\n      <td>0.189332</td>\n    </tr>\n    <tr>\n      <th>61</th>\n      <td>10</td>\n      <td>12</td>\n      <td>-0.119281</td>\n      <td>1.041259e-02</td>\n      <td>-0.054434</td>\n      <td>0.167301</td>\n    </tr>\n    <tr>\n      <th>62</th>\n      <td>11</td>\n      <td>12</td>\n      <td>-0.270793</td>\n      <td>-2.138874e-02</td>\n      <td>-0.146091</td>\n      <td>0.053949</td>\n    </tr>\n  </tbody>\n</table>\n<p>63 rows × 6 columns</p>\n</div>"
     },
     "execution_count": 206,
     "metadata": {},
     "output_type": "execute_result"
    }
   ],
   "source": [
    "pd.DataFrame(result_naive_validate)"
   ],
   "metadata": {
    "collapsed": false,
    "ExecuteTime": {
     "end_time": "2025-04-20T00:55:15.012548Z",
     "start_time": "2025-04-20T00:55:14.995897Z"
    }
   },
   "id": "49786ab4af8a8fd1"
  },
  {
   "cell_type": "code",
   "execution_count": 207,
   "outputs": [],
   "source": [
    "result_MLE_validate = validate(x_test, design_test, y_test, nonzero_MLE, \n",
    "                                 selected_groups_MLE, groups = groups_train, \n",
    "                                 n_features=x_train.shape[1],\n",
    "                                 intercept=True, mode=\"weakhierarchy\", level=0.9)"
   ],
   "metadata": {
    "collapsed": false,
    "ExecuteTime": {
     "end_time": "2025-04-20T00:55:24.112388Z",
     "start_time": "2025-04-20T00:55:15.833666Z"
    }
   },
   "id": "11af39cda33ea804"
  },
  {
   "cell_type": "code",
   "execution_count": 208,
   "outputs": [
    {
     "data": {
      "text/plain": "     i   j      CI_l      CI_u      beta_hat      pval\n0    0   1 -0.000095  0.000094 -8.195860e-07  0.988624\n1    0   4 -0.000021  0.000082  3.059197e-05  0.327620\n2    0   5 -0.000027  0.000016 -5.558756e-06  0.670297\n3    0   7 -0.000075  0.000161  4.278047e-05  0.551774\n4    0   8 -0.011500  0.309137  1.488186e-01  0.126740\n..  ..  ..       ...       ...           ...       ...\n58   9  10 -0.009445  0.066206  2.838057e-02  0.217092\n59   9  12 -0.000287  0.000176 -5.551420e-05  0.693814\n60  10  11 -0.132724  0.015817 -5.845333e-02  0.195411\n61  10  12 -0.039436  0.011700 -1.386768e-02  0.372251\n62  11  12 -0.014976  0.007390 -3.793067e-03  0.576868\n\n[63 rows x 6 columns]",
      "text/html": "<div>\n<style scoped>\n    .dataframe tbody tr th:only-of-type {\n        vertical-align: middle;\n    }\n\n    .dataframe tbody tr th {\n        vertical-align: top;\n    }\n\n    .dataframe thead th {\n        text-align: right;\n    }\n</style>\n<table border=\"1\" class=\"dataframe\">\n  <thead>\n    <tr style=\"text-align: right;\">\n      <th></th>\n      <th>i</th>\n      <th>j</th>\n      <th>CI_l</th>\n      <th>CI_u</th>\n      <th>beta_hat</th>\n      <th>pval</th>\n    </tr>\n  </thead>\n  <tbody>\n    <tr>\n      <th>0</th>\n      <td>0</td>\n      <td>1</td>\n      <td>-0.000095</td>\n      <td>0.000094</td>\n      <td>-8.195860e-07</td>\n      <td>0.988624</td>\n    </tr>\n    <tr>\n      <th>1</th>\n      <td>0</td>\n      <td>4</td>\n      <td>-0.000021</td>\n      <td>0.000082</td>\n      <td>3.059197e-05</td>\n      <td>0.327620</td>\n    </tr>\n    <tr>\n      <th>2</th>\n      <td>0</td>\n      <td>5</td>\n      <td>-0.000027</td>\n      <td>0.000016</td>\n      <td>-5.558756e-06</td>\n      <td>0.670297</td>\n    </tr>\n    <tr>\n      <th>3</th>\n      <td>0</td>\n      <td>7</td>\n      <td>-0.000075</td>\n      <td>0.000161</td>\n      <td>4.278047e-05</td>\n      <td>0.551774</td>\n    </tr>\n    <tr>\n      <th>4</th>\n      <td>0</td>\n      <td>8</td>\n      <td>-0.011500</td>\n      <td>0.309137</td>\n      <td>1.488186e-01</td>\n      <td>0.126740</td>\n    </tr>\n    <tr>\n      <th>...</th>\n      <td>...</td>\n      <td>...</td>\n      <td>...</td>\n      <td>...</td>\n      <td>...</td>\n      <td>...</td>\n    </tr>\n    <tr>\n      <th>58</th>\n      <td>9</td>\n      <td>10</td>\n      <td>-0.009445</td>\n      <td>0.066206</td>\n      <td>2.838057e-02</td>\n      <td>0.217092</td>\n    </tr>\n    <tr>\n      <th>59</th>\n      <td>9</td>\n      <td>12</td>\n      <td>-0.000287</td>\n      <td>0.000176</td>\n      <td>-5.551420e-05</td>\n      <td>0.693814</td>\n    </tr>\n    <tr>\n      <th>60</th>\n      <td>10</td>\n      <td>11</td>\n      <td>-0.132724</td>\n      <td>0.015817</td>\n      <td>-5.845333e-02</td>\n      <td>0.195411</td>\n    </tr>\n    <tr>\n      <th>61</th>\n      <td>10</td>\n      <td>12</td>\n      <td>-0.039436</td>\n      <td>0.011700</td>\n      <td>-1.386768e-02</td>\n      <td>0.372251</td>\n    </tr>\n    <tr>\n      <th>62</th>\n      <td>11</td>\n      <td>12</td>\n      <td>-0.014976</td>\n      <td>0.007390</td>\n      <td>-3.793067e-03</td>\n      <td>0.576868</td>\n    </tr>\n  </tbody>\n</table>\n<p>63 rows × 6 columns</p>\n</div>"
     },
     "execution_count": 208,
     "metadata": {},
     "output_type": "execute_result"
    }
   ],
   "source": [
    "pd.DataFrame(result_MLE_validate)"
   ],
   "metadata": {
    "collapsed": false,
    "ExecuteTime": {
     "end_time": "2025-04-20T00:55:24.140995Z",
     "start_time": "2025-04-20T00:55:24.125384Z"
    }
   },
   "id": "3e590182b64d7d44"
  },
  {
   "cell_type": "code",
   "execution_count": 209,
   "outputs": [],
   "source": [
    "naive_df = pd.DataFrame(result_naive)\n",
    "naive_significant = \\\n",
    "    [(naive_df[\"i\"][k], naive_df[\"j\"][k]) for k in range(naive_df.shape[0])\n",
    "     if naive_df[\"pval\"][k] < 0.1]\n",
    "naive_insig = \\\n",
    "    [(naive_df[\"i\"][k], naive_df[\"j\"][k]) for k in range(naive_df.shape[0])\n",
    "     if naive_df[\"pval\"][k] >= 0.1]"
   ],
   "metadata": {
    "collapsed": false,
    "ExecuteTime": {
     "end_time": "2025-04-20T00:55:24.141098Z",
     "start_time": "2025-04-20T00:55:24.130717Z"
    }
   },
   "id": "45621d33a4e77d07"
  },
  {
   "cell_type": "code",
   "execution_count": 210,
   "outputs": [],
   "source": [
    "naive_test_df = pd.DataFrame(result_naive_validate)\n",
    "naive_test_significant = \\\n",
    "    [(naive_test_df[\"i\"][k], naive_test_df[\"j\"][k]) for k in range(naive_test_df.shape[0])\n",
    "     if naive_test_df[\"pval\"][k] < 0.1]\n",
    "naive_test_insig = \\\n",
    "    [(naive_test_df[\"i\"][k], naive_test_df[\"j\"][k]) for k in range(naive_test_df.shape[0])\n",
    "     if naive_test_df[\"pval\"][k] >= 0.1]"
   ],
   "metadata": {
    "collapsed": false,
    "ExecuteTime": {
     "end_time": "2025-04-20T00:55:24.196714Z",
     "start_time": "2025-04-20T00:55:24.137028Z"
    }
   },
   "id": "fab2269a70c7253b"
  },
  {
   "cell_type": "code",
   "execution_count": 211,
   "outputs": [],
   "source": [
    "naive_all = [(naive_test_df[\"i\"][k], naive_test_df[\"j\"][k]) \n",
    "             for k in range(naive_test_df.shape[0])]"
   ],
   "metadata": {
    "collapsed": false,
    "ExecuteTime": {
     "end_time": "2025-04-20T00:55:24.209552Z",
     "start_time": "2025-04-20T00:55:24.140763Z"
    }
   },
   "id": "efc058bc7031e42a"
  },
  {
   "cell_type": "code",
   "execution_count": 212,
   "outputs": [
    {
     "data": {
      "text/plain": "0.4"
     },
     "execution_count": 212,
     "metadata": {},
     "output_type": "execute_result"
    }
   ],
   "source": [
    "len(set(naive_test_significant).intersection(set(naive_significant))) / len(set(naive_significant))"
   ],
   "metadata": {
    "collapsed": false,
    "ExecuteTime": {
     "end_time": "2025-04-20T00:55:24.244723Z",
     "start_time": "2025-04-20T00:55:24.144160Z"
    }
   },
   "id": "52d55961b38f939d"
  },
  {
   "cell_type": "code",
   "execution_count": 213,
   "outputs": [
    {
     "data": {
      "text/plain": "0.8064516129032258"
     },
     "execution_count": 213,
     "metadata": {},
     "output_type": "execute_result"
    }
   ],
   "source": [
    "len(set(naive_test_insig).intersection(set(naive_insig))) / len(set(naive_test_insig))"
   ],
   "metadata": {
    "collapsed": false,
    "ExecuteTime": {
     "end_time": "2025-04-20T00:55:24.245259Z",
     "start_time": "2025-04-20T00:55:24.147798Z"
    }
   },
   "id": "5e2fd6078bb7b85c"
  },
  {
   "cell_type": "code",
   "execution_count": 214,
   "outputs": [],
   "source": [
    "MLE_df = pd.DataFrame(result_MLE)\n",
    "MLE_significant = \\\n",
    "    [(MLE_df[\"i\"][k], MLE_df[\"j\"][k]) for k in range(MLE_df.shape[0])\n",
    "     if MLE_df[\"pval\"][k] < 0.1]\n",
    "MLE_insig = \\\n",
    "    [(MLE_df[\"i\"][k], MLE_df[\"j\"][k]) for k in range(MLE_df.shape[0])\n",
    "     if MLE_df[\"pval\"][k] >= 0.1]"
   ],
   "metadata": {
    "collapsed": false,
    "ExecuteTime": {
     "end_time": "2025-04-20T00:55:24.245413Z",
     "start_time": "2025-04-20T00:55:24.154090Z"
    }
   },
   "id": "aeec3ddd30bd3b88"
  },
  {
   "cell_type": "code",
   "execution_count": 214,
   "outputs": [],
   "source": [],
   "metadata": {
    "collapsed": false,
    "ExecuteTime": {
     "end_time": "2025-04-20T00:55:24.245458Z",
     "start_time": "2025-04-20T00:55:24.156311Z"
    }
   },
   "id": "d45e557684310d28"
  },
  {
   "cell_type": "code",
   "execution_count": 215,
   "outputs": [
    {
     "data": {
      "text/plain": "13"
     },
     "execution_count": 215,
     "metadata": {},
     "output_type": "execute_result"
    }
   ],
   "source": [
    "len(MLE_significant)"
   ],
   "metadata": {
    "collapsed": false,
    "ExecuteTime": {
     "end_time": "2025-04-20T00:55:24.245656Z",
     "start_time": "2025-04-20T00:55:24.163823Z"
    }
   },
   "id": "822c011fdc8b2ebe"
  },
  {
   "cell_type": "code",
   "execution_count": 216,
   "outputs": [],
   "source": [
    "MLE_test_df = pd.DataFrame(result_MLE_validate)\n",
    "MLE_test_significant = \\\n",
    "    [(MLE_test_df[\"i\"][k], MLE_test_df[\"j\"][k]) for k in range(MLE_test_df.shape[0])\n",
    "     if MLE_test_df[\"pval\"][k] < 0.1]\n",
    "MLE_test_insig = \\\n",
    "    [(MLE_test_df[\"i\"][k], MLE_test_df[\"j\"][k]) for k in range(MLE_test_df.shape[0])\n",
    "     if MLE_test_df[\"pval\"][k] >= 0.1]"
   ],
   "metadata": {
    "collapsed": false,
    "ExecuteTime": {
     "end_time": "2025-04-20T00:55:24.245723Z",
     "start_time": "2025-04-20T00:55:24.170821Z"
    }
   },
   "id": "188a5e3c21d2c9dd"
  },
  {
   "cell_type": "code",
   "execution_count": 217,
   "outputs": [],
   "source": [
    "MLE_all = [(MLE_test_df[\"i\"][k], MLE_test_df[\"j\"][k]) \n",
    "             for k in range(MLE_test_df.shape[0])]"
   ],
   "metadata": {
    "collapsed": false,
    "ExecuteTime": {
     "end_time": "2025-04-20T00:55:24.245920Z",
     "start_time": "2025-04-20T00:55:24.174661Z"
    }
   },
   "id": "f56660d486ff0419"
  },
  {
   "cell_type": "code",
   "execution_count": 218,
   "outputs": [],
   "source": [
    "alpha = 0.1\n",
    "naive_train = [(naive_df[\"pval\"][k] < alpha) for k in range(naive_df.shape[0])]\n",
    "naive_test = [(naive_test_df[\"pval\"][k] < alpha) for k in range(naive_test_df.shape[0])]"
   ],
   "metadata": {
    "collapsed": false,
    "ExecuteTime": {
     "end_time": "2025-04-20T00:55:24.245967Z",
     "start_time": "2025-04-20T00:55:24.177930Z"
    }
   },
   "id": "29097569bbd5084c"
  },
  {
   "cell_type": "code",
   "execution_count": 219,
   "outputs": [
    {
     "data": {
      "text/plain": "array([[25,  6],\n       [28,  4]])"
     },
     "execution_count": 219,
     "metadata": {},
     "output_type": "execute_result"
    }
   ],
   "source": [
    "from sklearn.metrics import confusion_matrix\n",
    "# tn, fp, \n",
    "# fn, tp\n",
    "confusion_matrix(naive_test, naive_train)"
   ],
   "metadata": {
    "collapsed": false,
    "ExecuteTime": {
     "end_time": "2025-04-20T00:55:24.246090Z",
     "start_time": "2025-04-20T00:55:24.184160Z"
    }
   },
   "id": "2aa93f139939e593"
  },
  {
   "cell_type": "code",
   "execution_count": 220,
   "outputs": [
    {
     "data": {
      "text/plain": "0.19047619047619047"
     },
     "execution_count": 220,
     "metadata": {},
     "output_type": "execute_result"
    }
   ],
   "source": [
    "from sklearn.metrics import f1_score\n",
    "f1_score(naive_test, naive_train)"
   ],
   "metadata": {
    "collapsed": false,
    "ExecuteTime": {
     "end_time": "2025-04-20T00:55:24.246173Z",
     "start_time": "2025-04-20T00:55:24.188946Z"
    }
   },
   "id": "23fc9eb06f9d29da"
  },
  {
   "cell_type": "code",
   "execution_count": 221,
   "outputs": [],
   "source": [
    "MLE_train = [(MLE_df[\"pval\"][k] < alpha) for k in range(MLE_df.shape[0])]\n",
    "MLE_test = [(MLE_test_df[\"pval\"][k] < alpha) for k in range(MLE_test_df.shape[0])]"
   ],
   "metadata": {
    "collapsed": false,
    "ExecuteTime": {
     "end_time": "2025-04-20T00:55:24.248462Z",
     "start_time": "2025-04-20T00:55:24.196642Z"
    }
   },
   "id": "4a76ca09d381e829"
  },
  {
   "cell_type": "code",
   "execution_count": 222,
   "outputs": [
    {
     "data": {
      "text/plain": "array([[32,  5],\n       [18,  8]])"
     },
     "execution_count": 222,
     "metadata": {},
     "output_type": "execute_result"
    }
   ],
   "source": [
    "from sklearn.metrics import confusion_matrix, precision_score, recall_score\n",
    "# tn, fp, \n",
    "# fn, tp\n",
    "confusion_matrix(MLE_test, MLE_train)"
   ],
   "metadata": {
    "collapsed": false,
    "ExecuteTime": {
     "end_time": "2025-04-20T00:55:24.248567Z",
     "start_time": "2025-04-20T00:55:24.199512Z"
    }
   },
   "id": "e516641693634377"
  },
  {
   "cell_type": "code",
   "execution_count": 223,
   "outputs": [],
   "source": [
    "tn, fp = confusion_matrix(MLE_test, MLE_train)[0]\n",
    "fn, tp = confusion_matrix(MLE_test, MLE_train)[1]"
   ],
   "metadata": {
    "collapsed": false,
    "ExecuteTime": {
     "end_time": "2025-04-20T00:55:24.248612Z",
     "start_time": "2025-04-20T00:55:24.204689Z"
    }
   },
   "id": "e6881ce5361fc3d5"
  },
  {
   "cell_type": "code",
   "execution_count": 224,
   "outputs": [
    {
     "data": {
      "text/plain": "(32, 5, 18, 8)"
     },
     "execution_count": 224,
     "metadata": {},
     "output_type": "execute_result"
    }
   ],
   "source": [
    "tn, fp, fn, tp"
   ],
   "metadata": {
    "collapsed": false,
    "ExecuteTime": {
     "end_time": "2025-04-20T00:55:24.257375Z",
     "start_time": "2025-04-20T00:55:24.209995Z"
    }
   },
   "id": "ffedc295ecd95df6"
  },
  {
   "cell_type": "code",
   "execution_count": 225,
   "outputs": [
    {
     "data": {
      "text/plain": "0.3076923076923077"
     },
     "execution_count": 225,
     "metadata": {},
     "output_type": "execute_result"
    }
   ],
   "source": [
    "recall_score(MLE_test, MLE_train)"
   ],
   "metadata": {
    "collapsed": false,
    "ExecuteTime": {
     "end_time": "2025-04-20T00:55:24.313170Z",
     "start_time": "2025-04-20T00:55:24.213244Z"
    }
   },
   "id": "e2cd83e4f0be583c"
  },
  {
   "cell_type": "code",
   "execution_count": 226,
   "outputs": [
    {
     "data": {
      "text/plain": "0.41025641025641024"
     },
     "execution_count": 226,
     "metadata": {},
     "output_type": "execute_result"
    }
   ],
   "source": [
    "from sklearn.metrics import f1_score\n",
    "f1_score(MLE_test, MLE_train)"
   ],
   "metadata": {
    "collapsed": false,
    "ExecuteTime": {
     "end_time": "2025-04-20T00:55:24.316179Z",
     "start_time": "2025-04-20T00:55:24.219776Z"
    }
   },
   "id": "2e42ec89b9ef49be"
  },
  {
   "cell_type": "code",
   "execution_count": 227,
   "outputs": [
    {
     "data": {
      "text/plain": "8"
     },
     "execution_count": 227,
     "metadata": {},
     "output_type": "execute_result"
    }
   ],
   "source": [
    "len(set(MLE_test_significant).intersection(set(MLE_significant)))# / len(MLE_test_significant)"
   ],
   "metadata": {
    "collapsed": false,
    "ExecuteTime": {
     "end_time": "2025-04-20T00:55:24.316925Z",
     "start_time": "2025-04-20T00:55:24.224741Z"
    }
   },
   "id": "9bd169c279cb4113"
  },
  {
   "cell_type": "code",
   "execution_count": 228,
   "outputs": [],
   "source": [
    "def predict(beta_hat, X_test):\n",
    "    return X_test.dot(beta_hat)"
   ],
   "metadata": {
    "collapsed": false,
    "ExecuteTime": {
     "end_time": "2025-04-20T00:55:24.335740Z",
     "start_time": "2025-04-20T00:55:24.227593Z"
    }
   },
   "id": "7b918b0ce5932879"
  },
  {
   "cell_type": "code",
   "execution_count": 229,
   "outputs": [
    {
     "data": {
      "text/plain": "32"
     },
     "execution_count": 229,
     "metadata": {},
     "output_type": "execute_result"
    }
   ],
   "source": [
    "len(set(MLE_test_insig).intersection(set(MLE_insig)))# / len(set(MLE_test_insig))"
   ],
   "metadata": {
    "collapsed": false,
    "ExecuteTime": {
     "end_time": "2025-04-20T00:55:24.336154Z",
     "start_time": "2025-04-20T00:55:24.230630Z"
    }
   },
   "id": "4658b34b32962cef"
  },
  {
   "cell_type": "code",
   "execution_count": 230,
   "outputs": [
    {
     "data": {
      "text/plain": "Index(['distance', 'plane_age', 'seats', 'temp', 'dewp', 'humid', 'wind_dir',\n       'wind_speed', 'precip', 'pressure', 'visib', 'sched_dep_hour',\n       'sched_arr_hour'],\n      dtype='object')"
     },
     "execution_count": 230,
     "metadata": {},
     "output_type": "execute_result"
    }
   ],
   "source": [
    "X.columns"
   ],
   "metadata": {
    "collapsed": false,
    "ExecuteTime": {
     "end_time": "2025-04-20T00:55:25.686916Z",
     "start_time": "2025-04-20T00:55:25.665963Z"
    }
   },
   "id": "ef90e3620e07eb6a"
  },
  {
   "cell_type": "code",
   "execution_count": 231,
   "outputs": [
    {
     "data": {
      "text/plain": "array([[ 1.        , -1.29469158, -0.51859089, ..., -0.02321697,\n         1.70640133,  0.49814698],\n       [ 1.        , -1.19756794, -0.48768174, ..., -0.61164706,\n        -0.34237836,  0.49814698],\n       [ 1.        , -1.29469158, -0.51859089, ..., -1.20007715,\n        -0.3630731 ,  0.49814698],\n       ...,\n       [ 1.        , -0.12116343,  1.10133351, ...,  0.17292639,\n         1.70640133, -1.32841514],\n       [ 1.        , -1.51037039, -0.5800947 , ...,  0.17292639,\n        -0.34237836, -0.23247787],\n       [ 1.        , -0.22672314,  1.29537708, ..., -0.02321697,\n        -0.3630731 ,  0.49814698]])"
     },
     "execution_count": 231,
     "metadata": {},
     "output_type": "execute_result"
    }
   ],
   "source": [
    "design_train"
   ],
   "metadata": {
    "collapsed": false,
    "ExecuteTime": {
     "end_time": "2025-04-20T00:55:32.275266Z",
     "start_time": "2025-04-20T00:55:32.257717Z"
    }
   },
   "id": "ac6e31e58b0aa39e"
  },
  {
   "cell_type": "code",
   "execution_count": 232,
   "outputs": [
    {
     "data": {
      "text/plain": "array([ 0,  1,  1,  2,  2,  3,  3,  4,  4,  5,  5,  6,  6,  7,  7,  8,  9,\n       10, 11, 12, 13])"
     },
     "execution_count": 232,
     "metadata": {},
     "output_type": "execute_result"
    }
   ],
   "source": [
    "groups_train"
   ],
   "metadata": {
    "collapsed": false,
    "ExecuteTime": {
     "end_time": "2025-04-20T00:55:32.519759Z",
     "start_time": "2025-04-20T00:55:32.480749Z"
    }
   },
   "id": "531f40c2d9a901ef"
  },
  {
   "cell_type": "code",
   "execution_count": 233,
   "outputs": [
    {
     "data": {
      "text/plain": "array([ 1.83432169e+01,  0.00000000e+00,  0.00000000e+00, -2.80929868e+00,\n       -3.85428401e+00,  0.00000000e+00,  0.00000000e+00,  0.00000000e+00,\n        0.00000000e+00, -1.64572227e-01,  3.88138541e-02,  2.17299213e+00,\n        4.20310084e+00,  0.00000000e+00,  0.00000000e+00, -4.84394994e-03,\n       -4.64128068e-01,  0.00000000e+00,  4.61192926e+00,  0.00000000e+00,\n       -2.33607682e+00])"
     },
     "execution_count": 233,
     "metadata": {},
     "output_type": "execute_result"
    }
   ],
   "source": [
    "soln_MLE"
   ],
   "metadata": {
    "collapsed": false,
    "ExecuteTime": {
     "end_time": "2025-04-20T00:55:32.934772Z",
     "start_time": "2025-04-20T00:55:32.919583Z"
    }
   },
   "id": "53a658d868449782"
  },
  {
   "cell_type": "code",
   "execution_count": 234,
   "outputs": [
    {
     "data": {
      "text/plain": "[0, 2, 5, 6, 8, 9, 11, 13]"
     },
     "execution_count": 234,
     "metadata": {},
     "output_type": "execute_result"
    }
   ],
   "source": [
    "selected_groups_MLE"
   ],
   "metadata": {
    "collapsed": false,
    "ExecuteTime": {
     "end_time": "2025-04-20T00:55:33.472512Z",
     "start_time": "2025-04-20T00:55:33.462270Z"
    }
   },
   "id": "6b7b472b2a9d0d79"
  },
  {
   "cell_type": "code",
   "execution_count": 234,
   "outputs": [],
   "source": [],
   "metadata": {
    "collapsed": false,
    "ExecuteTime": {
     "end_time": "2025-04-20T00:55:33.903797Z",
     "start_time": "2025-04-20T00:55:33.886076Z"
    }
   },
   "id": "84550bc4ff4c70d2"
  },
  {
   "cell_type": "code",
   "execution_count": 235,
   "outputs": [
    {
     "data": {
      "text/plain": "<matplotlib.collections.PathCollection at 0x7f79092997f0>"
     },
     "execution_count": 235,
     "metadata": {},
     "output_type": "execute_result"
    },
    {
     "data": {
      "text/plain": "<Figure size 640x480 with 1 Axes>",
      "image/png": "[encoded data removed]"
     },
     "metadata": {},
     "output_type": "display_data"
    }
   ],
   "source": [
    "plt.scatter(y=design_train[:,groups_train == 2] @ soln_MLE[groups_train == 2],\n",
    "            x=x_train_nl['temp'])"
   ],
   "metadata": {
    "collapsed": false,
    "ExecuteTime": {
     "end_time": "2025-04-20T00:55:34.364514Z",
     "start_time": "2025-04-20T00:55:34.215499Z"
    }
   },
   "id": "b3f66f445b4e1885"
  },
  {
   "cell_type": "code",
   "execution_count": 236,
   "outputs": [
    {
     "data": {
      "text/plain": "Index(['distance', 'temp', 'dewp', 'humid', 'pressure', 'sched_dep_hour',\n       'sched_arr_hour'],\n      dtype='object')"
     },
     "execution_count": 236,
     "metadata": {},
     "output_type": "execute_result"
    }
   ],
   "source": [
    "x_train_nl.columns"
   ],
   "metadata": {
    "collapsed": false,
    "ExecuteTime": {
     "end_time": "2025-04-20T00:55:35.144216Z",
     "start_time": "2025-04-20T00:55:35.131789Z"
    }
   },
   "id": "c534a350d73a6a21"
  },
  {
   "cell_type": "code",
   "execution_count": 237,
   "outputs": [
    {
     "data": {
      "text/plain": "6276    37.0\n7174    40.0\n1303    37.0\n6571    35.0\n5989    42.0\n        ... \n5865    38.0\n5921    33.0\n6104    37.0\n909     31.0\n8330    19.0\nName: temp, Length: 735, dtype: float64"
     },
     "execution_count": 237,
     "metadata": {},
     "output_type": "execute_result"
    }
   ],
   "source": [
    "x_train_nl['temp']"
   ],
   "metadata": {
    "collapsed": false,
    "ExecuteTime": {
     "end_time": "2025-04-20T00:55:35.673779Z",
     "start_time": "2025-04-20T00:55:35.662862Z"
    }
   },
   "id": "cbf9b4e80eba4215"
  },
  {
   "cell_type": "code",
   "execution_count": 353,
   "outputs": [],
   "source": [
    "import numpy as np\n",
    "import matplotlib.pyplot as plt\n",
    "import math\n",
    "\n",
    "def plot_main_effects(design_train, x_train_nl, soln, groups, names_dict,\n",
    "                      ylim_l, ylim_u, nfigs=3):\n",
    "    # list of your covariate names\n",
    "    colnames = list(x_train_nl.columns)\n",
    "    # filter to only those variables with a non-zero fitted effect\n",
    "    eligible = [\n",
    "        var for var in colnames\n",
    "        if np.abs(soln[groups == (colnames.index(var) + 1)]).sum() != 0\n",
    "    ]\n",
    "    \n",
    "    P = len(eligible)\n",
    "    if P == 0:\n",
    "        print(\"No main effects to plot.\")\n",
    "        return\n",
    "    \n",
    "    # layout: nfigs columns, enough rows to fit all P plots\n",
    "    ncols = nfigs\n",
    "    nrows = math.ceil(P / ncols)\n",
    "    \n",
    "    fig, axes = plt.subplots(nrows, ncols,\n",
    "                             figsize=(4 * ncols, 4 * nrows),\n",
    "                             squeeze=False)\n",
    "    axes_flat = axes.flatten()\n",
    "    \n",
    "    for idx, var_name in enumerate(eligible):\n",
    "        ax = axes_flat[idx]\n",
    "        group_idx = colnames.index(var_name) + 1\n",
    "        \n",
    "        # compute fitted additive effect for this group\n",
    "        y_vals = design_train[:, groups == group_idx] @ soln[groups == group_idx]\n",
    "        x_vals = x_train_nl[var_name]\n",
    "        \n",
    "        ax.scatter(x_vals, y_vals)\n",
    "        ax.set_xlabel(names_dict[var_name], fontsize=13)\n",
    "        ax.set_ylabel(\"Fitted additive effect (minutes)\", fontsize=13)\n",
    "        ax.set_ylim(ylim_l, ylim_u)\n",
    "    \n",
    "    # turn off any unused subplots\n",
    "    for ax in axes_flat[P:]:\n",
    "        ax.axis('off')\n",
    "    \n",
    "    plt.tight_layout()\n",
    "    plt.show()\n",
    "\n",
    "\n",
    "def plot_main_effects(design_train, x_train_nl, soln, soln_MLE,\n",
    "                      groups, names_dict,\n",
    "                      ylim_l, ylim_u):\n",
    "    my_palette = {\"Proposed\": \"#48c072\",\n",
    "                  \"Naive\": \"#fc5a50\",\n",
    "                  \"Data Splitting\": \"#03719c\"}\n",
    "    \n",
    "    # list of your covariate names\n",
    "    colnames = list(x_train_nl.columns)\n",
    "    # filter to only those variables with a non-zero fitted effect\n",
    "    eligible_naive = [\n",
    "        var for var in colnames\n",
    "        if np.abs(soln[groups == (colnames.index(var) + 1)]).sum() != 0\n",
    "    ]\n",
    "    eligible_MLE = [\n",
    "        var for var in colnames\n",
    "        if np.abs(soln_MLE[groups == (colnames.index(var) + 1)]).sum() != 0\n",
    "    ]\n",
    "    eligible_union = list(set(eligible_MLE) | set(eligible_naive))\n",
    "    \n",
    "    P = len(eligible_union)\n",
    "    if P == 0:\n",
    "        print(\"No main effects to plot.\")\n",
    "        return\n",
    "    \n",
    "    # layout: nfigs columns, enough rows to fit all P plots\n",
    "    ncols = len(eligible_union)\n",
    "    nrows = math.ceil(P / ncols)\n",
    "    \n",
    "    fig, axes = plt.subplots(nrows, ncols,\n",
    "                             figsize=(4 * ncols, 4 * nrows),\n",
    "                             squeeze=False)\n",
    "    axes_flat = axes.flatten()\n",
    "    \n",
    "    for idx, var_name in enumerate(eligible_union):\n",
    "        ax = axes_flat[idx]\n",
    "        group_idx = colnames.index(var_name) + 1\n",
    "        \n",
    "        if var_name in eligible_naive:\n",
    "            # compute fitted additive effect for this group\n",
    "            y_vals = design_train[:, groups == group_idx] @ soln[groups == group_idx]\n",
    "            x_vals = x_train_nl[var_name]\n",
    "            \n",
    "            ax.scatter(x_vals, y_vals, label=\"Naive\", color=my_palette[\"Naive\"])\n",
    "            ax.set_xlabel(names_dict[var_name], fontsize=15)\n",
    "            ax.set_ylabel(\"Fitted additive effect (minutes)\", fontsize=15)\n",
    "            ax.set_ylim(ylim_l, ylim_u)\n",
    "        if var_name in eligible_MLE:\n",
    "            # compute fitted additive effect for this group\n",
    "            y_vals = design_train[:, groups == group_idx] @ soln_MLE[groups == group_idx]\n",
    "            x_vals = x_train_nl[var_name]\n",
    "            \n",
    "            ax.scatter(x_vals, y_vals, label=\"Proposed\", color=my_palette[\"Proposed\"])\n",
    "            ax.set_xlabel(names_dict[var_name], fontsize=15)\n",
    "            ax.set_ylabel(\"Fitted additive effect (minutes)\", fontsize=15)\n",
    "            ax.set_ylim(ylim_l, ylim_u)\n",
    "        if idx == 1:\n",
    "            # add legend\n",
    "            ax.legend(title=\"Legend\", loc=\"lower center\")\n",
    "            \n",
    "    # Now, create a single global legend.\n",
    "    # We'll extract the handles and labels from one of the axes (since both share the same palette & labels).\n",
    "    handles, labels = axes_flat[1].get_legend_handles_labels()\n",
    "    # Remove the legend from the first subplot (so it doesn't appear there)\n",
    "    axes_flat[1].legend_.remove()\n",
    "\n",
    "    # Place the legend above the subplots, centered horizontally.\n",
    "    fig.legend(handles, labels, loc='lower center', ncol=len(labels),\n",
    "               title=\"Method\", bbox_to_anchor=(0.5, -0.2), fontsize=15, title_fontsize=15)\n",
    "    \n",
    "    # turn off any unused subplots\n",
    "    for ax in axes_flat[P:]:\n",
    "        ax.axis('off')\n",
    "    \n",
    "    plt.tight_layout()\n",
    "    plt.show()"
   ],
   "metadata": {
    "collapsed": false,
    "ExecuteTime": {
     "end_time": "2025-04-20T19:16:36.035421Z",
     "start_time": "2025-04-20T19:16:36.009467Z"
    }
   },
   "id": "f08e46fbafe1852d"
  },
  {
   "cell_type": "code",
   "execution_count": 354,
   "outputs": [],
   "source": [
    "names_dict = {\"temp\": r\"Temperature ($^\\circ$F)\",\n",
    "              \"pressure\": \"Sea level pressure (millibars)\",\n",
    "              \"sched_dep_hour\": \"Scheduled departure hour\",\n",
    "              \"sched_arr_hour\": \"Scheduled arrival hour\"}"
   ],
   "metadata": {
    "collapsed": false,
    "ExecuteTime": {
     "end_time": "2025-04-20T19:16:36.210832Z",
     "start_time": "2025-04-20T19:16:36.195237Z"
    }
   },
   "id": "ee923fb4a01491b1"
  },
  {
   "cell_type": "code",
   "execution_count": 355,
   "outputs": [
    {
     "data": {
      "text/plain": "<Figure size 1600x400 with 4 Axes>",
      "image/png": "[encoded data removed]"
     },
     "metadata": {},
     "output_type": "display_data"
    }
   ],
   "source": [
    "plot_main_effects(design_train=design_train,\n",
    "                  x_train_nl=x_train_nl,\n",
    "                  soln=soln,\n",
    "                  soln_MLE=soln_MLE,\n",
    "                  groups=groups_train,\n",
    "                  names_dict=names_dict, \n",
    "                  ylim_l=-15, ylim_u=15)"
   ],
   "metadata": {
    "collapsed": false,
    "ExecuteTime": {
     "end_time": "2025-04-20T19:16:37.439701Z",
     "start_time": "2025-04-20T19:16:36.623800Z"
    }
   },
   "id": "29283c405246c2e6"
  },
  {
   "cell_type": "code",
   "execution_count": 288,
   "outputs": [
    {
     "data": {
      "text/plain": "<Figure size 1600x400 with 4 Axes>",
      "image/png": "[encoded data removed]"
     },
     "metadata": {},
     "output_type": "display_data"
    }
   ],
   "source": [
    "plot_main_effects(design_train=design_train,\n",
    "                  x_train_nl=x_train_nl,\n",
    "                  soln=soln,\n",
    "                  groups=groups_train,\n",
    "                  names_dict=names_dict, \n",
    "                  ylim_l=-15, ylim_u=15, nfigs=4)"
   ],
   "metadata": {
    "collapsed": false,
    "ExecuteTime": {
     "end_time": "2025-04-20T04:17:30.559672Z",
     "start_time": "2025-04-20T04:17:30.114682Z"
    }
   },
   "id": "838a3ebcd7e0111e"
  },
  {
   "cell_type": "code",
   "execution_count": 241,
   "outputs": [
    {
     "data": {
      "text/plain": "Index(['distance', 'temp', 'dewp', 'humid', 'pressure', 'sched_dep_hour',\n       'sched_arr_hour'],\n      dtype='object')"
     },
     "execution_count": 241,
     "metadata": {},
     "output_type": "execute_result"
    }
   ],
   "source": [
    "x_train_nl.columns"
   ],
   "metadata": {
    "collapsed": false,
    "ExecuteTime": {
     "end_time": "2025-04-20T01:35:41.586170Z",
     "start_time": "2025-04-20T01:35:41.579893Z"
    }
   },
   "id": "ab80ba800aea240d"
  },
  {
   "cell_type": "code",
   "execution_count": 242,
   "outputs": [
    {
     "data": {
      "text/plain": "      plane_age     seats  wind_dir  wind_speed    precip     visib\n6276  -0.010725  0.066434  0.012624   -0.000856  0.062942  0.018374\n7174  -0.037106  0.012914  0.012624   -0.022561 -0.012629  0.018374\n1303  -0.010725  0.066434 -0.046299   -0.044266 -0.013392  0.018374\n6571   0.052589  0.005415  0.043636   -0.000856 -0.012629  0.018374\n5989  -0.058210 -0.032765  0.006422   -0.000856 -0.013392  0.018374\n...         ...       ...       ...         ...       ...       ...\n5865   0.020932 -0.035492 -0.040096   -0.037031 -0.013392  0.018374\n5921   0.026209 -0.055945  0.015725   -0.008091 -0.013392  0.018374\n6104  -0.016001 -0.030378  0.046737    0.006378  0.062942 -0.048999\n909   -0.016001  0.066434 -0.049400    0.006378 -0.012629 -0.008575\n8330   0.026209 -0.055945  0.034333   -0.000856 -0.013392  0.018374\n\n[735 rows x 6 columns]",
      "text/html": "<div>\n<style scoped>\n    .dataframe tbody tr th:only-of-type {\n        vertical-align: middle;\n    }\n\n    .dataframe tbody tr th {\n        vertical-align: top;\n    }\n\n    .dataframe thead th {\n        text-align: right;\n    }\n</style>\n<table border=\"1\" class=\"dataframe\">\n  <thead>\n    <tr style=\"text-align: right;\">\n      <th></th>\n      <th>plane_age</th>\n      <th>seats</th>\n      <th>wind_dir</th>\n      <th>wind_speed</th>\n      <th>precip</th>\n      <th>visib</th>\n    </tr>\n  </thead>\n  <tbody>\n    <tr>\n      <th>6276</th>\n      <td>-0.010725</td>\n      <td>0.066434</td>\n      <td>0.012624</td>\n      <td>-0.000856</td>\n      <td>0.062942</td>\n      <td>0.018374</td>\n    </tr>\n    <tr>\n      <th>7174</th>\n      <td>-0.037106</td>\n      <td>0.012914</td>\n      <td>0.012624</td>\n      <td>-0.022561</td>\n      <td>-0.012629</td>\n      <td>0.018374</td>\n    </tr>\n    <tr>\n      <th>1303</th>\n      <td>-0.010725</td>\n      <td>0.066434</td>\n      <td>-0.046299</td>\n      <td>-0.044266</td>\n      <td>-0.013392</td>\n      <td>0.018374</td>\n    </tr>\n    <tr>\n      <th>6571</th>\n      <td>0.052589</td>\n      <td>0.005415</td>\n      <td>0.043636</td>\n      <td>-0.000856</td>\n      <td>-0.012629</td>\n      <td>0.018374</td>\n    </tr>\n    <tr>\n      <th>5989</th>\n      <td>-0.058210</td>\n      <td>-0.032765</td>\n      <td>0.006422</td>\n      <td>-0.000856</td>\n      <td>-0.013392</td>\n      <td>0.018374</td>\n    </tr>\n    <tr>\n      <th>...</th>\n      <td>...</td>\n      <td>...</td>\n      <td>...</td>\n      <td>...</td>\n      <td>...</td>\n      <td>...</td>\n    </tr>\n    <tr>\n      <th>5865</th>\n      <td>0.020932</td>\n      <td>-0.035492</td>\n      <td>-0.040096</td>\n      <td>-0.037031</td>\n      <td>-0.013392</td>\n      <td>0.018374</td>\n    </tr>\n    <tr>\n      <th>5921</th>\n      <td>0.026209</td>\n      <td>-0.055945</td>\n      <td>0.015725</td>\n      <td>-0.008091</td>\n      <td>-0.013392</td>\n      <td>0.018374</td>\n    </tr>\n    <tr>\n      <th>6104</th>\n      <td>-0.016001</td>\n      <td>-0.030378</td>\n      <td>0.046737</td>\n      <td>0.006378</td>\n      <td>0.062942</td>\n      <td>-0.048999</td>\n    </tr>\n    <tr>\n      <th>909</th>\n      <td>-0.016001</td>\n      <td>0.066434</td>\n      <td>-0.049400</td>\n      <td>0.006378</td>\n      <td>-0.012629</td>\n      <td>-0.008575</td>\n    </tr>\n    <tr>\n      <th>8330</th>\n      <td>0.026209</td>\n      <td>-0.055945</td>\n      <td>0.034333</td>\n      <td>-0.000856</td>\n      <td>-0.013392</td>\n      <td>0.018374</td>\n    </tr>\n  </tbody>\n</table>\n<p>735 rows × 6 columns</p>\n</div>"
     },
     "execution_count": 242,
     "metadata": {},
     "output_type": "execute_result"
    }
   ],
   "source": [
    "x_train_l"
   ],
   "metadata": {
    "collapsed": false,
    "ExecuteTime": {
     "end_time": "2025-04-20T01:35:42.207413Z",
     "start_time": "2025-04-20T01:35:42.197318Z"
    }
   },
   "id": "a1d42c3d461d4a19"
  },
  {
   "cell_type": "code",
   "execution_count": 243,
   "outputs": [
    {
     "data": {
      "text/plain": "[False,\n False,\n False,\n False,\n False,\n False,\n False,\n False,\n False,\n False,\n False,\n True,\n True,\n False,\n False,\n False,\n True,\n False,\n False,\n False,\n False,\n False,\n False,\n True,\n False,\n False,\n False,\n False,\n False,\n False,\n False,\n False,\n False,\n False,\n False,\n False,\n True,\n False,\n False,\n False,\n False,\n False,\n False,\n False,\n False,\n False,\n False,\n False,\n False,\n False,\n True,\n False,\n False,\n True,\n False,\n False,\n False,\n False,\n True,\n True,\n False,\n False,\n True]"
     },
     "execution_count": 243,
     "metadata": {},
     "output_type": "execute_result"
    }
   ],
   "source": [
    "naive_train"
   ],
   "metadata": {
    "collapsed": false,
    "ExecuteTime": {
     "end_time": "2025-04-20T01:35:42.711504Z",
     "start_time": "2025-04-20T01:35:42.672133Z"
    }
   },
   "id": "73d2b8f870691f28"
  },
  {
   "cell_type": "code",
   "execution_count": 244,
   "outputs": [
    {
     "data": {
      "text/plain": "     i   j      CI_l      CI_u  beta_hat      pval\n11   1   6 -0.004813 -0.000700 -0.002756  0.027287\n12   1   7 -0.119630 -0.024062 -0.071846  0.013275\n16   1  11 -0.096608 -0.006443 -0.051526  0.059787\n23   2  12  0.001351  0.017346  0.009349  0.054195\n36   4  11 -0.128926 -0.020201 -0.074563  0.023886\n50   6  12 -0.004974  0.000002 -0.002486  0.099853\n53   7  12 -0.287614 -0.007033 -0.147323  0.083714\n58   9  10  0.010666  0.404281  0.207473  0.082525\n59   9  12 -0.232027 -0.040315 -0.136171  0.019303\n62  11  12 -1.757318 -0.544371 -1.150845  0.001776",
      "text/html": "<div>\n<style scoped>\n    .dataframe tbody tr th:only-of-type {\n        vertical-align: middle;\n    }\n\n    .dataframe tbody tr th {\n        vertical-align: top;\n    }\n\n    .dataframe thead th {\n        text-align: right;\n    }\n</style>\n<table border=\"1\" class=\"dataframe\">\n  <thead>\n    <tr style=\"text-align: right;\">\n      <th></th>\n      <th>i</th>\n      <th>j</th>\n      <th>CI_l</th>\n      <th>CI_u</th>\n      <th>beta_hat</th>\n      <th>pval</th>\n    </tr>\n  </thead>\n  <tbody>\n    <tr>\n      <th>11</th>\n      <td>1</td>\n      <td>6</td>\n      <td>-0.004813</td>\n      <td>-0.000700</td>\n      <td>-0.002756</td>\n      <td>0.027287</td>\n    </tr>\n    <tr>\n      <th>12</th>\n      <td>1</td>\n      <td>7</td>\n      <td>-0.119630</td>\n      <td>-0.024062</td>\n      <td>-0.071846</td>\n      <td>0.013275</td>\n    </tr>\n    <tr>\n      <th>16</th>\n      <td>1</td>\n      <td>11</td>\n      <td>-0.096608</td>\n      <td>-0.006443</td>\n      <td>-0.051526</td>\n      <td>0.059787</td>\n    </tr>\n    <tr>\n      <th>23</th>\n      <td>2</td>\n      <td>12</td>\n      <td>0.001351</td>\n      <td>0.017346</td>\n      <td>0.009349</td>\n      <td>0.054195</td>\n    </tr>\n    <tr>\n      <th>36</th>\n      <td>4</td>\n      <td>11</td>\n      <td>-0.128926</td>\n      <td>-0.020201</td>\n      <td>-0.074563</td>\n      <td>0.023886</td>\n    </tr>\n    <tr>\n      <th>50</th>\n      <td>6</td>\n      <td>12</td>\n      <td>-0.004974</td>\n      <td>0.000002</td>\n      <td>-0.002486</td>\n      <td>0.099853</td>\n    </tr>\n    <tr>\n      <th>53</th>\n      <td>7</td>\n      <td>12</td>\n      <td>-0.287614</td>\n      <td>-0.007033</td>\n      <td>-0.147323</td>\n      <td>0.083714</td>\n    </tr>\n    <tr>\n      <th>58</th>\n      <td>9</td>\n      <td>10</td>\n      <td>0.010666</td>\n      <td>0.404281</td>\n      <td>0.207473</td>\n      <td>0.082525</td>\n    </tr>\n    <tr>\n      <th>59</th>\n      <td>9</td>\n      <td>12</td>\n      <td>-0.232027</td>\n      <td>-0.040315</td>\n      <td>-0.136171</td>\n      <td>0.019303</td>\n    </tr>\n    <tr>\n      <th>62</th>\n      <td>11</td>\n      <td>12</td>\n      <td>-1.757318</td>\n      <td>-0.544371</td>\n      <td>-1.150845</td>\n      <td>0.001776</td>\n    </tr>\n  </tbody>\n</table>\n</div>"
     },
     "execution_count": 244,
     "metadata": {},
     "output_type": "execute_result"
    }
   ],
   "source": [
    "pd.DataFrame(result_naive)[pd.DataFrame(result_naive)['pval'] < 0.1]"
   ],
   "metadata": {
    "collapsed": false,
    "ExecuteTime": {
     "end_time": "2025-04-20T01:35:43.141966Z",
     "start_time": "2025-04-20T01:35:43.134580Z"
    }
   },
   "id": "d8d53ebf5fc541bb"
  },
  {
   "cell_type": "code",
   "execution_count": 245,
   "outputs": [
    {
     "data": {
      "text/plain": "    i   j       CI_l      CI_u   beta_hat      pval\n7   1   2   0.007807  0.023873   0.015840  0.001182\n11  1   6  -0.020166 -0.005309  -0.012738  0.004795\n12  1   7  -0.259521 -0.035893  -0.147707  0.029791\n22  2  10   0.002295  0.033528   0.017911  0.059217\n31  4   6  -0.011866 -0.003237  -0.007552  0.003987\n36  4  11  -0.284397 -0.000538  -0.142467  0.098721\n38  5   6  -0.004950 -0.001493  -0.003221  0.002177\n45  6   7  -0.030070 -0.008752  -0.019411  0.002741\n46  6   8 -31.842092 -0.603693 -16.222893  0.087557\n47  6  10  -0.036473 -0.007934  -0.022204  0.010484\n48  6  12  -0.018225 -0.004957  -0.011591  0.004054\n51  7  10  -1.235729 -0.237614  -0.736671  0.015182\n58  9  10   0.208086  0.736753   0.472419  0.003285",
      "text/html": "<div>\n<style scoped>\n    .dataframe tbody tr th:only-of-type {\n        vertical-align: middle;\n    }\n\n    .dataframe tbody tr th {\n        vertical-align: top;\n    }\n\n    .dataframe thead th {\n        text-align: right;\n    }\n</style>\n<table border=\"1\" class=\"dataframe\">\n  <thead>\n    <tr style=\"text-align: right;\">\n      <th></th>\n      <th>i</th>\n      <th>j</th>\n      <th>CI_l</th>\n      <th>CI_u</th>\n      <th>beta_hat</th>\n      <th>pval</th>\n    </tr>\n  </thead>\n  <tbody>\n    <tr>\n      <th>7</th>\n      <td>1</td>\n      <td>2</td>\n      <td>0.007807</td>\n      <td>0.023873</td>\n      <td>0.015840</td>\n      <td>0.001182</td>\n    </tr>\n    <tr>\n      <th>11</th>\n      <td>1</td>\n      <td>6</td>\n      <td>-0.020166</td>\n      <td>-0.005309</td>\n      <td>-0.012738</td>\n      <td>0.004795</td>\n    </tr>\n    <tr>\n      <th>12</th>\n      <td>1</td>\n      <td>7</td>\n      <td>-0.259521</td>\n      <td>-0.035893</td>\n      <td>-0.147707</td>\n      <td>0.029791</td>\n    </tr>\n    <tr>\n      <th>22</th>\n      <td>2</td>\n      <td>10</td>\n      <td>0.002295</td>\n      <td>0.033528</td>\n      <td>0.017911</td>\n      <td>0.059217</td>\n    </tr>\n    <tr>\n      <th>31</th>\n      <td>4</td>\n      <td>6</td>\n      <td>-0.011866</td>\n      <td>-0.003237</td>\n      <td>-0.007552</td>\n      <td>0.003987</td>\n    </tr>\n    <tr>\n      <th>36</th>\n      <td>4</td>\n      <td>11</td>\n      <td>-0.284397</td>\n      <td>-0.000538</td>\n      <td>-0.142467</td>\n      <td>0.098721</td>\n    </tr>\n    <tr>\n      <th>38</th>\n      <td>5</td>\n      <td>6</td>\n      <td>-0.004950</td>\n      <td>-0.001493</td>\n      <td>-0.003221</td>\n      <td>0.002177</td>\n    </tr>\n    <tr>\n      <th>45</th>\n      <td>6</td>\n      <td>7</td>\n      <td>-0.030070</td>\n      <td>-0.008752</td>\n      <td>-0.019411</td>\n      <td>0.002741</td>\n    </tr>\n    <tr>\n      <th>46</th>\n      <td>6</td>\n      <td>8</td>\n      <td>-31.842092</td>\n      <td>-0.603693</td>\n      <td>-16.222893</td>\n      <td>0.087557</td>\n    </tr>\n    <tr>\n      <th>47</th>\n      <td>6</td>\n      <td>10</td>\n      <td>-0.036473</td>\n      <td>-0.007934</td>\n      <td>-0.022204</td>\n      <td>0.010484</td>\n    </tr>\n    <tr>\n      <th>48</th>\n      <td>6</td>\n      <td>12</td>\n      <td>-0.018225</td>\n      <td>-0.004957</td>\n      <td>-0.011591</td>\n      <td>0.004054</td>\n    </tr>\n    <tr>\n      <th>51</th>\n      <td>7</td>\n      <td>10</td>\n      <td>-1.235729</td>\n      <td>-0.237614</td>\n      <td>-0.736671</td>\n      <td>0.015182</td>\n    </tr>\n    <tr>\n      <th>58</th>\n      <td>9</td>\n      <td>10</td>\n      <td>0.208086</td>\n      <td>0.736753</td>\n      <td>0.472419</td>\n      <td>0.003285</td>\n    </tr>\n  </tbody>\n</table>\n</div>"
     },
     "execution_count": 245,
     "metadata": {},
     "output_type": "execute_result"
    }
   ],
   "source": [
    "pd.DataFrame(result_MLE)[pd.DataFrame(result_MLE)['pval'] < 0.1]"
   ],
   "metadata": {
    "collapsed": false,
    "ExecuteTime": {
     "end_time": "2025-04-20T01:35:45.260395Z",
     "start_time": "2025-04-20T01:35:45.231892Z"
    }
   },
   "id": "25a0e02a7b5d12b2"
  },
  {
   "cell_type": "code",
   "execution_count": 246,
   "outputs": [
    {
     "data": {
      "text/plain": "     i   j       CI_l          CI_u   beta_hat          pval\n3    0   6  -0.000010 -5.272651e-07  -0.000005  6.844454e-02\n11   1   6  -0.001301 -3.840700e-04  -0.000843  2.504408e-03\n13   1   8   1.097380  3.382331e+01  17.460347  7.918895e-02\n18   2   4   0.000055  1.358080e-03   0.000706  7.463095e-02\n20   2   6  -0.000115 -2.643669e-05  -0.000071  8.558206e-03\n22   2  10   0.002780  9.054424e-03   0.005917  1.916019e-03\n23   2  12   0.001937  5.378056e-03   0.003658  4.701130e-04\n24   3   4  -0.015622 -3.232902e-03  -0.009428  1.229323e-02\n25   3   5  -0.006120 -1.533527e-03  -0.003827  6.047622e-03\n26   3   6  -0.000715 -1.841448e-04  -0.000449  5.318028e-03\n27   3   8   0.339926  1.255011e+01   6.445016  8.244351e-02\n28   3  10   0.279488  3.901526e-01   0.334820  2.409554e-23\n29   3  12  -0.061759 -1.025702e-02  -0.036008  2.142880e-02\n30   4   5  -0.004271 -9.297636e-04  -0.002600  1.044454e-02\n31   4   6  -0.000840 -1.605957e-04  -0.000501  1.542229e-02\n32   4   7   0.037657  6.619260e-02   0.051925  2.138873e-09\n35   4  10   0.032217  7.477108e-02   0.053494  3.533277e-05\n38   5   6  -0.000504 -2.365120e-04  -0.000370  5.382346e-06\n39   5   7   0.001654  1.383564e-02   0.007745  3.646104e-02\n40   5   8   0.314434  5.882908e+00   3.098671  6.712000e-02\n45   6   7  -0.004887 -3.047244e-03  -0.003967  1.294692e-12\n47   6   9  -0.000037 -1.766565e-05  -0.000027  4.045577e-06\n48   6  10  -0.004047 -1.812885e-03  -0.002930  1.593275e-05\n49   6  11  -0.002290 -9.582508e-04  -0.001624  5.990967e-05\n50   6  12  -0.002088 -9.112755e-04  -0.001500  2.763362e-05\n51   7   8  19.806895  5.357494e+01  36.690918  3.502859e-04\n52   7  10  -0.221917 -8.755736e-02  -0.154737  1.511557e-04\n54   8   9   0.071564  5.951780e-01   0.333371  3.619228e-02\n55   8  10  18.985945  1.083811e+02  63.683536  1.908547e-02\n56   8  11  15.931657  5.863491e+01  37.283283  4.071419e-03\n57   8  12   5.840929  4.182463e+01  23.832782  2.932059e-02\n62  11  12  -0.270793 -2.138874e-02  -0.146091  5.394888e-02",
      "text/html": "<div>\n<style scoped>\n    .dataframe tbody tr th:only-of-type {\n        vertical-align: middle;\n    }\n\n    .dataframe tbody tr th {\n        vertical-align: top;\n    }\n\n    .dataframe thead th {\n        text-align: right;\n    }\n</style>\n<table border=\"1\" class=\"dataframe\">\n  <thead>\n    <tr style=\"text-align: right;\">\n      <th></th>\n      <th>i</th>\n      <th>j</th>\n      <th>CI_l</th>\n      <th>CI_u</th>\n      <th>beta_hat</th>\n      <th>pval</th>\n    </tr>\n  </thead>\n  <tbody>\n    <tr>\n      <th>3</th>\n      <td>0</td>\n      <td>6</td>\n      <td>-0.000010</td>\n      <td>-5.272651e-07</td>\n      <td>-0.000005</td>\n      <td>6.844454e-02</td>\n    </tr>\n    <tr>\n      <th>11</th>\n      <td>1</td>\n      <td>6</td>\n      <td>-0.001301</td>\n      <td>-3.840700e-04</td>\n      <td>-0.000843</td>\n      <td>2.504408e-03</td>\n    </tr>\n    <tr>\n      <th>13</th>\n      <td>1</td>\n      <td>8</td>\n      <td>1.097380</td>\n      <td>3.382331e+01</td>\n      <td>17.460347</td>\n      <td>7.918895e-02</td>\n    </tr>\n    <tr>\n      <th>18</th>\n      <td>2</td>\n      <td>4</td>\n      <td>0.000055</td>\n      <td>1.358080e-03</td>\n      <td>0.000706</td>\n      <td>7.463095e-02</td>\n    </tr>\n    <tr>\n      <th>20</th>\n      <td>2</td>\n      <td>6</td>\n      <td>-0.000115</td>\n      <td>-2.643669e-05</td>\n      <td>-0.000071</td>\n      <td>8.558206e-03</td>\n    </tr>\n    <tr>\n      <th>22</th>\n      <td>2</td>\n      <td>10</td>\n      <td>0.002780</td>\n      <td>9.054424e-03</td>\n      <td>0.005917</td>\n      <td>1.916019e-03</td>\n    </tr>\n    <tr>\n      <th>23</th>\n      <td>2</td>\n      <td>12</td>\n      <td>0.001937</td>\n      <td>5.378056e-03</td>\n      <td>0.003658</td>\n      <td>4.701130e-04</td>\n    </tr>\n    <tr>\n      <th>24</th>\n      <td>3</td>\n      <td>4</td>\n      <td>-0.015622</td>\n      <td>-3.232902e-03</td>\n      <td>-0.009428</td>\n      <td>1.229323e-02</td>\n    </tr>\n    <tr>\n      <th>25</th>\n      <td>3</td>\n      <td>5</td>\n      <td>-0.006120</td>\n      <td>-1.533527e-03</td>\n      <td>-0.003827</td>\n      <td>6.047622e-03</td>\n    </tr>\n    <tr>\n      <th>26</th>\n      <td>3</td>\n      <td>6</td>\n      <td>-0.000715</td>\n      <td>-1.841448e-04</td>\n      <td>-0.000449</td>\n      <td>5.318028e-03</td>\n    </tr>\n    <tr>\n      <th>27</th>\n      <td>3</td>\n      <td>8</td>\n      <td>0.339926</td>\n      <td>1.255011e+01</td>\n      <td>6.445016</td>\n      <td>8.244351e-02</td>\n    </tr>\n    <tr>\n      <th>28</th>\n      <td>3</td>\n      <td>10</td>\n      <td>0.279488</td>\n      <td>3.901526e-01</td>\n      <td>0.334820</td>\n      <td>2.409554e-23</td>\n    </tr>\n    <tr>\n      <th>29</th>\n      <td>3</td>\n      <td>12</td>\n      <td>-0.061759</td>\n      <td>-1.025702e-02</td>\n      <td>-0.036008</td>\n      <td>2.142880e-02</td>\n    </tr>\n    <tr>\n      <th>30</th>\n      <td>4</td>\n      <td>5</td>\n      <td>-0.004271</td>\n      <td>-9.297636e-04</td>\n      <td>-0.002600</td>\n      <td>1.044454e-02</td>\n    </tr>\n    <tr>\n      <th>31</th>\n      <td>4</td>\n      <td>6</td>\n      <td>-0.000840</td>\n      <td>-1.605957e-04</td>\n      <td>-0.000501</td>\n      <td>1.542229e-02</td>\n    </tr>\n    <tr>\n      <th>32</th>\n      <td>4</td>\n      <td>7</td>\n      <td>0.037657</td>\n      <td>6.619260e-02</td>\n      <td>0.051925</td>\n      <td>2.138873e-09</td>\n    </tr>\n    <tr>\n      <th>35</th>\n      <td>4</td>\n      <td>10</td>\n      <td>0.032217</td>\n      <td>7.477108e-02</td>\n      <td>0.053494</td>\n      <td>3.533277e-05</td>\n    </tr>\n    <tr>\n      <th>38</th>\n      <td>5</td>\n      <td>6</td>\n      <td>-0.000504</td>\n      <td>-2.365120e-04</td>\n      <td>-0.000370</td>\n      <td>5.382346e-06</td>\n    </tr>\n    <tr>\n      <th>39</th>\n      <td>5</td>\n      <td>7</td>\n      <td>0.001654</td>\n      <td>1.383564e-02</td>\n      <td>0.007745</td>\n      <td>3.646104e-02</td>\n    </tr>\n    <tr>\n      <th>40</th>\n      <td>5</td>\n      <td>8</td>\n      <td>0.314434</td>\n      <td>5.882908e+00</td>\n      <td>3.098671</td>\n      <td>6.712000e-02</td>\n    </tr>\n    <tr>\n      <th>45</th>\n      <td>6</td>\n      <td>7</td>\n      <td>-0.004887</td>\n      <td>-3.047244e-03</td>\n      <td>-0.003967</td>\n      <td>1.294692e-12</td>\n    </tr>\n    <tr>\n      <th>47</th>\n      <td>6</td>\n      <td>9</td>\n      <td>-0.000037</td>\n      <td>-1.766565e-05</td>\n      <td>-0.000027</td>\n      <td>4.045577e-06</td>\n    </tr>\n    <tr>\n      <th>48</th>\n      <td>6</td>\n      <td>10</td>\n      <td>-0.004047</td>\n      <td>-1.812885e-03</td>\n      <td>-0.002930</td>\n      <td>1.593275e-05</td>\n    </tr>\n    <tr>\n      <th>49</th>\n      <td>6</td>\n      <td>11</td>\n      <td>-0.002290</td>\n      <td>-9.582508e-04</td>\n      <td>-0.001624</td>\n      <td>5.990967e-05</td>\n    </tr>\n    <tr>\n      <th>50</th>\n      <td>6</td>\n      <td>12</td>\n      <td>-0.002088</td>\n      <td>-9.112755e-04</td>\n      <td>-0.001500</td>\n      <td>2.763362e-05</td>\n    </tr>\n    <tr>\n      <th>51</th>\n      <td>7</td>\n      <td>8</td>\n      <td>19.806895</td>\n      <td>5.357494e+01</td>\n      <td>36.690918</td>\n      <td>3.502859e-04</td>\n    </tr>\n    <tr>\n      <th>52</th>\n      <td>7</td>\n      <td>10</td>\n      <td>-0.221917</td>\n      <td>-8.755736e-02</td>\n      <td>-0.154737</td>\n      <td>1.511557e-04</td>\n    </tr>\n    <tr>\n      <th>54</th>\n      <td>8</td>\n      <td>9</td>\n      <td>0.071564</td>\n      <td>5.951780e-01</td>\n      <td>0.333371</td>\n      <td>3.619228e-02</td>\n    </tr>\n    <tr>\n      <th>55</th>\n      <td>8</td>\n      <td>10</td>\n      <td>18.985945</td>\n      <td>1.083811e+02</td>\n      <td>63.683536</td>\n      <td>1.908547e-02</td>\n    </tr>\n    <tr>\n      <th>56</th>\n      <td>8</td>\n      <td>11</td>\n      <td>15.931657</td>\n      <td>5.863491e+01</td>\n      <td>37.283283</td>\n      <td>4.071419e-03</td>\n    </tr>\n    <tr>\n      <th>57</th>\n      <td>8</td>\n      <td>12</td>\n      <td>5.840929</td>\n      <td>4.182463e+01</td>\n      <td>23.832782</td>\n      <td>2.932059e-02</td>\n    </tr>\n    <tr>\n      <th>62</th>\n      <td>11</td>\n      <td>12</td>\n      <td>-0.270793</td>\n      <td>-2.138874e-02</td>\n      <td>-0.146091</td>\n      <td>5.394888e-02</td>\n    </tr>\n  </tbody>\n</table>\n</div>"
     },
     "execution_count": 246,
     "metadata": {},
     "output_type": "execute_result"
    }
   ],
   "source": [
    "naive_test_df[naive_test_df['pval'] < 0.1]"
   ],
   "metadata": {
    "collapsed": false,
    "ExecuteTime": {
     "end_time": "2025-04-20T01:35:53.869531Z",
     "start_time": "2025-04-20T01:35:53.844451Z"
    }
   },
   "id": "7c6a268235d4a533"
  },
  {
   "cell_type": "code",
   "execution_count": 247,
   "outputs": [
    {
     "data": {
      "text/plain": "    i   j       CI_l        CI_u   beta_hat          pval\n11  1   6  -0.002155   -0.000863  -0.001509  1.227282e-04\n13  1   8   2.557210   36.032126  19.294668  5.790372e-02\n18  2   4   0.000058    0.001360   0.000709  7.323094e-02\n22  2  10   0.002771    0.009042   0.005906  1.944510e-03\n24  3   4  -0.015406   -0.003054  -0.009230  1.394893e-02\n25  3   5  -0.006046   -0.001471  -0.003758  6.869840e-03\n26  3   7   0.088457    0.137445   0.112951  3.295551e-14\n27  3   8   0.429187   12.631918   6.530553  7.827159e-02\n28  3  10   0.278133    0.388702   0.333418  3.361002e-23\n30  4   5  -0.004222   -0.000888  -0.002555  1.167346e-02\n31  4   6  -0.000835   -0.000156  -0.000496  1.636932e-02\n32  4   7   0.037728    0.066210   0.051969  1.932169e-09\n35  4  10   0.032383    0.074892   0.053638  3.302574e-05\n38  5   6  -0.000502   -0.000234  -0.000368  6.078959e-06\n39  5   7   0.001752    0.013907   0.007829  3.406506e-02\n40  5   8   0.354604    5.919675   3.137139  6.363450e-02\n45  6   7  -0.004885   -0.003045  -0.003965  1.324728e-12\n47  6  10  -0.004036   -0.001803  -0.002920  1.695425e-05\n48  6  12  -0.001782   -0.000728  -0.001255  8.934573e-05\n49  7   8  20.000453   53.753657  36.877055  3.247997e-04\n51  7  10  -0.222231   -0.088018  -0.155124  1.430733e-04\n52  7  11   0.024367    0.089340   0.056854  3.989372e-03\n54  8   9   0.075241    0.598538   0.336890  3.416228e-02\n55  8  10  19.435644  108.802000  64.118822  1.824347e-02\n56  8  11  16.202557   58.876645  37.539601  3.800051e-03\n57  8  12   5.733568   41.654527  23.694048  2.998803e-02",
      "text/html": "<div>\n<style scoped>\n    .dataframe tbody tr th:only-of-type {\n        vertical-align: middle;\n    }\n\n    .dataframe tbody tr th {\n        vertical-align: top;\n    }\n\n    .dataframe thead th {\n        text-align: right;\n    }\n</style>\n<table border=\"1\" class=\"dataframe\">\n  <thead>\n    <tr style=\"text-align: right;\">\n      <th></th>\n      <th>i</th>\n      <th>j</th>\n      <th>CI_l</th>\n      <th>CI_u</th>\n      <th>beta_hat</th>\n      <th>pval</th>\n    </tr>\n  </thead>\n  <tbody>\n    <tr>\n      <th>11</th>\n      <td>1</td>\n      <td>6</td>\n      <td>-0.002155</td>\n      <td>-0.000863</td>\n      <td>-0.001509</td>\n      <td>1.227282e-04</td>\n    </tr>\n    <tr>\n      <th>13</th>\n      <td>1</td>\n      <td>8</td>\n      <td>2.557210</td>\n      <td>36.032126</td>\n      <td>19.294668</td>\n      <td>5.790372e-02</td>\n    </tr>\n    <tr>\n      <th>18</th>\n      <td>2</td>\n      <td>4</td>\n      <td>0.000058</td>\n      <td>0.001360</td>\n      <td>0.000709</td>\n      <td>7.323094e-02</td>\n    </tr>\n    <tr>\n      <th>22</th>\n      <td>2</td>\n      <td>10</td>\n      <td>0.002771</td>\n      <td>0.009042</td>\n      <td>0.005906</td>\n      <td>1.944510e-03</td>\n    </tr>\n    <tr>\n      <th>24</th>\n      <td>3</td>\n      <td>4</td>\n      <td>-0.015406</td>\n      <td>-0.003054</td>\n      <td>-0.009230</td>\n      <td>1.394893e-02</td>\n    </tr>\n    <tr>\n      <th>25</th>\n      <td>3</td>\n      <td>5</td>\n      <td>-0.006046</td>\n      <td>-0.001471</td>\n      <td>-0.003758</td>\n      <td>6.869840e-03</td>\n    </tr>\n    <tr>\n      <th>26</th>\n      <td>3</td>\n      <td>7</td>\n      <td>0.088457</td>\n      <td>0.137445</td>\n      <td>0.112951</td>\n      <td>3.295551e-14</td>\n    </tr>\n    <tr>\n      <th>27</th>\n      <td>3</td>\n      <td>8</td>\n      <td>0.429187</td>\n      <td>12.631918</td>\n      <td>6.530553</td>\n      <td>7.827159e-02</td>\n    </tr>\n    <tr>\n      <th>28</th>\n      <td>3</td>\n      <td>10</td>\n      <td>0.278133</td>\n      <td>0.388702</td>\n      <td>0.333418</td>\n      <td>3.361002e-23</td>\n    </tr>\n    <tr>\n      <th>30</th>\n      <td>4</td>\n      <td>5</td>\n      <td>-0.004222</td>\n      <td>-0.000888</td>\n      <td>-0.002555</td>\n      <td>1.167346e-02</td>\n    </tr>\n    <tr>\n      <th>31</th>\n      <td>4</td>\n      <td>6</td>\n      <td>-0.000835</td>\n      <td>-0.000156</td>\n      <td>-0.000496</td>\n      <td>1.636932e-02</td>\n    </tr>\n    <tr>\n      <th>32</th>\n      <td>4</td>\n      <td>7</td>\n      <td>0.037728</td>\n      <td>0.066210</td>\n      <td>0.051969</td>\n      <td>1.932169e-09</td>\n    </tr>\n    <tr>\n      <th>35</th>\n      <td>4</td>\n      <td>10</td>\n      <td>0.032383</td>\n      <td>0.074892</td>\n      <td>0.053638</td>\n      <td>3.302574e-05</td>\n    </tr>\n    <tr>\n      <th>38</th>\n      <td>5</td>\n      <td>6</td>\n      <td>-0.000502</td>\n      <td>-0.000234</td>\n      <td>-0.000368</td>\n      <td>6.078959e-06</td>\n    </tr>\n    <tr>\n      <th>39</th>\n      <td>5</td>\n      <td>7</td>\n      <td>0.001752</td>\n      <td>0.013907</td>\n      <td>0.007829</td>\n      <td>3.406506e-02</td>\n    </tr>\n    <tr>\n      <th>40</th>\n      <td>5</td>\n      <td>8</td>\n      <td>0.354604</td>\n      <td>5.919675</td>\n      <td>3.137139</td>\n      <td>6.363450e-02</td>\n    </tr>\n    <tr>\n      <th>45</th>\n      <td>6</td>\n      <td>7</td>\n      <td>-0.004885</td>\n      <td>-0.003045</td>\n      <td>-0.003965</td>\n      <td>1.324728e-12</td>\n    </tr>\n    <tr>\n      <th>47</th>\n      <td>6</td>\n      <td>10</td>\n      <td>-0.004036</td>\n      <td>-0.001803</td>\n      <td>-0.002920</td>\n      <td>1.695425e-05</td>\n    </tr>\n    <tr>\n      <th>48</th>\n      <td>6</td>\n      <td>12</td>\n      <td>-0.001782</td>\n      <td>-0.000728</td>\n      <td>-0.001255</td>\n      <td>8.934573e-05</td>\n    </tr>\n    <tr>\n      <th>49</th>\n      <td>7</td>\n      <td>8</td>\n      <td>20.000453</td>\n      <td>53.753657</td>\n      <td>36.877055</td>\n      <td>3.247997e-04</td>\n    </tr>\n    <tr>\n      <th>51</th>\n      <td>7</td>\n      <td>10</td>\n      <td>-0.222231</td>\n      <td>-0.088018</td>\n      <td>-0.155124</td>\n      <td>1.430733e-04</td>\n    </tr>\n    <tr>\n      <th>52</th>\n      <td>7</td>\n      <td>11</td>\n      <td>0.024367</td>\n      <td>0.089340</td>\n      <td>0.056854</td>\n      <td>3.989372e-03</td>\n    </tr>\n    <tr>\n      <th>54</th>\n      <td>8</td>\n      <td>9</td>\n      <td>0.075241</td>\n      <td>0.598538</td>\n      <td>0.336890</td>\n      <td>3.416228e-02</td>\n    </tr>\n    <tr>\n      <th>55</th>\n      <td>8</td>\n      <td>10</td>\n      <td>19.435644</td>\n      <td>108.802000</td>\n      <td>64.118822</td>\n      <td>1.824347e-02</td>\n    </tr>\n    <tr>\n      <th>56</th>\n      <td>8</td>\n      <td>11</td>\n      <td>16.202557</td>\n      <td>58.876645</td>\n      <td>37.539601</td>\n      <td>3.800051e-03</td>\n    </tr>\n    <tr>\n      <th>57</th>\n      <td>8</td>\n      <td>12</td>\n      <td>5.733568</td>\n      <td>41.654527</td>\n      <td>23.694048</td>\n      <td>2.998803e-02</td>\n    </tr>\n  </tbody>\n</table>\n</div>"
     },
     "execution_count": 247,
     "metadata": {},
     "output_type": "execute_result"
    }
   ],
   "source": [
    "MLE_test_df[MLE_test_df['pval'] < 0.1]"
   ],
   "metadata": {
    "collapsed": false,
    "ExecuteTime": {
     "end_time": "2025-04-20T01:35:55.246897Z",
     "start_time": "2025-04-20T01:35:55.235687Z"
    }
   },
   "id": "3bbc901a1837f6e1"
  },
  {
   "cell_type": "code",
   "execution_count": 264,
   "outputs": [
    {
     "data": {
      "text/plain": "array([False, False,  True,  True, False, False, False])"
     },
     "execution_count": 264,
     "metadata": {},
     "output_type": "execute_result"
    }
   ],
   "source": [
    "p_nl = 7\n",
    "nonzero_MLE[1:p_nl+1]"
   ],
   "metadata": {
    "collapsed": false,
    "ExecuteTime": {
     "end_time": "2025-04-20T01:58:28.835290Z",
     "start_time": "2025-04-20T01:58:28.815015Z"
    }
   },
   "id": "dafb31f6717eff27"
  },
  {
   "cell_type": "code",
   "execution_count": 266,
   "outputs": [
    {
     "data": {
      "text/plain": "[0, 2, 5, 6, 8, 9, 11, 13]"
     },
     "execution_count": 266,
     "metadata": {},
     "output_type": "execute_result"
    }
   ],
   "source": [
    "selected_groups_MLE"
   ],
   "metadata": {
    "collapsed": false,
    "ExecuteTime": {
     "end_time": "2025-04-20T01:59:52.186152Z",
     "start_time": "2025-04-20T01:59:52.160857Z"
    }
   },
   "id": "98fc7deb1aeabb6d"
  },
  {
   "cell_type": "code",
   "execution_count": 267,
   "outputs": [
    {
     "data": {
      "text/plain": "array([ True, False, False,  True,  True, False, False, False, False,\n        True,  True,  True,  True, False, False,  True,  True, False,\n        True, False,  True])"
     },
     "execution_count": 267,
     "metadata": {},
     "output_type": "execute_result"
    }
   ],
   "source": [
    "nonzero_MLE"
   ],
   "metadata": {
    "collapsed": false,
    "ExecuteTime": {
     "end_time": "2025-04-20T01:59:57.836309Z",
     "start_time": "2025-04-20T01:59:57.810843Z"
    }
   },
   "id": "4f69bf9aedcc115f"
  },
  {
   "cell_type": "code",
   "execution_count": 289,
   "outputs": [
    {
     "data": {
      "text/plain": "{'i': [0,\n  0,\n  0,\n  0,\n  0,\n  0,\n  0,\n  1,\n  1,\n  1,\n  1,\n  1,\n  1,\n  1,\n  1,\n  1,\n  1,\n  1,\n  2,\n  2,\n  2,\n  2,\n  2,\n  2,\n  3,\n  3,\n  3,\n  3,\n  3,\n  3,\n  4,\n  4,\n  4,\n  4,\n  4,\n  4,\n  4,\n  4,\n  5,\n  5,\n  5,\n  5,\n  5,\n  5,\n  5,\n  6,\n  6,\n  6,\n  6,\n  7,\n  7,\n  7,\n  7,\n  7,\n  8,\n  8,\n  8,\n  8,\n  9,\n  9,\n  10,\n  10,\n  11],\n 'j': [1,\n  4,\n  5,\n  7,\n  8,\n  10,\n  12,\n  2,\n  3,\n  4,\n  5,\n  6,\n  7,\n  8,\n  9,\n  10,\n  11,\n  12,\n  4,\n  5,\n  7,\n  8,\n  10,\n  12,\n  4,\n  5,\n  7,\n  8,\n  10,\n  12,\n  5,\n  6,\n  7,\n  8,\n  9,\n  10,\n  11,\n  12,\n  6,\n  7,\n  8,\n  9,\n  10,\n  11,\n  12,\n  7,\n  8,\n  10,\n  12,\n  8,\n  9,\n  10,\n  11,\n  12,\n  9,\n  10,\n  11,\n  12,\n  10,\n  12,\n  11,\n  12,\n  12],\n 'CI_l': [-9.538124820180962e-05,\n  -2.0818208014069765e-05,\n  -2.7038121816951682e-05,\n  -7.54803779906555e-05,\n  -0.011499594313444939,\n  -3.0278133940858442e-05,\n  -3.983570101449003e-05,\n  -0.0010942101719311748,\n  -0.024120064598719567,\n  -0.013918531286614652,\n  -0.006353754985494436,\n  -0.0021550969422887392,\n  -0.03985565769122,\n  2.5572099077778603,\n  -0.020004669286263748,\n  -0.06098901203394689,\n  -0.02641184010223628,\n  -0.02013155317546487,\n  5.7921608589952146e-05,\n  -0.0006312761358927379,\n  -0.001407707957204299,\n  -0.091355133203052,\n  0.002770628728072033,\n  -6.452205122585582e-05,\n  -0.015406443357525154,\n  -0.006045741413348206,\n  0.0884571441118293,\n  0.42918705095831733,\n  0.27813298198994413,\n  -0.0093528740249465,\n  -0.004221503918967529,\n  -0.0008352638620960058,\n  0.037728300318228464,\n  -0.2830238166183783,\n  -0.0003231351282908747,\n  0.03238325526797169,\n  -0.016126124744175085,\n  -0.011867358696295006,\n  -0.0005019312012847679,\n  0.0017518778345319936,\n  0.3546035542847803,\n  -0.00012587052750171902,\n  -0.004589964379823961,\n  -0.0069972707211067055,\n  -0.004111816697462479,\n  -0.0048849194832104375,\n  -1.0370658127420962,\n  -0.004036222557307961,\n  -0.0017817127966895368,\n  20.000453150507063,\n  -0.02649514421440366,\n  -0.22223112976969028,\n  0.024367040077063543,\n  -0.020925269357634627,\n  0.07524076767155274,\n  19.435643941993114,\n  16.202556815203085,\n  5.733567964627344,\n  -0.009445307107768038,\n  -0.00028749058603976863,\n  -0.13272373378275465,\n  -0.039435762424128835,\n  -0.014976393834444985],\n 'CI_u': [9.374207625822942e-05,\n  8.200215280630174e-05,\n  1.5920609466942453e-05,\n  0.0001610413227910918,\n  0.30913673361045835,\n  0.00032056324231210143,\n  0.00012235592052751984,\n  0.002010686702720256,\n  0.00991919314286532,\n  0.006101484462745074,\n  0.0038782017315642393,\n  -0.000862529504327328,\n  0.008289769002079946,\n  36.032125887265174,\n  0.008546423705257784,\n  0.038616948749106414,\n  0.029824972020929433,\n  0.00953619229512678,\n  0.0013604908828706548,\n  5.7178271047919746e-05,\n  0.001591138781239829,\n  2.131442018825232,\n  0.009042294083301972,\n  0.0017711192782793228,\n  -0.003054106321481914,\n  -0.0014710597711591407,\n  0.13744481393589708,\n  12.631918454384671,\n  0.3887023838416944,\n  0.0027102598720975257,\n  -0.0008882597019424273,\n  -0.0001559781451734442,\n  0.06620998927142835,\n  12.270175085997444,\n  0.00014601216587205573,\n  0.07489216713752714,\n  0.006973692743926169,\n  0.0018542277045647173,\n  -0.00023421906369952949,\n  0.013906603418536738,\n  5.9196751447821,\n  4.983563796271012e-05,\n  0.013159972137064555,\n  0.003466400522734202,\n  0.0016652453826057332,\n  -0.0030453176487104,\n  2.1396488079334914,\n  -0.001803083336408341,\n  -0.0007279263154393743,\n  53.753656838587204,\n  0.0186540721088768,\n  -0.08801780927975102,\n  0.08934035422463284,\n  0.01039719571891446,\n  0.5985383990558348,\n  108.8019997649028,\n  58.876644671100806,\n  41.65452706786827,\n  0.0662064515112675,\n  0.00017646217660004414,\n  0.015817077943693816,\n  0.011700394108190853,\n  0.007390260633436544],\n 'beta_hat': [-8.195859717900791e-07,\n  3.0591972396116e-05,\n  -5.5587561750046095e-06,\n  4.2780472400218166e-05,\n  0.14881856964850673,\n  0.00014514255418562153,\n  4.126010975651492e-05,\n  0.00045823826539454084,\n  -0.007100435727927121,\n  -0.003908523411934787,\n  -0.0012377766269650971,\n  -0.0015088132233080334,\n  -0.015782944344570022,\n  19.29466789752152,\n  -0.005729122790502979,\n  -0.011186031642420227,\n  0.0017065659593465815,\n  -0.005297680440169041,\n  0.0007092062457303036,\n  -0.000287048932422409,\n  9.171541201776536e-05,\n  1.0200434428110903,\n  0.005906461405687003,\n  0.0008532986135267337,\n  -0.009230274839503533,\n  -0.0037584005922536726,\n  0.1129509790238632,\n  6.530552752671495,\n  0.3334176829158193,\n  -0.0033213070764244864,\n  -0.002554881810454978,\n  -0.0004956210036347249,\n  0.051969144794828406,\n  5.993575634689534,\n  -8.856148120940946e-05,\n  0.05363771120274942,\n  -0.004576216000124455,\n  -0.0050065654958651425,\n  -0.00036807513249214864,\n  0.007829240626534367,\n  3.1371393495334408,\n  -3.8017444769504435e-05,\n  0.004285003878620299,\n  -0.0017654350991862507,\n  -0.0012232856574283723,\n  -0.003965118565960418,\n  0.551291497595698,\n  -0.002919652946858151,\n  -0.0012548195560644554,\n  36.87705499454714,\n  -0.003920536052763424,\n  -0.15512446952472064,\n  0.0568536971508482,\n  -0.0052640368193600795,\n  0.33688958336369385,\n  64.11882185344797,\n  37.53960074315195,\n  23.694047516247814,\n  0.028380572201749735,\n  -5.551420471986221e-05,\n  -0.058453327919530396,\n  -0.013867684157968985,\n  -0.0037930666005042183],\n 'pval': [0.9886239135718128,\n  0.3276203254921203,\n  0.670297428844709,\n  0.5517741136416234,\n  0.1267404863965658,\n  0.17347017167536682,\n  0.4025983976509151,\n  0.6272637941035526,\n  0.49251494834056864,\n  0.5206510566348845,\n  0.6906176040061439,\n  0.00012272818561982472,\n  0.28077640144994365,\n  0.057903722180101265,\n  0.5091177031806657,\n  0.7117586330943746,\n  0.9204684445473389,\n  0.5568575452350465,\n  0.0732309375343621,\n  0.17011777301554387,\n  0.9198481005113003,\n  0.13107891109310846,\n  0.0019445096217249455,\n  0.12615637804734708,\n  0.01394893029465214,\n  0.006869840066438298,\n  3.295550952311421e-14,\n  0.07827159128236251,\n  3.361001711203434e-23,\n  0.3650034295492416,\n  0.01167345771588085,\n  0.016369322438098743,\n  1.932168724908111e-09,\n  0.11620490898812622,\n  0.5345411306439589,\n  3.302574456369904e-05,\n  0.5145285321608009,\n  0.22995430395340655,\n  6.078958972976395e-06,\n  0.034065056465168976,\n  0.0636345047931488,\n  0.4765317338516529,\n  0.4270336137155384,\n  0.578813536977197,\n  0.48599743484322133,\n  1.324728475339896e-12,\n  0.5680129238870594,\n  1.695425184402858e-05,\n  8.934573056170872e-05,\n  0.00032479973178754567,\n  0.7751063382499499,\n  0.00014307331127322328,\n  0.003989371541781188,\n  0.580301802065071,\n  0.03416227724876937,\n  0.01824347442333224,\n  0.003800051370930801,\n  0.02998803332213448,\n  0.21709166131962265,\n  0.6938138827129006,\n  0.1954109679429673,\n  0.3722507828433059,\n  0.5768677615032555]}"
     },
     "execution_count": 289,
     "metadata": {},
     "output_type": "execute_result"
    }
   ],
   "source": [],
   "metadata": {
    "collapsed": false,
    "ExecuteTime": {
     "end_time": "2025-04-20T04:30:00.519089Z",
     "start_time": "2025-04-20T04:30:00.477329Z"
    }
   },
   "id": "99d42a32af51f7d6"
  },
  {
   "cell_type": "code",
   "execution_count": 295,
   "outputs": [
    {
     "data": {
      "text/plain": "0.19047619047619047"
     },
     "execution_count": 295,
     "metadata": {},
     "output_type": "execute_result"
    }
   ],
   "source": [
    "f1_score(naive_test, naive_train)"
   ],
   "metadata": {
    "collapsed": false,
    "ExecuteTime": {
     "end_time": "2025-04-20T04:32:25.640653Z",
     "start_time": "2025-04-20T04:32:25.622584Z"
    }
   },
   "id": "f226eee5f7588ad6"
  },
  {
   "cell_type": "code",
   "execution_count": 296,
   "outputs": [
    {
     "data": {
      "text/plain": "0.4"
     },
     "execution_count": 296,
     "metadata": {},
     "output_type": "execute_result"
    }
   ],
   "source": [
    "precision_score(naive_test, naive_train)"
   ],
   "metadata": {
    "collapsed": false,
    "ExecuteTime": {
     "end_time": "2025-04-20T04:32:26.428800Z",
     "start_time": "2025-04-20T04:32:26.415474Z"
    }
   },
   "id": "7ecfdbce88d529a4"
  },
  {
   "cell_type": "code",
   "execution_count": 297,
   "outputs": [
    {
     "data": {
      "text/plain": "0.125"
     },
     "execution_count": 297,
     "metadata": {},
     "output_type": "execute_result"
    }
   ],
   "source": [
    "recall_score(naive_test, naive_train)"
   ],
   "metadata": {
    "collapsed": false,
    "ExecuteTime": {
     "end_time": "2025-04-20T04:32:26.942269Z",
     "start_time": "2025-04-20T04:32:26.930094Z"
    }
   },
   "id": "480ce39809f3c763"
  },
  {
   "cell_type": "code",
   "execution_count": 299,
   "outputs": [
    {
     "data": {
      "text/plain": "0.41025641025641024"
     },
     "execution_count": 299,
     "metadata": {},
     "output_type": "execute_result"
    }
   ],
   "source": [
    "f1_score(MLE_test, MLE_train)"
   ],
   "metadata": {
    "collapsed": false,
    "ExecuteTime": {
     "end_time": "2025-04-20T04:33:48.723334Z",
     "start_time": "2025-04-20T04:33:48.694663Z"
    }
   },
   "id": "a7b0388fb0752c5c"
  },
  {
   "cell_type": "code",
   "execution_count": 300,
   "outputs": [
    {
     "data": {
      "text/plain": "0.6153846153846154"
     },
     "execution_count": 300,
     "metadata": {},
     "output_type": "execute_result"
    }
   ],
   "source": [
    "precision_score(MLE_test, MLE_train)"
   ],
   "metadata": {
    "collapsed": false,
    "ExecuteTime": {
     "end_time": "2025-04-20T04:33:49.083556Z",
     "start_time": "2025-04-20T04:33:49.066702Z"
    }
   },
   "id": "def56dfa9caf211e"
  },
  {
   "cell_type": "code",
   "execution_count": 301,
   "outputs": [
    {
     "data": {
      "text/plain": "0.3076923076923077"
     },
     "execution_count": 301,
     "metadata": {},
     "output_type": "execute_result"
    }
   ],
   "source": [
    "recall_score(MLE_test, MLE_train)"
   ],
   "metadata": {
    "collapsed": false,
    "ExecuteTime": {
     "end_time": "2025-04-20T04:33:49.562088Z",
     "start_time": "2025-04-20T04:33:49.518623Z"
    }
   },
   "id": "f8c6d8cf4501dea4"
  },
  {
   "cell_type": "code",
   "execution_count": null,
   "outputs": [],
   "source": [],
   "metadata": {
    "collapsed": false
   },
   "id": "47d1e34c70c9c1d3"
  }
 ],
 "metadata": {
  "kernelspec": {
   "display_name": "Python 3",
   "language": "python",
   "name": "python3"
  },
  "language_info": {
   "codemirror_mode": {
    "name": "ipython",
    "version": 2
   },
   "file_extension": ".py",
   "mimetype": "text/x-python",
   "name": "python",
   "nbconvert_exporter": "python",
   "pygments_lexer": "ipython2",
   "version": "2.7.6"
  }
 },
 "nbformat": 4,
 "nbformat_minor": 5
}
