{
 "cells": [
  {
   "cell_type": "code",
   "execution_count": 81,
   "id": "initial_id",
   "metadata": {
    "collapsed": true,
    "ExecuteTime": {
     "end_time": "2025-02-25T00:15:00.285900Z",
     "start_time": "2025-02-25T00:15:00.276496Z"
    }
   },
   "outputs": [],
   "source": [
    "import pandas as pd\n",
    "import numpy as np\n",
    "from datetime import datetime\n",
    "import matplotlib.pyplot as plt\n",
    "import seaborn as sns\n",
    "from sklearn.model_selection import train_test_split\n",
    "from selectinf.Simulation.spline import cubic_spline, b_spline\n",
    "from selectinf.Simulation.H1.nonlinear_H1_helpers import *\n",
    "from selectinf.RealDataHelpers.rdhelpers import *\n",
    "from sklearn.decomposition import PCA"
   ]
  },
  {
   "cell_type": "code",
   "execution_count": 82,
   "outputs": [],
   "source": [
    "fpw = pd.read_csv(\"fpw.csv\", index_col=0)"
   ],
   "metadata": {
    "collapsed": false,
    "ExecuteTime": {
     "end_time": "2025-02-25T00:15:00.546076Z",
     "start_time": "2025-02-25T00:15:00.523228Z"
    }
   },
   "id": "2f2c87fa2b52e552"
  },
  {
   "cell_type": "code",
   "execution_count": 83,
   "outputs": [
    {
     "data": {
      "text/plain": "      day  dep_delay  distance  plane_age  seats  temp  dewp  humid  wind_dir  \\\n0       1       28.0       187       18.0     20  42.0  30.0  62.18     360.0   \n1       1      -12.0      1576       21.0    200  42.0  30.0  62.18     360.0   \n2       1        6.0      1041       18.0     20  41.0  30.0  64.63     250.0   \n3       1       -7.0      1182       24.0    145  41.0  30.0  64.63     250.0   \n4       1       -4.0      1029       22.0    145  41.0  30.0  64.63     250.0   \n...   ...        ...       ...        ...    ...   ...   ...    ...       ...   \n8435   27       -3.0       187       11.0    200  42.0  41.0  96.21       0.0   \n8436   27        2.0      1089        1.0    185  42.0  41.0  96.21       0.0   \n8437   16      240.0      1089        7.0    189  26.0  23.0  88.23     330.0   \n8438   27       -5.0       209       17.0     95  42.0  39.0  89.01     160.0   \n8439   18        4.0      1089       25.0    162  22.0   6.0  49.57     260.0   \n\n      wind_speed  wind_gust  precip  pressure  visib  sched_dep_hour  \\\n0        9.20624  10.594357    0.00    1017.8  10.00              23   \n1        9.20624  10.594357    0.00    1017.8  10.00              23   \n2        9.20624  10.594357    0.00    1015.7  10.00               8   \n3        9.20624  10.594357    0.00    1015.7  10.00               8   \n4        9.20624  10.594357    0.00    1015.7  10.00               8   \n...          ...        ...     ...       ...    ...             ...   \n8435     0.00000   0.000000    0.00    1019.2   1.50               5   \n8436     0.00000   0.000000    0.00    1019.2   1.50               5   \n8437     4.60312   5.297178    0.01    1020.9   1.25               5   \n8438     4.60312   5.297178    0.00    1023.2  10.00              23   \n8439    16.11092  18.540125    0.00    1021.4  10.00               5   \n\n      sched_arr_hour  \n0                  0  \n1                  4  \n2                 11  \n3                 10  \n4                 10  \n...              ...  \n8435               6  \n8436               8  \n8437               8  \n8438               0  \n8439               8  \n\n[7358 rows x 16 columns]",
      "text/html": "<div>\n<style scoped>\n    .dataframe tbody tr th:only-of-type {\n        vertical-align: middle;\n    }\n\n    .dataframe tbody tr th {\n        vertical-align: top;\n    }\n\n    .dataframe thead th {\n        text-align: right;\n    }\n</style>\n<table border=\"1\" class=\"dataframe\">\n  <thead>\n    <tr style=\"text-align: right;\">\n      <th></th>\n      <th>day</th>\n      <th>dep_delay</th>\n      <th>distance</th>\n      <th>plane_age</th>\n      <th>seats</th>\n      <th>temp</th>\n      <th>dewp</th>\n      <th>humid</th>\n      <th>wind_dir</th>\n      <th>wind_speed</th>\n      <th>wind_gust</th>\n      <th>precip</th>\n      <th>pressure</th>\n      <th>visib</th>\n      <th>sched_dep_hour</th>\n      <th>sched_arr_hour</th>\n    </tr>\n  </thead>\n  <tbody>\n    <tr>\n      <th>0</th>\n      <td>1</td>\n      <td>28.0</td>\n      <td>187</td>\n      <td>18.0</td>\n      <td>20</td>\n      <td>42.0</td>\n      <td>30.0</td>\n      <td>62.18</td>\n      <td>360.0</td>\n      <td>9.20624</td>\n      <td>10.594357</td>\n      <td>0.00</td>\n      <td>1017.8</td>\n      <td>10.00</td>\n      <td>23</td>\n      <td>0</td>\n    </tr>\n    <tr>\n      <th>1</th>\n      <td>1</td>\n      <td>-12.0</td>\n      <td>1576</td>\n      <td>21.0</td>\n      <td>200</td>\n      <td>42.0</td>\n      <td>30.0</td>\n      <td>62.18</td>\n      <td>360.0</td>\n      <td>9.20624</td>\n      <td>10.594357</td>\n      <td>0.00</td>\n      <td>1017.8</td>\n      <td>10.00</td>\n      <td>23</td>\n      <td>4</td>\n    </tr>\n    <tr>\n      <th>2</th>\n      <td>1</td>\n      <td>6.0</td>\n      <td>1041</td>\n      <td>18.0</td>\n      <td>20</td>\n      <td>41.0</td>\n      <td>30.0</td>\n      <td>64.63</td>\n      <td>250.0</td>\n      <td>9.20624</td>\n      <td>10.594357</td>\n      <td>0.00</td>\n      <td>1015.7</td>\n      <td>10.00</td>\n      <td>8</td>\n      <td>11</td>\n    </tr>\n    <tr>\n      <th>3</th>\n      <td>1</td>\n      <td>-7.0</td>\n      <td>1182</td>\n      <td>24.0</td>\n      <td>145</td>\n      <td>41.0</td>\n      <td>30.0</td>\n      <td>64.63</td>\n      <td>250.0</td>\n      <td>9.20624</td>\n      <td>10.594357</td>\n      <td>0.00</td>\n      <td>1015.7</td>\n      <td>10.00</td>\n      <td>8</td>\n      <td>10</td>\n    </tr>\n    <tr>\n      <th>4</th>\n      <td>1</td>\n      <td>-4.0</td>\n      <td>1029</td>\n      <td>22.0</td>\n      <td>145</td>\n      <td>41.0</td>\n      <td>30.0</td>\n      <td>64.63</td>\n      <td>250.0</td>\n      <td>9.20624</td>\n      <td>10.594357</td>\n      <td>0.00</td>\n      <td>1015.7</td>\n      <td>10.00</td>\n      <td>8</td>\n      <td>10</td>\n    </tr>\n    <tr>\n      <th>...</th>\n      <td>...</td>\n      <td>...</td>\n      <td>...</td>\n      <td>...</td>\n      <td>...</td>\n      <td>...</td>\n      <td>...</td>\n      <td>...</td>\n      <td>...</td>\n      <td>...</td>\n      <td>...</td>\n      <td>...</td>\n      <td>...</td>\n      <td>...</td>\n      <td>...</td>\n      <td>...</td>\n    </tr>\n    <tr>\n      <th>8435</th>\n      <td>27</td>\n      <td>-3.0</td>\n      <td>187</td>\n      <td>11.0</td>\n      <td>200</td>\n      <td>42.0</td>\n      <td>41.0</td>\n      <td>96.21</td>\n      <td>0.0</td>\n      <td>0.00000</td>\n      <td>0.000000</td>\n      <td>0.00</td>\n      <td>1019.2</td>\n      <td>1.50</td>\n      <td>5</td>\n      <td>6</td>\n    </tr>\n    <tr>\n      <th>8436</th>\n      <td>27</td>\n      <td>2.0</td>\n      <td>1089</td>\n      <td>1.0</td>\n      <td>185</td>\n      <td>42.0</td>\n      <td>41.0</td>\n      <td>96.21</td>\n      <td>0.0</td>\n      <td>0.00000</td>\n      <td>0.000000</td>\n      <td>0.00</td>\n      <td>1019.2</td>\n      <td>1.50</td>\n      <td>5</td>\n      <td>8</td>\n    </tr>\n    <tr>\n      <th>8437</th>\n      <td>16</td>\n      <td>240.0</td>\n      <td>1089</td>\n      <td>7.0</td>\n      <td>189</td>\n      <td>26.0</td>\n      <td>23.0</td>\n      <td>88.23</td>\n      <td>330.0</td>\n      <td>4.60312</td>\n      <td>5.297178</td>\n      <td>0.01</td>\n      <td>1020.9</td>\n      <td>1.25</td>\n      <td>5</td>\n      <td>8</td>\n    </tr>\n    <tr>\n      <th>8438</th>\n      <td>27</td>\n      <td>-5.0</td>\n      <td>209</td>\n      <td>17.0</td>\n      <td>95</td>\n      <td>42.0</td>\n      <td>39.0</td>\n      <td>89.01</td>\n      <td>160.0</td>\n      <td>4.60312</td>\n      <td>5.297178</td>\n      <td>0.00</td>\n      <td>1023.2</td>\n      <td>10.00</td>\n      <td>23</td>\n      <td>0</td>\n    </tr>\n    <tr>\n      <th>8439</th>\n      <td>18</td>\n      <td>4.0</td>\n      <td>1089</td>\n      <td>25.0</td>\n      <td>162</td>\n      <td>22.0</td>\n      <td>6.0</td>\n      <td>49.57</td>\n      <td>260.0</td>\n      <td>16.11092</td>\n      <td>18.540125</td>\n      <td>0.00</td>\n      <td>1021.4</td>\n      <td>10.00</td>\n      <td>5</td>\n      <td>8</td>\n    </tr>\n  </tbody>\n</table>\n<p>7358 rows × 16 columns</p>\n</div>"
     },
     "execution_count": 83,
     "metadata": {},
     "output_type": "execute_result"
    }
   ],
   "source": [
    "fpw"
   ],
   "metadata": {
    "collapsed": false,
    "ExecuteTime": {
     "end_time": "2025-02-25T00:15:00.937114Z",
     "start_time": "2025-02-25T00:15:00.926597Z"
    }
   },
   "id": "7151f358fc2f63a5"
  },
  {
   "cell_type": "code",
   "execution_count": 84,
   "outputs": [
    {
     "data": {
      "text/plain": "array([0.    , 0.01  , 0.02  , 0.03  , 0.0001, 0.04  ])"
     },
     "execution_count": 84,
     "metadata": {},
     "output_type": "execute_result"
    }
   ],
   "source": [
    "fpw[\"precip\"].unique()"
   ],
   "metadata": {
    "collapsed": false,
    "ExecuteTime": {
     "end_time": "2025-02-25T00:15:01.209318Z",
     "start_time": "2025-02-25T00:15:01.199292Z"
    }
   },
   "id": "e3577dcc1ad48133"
  },
  {
   "cell_type": "code",
   "execution_count": 85,
   "outputs": [],
   "source": [
    "Y = fpw[\"dep_delay\"]\n",
    "X = fpw.drop([\"dep_delay\", 'day', \"wind_gust\"], axis=1)"
   ],
   "metadata": {
    "collapsed": false,
    "ExecuteTime": {
     "end_time": "2025-02-25T00:15:01.590872Z",
     "start_time": "2025-02-25T00:15:01.584058Z"
    }
   },
   "id": "118b0d2e43495c24"
  },
  {
   "cell_type": "code",
   "execution_count": 165,
   "outputs": [],
   "source": [
    "from sklearn.model_selection import train_test_split\n",
    "x_train, x_test, y_train, y_test = train_test_split(X, Y, test_size=0.9,\n",
    "                                                    random_state=42)\n",
    "# Standardize\n",
    "#x_train = (x_train - x_train.mean()) / x_train.std()\n",
    "#x_test = (x_test - x_train.mean()) / x_train.std()"
   ],
   "metadata": {
    "collapsed": false,
    "ExecuteTime": {
     "end_time": "2025-02-25T00:36:41.710331Z",
     "start_time": "2025-02-25T00:36:41.692701Z"
    }
   },
   "id": "71dc706281b2f5d4"
  },
  {
   "cell_type": "markdown",
   "source": [
    "# Construct splines"
   ],
   "metadata": {
    "collapsed": false
   },
   "id": "dec60c8fe474705a"
  },
  {
   "cell_type": "code",
   "execution_count": 166,
   "outputs": [],
   "source": [
    "def get_splines(x_nl, x_l, nknots, degree, intercept):\n",
    "    bs = b_spline(data_nl=np.array(x_nl), data_l=np.array(x_l), \n",
    "                  nknots=nknots, degree=degree, intercept=intercept)\n",
    "    bs.construct_splines(use_quantiles=True, equally_spaced=False, center=False)\n",
    "    design_train = bs.get_spline_data()\n",
    "    design_train *= np.sqrt(design_train.shape[0])\n",
    "    design_train[:, 0] = 1\n",
    "    # Returning group labels with 0 meaning the intercept (if applicable)\n",
    "    groups = bs.get_groups()\n",
    "\n",
    "    return design_train, groups\n"
   ],
   "metadata": {
    "collapsed": false,
    "ExecuteTime": {
     "end_time": "2025-02-25T00:36:42.284597Z",
     "start_time": "2025-02-25T00:36:42.282224Z"
    }
   },
   "id": "a114963c1ee396a0"
  },
  {
   "cell_type": "code",
   "execution_count": 167,
   "outputs": [],
   "source": [
    "linear = list(x_train.columns[x_train.nunique() < 40])"
   ],
   "metadata": {
    "collapsed": false,
    "ExecuteTime": {
     "end_time": "2025-02-25T00:36:42.604158Z",
     "start_time": "2025-02-25T00:36:42.596423Z"
    }
   },
   "id": "c92e92648d25f593"
  },
  {
   "cell_type": "code",
   "execution_count": 168,
   "outputs": [
    {
     "data": {
      "text/plain": "distance           59\nplane_age          31\nseats              26\ntemp               41\ndewp               52\nhumid             230\nwind_dir           36\nwind_speed         21\nprecip              6\npressure          217\nvisib              19\nsched_dep_hour     18\nsched_arr_hour     21\ndtype: int64"
     },
     "execution_count": 168,
     "metadata": {},
     "output_type": "execute_result"
    }
   ],
   "source": [
    "x_train.nunique()"
   ],
   "metadata": {
    "collapsed": false,
    "ExecuteTime": {
     "end_time": "2025-02-25T00:36:42.917771Z",
     "start_time": "2025-02-25T00:36:42.904195Z"
    }
   },
   "id": "f14103a91000f7f1"
  },
  {
   "cell_type": "code",
   "execution_count": 172,
   "outputs": [],
   "source": [
    "x_train_nl = x_train.drop(linear, axis=1)\n",
    "x_train_l_temp = x_train[linear]\n",
    "x_test_nl = x_test.drop(linear, axis=1)\n",
    "x_test_l = x_test[linear]\n",
    "n_train = x_train_l_temp.shape[0]\n",
    "n_test = x_test_l.shape[0]\n",
    "\n",
    "x_train_l = (x_train_l_temp - x_train_l_temp.mean()) / (x_train_l_temp.std() * np.sqrt(n_train))\n",
    "x_test_l = (x_test_l - x_train_l_temp.mean()) / (x_train_l_temp.std() * np.sqrt(n_test))"
   ],
   "metadata": {
    "collapsed": false,
    "ExecuteTime": {
     "end_time": "2025-02-25T00:37:35.401471Z",
     "start_time": "2025-02-25T00:37:35.391314Z"
    }
   },
   "id": "50f848666229377"
  },
  {
   "cell_type": "code",
   "execution_count": 173,
   "outputs": [
    {
     "data": {
      "text/plain": "plane_age         0.012439\nseats             0.012695\nwind_dir          0.012015\nwind_speed        0.012213\nprecip            0.011678\nvisib             0.012367\nsched_dep_hour    0.012716\nsched_arr_hour    0.012545\ndtype: float64"
     },
     "execution_count": 173,
     "metadata": {},
     "output_type": "execute_result"
    }
   ],
   "source": [
    "x_test_l.std()"
   ],
   "metadata": {
    "collapsed": false,
    "ExecuteTime": {
     "end_time": "2025-02-25T00:37:35.636341Z",
     "start_time": "2025-02-25T00:37:35.627766Z"
    }
   },
   "id": "675018df7157166e"
  },
  {
   "cell_type": "code",
   "execution_count": 174,
   "outputs": [
    {
     "data": {
      "text/plain": "plane_age         0.036886\nseats             0.036886\nwind_dir          0.036886\nwind_speed        0.036886\nprecip            0.036886\nvisib             0.036886\nsched_dep_hour    0.036886\nsched_arr_hour    0.036886\ndtype: float64"
     },
     "execution_count": 174,
     "metadata": {},
     "output_type": "execute_result"
    }
   ],
   "source": [
    "x_train_l.std()"
   ],
   "metadata": {
    "collapsed": false,
    "ExecuteTime": {
     "end_time": "2025-02-25T00:37:35.976811Z",
     "start_time": "2025-02-25T00:37:35.964742Z"
    }
   },
   "id": "970257f4ed77796e"
  },
  {
   "cell_type": "code",
   "execution_count": 175,
   "outputs": [
    {
     "name": "stdout",
     "output_type": "stream",
     "text": [
      "Equally spaced quantile knots used.\n",
      "Equally spaced quantile knots used.\n"
     ]
    }
   ],
   "source": [
    "design_train, groups_train = (\n",
    "        get_splines(x_train_nl, x_train_l, nknots=6, degree=2, intercept=True))\n",
    "design_test, groups_test = (\n",
    "        get_splines(x_test_nl, x_test_l, nknots=6, degree=2, intercept=True))"
   ],
   "metadata": {
    "collapsed": false,
    "ExecuteTime": {
     "end_time": "2025-02-25T00:37:43.465989Z",
     "start_time": "2025-02-25T00:37:43.410271Z"
    }
   },
   "id": "42dddc5afe0d6b38"
  },
  {
   "cell_type": "code",
   "execution_count": 176,
   "outputs": [],
   "source": [
    "# Steps:\n",
    "# 1. Transform training fully for naive and MLE\n",
    "# 2. Transform 90% of training for data splitting's selection\n",
    "# 3. Use 10% of remaining to get the transformed PCs for data splitting's inference\n",
    "# 4. "
   ],
   "metadata": {
    "collapsed": false,
    "ExecuteTime": {
     "end_time": "2025-02-25T00:37:44.101973Z",
     "start_time": "2025-02-25T00:37:44.085442Z"
    }
   },
   "id": "bf5ad2e5a8617dc0"
  },
  {
   "cell_type": "code",
   "execution_count": 177,
   "outputs": [
    {
     "data": {
      "text/plain": "array([[ 1.        , -1.29469158, -0.51859089, ...,  0.49814698,\n         0.31064035,  0.48803806],\n       [ 1.        , -1.19756794, -0.48768174, ...,  0.49814698,\n         0.5246241 ,  0.86247227],\n       [ 1.        , -1.29469158, -0.51859089, ...,  0.49814698,\n         0.73860785,  0.86247227],\n       ...,\n       [ 1.        , -0.12116343,  1.10133351, ..., -1.32841514,\n         0.0966566 ,  0.30082095],\n       [ 1.        , -1.51037039, -0.5800947 , ..., -0.23247787,\n         0.31064035,  0.67525517],\n       [ 1.        , -0.22672314,  1.29537708, ...,  0.49814698,\n        -0.75927839, -0.63526457]])"
     },
     "execution_count": 177,
     "metadata": {},
     "output_type": "execute_result"
    }
   ],
   "source": [
    "design_train"
   ],
   "metadata": {
    "collapsed": false,
    "ExecuteTime": {
     "end_time": "2025-02-25T00:37:44.455923Z",
     "start_time": "2025-02-25T00:37:44.442520Z"
    }
   },
   "id": "abb48a2b4cdca8b5"
  },
  {
   "cell_type": "code",
   "execution_count": 178,
   "outputs": [
    {
     "data": {
      "text/plain": "array([[ 7.35000000e+02, -3.67100058e+02,  4.59106234e+02,\n        -4.33438163e+02, -7.45968241e+01, -4.59180683e+02,\n        -1.26910180e+02, -5.45186805e+02, -2.82949388e+02,\n        -3.33743647e+02,  1.22029202e+02, -4.39648318e-14,\n         8.88178420e-16,  7.46069873e-14,  2.30926389e-14,\n         7.99360578e-15,  3.55271368e-15,  8.34887715e-14,\n        -2.13162821e-14],\n       [-3.67100058e+02,  7.35000000e+02,  2.04281037e-14,\n         2.80018211e+02,  2.37180387e+01,  2.73259862e+02,\n         7.53470033e+01,  2.84940969e+02,  1.49968697e+02,\n         1.55389995e+02, -6.42800149e+01,  1.61092469e+01,\n        -2.55856216e+02, -9.41992913e+00,  1.66531060e+01,\n        -1.37017392e+01,  1.08940864e+01, -5.32271236e+00,\n        -2.23713029e+01],\n       [ 4.59106234e+02,  2.04281037e-14,  7.35000000e+02,\n        -2.48589798e+02, -7.28982263e+01, -2.58679981e+02,\n        -1.07045308e+02, -3.22637687e+02, -1.94284345e+02,\n        -2.40647586e+02,  3.92143608e+01,  9.96624583e+01,\n        -4.69452073e+02, -4.99211177e+00,  1.55887342e+01,\n         1.49746050e+01,  9.91868642e+00,  4.76016829e+01,\n         3.92240414e+01],\n       [-4.33438163e+02,  2.80018211e+02, -2.48589798e+02,\n         7.35000000e+02, -7.99360578e-14,  6.35355244e+02,\n         1.87102742e+02,  3.08431568e+02,  2.97984526e+02,\n         2.02504501e+02, -8.87242048e+01, -1.45678651e+01,\n        -1.12651101e+01, -1.37325007e+02, -1.54823100e+02,\n         5.79265909e+01, -4.40934901e+01,  9.51997958e+01,\n         5.15608024e+01],\n       [-7.45968241e+01,  2.37180387e+01, -7.28982263e+01,\n        -7.99360578e-14,  7.35000000e+02, -5.88621786e+01,\n         5.32657492e+02, -8.54795337e+01,  1.94691261e+02,\n        -2.23450043e+02,  5.16038867e+01, -2.82287048e+01,\n         3.50649973e+01, -4.29018737e+01,  5.09182950e+01,\n         8.25023531e+01, -1.87346432e+02,  1.29465925e+02,\n         8.31461316e+01],\n       [-4.59180683e+02,  2.73259862e+02, -2.58679981e+02,\n         6.35355244e+02, -5.88621786e+01,  7.35000000e+02,\n        -3.55271368e-14,  4.95258960e+02,  2.12149184e+02,\n         1.92057678e+02, -3.67271642e+01,  1.31449967e+01,\n        -3.70243196e+01, -1.04396128e+02, -1.05026639e+02,\n        -4.65819361e+00,  5.74374517e+01,  4.28203131e+01,\n         3.01829331e+01],\n       [-1.26910180e+02,  7.53470033e+01, -1.07045308e+02,\n         1.87102742e+02,  5.32657492e+02, -3.55271368e-14,\n         7.35000000e+02, -1.60718101e+02,  5.78070127e+02,\n        -1.15020754e+02,  2.55612191e+01, -3.57783636e+01,\n         6.25426011e+01, -2.52315416e+02, -1.22458047e+02,\n         2.88440097e+02, -4.52430358e+02,  2.10128776e+01,\n        -1.07526262e+01],\n       [-5.45186805e+02,  2.84940969e+02, -3.22637687e+02,\n         3.08431568e+02, -8.54795337e+01,  4.95258960e+02,\n        -1.60718101e+02,  7.35000000e+02,  2.93098879e-14,\n         2.72419996e+02, -1.16467029e+02,  3.46243771e+01,\n        -3.88132564e+01,  3.62419647e+01, -1.48419971e+01,\n        -1.90188661e+02,  2.86421927e+02, -6.34980781e+01,\n        -4.99157211e+01],\n       [-2.82949388e+02,  1.49968697e+02, -1.94284345e+02,\n         2.97984526e+02,  1.94691261e+02,  2.12149184e+02,\n         5.78070127e+02,  2.93098879e-14,  7.35000000e+02,\n         4.75156077e+01,  3.77552604e+01, -1.48883045e+01,\n         4.91137908e+01, -3.24470783e+02, -1.73806533e+02,\n         3.64235001e+02, -5.12285192e+02, -8.90165499e+01,\n        -7.61813994e+01],\n       [-3.33743647e+02,  1.55389995e+02, -2.40647586e+02,\n         2.02504501e+02, -2.23450043e+02,  1.92057678e+02,\n        -1.15020754e+02,  2.72419996e+02,  4.75156077e+01,\n         7.35000000e+02,  3.73034936e-14, -2.35172720e+01,\n         5.45001907e+01, -1.00250418e+01, -2.52247972e+02,\n        -1.27085634e+02,  7.29769097e+01, -8.00447822e+00,\n        -1.89152126e+01],\n       [ 1.22029202e+02, -6.42800149e+01,  3.92143608e+01,\n        -8.87242048e+01,  5.16038867e+01, -3.67271642e+01,\n         2.55612191e+01, -1.16467029e+02,  3.77552604e+01,\n         3.73034936e-14,  7.35000000e+02,  3.09064586e+01,\n         4.37983232e+01, -3.78834871e+01,  1.98135323e+02,\n         1.10205124e+02, -1.16254963e+02,  5.40216648e+01,\n         2.25638361e+01],\n       [-4.39648318e-14,  1.61092469e+01,  9.96624583e+01,\n        -1.45678651e+01, -2.82287048e+01,  1.31449967e+01,\n        -3.57783636e+01,  3.46243771e+01, -1.48883045e+01,\n        -2.35172720e+01,  3.09064586e+01,  7.34000000e+02,\n        -1.39253725e+02,  1.94310573e+01,  4.00413679e+01,\n        -1.03329552e+00,  2.84097991e+01, -1.22483179e+01,\n        -1.76060676e+01],\n       [ 8.88178420e-16, -2.55856216e+02, -4.69452073e+02,\n        -1.12651101e+01,  3.50649973e+01, -3.70243196e+01,\n         6.25426011e+01, -3.88132564e+01,  4.91137908e+01,\n         5.45001907e+01,  4.37983232e+01, -1.39253725e+02,\n         7.34000000e+02, -4.58981347e+00, -2.29526962e+01,\n         1.80005485e+00, -4.00882647e+01, -3.21271627e+01,\n        -3.55757734e+01],\n       [ 7.46069873e-14, -9.41992913e+00, -4.99211177e+00,\n        -1.37325007e+02, -4.29018737e+01, -1.04396128e+02,\n        -2.52315416e+02,  3.62419647e+01, -3.24470783e+02,\n        -1.00250418e+01, -3.78834871e+01,  1.94310573e+01,\n        -4.58981347e+00,  7.34000000e+02,  2.48587897e+02,\n        -1.51875074e+02,  2.60689685e+02, -1.10192508e+01,\n         5.12269139e+00],\n       [ 2.30926389e-14,  1.66531060e+01,  1.55887342e+01,\n        -1.54823100e+02,  5.09182950e+01, -1.05026639e+02,\n        -1.22458047e+02, -1.48419971e+01, -1.73806533e+02,\n        -2.52247972e+02,  1.98135323e+02,  4.00413679e+01,\n        -2.29526962e+01,  2.48587897e+02,  7.34000000e+02,\n         4.91344421e+01,  9.39052669e+01,  7.07764411e+01,\n         7.69971164e+01],\n       [ 7.99360578e-15, -1.37017392e+01,  1.49746050e+01,\n         5.79265909e+01,  8.25023531e+01, -4.65819361e+00,\n         2.88440097e+02, -1.90188661e+02,  3.64235001e+02,\n        -1.27085634e+02,  1.10205124e+02, -1.03329552e+00,\n         1.80005485e+00, -1.51875074e+02,  4.91344421e+01,\n         7.34000000e+02, -4.12089801e+02, -7.43355135e+01,\n        -3.44949540e+01],\n       [ 3.55271368e-15,  1.08940864e+01,  9.91868642e+00,\n        -4.40934901e+01, -1.87346432e+02,  5.74374517e+01,\n        -4.52430358e+02,  2.86421927e+02, -5.12285192e+02,\n         7.29769097e+01, -1.16254963e+02,  2.84097991e+01,\n        -4.00882647e+01,  2.60689685e+02,  9.39052669e+01,\n        -4.12089801e+02,  7.34000000e+02,  2.87500739e+00,\n         1.50673233e+01],\n       [ 8.34887715e-14, -5.32271236e+00,  4.76016829e+01,\n         9.51997958e+01,  1.29465925e+02,  4.28203131e+01,\n         2.10128776e+01, -6.34980781e+01, -8.90165499e+01,\n        -8.00447822e+00,  5.40216648e+01, -1.22483179e+01,\n        -3.21271627e+01, -1.10192508e+01,  7.07764411e+01,\n        -7.43355135e+01,  2.87500739e+00,  7.34000000e+02,\n         4.47107117e+02],\n       [-2.13162821e-14, -2.23713029e+01,  3.92240414e+01,\n         5.15608024e+01,  8.31461316e+01,  3.01829331e+01,\n        -1.07526262e+01, -4.99157211e+01, -7.61813994e+01,\n        -1.89152126e+01,  2.25638361e+01, -1.76060676e+01,\n        -3.55757734e+01,  5.12269139e+00,  7.69971164e+01,\n        -3.44949540e+01,  1.50673233e+01,  4.47107117e+02,\n         7.34000000e+02]])"
     },
     "execution_count": 178,
     "metadata": {},
     "output_type": "execute_result"
    }
   ],
   "source": [
    "design_train.T @ design_train"
   ],
   "metadata": {
    "collapsed": false,
    "ExecuteTime": {
     "end_time": "2025-02-25T00:37:47.203138Z",
     "start_time": "2025-02-25T00:37:47.189496Z"
    }
   },
   "id": "e70f2fef2620027c"
  },
  {
   "cell_type": "code",
   "execution_count": 179,
   "outputs": [
    {
     "data": {
      "text/plain": "array([[ 1.        , -1.29469158, -0.51859089, ...,  0.49814698,\n         0.31064035,  0.48803806],\n       [ 1.        , -1.19756794, -0.48768174, ...,  0.49814698,\n         0.5246241 ,  0.86247227],\n       [ 1.        , -1.29469158, -0.51859089, ...,  0.49814698,\n         0.73860785,  0.86247227],\n       ...,\n       [ 1.        , -0.12116343,  1.10133351, ..., -1.32841514,\n         0.0966566 ,  0.30082095],\n       [ 1.        , -1.51037039, -0.5800947 , ..., -0.23247787,\n         0.31064035,  0.67525517],\n       [ 1.        , -0.22672314,  1.29537708, ...,  0.49814698,\n        -0.75927839, -0.63526457]])"
     },
     "execution_count": 179,
     "metadata": {},
     "output_type": "execute_result"
    }
   ],
   "source": [
    "design_train"
   ],
   "metadata": {
    "collapsed": false,
    "ExecuteTime": {
     "end_time": "2025-02-25T00:37:48.069740Z",
     "start_time": "2025-02-25T00:37:48.065813Z"
    }
   },
   "id": "52e9524e1d986f68"
  },
  {
   "cell_type": "code",
   "execution_count": 180,
   "outputs": [
    {
     "data": {
      "text/plain": "array([0.        , 0.86633933, 0.78091738, 0.80761377, 0.99483633,\n       0.78083635, 0.98498027, 0.67067564, 0.92293111, 0.89096449,\n       0.98612135, 0.9993195 , 0.9993195 , 0.9993195 , 0.9993195 ,\n       0.9993195 , 0.9993195 , 0.9993195 , 0.9993195 ])"
     },
     "execution_count": 180,
     "metadata": {},
     "output_type": "execute_result"
    }
   ],
   "source": [
    "design_train.std(axis=0)"
   ],
   "metadata": {
    "collapsed": false,
    "ExecuteTime": {
     "end_time": "2025-02-25T00:37:48.654666Z",
     "start_time": "2025-02-25T00:37:48.650325Z"
    }
   },
   "id": "d6a058635be6f731"
  },
  {
   "cell_type": "code",
   "execution_count": 181,
   "outputs": [
    {
     "data": {
      "text/plain": "array([0.        , 0.87850686, 0.78465437, 0.79840987, 0.99396775,\n       0.77836609, 0.98646269, 0.67557672, 0.92621893, 0.88931565,\n       0.98917161, 1.01222734, 1.03310309, 0.97769863, 0.99383786,\n       0.95030807, 1.00635762, 1.0347683 , 1.02083753])"
     },
     "execution_count": 181,
     "metadata": {},
     "output_type": "execute_result"
    }
   ],
   "source": [
    "design_test.std(axis=0)"
   ],
   "metadata": {
    "collapsed": false,
    "ExecuteTime": {
     "end_time": "2025-02-25T00:37:49.013733Z",
     "start_time": "2025-02-25T00:37:48.997214Z"
    }
   },
   "id": "53a643ea37794fbd"
  },
  {
   "cell_type": "code",
   "execution_count": 182,
   "outputs": [
    {
     "name": "stdout",
     "output_type": "stream",
     "text": [
      "Selected groups: [0, 2, 9, 12]\n",
      "Naive Selected Groups: 4\n"
     ]
    }
   ],
   "source": [
    "const = group_lasso.gaussian\n",
    "result_naive, nonzero_naive, selected_groups_naive \\\n",
    "    = naive_inference_real_data(X=design_train, Y=np.array(y_train), \n",
    "                                raw_data=np.array(x_train), \n",
    "                                groups=groups_train, const=const,\n",
    "                                n_features=x_train.shape[1], \n",
    "                                intercept=True, weight_frac=1, level=0.9,\n",
    "                                mode=\"weakhierarchy\", root_n_scaled=False)"
   ],
   "metadata": {
    "collapsed": false,
    "ExecuteTime": {
     "end_time": "2025-02-25T00:37:49.386129Z",
     "start_time": "2025-02-25T00:37:49.291037Z"
    }
   },
   "id": "37ef330611eb6fc2"
  },
  {
   "cell_type": "code",
   "execution_count": 183,
   "outputs": [
    {
     "data": {
      "text/plain": "     i   j      CI_l      CI_u  beta_hat      pval\n2    0  11 -0.000861 -0.000137 -0.000499  0.023273\n7    1   6 -0.005334 -0.001344 -0.003339  0.005835\n8    1   7 -0.104158 -0.008410 -0.056284  0.052834\n11   1  10 -0.152540 -0.028584 -0.090562  0.016105\n15   2  11 -0.006735 -0.001117 -0.003926  0.021348\n17   3  11 -0.474532 -0.205983 -0.340257  0.000030\n23   6  11 -0.005974 -0.000410 -0.003192  0.058801\n31  10  11 -0.318240 -0.083644 -0.200942  0.004782\n32  11  12 -0.135980 -0.026954 -0.081467  0.013845",
      "text/html": "<div>\n<style scoped>\n    .dataframe tbody tr th:only-of-type {\n        vertical-align: middle;\n    }\n\n    .dataframe tbody tr th {\n        vertical-align: top;\n    }\n\n    .dataframe thead th {\n        text-align: right;\n    }\n</style>\n<table border=\"1\" class=\"dataframe\">\n  <thead>\n    <tr style=\"text-align: right;\">\n      <th></th>\n      <th>i</th>\n      <th>j</th>\n      <th>CI_l</th>\n      <th>CI_u</th>\n      <th>beta_hat</th>\n      <th>pval</th>\n    </tr>\n  </thead>\n  <tbody>\n    <tr>\n      <th>2</th>\n      <td>0</td>\n      <td>11</td>\n      <td>-0.000861</td>\n      <td>-0.000137</td>\n      <td>-0.000499</td>\n      <td>0.023273</td>\n    </tr>\n    <tr>\n      <th>7</th>\n      <td>1</td>\n      <td>6</td>\n      <td>-0.005334</td>\n      <td>-0.001344</td>\n      <td>-0.003339</td>\n      <td>0.005835</td>\n    </tr>\n    <tr>\n      <th>8</th>\n      <td>1</td>\n      <td>7</td>\n      <td>-0.104158</td>\n      <td>-0.008410</td>\n      <td>-0.056284</td>\n      <td>0.052834</td>\n    </tr>\n    <tr>\n      <th>11</th>\n      <td>1</td>\n      <td>10</td>\n      <td>-0.152540</td>\n      <td>-0.028584</td>\n      <td>-0.090562</td>\n      <td>0.016105</td>\n    </tr>\n    <tr>\n      <th>15</th>\n      <td>2</td>\n      <td>11</td>\n      <td>-0.006735</td>\n      <td>-0.001117</td>\n      <td>-0.003926</td>\n      <td>0.021348</td>\n    </tr>\n    <tr>\n      <th>17</th>\n      <td>3</td>\n      <td>11</td>\n      <td>-0.474532</td>\n      <td>-0.205983</td>\n      <td>-0.340257</td>\n      <td>0.000030</td>\n    </tr>\n    <tr>\n      <th>23</th>\n      <td>6</td>\n      <td>11</td>\n      <td>-0.005974</td>\n      <td>-0.000410</td>\n      <td>-0.003192</td>\n      <td>0.058801</td>\n    </tr>\n    <tr>\n      <th>31</th>\n      <td>10</td>\n      <td>11</td>\n      <td>-0.318240</td>\n      <td>-0.083644</td>\n      <td>-0.200942</td>\n      <td>0.004782</td>\n    </tr>\n    <tr>\n      <th>32</th>\n      <td>11</td>\n      <td>12</td>\n      <td>-0.135980</td>\n      <td>-0.026954</td>\n      <td>-0.081467</td>\n      <td>0.013845</td>\n    </tr>\n  </tbody>\n</table>\n</div>"
     },
     "execution_count": 183,
     "metadata": {},
     "output_type": "execute_result"
    }
   ],
   "source": [
    "pd.DataFrame(result_naive)[pd.DataFrame(result_naive)['pval'] < 0.1]"
   ],
   "metadata": {
    "collapsed": false,
    "ExecuteTime": {
     "end_time": "2025-02-25T00:37:49.859576Z",
     "start_time": "2025-02-25T00:37:49.854680Z"
    }
   },
   "id": "cb1b7a5ec3b4a346"
  },
  {
   "cell_type": "code",
   "execution_count": 184,
   "outputs": [
    {
     "name": "stdout",
     "output_type": "stream",
     "text": [
      "Selected groups: [0, 2, 9, 12]\n",
      "MLE Selected Groups: 4\n"
     ]
    }
   ],
   "source": [
    "result_MLE, nonzero_MLE, selected_groups_MLE\\\n",
    "    = MLE_inference_real_data(X=design_train, Y=np.array(y_train), \n",
    "                              raw_data=np.array(x_train), groups=groups_train, \n",
    "                              n_features=x_train.shape[1], \n",
    "                              intercept=True, weight_frac=1, level=0.9, \n",
    "                              mode=\"weakhierarchy\", \n",
    "                              root_n_scaled=False, proportion=0.9)"
   ],
   "metadata": {
    "collapsed": false,
    "ExecuteTime": {
     "end_time": "2025-02-25T00:37:53.358522Z",
     "start_time": "2025-02-25T00:37:50.715088Z"
    }
   },
   "id": "3bbb784718033a63"
  },
  {
   "cell_type": "code",
   "execution_count": 185,
   "outputs": [
    {
     "data": {
      "text/plain": "     i   j       CI_l        CI_u    beta_hat      pval\n2    0  11  -0.002157   -0.000039   -0.001098  0.088198\n9    1   8  49.884946  410.837792  230.361369  0.035773\n15   2  11  -0.019268   -0.002897   -0.011083  0.025950\n16   3   8  12.151035  149.618090   80.884562  0.052912\n17   3  11  -0.812186   -0.355451   -0.583819  0.000026\n18   4   8  12.304301  153.753319   83.028810  0.053481\n20   5   8   5.062245   65.829809   35.446027  0.054997\n24   7   8  13.971674  339.208681  176.590178  0.074071\n26   8   9   0.493710    6.204216    3.348963  0.053697\n28   8  11  37.083561  471.560223  254.321892  0.054150\n29   8  12  30.332199  400.818402  215.575301  0.055596\n31  10  11  -0.892048   -0.208478   -0.550263  0.008093",
      "text/html": "<div>\n<style scoped>\n    .dataframe tbody tr th:only-of-type {\n        vertical-align: middle;\n    }\n\n    .dataframe tbody tr th {\n        vertical-align: top;\n    }\n\n    .dataframe thead th {\n        text-align: right;\n    }\n</style>\n<table border=\"1\" class=\"dataframe\">\n  <thead>\n    <tr style=\"text-align: right;\">\n      <th></th>\n      <th>i</th>\n      <th>j</th>\n      <th>CI_l</th>\n      <th>CI_u</th>\n      <th>beta_hat</th>\n      <th>pval</th>\n    </tr>\n  </thead>\n  <tbody>\n    <tr>\n      <th>2</th>\n      <td>0</td>\n      <td>11</td>\n      <td>-0.002157</td>\n      <td>-0.000039</td>\n      <td>-0.001098</td>\n      <td>0.088198</td>\n    </tr>\n    <tr>\n      <th>9</th>\n      <td>1</td>\n      <td>8</td>\n      <td>49.884946</td>\n      <td>410.837792</td>\n      <td>230.361369</td>\n      <td>0.035773</td>\n    </tr>\n    <tr>\n      <th>15</th>\n      <td>2</td>\n      <td>11</td>\n      <td>-0.019268</td>\n      <td>-0.002897</td>\n      <td>-0.011083</td>\n      <td>0.025950</td>\n    </tr>\n    <tr>\n      <th>16</th>\n      <td>3</td>\n      <td>8</td>\n      <td>12.151035</td>\n      <td>149.618090</td>\n      <td>80.884562</td>\n      <td>0.052912</td>\n    </tr>\n    <tr>\n      <th>17</th>\n      <td>3</td>\n      <td>11</td>\n      <td>-0.812186</td>\n      <td>-0.355451</td>\n      <td>-0.583819</td>\n      <td>0.000026</td>\n    </tr>\n    <tr>\n      <th>18</th>\n      <td>4</td>\n      <td>8</td>\n      <td>12.304301</td>\n      <td>153.753319</td>\n      <td>83.028810</td>\n      <td>0.053481</td>\n    </tr>\n    <tr>\n      <th>20</th>\n      <td>5</td>\n      <td>8</td>\n      <td>5.062245</td>\n      <td>65.829809</td>\n      <td>35.446027</td>\n      <td>0.054997</td>\n    </tr>\n    <tr>\n      <th>24</th>\n      <td>7</td>\n      <td>8</td>\n      <td>13.971674</td>\n      <td>339.208681</td>\n      <td>176.590178</td>\n      <td>0.074071</td>\n    </tr>\n    <tr>\n      <th>26</th>\n      <td>8</td>\n      <td>9</td>\n      <td>0.493710</td>\n      <td>6.204216</td>\n      <td>3.348963</td>\n      <td>0.053697</td>\n    </tr>\n    <tr>\n      <th>28</th>\n      <td>8</td>\n      <td>11</td>\n      <td>37.083561</td>\n      <td>471.560223</td>\n      <td>254.321892</td>\n      <td>0.054150</td>\n    </tr>\n    <tr>\n      <th>29</th>\n      <td>8</td>\n      <td>12</td>\n      <td>30.332199</td>\n      <td>400.818402</td>\n      <td>215.575301</td>\n      <td>0.055596</td>\n    </tr>\n    <tr>\n      <th>31</th>\n      <td>10</td>\n      <td>11</td>\n      <td>-0.892048</td>\n      <td>-0.208478</td>\n      <td>-0.550263</td>\n      <td>0.008093</td>\n    </tr>\n  </tbody>\n</table>\n</div>"
     },
     "execution_count": 185,
     "metadata": {},
     "output_type": "execute_result"
    }
   ],
   "source": [
    "pd.DataFrame(result_MLE)[pd.DataFrame(result_MLE)['pval'] < 0.1]"
   ],
   "metadata": {
    "collapsed": false,
    "ExecuteTime": {
     "end_time": "2025-02-25T00:37:53.359063Z",
     "start_time": "2025-02-25T00:37:53.341644Z"
    }
   },
   "id": "d895735eef763907"
  },
  {
   "cell_type": "markdown",
   "source": [
    "# Validate significant interactions on a holdout set"
   ],
   "metadata": {
    "collapsed": false
   },
   "id": "71d39fc22e1d28e2"
  },
  {
   "cell_type": "code",
   "execution_count": 186,
   "outputs": [],
   "source": [
    "def validate(x_test, design_test, y_test, nonzero, selected_groups, \n",
    "             groups = None, n_features=None, intercept=True, mode=\"allpairs\", level=0.9):\n",
    "    X_E = design_test[:, nonzero]\n",
    "    active_flag = np.zeros(np.unique(groups).shape[0])\n",
    "    active_flag[selected_groups] = 1.\n",
    "    raw_data=np.array(x_test)\n",
    "\n",
    "    if intercept:\n",
    "        active_vars_flag = active_flag[1:]\n",
    "    else:\n",
    "        active_vars_flag = active_flag\n",
    "\n",
    "    data_interaction = {}\n",
    "    task_idx = []\n",
    "    for i in range(n_features):\n",
    "        for j in range(i + 1, n_features):\n",
    "            if mode == \"allpairs\":\n",
    "                task_idx.append((i, j))\n",
    "                data_interaction[(i, j)] = raw_data[:, i] * raw_data[:, j]\n",
    "            elif mode == 'weakhierarchy':\n",
    "                if active_vars_flag[i] or active_vars_flag[j]:\n",
    "                    task_idx.append((i, j))\n",
    "                    data_interaction[(i, j)] = raw_data[:, i] * raw_data[:, j]\n",
    "            elif mode == 'stronghierarchy':\n",
    "                if active_vars_flag[i] and active_vars_flag[j]:\n",
    "                    task_idx.append((i, j))\n",
    "                    data_interaction[(i, j)] = raw_data[:, i] * raw_data[:, j]\n",
    "\n",
    "    result_dict = interaction_t_tests_all(X_E, y_test, n_features,\n",
    "                                          active_vars_flag, data_interaction,\n",
    "                                          level=level, mode=mode)\n",
    "\n",
    "    return result_dict"
   ],
   "metadata": {
    "collapsed": false,
    "ExecuteTime": {
     "end_time": "2025-02-25T00:37:54.237217Z",
     "start_time": "2025-02-25T00:37:54.232425Z"
    }
   },
   "id": "b1ded8609285892d"
  },
  {
   "cell_type": "code",
   "execution_count": 187,
   "outputs": [],
   "source": [
    "result_naive_validate = validate(x_test, design_test, y_test, nonzero_naive, \n",
    "                                 selected_groups_naive, groups = groups_train, \n",
    "                                 n_features=x_train.shape[1],\n",
    "                                 intercept=True, mode=\"weakhierarchy\", level=0.9)"
   ],
   "metadata": {
    "collapsed": false,
    "ExecuteTime": {
     "end_time": "2025-02-25T00:37:58.705528Z",
     "start_time": "2025-02-25T00:37:54.614951Z"
    }
   },
   "id": "d2fbc15682c8b770"
  },
  {
   "cell_type": "code",
   "execution_count": 188,
   "outputs": [
    {
     "data": {
      "text/plain": "     i   j        CI_l        CI_u    beta_hat          pval\n0    0   1   -0.000110    0.000003   -0.000054  1.207180e-01\n1    0   8    0.324674    0.613700    0.469187  9.240632e-08\n2    0  11   -0.000183   -0.000023   -0.000103  3.399931e-02\n3    1   2   -0.000969   -0.000045   -0.000507  7.089916e-02\n4    1   3   -0.003624    0.003989    0.000183  9.370503e-01\n5    1   4    0.002223    0.011406    0.006815  1.462738e-02\n6    1   5    0.001430    0.005039    0.003235  3.193164e-03\n7    1   6   -0.001934   -0.001039   -0.001487  4.624778e-08\n8    1   7   -0.013080    0.008837   -0.002121  7.501397e-01\n9    1   8   44.616513   73.456631   59.036572  1.638505e-11\n10   1   9   -0.000134    0.000141    0.000004  9.646513e-01\n11   1  10   -0.052067   -0.024707   -0.038387  3.907192e-06\n12   1  11   -0.008352    0.011825    0.001736  7.770916e-01\n13   1  12   -0.009147    0.006400   -0.001374  7.712688e-01\n14   2   8    2.279735    4.247060    3.263398  4.822637e-08\n15   2  11   -0.001615   -0.000365   -0.000990  9.140381e-03\n16   3   8   16.449734   26.985210   21.717472  1.183268e-11\n17   3  11   -0.090275   -0.032507   -0.061391  4.713477e-04\n18   4   8   16.385851   27.229901   21.807876  3.673633e-11\n19   4  11    0.020150    0.041205    0.030677  1.635968e-06\n20   5   8    8.126331   12.775657   10.450994  1.405495e-13\n21   5  11    0.013238    0.021506    0.017372  4.724394e-12\n22   6   8    2.643170    5.577602    4.110386  4.052303e-06\n23   6  11   -0.003883   -0.002604   -0.003243  7.320450e-17\n24   7   8   59.544706   90.067758   74.806232  7.409220e-16\n25   7  11    0.033040    0.099299    0.066169  1.017231e-03\n26   8   9    0.788546    1.226292    1.007419  3.677408e-14\n27   8  10  100.102386  186.501639  143.302013  4.840268e-08\n28   8  11   73.799206  109.268582   91.533894  2.052942e-17\n29   8  12   55.828877   86.300148   71.064513  1.676711e-14\n30   9  11   -0.063647   -0.046210   -0.054929  3.606172e-25\n31  10  11   -0.177880   -0.126714   -0.152297  1.201988e-22\n32  11  12   -0.016179    0.006329   -0.004925  4.715957e-01",
      "text/html": "<div>\n<style scoped>\n    .dataframe tbody tr th:only-of-type {\n        vertical-align: middle;\n    }\n\n    .dataframe tbody tr th {\n        vertical-align: top;\n    }\n\n    .dataframe thead th {\n        text-align: right;\n    }\n</style>\n<table border=\"1\" class=\"dataframe\">\n  <thead>\n    <tr style=\"text-align: right;\">\n      <th></th>\n      <th>i</th>\n      <th>j</th>\n      <th>CI_l</th>\n      <th>CI_u</th>\n      <th>beta_hat</th>\n      <th>pval</th>\n    </tr>\n  </thead>\n  <tbody>\n    <tr>\n      <th>0</th>\n      <td>0</td>\n      <td>1</td>\n      <td>-0.000110</td>\n      <td>0.000003</td>\n      <td>-0.000054</td>\n      <td>1.207180e-01</td>\n    </tr>\n    <tr>\n      <th>1</th>\n      <td>0</td>\n      <td>8</td>\n      <td>0.324674</td>\n      <td>0.613700</td>\n      <td>0.469187</td>\n      <td>9.240632e-08</td>\n    </tr>\n    <tr>\n      <th>2</th>\n      <td>0</td>\n      <td>11</td>\n      <td>-0.000183</td>\n      <td>-0.000023</td>\n      <td>-0.000103</td>\n      <td>3.399931e-02</td>\n    </tr>\n    <tr>\n      <th>3</th>\n      <td>1</td>\n      <td>2</td>\n      <td>-0.000969</td>\n      <td>-0.000045</td>\n      <td>-0.000507</td>\n      <td>7.089916e-02</td>\n    </tr>\n    <tr>\n      <th>4</th>\n      <td>1</td>\n      <td>3</td>\n      <td>-0.003624</td>\n      <td>0.003989</td>\n      <td>0.000183</td>\n      <td>9.370503e-01</td>\n    </tr>\n    <tr>\n      <th>5</th>\n      <td>1</td>\n      <td>4</td>\n      <td>0.002223</td>\n      <td>0.011406</td>\n      <td>0.006815</td>\n      <td>1.462738e-02</td>\n    </tr>\n    <tr>\n      <th>6</th>\n      <td>1</td>\n      <td>5</td>\n      <td>0.001430</td>\n      <td>0.005039</td>\n      <td>0.003235</td>\n      <td>3.193164e-03</td>\n    </tr>\n    <tr>\n      <th>7</th>\n      <td>1</td>\n      <td>6</td>\n      <td>-0.001934</td>\n      <td>-0.001039</td>\n      <td>-0.001487</td>\n      <td>4.624778e-08</td>\n    </tr>\n    <tr>\n      <th>8</th>\n      <td>1</td>\n      <td>7</td>\n      <td>-0.013080</td>\n      <td>0.008837</td>\n      <td>-0.002121</td>\n      <td>7.501397e-01</td>\n    </tr>\n    <tr>\n      <th>9</th>\n      <td>1</td>\n      <td>8</td>\n      <td>44.616513</td>\n      <td>73.456631</td>\n      <td>59.036572</td>\n      <td>1.638505e-11</td>\n    </tr>\n    <tr>\n      <th>10</th>\n      <td>1</td>\n      <td>9</td>\n      <td>-0.000134</td>\n      <td>0.000141</td>\n      <td>0.000004</td>\n      <td>9.646513e-01</td>\n    </tr>\n    <tr>\n      <th>11</th>\n      <td>1</td>\n      <td>10</td>\n      <td>-0.052067</td>\n      <td>-0.024707</td>\n      <td>-0.038387</td>\n      <td>3.907192e-06</td>\n    </tr>\n    <tr>\n      <th>12</th>\n      <td>1</td>\n      <td>11</td>\n      <td>-0.008352</td>\n      <td>0.011825</td>\n      <td>0.001736</td>\n      <td>7.770916e-01</td>\n    </tr>\n    <tr>\n      <th>13</th>\n      <td>1</td>\n      <td>12</td>\n      <td>-0.009147</td>\n      <td>0.006400</td>\n      <td>-0.001374</td>\n      <td>7.712688e-01</td>\n    </tr>\n    <tr>\n      <th>14</th>\n      <td>2</td>\n      <td>8</td>\n      <td>2.279735</td>\n      <td>4.247060</td>\n      <td>3.263398</td>\n      <td>4.822637e-08</td>\n    </tr>\n    <tr>\n      <th>15</th>\n      <td>2</td>\n      <td>11</td>\n      <td>-0.001615</td>\n      <td>-0.000365</td>\n      <td>-0.000990</td>\n      <td>9.140381e-03</td>\n    </tr>\n    <tr>\n      <th>16</th>\n      <td>3</td>\n      <td>8</td>\n      <td>16.449734</td>\n      <td>26.985210</td>\n      <td>21.717472</td>\n      <td>1.183268e-11</td>\n    </tr>\n    <tr>\n      <th>17</th>\n      <td>3</td>\n      <td>11</td>\n      <td>-0.090275</td>\n      <td>-0.032507</td>\n      <td>-0.061391</td>\n      <td>4.713477e-04</td>\n    </tr>\n    <tr>\n      <th>18</th>\n      <td>4</td>\n      <td>8</td>\n      <td>16.385851</td>\n      <td>27.229901</td>\n      <td>21.807876</td>\n      <td>3.673633e-11</td>\n    </tr>\n    <tr>\n      <th>19</th>\n      <td>4</td>\n      <td>11</td>\n      <td>0.020150</td>\n      <td>0.041205</td>\n      <td>0.030677</td>\n      <td>1.635968e-06</td>\n    </tr>\n    <tr>\n      <th>20</th>\n      <td>5</td>\n      <td>8</td>\n      <td>8.126331</td>\n      <td>12.775657</td>\n      <td>10.450994</td>\n      <td>1.405495e-13</td>\n    </tr>\n    <tr>\n      <th>21</th>\n      <td>5</td>\n      <td>11</td>\n      <td>0.013238</td>\n      <td>0.021506</td>\n      <td>0.017372</td>\n      <td>4.724394e-12</td>\n    </tr>\n    <tr>\n      <th>22</th>\n      <td>6</td>\n      <td>8</td>\n      <td>2.643170</td>\n      <td>5.577602</td>\n      <td>4.110386</td>\n      <td>4.052303e-06</td>\n    </tr>\n    <tr>\n      <th>23</th>\n      <td>6</td>\n      <td>11</td>\n      <td>-0.003883</td>\n      <td>-0.002604</td>\n      <td>-0.003243</td>\n      <td>7.320450e-17</td>\n    </tr>\n    <tr>\n      <th>24</th>\n      <td>7</td>\n      <td>8</td>\n      <td>59.544706</td>\n      <td>90.067758</td>\n      <td>74.806232</td>\n      <td>7.409220e-16</td>\n    </tr>\n    <tr>\n      <th>25</th>\n      <td>7</td>\n      <td>11</td>\n      <td>0.033040</td>\n      <td>0.099299</td>\n      <td>0.066169</td>\n      <td>1.017231e-03</td>\n    </tr>\n    <tr>\n      <th>26</th>\n      <td>8</td>\n      <td>9</td>\n      <td>0.788546</td>\n      <td>1.226292</td>\n      <td>1.007419</td>\n      <td>3.677408e-14</td>\n    </tr>\n    <tr>\n      <th>27</th>\n      <td>8</td>\n      <td>10</td>\n      <td>100.102386</td>\n      <td>186.501639</td>\n      <td>143.302013</td>\n      <td>4.840268e-08</td>\n    </tr>\n    <tr>\n      <th>28</th>\n      <td>8</td>\n      <td>11</td>\n      <td>73.799206</td>\n      <td>109.268582</td>\n      <td>91.533894</td>\n      <td>2.052942e-17</td>\n    </tr>\n    <tr>\n      <th>29</th>\n      <td>8</td>\n      <td>12</td>\n      <td>55.828877</td>\n      <td>86.300148</td>\n      <td>71.064513</td>\n      <td>1.676711e-14</td>\n    </tr>\n    <tr>\n      <th>30</th>\n      <td>9</td>\n      <td>11</td>\n      <td>-0.063647</td>\n      <td>-0.046210</td>\n      <td>-0.054929</td>\n      <td>3.606172e-25</td>\n    </tr>\n    <tr>\n      <th>31</th>\n      <td>10</td>\n      <td>11</td>\n      <td>-0.177880</td>\n      <td>-0.126714</td>\n      <td>-0.152297</td>\n      <td>1.201988e-22</td>\n    </tr>\n    <tr>\n      <th>32</th>\n      <td>11</td>\n      <td>12</td>\n      <td>-0.016179</td>\n      <td>0.006329</td>\n      <td>-0.004925</td>\n      <td>4.715957e-01</td>\n    </tr>\n  </tbody>\n</table>\n</div>"
     },
     "execution_count": 188,
     "metadata": {},
     "output_type": "execute_result"
    }
   ],
   "source": [
    "pd.DataFrame(result_naive_validate)"
   ],
   "metadata": {
    "collapsed": false,
    "ExecuteTime": {
     "end_time": "2025-02-25T00:37:58.718215Z",
     "start_time": "2025-02-25T00:37:58.712711Z"
    }
   },
   "id": "e7f3357f235442be"
  },
  {
   "cell_type": "code",
   "execution_count": 189,
   "outputs": [],
   "source": [
    "result_MLE_validate = validate(x_test, design_test, y_test, nonzero_MLE, \n",
    "                                 selected_groups_MLE, groups = groups_train, \n",
    "                                 n_features=x_train.shape[1],\n",
    "                                 intercept=True, mode=\"weakhierarchy\", level=0.9)"
   ],
   "metadata": {
    "collapsed": false,
    "ExecuteTime": {
     "end_time": "2025-02-25T00:38:04.005123Z",
     "start_time": "2025-02-25T00:37:59.884632Z"
    }
   },
   "id": "31f152d496635ef8"
  },
  {
   "cell_type": "code",
   "execution_count": 190,
   "outputs": [
    {
     "data": {
      "text/plain": "     i   j        CI_l        CI_u    beta_hat          pval\n0    0   1   -0.000110    0.000003   -0.000054  1.207180e-01\n1    0   8    0.324674    0.613700    0.469187  9.240632e-08\n2    0  11   -0.000183   -0.000023   -0.000103  3.399931e-02\n3    1   2   -0.000969   -0.000045   -0.000507  7.089916e-02\n4    1   3   -0.003624    0.003989    0.000183  9.370503e-01\n5    1   4    0.002223    0.011406    0.006815  1.462738e-02\n6    1   5    0.001430    0.005039    0.003235  3.193164e-03\n7    1   6   -0.001934   -0.001039   -0.001487  4.624778e-08\n8    1   7   -0.013080    0.008837   -0.002121  7.501397e-01\n9    1   8   44.616513   73.456631   59.036572  1.638505e-11\n10   1   9   -0.000134    0.000141    0.000004  9.646513e-01\n11   1  10   -0.052067   -0.024707   -0.038387  3.907192e-06\n12   1  11   -0.008352    0.011825    0.001736  7.770916e-01\n13   1  12   -0.009147    0.006400   -0.001374  7.712688e-01\n14   2   8    2.279735    4.247060    3.263398  4.822637e-08\n15   2  11   -0.001615   -0.000365   -0.000990  9.140381e-03\n16   3   8   16.449734   26.985210   21.717472  1.183268e-11\n17   3  11   -0.090275   -0.032507   -0.061391  4.713477e-04\n18   4   8   16.385851   27.229901   21.807876  3.673633e-11\n19   4  11    0.020150    0.041205    0.030677  1.635968e-06\n20   5   8    8.126331   12.775657   10.450994  1.405495e-13\n21   5  11    0.013238    0.021506    0.017372  4.724394e-12\n22   6   8    2.643170    5.577602    4.110386  4.052303e-06\n23   6  11   -0.003883   -0.002604   -0.003243  7.320450e-17\n24   7   8   59.544706   90.067758   74.806232  7.409220e-16\n25   7  11    0.033040    0.099299    0.066169  1.017231e-03\n26   8   9    0.788546    1.226292    1.007419  3.677408e-14\n27   8  10  100.102386  186.501639  143.302013  4.840268e-08\n28   8  11   73.799206  109.268582   91.533894  2.052942e-17\n29   8  12   55.828877   86.300148   71.064513  1.676711e-14\n30   9  11   -0.063647   -0.046210   -0.054929  3.606172e-25\n31  10  11   -0.177880   -0.126714   -0.152297  1.201988e-22\n32  11  12   -0.016179    0.006329   -0.004925  4.715957e-01",
      "text/html": "<div>\n<style scoped>\n    .dataframe tbody tr th:only-of-type {\n        vertical-align: middle;\n    }\n\n    .dataframe tbody tr th {\n        vertical-align: top;\n    }\n\n    .dataframe thead th {\n        text-align: right;\n    }\n</style>\n<table border=\"1\" class=\"dataframe\">\n  <thead>\n    <tr style=\"text-align: right;\">\n      <th></th>\n      <th>i</th>\n      <th>j</th>\n      <th>CI_l</th>\n      <th>CI_u</th>\n      <th>beta_hat</th>\n      <th>pval</th>\n    </tr>\n  </thead>\n  <tbody>\n    <tr>\n      <th>0</th>\n      <td>0</td>\n      <td>1</td>\n      <td>-0.000110</td>\n      <td>0.000003</td>\n      <td>-0.000054</td>\n      <td>1.207180e-01</td>\n    </tr>\n    <tr>\n      <th>1</th>\n      <td>0</td>\n      <td>8</td>\n      <td>0.324674</td>\n      <td>0.613700</td>\n      <td>0.469187</td>\n      <td>9.240632e-08</td>\n    </tr>\n    <tr>\n      <th>2</th>\n      <td>0</td>\n      <td>11</td>\n      <td>-0.000183</td>\n      <td>-0.000023</td>\n      <td>-0.000103</td>\n      <td>3.399931e-02</td>\n    </tr>\n    <tr>\n      <th>3</th>\n      <td>1</td>\n      <td>2</td>\n      <td>-0.000969</td>\n      <td>-0.000045</td>\n      <td>-0.000507</td>\n      <td>7.089916e-02</td>\n    </tr>\n    <tr>\n      <th>4</th>\n      <td>1</td>\n      <td>3</td>\n      <td>-0.003624</td>\n      <td>0.003989</td>\n      <td>0.000183</td>\n      <td>9.370503e-01</td>\n    </tr>\n    <tr>\n      <th>5</th>\n      <td>1</td>\n      <td>4</td>\n      <td>0.002223</td>\n      <td>0.011406</td>\n      <td>0.006815</td>\n      <td>1.462738e-02</td>\n    </tr>\n    <tr>\n      <th>6</th>\n      <td>1</td>\n      <td>5</td>\n      <td>0.001430</td>\n      <td>0.005039</td>\n      <td>0.003235</td>\n      <td>3.193164e-03</td>\n    </tr>\n    <tr>\n      <th>7</th>\n      <td>1</td>\n      <td>6</td>\n      <td>-0.001934</td>\n      <td>-0.001039</td>\n      <td>-0.001487</td>\n      <td>4.624778e-08</td>\n    </tr>\n    <tr>\n      <th>8</th>\n      <td>1</td>\n      <td>7</td>\n      <td>-0.013080</td>\n      <td>0.008837</td>\n      <td>-0.002121</td>\n      <td>7.501397e-01</td>\n    </tr>\n    <tr>\n      <th>9</th>\n      <td>1</td>\n      <td>8</td>\n      <td>44.616513</td>\n      <td>73.456631</td>\n      <td>59.036572</td>\n      <td>1.638505e-11</td>\n    </tr>\n    <tr>\n      <th>10</th>\n      <td>1</td>\n      <td>9</td>\n      <td>-0.000134</td>\n      <td>0.000141</td>\n      <td>0.000004</td>\n      <td>9.646513e-01</td>\n    </tr>\n    <tr>\n      <th>11</th>\n      <td>1</td>\n      <td>10</td>\n      <td>-0.052067</td>\n      <td>-0.024707</td>\n      <td>-0.038387</td>\n      <td>3.907192e-06</td>\n    </tr>\n    <tr>\n      <th>12</th>\n      <td>1</td>\n      <td>11</td>\n      <td>-0.008352</td>\n      <td>0.011825</td>\n      <td>0.001736</td>\n      <td>7.770916e-01</td>\n    </tr>\n    <tr>\n      <th>13</th>\n      <td>1</td>\n      <td>12</td>\n      <td>-0.009147</td>\n      <td>0.006400</td>\n      <td>-0.001374</td>\n      <td>7.712688e-01</td>\n    </tr>\n    <tr>\n      <th>14</th>\n      <td>2</td>\n      <td>8</td>\n      <td>2.279735</td>\n      <td>4.247060</td>\n      <td>3.263398</td>\n      <td>4.822637e-08</td>\n    </tr>\n    <tr>\n      <th>15</th>\n      <td>2</td>\n      <td>11</td>\n      <td>-0.001615</td>\n      <td>-0.000365</td>\n      <td>-0.000990</td>\n      <td>9.140381e-03</td>\n    </tr>\n    <tr>\n      <th>16</th>\n      <td>3</td>\n      <td>8</td>\n      <td>16.449734</td>\n      <td>26.985210</td>\n      <td>21.717472</td>\n      <td>1.183268e-11</td>\n    </tr>\n    <tr>\n      <th>17</th>\n      <td>3</td>\n      <td>11</td>\n      <td>-0.090275</td>\n      <td>-0.032507</td>\n      <td>-0.061391</td>\n      <td>4.713477e-04</td>\n    </tr>\n    <tr>\n      <th>18</th>\n      <td>4</td>\n      <td>8</td>\n      <td>16.385851</td>\n      <td>27.229901</td>\n      <td>21.807876</td>\n      <td>3.673633e-11</td>\n    </tr>\n    <tr>\n      <th>19</th>\n      <td>4</td>\n      <td>11</td>\n      <td>0.020150</td>\n      <td>0.041205</td>\n      <td>0.030677</td>\n      <td>1.635968e-06</td>\n    </tr>\n    <tr>\n      <th>20</th>\n      <td>5</td>\n      <td>8</td>\n      <td>8.126331</td>\n      <td>12.775657</td>\n      <td>10.450994</td>\n      <td>1.405495e-13</td>\n    </tr>\n    <tr>\n      <th>21</th>\n      <td>5</td>\n      <td>11</td>\n      <td>0.013238</td>\n      <td>0.021506</td>\n      <td>0.017372</td>\n      <td>4.724394e-12</td>\n    </tr>\n    <tr>\n      <th>22</th>\n      <td>6</td>\n      <td>8</td>\n      <td>2.643170</td>\n      <td>5.577602</td>\n      <td>4.110386</td>\n      <td>4.052303e-06</td>\n    </tr>\n    <tr>\n      <th>23</th>\n      <td>6</td>\n      <td>11</td>\n      <td>-0.003883</td>\n      <td>-0.002604</td>\n      <td>-0.003243</td>\n      <td>7.320450e-17</td>\n    </tr>\n    <tr>\n      <th>24</th>\n      <td>7</td>\n      <td>8</td>\n      <td>59.544706</td>\n      <td>90.067758</td>\n      <td>74.806232</td>\n      <td>7.409220e-16</td>\n    </tr>\n    <tr>\n      <th>25</th>\n      <td>7</td>\n      <td>11</td>\n      <td>0.033040</td>\n      <td>0.099299</td>\n      <td>0.066169</td>\n      <td>1.017231e-03</td>\n    </tr>\n    <tr>\n      <th>26</th>\n      <td>8</td>\n      <td>9</td>\n      <td>0.788546</td>\n      <td>1.226292</td>\n      <td>1.007419</td>\n      <td>3.677408e-14</td>\n    </tr>\n    <tr>\n      <th>27</th>\n      <td>8</td>\n      <td>10</td>\n      <td>100.102386</td>\n      <td>186.501639</td>\n      <td>143.302013</td>\n      <td>4.840268e-08</td>\n    </tr>\n    <tr>\n      <th>28</th>\n      <td>8</td>\n      <td>11</td>\n      <td>73.799206</td>\n      <td>109.268582</td>\n      <td>91.533894</td>\n      <td>2.052942e-17</td>\n    </tr>\n    <tr>\n      <th>29</th>\n      <td>8</td>\n      <td>12</td>\n      <td>55.828877</td>\n      <td>86.300148</td>\n      <td>71.064513</td>\n      <td>1.676711e-14</td>\n    </tr>\n    <tr>\n      <th>30</th>\n      <td>9</td>\n      <td>11</td>\n      <td>-0.063647</td>\n      <td>-0.046210</td>\n      <td>-0.054929</td>\n      <td>3.606172e-25</td>\n    </tr>\n    <tr>\n      <th>31</th>\n      <td>10</td>\n      <td>11</td>\n      <td>-0.177880</td>\n      <td>-0.126714</td>\n      <td>-0.152297</td>\n      <td>1.201988e-22</td>\n    </tr>\n    <tr>\n      <th>32</th>\n      <td>11</td>\n      <td>12</td>\n      <td>-0.016179</td>\n      <td>0.006329</td>\n      <td>-0.004925</td>\n      <td>4.715957e-01</td>\n    </tr>\n  </tbody>\n</table>\n</div>"
     },
     "execution_count": 190,
     "metadata": {},
     "output_type": "execute_result"
    }
   ],
   "source": [
    "pd.DataFrame(result_MLE_validate)"
   ],
   "metadata": {
    "collapsed": false,
    "ExecuteTime": {
     "end_time": "2025-02-25T00:38:04.017718Z",
     "start_time": "2025-02-25T00:38:04.005689Z"
    }
   },
   "id": "e3078e8ee4333dbc"
  },
  {
   "cell_type": "code",
   "execution_count": 191,
   "outputs": [],
   "source": [
    "naive_df = pd.DataFrame(result_naive)\n",
    "naive_significant = \\\n",
    "    [(naive_df[\"i\"][k], naive_df[\"j\"][k]) for k in range(naive_df.shape[0])\n",
    "     if naive_df[\"pval\"][k] < 0.1]\n",
    "naive_insig = \\\n",
    "    [(naive_df[\"i\"][k], naive_df[\"j\"][k]) for k in range(naive_df.shape[0])\n",
    "     if naive_df[\"pval\"][k] >= 0.1]"
   ],
   "metadata": {
    "collapsed": false,
    "ExecuteTime": {
     "end_time": "2025-02-25T00:38:04.538866Z",
     "start_time": "2025-02-25T00:38:04.529777Z"
    }
   },
   "id": "296dd893aa71d616"
  },
  {
   "cell_type": "code",
   "execution_count": 192,
   "outputs": [],
   "source": [
    "naive_test_df = pd.DataFrame(result_naive_validate)\n",
    "naive_test_significant = \\\n",
    "    [(naive_test_df[\"i\"][k], naive_test_df[\"j\"][k]) for k in range(naive_test_df.shape[0])\n",
    "     if naive_test_df[\"pval\"][k] < 0.1]\n",
    "naive_test_insig = \\\n",
    "    [(naive_test_df[\"i\"][k], naive_test_df[\"j\"][k]) for k in range(naive_test_df.shape[0])\n",
    "     if naive_test_df[\"pval\"][k] >= 0.1]"
   ],
   "metadata": {
    "collapsed": false,
    "ExecuteTime": {
     "end_time": "2025-02-25T00:38:04.954957Z",
     "start_time": "2025-02-25T00:38:04.951940Z"
    }
   },
   "id": "5ff47d296a3d2fb0"
  },
  {
   "cell_type": "code",
   "execution_count": 193,
   "outputs": [],
   "source": [
    "naive_all = [(naive_test_df[\"i\"][k], naive_test_df[\"j\"][k]) \n",
    "             for k in range(naive_test_df.shape[0])]"
   ],
   "metadata": {
    "collapsed": false,
    "ExecuteTime": {
     "end_time": "2025-02-25T00:38:05.302984Z",
     "start_time": "2025-02-25T00:38:05.286875Z"
    }
   },
   "id": "5770d3f66d88a2ed"
  },
  {
   "cell_type": "code",
   "execution_count": 194,
   "outputs": [
    {
     "data": {
      "text/plain": "0.7777777777777778"
     },
     "execution_count": 194,
     "metadata": {},
     "output_type": "execute_result"
    }
   ],
   "source": [
    "len(set(naive_test_significant).intersection(set(naive_significant))) / len(set(naive_significant))"
   ],
   "metadata": {
    "collapsed": false,
    "ExecuteTime": {
     "end_time": "2025-02-25T00:38:05.553387Z",
     "start_time": "2025-02-25T00:38:05.541692Z"
    }
   },
   "id": "61f11969a56c8231"
  },
  {
   "cell_type": "code",
   "execution_count": 195,
   "outputs": [
    {
     "data": {
      "text/plain": "0.7142857142857143"
     },
     "execution_count": 195,
     "metadata": {},
     "output_type": "execute_result"
    }
   ],
   "source": [
    "len(set(naive_test_insig).intersection(set(naive_insig))) / len(set(naive_test_insig))"
   ],
   "metadata": {
    "collapsed": false,
    "ExecuteTime": {
     "end_time": "2025-02-25T00:38:06.127300Z",
     "start_time": "2025-02-25T00:38:06.110920Z"
    }
   },
   "id": "7ad7276a67a644cd"
  },
  {
   "cell_type": "code",
   "execution_count": 196,
   "outputs": [],
   "source": [
    "MLE_df = pd.DataFrame(result_MLE)\n",
    "MLE_significant = \\\n",
    "    [(MLE_df[\"i\"][k], MLE_df[\"j\"][k]) for k in range(MLE_df.shape[0])\n",
    "     if MLE_df[\"pval\"][k] < 0.1]\n",
    "MLE_insig = \\\n",
    "    [(MLE_df[\"i\"][k], MLE_df[\"j\"][k]) for k in range(MLE_df.shape[0])\n",
    "     if MLE_df[\"pval\"][k] >= 0.1]"
   ],
   "metadata": {
    "collapsed": false,
    "ExecuteTime": {
     "end_time": "2025-02-25T00:38:06.612289Z",
     "start_time": "2025-02-25T00:38:06.604693Z"
    }
   },
   "id": "7ad648bfdc173adc"
  },
  {
   "cell_type": "code",
   "execution_count": 196,
   "outputs": [],
   "source": [],
   "metadata": {
    "collapsed": false,
    "ExecuteTime": {
     "end_time": "2025-02-25T00:38:06.992350Z",
     "start_time": "2025-02-25T00:38:06.985138Z"
    }
   },
   "id": "9a05aee7f052570b"
  },
  {
   "cell_type": "code",
   "execution_count": 197,
   "outputs": [
    {
     "data": {
      "text/plain": "12"
     },
     "execution_count": 197,
     "metadata": {},
     "output_type": "execute_result"
    }
   ],
   "source": [
    "len(MLE_significant)"
   ],
   "metadata": {
    "collapsed": false,
    "ExecuteTime": {
     "end_time": "2025-02-25T00:38:07.283535Z",
     "start_time": "2025-02-25T00:38:07.269587Z"
    }
   },
   "id": "8bda3f289671a95f"
  },
  {
   "cell_type": "code",
   "execution_count": 198,
   "outputs": [],
   "source": [
    "MLE_test_df = pd.DataFrame(result_MLE_validate)\n",
    "MLE_test_significant = \\\n",
    "    [(MLE_test_df[\"i\"][k], MLE_test_df[\"j\"][k]) for k in range(MLE_test_df.shape[0])\n",
    "     if MLE_test_df[\"pval\"][k] < 0.1]\n",
    "MLE_test_insig = \\\n",
    "    [(MLE_test_df[\"i\"][k], MLE_test_df[\"j\"][k]) for k in range(MLE_test_df.shape[0])\n",
    "     if MLE_test_df[\"pval\"][k] >= 0.1]"
   ],
   "metadata": {
    "collapsed": false,
    "ExecuteTime": {
     "end_time": "2025-02-25T00:38:07.567678Z",
     "start_time": "2025-02-25T00:38:07.555741Z"
    }
   },
   "id": "4916a5cbcafb4eb"
  },
  {
   "cell_type": "code",
   "execution_count": 199,
   "outputs": [],
   "source": [
    "MLE_all = [(MLE_test_df[\"i\"][k], MLE_test_df[\"j\"][k]) \n",
    "             for k in range(MLE_test_df.shape[0])]"
   ],
   "metadata": {
    "collapsed": false,
    "ExecuteTime": {
     "end_time": "2025-02-25T00:38:07.848367Z",
     "start_time": "2025-02-25T00:38:07.834980Z"
    }
   },
   "id": "2129c3a58b1f6b8c"
  },
  {
   "cell_type": "code",
   "execution_count": 200,
   "outputs": [],
   "source": [
    "alpha = 0.1\n",
    "naive_train = [(naive_df[\"pval\"][k] < alpha) for k in range(naive_df.shape[0])]\n",
    "naive_test = [(naive_test_df[\"pval\"][k] < alpha) for k in range(naive_test_df.shape[0])]"
   ],
   "metadata": {
    "collapsed": false,
    "ExecuteTime": {
     "end_time": "2025-02-25T00:38:08.139629Z",
     "start_time": "2025-02-25T00:38:08.116662Z"
    }
   },
   "id": "e8d80e001237f85"
  },
  {
   "cell_type": "code",
   "execution_count": 201,
   "outputs": [
    {
     "data": {
      "text/plain": "array([[ 5,  2],\n       [19,  7]])"
     },
     "execution_count": 201,
     "metadata": {},
     "output_type": "execute_result"
    }
   ],
   "source": [
    "from sklearn.metrics import confusion_matrix\n",
    "# tn, fp, \n",
    "# fn, tp\n",
    "confusion_matrix(naive_test, naive_train)"
   ],
   "metadata": {
    "collapsed": false,
    "ExecuteTime": {
     "end_time": "2025-02-25T00:38:08.430739Z",
     "start_time": "2025-02-25T00:38:08.421450Z"
    }
   },
   "id": "fcfd3ca5b8476384"
  },
  {
   "cell_type": "code",
   "execution_count": 202,
   "outputs": [
    {
     "data": {
      "text/plain": "0.4"
     },
     "execution_count": 202,
     "metadata": {},
     "output_type": "execute_result"
    }
   ],
   "source": [
    "from sklearn.metrics import f1_score\n",
    "f1_score(naive_test, naive_train)"
   ],
   "metadata": {
    "collapsed": false,
    "ExecuteTime": {
     "end_time": "2025-02-25T00:38:08.671215Z",
     "start_time": "2025-02-25T00:38:08.660673Z"
    }
   },
   "id": "a89df0cf086b7765"
  },
  {
   "cell_type": "code",
   "execution_count": 203,
   "outputs": [],
   "source": [
    "MLE_train = [(MLE_df[\"pval\"][k] < alpha) for k in range(MLE_df.shape[0])]\n",
    "MLE_test = [(MLE_test_df[\"pval\"][k] < alpha) for k in range(MLE_test_df.shape[0])]"
   ],
   "metadata": {
    "collapsed": false,
    "ExecuteTime": {
     "end_time": "2025-02-25T00:38:09.515200Z",
     "start_time": "2025-02-25T00:38:09.504869Z"
    }
   },
   "id": "3f42fe90bd091efb"
  },
  {
   "cell_type": "code",
   "execution_count": 204,
   "outputs": [
    {
     "data": {
      "text/plain": "array([[ 7,  0],\n       [14, 12]])"
     },
     "execution_count": 204,
     "metadata": {},
     "output_type": "execute_result"
    }
   ],
   "source": [
    "from sklearn.metrics import confusion_matrix\n",
    "# tn, fp, \n",
    "# fn, tp\n",
    "confusion_matrix(MLE_test, MLE_train)"
   ],
   "metadata": {
    "collapsed": false,
    "ExecuteTime": {
     "end_time": "2025-02-25T00:38:09.836211Z",
     "start_time": "2025-02-25T00:38:09.824355Z"
    }
   },
   "id": "5753a5bb10ba942b"
  },
  {
   "cell_type": "code",
   "execution_count": 205,
   "outputs": [
    {
     "data": {
      "text/plain": "0.631578947368421"
     },
     "execution_count": 205,
     "metadata": {},
     "output_type": "execute_result"
    }
   ],
   "source": [
    "from sklearn.metrics import f1_score\n",
    "f1_score(MLE_test, MLE_train)"
   ],
   "metadata": {
    "collapsed": false,
    "ExecuteTime": {
     "end_time": "2025-02-25T00:38:10.243689Z",
     "start_time": "2025-02-25T00:38:10.229731Z"
    }
   },
   "id": "9e5caff85873d7da"
  },
  {
   "cell_type": "code",
   "execution_count": 206,
   "outputs": [
    {
     "data": {
      "text/plain": "12"
     },
     "execution_count": 206,
     "metadata": {},
     "output_type": "execute_result"
    }
   ],
   "source": [
    "len(set(MLE_test_significant).intersection(set(MLE_significant)))# / len(MLE_test_significant)"
   ],
   "metadata": {
    "collapsed": false,
    "ExecuteTime": {
     "end_time": "2025-02-25T00:38:10.563045Z",
     "start_time": "2025-02-25T00:38:10.550883Z"
    }
   },
   "id": "8a3d3f01f1cd77fb"
  },
  {
   "cell_type": "code",
   "execution_count": 206,
   "outputs": [],
   "source": [],
   "metadata": {
    "collapsed": false,
    "ExecuteTime": {
     "end_time": "2025-02-25T00:38:11.042568Z",
     "start_time": "2025-02-25T00:38:11.037100Z"
    }
   },
   "id": "6b15b02c81f335d1"
  },
  {
   "cell_type": "code",
   "execution_count": 437,
   "outputs": [
    {
     "data": {
      "text/plain": "15"
     },
     "execution_count": 437,
     "metadata": {},
     "output_type": "execute_result"
    }
   ],
   "source": [
    "len(set(MLE_test_insig).intersection(set(MLE_insig)))# / len(set(MLE_test_insig))"
   ],
   "metadata": {
    "collapsed": false,
    "ExecuteTime": {
     "end_time": "2025-02-23T20:24:02.266251Z",
     "start_time": "2025-02-23T20:24:02.254266Z"
    }
   },
   "id": "7b9675d0002637e"
  },
  {
   "cell_type": "markdown",
   "source": [
    "# Repeated subsampling"
   ],
   "metadata": {
    "collapsed": false
   },
   "id": "afde7042028f702"
  },
  {
   "cell_type": "code",
   "execution_count": 222,
   "outputs": [],
   "source": [
    "def subsampling_inference(Y, X, test_size, n_rep, alpha = 0.1):\n",
    "    f1_dict = {\"method\":[], \"F1\":[]}\n",
    "    \n",
    "    for i in range(n_rep):\n",
    "        x_train, x_test, y_train, y_test = train_test_split(X, Y, \n",
    "                                                            test_size=test_size,\n",
    "                                                            random_state=i)\n",
    "    \n",
    "        linear = list(x_train.columns[x_train.nunique() < 40])\n",
    "        x_train_nl = x_train.drop(linear, axis=1)\n",
    "        x_train_l_temp = x_train[linear]\n",
    "        x_test_nl = x_test.drop(linear, axis=1)\n",
    "        x_test_l = x_test[linear]\n",
    "        n_train = x_train_l_temp.shape[0]\n",
    "        n_test = x_test_l.shape[0]\n",
    "        \n",
    "        x_train_l = (x_train_l_temp - x_train_l_temp.mean()) / (x_train_l_temp.std() * np.sqrt(n_train))\n",
    "        x_test_l = (x_test_l - x_train_l_temp.mean()) / (x_train_l_temp.std() * np.sqrt(n_test))\n",
    "        design_train, groups_train = (\n",
    "            get_splines(x_train_nl, x_train_l, nknots=6, degree=2, intercept=True))\n",
    "        design_test, groups_test = (\n",
    "            get_splines(x_test_nl, x_test_l, nknots=6, degree=2, intercept=True))\n",
    "    \n",
    "        const = group_lasso.gaussian\n",
    "    \n",
    "    \n",
    "        result_naive, nonzero_naive, selected_groups_naive \\\n",
    "            = naive_inference_real_data(X=design_train, Y=np.array(y_train),\n",
    "                                        raw_data=np.array(x_train),\n",
    "                                        groups=groups_train, const=const,\n",
    "                                        n_features=x_train.shape[1],\n",
    "                                        intercept=True, weight_frac=0.75, level=0.9,\n",
    "                                        mode=\"weakhierarchy\", root_n_scaled=False)\n",
    "        \n",
    "        result_MLE, nonzero_MLE, selected_groups_MLE \\\n",
    "            = MLE_inference_real_data(X=design_train, Y=np.array(y_train),\n",
    "                                      raw_data=np.array(x_train), groups=groups_train,\n",
    "                                      n_features=x_train.shape[1],\n",
    "                                      intercept=True, weight_frac=0.75, level=0.9,\n",
    "                                      mode=\"weakhierarchy\",\n",
    "                                      root_n_scaled=False, proportion=0.9)\n",
    "    \n",
    "        result_naive_validate = validate(x_test, design_test, y_test, nonzero_naive,\n",
    "                                         selected_groups_naive, groups=groups_train,\n",
    "                                         n_features=x_train.shape[1],\n",
    "                                         intercept=True, mode=\"weakhierarchy\", level=0.9)\n",
    "    \n",
    "        result_MLE_validate = validate(x_test, design_test, y_test, nonzero_MLE,\n",
    "                                       selected_groups_MLE, groups=groups_train,\n",
    "                                       n_features=x_train.shape[1],\n",
    "                                       intercept=True, mode=\"weakhierarchy\", level=0.9)\n",
    "    \n",
    "        naive_df = pd.DataFrame(result_naive)\n",
    "        naive_test_df = pd.DataFrame(result_naive_validate)\n",
    "        MLE_df = pd.DataFrame(result_MLE)\n",
    "        MLE_test_df = pd.DataFrame(result_MLE_validate)\n",
    "        \n",
    "        naive_train = [(naive_df[\"pval\"][k] < alpha) for k in range(naive_df.shape[0])]\n",
    "        naive_test = [(naive_test_df[\"pval\"][k] < alpha) for k in range(naive_test_df.shape[0])]\n",
    "        \n",
    "        \n",
    "        MLE_train = [(MLE_df[\"pval\"][k] < alpha) for k in range(MLE_df.shape[0])]\n",
    "        MLE_test = [(MLE_test_df[\"pval\"][k] < alpha) for k in range(MLE_test_df.shape[0])]\n",
    "        \n",
    "        f1_dict[\"method\"].append(\"Naive\")\n",
    "        f1_dict[\"F1\"].append(f1_score(naive_test, naive_train))\n",
    "        f1_dict[\"method\"].append(\"MLE\")\n",
    "        f1_dict[\"F1\"].append(f1_score(MLE_test, MLE_train))\n",
    "    return f1_dict\n",
    "    \n",
    "    "
   ],
   "metadata": {
    "collapsed": false,
    "ExecuteTime": {
     "end_time": "2025-02-25T00:59:43.594244Z",
     "start_time": "2025-02-25T00:59:43.585711Z"
    }
   },
   "id": "4a4039240a0e696b"
  },
  {
   "cell_type": "code",
   "execution_count": 224,
   "outputs": [
    {
     "name": "stdout",
     "output_type": "stream",
     "text": [
      "Equally spaced quantile knots used.\n",
      "Equally spaced quantile knots used.\n",
      "Selected groups: [0, 2, 3, 5, 8, 11, 12]\n",
      "Naive Selected Groups: 7\n",
      "Selected groups: [0, 3, 5, 8, 12]\n",
      "MLE Selected Groups: 5\n",
      "Equally spaced quantile knots used.\n",
      "Equally spaced quantile knots used.\n",
      "Selected groups: [0, 1, 2, 5, 11, 12]\n",
      "Naive Selected Groups: 6\n",
      "Selected groups: [0, 1, 2, 5, 12]\n",
      "MLE Selected Groups: 5\n",
      "Equally spaced quantile knots used.\n",
      "Equally spaced quantile knots used.\n",
      "Selected groups: [0, 2, 5, 9, 12]\n",
      "Naive Selected Groups: 5\n",
      "Selected groups: [0, 2, 5, 9, 12]\n",
      "MLE Selected Groups: 5\n",
      "Equally spaced quantile knots used.\n",
      "Equally spaced quantile knots used.\n",
      "Selected groups: [0, 5, 8, 11, 12]\n",
      "Naive Selected Groups: 5\n",
      "Selected groups: [0, 5, 8, 12]\n",
      "MLE Selected Groups: 4\n",
      "Equally spaced quantile knots used.\n",
      "Equally spaced quantile knots used.\n",
      "Selected groups: [0, 2, 5, 7, 8, 11, 12]\n",
      "Naive Selected Groups: 7\n",
      "Selected groups: [0, 2, 5, 8, 12]\n",
      "MLE Selected Groups: 5\n",
      "Equally spaced quantile knots used.\n",
      "Equally spaced quantile knots used.\n",
      "Selected groups: [0, 1, 4, 7, 12]\n",
      "Naive Selected Groups: 5\n",
      "Selected groups: [0, 1, 2, 4, 7, 12]\n",
      "MLE Selected Groups: 6\n",
      "Equally spaced quantile knots used.\n",
      "Equally spaced quantile knots used.\n",
      "Selected groups: [0, 5, 7, 9, 11, 12]\n",
      "Naive Selected Groups: 6\n",
      "Selected groups: [0, 5, 8, 9, 11, 12]\n",
      "MLE Selected Groups: 6\n",
      "Equally spaced quantile knots used.\n",
      "Equally spaced quantile knots used.\n",
      "Selected groups: [0, 3, 5, 10, 11, 12]\n",
      "Naive Selected Groups: 6\n",
      "Selected groups: [0, 3, 5, 10, 12]\n",
      "MLE Selected Groups: 5\n",
      "Equally spaced quantile knots used.\n",
      "Equally spaced quantile knots used.\n",
      "Selected groups: [0, 3, 8, 9, 13]\n",
      "Naive Selected Groups: 5\n",
      "Selected groups: [0, 3, 8, 9, 12, 13]\n",
      "MLE Selected Groups: 6\n",
      "Equally spaced quantile knots used.\n",
      "Equally spaced quantile knots used.\n",
      "Selected groups: [0, 2, 5, 8, 10, 11, 12]\n",
      "Naive Selected Groups: 7\n",
      "Selected groups: [0, 5, 8, 10, 11, 12]\n",
      "MLE Selected Groups: 6\n",
      "Equally spaced quantile knots used.\n",
      "Equally spaced quantile knots used.\n",
      "Selected groups: [0, 2, 5, 9, 10, 12]\n",
      "Naive Selected Groups: 6\n",
      "Selected groups: [0, 2, 3, 5, 9, 10, 12]\n",
      "MLE Selected Groups: 7\n",
      "Equally spaced quantile knots used.\n",
      "Equally spaced quantile knots used.\n",
      "Selected groups: [0, 2, 5, 9, 12]\n",
      "Naive Selected Groups: 5\n",
      "Selected groups: [0, 3, 5, 9, 12]\n",
      "MLE Selected Groups: 5\n",
      "Equally spaced quantile knots used.\n",
      "Equally spaced quantile knots used.\n",
      "Selected groups: [0, 2, 5, 10, 11, 12]\n",
      "Naive Selected Groups: 6\n",
      "Selected groups: [0, 2, 5, 12]\n",
      "MLE Selected Groups: 4\n",
      "Equally spaced quantile knots used.\n",
      "Equally spaced quantile knots used.\n",
      "Selected groups: [0, 2, 5, 11, 12]\n",
      "Naive Selected Groups: 5\n",
      "Selected groups: [0, 2, 5, 12]\n",
      "MLE Selected Groups: 4\n",
      "Equally spaced quantile knots used.\n",
      "Equally spaced quantile knots used.\n",
      "Selected groups: [0, 2, 5, 12]\n",
      "Naive Selected Groups: 4\n",
      "Selected groups: [0, 2, 5, 9, 12]\n",
      "MLE Selected Groups: 5\n",
      "Equally spaced quantile knots used.\n",
      "Equally spaced quantile knots used.\n",
      "Selected groups: [0, 2, 5, 10, 12]\n",
      "Naive Selected Groups: 5\n",
      "Selected groups: [0, 5, 10, 12]\n",
      "MLE Selected Groups: 4\n",
      "Equally spaced quantile knots used.\n",
      "Equally spaced quantile knots used.\n",
      "Selected groups: [0, 2, 4, 7, 8, 10, 11, 12]\n",
      "Naive Selected Groups: 8\n",
      "Selected groups: [0, 2, 4, 7, 8, 10, 11, 12, 13]\n",
      "MLE Selected Groups: 9\n",
      "Equally spaced quantile knots used.\n",
      "Equally spaced quantile knots used.\n",
      "Selected groups: [0, 5, 8, 9, 11, 12]\n",
      "Naive Selected Groups: 6\n",
      "Selected groups: [0, 5, 8, 9, 12]\n",
      "MLE Selected Groups: 5\n",
      "Equally spaced quantile knots used.\n",
      "Equally spaced quantile knots used.\n",
      "Selected groups: [0, 2, 9, 11, 12]\n",
      "Naive Selected Groups: 5\n",
      "Selected groups: [0, 2, 11, 12]\n",
      "MLE Selected Groups: 4\n",
      "Equally spaced quantile knots used.\n",
      "Equally spaced quantile knots used.\n",
      "Selected groups: [0, 2, 5, 6, 10, 11, 12, 13]\n",
      "Naive Selected Groups: 8\n",
      "Selected groups: [0, 2, 5, 6, 10, 12, 13]\n",
      "MLE Selected Groups: 7\n",
      "Equally spaced quantile knots used.\n",
      "Equally spaced quantile knots used.\n",
      "Selected groups: [0, 2, 5, 9, 11, 12]\n",
      "Naive Selected Groups: 6\n",
      "Selected groups: [0, 2, 5, 9, 12]\n",
      "MLE Selected Groups: 5\n",
      "Equally spaced quantile knots used.\n",
      "Equally spaced quantile knots used.\n",
      "Selected groups: [0, 2, 5, 8, 12]\n",
      "Naive Selected Groups: 5\n",
      "Selected groups: [0, 2, 3, 5, 7, 8, 12]\n",
      "MLE Selected Groups: 7\n",
      "Equally spaced quantile knots used.\n",
      "Equally spaced quantile knots used.\n",
      "Selected groups: [0, 2, 3, 5]\n",
      "Naive Selected Groups: 4\n",
      "Selected groups: [0, 3, 12]\n",
      "MLE Selected Groups: 3\n",
      "Equally spaced quantile knots used.\n",
      "Equally spaced quantile knots used.\n",
      "Selected groups: [0, 2, 3, 5, 8, 10, 12]\n",
      "Naive Selected Groups: 7\n",
      "Selected groups: [0, 2, 3, 5, 8, 10, 12]\n",
      "MLE Selected Groups: 7\n",
      "Equally spaced quantile knots used.\n",
      "Equally spaced quantile knots used.\n",
      "Selected groups: [0, 2, 5, 10, 12, 13]\n",
      "Naive Selected Groups: 6\n",
      "Selected groups: [0, 2, 5, 12, 13]\n",
      "MLE Selected Groups: 5\n",
      "Equally spaced quantile knots used.\n",
      "Equally spaced quantile knots used.\n",
      "Selected groups: [0, 2, 5, 12]\n",
      "Naive Selected Groups: 4\n",
      "Selected groups: [0, 3, 5, 12]\n",
      "MLE Selected Groups: 4\n",
      "Equally spaced quantile knots used.\n",
      "Equally spaced quantile knots used.\n",
      "Selected groups: [0, 2, 9, 12]\n",
      "Naive Selected Groups: 4\n",
      "Selected groups: [0, 3, 9, 12]\n",
      "MLE Selected Groups: 4\n",
      "Equally spaced quantile knots used.\n",
      "Equally spaced quantile knots used.\n",
      "Selected groups: [0, 3, 5, 8, 11, 12]\n",
      "Naive Selected Groups: 6\n",
      "Selected groups: [0, 3, 5, 8, 11, 12]\n",
      "MLE Selected Groups: 6\n",
      "Equally spaced quantile knots used.\n",
      "Equally spaced quantile knots used.\n",
      "Selected groups: [0]\n",
      "Nothing selected\n"
     ]
    },
    {
     "ename": "TypeError",
     "evalue": "cannot unpack non-iterable NoneType object",
     "output_type": "error",
     "traceback": [
      "\u001B[0;31m---------------------------------------------------------------------------\u001B[0m",
      "\u001B[0;31mTypeError\u001B[0m                                 Traceback (most recent call last)",
      "Cell \u001B[0;32mIn[224], line 1\u001B[0m\n\u001B[0;32m----> 1\u001B[0m f1_dict \u001B[38;5;241m=\u001B[39m \u001B[43msubsampling_inference\u001B[49m\u001B[43m(\u001B[49m\u001B[43mY\u001B[49m\u001B[43m,\u001B[49m\u001B[43m \u001B[49m\u001B[43mX\u001B[49m\u001B[43m,\u001B[49m\u001B[43m \u001B[49m\u001B[43mtest_size\u001B[49m\u001B[38;5;241;43m=\u001B[39;49m\u001B[38;5;241;43m0.9\u001B[39;49m\u001B[43m,\u001B[49m\u001B[43m \u001B[49m\u001B[43mn_rep\u001B[49m\u001B[38;5;241;43m=\u001B[39;49m\u001B[38;5;241;43m30\u001B[39;49m\u001B[43m,\u001B[49m\u001B[43m \u001B[49m\u001B[43malpha\u001B[49m\u001B[38;5;241;43m=\u001B[39;49m\u001B[38;5;241;43m0.1\u001B[39;49m\u001B[43m)\u001B[49m\n",
      "Cell \u001B[0;32mIn[222], line 27\u001B[0m, in \u001B[0;36msubsampling_inference\u001B[0;34m(Y, X, test_size, n_rep, alpha)\u001B[0m\n\u001B[1;32m     21\u001B[0m design_test, groups_test \u001B[38;5;241m=\u001B[39m (\n\u001B[1;32m     22\u001B[0m     get_splines(x_test_nl, x_test_l, nknots\u001B[38;5;241m=\u001B[39m\u001B[38;5;241m6\u001B[39m, degree\u001B[38;5;241m=\u001B[39m\u001B[38;5;241m2\u001B[39m, intercept\u001B[38;5;241m=\u001B[39m\u001B[38;5;28;01mTrue\u001B[39;00m))\n\u001B[1;32m     24\u001B[0m const \u001B[38;5;241m=\u001B[39m group_lasso\u001B[38;5;241m.\u001B[39mgaussian\n\u001B[0;32m---> 27\u001B[0m result_naive, nonzero_naive, selected_groups_naive \\\n\u001B[1;32m     28\u001B[0m     \u001B[38;5;241m=\u001B[39m naive_inference_real_data(X\u001B[38;5;241m=\u001B[39mdesign_train, Y\u001B[38;5;241m=\u001B[39mnp\u001B[38;5;241m.\u001B[39marray(y_train),\n\u001B[1;32m     29\u001B[0m                                 raw_data\u001B[38;5;241m=\u001B[39mnp\u001B[38;5;241m.\u001B[39marray(x_train),\n\u001B[1;32m     30\u001B[0m                                 groups\u001B[38;5;241m=\u001B[39mgroups_train, const\u001B[38;5;241m=\u001B[39mconst,\n\u001B[1;32m     31\u001B[0m                                 n_features\u001B[38;5;241m=\u001B[39mx_train\u001B[38;5;241m.\u001B[39mshape[\u001B[38;5;241m1\u001B[39m],\n\u001B[1;32m     32\u001B[0m                                 intercept\u001B[38;5;241m=\u001B[39m\u001B[38;5;28;01mTrue\u001B[39;00m, weight_frac\u001B[38;5;241m=\u001B[39m\u001B[38;5;241m0.75\u001B[39m, level\u001B[38;5;241m=\u001B[39m\u001B[38;5;241m0.9\u001B[39m,\n\u001B[1;32m     33\u001B[0m                                 mode\u001B[38;5;241m=\u001B[39m\u001B[38;5;124m\"\u001B[39m\u001B[38;5;124mweakhierarchy\u001B[39m\u001B[38;5;124m\"\u001B[39m, root_n_scaled\u001B[38;5;241m=\u001B[39m\u001B[38;5;28;01mFalse\u001B[39;00m)\n\u001B[1;32m     35\u001B[0m result_MLE, nonzero_MLE, selected_groups_MLE \\\n\u001B[1;32m     36\u001B[0m     \u001B[38;5;241m=\u001B[39m MLE_inference_real_data(X\u001B[38;5;241m=\u001B[39mdesign_train, Y\u001B[38;5;241m=\u001B[39mnp\u001B[38;5;241m.\u001B[39marray(y_train),\n\u001B[1;32m     37\u001B[0m                               raw_data\u001B[38;5;241m=\u001B[39mnp\u001B[38;5;241m.\u001B[39marray(x_train), groups\u001B[38;5;241m=\u001B[39mgroups_train,\n\u001B[0;32m   (...)\u001B[0m\n\u001B[1;32m     40\u001B[0m                               mode\u001B[38;5;241m=\u001B[39m\u001B[38;5;124m\"\u001B[39m\u001B[38;5;124mweakhierarchy\u001B[39m\u001B[38;5;124m\"\u001B[39m,\n\u001B[1;32m     41\u001B[0m                               root_n_scaled\u001B[38;5;241m=\u001B[39m\u001B[38;5;28;01mFalse\u001B[39;00m, proportion\u001B[38;5;241m=\u001B[39m\u001B[38;5;241m0.9\u001B[39m)\n\u001B[1;32m     43\u001B[0m result_naive_validate \u001B[38;5;241m=\u001B[39m validate(x_test, design_test, y_test, nonzero_naive,\n\u001B[1;32m     44\u001B[0m                                  selected_groups_naive, groups\u001B[38;5;241m=\u001B[39mgroups_train,\n\u001B[1;32m     45\u001B[0m                                  n_features\u001B[38;5;241m=\u001B[39mx_train\u001B[38;5;241m.\u001B[39mshape[\u001B[38;5;241m1\u001B[39m],\n\u001B[1;32m     46\u001B[0m                                  intercept\u001B[38;5;241m=\u001B[39m\u001B[38;5;28;01mTrue\u001B[39;00m, mode\u001B[38;5;241m=\u001B[39m\u001B[38;5;124m\"\u001B[39m\u001B[38;5;124mweakhierarchy\u001B[39m\u001B[38;5;124m\"\u001B[39m, level\u001B[38;5;241m=\u001B[39m\u001B[38;5;241m0.9\u001B[39m)\n",
      "\u001B[0;31mTypeError\u001B[0m: cannot unpack non-iterable NoneType object"
     ]
    }
   ],
   "source": [
    "f1_dict = subsampling_inference(Y, X, test_size=0.9, n_rep=30, alpha=0.1)"
   ],
   "metadata": {
    "collapsed": false,
    "ExecuteTime": {
     "end_time": "2025-02-25T03:53:29.289591Z",
     "start_time": "2025-02-25T01:00:11.724456Z"
    }
   },
   "id": "5d9eebde745b44d1"
  },
  {
   "cell_type": "code",
   "execution_count": 221,
   "outputs": [
    {
     "data": {
      "text/plain": "<Axes: xlabel='method', ylabel='F1'>"
     },
     "execution_count": 221,
     "metadata": {},
     "output_type": "execute_result"
    },
    {
     "data": {
      "text/plain": "<Figure size 640x480 with 1 Axes>",
      "image/png": "[encoded data removed]"
     },
     "metadata": {},
     "output_type": "display_data"
    }
   ],
   "source": [
    "import matplotlib.pyplot as plt\n",
    "import seaborn as sns\n",
    "sns.boxplot(\n",
    "    data=pd.DataFrame(f1_dict),\n",
    "    x='method',\n",
    "    y='F1'\n",
    ")"
   ],
   "metadata": {
    "collapsed": false,
    "ExecuteTime": {
     "end_time": "2025-02-25T00:59:25.453767Z",
     "start_time": "2025-02-25T00:59:25.327668Z"
    }
   },
   "id": "1ace21a636347640"
  },
  {
   "cell_type": "code",
   "execution_count": null,
   "outputs": [],
   "source": [],
   "metadata": {
    "collapsed": false
   },
   "id": "65972116c5ed4c6"
  }
 ],
 "metadata": {
  "kernelspec": {
   "display_name": "Python 3",
   "language": "python",
   "name": "python3"
  },
  "language_info": {
   "codemirror_mode": {
    "name": "ipython",
    "version": 2
   },
   "file_extension": ".py",
   "mimetype": "text/x-python",
   "name": "python",
   "nbconvert_exporter": "python",
   "pygments_lexer": "ipython2",
   "version": "2.7.6"
  }
 },
 "nbformat": 4,
 "nbformat_minor": 5
}
