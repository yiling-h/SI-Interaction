{
 "cells": [
  {
   "cell_type": "code",
   "execution_count": 1,
   "id": "initial_id",
   "metadata": {
    "collapsed": true,
    "ExecuteTime": {
     "end_time": "2025-02-21T06:04:09.047066Z",
     "start_time": "2025-02-21T06:04:08.556748Z"
    }
   },
   "outputs": [],
   "source": [
    "import pandas as pd\n",
    "import numpy as np\n",
    "import matplotlib.pyplot as plt\n",
    "import seaborn as sns\n",
    "from sklearn.model_selection import train_test_split\n",
    "from selectinf.Simulation.spline import cubic_spline, b_spline\n",
    "from selectinf.Simulation.H1.nonlinear_H1_helpers import *\n",
    "from selectinf.RealDataHelpers.rdhelpers import *\n",
    "from sklearn.decomposition import PCA\n",
    "\n",
    "data_url = \"http://lib.stat.cmu.edu/datasets/boston\"\n",
    "raw_df = pd.read_csv(data_url, sep=\"\\s+\", skiprows=22, header=None)\n",
    "data = np.hstack([raw_df.values[::2, :], raw_df.values[1::2, :2]])\n",
    "target = raw_df.values[1::2, 2]"
   ]
  },
  {
   "cell_type": "code",
   "execution_count": 2,
   "outputs": [
    {
     "data": {
      "text/plain": "          0     1      2    3      4      5     6       7    8      9     10  \\\n0    0.00632  18.0   2.31  0.0  0.538  6.575  65.2  4.0900  1.0  296.0  15.3   \n1    0.02731   0.0   7.07  0.0  0.469  6.421  78.9  4.9671  2.0  242.0  17.8   \n2    0.02729   0.0   7.07  0.0  0.469  7.185  61.1  4.9671  2.0  242.0  17.8   \n3    0.03237   0.0   2.18  0.0  0.458  6.998  45.8  6.0622  3.0  222.0  18.7   \n4    0.06905   0.0   2.18  0.0  0.458  7.147  54.2  6.0622  3.0  222.0  18.7   \n..       ...   ...    ...  ...    ...    ...   ...     ...  ...    ...   ...   \n501  0.06263   0.0  11.93  0.0  0.573  6.593  69.1  2.4786  1.0  273.0  21.0   \n502  0.04527   0.0  11.93  0.0  0.573  6.120  76.7  2.2875  1.0  273.0  21.0   \n503  0.06076   0.0  11.93  0.0  0.573  6.976  91.0  2.1675  1.0  273.0  21.0   \n504  0.10959   0.0  11.93  0.0  0.573  6.794  89.3  2.3889  1.0  273.0  21.0   \n505  0.04741   0.0  11.93  0.0  0.573  6.030  80.8  2.5050  1.0  273.0  21.0   \n\n         11    12  \n0    396.90  4.98  \n1    396.90  9.14  \n2    392.83  4.03  \n3    394.63  2.94  \n4    396.90  5.33  \n..      ...   ...  \n501  391.99  9.67  \n502  396.90  9.08  \n503  396.90  5.64  \n504  393.45  6.48  \n505  396.90  7.88  \n\n[506 rows x 13 columns]",
      "text/html": "<div>\n<style scoped>\n    .dataframe tbody tr th:only-of-type {\n        vertical-align: middle;\n    }\n\n    .dataframe tbody tr th {\n        vertical-align: top;\n    }\n\n    .dataframe thead th {\n        text-align: right;\n    }\n</style>\n<table border=\"1\" class=\"dataframe\">\n  <thead>\n    <tr style=\"text-align: right;\">\n      <th></th>\n      <th>0</th>\n      <th>1</th>\n      <th>2</th>\n      <th>3</th>\n      <th>4</th>\n      <th>5</th>\n      <th>6</th>\n      <th>7</th>\n      <th>8</th>\n      <th>9</th>\n      <th>10</th>\n      <th>11</th>\n      <th>12</th>\n    </tr>\n  </thead>\n  <tbody>\n    <tr>\n      <th>0</th>\n      <td>0.00632</td>\n      <td>18.0</td>\n      <td>2.31</td>\n      <td>0.0</td>\n      <td>0.538</td>\n      <td>6.575</td>\n      <td>65.2</td>\n      <td>4.0900</td>\n      <td>1.0</td>\n      <td>296.0</td>\n      <td>15.3</td>\n      <td>396.90</td>\n      <td>4.98</td>\n    </tr>\n    <tr>\n      <th>1</th>\n      <td>0.02731</td>\n      <td>0.0</td>\n      <td>7.07</td>\n      <td>0.0</td>\n      <td>0.469</td>\n      <td>6.421</td>\n      <td>78.9</td>\n      <td>4.9671</td>\n      <td>2.0</td>\n      <td>242.0</td>\n      <td>17.8</td>\n      <td>396.90</td>\n      <td>9.14</td>\n    </tr>\n    <tr>\n      <th>2</th>\n      <td>0.02729</td>\n      <td>0.0</td>\n      <td>7.07</td>\n      <td>0.0</td>\n      <td>0.469</td>\n      <td>7.185</td>\n      <td>61.1</td>\n      <td>4.9671</td>\n      <td>2.0</td>\n      <td>242.0</td>\n      <td>17.8</td>\n      <td>392.83</td>\n      <td>4.03</td>\n    </tr>\n    <tr>\n      <th>3</th>\n      <td>0.03237</td>\n      <td>0.0</td>\n      <td>2.18</td>\n      <td>0.0</td>\n      <td>0.458</td>\n      <td>6.998</td>\n      <td>45.8</td>\n      <td>6.0622</td>\n      <td>3.0</td>\n      <td>222.0</td>\n      <td>18.7</td>\n      <td>394.63</td>\n      <td>2.94</td>\n    </tr>\n    <tr>\n      <th>4</th>\n      <td>0.06905</td>\n      <td>0.0</td>\n      <td>2.18</td>\n      <td>0.0</td>\n      <td>0.458</td>\n      <td>7.147</td>\n      <td>54.2</td>\n      <td>6.0622</td>\n      <td>3.0</td>\n      <td>222.0</td>\n      <td>18.7</td>\n      <td>396.90</td>\n      <td>5.33</td>\n    </tr>\n    <tr>\n      <th>...</th>\n      <td>...</td>\n      <td>...</td>\n      <td>...</td>\n      <td>...</td>\n      <td>...</td>\n      <td>...</td>\n      <td>...</td>\n      <td>...</td>\n      <td>...</td>\n      <td>...</td>\n      <td>...</td>\n      <td>...</td>\n      <td>...</td>\n    </tr>\n    <tr>\n      <th>501</th>\n      <td>0.06263</td>\n      <td>0.0</td>\n      <td>11.93</td>\n      <td>0.0</td>\n      <td>0.573</td>\n      <td>6.593</td>\n      <td>69.1</td>\n      <td>2.4786</td>\n      <td>1.0</td>\n      <td>273.0</td>\n      <td>21.0</td>\n      <td>391.99</td>\n      <td>9.67</td>\n    </tr>\n    <tr>\n      <th>502</th>\n      <td>0.04527</td>\n      <td>0.0</td>\n      <td>11.93</td>\n      <td>0.0</td>\n      <td>0.573</td>\n      <td>6.120</td>\n      <td>76.7</td>\n      <td>2.2875</td>\n      <td>1.0</td>\n      <td>273.0</td>\n      <td>21.0</td>\n      <td>396.90</td>\n      <td>9.08</td>\n    </tr>\n    <tr>\n      <th>503</th>\n      <td>0.06076</td>\n      <td>0.0</td>\n      <td>11.93</td>\n      <td>0.0</td>\n      <td>0.573</td>\n      <td>6.976</td>\n      <td>91.0</td>\n      <td>2.1675</td>\n      <td>1.0</td>\n      <td>273.0</td>\n      <td>21.0</td>\n      <td>396.90</td>\n      <td>5.64</td>\n    </tr>\n    <tr>\n      <th>504</th>\n      <td>0.10959</td>\n      <td>0.0</td>\n      <td>11.93</td>\n      <td>0.0</td>\n      <td>0.573</td>\n      <td>6.794</td>\n      <td>89.3</td>\n      <td>2.3889</td>\n      <td>1.0</td>\n      <td>273.0</td>\n      <td>21.0</td>\n      <td>393.45</td>\n      <td>6.48</td>\n    </tr>\n    <tr>\n      <th>505</th>\n      <td>0.04741</td>\n      <td>0.0</td>\n      <td>11.93</td>\n      <td>0.0</td>\n      <td>0.573</td>\n      <td>6.030</td>\n      <td>80.8</td>\n      <td>2.5050</td>\n      <td>1.0</td>\n      <td>273.0</td>\n      <td>21.0</td>\n      <td>396.90</td>\n      <td>7.88</td>\n    </tr>\n  </tbody>\n</table>\n<p>506 rows × 13 columns</p>\n</div>"
     },
     "execution_count": 2,
     "metadata": {},
     "output_type": "execute_result"
    }
   ],
   "source": [
    "data = pd.DataFrame(data)\n",
    "data"
   ],
   "metadata": {
    "collapsed": false,
    "ExecuteTime": {
     "end_time": "2025-02-21T06:04:09.801793Z",
     "start_time": "2025-02-21T06:04:09.785448Z"
    }
   },
   "id": "5b8d11b885b83b1c"
  },
  {
   "cell_type": "code",
   "execution_count": 3,
   "outputs": [],
   "source": [
    "data.columns = [ \"CRIM\",\n",
    " \"ZN\",#      proportion of residential land zoned for lots over 25,000 sq.ft.\n",
    " \"INDUS\",#   proportion of non-retail business acres per town\n",
    " \"CHAS\",#     Charles River dummy variable (= 1 if tract bounds river; 0 otherwise)\n",
    " \"NOX\",#      nitric oxides concentration (parts per 10 million)\n",
    " \"RM\",#       average number of rooms per dwelling\n",
    " \"AGE\",#      proportion of owner-occupied units built prior to 1940\n",
    " \"DIS\",#      weighted distances to five Boston employment centres\n",
    " \"RAD\",#      index of accessibility to radial highways\n",
    " \"TAX\",#      full-value property-tax rate per $10,000\n",
    " \"PTRATIO\",#  pupil-teacher ratio by town\n",
    " \"B\",#        1000(Bk - 0.63)^2 where Bk is the proportion of blacks by town\n",
    " \"LSTAT\",#    % lower status of the population\n",
    "                  ]"
   ],
   "metadata": {
    "collapsed": false,
    "ExecuteTime": {
     "end_time": "2025-02-21T06:04:10.528230Z",
     "start_time": "2025-02-21T06:04:10.356363Z"
    }
   },
   "id": "4d0d8df3cee48dad"
  },
  {
   "cell_type": "code",
   "execution_count": 4,
   "outputs": [
    {
     "data": {
      "text/plain": "        CRIM    ZN  INDUS  CHAS    NOX     RM   AGE     DIS  RAD    TAX  \\\n0    0.00632  18.0   2.31   0.0  0.538  6.575  65.2  4.0900  1.0  296.0   \n1    0.02731   0.0   7.07   0.0  0.469  6.421  78.9  4.9671  2.0  242.0   \n2    0.02729   0.0   7.07   0.0  0.469  7.185  61.1  4.9671  2.0  242.0   \n3    0.03237   0.0   2.18   0.0  0.458  6.998  45.8  6.0622  3.0  222.0   \n4    0.06905   0.0   2.18   0.0  0.458  7.147  54.2  6.0622  3.0  222.0   \n..       ...   ...    ...   ...    ...    ...   ...     ...  ...    ...   \n501  0.06263   0.0  11.93   0.0  0.573  6.593  69.1  2.4786  1.0  273.0   \n502  0.04527   0.0  11.93   0.0  0.573  6.120  76.7  2.2875  1.0  273.0   \n503  0.06076   0.0  11.93   0.0  0.573  6.976  91.0  2.1675  1.0  273.0   \n504  0.10959   0.0  11.93   0.0  0.573  6.794  89.3  2.3889  1.0  273.0   \n505  0.04741   0.0  11.93   0.0  0.573  6.030  80.8  2.5050  1.0  273.0   \n\n     PTRATIO       B  LSTAT  \n0       15.3  396.90   4.98  \n1       17.8  396.90   9.14  \n2       17.8  392.83   4.03  \n3       18.7  394.63   2.94  \n4       18.7  396.90   5.33  \n..       ...     ...    ...  \n501     21.0  391.99   9.67  \n502     21.0  396.90   9.08  \n503     21.0  396.90   5.64  \n504     21.0  393.45   6.48  \n505     21.0  396.90   7.88  \n\n[506 rows x 13 columns]",
      "text/html": "<div>\n<style scoped>\n    .dataframe tbody tr th:only-of-type {\n        vertical-align: middle;\n    }\n\n    .dataframe tbody tr th {\n        vertical-align: top;\n    }\n\n    .dataframe thead th {\n        text-align: right;\n    }\n</style>\n<table border=\"1\" class=\"dataframe\">\n  <thead>\n    <tr style=\"text-align: right;\">\n      <th></th>\n      <th>CRIM</th>\n      <th>ZN</th>\n      <th>INDUS</th>\n      <th>CHAS</th>\n      <th>NOX</th>\n      <th>RM</th>\n      <th>AGE</th>\n      <th>DIS</th>\n      <th>RAD</th>\n      <th>TAX</th>\n      <th>PTRATIO</th>\n      <th>B</th>\n      <th>LSTAT</th>\n    </tr>\n  </thead>\n  <tbody>\n    <tr>\n      <th>0</th>\n      <td>0.00632</td>\n      <td>18.0</td>\n      <td>2.31</td>\n      <td>0.0</td>\n      <td>0.538</td>\n      <td>6.575</td>\n      <td>65.2</td>\n      <td>4.0900</td>\n      <td>1.0</td>\n      <td>296.0</td>\n      <td>15.3</td>\n      <td>396.90</td>\n      <td>4.98</td>\n    </tr>\n    <tr>\n      <th>1</th>\n      <td>0.02731</td>\n      <td>0.0</td>\n      <td>7.07</td>\n      <td>0.0</td>\n      <td>0.469</td>\n      <td>6.421</td>\n      <td>78.9</td>\n      <td>4.9671</td>\n      <td>2.0</td>\n      <td>242.0</td>\n      <td>17.8</td>\n      <td>396.90</td>\n      <td>9.14</td>\n    </tr>\n    <tr>\n      <th>2</th>\n      <td>0.02729</td>\n      <td>0.0</td>\n      <td>7.07</td>\n      <td>0.0</td>\n      <td>0.469</td>\n      <td>7.185</td>\n      <td>61.1</td>\n      <td>4.9671</td>\n      <td>2.0</td>\n      <td>242.0</td>\n      <td>17.8</td>\n      <td>392.83</td>\n      <td>4.03</td>\n    </tr>\n    <tr>\n      <th>3</th>\n      <td>0.03237</td>\n      <td>0.0</td>\n      <td>2.18</td>\n      <td>0.0</td>\n      <td>0.458</td>\n      <td>6.998</td>\n      <td>45.8</td>\n      <td>6.0622</td>\n      <td>3.0</td>\n      <td>222.0</td>\n      <td>18.7</td>\n      <td>394.63</td>\n      <td>2.94</td>\n    </tr>\n    <tr>\n      <th>4</th>\n      <td>0.06905</td>\n      <td>0.0</td>\n      <td>2.18</td>\n      <td>0.0</td>\n      <td>0.458</td>\n      <td>7.147</td>\n      <td>54.2</td>\n      <td>6.0622</td>\n      <td>3.0</td>\n      <td>222.0</td>\n      <td>18.7</td>\n      <td>396.90</td>\n      <td>5.33</td>\n    </tr>\n    <tr>\n      <th>...</th>\n      <td>...</td>\n      <td>...</td>\n      <td>...</td>\n      <td>...</td>\n      <td>...</td>\n      <td>...</td>\n      <td>...</td>\n      <td>...</td>\n      <td>...</td>\n      <td>...</td>\n      <td>...</td>\n      <td>...</td>\n      <td>...</td>\n    </tr>\n    <tr>\n      <th>501</th>\n      <td>0.06263</td>\n      <td>0.0</td>\n      <td>11.93</td>\n      <td>0.0</td>\n      <td>0.573</td>\n      <td>6.593</td>\n      <td>69.1</td>\n      <td>2.4786</td>\n      <td>1.0</td>\n      <td>273.0</td>\n      <td>21.0</td>\n      <td>391.99</td>\n      <td>9.67</td>\n    </tr>\n    <tr>\n      <th>502</th>\n      <td>0.04527</td>\n      <td>0.0</td>\n      <td>11.93</td>\n      <td>0.0</td>\n      <td>0.573</td>\n      <td>6.120</td>\n      <td>76.7</td>\n      <td>2.2875</td>\n      <td>1.0</td>\n      <td>273.0</td>\n      <td>21.0</td>\n      <td>396.90</td>\n      <td>9.08</td>\n    </tr>\n    <tr>\n      <th>503</th>\n      <td>0.06076</td>\n      <td>0.0</td>\n      <td>11.93</td>\n      <td>0.0</td>\n      <td>0.573</td>\n      <td>6.976</td>\n      <td>91.0</td>\n      <td>2.1675</td>\n      <td>1.0</td>\n      <td>273.0</td>\n      <td>21.0</td>\n      <td>396.90</td>\n      <td>5.64</td>\n    </tr>\n    <tr>\n      <th>504</th>\n      <td>0.10959</td>\n      <td>0.0</td>\n      <td>11.93</td>\n      <td>0.0</td>\n      <td>0.573</td>\n      <td>6.794</td>\n      <td>89.3</td>\n      <td>2.3889</td>\n      <td>1.0</td>\n      <td>273.0</td>\n      <td>21.0</td>\n      <td>393.45</td>\n      <td>6.48</td>\n    </tr>\n    <tr>\n      <th>505</th>\n      <td>0.04741</td>\n      <td>0.0</td>\n      <td>11.93</td>\n      <td>0.0</td>\n      <td>0.573</td>\n      <td>6.030</td>\n      <td>80.8</td>\n      <td>2.5050</td>\n      <td>1.0</td>\n      <td>273.0</td>\n      <td>21.0</td>\n      <td>396.90</td>\n      <td>7.88</td>\n    </tr>\n  </tbody>\n</table>\n<p>506 rows × 13 columns</p>\n</div>"
     },
     "execution_count": 4,
     "metadata": {},
     "output_type": "execute_result"
    }
   ],
   "source": [
    "data"
   ],
   "metadata": {
    "collapsed": false,
    "ExecuteTime": {
     "end_time": "2025-02-21T06:04:10.966217Z",
     "start_time": "2025-02-21T06:04:10.960503Z"
    }
   },
   "id": "2879b26a6dd158c9"
  },
  {
   "cell_type": "code",
   "execution_count": 5,
   "outputs": [],
   "source": [
    "data.drop([\"B\"], axis=1, inplace=True)"
   ],
   "metadata": {
    "collapsed": false,
    "ExecuteTime": {
     "end_time": "2025-02-21T06:04:11.528248Z",
     "start_time": "2025-02-21T06:04:11.479203Z"
    }
   },
   "id": "847d8f10dd717725"
  },
  {
   "cell_type": "code",
   "execution_count": 6,
   "outputs": [
    {
     "data": {
      "text/plain": "array([24. , 21.6, 34.7, 33.4, 36.2, 28.7, 22.9, 27.1, 16.5, 18.9, 15. ,\n       18.9, 21.7, 20.4, 18.2, 19.9, 23.1, 17.5, 20.2, 18.2, 13.6, 19.6,\n       15.2, 14.5, 15.6, 13.9, 16.6, 14.8, 18.4, 21. , 12.7, 14.5, 13.2,\n       13.1, 13.5, 18.9, 20. , 21. , 24.7, 30.8, 34.9, 26.6, 25.3, 24.7,\n       21.2, 19.3, 20. , 16.6, 14.4, 19.4, 19.7, 20.5, 25. , 23.4, 18.9,\n       35.4, 24.7, 31.6, 23.3, 19.6, 18.7, 16. , 22.2, 25. , 33. , 23.5,\n       19.4, 22. , 17.4, 20.9, 24.2, 21.7, 22.8, 23.4, 24.1, 21.4, 20. ,\n       20.8, 21.2, 20.3, 28. , 23.9, 24.8, 22.9, 23.9, 26.6, 22.5, 22.2,\n       23.6, 28.7, 22.6, 22. , 22.9, 25. , 20.6, 28.4, 21.4, 38.7, 43.8,\n       33.2, 27.5, 26.5, 18.6, 19.3, 20.1, 19.5, 19.5, 20.4, 19.8, 19.4,\n       21.7, 22.8, 18.8, 18.7, 18.5, 18.3, 21.2, 19.2, 20.4, 19.3, 22. ,\n       20.3, 20.5, 17.3, 18.8, 21.4, 15.7, 16.2, 18. , 14.3, 19.2, 19.6,\n       23. , 18.4, 15.6, 18.1, 17.4, 17.1, 13.3, 17.8, 14. , 14.4, 13.4,\n       15.6, 11.8, 13.8, 15.6, 14.6, 17.8, 15.4, 21.5, 19.6, 15.3, 19.4,\n       17. , 15.6, 13.1, 41.3, 24.3, 23.3, 27. , 50. , 50. , 50. , 22.7,\n       25. , 50. , 23.8, 23.8, 22.3, 17.4, 19.1, 23.1, 23.6, 22.6, 29.4,\n       23.2, 24.6, 29.9, 37.2, 39.8, 36.2, 37.9, 32.5, 26.4, 29.6, 50. ,\n       32. , 29.8, 34.9, 37. , 30.5, 36.4, 31.1, 29.1, 50. , 33.3, 30.3,\n       34.6, 34.9, 32.9, 24.1, 42.3, 48.5, 50. , 22.6, 24.4, 22.5, 24.4,\n       20. , 21.7, 19.3, 22.4, 28.1, 23.7, 25. , 23.3, 28.7, 21.5, 23. ,\n       26.7, 21.7, 27.5, 30.1, 44.8, 50. , 37.6, 31.6, 46.7, 31.5, 24.3,\n       31.7, 41.7, 48.3, 29. , 24. , 25.1, 31.5, 23.7, 23.3, 22. , 20.1,\n       22.2, 23.7, 17.6, 18.5, 24.3, 20.5, 24.5, 26.2, 24.4, 24.8, 29.6,\n       42.8, 21.9, 20.9, 44. , 50. , 36. , 30.1, 33.8, 43.1, 48.8, 31. ,\n       36.5, 22.8, 30.7, 50. , 43.5, 20.7, 21.1, 25.2, 24.4, 35.2, 32.4,\n       32. , 33.2, 33.1, 29.1, 35.1, 45.4, 35.4, 46. , 50. , 32.2, 22. ,\n       20.1, 23.2, 22.3, 24.8, 28.5, 37.3, 27.9, 23.9, 21.7, 28.6, 27.1,\n       20.3, 22.5, 29. , 24.8, 22. , 26.4, 33.1, 36.1, 28.4, 33.4, 28.2,\n       22.8, 20.3, 16.1, 22.1, 19.4, 21.6, 23.8, 16.2, 17.8, 19.8, 23.1,\n       21. , 23.8, 23.1, 20.4, 18.5, 25. , 24.6, 23. , 22.2, 19.3, 22.6,\n       19.8, 17.1, 19.4, 22.2, 20.7, 21.1, 19.5, 18.5, 20.6, 19. , 18.7,\n       32.7, 16.5, 23.9, 31.2, 17.5, 17.2, 23.1, 24.5, 26.6, 22.9, 24.1,\n       18.6, 30.1, 18.2, 20.6, 17.8, 21.7, 22.7, 22.6, 25. , 19.9, 20.8,\n       16.8, 21.9, 27.5, 21.9, 23.1, 50. , 50. , 50. , 50. , 50. , 13.8,\n       13.8, 15. , 13.9, 13.3, 13.1, 10.2, 10.4, 10.9, 11.3, 12.3,  8.8,\n        7.2, 10.5,  7.4, 10.2, 11.5, 15.1, 23.2,  9.7, 13.8, 12.7, 13.1,\n       12.5,  8.5,  5. ,  6.3,  5.6,  7.2, 12.1,  8.3,  8.5,  5. , 11.9,\n       27.9, 17.2, 27.5, 15. , 17.2, 17.9, 16.3,  7. ,  7.2,  7.5, 10.4,\n        8.8,  8.4, 16.7, 14.2, 20.8, 13.4, 11.7,  8.3, 10.2, 10.9, 11. ,\n        9.5, 14.5, 14.1, 16.1, 14.3, 11.7, 13.4,  9.6,  8.7,  8.4, 12.8,\n       10.5, 17.1, 18.4, 15.4, 10.8, 11.8, 14.9, 12.6, 14.1, 13. , 13.4,\n       15.2, 16.1, 17.8, 14.9, 14.1, 12.7, 13.5, 14.9, 20. , 16.4, 17.7,\n       19.5, 20.2, 21.4, 19.9, 19. , 19.1, 19.1, 20.1, 19.9, 19.6, 23.2,\n       29.8, 13.8, 13.3, 16.7, 12. , 14.6, 21.4, 23. , 23.7, 25. , 21.8,\n       20.6, 21.2, 19.1, 20.6, 15.2,  7. ,  8.1, 13.6, 20.1, 21.8, 24.5,\n       23.1, 19.7, 18.3, 21.2, 17.5, 16.8, 22.4, 20.6, 23.9, 22. , 11.9])"
     },
     "execution_count": 6,
     "metadata": {},
     "output_type": "execute_result"
    }
   ],
   "source": [
    "target"
   ],
   "metadata": {
    "collapsed": false,
    "ExecuteTime": {
     "end_time": "2025-02-21T06:04:12.102948Z",
     "start_time": "2025-02-21T06:04:12.096012Z"
    }
   },
   "id": "50b57d3284b4668e"
  },
  {
   "cell_type": "code",
   "execution_count": 7,
   "outputs": [
    {
     "data": {
      "text/plain": "<Axes: xlabel='CHAS'>"
     },
     "execution_count": 7,
     "metadata": {},
     "output_type": "execute_result"
    },
    {
     "data": {
      "text/plain": "<Figure size 640x480 with 1 Axes>",
      "image/png": "[encoded data removed]"
     },
     "metadata": {},
     "output_type": "display_data"
    }
   ],
   "source": [
    "import matplotlib.pyplot as plt\n",
    "data[\"CHAS\"].value_counts().plot(kind='bar')"
   ],
   "metadata": {
    "collapsed": false,
    "ExecuteTime": {
     "end_time": "2025-02-21T06:04:12.585883Z",
     "start_time": "2025-02-21T06:04:12.475843Z"
    }
   },
   "id": "a7a02a8223946bcb"
  },
  {
   "cell_type": "code",
   "execution_count": 8,
   "outputs": [
    {
     "data": {
      "text/plain": "0.9308300395256917"
     },
     "execution_count": 8,
     "metadata": {},
     "output_type": "execute_result"
    }
   ],
   "source": [
    "np.sum(data[\"CHAS\"] == 0) / data.shape[0]"
   ],
   "metadata": {
    "collapsed": false,
    "ExecuteTime": {
     "end_time": "2025-02-21T06:04:13.030415Z",
     "start_time": "2025-02-21T06:04:13.019550Z"
    }
   },
   "id": "d2b95e16f8e52406"
  },
  {
   "cell_type": "code",
   "execution_count": 9,
   "outputs": [
    {
     "data": {
      "text/plain": "<Figure size 640x480 with 1 Axes>",
      "image/png": "[encoded data removed]"
     },
     "metadata": {},
     "output_type": "display_data"
    },
    {
     "data": {
      "text/plain": "<Figure size 640x480 with 1 Axes>",
      "image/png": "[encoded data removed]"
     },
     "metadata": {},
     "output_type": "display_data"
    },
    {
     "data": {
      "text/plain": "<Figure size 640x480 with 1 Axes>",
      "image/png": "[encoded data removed]"
     },
     "metadata": {},
     "output_type": "display_data"
    },
    {
     "data": {
      "text/plain": "<Figure size 640x480 with 1 Axes>",
      "image/png": "[encoded data removed]"
     },
     "metadata": {},
     "output_type": "display_data"
    },
    {
     "data": {
      "text/plain": "<Figure size 640x480 with 1 Axes>",
      "image/png": "[encoded data removed]"
     },
     "metadata": {},
     "output_type": "display_data"
    },
    {
     "data": {
      "text/plain": "<Figure size 640x480 with 1 Axes>",
      "image/png": "[encoded data removed]"
     },
     "metadata": {},
     "output_type": "display_data"
    },
    {
     "data": {
      "text/plain": "<Figure size 640x480 with 1 Axes>",
      "image/png": "[encoded data removed]"
     },
     "metadata": {},
     "output_type": "display_data"
    },
    {
     "data": {
      "text/plain": "<Figure size 640x480 with 1 Axes>",
      "image/png": "[encoded data removed]"
     },
     "metadata": {},
     "output_type": "display_data"
    },
    {
     "data": {
      "text/plain": "<Figure size 640x480 with 1 Axes>",
      "image/png": "[encoded data removed]"
     },
     "metadata": {},
     "output_type": "display_data"
    },
    {
     "data": {
      "text/plain": "<Figure size 640x480 with 1 Axes>",
      "image/png": "[encoded data removed]"
     },
     "metadata": {},
     "output_type": "display_data"
    },
    {
     "data": {
      "text/plain": "<Figure size 640x480 with 1 Axes>",
      "image/png": "[encoded data removed]"
     },
     "metadata": {},
     "output_type": "display_data"
    }
   ],
   "source": [
    "for var in data.columns:\n",
    " if var != \"CHAS\":\n",
    "  plt.hist(data[var])\n",
    "  plt.show()"
   ],
   "metadata": {
    "collapsed": false,
    "ExecuteTime": {
     "end_time": "2025-02-21T06:04:14.767621Z",
     "start_time": "2025-02-21T06:04:13.651993Z"
    }
   },
   "id": "26d649d77f8548f2"
  },
  {
   "cell_type": "code",
   "execution_count": 66,
   "outputs": [],
   "source": [
    "# -- Stratified split by 'predictor_col' --\n",
    "from sklearn.model_selection import train_test_split\n",
    "x_train, x_test, y_train, y_test = train_test_split(\n",
    "    data,\n",
    "    target,\n",
    "    test_size=0.5,                # 25% test, 75% train\n",
    "    stratify=data['CHAS'],  # key parameter for stratification\n",
    "    random_state=42                # for reproducibility\n",
    ")"
   ],
   "metadata": {
    "collapsed": false,
    "ExecuteTime": {
     "end_time": "2025-02-21T06:07:18.405143Z",
     "start_time": "2025-02-21T06:07:18.377767Z"
    }
   },
   "id": "f059f6186bc4d84f"
  },
  {
   "cell_type": "code",
   "execution_count": 66,
   "outputs": [],
   "source": [],
   "metadata": {
    "collapsed": false,
    "ExecuteTime": {
     "end_time": "2025-02-21T06:07:18.637634Z",
     "start_time": "2025-02-21T06:07:18.617126Z"
    }
   },
   "id": "2912ddaf06aef034"
  },
  {
   "cell_type": "markdown",
   "source": [
    "# PCA on the training set"
   ],
   "metadata": {
    "collapsed": false
   },
   "id": "8c01577016384015"
  },
  {
   "cell_type": "code",
   "execution_count": 67,
   "outputs": [],
   "source": [
    "def get_splines(x_nl, x_l, nknots, degree, intercept):\n",
    "    bs = b_spline(data_nl=np.array(x_nl), data_l=np.array(x_l), nknots=nknots, degree=degree,\n",
    "              intercept=intercept)\n",
    "    bs.construct_splines(use_quantiles=True, equally_spaced=False, center=False)\n",
    "    design_train = bs.get_spline_data()\n",
    "    design_train *= np.sqrt(design_train.shape[0])\n",
    "    design_train[:,0] = 1\n",
    "    # Returning group labels with 0 meaning the intercept (if applicable)\n",
    "    groups = bs.get_groups()\n",
    "    \n",
    "    return design_train, groups\n",
    "    "
   ],
   "metadata": {
    "collapsed": false,
    "ExecuteTime": {
     "end_time": "2025-02-21T06:07:19.098787Z",
     "start_time": "2025-02-21T06:07:19.083199Z"
    }
   },
   "id": "12dd52f454f56a81"
  },
  {
   "cell_type": "code",
   "execution_count": 68,
   "outputs": [],
   "source": [
    "# Steps:\n",
    "# 1. Transform training fully for naive and MLE\n",
    "# 2. Transform 90% of training for data splitting's selection\n",
    "# 3. Use 10% of remaining to get the transformed PCs for data splitting's inference\n",
    "# 4. "
   ],
   "metadata": {
    "collapsed": false,
    "ExecuteTime": {
     "end_time": "2025-02-21T06:07:19.400210Z",
     "start_time": "2025-02-21T06:07:19.386078Z"
    }
   },
   "id": "36b61fea6667e4c9"
  },
  {
   "cell_type": "code",
   "execution_count": 68,
   "outputs": [],
   "source": [],
   "metadata": {
    "collapsed": false,
    "ExecuteTime": {
     "end_time": "2025-02-21T06:07:19.645276Z",
     "start_time": "2025-02-21T06:07:19.630132Z"
    }
   },
   "id": "12d7cd5ff9dec1d3"
  },
  {
   "cell_type": "code",
   "execution_count": 69,
   "outputs": [],
   "source": [
    "x_train_nl = x_train.drop([\"CHAS\", \"RAD\", \"ZN\"], axis=1)\n",
    "x_train_l = x_train[[\"CHAS\", \"RAD\", \"ZN\"]]\n",
    "x_test_nl = x_test.drop([\"CHAS\", \"RAD\", \"ZN\"], axis=1)\n",
    "x_test_l = x_test[[\"CHAS\", \"RAD\", \"ZN\"]]\n"
   ],
   "metadata": {
    "collapsed": false,
    "ExecuteTime": {
     "end_time": "2025-02-21T06:07:19.834039Z",
     "start_time": "2025-02-21T06:07:19.822831Z"
    }
   },
   "id": "9e892a49156e3073"
  },
  {
   "cell_type": "code",
   "execution_count": 70,
   "outputs": [
    {
     "data": {
      "text/plain": "CRIM       253\nZN          24\nINDUS       60\nCHAS         2\nNOX         71\nRM         238\nAGE        198\nDIS        228\nRAD          9\nTAX         53\nPTRATIO     37\nLSTAT      241\ndtype: int64"
     },
     "execution_count": 70,
     "metadata": {},
     "output_type": "execute_result"
    }
   ],
   "source": [
    "x_train.nunique()"
   ],
   "metadata": {
    "collapsed": false,
    "ExecuteTime": {
     "end_time": "2025-02-21T06:07:20.034560Z",
     "start_time": "2025-02-21T06:07:20.020388Z"
    }
   },
   "id": "b9bbd09f958c317b"
  },
  {
   "cell_type": "code",
   "execution_count": 71,
   "outputs": [
    {
     "data": {
      "text/plain": "     CHAS   RAD    ZN\n305   0.0   7.0  33.0\n251   0.0   7.0  22.0\n56    0.0   2.0  85.0\n427   0.0  24.0   0.0\n299   0.0   5.0  70.0\n..    ...   ...   ...\n477   0.0  24.0   0.0\n321   0.0   5.0   0.0\n473   0.0  24.0   0.0\n302   0.0   7.0  34.0\n358   1.0  24.0   0.0\n\n[253 rows x 3 columns]",
      "text/html": "<div>\n<style scoped>\n    .dataframe tbody tr th:only-of-type {\n        vertical-align: middle;\n    }\n\n    .dataframe tbody tr th {\n        vertical-align: top;\n    }\n\n    .dataframe thead th {\n        text-align: right;\n    }\n</style>\n<table border=\"1\" class=\"dataframe\">\n  <thead>\n    <tr style=\"text-align: right;\">\n      <th></th>\n      <th>CHAS</th>\n      <th>RAD</th>\n      <th>ZN</th>\n    </tr>\n  </thead>\n  <tbody>\n    <tr>\n      <th>305</th>\n      <td>0.0</td>\n      <td>7.0</td>\n      <td>33.0</td>\n    </tr>\n    <tr>\n      <th>251</th>\n      <td>0.0</td>\n      <td>7.0</td>\n      <td>22.0</td>\n    </tr>\n    <tr>\n      <th>56</th>\n      <td>0.0</td>\n      <td>2.0</td>\n      <td>85.0</td>\n    </tr>\n    <tr>\n      <th>427</th>\n      <td>0.0</td>\n      <td>24.0</td>\n      <td>0.0</td>\n    </tr>\n    <tr>\n      <th>299</th>\n      <td>0.0</td>\n      <td>5.0</td>\n      <td>70.0</td>\n    </tr>\n    <tr>\n      <th>...</th>\n      <td>...</td>\n      <td>...</td>\n      <td>...</td>\n    </tr>\n    <tr>\n      <th>477</th>\n      <td>0.0</td>\n      <td>24.0</td>\n      <td>0.0</td>\n    </tr>\n    <tr>\n      <th>321</th>\n      <td>0.0</td>\n      <td>5.0</td>\n      <td>0.0</td>\n    </tr>\n    <tr>\n      <th>473</th>\n      <td>0.0</td>\n      <td>24.0</td>\n      <td>0.0</td>\n    </tr>\n    <tr>\n      <th>302</th>\n      <td>0.0</td>\n      <td>7.0</td>\n      <td>34.0</td>\n    </tr>\n    <tr>\n      <th>358</th>\n      <td>1.0</td>\n      <td>24.0</td>\n      <td>0.0</td>\n    </tr>\n  </tbody>\n</table>\n<p>253 rows × 3 columns</p>\n</div>"
     },
     "execution_count": 71,
     "metadata": {},
     "output_type": "execute_result"
    }
   ],
   "source": [
    "x_train_l"
   ],
   "metadata": {
    "collapsed": false,
    "ExecuteTime": {
     "end_time": "2025-02-21T06:07:20.508162Z",
     "start_time": "2025-02-21T06:07:20.483564Z"
    }
   },
   "id": "e64f8b7cbdc30c55"
  },
  {
   "cell_type": "code",
   "execution_count": 72,
   "outputs": [
    {
     "name": "stdout",
     "output_type": "stream",
     "text": [
      "Equally spaced quantile knots used.\n"
     ]
    }
   ],
   "source": [
    "design_train, groups_train = (\n",
    "        get_splines(x_nl=x_train_nl, x_l=x_train_l, nknots=6, degree=2, intercept=True))"
   ],
   "metadata": {
    "collapsed": false,
    "ExecuteTime": {
     "end_time": "2025-02-21T06:07:21.204877Z",
     "start_time": "2025-02-21T06:07:21.191559Z"
    }
   },
   "id": "6122441f9b909ece"
  },
  {
   "cell_type": "code",
   "execution_count": 73,
   "outputs": [
    {
     "name": "stdout",
     "output_type": "stream",
     "text": [
      "Equally spaced quantile knots used.\n"
     ]
    }
   ],
   "source": [
    "design_test, groups_test = (\n",
    "        get_splines(x_nl=x_test_nl, x_l=x_test_l, nknots=6, degree=2, intercept=True))"
   ],
   "metadata": {
    "collapsed": false,
    "ExecuteTime": {
     "end_time": "2025-02-21T06:07:21.830187Z",
     "start_time": "2025-02-21T06:07:21.813832Z"
    }
   },
   "id": "4641fc2c7af97ee2"
  },
  {
   "cell_type": "code",
   "execution_count": 74,
   "outputs": [
    {
     "data": {
      "text/plain": "array([[ 1.00000000e+00, -6.65354995e-04, -7.58173841e-01, ...,\n         0.00000000e+00,  1.11341816e+02,  5.24897133e+02],\n       [ 1.00000000e+00, -3.49350889e-04, -7.18686106e-01, ...,\n         0.00000000e+00,  1.11341816e+02,  3.49931422e+02],\n       [ 1.00000000e+00, -7.46454237e-04, -7.66687550e-01, ...,\n         0.00000000e+00,  3.18119474e+01,  1.35200777e+03],\n       ...,\n       [ 1.00000000e+00, -3.20329792e-02,  2.99645593e-01, ...,\n         0.00000000e+00,  3.81743369e+02,  0.00000000e+00],\n       [ 1.00000000e+00, -5.81088030e-04, -7.48768336e-01, ...,\n         0.00000000e+00,  1.11341816e+02,  5.40803106e+02],\n       [ 1.00000000e+00, -4.15022221e-02,  4.16173807e-01, ...,\n         1.59059737e+01,  3.81743369e+02,  0.00000000e+00]])"
     },
     "execution_count": 74,
     "metadata": {},
     "output_type": "execute_result"
    }
   ],
   "source": [
    "design_train"
   ],
   "metadata": {
    "collapsed": false,
    "ExecuteTime": {
     "end_time": "2025-02-21T06:07:22.182045Z",
     "start_time": "2025-02-21T06:07:22.165161Z"
    }
   },
   "id": "356a71f956a03860"
  },
  {
   "cell_type": "code",
   "execution_count": 75,
   "outputs": [
    {
     "data": {
      "text/plain": "array([[ 2.53000000e+02, -4.67241635e+01, -5.30698150e+01,\n        -1.94176259e+02, -2.84253415e+01, -1.60756719e+02,\n        -1.13519845e+02, -1.18683686e+02, -8.09510721e+01,\n        -1.46281521e+02,  6.11454113e+01, -1.40924664e+02,\n         1.37497197e+02, -1.78351841e+02, -1.52911312e+02,\n        -1.30068711e+02, -6.12109774e+01, -1.39269046e+02,\n        -1.25993171e+02,  2.86307527e+02,  3.95740626e+04,\n         4.51888713e+04],\n       [-4.67241635e+01,  2.53000000e+02, -7.84788901e-15,\n         2.15843415e+01, -3.45517508e+01,  2.37588476e+01,\n        -1.83947442e+01,  4.15132287e+01,  5.01059407e+01,\n         4.07237661e+00,  3.60910736e+01,  3.17643859e+01,\n        -7.11735988e+01,  8.14122041e+01, -2.67933100e+01,\n         1.14481105e+00, -1.37275350e+01,  6.50910980e+01,\n        -2.67695989e+01, -4.00740729e+00, -1.77936523e+04,\n        -2.85536903e+01],\n       [-5.30698150e+01, -7.84788901e-15,  2.53000000e+02,\n         7.97503527e+01,  1.18727148e+02,  3.04011986e+01,\n         1.42809526e+02, -2.39430150e+01, -3.75328229e+01,\n         9.84022386e+01, -8.12922724e+01,  3.37107217e+01,\n         7.85231680e+01, -8.44521009e+01,  1.75810820e+02,\n         7.71070478e+01,  8.72569567e+01, -4.64029604e+01,\n         1.43656687e+02, -1.10962588e+02,  1.86576572e+04,\n        -3.39212975e+04],\n       [-1.94176259e+02,  2.15843415e+01,  7.97503527e+01,\n         2.53000000e+02, -3.13638004e-14,  1.38074452e+02,\n         1.20813536e+02,  1.03448624e+02,  1.57045754e+01,\n         1.39888713e+02, -4.94644064e+01,  1.62338023e+02,\n        -6.79851140e+01,  1.30815634e+02,  1.50735988e+02,\n         1.41148255e+02,  6.62037861e+01,  1.17736775e+02,\n         1.40464629e+02, -1.75334702e+02, -2.29708135e+04,\n        -6.61357805e+04],\n       [-2.84253415e+01, -3.45517508e+01,  1.18727148e+02,\n        -3.13638004e-14,  2.53000000e+02, -8.85297396e+00,\n         1.61999841e+02, -8.95810244e+00, -5.00071163e+01,\n         1.00970078e+02, -9.83173284e+01,  2.36414952e+01,\n         1.19988865e+02, -7.98265483e+01,  1.48293487e+02,\n         3.61440341e+01,  9.19395373e+01, -3.31296651e+01,\n         1.25253796e+02, -2.74034396e+01,  1.32875754e+04,\n        -3.51555368e+04],\n       [-1.60756719e+02,  2.37588476e+01,  3.04011986e+01,\n         1.38074452e+02, -8.85297396e+00,  2.53000000e+02,\n        -3.41948692e-14,  9.16179604e+01,  6.84947257e+01,\n         1.17799942e+02, -1.00288317e+00,  1.33611430e+02,\n        -7.88442763e+01,  9.75427667e+01,  9.50010643e+01,\n         1.30001027e+02,  6.78370507e+01,  1.05614628e+02,\n         7.50000038e+01, -2.65463437e+02, -2.40004895e+04,\n        -4.49621349e+04],\n       [-1.13519845e+02, -1.83947442e+01,  1.42809526e+02,\n         1.20813536e+02,  1.61999841e+02, -3.41948692e-14,\n         2.53000000e+02,  9.15596616e+00, -1.99441431e+01,\n         1.69670648e+02, -1.00213895e+02,  9.19059237e+01,\n         8.63532390e+01,  5.64902034e+00,  1.82499297e+02,\n         3.91815828e+01,  1.29306098e+02,  2.20481928e+01,\n         1.70065563e+02, -7.97784607e+01,  5.04775985e+02,\n        -5.89684789e+04],\n       [-1.18683686e+02,  4.15132287e+01, -2.39430150e+01,\n         1.03448624e+02, -8.95810244e+00,  9.16179604e+01,\n         9.15596616e+00,  2.53000000e+02,  1.03528297e-14,\n         4.67794099e+01, -3.88083807e-01,  7.05464954e+01,\n        -1.11600981e+02,  1.06855610e+02,  5.74116092e+01,\n         1.13075984e+02, -1.36899904e+01,  1.41794704e+02,\n         4.60134675e+01, -2.96193304e+02, -2.25487852e+04,\n        -2.24363110e+04],\n       [-8.09510721e+01,  5.01059407e+01, -3.75328229e+01,\n         1.57045754e+01, -5.00071163e+01,  6.84947257e+01,\n        -1.99441431e+01,  1.03528297e-14,  2.53000000e+02,\n         1.16076365e+01,  1.29162598e+01,  3.87246358e+01,\n        -8.56726097e+01,  7.36835656e+01,  1.33453433e+00,\n        -2.54609357e+01,  7.62240722e+00,  6.92023140e+01,\n        -8.28941165e+01,  5.42109808e+01, -1.84045044e+04,\n         1.45888409e+04],\n       [-1.46281521e+02,  4.07237661e+00,  9.84022386e+01,\n         1.39888713e+02,  1.00970078e+02,  1.17799942e+02,\n         1.69670648e+02,  4.67794099e+01,  1.16076365e+01,\n         2.53000000e+02,  3.79002385e-14,  1.24308836e+02,\n         3.14221599e+01,  5.36131997e+01,  1.49582870e+02,\n         8.01342961e+01,  1.16957026e+02,  7.53377058e+01,\n         1.68824849e+02, -1.12117274e+02, -1.22837146e+04,\n        -6.47522661e+04],\n       [ 6.11454113e+01,  3.60910736e+01, -8.12922724e+01,\n        -4.94644064e+01, -9.83173284e+01, -1.00288317e+00,\n        -1.00213895e+02, -3.88083807e-01,  1.29162598e+01,\n         3.79002385e-14,  2.53000000e+02, -1.43206283e+01,\n        -2.73655499e+01, -1.08015186e+01, -9.63205157e+01,\n        -2.48049911e+01, -6.50771237e+01,  2.63765201e+01,\n        -8.51383805e+01,  1.05743573e+02,  1.46318701e+03,\n         1.80196823e+04],\n       [-1.40924664e+02,  3.17643859e+01,  3.37107217e+01,\n         1.62338023e+02,  2.36414952e+01,  1.33611430e+02,\n         9.19059237e+01,  7.05464954e+01,  3.87246358e+01,\n         1.24308836e+02, -1.43206283e+01,  2.53000000e+02,\n         2.40918396e-14,  8.33139331e+01,  8.54698112e+01,\n         8.29870417e+01,  6.24708413e+01,  9.55617454e+01,\n         9.02801174e+01, -8.94232531e+01, -2.02746429e+04,\n        -6.58047259e+04],\n       [ 1.37497197e+02, -7.11735988e+01,  7.85231680e+01,\n        -6.79851140e+01,  1.19988865e+02, -7.88442763e+01,\n         8.63532390e+01, -1.11600981e+02, -8.56726097e+01,\n         3.14221599e+01, -2.73655499e+01,  2.40918396e-14,\n         2.53000000e+02, -1.71041694e+02,  1.40411841e+01,\n        -6.66690795e+01,  6.34806666e+01, -1.15252114e+02,\n         3.07443184e+01,  2.05600350e+02,  3.73726684e+04,\n        -2.38219313e+04],\n       [-1.78351841e+02,  8.14122041e+01, -8.44521009e+01,\n         1.30815634e+02, -7.98265483e+01,  9.75427667e+01,\n         5.64902034e+00,  1.06855610e+02,  7.36835656e+01,\n         5.36131997e+01, -1.08015186e+01,  8.33139331e+01,\n        -1.71041694e+02,  2.53000000e+02, -1.59872116e-14,\n         3.71786240e+01, -5.23044793e+00,  1.30268589e+02,\n         2.07219403e+01, -1.99312970e+02, -4.96933513e+04,\n        -1.46478552e+04],\n       [-1.52911312e+02, -2.67933100e+01,  1.75810820e+02,\n         1.50735988e+02,  1.48293487e+02,  9.50010643e+01,\n         1.82499297e+02,  5.74116092e+01,  1.33453433e+00,\n         1.49582870e+02, -9.63205157e+01,  8.54698112e+01,\n         1.40411841e+01, -1.59872116e-14,  2.53000000e+02,\n         1.32793406e+02,  1.07460201e+02,  5.09236125e+01,\n         1.73655024e+02, -2.28723527e+02,  1.76975512e+03,\n        -5.09784941e+04],\n       [-1.30068711e+02,  1.14481105e+00,  7.71070478e+01,\n         1.41148255e+02,  3.61440341e+01,  1.30001027e+02,\n         3.91815828e+01,  1.13075984e+02, -2.54609357e+01,\n         8.01342961e+01, -2.48049911e+01,  8.29870417e+01,\n        -6.66690795e+01,  3.71786240e+01,  1.32793406e+02,\n         2.53000000e+02,  6.94409807e-15,  7.24879123e+01,\n         1.15551771e+02, -2.30101146e+02, -9.92480027e+03,\n        -4.76577429e+04],\n       [-6.12109774e+01, -1.37275350e+01,  8.72569567e+01,\n         6.62037861e+01,  9.19395373e+01,  6.78370507e+01,\n         1.29306098e+02, -1.36899904e+01,  7.62240722e+00,\n         1.16957026e+02, -6.50771237e+01,  6.24708413e+01,\n         6.34806666e+01, -5.23044793e+00,  1.07460201e+02,\n         6.94409807e-15,  2.53000000e+02,  1.29124063e+01,\n         1.03287187e+02, -1.60658133e+02,  1.44455417e+03,\n        -3.43838271e+04],\n       [-1.39269046e+02,  6.50910980e+01, -4.64029604e+01,\n         1.17736775e+02, -3.31296651e+01,  1.05614628e+02,\n         2.20481928e+01,  1.41794704e+02,  6.92023140e+01,\n         7.53377058e+01,  2.63765201e+01,  9.55617454e+01,\n        -1.15252114e+02,  1.30268589e+02,  5.09236125e+01,\n         7.24879123e+01,  1.29124063e+01,  2.53000000e+02,\n        -1.74721349e-14, -1.72960414e+02, -2.81129267e+04,\n        -2.61047736e+04],\n       [-1.25993171e+02, -2.67695989e+01,  1.43656687e+02,\n         1.40464629e+02,  1.25253796e+02,  7.50000038e+01,\n         1.70065563e+02,  4.60134675e+01, -8.28941165e+01,\n         1.68824849e+02, -8.51383805e+01,  9.02801174e+01,\n         3.07443184e+01,  2.07219403e+01,  1.73655024e+02,\n         1.15551771e+02,  1.03287187e+02, -1.74721349e-14,\n         2.53000000e+02, -2.36456072e+02, -3.71751786e+03,\n        -5.85143377e+04],\n       [ 2.86307527e+02, -4.00740729e+00, -1.10962588e+02,\n        -1.75334702e+02, -2.74034396e+01, -2.65463437e+02,\n        -7.97784607e+01, -2.96193304e+02,  5.42109808e+01,\n        -1.12117274e+02,  1.05743573e+02, -8.94232531e+01,\n         2.05600350e+02, -1.99312970e+02, -2.28723527e+02,\n        -2.30101146e+02, -1.60658133e+02, -1.72960414e+02,\n        -2.36456072e+02,  4.55400000e+03,  4.09860000e+04,\n         4.80700000e+04],\n       [ 3.95740626e+04, -1.77936523e+04,  1.86576572e+04,\n        -2.29708135e+04,  1.32875754e+04, -2.40004895e+04,\n         5.04775985e+02, -2.25487852e+04, -1.84045044e+04,\n        -1.22837146e+04,  1.46318701e+03, -2.02746429e+04,\n         3.73726684e+04, -4.96933513e+04,  1.76975512e+03,\n        -9.92480027e+03,  1.44455417e+03, -2.81129267e+04,\n        -3.71751786e+03,  4.09860000e+04,  1.11193500e+07,\n         2.97388850e+06],\n       [ 4.51888713e+04, -2.85536903e+01, -3.39212975e+04,\n        -6.61357805e+04, -3.51555368e+04, -4.49621349e+04,\n        -5.89684789e+04, -2.24363110e+04,  1.45888409e+04,\n        -6.47522661e+04,  1.80196823e+04, -6.58047259e+04,\n        -2.38219313e+04, -1.46478552e+04, -5.09784941e+04,\n        -4.76577429e+04, -3.43838271e+04, -2.61047736e+04,\n        -5.85143377e+04,  4.80700000e+04,  2.97388850e+06,\n         4.09223705e+07]])"
     },
     "execution_count": 75,
     "metadata": {},
     "output_type": "execute_result"
    }
   ],
   "source": [
    "design_train.T @ design_train"
   ],
   "metadata": {
    "collapsed": false,
    "ExecuteTime": {
     "end_time": "2025-02-21T06:07:22.668496Z",
     "start_time": "2025-02-21T06:07:22.653968Z"
    }
   },
   "id": "d8be57c72b7ee0e7"
  },
  {
   "cell_type": "code",
   "execution_count": 76,
   "outputs": [
    {
     "data": {
      "text/plain": "array([[ 1.00000000e+00, -6.65354995e-04, -7.58173841e-01, ...,\n         0.00000000e+00,  1.11341816e+02,  5.24897133e+02],\n       [ 1.00000000e+00, -3.49350889e-04, -7.18686106e-01, ...,\n         0.00000000e+00,  1.11341816e+02,  3.49931422e+02],\n       [ 1.00000000e+00, -7.46454237e-04, -7.66687550e-01, ...,\n         0.00000000e+00,  3.18119474e+01,  1.35200777e+03],\n       ...,\n       [ 1.00000000e+00, -3.20329792e-02,  2.99645593e-01, ...,\n         0.00000000e+00,  3.81743369e+02,  0.00000000e+00],\n       [ 1.00000000e+00, -5.81088030e-04, -7.48768336e-01, ...,\n         0.00000000e+00,  1.11341816e+02,  5.40803106e+02],\n       [ 1.00000000e+00, -4.15022221e-02,  4.16173807e-01, ...,\n         1.59059737e+01,  3.81743369e+02,  0.00000000e+00]])"
     },
     "execution_count": 76,
     "metadata": {},
     "output_type": "execute_result"
    }
   ],
   "source": [
    "design_train"
   ],
   "metadata": {
    "collapsed": false,
    "ExecuteTime": {
     "end_time": "2025-02-21T06:07:23.158373Z",
     "start_time": "2025-02-21T06:07:23.142602Z"
    }
   },
   "id": "572a979639f3524"
  },
  {
   "cell_type": "code",
   "execution_count": 77,
   "outputs": [
    {
     "name": "stdout",
     "output_type": "stream",
     "text": [
      "Selected groups: [0, 4, 9, 10, 11, 12]\n",
      "Naive Selected Groups: 6\n",
      "[0. 0. 0. 1. 0. 0. 0. 0. 1. 1. 1. 1.]\n"
     ]
    }
   ],
   "source": [
    "const = group_lasso.gaussian\n",
    "result_naive, nonzero_naive, selected_groups_naive \\\n",
    "    = naive_inference_real_data(X=design_train, Y=np.array(y_train), \n",
    "                                raw_data=np.array(x_train), \n",
    "                                groups=groups_train, const=const,\n",
    "                                n_features=x_train.shape[1], \n",
    "                                intercept=True, weight_frac=2, level=0.9,\n",
    "                                mode=\"weakhierarchy\", root_n_scaled=False)"
   ],
   "metadata": {
    "collapsed": false,
    "ExecuteTime": {
     "end_time": "2025-02-21T06:07:26.120951Z",
     "start_time": "2025-02-21T06:07:23.471564Z"
    }
   },
   "id": "e755dc5651bb5a50"
  },
  {
   "cell_type": "code",
   "execution_count": 78,
   "outputs": [
    {
     "data": {
      "text/plain": "     i   j       CI_l      CI_u   beta_hat          pval\n0    0   3   0.986148  2.479245   1.732696  1.270218e-04\n1    0   8  -0.008532 -0.002944  -0.005738  6.968214e-04\n2    0   9  -0.000307 -0.000105  -0.000206  7.340520e-04\n3    0  10  -0.010147 -0.003491  -0.006819  7.174886e-04\n4    0  11  -0.010203 -0.004046  -0.007124  1.327988e-04\n7    1   9  -0.000594 -0.000021  -0.000307  7.676380e-02\n8    1  10  -0.033688 -0.010272  -0.021980  1.936239e-03\n15   3   4 -30.774321 -5.538930 -18.156626  1.750459e-02\n16   3   5  -6.210661 -2.119087  -4.164874  7.754724e-04\n23   4   8  -1.524441 -0.421637  -0.973039  3.571996e-03\n24   4   9  -0.020300 -0.002885  -0.011592  2.793732e-02\n25   4  10  -1.070436 -0.355349  -0.712892  9.943883e-04\n27   5   8  -0.371073 -0.192644  -0.281859  1.823594e-07\n28   5   9  -0.003326 -0.001102  -0.002214  1.013353e-03\n29   5  10  -0.162419 -0.077691  -0.120055  2.880724e-06\n36   7   9  -0.003204 -0.001293  -0.002249  1.026221e-04\n37   7  10  -0.063377 -0.026814  -0.045096  4.641859e-05\n39   8   9  -0.001882 -0.000268  -0.001075  2.790161e-02\n40   8  10  -0.162748 -0.060849  -0.111799  2.911342e-04\n41   8  11  -0.034672 -0.015673  -0.025173  1.211946e-05\n42   9  10  -0.001033 -0.000331  -0.000682  1.322139e-03\n43   9  11  -0.001585 -0.000726  -0.001155  8.762245e-06\n44  10  11  -0.056999 -0.017124  -0.037062  2.145903e-03",
      "text/html": "<div>\n<style scoped>\n    .dataframe tbody tr th:only-of-type {\n        vertical-align: middle;\n    }\n\n    .dataframe tbody tr th {\n        vertical-align: top;\n    }\n\n    .dataframe thead th {\n        text-align: right;\n    }\n</style>\n<table border=\"1\" class=\"dataframe\">\n  <thead>\n    <tr style=\"text-align: right;\">\n      <th></th>\n      <th>i</th>\n      <th>j</th>\n      <th>CI_l</th>\n      <th>CI_u</th>\n      <th>beta_hat</th>\n      <th>pval</th>\n    </tr>\n  </thead>\n  <tbody>\n    <tr>\n      <th>0</th>\n      <td>0</td>\n      <td>3</td>\n      <td>0.986148</td>\n      <td>2.479245</td>\n      <td>1.732696</td>\n      <td>1.270218e-04</td>\n    </tr>\n    <tr>\n      <th>1</th>\n      <td>0</td>\n      <td>8</td>\n      <td>-0.008532</td>\n      <td>-0.002944</td>\n      <td>-0.005738</td>\n      <td>6.968214e-04</td>\n    </tr>\n    <tr>\n      <th>2</th>\n      <td>0</td>\n      <td>9</td>\n      <td>-0.000307</td>\n      <td>-0.000105</td>\n      <td>-0.000206</td>\n      <td>7.340520e-04</td>\n    </tr>\n    <tr>\n      <th>3</th>\n      <td>0</td>\n      <td>10</td>\n      <td>-0.010147</td>\n      <td>-0.003491</td>\n      <td>-0.006819</td>\n      <td>7.174886e-04</td>\n    </tr>\n    <tr>\n      <th>4</th>\n      <td>0</td>\n      <td>11</td>\n      <td>-0.010203</td>\n      <td>-0.004046</td>\n      <td>-0.007124</td>\n      <td>1.327988e-04</td>\n    </tr>\n    <tr>\n      <th>7</th>\n      <td>1</td>\n      <td>9</td>\n      <td>-0.000594</td>\n      <td>-0.000021</td>\n      <td>-0.000307</td>\n      <td>7.676380e-02</td>\n    </tr>\n    <tr>\n      <th>8</th>\n      <td>1</td>\n      <td>10</td>\n      <td>-0.033688</td>\n      <td>-0.010272</td>\n      <td>-0.021980</td>\n      <td>1.936239e-03</td>\n    </tr>\n    <tr>\n      <th>15</th>\n      <td>3</td>\n      <td>4</td>\n      <td>-30.774321</td>\n      <td>-5.538930</td>\n      <td>-18.156626</td>\n      <td>1.750459e-02</td>\n    </tr>\n    <tr>\n      <th>16</th>\n      <td>3</td>\n      <td>5</td>\n      <td>-6.210661</td>\n      <td>-2.119087</td>\n      <td>-4.164874</td>\n      <td>7.754724e-04</td>\n    </tr>\n    <tr>\n      <th>23</th>\n      <td>4</td>\n      <td>8</td>\n      <td>-1.524441</td>\n      <td>-0.421637</td>\n      <td>-0.973039</td>\n      <td>3.571996e-03</td>\n    </tr>\n    <tr>\n      <th>24</th>\n      <td>4</td>\n      <td>9</td>\n      <td>-0.020300</td>\n      <td>-0.002885</td>\n      <td>-0.011592</td>\n      <td>2.793732e-02</td>\n    </tr>\n    <tr>\n      <th>25</th>\n      <td>4</td>\n      <td>10</td>\n      <td>-1.070436</td>\n      <td>-0.355349</td>\n      <td>-0.712892</td>\n      <td>9.943883e-04</td>\n    </tr>\n    <tr>\n      <th>27</th>\n      <td>5</td>\n      <td>8</td>\n      <td>-0.371073</td>\n      <td>-0.192644</td>\n      <td>-0.281859</td>\n      <td>1.823594e-07</td>\n    </tr>\n    <tr>\n      <th>28</th>\n      <td>5</td>\n      <td>9</td>\n      <td>-0.003326</td>\n      <td>-0.001102</td>\n      <td>-0.002214</td>\n      <td>1.013353e-03</td>\n    </tr>\n    <tr>\n      <th>29</th>\n      <td>5</td>\n      <td>10</td>\n      <td>-0.162419</td>\n      <td>-0.077691</td>\n      <td>-0.120055</td>\n      <td>2.880724e-06</td>\n    </tr>\n    <tr>\n      <th>36</th>\n      <td>7</td>\n      <td>9</td>\n      <td>-0.003204</td>\n      <td>-0.001293</td>\n      <td>-0.002249</td>\n      <td>1.026221e-04</td>\n    </tr>\n    <tr>\n      <th>37</th>\n      <td>7</td>\n      <td>10</td>\n      <td>-0.063377</td>\n      <td>-0.026814</td>\n      <td>-0.045096</td>\n      <td>4.641859e-05</td>\n    </tr>\n    <tr>\n      <th>39</th>\n      <td>8</td>\n      <td>9</td>\n      <td>-0.001882</td>\n      <td>-0.000268</td>\n      <td>-0.001075</td>\n      <td>2.790161e-02</td>\n    </tr>\n    <tr>\n      <th>40</th>\n      <td>8</td>\n      <td>10</td>\n      <td>-0.162748</td>\n      <td>-0.060849</td>\n      <td>-0.111799</td>\n      <td>2.911342e-04</td>\n    </tr>\n    <tr>\n      <th>41</th>\n      <td>8</td>\n      <td>11</td>\n      <td>-0.034672</td>\n      <td>-0.015673</td>\n      <td>-0.025173</td>\n      <td>1.211946e-05</td>\n    </tr>\n    <tr>\n      <th>42</th>\n      <td>9</td>\n      <td>10</td>\n      <td>-0.001033</td>\n      <td>-0.000331</td>\n      <td>-0.000682</td>\n      <td>1.322139e-03</td>\n    </tr>\n    <tr>\n      <th>43</th>\n      <td>9</td>\n      <td>11</td>\n      <td>-0.001585</td>\n      <td>-0.000726</td>\n      <td>-0.001155</td>\n      <td>8.762245e-06</td>\n    </tr>\n    <tr>\n      <th>44</th>\n      <td>10</td>\n      <td>11</td>\n      <td>-0.056999</td>\n      <td>-0.017124</td>\n      <td>-0.037062</td>\n      <td>2.145903e-03</td>\n    </tr>\n  </tbody>\n</table>\n</div>"
     },
     "execution_count": 78,
     "metadata": {},
     "output_type": "execute_result"
    }
   ],
   "source": [
    "pd.DataFrame(result_naive)[pd.DataFrame(result_naive)['pval'] < 0.1]"
   ],
   "metadata": {
    "collapsed": false,
    "ExecuteTime": {
     "end_time": "2025-02-21T06:07:26.132191Z",
     "start_time": "2025-02-21T06:07:26.121260Z"
    }
   },
   "id": "d9b296a48347ba86"
  },
  {
   "cell_type": "code",
   "execution_count": 79,
   "outputs": [
    {
     "name": "stdout",
     "output_type": "stream",
     "text": [
      "Selected groups: [0, 4, 9, 10, 11, 12]\n",
      "MLE Selected Groups: 6\n"
     ]
    }
   ],
   "source": [
    "result_MLE, nonzero_MLE, selected_groups_MLE\\\n",
    "    = MLE_inference_real_data(X=design_train, Y=np.array(y_train), \n",
    "                              raw_data=np.array(x_train), groups=groups_train, \n",
    "                              n_features=x_train.shape[1], \n",
    "                              intercept=True, weight_frac=2, level=0.9, \n",
    "                              mode=\"weakhierarchy\", \n",
    "                              root_n_scaled=False, proportion=0.9)"
   ],
   "metadata": {
    "collapsed": false,
    "ExecuteTime": {
     "end_time": "2025-02-21T06:07:34.303701Z",
     "start_time": "2025-02-21T06:07:27.415903Z"
    }
   },
   "id": "a500f6c5645fd219"
  },
  {
   "cell_type": "code",
   "execution_count": 80,
   "outputs": [
    {
     "data": {
      "text/plain": "     i   j      CI_l      CI_u  beta_hat      pval\n0    0   3  0.856702  2.252702  1.554702  0.000249\n1    0   8 -0.008649 -0.000628 -0.004639  0.057118\n2    0   9 -0.000310 -0.000020 -0.000165  0.060467\n3    0  10 -0.010259 -0.000703 -0.005481  0.059194\n4    0  11 -0.009900 -0.001322 -0.005611  0.031400\n7    1   9 -0.000639 -0.000018 -0.000329  0.082089\n8    1  10 -0.027739 -0.000732 -0.014236  0.082912\n16   3   5 -5.921912 -2.232485 -4.077198  0.000277\n25   4  10 -1.179709 -0.159456 -0.669583  0.030850\n27   5   8 -0.329337 -0.148835 -0.239086  0.000013\n28   5   9 -0.003853 -0.000712 -0.002282  0.016855\n29   5  10 -0.188347 -0.064766 -0.126557  0.000755\n39   8   9 -0.002162 -0.000194 -0.001178  0.048965\n40   8  10 -0.195360 -0.054269 -0.124815  0.003612\n41   8  11 -0.034713 -0.014524 -0.024618  0.000060\n42   9  10 -0.001326 -0.000323 -0.000824  0.006881\n43   9  11 -0.001735 -0.000678 -0.001207  0.000173\n44  10  11 -0.082534 -0.028882 -0.055708  0.000636",
      "text/html": "<div>\n<style scoped>\n    .dataframe tbody tr th:only-of-type {\n        vertical-align: middle;\n    }\n\n    .dataframe tbody tr th {\n        vertical-align: top;\n    }\n\n    .dataframe thead th {\n        text-align: right;\n    }\n</style>\n<table border=\"1\" class=\"dataframe\">\n  <thead>\n    <tr style=\"text-align: right;\">\n      <th></th>\n      <th>i</th>\n      <th>j</th>\n      <th>CI_l</th>\n      <th>CI_u</th>\n      <th>beta_hat</th>\n      <th>pval</th>\n    </tr>\n  </thead>\n  <tbody>\n    <tr>\n      <th>0</th>\n      <td>0</td>\n      <td>3</td>\n      <td>0.856702</td>\n      <td>2.252702</td>\n      <td>1.554702</td>\n      <td>0.000249</td>\n    </tr>\n    <tr>\n      <th>1</th>\n      <td>0</td>\n      <td>8</td>\n      <td>-0.008649</td>\n      <td>-0.000628</td>\n      <td>-0.004639</td>\n      <td>0.057118</td>\n    </tr>\n    <tr>\n      <th>2</th>\n      <td>0</td>\n      <td>9</td>\n      <td>-0.000310</td>\n      <td>-0.000020</td>\n      <td>-0.000165</td>\n      <td>0.060467</td>\n    </tr>\n    <tr>\n      <th>3</th>\n      <td>0</td>\n      <td>10</td>\n      <td>-0.010259</td>\n      <td>-0.000703</td>\n      <td>-0.005481</td>\n      <td>0.059194</td>\n    </tr>\n    <tr>\n      <th>4</th>\n      <td>0</td>\n      <td>11</td>\n      <td>-0.009900</td>\n      <td>-0.001322</td>\n      <td>-0.005611</td>\n      <td>0.031400</td>\n    </tr>\n    <tr>\n      <th>7</th>\n      <td>1</td>\n      <td>9</td>\n      <td>-0.000639</td>\n      <td>-0.000018</td>\n      <td>-0.000329</td>\n      <td>0.082089</td>\n    </tr>\n    <tr>\n      <th>8</th>\n      <td>1</td>\n      <td>10</td>\n      <td>-0.027739</td>\n      <td>-0.000732</td>\n      <td>-0.014236</td>\n      <td>0.082912</td>\n    </tr>\n    <tr>\n      <th>16</th>\n      <td>3</td>\n      <td>5</td>\n      <td>-5.921912</td>\n      <td>-2.232485</td>\n      <td>-4.077198</td>\n      <td>0.000277</td>\n    </tr>\n    <tr>\n      <th>25</th>\n      <td>4</td>\n      <td>10</td>\n      <td>-1.179709</td>\n      <td>-0.159456</td>\n      <td>-0.669583</td>\n      <td>0.030850</td>\n    </tr>\n    <tr>\n      <th>27</th>\n      <td>5</td>\n      <td>8</td>\n      <td>-0.329337</td>\n      <td>-0.148835</td>\n      <td>-0.239086</td>\n      <td>0.000013</td>\n    </tr>\n    <tr>\n      <th>28</th>\n      <td>5</td>\n      <td>9</td>\n      <td>-0.003853</td>\n      <td>-0.000712</td>\n      <td>-0.002282</td>\n      <td>0.016855</td>\n    </tr>\n    <tr>\n      <th>29</th>\n      <td>5</td>\n      <td>10</td>\n      <td>-0.188347</td>\n      <td>-0.064766</td>\n      <td>-0.126557</td>\n      <td>0.000755</td>\n    </tr>\n    <tr>\n      <th>39</th>\n      <td>8</td>\n      <td>9</td>\n      <td>-0.002162</td>\n      <td>-0.000194</td>\n      <td>-0.001178</td>\n      <td>0.048965</td>\n    </tr>\n    <tr>\n      <th>40</th>\n      <td>8</td>\n      <td>10</td>\n      <td>-0.195360</td>\n      <td>-0.054269</td>\n      <td>-0.124815</td>\n      <td>0.003612</td>\n    </tr>\n    <tr>\n      <th>41</th>\n      <td>8</td>\n      <td>11</td>\n      <td>-0.034713</td>\n      <td>-0.014524</td>\n      <td>-0.024618</td>\n      <td>0.000060</td>\n    </tr>\n    <tr>\n      <th>42</th>\n      <td>9</td>\n      <td>10</td>\n      <td>-0.001326</td>\n      <td>-0.000323</td>\n      <td>-0.000824</td>\n      <td>0.006881</td>\n    </tr>\n    <tr>\n      <th>43</th>\n      <td>9</td>\n      <td>11</td>\n      <td>-0.001735</td>\n      <td>-0.000678</td>\n      <td>-0.001207</td>\n      <td>0.000173</td>\n    </tr>\n    <tr>\n      <th>44</th>\n      <td>10</td>\n      <td>11</td>\n      <td>-0.082534</td>\n      <td>-0.028882</td>\n      <td>-0.055708</td>\n      <td>0.000636</td>\n    </tr>\n  </tbody>\n</table>\n</div>"
     },
     "execution_count": 80,
     "metadata": {},
     "output_type": "execute_result"
    }
   ],
   "source": [
    "pd.DataFrame(result_MLE)[pd.DataFrame(result_MLE)['pval'] < 0.1]"
   ],
   "metadata": {
    "collapsed": false,
    "ExecuteTime": {
     "end_time": "2025-02-21T06:07:34.314195Z",
     "start_time": "2025-02-21T06:07:34.305351Z"
    }
   },
   "id": "ae2393f5582b6383"
  },
  {
   "cell_type": "markdown",
   "source": [
    "# Validate significant interactions on a holdout set"
   ],
   "metadata": {
    "collapsed": false
   },
   "id": "a0ab075788a9c1b7"
  },
  {
   "cell_type": "code",
   "execution_count": 81,
   "outputs": [],
   "source": [
    "def validate(x_test, design_test, y_test, nonzero, selected_groups, \n",
    "             groups = None, n_features=None, intercept=True, mode=\"allpairs\", level=0.9):\n",
    "    X_E = design_test[:, nonzero]\n",
    "    active_flag = np.zeros(np.unique(groups).shape[0])\n",
    "    active_flag[selected_groups] = 1.\n",
    "    raw_data=np.array(x_test)\n",
    "\n",
    "    if intercept:\n",
    "        active_vars_flag = active_flag[1:]\n",
    "    else:\n",
    "        active_vars_flag = active_flag\n",
    "\n",
    "    data_interaction = {}\n",
    "    task_idx = []\n",
    "    for i in range(n_features):\n",
    "        for j in range(i + 1, n_features):\n",
    "            if mode == \"allpairs\":\n",
    "                task_idx.append((i, j))\n",
    "                data_interaction[(i, j)] = raw_data[:, i] * raw_data[:, j]\n",
    "            elif mode == 'weakhierarchy':\n",
    "                if active_vars_flag[i] or active_vars_flag[j]:\n",
    "                    task_idx.append((i, j))\n",
    "                    data_interaction[(i, j)] = raw_data[:, i] * raw_data[:, j]\n",
    "            elif mode == 'stronghierarchy':\n",
    "                if active_vars_flag[i] and active_vars_flag[j]:\n",
    "                    task_idx.append((i, j))\n",
    "                    data_interaction[(i, j)] = raw_data[:, i] * raw_data[:, j]\n",
    "\n",
    "    result_dict = interaction_t_tests_all(X_E, y_test, n_features,\n",
    "                                          active_vars_flag, data_interaction,\n",
    "                                          level=level, mode=mode)\n",
    "\n",
    "    return result_dict"
   ],
   "metadata": {
    "collapsed": false,
    "ExecuteTime": {
     "end_time": "2025-02-21T06:07:35.977753Z",
     "start_time": "2025-02-21T06:07:35.962184Z"
    }
   },
   "id": "caf4815d8c87169c"
  },
  {
   "cell_type": "code",
   "execution_count": 82,
   "outputs": [],
   "source": [
    "result_naive_validate = validate(x_test, design_test, y_test, nonzero_naive, \n",
    "                                 selected_groups_naive, groups = groups_test, \n",
    "                                 n_features=x_train.shape[1],\n",
    "                                 intercept=True, mode=\"weakhierarchy\", level=0.9)"
   ],
   "metadata": {
    "collapsed": false,
    "ExecuteTime": {
     "end_time": "2025-02-21T06:07:36.511124Z",
     "start_time": "2025-02-21T06:07:36.477434Z"
    }
   },
   "id": "5b40512a619cc70"
  },
  {
   "cell_type": "code",
   "execution_count": 83,
   "outputs": [
    {
     "data": {
      "text/plain": "     i   j       CI_l      CI_u  beta_hat          pval\n0    0   3  -0.155703  1.310037  0.577167  1.934879e-01\n1    0   8  -0.009654 -0.003329 -0.006491  6.999730e-04\n2    0   9  -0.000348 -0.000119 -0.000233  7.269308e-04\n3    0  10  -0.011498 -0.003974 -0.007736  6.853999e-04\n4    0  11  -0.012238 -0.005148 -0.008693  5.147441e-05\n5    1   3  -0.256522  0.070542 -0.092990  3.477908e-01\n6    1   8  -0.014128  0.007735 -0.003196  6.292661e-01\n7    1   9  -0.000575  0.000017 -0.000279  1.199542e-01\n8    1  10  -0.016710 -0.002913 -0.009811  1.885732e-02\n9    1  11  -0.007026  0.004948 -0.001039  7.744108e-01\n10   2   3  -0.223452  0.413021  0.094785  6.228780e-01\n11   2   8  -0.013897  0.019261  0.002682  7.894005e-01\n12   2   9  -0.000240  0.000129 -0.000056  6.180571e-01\n13   2  10  -0.005114  0.005014 -0.000050  9.870351e-01\n14   2  11  -0.011160  0.000897 -0.005131  1.598618e-01\n15   3   4 -16.211463  9.176925 -3.517269  6.473203e-01\n16   3   5  -3.359902  1.741304 -0.809299  6.003505e-01\n17   3   6  -0.032109  0.180693  0.074292  2.489703e-01\n18   3   7  -3.098578  0.310493 -1.394043  1.769008e-01\n19   3   8   0.064247  0.518332  0.291289  3.414574e-02\n20   3   9   0.000603  0.023409  0.012006  8.214421e-02\n21   3  10   0.163987  1.988541  1.076264  5.142436e-02\n22   3  11  -0.387966  0.198454 -0.094756  5.936250e-01\n23   4   8  -1.114602 -0.022215 -0.568408  8.574594e-02\n24   4   9  -0.018232 -0.001630 -0.009931  4.821905e-02\n25   4  10  -0.945981 -0.278630 -0.612306  2.446626e-03\n26   4  11  -0.761163 -0.086809 -0.423986  3.787357e-02\n27   5   8  -0.199592  0.022693 -0.088450  1.888477e-01\n28   5   9  -0.002562 -0.000430 -0.001496  2.045594e-02\n29   5  10  -0.141487 -0.063744 -0.102616  1.308293e-05\n30   5  11  -0.432698 -0.143972 -0.288335  9.745600e-04\n31   6   8  -0.002297  0.003577  0.000640  7.190228e-01\n32   6   9  -0.000076  0.000025 -0.000026  3.975109e-01\n33   6  10  -0.001998  0.000705 -0.000646  4.298024e-01\n34   6  11  -0.004004 -0.000148 -0.002076  7.548728e-02\n35   7   8  -0.102687 -0.015126 -0.058906  2.631284e-02\n36   7   9  -0.003308 -0.001451 -0.002379  2.329041e-05\n37   7  10  -0.054628 -0.023111 -0.038870  4.648275e-05\n38   7  11  -0.027043  0.021959 -0.002542  8.639847e-01\n39   8   9  -0.001067  0.000373 -0.000347  4.263520e-01\n40   8  10  -0.161689 -0.060531 -0.111110  2.865705e-04\n41   8  11  -0.034015 -0.016067 -0.025041  4.079639e-06\n42   9  10  -0.000938 -0.000320 -0.000629  7.764252e-04\n43   9  11  -0.001336 -0.000698 -0.001017  1.469135e-07\n44  10  11  -0.053155 -0.017904 -0.035529  8.737794e-04",
      "text/html": "<div>\n<style scoped>\n    .dataframe tbody tr th:only-of-type {\n        vertical-align: middle;\n    }\n\n    .dataframe tbody tr th {\n        vertical-align: top;\n    }\n\n    .dataframe thead th {\n        text-align: right;\n    }\n</style>\n<table border=\"1\" class=\"dataframe\">\n  <thead>\n    <tr style=\"text-align: right;\">\n      <th></th>\n      <th>i</th>\n      <th>j</th>\n      <th>CI_l</th>\n      <th>CI_u</th>\n      <th>beta_hat</th>\n      <th>pval</th>\n    </tr>\n  </thead>\n  <tbody>\n    <tr>\n      <th>0</th>\n      <td>0</td>\n      <td>3</td>\n      <td>-0.155703</td>\n      <td>1.310037</td>\n      <td>0.577167</td>\n      <td>1.934879e-01</td>\n    </tr>\n    <tr>\n      <th>1</th>\n      <td>0</td>\n      <td>8</td>\n      <td>-0.009654</td>\n      <td>-0.003329</td>\n      <td>-0.006491</td>\n      <td>6.999730e-04</td>\n    </tr>\n    <tr>\n      <th>2</th>\n      <td>0</td>\n      <td>9</td>\n      <td>-0.000348</td>\n      <td>-0.000119</td>\n      <td>-0.000233</td>\n      <td>7.269308e-04</td>\n    </tr>\n    <tr>\n      <th>3</th>\n      <td>0</td>\n      <td>10</td>\n      <td>-0.011498</td>\n      <td>-0.003974</td>\n      <td>-0.007736</td>\n      <td>6.853999e-04</td>\n    </tr>\n    <tr>\n      <th>4</th>\n      <td>0</td>\n      <td>11</td>\n      <td>-0.012238</td>\n      <td>-0.005148</td>\n      <td>-0.008693</td>\n      <td>5.147441e-05</td>\n    </tr>\n    <tr>\n      <th>5</th>\n      <td>1</td>\n      <td>3</td>\n      <td>-0.256522</td>\n      <td>0.070542</td>\n      <td>-0.092990</td>\n      <td>3.477908e-01</td>\n    </tr>\n    <tr>\n      <th>6</th>\n      <td>1</td>\n      <td>8</td>\n      <td>-0.014128</td>\n      <td>0.007735</td>\n      <td>-0.003196</td>\n      <td>6.292661e-01</td>\n    </tr>\n    <tr>\n      <th>7</th>\n      <td>1</td>\n      <td>9</td>\n      <td>-0.000575</td>\n      <td>0.000017</td>\n      <td>-0.000279</td>\n      <td>1.199542e-01</td>\n    </tr>\n    <tr>\n      <th>8</th>\n      <td>1</td>\n      <td>10</td>\n      <td>-0.016710</td>\n      <td>-0.002913</td>\n      <td>-0.009811</td>\n      <td>1.885732e-02</td>\n    </tr>\n    <tr>\n      <th>9</th>\n      <td>1</td>\n      <td>11</td>\n      <td>-0.007026</td>\n      <td>0.004948</td>\n      <td>-0.001039</td>\n      <td>7.744108e-01</td>\n    </tr>\n    <tr>\n      <th>10</th>\n      <td>2</td>\n      <td>3</td>\n      <td>-0.223452</td>\n      <td>0.413021</td>\n      <td>0.094785</td>\n      <td>6.228780e-01</td>\n    </tr>\n    <tr>\n      <th>11</th>\n      <td>2</td>\n      <td>8</td>\n      <td>-0.013897</td>\n      <td>0.019261</td>\n      <td>0.002682</td>\n      <td>7.894005e-01</td>\n    </tr>\n    <tr>\n      <th>12</th>\n      <td>2</td>\n      <td>9</td>\n      <td>-0.000240</td>\n      <td>0.000129</td>\n      <td>-0.000056</td>\n      <td>6.180571e-01</td>\n    </tr>\n    <tr>\n      <th>13</th>\n      <td>2</td>\n      <td>10</td>\n      <td>-0.005114</td>\n      <td>0.005014</td>\n      <td>-0.000050</td>\n      <td>9.870351e-01</td>\n    </tr>\n    <tr>\n      <th>14</th>\n      <td>2</td>\n      <td>11</td>\n      <td>-0.011160</td>\n      <td>0.000897</td>\n      <td>-0.005131</td>\n      <td>1.598618e-01</td>\n    </tr>\n    <tr>\n      <th>15</th>\n      <td>3</td>\n      <td>4</td>\n      <td>-16.211463</td>\n      <td>9.176925</td>\n      <td>-3.517269</td>\n      <td>6.473203e-01</td>\n    </tr>\n    <tr>\n      <th>16</th>\n      <td>3</td>\n      <td>5</td>\n      <td>-3.359902</td>\n      <td>1.741304</td>\n      <td>-0.809299</td>\n      <td>6.003505e-01</td>\n    </tr>\n    <tr>\n      <th>17</th>\n      <td>3</td>\n      <td>6</td>\n      <td>-0.032109</td>\n      <td>0.180693</td>\n      <td>0.074292</td>\n      <td>2.489703e-01</td>\n    </tr>\n    <tr>\n      <th>18</th>\n      <td>3</td>\n      <td>7</td>\n      <td>-3.098578</td>\n      <td>0.310493</td>\n      <td>-1.394043</td>\n      <td>1.769008e-01</td>\n    </tr>\n    <tr>\n      <th>19</th>\n      <td>3</td>\n      <td>8</td>\n      <td>0.064247</td>\n      <td>0.518332</td>\n      <td>0.291289</td>\n      <td>3.414574e-02</td>\n    </tr>\n    <tr>\n      <th>20</th>\n      <td>3</td>\n      <td>9</td>\n      <td>0.000603</td>\n      <td>0.023409</td>\n      <td>0.012006</td>\n      <td>8.214421e-02</td>\n    </tr>\n    <tr>\n      <th>21</th>\n      <td>3</td>\n      <td>10</td>\n      <td>0.163987</td>\n      <td>1.988541</td>\n      <td>1.076264</td>\n      <td>5.142436e-02</td>\n    </tr>\n    <tr>\n      <th>22</th>\n      <td>3</td>\n      <td>11</td>\n      <td>-0.387966</td>\n      <td>0.198454</td>\n      <td>-0.094756</td>\n      <td>5.936250e-01</td>\n    </tr>\n    <tr>\n      <th>23</th>\n      <td>4</td>\n      <td>8</td>\n      <td>-1.114602</td>\n      <td>-0.022215</td>\n      <td>-0.568408</td>\n      <td>8.574594e-02</td>\n    </tr>\n    <tr>\n      <th>24</th>\n      <td>4</td>\n      <td>9</td>\n      <td>-0.018232</td>\n      <td>-0.001630</td>\n      <td>-0.009931</td>\n      <td>4.821905e-02</td>\n    </tr>\n    <tr>\n      <th>25</th>\n      <td>4</td>\n      <td>10</td>\n      <td>-0.945981</td>\n      <td>-0.278630</td>\n      <td>-0.612306</td>\n      <td>2.446626e-03</td>\n    </tr>\n    <tr>\n      <th>26</th>\n      <td>4</td>\n      <td>11</td>\n      <td>-0.761163</td>\n      <td>-0.086809</td>\n      <td>-0.423986</td>\n      <td>3.787357e-02</td>\n    </tr>\n    <tr>\n      <th>27</th>\n      <td>5</td>\n      <td>8</td>\n      <td>-0.199592</td>\n      <td>0.022693</td>\n      <td>-0.088450</td>\n      <td>1.888477e-01</td>\n    </tr>\n    <tr>\n      <th>28</th>\n      <td>5</td>\n      <td>9</td>\n      <td>-0.002562</td>\n      <td>-0.000430</td>\n      <td>-0.001496</td>\n      <td>2.045594e-02</td>\n    </tr>\n    <tr>\n      <th>29</th>\n      <td>5</td>\n      <td>10</td>\n      <td>-0.141487</td>\n      <td>-0.063744</td>\n      <td>-0.102616</td>\n      <td>1.308293e-05</td>\n    </tr>\n    <tr>\n      <th>30</th>\n      <td>5</td>\n      <td>11</td>\n      <td>-0.432698</td>\n      <td>-0.143972</td>\n      <td>-0.288335</td>\n      <td>9.745600e-04</td>\n    </tr>\n    <tr>\n      <th>31</th>\n      <td>6</td>\n      <td>8</td>\n      <td>-0.002297</td>\n      <td>0.003577</td>\n      <td>0.000640</td>\n      <td>7.190228e-01</td>\n    </tr>\n    <tr>\n      <th>32</th>\n      <td>6</td>\n      <td>9</td>\n      <td>-0.000076</td>\n      <td>0.000025</td>\n      <td>-0.000026</td>\n      <td>3.975109e-01</td>\n    </tr>\n    <tr>\n      <th>33</th>\n      <td>6</td>\n      <td>10</td>\n      <td>-0.001998</td>\n      <td>0.000705</td>\n      <td>-0.000646</td>\n      <td>4.298024e-01</td>\n    </tr>\n    <tr>\n      <th>34</th>\n      <td>6</td>\n      <td>11</td>\n      <td>-0.004004</td>\n      <td>-0.000148</td>\n      <td>-0.002076</td>\n      <td>7.548728e-02</td>\n    </tr>\n    <tr>\n      <th>35</th>\n      <td>7</td>\n      <td>8</td>\n      <td>-0.102687</td>\n      <td>-0.015126</td>\n      <td>-0.058906</td>\n      <td>2.631284e-02</td>\n    </tr>\n    <tr>\n      <th>36</th>\n      <td>7</td>\n      <td>9</td>\n      <td>-0.003308</td>\n      <td>-0.001451</td>\n      <td>-0.002379</td>\n      <td>2.329041e-05</td>\n    </tr>\n    <tr>\n      <th>37</th>\n      <td>7</td>\n      <td>10</td>\n      <td>-0.054628</td>\n      <td>-0.023111</td>\n      <td>-0.038870</td>\n      <td>4.648275e-05</td>\n    </tr>\n    <tr>\n      <th>38</th>\n      <td>7</td>\n      <td>11</td>\n      <td>-0.027043</td>\n      <td>0.021959</td>\n      <td>-0.002542</td>\n      <td>8.639847e-01</td>\n    </tr>\n    <tr>\n      <th>39</th>\n      <td>8</td>\n      <td>9</td>\n      <td>-0.001067</td>\n      <td>0.000373</td>\n      <td>-0.000347</td>\n      <td>4.263520e-01</td>\n    </tr>\n    <tr>\n      <th>40</th>\n      <td>8</td>\n      <td>10</td>\n      <td>-0.161689</td>\n      <td>-0.060531</td>\n      <td>-0.111110</td>\n      <td>2.865705e-04</td>\n    </tr>\n    <tr>\n      <th>41</th>\n      <td>8</td>\n      <td>11</td>\n      <td>-0.034015</td>\n      <td>-0.016067</td>\n      <td>-0.025041</td>\n      <td>4.079639e-06</td>\n    </tr>\n    <tr>\n      <th>42</th>\n      <td>9</td>\n      <td>10</td>\n      <td>-0.000938</td>\n      <td>-0.000320</td>\n      <td>-0.000629</td>\n      <td>7.764252e-04</td>\n    </tr>\n    <tr>\n      <th>43</th>\n      <td>9</td>\n      <td>11</td>\n      <td>-0.001336</td>\n      <td>-0.000698</td>\n      <td>-0.001017</td>\n      <td>1.469135e-07</td>\n    </tr>\n    <tr>\n      <th>44</th>\n      <td>10</td>\n      <td>11</td>\n      <td>-0.053155</td>\n      <td>-0.017904</td>\n      <td>-0.035529</td>\n      <td>8.737794e-04</td>\n    </tr>\n  </tbody>\n</table>\n</div>"
     },
     "execution_count": 83,
     "metadata": {},
     "output_type": "execute_result"
    }
   ],
   "source": [
    "pd.DataFrame(result_naive_validate)"
   ],
   "metadata": {
    "collapsed": false,
    "ExecuteTime": {
     "end_time": "2025-02-21T06:07:36.916974Z",
     "start_time": "2025-02-21T06:07:36.906841Z"
    }
   },
   "id": "99931aa9a52d4375"
  },
  {
   "cell_type": "code",
   "execution_count": 84,
   "outputs": [],
   "source": [
    "result_MLE_validate = validate(x_test, design_test, y_test, nonzero_MLE, \n",
    "                                 selected_groups_MLE, groups = groups_test, \n",
    "                                 n_features=x_train.shape[1],\n",
    "                                 intercept=True, mode=\"weakhierarchy\", level=0.9)"
   ],
   "metadata": {
    "collapsed": false,
    "ExecuteTime": {
     "end_time": "2025-02-21T06:07:37.353128Z",
     "start_time": "2025-02-21T06:07:37.318521Z"
    }
   },
   "id": "23f0c3d11060197d"
  },
  {
   "cell_type": "code",
   "execution_count": 85,
   "outputs": [
    {
     "data": {
      "text/plain": "     i   j       CI_l      CI_u  beta_hat          pval\n0    0   3  -0.155703  1.310037  0.577167  1.934879e-01\n1    0   8  -0.009654 -0.003329 -0.006491  6.999730e-04\n2    0   9  -0.000348 -0.000119 -0.000233  7.269308e-04\n3    0  10  -0.011498 -0.003974 -0.007736  6.853999e-04\n4    0  11  -0.012238 -0.005148 -0.008693  5.147441e-05\n5    1   3  -0.256522  0.070542 -0.092990  3.477908e-01\n6    1   8  -0.014128  0.007735 -0.003196  6.292661e-01\n7    1   9  -0.000575  0.000017 -0.000279  1.199542e-01\n8    1  10  -0.016710 -0.002913 -0.009811  1.885732e-02\n9    1  11  -0.007026  0.004948 -0.001039  7.744108e-01\n10   2   3  -0.223452  0.413021  0.094785  6.228780e-01\n11   2   8  -0.013897  0.019261  0.002682  7.894005e-01\n12   2   9  -0.000240  0.000129 -0.000056  6.180571e-01\n13   2  10  -0.005114  0.005014 -0.000050  9.870351e-01\n14   2  11  -0.011160  0.000897 -0.005131  1.598618e-01\n15   3   4 -16.211463  9.176925 -3.517269  6.473203e-01\n16   3   5  -3.359902  1.741304 -0.809299  6.003505e-01\n17   3   6  -0.032109  0.180693  0.074292  2.489703e-01\n18   3   7  -3.098578  0.310493 -1.394043  1.769008e-01\n19   3   8   0.064247  0.518332  0.291289  3.414574e-02\n20   3   9   0.000603  0.023409  0.012006  8.214421e-02\n21   3  10   0.163987  1.988541  1.076264  5.142436e-02\n22   3  11  -0.387966  0.198454 -0.094756  5.936250e-01\n23   4   8  -1.114602 -0.022215 -0.568408  8.574594e-02\n24   4   9  -0.018232 -0.001630 -0.009931  4.821905e-02\n25   4  10  -0.945981 -0.278630 -0.612306  2.446626e-03\n26   4  11  -0.761163 -0.086809 -0.423986  3.787357e-02\n27   5   8  -0.199592  0.022693 -0.088450  1.888477e-01\n28   5   9  -0.002562 -0.000430 -0.001496  2.045594e-02\n29   5  10  -0.141487 -0.063744 -0.102616  1.308293e-05\n30   5  11  -0.432698 -0.143972 -0.288335  9.745600e-04\n31   6   8  -0.002297  0.003577  0.000640  7.190228e-01\n32   6   9  -0.000076  0.000025 -0.000026  3.975109e-01\n33   6  10  -0.001998  0.000705 -0.000646  4.298024e-01\n34   6  11  -0.004004 -0.000148 -0.002076  7.548728e-02\n35   7   8  -0.102687 -0.015126 -0.058906  2.631284e-02\n36   7   9  -0.003308 -0.001451 -0.002379  2.329041e-05\n37   7  10  -0.054628 -0.023111 -0.038870  4.648275e-05\n38   7  11  -0.027043  0.021959 -0.002542  8.639847e-01\n39   8   9  -0.001067  0.000373 -0.000347  4.263520e-01\n40   8  10  -0.161689 -0.060531 -0.111110  2.865705e-04\n41   8  11  -0.034015 -0.016067 -0.025041  4.079639e-06\n42   9  10  -0.000938 -0.000320 -0.000629  7.764252e-04\n43   9  11  -0.001336 -0.000698 -0.001017  1.469135e-07\n44  10  11  -0.053155 -0.017904 -0.035529  8.737794e-04",
      "text/html": "<div>\n<style scoped>\n    .dataframe tbody tr th:only-of-type {\n        vertical-align: middle;\n    }\n\n    .dataframe tbody tr th {\n        vertical-align: top;\n    }\n\n    .dataframe thead th {\n        text-align: right;\n    }\n</style>\n<table border=\"1\" class=\"dataframe\">\n  <thead>\n    <tr style=\"text-align: right;\">\n      <th></th>\n      <th>i</th>\n      <th>j</th>\n      <th>CI_l</th>\n      <th>CI_u</th>\n      <th>beta_hat</th>\n      <th>pval</th>\n    </tr>\n  </thead>\n  <tbody>\n    <tr>\n      <th>0</th>\n      <td>0</td>\n      <td>3</td>\n      <td>-0.155703</td>\n      <td>1.310037</td>\n      <td>0.577167</td>\n      <td>1.934879e-01</td>\n    </tr>\n    <tr>\n      <th>1</th>\n      <td>0</td>\n      <td>8</td>\n      <td>-0.009654</td>\n      <td>-0.003329</td>\n      <td>-0.006491</td>\n      <td>6.999730e-04</td>\n    </tr>\n    <tr>\n      <th>2</th>\n      <td>0</td>\n      <td>9</td>\n      <td>-0.000348</td>\n      <td>-0.000119</td>\n      <td>-0.000233</td>\n      <td>7.269308e-04</td>\n    </tr>\n    <tr>\n      <th>3</th>\n      <td>0</td>\n      <td>10</td>\n      <td>-0.011498</td>\n      <td>-0.003974</td>\n      <td>-0.007736</td>\n      <td>6.853999e-04</td>\n    </tr>\n    <tr>\n      <th>4</th>\n      <td>0</td>\n      <td>11</td>\n      <td>-0.012238</td>\n      <td>-0.005148</td>\n      <td>-0.008693</td>\n      <td>5.147441e-05</td>\n    </tr>\n    <tr>\n      <th>5</th>\n      <td>1</td>\n      <td>3</td>\n      <td>-0.256522</td>\n      <td>0.070542</td>\n      <td>-0.092990</td>\n      <td>3.477908e-01</td>\n    </tr>\n    <tr>\n      <th>6</th>\n      <td>1</td>\n      <td>8</td>\n      <td>-0.014128</td>\n      <td>0.007735</td>\n      <td>-0.003196</td>\n      <td>6.292661e-01</td>\n    </tr>\n    <tr>\n      <th>7</th>\n      <td>1</td>\n      <td>9</td>\n      <td>-0.000575</td>\n      <td>0.000017</td>\n      <td>-0.000279</td>\n      <td>1.199542e-01</td>\n    </tr>\n    <tr>\n      <th>8</th>\n      <td>1</td>\n      <td>10</td>\n      <td>-0.016710</td>\n      <td>-0.002913</td>\n      <td>-0.009811</td>\n      <td>1.885732e-02</td>\n    </tr>\n    <tr>\n      <th>9</th>\n      <td>1</td>\n      <td>11</td>\n      <td>-0.007026</td>\n      <td>0.004948</td>\n      <td>-0.001039</td>\n      <td>7.744108e-01</td>\n    </tr>\n    <tr>\n      <th>10</th>\n      <td>2</td>\n      <td>3</td>\n      <td>-0.223452</td>\n      <td>0.413021</td>\n      <td>0.094785</td>\n      <td>6.228780e-01</td>\n    </tr>\n    <tr>\n      <th>11</th>\n      <td>2</td>\n      <td>8</td>\n      <td>-0.013897</td>\n      <td>0.019261</td>\n      <td>0.002682</td>\n      <td>7.894005e-01</td>\n    </tr>\n    <tr>\n      <th>12</th>\n      <td>2</td>\n      <td>9</td>\n      <td>-0.000240</td>\n      <td>0.000129</td>\n      <td>-0.000056</td>\n      <td>6.180571e-01</td>\n    </tr>\n    <tr>\n      <th>13</th>\n      <td>2</td>\n      <td>10</td>\n      <td>-0.005114</td>\n      <td>0.005014</td>\n      <td>-0.000050</td>\n      <td>9.870351e-01</td>\n    </tr>\n    <tr>\n      <th>14</th>\n      <td>2</td>\n      <td>11</td>\n      <td>-0.011160</td>\n      <td>0.000897</td>\n      <td>-0.005131</td>\n      <td>1.598618e-01</td>\n    </tr>\n    <tr>\n      <th>15</th>\n      <td>3</td>\n      <td>4</td>\n      <td>-16.211463</td>\n      <td>9.176925</td>\n      <td>-3.517269</td>\n      <td>6.473203e-01</td>\n    </tr>\n    <tr>\n      <th>16</th>\n      <td>3</td>\n      <td>5</td>\n      <td>-3.359902</td>\n      <td>1.741304</td>\n      <td>-0.809299</td>\n      <td>6.003505e-01</td>\n    </tr>\n    <tr>\n      <th>17</th>\n      <td>3</td>\n      <td>6</td>\n      <td>-0.032109</td>\n      <td>0.180693</td>\n      <td>0.074292</td>\n      <td>2.489703e-01</td>\n    </tr>\n    <tr>\n      <th>18</th>\n      <td>3</td>\n      <td>7</td>\n      <td>-3.098578</td>\n      <td>0.310493</td>\n      <td>-1.394043</td>\n      <td>1.769008e-01</td>\n    </tr>\n    <tr>\n      <th>19</th>\n      <td>3</td>\n      <td>8</td>\n      <td>0.064247</td>\n      <td>0.518332</td>\n      <td>0.291289</td>\n      <td>3.414574e-02</td>\n    </tr>\n    <tr>\n      <th>20</th>\n      <td>3</td>\n      <td>9</td>\n      <td>0.000603</td>\n      <td>0.023409</td>\n      <td>0.012006</td>\n      <td>8.214421e-02</td>\n    </tr>\n    <tr>\n      <th>21</th>\n      <td>3</td>\n      <td>10</td>\n      <td>0.163987</td>\n      <td>1.988541</td>\n      <td>1.076264</td>\n      <td>5.142436e-02</td>\n    </tr>\n    <tr>\n      <th>22</th>\n      <td>3</td>\n      <td>11</td>\n      <td>-0.387966</td>\n      <td>0.198454</td>\n      <td>-0.094756</td>\n      <td>5.936250e-01</td>\n    </tr>\n    <tr>\n      <th>23</th>\n      <td>4</td>\n      <td>8</td>\n      <td>-1.114602</td>\n      <td>-0.022215</td>\n      <td>-0.568408</td>\n      <td>8.574594e-02</td>\n    </tr>\n    <tr>\n      <th>24</th>\n      <td>4</td>\n      <td>9</td>\n      <td>-0.018232</td>\n      <td>-0.001630</td>\n      <td>-0.009931</td>\n      <td>4.821905e-02</td>\n    </tr>\n    <tr>\n      <th>25</th>\n      <td>4</td>\n      <td>10</td>\n      <td>-0.945981</td>\n      <td>-0.278630</td>\n      <td>-0.612306</td>\n      <td>2.446626e-03</td>\n    </tr>\n    <tr>\n      <th>26</th>\n      <td>4</td>\n      <td>11</td>\n      <td>-0.761163</td>\n      <td>-0.086809</td>\n      <td>-0.423986</td>\n      <td>3.787357e-02</td>\n    </tr>\n    <tr>\n      <th>27</th>\n      <td>5</td>\n      <td>8</td>\n      <td>-0.199592</td>\n      <td>0.022693</td>\n      <td>-0.088450</td>\n      <td>1.888477e-01</td>\n    </tr>\n    <tr>\n      <th>28</th>\n      <td>5</td>\n      <td>9</td>\n      <td>-0.002562</td>\n      <td>-0.000430</td>\n      <td>-0.001496</td>\n      <td>2.045594e-02</td>\n    </tr>\n    <tr>\n      <th>29</th>\n      <td>5</td>\n      <td>10</td>\n      <td>-0.141487</td>\n      <td>-0.063744</td>\n      <td>-0.102616</td>\n      <td>1.308293e-05</td>\n    </tr>\n    <tr>\n      <th>30</th>\n      <td>5</td>\n      <td>11</td>\n      <td>-0.432698</td>\n      <td>-0.143972</td>\n      <td>-0.288335</td>\n      <td>9.745600e-04</td>\n    </tr>\n    <tr>\n      <th>31</th>\n      <td>6</td>\n      <td>8</td>\n      <td>-0.002297</td>\n      <td>0.003577</td>\n      <td>0.000640</td>\n      <td>7.190228e-01</td>\n    </tr>\n    <tr>\n      <th>32</th>\n      <td>6</td>\n      <td>9</td>\n      <td>-0.000076</td>\n      <td>0.000025</td>\n      <td>-0.000026</td>\n      <td>3.975109e-01</td>\n    </tr>\n    <tr>\n      <th>33</th>\n      <td>6</td>\n      <td>10</td>\n      <td>-0.001998</td>\n      <td>0.000705</td>\n      <td>-0.000646</td>\n      <td>4.298024e-01</td>\n    </tr>\n    <tr>\n      <th>34</th>\n      <td>6</td>\n      <td>11</td>\n      <td>-0.004004</td>\n      <td>-0.000148</td>\n      <td>-0.002076</td>\n      <td>7.548728e-02</td>\n    </tr>\n    <tr>\n      <th>35</th>\n      <td>7</td>\n      <td>8</td>\n      <td>-0.102687</td>\n      <td>-0.015126</td>\n      <td>-0.058906</td>\n      <td>2.631284e-02</td>\n    </tr>\n    <tr>\n      <th>36</th>\n      <td>7</td>\n      <td>9</td>\n      <td>-0.003308</td>\n      <td>-0.001451</td>\n      <td>-0.002379</td>\n      <td>2.329041e-05</td>\n    </tr>\n    <tr>\n      <th>37</th>\n      <td>7</td>\n      <td>10</td>\n      <td>-0.054628</td>\n      <td>-0.023111</td>\n      <td>-0.038870</td>\n      <td>4.648275e-05</td>\n    </tr>\n    <tr>\n      <th>38</th>\n      <td>7</td>\n      <td>11</td>\n      <td>-0.027043</td>\n      <td>0.021959</td>\n      <td>-0.002542</td>\n      <td>8.639847e-01</td>\n    </tr>\n    <tr>\n      <th>39</th>\n      <td>8</td>\n      <td>9</td>\n      <td>-0.001067</td>\n      <td>0.000373</td>\n      <td>-0.000347</td>\n      <td>4.263520e-01</td>\n    </tr>\n    <tr>\n      <th>40</th>\n      <td>8</td>\n      <td>10</td>\n      <td>-0.161689</td>\n      <td>-0.060531</td>\n      <td>-0.111110</td>\n      <td>2.865705e-04</td>\n    </tr>\n    <tr>\n      <th>41</th>\n      <td>8</td>\n      <td>11</td>\n      <td>-0.034015</td>\n      <td>-0.016067</td>\n      <td>-0.025041</td>\n      <td>4.079639e-06</td>\n    </tr>\n    <tr>\n      <th>42</th>\n      <td>9</td>\n      <td>10</td>\n      <td>-0.000938</td>\n      <td>-0.000320</td>\n      <td>-0.000629</td>\n      <td>7.764252e-04</td>\n    </tr>\n    <tr>\n      <th>43</th>\n      <td>9</td>\n      <td>11</td>\n      <td>-0.001336</td>\n      <td>-0.000698</td>\n      <td>-0.001017</td>\n      <td>1.469135e-07</td>\n    </tr>\n    <tr>\n      <th>44</th>\n      <td>10</td>\n      <td>11</td>\n      <td>-0.053155</td>\n      <td>-0.017904</td>\n      <td>-0.035529</td>\n      <td>8.737794e-04</td>\n    </tr>\n  </tbody>\n</table>\n</div>"
     },
     "execution_count": 85,
     "metadata": {},
     "output_type": "execute_result"
    }
   ],
   "source": [
    "pd.DataFrame(result_MLE_validate)"
   ],
   "metadata": {
    "collapsed": false,
    "ExecuteTime": {
     "end_time": "2025-02-21T06:07:37.876728Z",
     "start_time": "2025-02-21T06:07:37.867844Z"
    }
   },
   "id": "350fa9dfbd66dab1"
  },
  {
   "cell_type": "code",
   "execution_count": 86,
   "outputs": [],
   "source": [
    "naive_df = pd.DataFrame(result_naive)\n",
    "naive_significant = \\\n",
    "    [(naive_df[\"i\"][k], naive_df[\"j\"][k]) for k in range(naive_df.shape[0])\n",
    "     if naive_df[\"pval\"][k] < 0.1]\n",
    "naive_insig = \\\n",
    "    [(naive_df[\"i\"][k], naive_df[\"j\"][k]) for k in range(naive_df.shape[0])\n",
    "     if naive_df[\"pval\"][k] >= 0.1]"
   ],
   "metadata": {
    "collapsed": false,
    "ExecuteTime": {
     "end_time": "2025-02-21T06:07:38.694834Z",
     "start_time": "2025-02-21T06:07:38.683304Z"
    }
   },
   "id": "86ca4f92980ba1ad"
  },
  {
   "cell_type": "code",
   "execution_count": 87,
   "outputs": [],
   "source": [
    "naive_test_df = pd.DataFrame(result_naive_validate)\n",
    "naive_test_significant = \\\n",
    "    [(naive_test_df[\"i\"][k], naive_test_df[\"j\"][k]) for k in range(naive_test_df.shape[0])\n",
    "     if naive_test_df[\"pval\"][k] < 0.1]\n",
    "naive_test_insig = \\\n",
    "    [(naive_test_df[\"i\"][k], naive_test_df[\"j\"][k]) for k in range(naive_test_df.shape[0])\n",
    "     if naive_test_df[\"pval\"][k] >= 0.1]"
   ],
   "metadata": {
    "collapsed": false,
    "ExecuteTime": {
     "end_time": "2025-02-21T06:07:39.156056Z",
     "start_time": "2025-02-21T06:07:39.139816Z"
    }
   },
   "id": "722716b2126633da"
  },
  {
   "cell_type": "code",
   "execution_count": 88,
   "outputs": [],
   "source": [
    "naive_all = [(naive_test_df[\"i\"][k], naive_test_df[\"j\"][k]) \n",
    "             for k in range(naive_test_df.shape[0])]"
   ],
   "metadata": {
    "collapsed": false,
    "ExecuteTime": {
     "end_time": "2025-02-21T06:07:39.520090Z",
     "start_time": "2025-02-21T06:07:39.499852Z"
    }
   },
   "id": "1f09ed185d1b0a4b"
  },
  {
   "cell_type": "code",
   "execution_count": 89,
   "outputs": [
    {
     "data": {
      "text/plain": "0.7391304347826086"
     },
     "execution_count": 89,
     "metadata": {},
     "output_type": "execute_result"
    }
   ],
   "source": [
    "len(set(naive_test_significant).intersection(set(naive_significant))) / len(set(naive_significant))"
   ],
   "metadata": {
    "collapsed": false,
    "ExecuteTime": {
     "end_time": "2025-02-21T06:07:39.911642Z",
     "start_time": "2025-02-21T06:07:39.892586Z"
    }
   },
   "id": "7aaa30eee2d5d017"
  },
  {
   "cell_type": "code",
   "execution_count": 90,
   "outputs": [
    {
     "data": {
      "text/plain": "0.7142857142857143"
     },
     "execution_count": 90,
     "metadata": {},
     "output_type": "execute_result"
    }
   ],
   "source": [
    "len(set(naive_test_insig).intersection(set(naive_insig))) / len(set(naive_test_insig))"
   ],
   "metadata": {
    "collapsed": false,
    "ExecuteTime": {
     "end_time": "2025-02-21T06:07:40.579685Z",
     "start_time": "2025-02-21T06:07:40.562239Z"
    }
   },
   "id": "bbcd0ba334bd1546"
  },
  {
   "cell_type": "code",
   "execution_count": 91,
   "outputs": [],
   "source": [
    "MLE_df = pd.DataFrame(result_MLE)\n",
    "MLE_significant = \\\n",
    "    [(MLE_df[\"i\"][k], MLE_df[\"j\"][k]) for k in range(MLE_df.shape[0])\n",
    "     if MLE_df[\"pval\"][k] < 0.1]\n",
    "MLE_insig = \\\n",
    "    [(MLE_df[\"i\"][k], MLE_df[\"j\"][k]) for k in range(MLE_df.shape[0])\n",
    "     if MLE_df[\"pval\"][k] >= 0.1]"
   ],
   "metadata": {
    "collapsed": false,
    "ExecuteTime": {
     "end_time": "2025-02-21T06:07:41.094346Z",
     "start_time": "2025-02-21T06:07:41.082313Z"
    }
   },
   "id": "d3b5638255618670"
  },
  {
   "cell_type": "code",
   "execution_count": 92,
   "outputs": [],
   "source": [
    "MLE_test_df = pd.DataFrame(result_MLE_validate)\n",
    "MLE_test_significant = \\\n",
    "    [(MLE_test_df[\"i\"][k], MLE_test_df[\"j\"][k]) for k in range(MLE_test_df.shape[0])\n",
    "     if MLE_test_df[\"pval\"][k] < 0.1]\n",
    "MLE_test_insig = \\\n",
    "    [(MLE_test_df[\"i\"][k], MLE_test_df[\"j\"][k]) for k in range(MLE_test_df.shape[0])\n",
    "     if MLE_test_df[\"pval\"][k] >= 0.1]"
   ],
   "metadata": {
    "collapsed": false,
    "ExecuteTime": {
     "end_time": "2025-02-21T06:07:41.518052Z",
     "start_time": "2025-02-21T06:07:41.503727Z"
    }
   },
   "id": "b9369463901835d0"
  },
  {
   "cell_type": "code",
   "execution_count": 93,
   "outputs": [],
   "source": [
    "MLE_all = [(MLE_test_df[\"i\"][k], MLE_test_df[\"j\"][k]) \n",
    "             for k in range(MLE_test_df.shape[0])]"
   ],
   "metadata": {
    "collapsed": false,
    "ExecuteTime": {
     "end_time": "2025-02-21T06:07:41.959176Z",
     "start_time": "2025-02-21T06:07:41.944779Z"
    }
   },
   "id": "3981d5097c90b69c"
  },
  {
   "cell_type": "code",
   "execution_count": 94,
   "outputs": [],
   "source": [
    "alpha = 0.1\n",
    "naive_train = [(naive_df[\"pval\"][k] < alpha) for k in range(naive_df.shape[0])]\n",
    "naive_test = [(naive_test_df[\"pval\"][k] < alpha) for k in range(naive_test_df.shape[0])]"
   ],
   "metadata": {
    "collapsed": false,
    "ExecuteTime": {
     "end_time": "2025-02-21T06:07:42.347616Z",
     "start_time": "2025-02-21T06:07:42.330809Z"
    }
   },
   "id": "2f1fcdbe69cb0f86"
  },
  {
   "cell_type": "code",
   "execution_count": 95,
   "outputs": [
    {
     "data": {
      "text/plain": "array([[15,  6],\n       [ 7, 17]])"
     },
     "execution_count": 95,
     "metadata": {},
     "output_type": "execute_result"
    }
   ],
   "source": [
    "from sklearn.metrics import confusion_matrix\n",
    "# tn, fp, \n",
    "# fn, tp\n",
    "confusion_matrix(naive_test, naive_train)"
   ],
   "metadata": {
    "collapsed": false,
    "ExecuteTime": {
     "end_time": "2025-02-21T06:07:42.718279Z",
     "start_time": "2025-02-21T06:07:42.700280Z"
    }
   },
   "id": "c08f42cd3fae4d27"
  },
  {
   "cell_type": "code",
   "execution_count": 96,
   "outputs": [],
   "source": [
    "MLE_train = [(MLE_df[\"pval\"][k] < alpha) for k in range(MLE_df.shape[0])]\n",
    "MLE_test = [(MLE_test_df[\"pval\"][k] < alpha) for k in range(MLE_test_df.shape[0])]"
   ],
   "metadata": {
    "collapsed": false,
    "ExecuteTime": {
     "end_time": "2025-02-21T06:07:43.383954Z",
     "start_time": "2025-02-21T06:07:43.370711Z"
    }
   },
   "id": "99e79cec5583e23a"
  },
  {
   "cell_type": "code",
   "execution_count": 97,
   "outputs": [
    {
     "data": {
      "text/plain": "array([[16,  5],\n       [11, 13]])"
     },
     "execution_count": 97,
     "metadata": {},
     "output_type": "execute_result"
    }
   ],
   "source": [
    "from sklearn.metrics import confusion_matrix\n",
    "# tn, fp, \n",
    "# fn, tp\n",
    "confusion_matrix(MLE_test, MLE_train)"
   ],
   "metadata": {
    "collapsed": false,
    "ExecuteTime": {
     "end_time": "2025-02-21T06:07:43.920267Z",
     "start_time": "2025-02-21T06:07:43.900337Z"
    }
   },
   "id": "7e43a57c991687ba"
  },
  {
   "cell_type": "code",
   "execution_count": 69,
   "outputs": [
    {
     "data": {
      "text/plain": "29"
     },
     "execution_count": 69,
     "metadata": {},
     "output_type": "execute_result"
    }
   ],
   "source": [
    "len(set(MLE_test_significant).intersection(set(MLE_significant)))# / len(MLE_test_significant)"
   ],
   "metadata": {
    "collapsed": false
   },
   "id": "12e4909e2a26bd0a"
  },
  {
   "cell_type": "code",
   "execution_count": null,
   "outputs": [],
   "source": [],
   "metadata": {
    "collapsed": false
   },
   "id": "2f0bf26b42e89fd2"
  },
  {
   "cell_type": "code",
   "execution_count": 64,
   "outputs": [
    {
     "data": {
      "text/plain": "106"
     },
     "execution_count": 64,
     "metadata": {},
     "output_type": "execute_result"
    }
   ],
   "source": [
    "len(set(MLE_test_insig).intersection(set(MLE_insig)))# / len(set(MLE_test_insig))"
   ],
   "metadata": {
    "collapsed": false
   },
   "id": "85db3c9c6087b174"
  },
  {
   "cell_type": "markdown",
   "source": [
    "# Analyzing the results"
   ],
   "metadata": {
    "collapsed": false
   },
   "id": "93e89981585ec95b"
  },
  {
   "cell_type": "code",
   "execution_count": 57,
   "outputs": [
    {
     "data": {
      "text/plain": "0.6536938426795408"
     },
     "execution_count": 57,
     "metadata": {},
     "output_type": "execute_result"
    }
   ],
   "source": [
    "# Average length of 90% CIs\n",
    "np.mean(np.array(result_naive[\"CI_u\"]) - np.array(result_naive[\"CI_l\"]))"
   ],
   "metadata": {
    "collapsed": false
   },
   "id": "34a0a3dca5dd154"
  },
  {
   "cell_type": "code",
   "execution_count": 58,
   "outputs": [],
   "source": [
    "#np.mean(np.array(result_ds[\"CI_u\"]) - np.array(result_ds[\"CI_l\"]))"
   ],
   "metadata": {
    "collapsed": false
   },
   "id": "ebab15ad3b651bb8"
  },
  {
   "cell_type": "code",
   "execution_count": 59,
   "outputs": [
    {
     "data": {
      "text/plain": "0.6406069460009096"
     },
     "execution_count": 59,
     "metadata": {},
     "output_type": "execute_result"
    }
   ],
   "source": [
    "np.mean(np.array(result_MLE[\"CI_u\"]) - np.array(result_MLE[\"CI_l\"]))"
   ],
   "metadata": {
    "collapsed": false
   },
   "id": "bf75ed9dd55e6401"
  },
  {
   "cell_type": "code",
   "execution_count": null,
   "outputs": [],
   "source": [],
   "metadata": {
    "collapsed": false
   },
   "id": "f2e867fa8a6d982a"
  },
  {
   "cell_type": "code",
   "execution_count": null,
   "outputs": [],
   "source": [],
   "metadata": {
    "collapsed": false
   },
   "id": "a830a29dc4ad21d3"
  },
  {
   "cell_type": "code",
   "execution_count": null,
   "outputs": [],
   "source": [],
   "metadata": {
    "collapsed": false
   },
   "id": "25abddecd90df71c"
  },
  {
   "cell_type": "code",
   "execution_count": 48,
   "outputs": [],
   "source": [
    "def PCA_ds(x_train, y_train, n_comp=30, prop=0.9, seed=123):\n",
    "    n, p = x_train.shape\n",
    "\n",
    "    np.random.seed(seed)\n",
    "    pi_s = prop\n",
    "    subset_select = np.zeros(n, np.bool_)\n",
    "    subset_select[:int(pi_s * n)] = True\n",
    "    np.random.shuffle(subset_select)\n",
    "    x_sel = x_train.iloc[subset_select, :]\n",
    "    y_sel = y_train.iloc[subset_select]\n",
    "    x_inf = x_train.iloc[~subset_select, :]\n",
    "    y_inf = y_train.iloc[~subset_select]\n",
    "    \n",
    "    # Create PCA object\n",
    "    pca = PCA(n_components=n_comp)\n",
    "    # Fit PCA to the data\n",
    "    pca.fit(x_sel)\n",
    "    # Transform the data\n",
    "    x_sel_pca = pca.transform(x_sel) / np.sqrt(pca.explained_variance_)\n",
    "    x_inf_pca = pca.transform(x_inf) / np.sqrt(pca.explained_variance_)\n",
    "    \n",
    "    design_sel, groups_s = get_splines(x_sel_pca, nknots=6, degree=2, intercept=True)\n",
    "    design_inf, groups_i = get_splines(x_inf_pca, nknots=6, degree=2, intercept=True)\n",
    "    \n",
    "    assert np.all(groups_i == groups_s)\n",
    "    \n",
    "    return ([x_sel_pca*np.sqrt(x_sel_pca.shape[0]), \n",
    "             x_inf_pca*np.sqrt(x_inf_pca.shape[0]), y_sel, y_inf], \n",
    "            [design_sel, design_inf], subset_select)"
   ],
   "metadata": {
    "collapsed": false
   },
   "id": "b108443cd1632467"
  }
 ],
 "metadata": {
  "kernelspec": {
   "display_name": "Python 3",
   "language": "python",
   "name": "python3"
  },
  "language_info": {
   "codemirror_mode": {
    "name": "ipython",
    "version": 2
   },
   "file_extension": ".py",
   "mimetype": "text/x-python",
   "name": "python",
   "nbconvert_exporter": "python",
   "pygments_lexer": "ipython2",
   "version": "2.7.6"
  }
 },
 "nbformat": 4,
 "nbformat_minor": 5
}
