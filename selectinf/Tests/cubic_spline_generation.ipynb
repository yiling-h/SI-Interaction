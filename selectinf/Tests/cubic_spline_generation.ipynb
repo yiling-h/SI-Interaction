{
 "cells": [
  {
   "cell_type": "code",
   "execution_count": 1,
   "metadata": {
    "collapsed": true,
    "ExecuteTime": {
     "end_time": "2023-11-07T00:54:21.131775Z",
     "start_time": "2023-11-07T00:54:19.945958Z"
    }
   },
   "outputs": [
    {
     "name": "stderr",
     "output_type": "stream",
     "text": [
      "/Users/yilingh/Desktop/PhD/SI_Codes/SI-Interaction/env3/lib/python3.9/site-packages/regreg/atoms/slope.py:16: UserWarning: unable to import isotonic regression from sklearn, using a pure python implementation\n",
      "  warn('unable to import isotonic regression from sklearn, using a pure python implementation')\n"
     ]
    }
   ],
   "source": [
    "import numpy as np\n",
    "from scipy.interpolate import CubicSpline\n",
    "import matplotlib.pyplot as plt\n",
    "from selectinf.Simulation.spline import cubic_spline\n",
    "from selectinf.Simulation.spline_instance import generate_gaussian_instance\n",
    "from selectinf.group_lasso_query import (group_lasso,\n",
    "                                         split_group_lasso)\n",
    "from selectinf.Simulation.instance import gaussian_group_instance\n",
    "\n",
    "from selectinf.Simulation.test_group_lasso_simulation import (calculate_F1_score,\n",
    "                                                              naive_inference,\n",
    "                                                              randomization_inference,\n",
    "                                                              data_splitting)"
   ]
  },
  {
   "cell_type": "code",
   "execution_count": 2,
   "outputs": [],
   "source": [
    "import regreg.api as rr\n",
    "from selectinf.base import restricted_estimator\n",
    "import scipy.stats"
   ],
   "metadata": {
    "collapsed": false,
    "ExecuteTime": {
     "end_time": "2023-11-07T00:54:22.052748Z",
     "start_time": "2023-11-07T00:54:22.045562Z"
    }
   }
  },
  {
   "cell_type": "code",
   "execution_count": 3,
   "outputs": [],
   "source": [
    "X = np.random.normal(size=(2000,10), scale = 5)\n",
    "cs = cubic_spline(data_nl=X[:,0:10], nknots=5)"
   ],
   "metadata": {
    "collapsed": false,
    "ExecuteTime": {
     "end_time": "2023-11-07T00:54:22.493246Z",
     "start_time": "2023-11-07T00:54:22.487296Z"
    }
   }
  },
  {
   "cell_type": "code",
   "execution_count": 4,
   "outputs": [
    {
     "name": "stdout",
     "output_type": "stream",
     "text": [
      "Equally spaced quantile knots used.\n"
     ]
    }
   ],
   "source": [
    "cs.construct_splines(equally_spaced=False,use_quantiles=True)"
   ],
   "metadata": {
    "collapsed": false,
    "ExecuteTime": {
     "end_time": "2023-11-07T00:54:23.070717Z",
     "start_time": "2023-11-07T00:54:23.058284Z"
    }
   }
  },
  {
   "cell_type": "code",
   "execution_count": 5,
   "outputs": [
    {
     "data": {
      "text/plain": "80"
     },
     "execution_count": 5,
     "metadata": {},
     "output_type": "execute_result"
    }
   ],
   "source": [
    "cs.get_spline_data().shape[1]"
   ],
   "metadata": {
    "collapsed": false,
    "ExecuteTime": {
     "end_time": "2023-11-07T00:54:23.543368Z",
     "start_time": "2023-11-07T00:54:23.538241Z"
    }
   }
  },
  {
   "cell_type": "code",
   "execution_count": 6,
   "outputs": [
    {
     "data": {
      "text/plain": "array([0, 0, 0, 0, 0, 0, 0, 0, 1, 1, 1, 1, 1, 1, 1, 1, 2, 2, 2, 2, 2, 2,\n       2, 2, 3, 3, 3, 3, 3, 3, 3, 3, 4, 4, 4, 4, 4, 4, 4, 4, 5, 5, 5, 5,\n       5, 5, 5, 5, 6, 6, 6, 6, 6, 6, 6, 6, 7, 7, 7, 7, 7, 7, 7, 7, 8, 8,\n       8, 8, 8, 8, 8, 8, 9, 9, 9, 9, 9, 9, 9, 9])"
     },
     "execution_count": 6,
     "metadata": {},
     "output_type": "execute_result"
    }
   ],
   "source": [
    "cs.get_groups()"
   ],
   "metadata": {
    "collapsed": false,
    "ExecuteTime": {
     "end_time": "2023-11-07T00:54:24.110551Z",
     "start_time": "2023-11-07T00:54:24.105162Z"
    }
   }
  },
  {
   "cell_type": "code",
   "execution_count": 7,
   "outputs": [
    {
     "name": "stdout",
     "output_type": "stream",
     "text": [
      "Equally spaced quantile knots used.\n",
      "0.978518445690427\n"
     ]
    }
   ],
   "source": [
    "signal_fac = 0.05\n",
    "\n",
    "const, const_split = group_lasso.gaussian, split_group_lasso.gaussian\n",
    "\n",
    "X, Y, beta, groups = generate_gaussian_instance(intercept=False,\n",
    "                                        linear_mean=0,\n",
    "                                        linear_sd=1,\n",
    "                                        nonlinear_mean=0,\n",
    "                                        nonlinear_sd=1,\n",
    "                                        n=2000, p_nl=20, p_l=0, order=3,\n",
    "                                        s_nl = 5, s_l = 0, nknots=3,\n",
    "                                        signal_fac=0.1, random_signs=True,\n",
    "                                        center=True, scale=True)"
   ],
   "metadata": {
    "collapsed": false,
    "ExecuteTime": {
     "end_time": "2023-11-07T00:54:24.738939Z",
     "start_time": "2023-11-07T00:54:24.720309Z"
    }
   }
  },
  {
   "cell_type": "code",
   "execution_count": 8,
   "outputs": [
    {
     "data": {
      "text/plain": "<matplotlib.collections.PathCollection at 0x7fabe9223d00>"
     },
     "execution_count": 8,
     "metadata": {},
     "output_type": "execute_result"
    },
    {
     "data": {
      "text/plain": "<Figure size 640x480 with 1 Axes>",
      "image/png": "[encoded data removed]"
     },
     "metadata": {},
     "output_type": "display_data"
    }
   ],
   "source": [
    "plt.scatter(X[:,0],X[:,3])"
   ],
   "metadata": {
    "collapsed": false,
    "ExecuteTime": {
     "end_time": "2023-11-07T00:54:25.548712Z",
     "start_time": "2023-11-07T00:54:25.371331Z"
    }
   }
  },
  {
   "cell_type": "code",
   "execution_count": 9,
   "outputs": [
    {
     "data": {
      "text/plain": "<matplotlib.collections.PathCollection at 0x7fabe92469d0>"
     },
     "execution_count": 9,
     "metadata": {},
     "output_type": "execute_result"
    },
    {
     "data": {
      "text/plain": "<Figure size 640x480 with 1 Axes>",
      "image/png": "[encoded data removed]"
     },
     "metadata": {},
     "output_type": "display_data"
    }
   ],
   "source": [
    "plt.scatter(X[:,0],X[:,3])"
   ],
   "metadata": {
    "collapsed": false,
    "ExecuteTime": {
     "end_time": "2023-11-07T00:54:26.237834Z",
     "start_time": "2023-11-07T00:54:26.146931Z"
    }
   }
  },
  {
   "cell_type": "code",
   "execution_count": 10,
   "outputs": [
    {
     "data": {
      "text/plain": "array([0.02236068, 0.02236068, 0.02236068, 0.02236068, 0.02236068,\n       0.02236068, 0.02236068, 0.02236068, 0.02236068, 0.02236068,\n       0.02236068, 0.02236068, 0.02236068, 0.02236068, 0.02236068,\n       0.02236068, 0.02236068, 0.02236068, 0.02236068, 0.02236068,\n       0.02236068, 0.02236068, 0.02236068, 0.02236068, 0.02236068,\n       0.02236068, 0.02236068, 0.02236068, 0.02236068, 0.02236068,\n       0.02236068, 0.02236068, 0.02236068, 0.02236068, 0.02236068,\n       0.02236068, 0.02236068, 0.02236068, 0.02236068, 0.02236068,\n       0.02236068, 0.02236068, 0.02236068, 0.02236068, 0.02236068,\n       0.02236068, 0.02236068, 0.02236068, 0.02236068, 0.02236068,\n       0.02236068, 0.02236068, 0.02236068, 0.02236068, 0.02236068,\n       0.02236068, 0.02236068, 0.02236068, 0.02236068, 0.02236068,\n       0.02236068, 0.02236068, 0.02236068, 0.02236068, 0.02236068,\n       0.02236068, 0.02236068, 0.02236068, 0.02236068, 0.02236068,\n       0.02236068, 0.02236068, 0.02236068, 0.02236068, 0.02236068,\n       0.02236068, 0.02236068, 0.02236068, 0.02236068, 0.02236068,\n       0.02236068, 0.02236068, 0.02236068, 0.02236068, 0.02236068,\n       0.02236068, 0.02236068, 0.02236068, 0.02236068, 0.02236068,\n       0.02236068, 0.02236068, 0.02236068, 0.02236068, 0.02236068,\n       0.02236068, 0.02236068, 0.02236068, 0.02236068, 0.02236068,\n       0.02236068, 0.02236068, 0.02236068, 0.02236068, 0.02236068,\n       0.02236068, 0.02236068, 0.02236068, 0.02236068, 0.02236068,\n       0.02236068, 0.02236068, 0.02236068, 0.02236068, 0.02236068,\n       0.02236068, 0.02236068, 0.02236068, 0.02236068, 0.02236068])"
     },
     "execution_count": 10,
     "metadata": {},
     "output_type": "execute_result"
    }
   ],
   "source": [
    "np.std(X,axis=0)"
   ],
   "metadata": {
    "collapsed": false,
    "ExecuteTime": {
     "end_time": "2023-11-07T00:54:26.714453Z",
     "start_time": "2023-11-07T00:54:26.709892Z"
    }
   }
  },
  {
   "cell_type": "code",
   "execution_count": 11,
   "outputs": [
    {
     "name": "stdout",
     "output_type": "stream",
     "text": [
      "[5.39114922e+02 4.22369534e+02 1.01561326e+02 2.13452673e+03\n",
      " 2.16330621e+02 1.30332975e+01 2.49451685e+03 2.28805453e+03\n",
      " 6.78759549e+02 8.79572659e+03 2.55468219e+02 1.16735970e+01\n",
      " 4.77485427e+03 4.38385103e+03 1.43794142e+03 1.86493699e+04\n",
      " 3.55685192e+02 1.25077015e+01 3.04407082e+03 2.91048934e+03\n",
      " 9.54202791e+02 1.26185846e+04 3.16096931e+02 1.51966291e+01\n",
      " 2.88235911e+03 2.73616379e+03 8.86029372e+02 1.10436844e+04\n",
      " 3.04786545e+02 1.27096833e+01 3.40268393e+03 3.22619968e+03\n",
      " 1.14019678e+03 1.36223319e+04 3.48085715e+02 1.81656442e+01\n",
      " 2.20237744e+03 1.94461868e+03 5.61035606e+02 7.46784698e+03\n",
      " 2.11155227e+02 9.97561592e+00 9.26797703e+02 7.13060707e+02\n",
      " 1.84593810e+02 3.38012893e+03 2.43127246e+02 1.32896560e+01\n",
      " 2.59285469e+03 2.55219709e+03 8.10002822e+02 1.02338086e+04\n",
      " 2.54624805e+02 1.04357750e+01 1.59646853e+03 1.41247800e+03\n",
      " 4.00634562e+02 5.99909421e+03 2.38994546e+02 1.24936399e+01\n",
      " 2.64702522e+03 2.80077609e+03 1.01229242e+03 1.27869043e+04\n",
      " 3.27039746e+02 1.39234447e+01 1.00931285e+03 8.68731034e+02\n",
      " 2.46727617e+02 4.19171147e+03 2.64025467e+02 1.17972828e+01\n",
      " 2.80400006e+03 2.73925987e+03 8.68760579e+02 1.17294472e+04\n",
      " 2.75139424e+02 9.75448224e+00 1.10402941e+03 8.86643794e+02\n",
      " 2.31172168e+02 3.67117220e+03 2.25304017e+02 1.20647659e+01\n",
      " 1.55213786e+03 1.48274379e+03 4.47080353e+02 5.95524410e+03\n",
      " 2.19578186e+02 1.19350221e+01 7.43295528e+02 5.93832585e+02\n",
      " 1.56519134e+02 2.62893724e+03 1.77763311e+02 8.76519262e+00\n",
      " 3.74609752e+03 3.39142755e+03 1.01126428e+03 1.37149934e+04\n",
      " 3.50113786e+02 1.84340477e+01 3.66211976e+03 3.38049033e+03\n",
      " 1.05999052e+03 1.42219910e+04 2.85623949e+02 1.22688613e+01\n",
      " 9.59977822e+02 7.05747863e+02 1.86249627e+02 3.11900231e+03\n",
      " 1.48151999e+02 8.06855068e+00 1.50648098e+03 1.42512426e+03\n",
      " 4.35992415e+02 6.65372129e+03 3.21210688e+02 1.48056478e+01]\n"
     ]
    }
   ],
   "source": [
    "print(np.diag(np.linalg.inv(X.T @ X)))"
   ],
   "metadata": {
    "collapsed": false,
    "ExecuteTime": {
     "end_time": "2023-11-07T00:54:27.400546Z",
     "start_time": "2023-11-07T00:54:27.335782Z"
    }
   }
  },
  {
   "cell_type": "code",
   "execution_count": 12,
   "outputs": [
    {
     "data": {
      "text/plain": "array([[ 1.        , -0.01323684,  0.71653221, ...,  0.04078277,\n         0.03114283,  0.00922678],\n       [-0.01323684,  1.        , -0.11512837, ..., -0.03485871,\n        -0.02130137, -0.00417527],\n       [ 0.71653221, -0.11512837,  1.        , ...,  0.02068372,\n         0.01151945, -0.00198347],\n       ...,\n       [ 0.04078277, -0.03485871,  0.02068372, ...,  1.        ,\n         0.93283462,  0.6582883 ],\n       [ 0.03114283, -0.02130137,  0.01151945, ...,  0.93283462,\n         1.        ,  0.85359329],\n       [ 0.00922678, -0.00417527, -0.00198347, ...,  0.6582883 ,\n         0.85359329,  1.        ]])"
     },
     "execution_count": 12,
     "metadata": {},
     "output_type": "execute_result"
    }
   ],
   "source": [
    "X.T @ X"
   ],
   "metadata": {
    "collapsed": false,
    "ExecuteTime": {
     "end_time": "2023-11-07T00:54:27.860208Z",
     "start_time": "2023-11-07T00:54:27.851908Z"
    }
   }
  },
  {
   "cell_type": "code",
   "execution_count": 13,
   "outputs": [
    {
     "name": "stdout",
     "output_type": "stream",
     "text": [
      "[[ 0.19352863 -0.6458494   0.0059347  ...  1.63429073  1.03349699\n",
      "  -0.05058393]\n",
      " [-0.5112226  -0.49591831 -0.02535344 ...  0.08950962 -0.19466747\n",
      "  -0.09955901]\n",
      " [-0.6286577  -0.40614053 -0.05087475 ... -0.27080642 -0.28254751\n",
      "  -0.09955901]\n",
      " ...\n",
      " [-0.04671383 -0.66962738  0.00429144 ... -0.38768677 -0.28578081\n",
      "  -0.09955901]\n",
      " [-0.56242671 -0.45904916 -0.0351976  ...  0.68234335  0.1552915\n",
      "  -0.09955901]\n",
      " [-2.40584107  3.21204717 -3.09254388 ... -0.43526626 -0.28578081\n",
      "  -0.09955901]]\n"
     ]
    }
   ],
   "source": [
    "print(X*np.sqrt(2000))"
   ],
   "metadata": {
    "collapsed": false,
    "ExecuteTime": {
     "end_time": "2023-11-07T00:54:28.548536Z",
     "start_time": "2023-11-07T00:54:28.542938Z"
    }
   }
  },
  {
   "cell_type": "code",
   "execution_count": 18,
   "outputs": [
    {
     "name": "stdout",
     "output_type": "stream",
     "text": [
      "MLE |E|: 30\n",
      "Naive selection [5, 6, 10, 15]\n",
      "Naive |E|: 24\n",
      "MLE\n",
      "coverage rate: 0.3333333333333333\n",
      "avg length 117.97142325929958\n",
      "F1 score 0.4000000000000001\n",
      "Data splitting\n",
      "coverage rate: 0.875\n",
      "avg length 264.43444632849247\n",
      "F1 score 0.4444444444444445\n",
      "Naive inference\n",
      "coverage rate: 0.9166666666666666\n",
      "avg length 121.43686865048944\n",
      "F1 score 0.4444444444444445\n"
     ]
    }
   ],
   "source": [
    "n, p = X.shape\n",
    "noselection = False  # flag for a certain method having an empty selected set\n",
    "\n",
    "if not noselection:\n",
    "    # MLE inference\n",
    "    coverage, length, beta_target, nonzero, conf_low, conf_up = \\\n",
    "        randomization_inference(X=X, Y=Y, n=n, p=p, randomizer_scale=1., ridge_term=5.,\n",
    "                                     beta=beta, groups=groups, weight_frac=1.5)\n",
    "    # print(MLE_runtime)\n",
    "    noselection = (coverage is None)\n",
    "\n",
    "if not noselection:\n",
    "    # data splitting\n",
    "    coverage_ds, lengths_ds, conf_low_ds, conf_up_ds, nonzero_ds, beta_target_ds = \\\n",
    "        data_splitting(X=X, Y=Y, n=n, p=p, beta=beta, groups=groups,\n",
    "                       proportion=0.67, level=0.9, weight_frac=1.5)\n",
    "    noselection = (coverage_ds is None)\n",
    "\n",
    "if not noselection:\n",
    "    # naive inference\n",
    "    coverage_naive, lengths_naive, nonzero_naive, conf_low_naive, conf_up_naive, \\\n",
    "    beta_target_naive = \\\n",
    "        naive_inference(X=X, Y=Y, groups=groups,\n",
    "                        beta=beta, const=const,\n",
    "                        n=n, level=0.9, weight_frac=1.5)\n",
    "    noselection = (coverage_naive is None)\n",
    "\n",
    "\n",
    "if not noselection:\n",
    "    # F1 scores\n",
    "    # F1_s = calculate_F1_score(beta, selection=nonzero_s)\n",
    "    F1 = calculate_F1_score(beta, selection=nonzero)\n",
    "    F1_ds = calculate_F1_score(beta, selection=nonzero_ds)\n",
    "    F1_naive = calculate_F1_score(beta, selection=nonzero_naive)\n",
    "\n",
    "# MLE coverage\n",
    "print(\"MLE\")\n",
    "print(\"coverage rate:\", np.mean(coverage))\n",
    "print(\"avg length\", np.mean(length))\n",
    "print(\"F1 score\", np.mean(F1))\n",
    "\n",
    "# Data splitting coverage\n",
    "print(\"Data splitting\")\n",
    "print(\"coverage rate:\", np.mean(coverage_ds))\n",
    "print(\"avg length\", np.mean(lengths_ds))\n",
    "print(\"F1 score\", np.mean(F1_ds))\n",
    "\n",
    "# Naive coverage\n",
    "print(\"Naive inference\")\n",
    "print(\"coverage rate:\", np.mean(coverage_naive))\n",
    "print(\"avg length\", np.mean(lengths_naive))\n",
    "print(\"F1 score\", np.mean(F1_naive))"
   ],
   "metadata": {
    "collapsed": false,
    "ExecuteTime": {
     "end_time": "2023-11-07T00:55:32.533089Z",
     "start_time": "2023-11-07T00:55:29.666Z"
    }
   }
  },
  {
   "cell_type": "code",
   "execution_count": 15,
   "outputs": [
    {
     "data": {
      "text/plain": "array([[ 1.        , -0.01323684,  0.71653221, ...,  0.04078277,\n         0.03114283,  0.00922678],\n       [-0.01323684,  1.        , -0.11512837, ..., -0.03485871,\n        -0.02130137, -0.00417527],\n       [ 0.71653221, -0.11512837,  1.        , ...,  0.02068372,\n         0.01151945, -0.00198347],\n       ...,\n       [ 0.04078277, -0.03485871,  0.02068372, ...,  1.        ,\n         0.93283462,  0.6582883 ],\n       [ 0.03114283, -0.02130137,  0.01151945, ...,  0.93283462,\n         1.        ,  0.85359329],\n       [ 0.00922678, -0.00417527, -0.00198347, ...,  0.6582883 ,\n         0.85359329,  1.        ]])"
     },
     "execution_count": 15,
     "metadata": {},
     "output_type": "execute_result"
    }
   ],
   "source": [
    "X.T @ X"
   ],
   "metadata": {
    "collapsed": false,
    "ExecuteTime": {
     "end_time": "2023-11-07T00:54:32.076997Z",
     "start_time": "2023-11-07T00:54:32.071604Z"
    }
   }
  },
  {
   "cell_type": "code",
   "execution_count": 33,
   "outputs": [
    {
     "data": {
      "text/plain": "array([[ 1.00000000e+00,  4.33940338e-02,  8.91104850e-01,\n         7.41762073e-01,  3.53778104e-01,  2.03803202e-02,\n        -3.98369337e-02,  3.28582901e-03,  3.49265360e-03,\n         2.53357840e-02,  1.08610375e-02, -1.08502630e-02,\n         4.78480315e-03,  1.49791395e-03,  1.40101333e-02,\n         4.18723126e-03,  2.31463513e-02,  1.23959933e-02,\n         1.15168797e-02,  7.00484009e-03],\n       [ 4.33940338e-02,  1.00000000e+00,  4.81129039e-01,\n         6.14452159e-01,  4.29782770e-01,  5.66926089e-03,\n         2.56178150e-03,  5.46968413e-03,  6.14284475e-03,\n         2.61650439e-02, -1.44202038e-02, -3.27991014e-02,\n        -2.76983233e-02, -2.83126022e-02, -2.46039722e-02,\n         4.43088821e-02, -3.64318650e-02,  2.76840186e-02,\n         2.41871161e-02,  2.31887772e-02],\n       [ 8.91104850e-01,  4.81129039e-01,  1.00000000e+00,\n         9.50582429e-01,  5.42861704e-01,  2.11117436e-02,\n        -3.56334208e-02,  4.91971564e-03,  4.43756529e-03,\n         3.39125207e-02,  2.83856770e-03, -2.24032886e-02,\n        -7.77621527e-03, -1.10100417e-02,  4.87603538e-04,\n         1.85841517e-02,  5.81990526e-03,  1.96177856e-02,\n         1.87038400e-02,  1.64361172e-02],\n       [ 7.41762073e-01,  6.14452159e-01,  9.50582429e-01,\n         1.00000000e+00,  6.81496951e-01,  2.11219120e-02,\n        -3.24962825e-02,  5.37144094e-03,  3.11657692e-03,\n         3.64257178e-02,  2.03348536e-03, -2.05462510e-02,\n        -8.03622036e-03, -1.13742138e-02, -6.02076861e-03,\n         1.30569415e-02,  3.18898023e-03,  1.40483912e-02,\n         1.57416783e-02,  1.89078366e-02],\n       [ 3.53778104e-01,  4.29782770e-01,  5.42861704e-01,\n         6.81496951e-01,  1.00000000e+00,  2.26600429e-02,\n        -9.50436017e-03,  1.61270169e-02,  1.44440032e-02,\n         4.20137139e-02,  2.39227178e-02, -7.07663483e-04,\n         1.88329407e-02,  1.13582907e-02,  5.09036254e-03,\n        -2.88678565e-03, -1.01024162e-02, -6.88049827e-03,\n        -5.71235108e-03,  1.00383949e-02],\n       [ 2.03803202e-02,  5.66926089e-03,  2.11117436e-02,\n         2.11219120e-02,  2.26600429e-02,  1.00000000e+00,\n        -2.28694829e-03,  8.90903153e-01,  7.29777984e-01,\n         3.76924108e-01, -1.64528707e-02, -2.44412230e-02,\n        -2.60881093e-02, -2.87504012e-02, -1.01980354e-02,\n        -3.52836845e-03,  3.34323497e-02,  1.32778919e-02,\n         2.53460077e-02,  2.16784584e-02],\n       [-3.98369337e-02,  2.56178150e-03, -3.56334208e-02,\n        -3.24962825e-02, -9.50436017e-03, -2.28694829e-03,\n         1.00000000e+00,  4.42454391e-01,  5.93161488e-01,\n         4.40330150e-01, -2.58197712e-02,  2.83874456e-02,\n        -9.01177833e-03,  4.70063972e-03, -9.50622010e-03,\n         4.82158991e-02,  1.30482190e-02,  4.69432505e-02,\n         3.24539768e-02, -9.55000149e-03],\n       [ 3.28582901e-03,  5.46968413e-03,  4.91971564e-03,\n         5.37144094e-03,  1.61270169e-02,  8.90903153e-01,\n         4.42454391e-01,  1.00000000e+00,  9.44542894e-01,\n         5.73796544e-01, -3.09506222e-02, -8.16797196e-03,\n        -3.13579923e-02, -2.73337720e-02, -1.63393460e-02,\n         2.20363415e-02,  3.49941450e-02,  3.57786402e-02,\n         3.93618390e-02,  1.63909546e-02],\n       [ 3.49265360e-03,  6.14284475e-03,  4.43756529e-03,\n         3.11657692e-03,  1.44440032e-02,  7.29777984e-01,\n         5.93161488e-01,  9.44542894e-01,  1.00000000e+00,\n         7.21175078e-01, -4.46185207e-02, -9.61998789e-04,\n        -4.01756226e-02, -3.23021880e-02, -2.34436850e-02,\n         4.03328061e-02,  3.31012151e-02,  5.05921091e-02,\n         4.79702380e-02,  1.36953678e-02],\n       [ 2.53357840e-02,  2.61650439e-02,  3.39125207e-02,\n         3.64257178e-02,  4.20137139e-02,  3.76924108e-01,\n         4.40330150e-01,  5.73796544e-01,  7.21175078e-01,\n         1.00000000e+00, -3.63473504e-02, -1.08848872e-02,\n        -3.41082292e-02, -2.42411343e-02, -1.28768161e-02,\n         5.98047682e-02,  2.63605881e-02,  6.50538117e-02,\n         5.67444551e-02,  1.54536917e-02],\n       [ 1.08610375e-02, -1.44202038e-02,  2.83856770e-03,\n         2.03348536e-03,  2.39227178e-02, -1.64528707e-02,\n        -2.58197712e-02, -3.09506222e-02, -4.46185207e-02,\n        -3.63473504e-02,  1.00000000e+00, -2.27594928e-02,\n         8.95891806e-01,  7.42549232e-01,  3.38033560e-01,\n        -8.45026019e-03, -1.58695248e-02, -1.48703734e-02,\n        -1.22470084e-02, -2.72162485e-03],\n       [-1.08502630e-02, -3.27991014e-02, -2.24032886e-02,\n        -2.05462510e-02, -7.07663483e-04, -2.44412230e-02,\n         2.83874456e-02, -8.16797196e-03, -9.61998789e-04,\n        -1.08848872e-02, -2.27594928e-02,  1.00000000e+00,\n         4.14753119e-01,  5.69645208e-01,  3.87724593e-01,\n        -1.34561773e-02,  2.38538788e-02,  5.40762763e-04,\n         8.15048895e-03,  4.99808061e-03],\n       [ 4.78480315e-03, -2.76983233e-02, -7.77621527e-03,\n        -8.03622036e-03,  1.88329407e-02, -2.60881093e-02,\n        -9.01177833e-03, -3.13579923e-02, -4.01756226e-02,\n        -3.41082292e-02,  8.95891806e-01,  4.14753119e-01,\n         1.00000000e+00,  9.48188484e-01,  5.11947866e-01,\n        -1.44844545e-02, -1.01467489e-03, -1.29181211e-02,\n        -7.01919472e-03, -1.26127839e-03],\n       [ 1.49791395e-03, -2.83126022e-02, -1.10100417e-02,\n        -1.13742138e-02,  1.13582907e-02, -2.87504012e-02,\n         4.70063972e-03, -2.73337720e-02, -3.23021880e-02,\n        -2.42411343e-02,  7.42549232e-01,  5.69645208e-01,\n         9.48188484e-01,  1.00000000e+00,  6.45063293e-01,\n        -1.61801713e-02,  1.25540320e-02, -8.47971646e-03,\n        -2.27762176e-03, -4.59275020e-03],\n       [ 1.40101333e-02, -2.46039722e-02,  4.87603538e-04,\n        -6.02076861e-03,  5.09036254e-03, -1.01980354e-02,\n        -9.50622010e-03, -1.63393460e-02, -2.34436850e-02,\n        -1.28768161e-02,  3.38033560e-01,  3.87724593e-01,\n         5.11947866e-01,  6.45063293e-01,  1.00000000e+00,\n        -1.82366397e-02,  1.39418618e-02, -1.06456332e-02,\n        -1.10062439e-02, -3.44826427e-02],\n       [ 4.18723126e-03,  4.43088821e-02,  1.85841517e-02,\n         1.30569415e-02, -2.88678565e-03, -3.52836845e-03,\n         4.82158991e-02,  2.20363415e-02,  4.03328061e-02,\n         5.98047682e-02, -8.45026019e-03, -1.34561773e-02,\n        -1.44844545e-02, -1.61801713e-02, -1.82366397e-02,\n         1.00000000e+00, -4.03875727e-02,  8.95462767e-01,\n         7.45686630e-01,  3.49269740e-01],\n       [ 2.31463513e-02, -3.64318650e-02,  5.81990526e-03,\n         3.18898023e-03, -1.01024162e-02,  3.34323497e-02,\n         1.30482190e-02,  3.49941450e-02,  3.31012151e-02,\n         2.63605881e-02, -1.58695248e-02,  2.38538788e-02,\n        -1.01467489e-03,  1.25540320e-02,  1.39418618e-02,\n        -4.03875727e-02,  1.00000000e+00,  3.99349330e-01,\n         5.52970302e-01,  4.02528535e-01],\n       [ 1.23959933e-02,  2.76840186e-02,  1.96177856e-02,\n         1.40483912e-02, -6.88049827e-03,  1.32778919e-02,\n         4.69432505e-02,  3.57786402e-02,  5.05921091e-02,\n         6.50538117e-02, -1.48703734e-02,  5.40762763e-04,\n        -1.29181211e-02, -8.47971646e-03, -1.06456332e-02,\n         8.95462767e-01,  3.99349330e-01,  1.00000000e+00,\n         9.49992739e-01,  5.35591992e-01],\n       [ 1.15168797e-02,  2.41871161e-02,  1.87038400e-02,\n         1.57416783e-02, -5.71235108e-03,  2.53460077e-02,\n         3.24539768e-02,  3.93618390e-02,  4.79702380e-02,\n         5.67444551e-02, -1.22470084e-02,  8.15048895e-03,\n        -7.01919472e-03, -2.27762176e-03, -1.10062439e-02,\n         7.45686630e-01,  5.52970302e-01,  9.49992739e-01,\n         1.00000000e+00,  6.79398091e-01],\n       [ 7.00484009e-03,  2.31887772e-02,  1.64361172e-02,\n         1.89078366e-02,  1.00383949e-02,  2.16784584e-02,\n        -9.55000149e-03,  1.63909546e-02,  1.36953678e-02,\n         1.54536917e-02, -2.72162485e-03,  4.99808061e-03,\n        -1.26127839e-03, -4.59275020e-03, -3.44826427e-02,\n         3.49269740e-01,  4.02528535e-01,  5.35591992e-01,\n         6.79398091e-01,  1.00000000e+00]])"
     },
     "execution_count": 33,
     "metadata": {},
     "output_type": "execute_result"
    }
   ],
   "source": [
    "X[:,nonzero].T @ X[:,nonzero]"
   ],
   "metadata": {
    "collapsed": false
   }
  },
  {
   "cell_type": "code",
   "execution_count": 32,
   "outputs": [
    {
     "name": "stdout",
     "output_type": "stream",
     "text": [
      "5.0128292155236105\n",
      "Naive selection [5]\n",
      "Naive |E|: 13\n",
      "[  749.17237796   604.36270132   288.12176209  5074.40533159\n",
      " 12866.12709655 18008.01264392 18317.85927483 18192.01757064\n",
      " 14343.33380224  8690.39446079  4406.02739022  1271.23404503\n",
      "   190.3425974 ]\n"
     ]
    }
   ],
   "source": [
    "\n",
    "weight_frac = 2.\n",
    "level = 0.9\n",
    "n, p = X.shape\n",
    "\n",
    "##estimate noise level in data\n",
    "\n",
    "sigma_ = np.std(Y)\n",
    "if n > p:\n",
    "    dispersion = np.linalg.norm(Y - X.dot(np.linalg.pinv(X).dot(Y))) ** 2 / (n - p)\n",
    "else:\n",
    "    dispersion = sigma_ ** 2\n",
    "\n",
    "sigma_ = np.sqrt(dispersion)\n",
    "\n",
    "print(sigma_)\n",
    "\n",
    "##solve group LASSO with group penalty weights = weights\n",
    "weights = dict([(i, weight_frac * sigma_ * np.sqrt(2 * np.log(p))) for i in np.unique(groups)])\n",
    "\n",
    "conv = const(X=X,\n",
    "             Y=Y,\n",
    "             groups=groups,\n",
    "             weights=weights,\n",
    "             useJacobian=False,\n",
    "             perturb=np.zeros(p),\n",
    "             ridge_term=0.)\n",
    "\n",
    "signs, _ = conv.fit()\n",
    "nonzero = signs != 0\n",
    "\n",
    "print('Naive selection', conv._ordered_groups)\n",
    "\n",
    "if nonzero.sum() > 0:\n",
    "    # E: nonzero flag\n",
    "    X_E = X[:, nonzero]\n",
    "    E_size = nonzero.sum()\n",
    "\n",
    "    print(\"Naive |E|:\", E_size)\n",
    "\n",
    "    loglike = rr.glm.gaussian(X, Y)\n",
    "    # For LASSO, this is the OLS solution on X_{E,U}\n",
    "    beta_MLE = restricted_estimator(loglike, nonzero)\n",
    "\n",
    "    def solve_target_restricted():\n",
    "        Y_mean = X.dot(beta)\n",
    "        loglike = rr.glm.gaussian(X, Y_mean)\n",
    "        # For LASSO, this is the OLS solution on X_{E,U}\n",
    "        _beta_unpenalized = restricted_estimator(loglike,\n",
    "                                                 nonzero)\n",
    "        return _beta_unpenalized\n",
    "\n",
    "    target = solve_target_restricted()\n",
    "\n",
    "    f_info = X_E.T @ X_E\n",
    "    cov = np.linalg.inv(f_info) * dispersion\n",
    "\n",
    "    # Standard errors\n",
    "    sd = np.sqrt(np.diag(cov))\n",
    "    print(sd)\n",
    "\n",
    "    # Normal quantiles\n",
    "    qt_low = scipy.stats.t.ppf((1 - level) / 2, df=n-E_size)\n",
    "    qt_up = scipy.stats.t.ppf(1 - (1 - level) / 2, df=n-E_size)\n",
    "    assert np.abs(np.abs(qt_low) - np.abs(qt_up)) < 10e-6\n",
    "\n",
    "    # Construct confidence intervals\n",
    "    intervals_low = beta_MLE + qt_low * sd\n",
    "    intervals_up = beta_MLE + qt_up * sd\n",
    "\n",
    "    coverage = (target > intervals_low) * (target < intervals_up)"
   ],
   "metadata": {
    "collapsed": false
   }
  },
  {
   "cell_type": "code",
   "execution_count": 15,
   "outputs": [
    {
     "name": "stdout",
     "output_type": "stream",
     "text": [
      "[-1139.27191204  -779.92648741  -327.21323392  5300.32279707\n",
      " -4155.06142288  -653.24715816  1733.5560578   -911.67285305\n",
      "  -143.87597439  1209.87858306  -961.40669929   268.91733375\n",
      "   -23.05655648  -386.40875534  -363.57792     -168.44190529\n",
      "  2035.36396596 -1735.97840146   693.90166728 -1466.13986153\n",
      "  1237.43240657    -6.06979743   354.43161266  -543.17392244\n",
      "   -45.63582363   111.00617207  -102.04083136    31.45994688\n",
      "    28.49357323  2421.59458704 -4418.58994186  -447.08452205\n",
      "  3605.68415448   599.26901169 -2462.26682805   605.7886778\n",
      "   272.28298418  -149.24457232    17.95368973    84.2820362\n",
      "    48.04336929     7.32450024  -675.19628155   441.2445298\n",
      "  1103.05976479  -418.25278765 -1944.03197584  1487.00028186\n",
      "   358.84873932  -790.58595579   379.80355113   -56.164908  ]\n"
     ]
    }
   ],
   "source": [
    "print(beta_MLE)"
   ],
   "metadata": {
    "collapsed": false
   }
  },
  {
   "cell_type": "code",
   "execution_count": 17,
   "outputs": [
    {
     "name": "stdout",
     "output_type": "stream",
     "text": [
      "[-0.02443765  0.07022621  1.13795477 ... -0.17703128 -0.02155262\n",
      "  0.03299237]\n"
     ]
    }
   ],
   "source": [
    "print(X@beta)"
   ],
   "metadata": {
    "collapsed": false
   }
  },
  {
   "cell_type": "code",
   "execution_count": 20,
   "outputs": [
    {
     "name": "stdout",
     "output_type": "stream",
     "text": [
      "[-0.02443765  0.07022621  1.13795477 ... -0.17703128 -0.02155262\n",
      "  0.03299237]\n"
     ]
    }
   ],
   "source": [
    "print(X[:,nonzero]@beta[nonzero])"
   ],
   "metadata": {
    "collapsed": false
   }
  },
  {
   "cell_type": "code",
   "execution_count": 22,
   "outputs": [
    {
     "name": "stdout",
     "output_type": "stream",
     "text": [
      "[ 0.72872748 -0.03716202  1.11792035 ... -0.16123383 -0.27843885\n",
      " -0.2409979 ]\n"
     ]
    }
   ],
   "source": [
    "print(X[:,nonzero]@beta_MLE)"
   ],
   "metadata": {
    "collapsed": false
   }
  },
  {
   "cell_type": "code",
   "execution_count": 10,
   "outputs": [
    {
     "data": {
      "text/plain": "array([ 2.46262128,  2.4071523 , -2.11568503,  1.55788537,  0.98150824,\n        0.96637524,  1.20346981,  1.2972088 ,  0.9056997 ,  0.43588192,\n        0.87538884,  2.45244355, -2.23232163,  1.76554436, -2.53267722,\n       -2.35111432,  0.04063522,  0.47021253,  0.56714312,  0.61888311,\n        1.08468262,  2.08535337,  2.72513043,  1.57200322, -1.83770557,\n        2.12447605,  2.24740038, -2.17504542,  2.22009838,  2.39290004,\n        0.92186693, -0.7961473 , -1.12813373,  0.07121399,  2.168155  ,\n        3.31050741,  1.96653229, -2.40620686,  2.26520778])"
     },
     "execution_count": 10,
     "metadata": {},
     "output_type": "execute_result"
    }
   ],
   "source": [
    "beta_target"
   ],
   "metadata": {
    "collapsed": false
   }
  },
  {
   "cell_type": "code",
   "execution_count": 19,
   "outputs": [],
   "source": [
    "inst  = gaussian_group_instance\n",
    "groups = np.arange(50).repeat(4)\n",
    "X, Y, beta = inst(n=2000,\n",
    "                  p=200,\n",
    "                  signal=signal,\n",
    "                  sgroup=5,\n",
    "                  groups=groups,\n",
    "                  ndiscrete=4,\n",
    "                  nlevels=5,\n",
    "                  sdiscrete=2, # How many discrete rvs are not null\n",
    "                  equicorrelated=False,\n",
    "                  rho=0.3,\n",
    "                  random_signs=True)[:3]"
   ],
   "metadata": {
    "collapsed": false
   }
  },
  {
   "cell_type": "code",
   "execution_count": 20,
   "outputs": [
    {
     "data": {
      "text/plain": "array([0.02236068, 0.02236068, 0.02236068, 0.02236068, 0.02236068,\n       0.02236068, 0.02236068, 0.02236068, 0.02236068, 0.02236068,\n       0.02236068, 0.02236068, 0.02236068, 0.02236068, 0.02236068,\n       0.02236068, 0.02236068, 0.02236068, 0.02236068, 0.02236068,\n       0.02236068, 0.02236068, 0.02236068, 0.02236068, 0.02236068,\n       0.02236068, 0.02236068, 0.02236068, 0.02236068, 0.02236068,\n       0.02236068, 0.02236068, 0.02236068, 0.02236068, 0.02236068,\n       0.02236068, 0.02236068, 0.02236068, 0.02236068, 0.02236068,\n       0.02236068, 0.02236068, 0.02236068, 0.02236068, 0.02236068,\n       0.02236068, 0.02236068, 0.02236068, 0.02236068, 0.02236068,\n       0.02236068, 0.02236068, 0.02236068, 0.02236068, 0.02236068,\n       0.02236068, 0.02236068, 0.02236068, 0.02236068, 0.02236068,\n       0.02236068, 0.02236068, 0.02236068, 0.02236068, 0.02236068,\n       0.02236068, 0.02236068, 0.02236068, 0.02236068, 0.02236068,\n       0.02236068, 0.02236068, 0.02236068, 0.02236068, 0.02236068,\n       0.02236068, 0.02236068, 0.02236068, 0.02236068, 0.02236068,\n       0.02236068, 0.02236068, 0.02236068, 0.02236068, 0.02236068,\n       0.02236068, 0.02236068, 0.02236068, 0.02236068, 0.02236068,\n       0.02236068, 0.02236068, 0.02236068, 0.02236068, 0.02236068,\n       0.02236068, 0.02236068, 0.02236068, 0.02236068, 0.02236068,\n       0.02236068, 0.02236068, 0.02236068, 0.02236068, 0.02236068,\n       0.02236068, 0.02236068, 0.02236068, 0.02236068, 0.02236068,\n       0.02236068, 0.02236068, 0.02236068, 0.02236068, 0.02236068,\n       0.02236068, 0.02236068, 0.02236068, 0.02236068, 0.02236068,\n       0.02236068, 0.02236068, 0.02236068, 0.02236068, 0.02236068,\n       0.02236068, 0.02236068, 0.02236068, 0.02236068, 0.02236068,\n       0.02236068, 0.02236068, 0.02236068, 0.02236068, 0.02236068,\n       0.02236068, 0.02236068, 0.02236068, 0.02236068, 0.02236068,\n       0.02236068, 0.02236068, 0.02236068, 0.02236068, 0.02236068,\n       0.02236068, 0.02236068, 0.02236068, 0.02236068, 0.02236068,\n       0.02236068, 0.02236068, 0.02236068, 0.02236068, 0.02236068,\n       0.02236068, 0.02236068, 0.02236068, 0.02236068, 0.02236068,\n       0.02236068, 0.02236068, 0.02236068, 0.02236068, 0.02236068,\n       0.02236068, 0.02236068, 0.02236068, 0.02236068, 0.02236068,\n       0.02236068, 0.02236068, 0.02236068, 0.02236068, 0.02236068,\n       0.02236068, 0.02236068, 0.02236068, 0.02236068, 0.02236068,\n       0.02236068, 0.02236068, 0.02236068, 0.02236068, 0.02236068,\n       0.02236068, 0.02236068, 0.02236068, 0.02236068, 0.02236068,\n       0.02236068, 0.02236068, 0.02236068, 0.02236068, 0.02236068,\n       0.02236068, 0.02236068, 0.02236068, 0.02236068, 0.02236068])"
     },
     "execution_count": 20,
     "metadata": {},
     "output_type": "execute_result"
    }
   ],
   "source": [
    "np.std(X,axis=0)"
   ],
   "metadata": {
    "collapsed": false
   }
  },
  {
   "cell_type": "code",
   "execution_count": 21,
   "outputs": [
    {
     "name": "stdout",
     "output_type": "stream",
     "text": [
      "[[ 2.55942885  0.          0.         ... -0.83527287 -0.60230535\n",
      "  -0.19847227]\n",
      " [ 0.          2.50470858  0.         ... -0.09999547 -0.33193576\n",
      "  -0.58927548]\n",
      " [ 2.55942885  0.          0.         ...  0.99180226  1.57352323\n",
      "  -0.92911875]\n",
      " ...\n",
      " [ 0.          2.50470858  0.         ... -1.79244499 -1.68472996\n",
      "  -1.17199036]\n",
      " [ 0.          0.          0.         ...  0.97453371  1.38431904\n",
      "  -0.55341712]\n",
      " [ 2.55942885  0.          0.         ... -0.06431691 -0.57307728\n",
      "   0.23824544]]\n"
     ]
    }
   ],
   "source": [
    "print(X*np.sqrt(n))"
   ],
   "metadata": {
    "collapsed": false
   }
  },
  {
   "cell_type": "code",
   "execution_count": 33,
   "outputs": [
    {
     "name": "stdout",
     "output_type": "stream",
     "text": [
      "MLE |E|: 60\n"
     ]
    },
    {
     "ename": "KeyboardInterrupt",
     "evalue": "",
     "output_type": "error",
     "traceback": [
      "\u001B[0;31m---------------------------------------------------------------------------\u001B[0m",
      "\u001B[0;31mKeyboardInterrupt\u001B[0m                         Traceback (most recent call last)",
      "Cell \u001B[0;32mIn[33], line 15\u001B[0m\n\u001B[1;32m     10\u001B[0m     noselection \u001B[38;5;241m=\u001B[39m (coverage \u001B[38;5;129;01mis\u001B[39;00m \u001B[38;5;28;01mNone\u001B[39;00m)\n\u001B[1;32m     12\u001B[0m \u001B[38;5;28;01mif\u001B[39;00m \u001B[38;5;129;01mnot\u001B[39;00m noselection:\n\u001B[1;32m     13\u001B[0m     \u001B[38;5;66;03m# data splitting\u001B[39;00m\n\u001B[1;32m     14\u001B[0m     coverage_ds, lengths_ds, conf_low_ds, conf_up_ds, nonzero_ds, beta_target_ds \u001B[38;5;241m=\u001B[39m \\\n\u001B[0;32m---> 15\u001B[0m         \u001B[43mdata_splitting\u001B[49m\u001B[43m(\u001B[49m\u001B[43mX\u001B[49m\u001B[38;5;241;43m=\u001B[39;49m\u001B[43mX\u001B[49m\u001B[43m,\u001B[49m\u001B[43m \u001B[49m\u001B[43mY\u001B[49m\u001B[38;5;241;43m=\u001B[39;49m\u001B[43mY\u001B[49m\u001B[43m,\u001B[49m\u001B[43m \u001B[49m\u001B[43mn\u001B[49m\u001B[38;5;241;43m=\u001B[39;49m\u001B[43mn\u001B[49m\u001B[43m,\u001B[49m\u001B[43m \u001B[49m\u001B[43mp\u001B[49m\u001B[38;5;241;43m=\u001B[39;49m\u001B[43mp\u001B[49m\u001B[43m,\u001B[49m\u001B[43m \u001B[49m\u001B[43mbeta\u001B[49m\u001B[38;5;241;43m=\u001B[39;49m\u001B[43mbeta\u001B[49m\u001B[43m,\u001B[49m\u001B[43m \u001B[49m\u001B[43mgroups\u001B[49m\u001B[38;5;241;43m=\u001B[39;49m\u001B[43mgroups\u001B[49m\u001B[43m,\u001B[49m\n\u001B[1;32m     16\u001B[0m \u001B[43m                       \u001B[49m\u001B[43mproportion\u001B[49m\u001B[38;5;241;43m=\u001B[39;49m\u001B[38;5;241;43m0.67\u001B[39;49m\u001B[43m,\u001B[49m\u001B[43m \u001B[49m\u001B[43mlevel\u001B[49m\u001B[38;5;241;43m=\u001B[39;49m\u001B[38;5;241;43m0.9\u001B[39;49m\u001B[43m,\u001B[49m\u001B[43m \u001B[49m\u001B[43mweight_frac\u001B[49m\u001B[38;5;241;43m=\u001B[39;49m\u001B[38;5;241;43m1\u001B[39;49m\u001B[43m)\u001B[49m\n\u001B[1;32m     17\u001B[0m     noselection \u001B[38;5;241m=\u001B[39m (coverage_ds \u001B[38;5;129;01mis\u001B[39;00m \u001B[38;5;28;01mNone\u001B[39;00m)\n\u001B[1;32m     19\u001B[0m \u001B[38;5;28;01mif\u001B[39;00m \u001B[38;5;129;01mnot\u001B[39;00m noselection:\n\u001B[1;32m     20\u001B[0m     \u001B[38;5;66;03m# naive inference\u001B[39;00m\n",
      "File \u001B[0;32m~/Desktop/PhD/SI_Codes/SI-Interaction/selectinf/Simulation/test_group_lasso_simulation.py:410\u001B[0m, in \u001B[0;36mdata_splitting\u001B[0;34m(X, Y, n, p, beta, groups, weight_frac, nonzero, subset_select, proportion, level)\u001B[0m\n\u001B[1;32m    400\u001B[0m weights \u001B[38;5;241m=\u001B[39m \u001B[38;5;28mdict\u001B[39m([(i, (n1\u001B[38;5;241m/\u001B[39mn)\u001B[38;5;241m*\u001B[39mweight_frac \u001B[38;5;241m*\u001B[39m sigma_ \u001B[38;5;241m*\u001B[39m np\u001B[38;5;241m.\u001B[39msqrt(\u001B[38;5;241m2\u001B[39m \u001B[38;5;241m*\u001B[39m np\u001B[38;5;241m.\u001B[39mlog(p))) \u001B[38;5;28;01mfor\u001B[39;00m i \u001B[38;5;129;01min\u001B[39;00m np\u001B[38;5;241m.\u001B[39munique(groups)])\n\u001B[1;32m    402\u001B[0m conv \u001B[38;5;241m=\u001B[39m group_lasso\u001B[38;5;241m.\u001B[39mgaussian(X\u001B[38;5;241m=\u001B[39mX_S,\n\u001B[1;32m    403\u001B[0m                             Y\u001B[38;5;241m=\u001B[39mY_S,\n\u001B[1;32m    404\u001B[0m                             groups\u001B[38;5;241m=\u001B[39mgroups,\n\u001B[0;32m   (...)\u001B[0m\n\u001B[1;32m    407\u001B[0m                             perturb\u001B[38;5;241m=\u001B[39mnp\u001B[38;5;241m.\u001B[39mzeros(p),\n\u001B[1;32m    408\u001B[0m                             ridge_term\u001B[38;5;241m=\u001B[39m\u001B[38;5;241m0.\u001B[39m)\n\u001B[0;32m--> 410\u001B[0m signs, _ \u001B[38;5;241m=\u001B[39m \u001B[43mconv\u001B[49m\u001B[38;5;241;43m.\u001B[39;49m\u001B[43mfit\u001B[49m\u001B[43m(\u001B[49m\u001B[43m)\u001B[49m\n\u001B[1;32m    411\u001B[0m \u001B[38;5;66;03m# print(\"signs\",  signs)\u001B[39;00m\n\u001B[1;32m    412\u001B[0m nonzero \u001B[38;5;241m=\u001B[39m signs \u001B[38;5;241m!=\u001B[39m \u001B[38;5;241m0\u001B[39m\n",
      "File \u001B[0;32m~/Desktop/PhD/SI_Codes/SI-Interaction/selectinf/group_lasso_query.py:127\u001B[0m, in \u001B[0;36mgroup_lasso.fit\u001B[0;34m(self, solve_args, perturb)\u001B[0m\n\u001B[1;32m    124\u001B[0m \u001B[38;5;28mself\u001B[39m\u001B[38;5;241m.\u001B[39mobserved_opt_state \u001B[38;5;241m=\u001B[39m np\u001B[38;5;241m.\u001B[39mhstack(ordered_opt)  \u001B[38;5;66;03m# gammas as array\u001B[39;00m\n\u001B[1;32m    125\u001B[0m num_opt_var \u001B[38;5;241m=\u001B[39m \u001B[38;5;28mself\u001B[39m\u001B[38;5;241m.\u001B[39mobserved_opt_state\u001B[38;5;241m.\u001B[39mshape[\u001B[38;5;241m0\u001B[39m]\n\u001B[0;32m--> 127\u001B[0m _beta_unpenalized \u001B[38;5;241m=\u001B[39m \u001B[43mrestricted_estimator\u001B[49m\u001B[43m(\u001B[49m\u001B[38;5;28;43mself\u001B[39;49m\u001B[38;5;241;43m.\u001B[39;49m\u001B[43mloglike\u001B[49m\u001B[43m,\u001B[49m\u001B[43m  \u001B[49m\u001B[38;5;66;43;03m# refit OLS (MLE) on E\u001B[39;49;00m\n\u001B[1;32m    128\u001B[0m \u001B[43m                                         \u001B[49m\u001B[43moverall\u001B[49m\u001B[43m,\u001B[49m\n\u001B[1;32m    129\u001B[0m \u001B[43m                                         \u001B[49m\u001B[43msolve_args\u001B[49m\u001B[38;5;241;43m=\u001B[39;49m\u001B[43msolve_args\u001B[49m\u001B[43m)\u001B[49m\n\u001B[1;32m    131\u001B[0m beta_bar \u001B[38;5;241m=\u001B[39m np\u001B[38;5;241m.\u001B[39mzeros(\u001B[38;5;28mself\u001B[39m\u001B[38;5;241m.\u001B[39mnfeature)\n\u001B[1;32m    132\u001B[0m beta_bar[overall] \u001B[38;5;241m=\u001B[39m _beta_unpenalized  \u001B[38;5;66;03m# refit OLS (MLE) beta with zeros\u001B[39;00m\n",
      "File \u001B[0;32m~/Desktop/PhD/SI_Codes/SI-Interaction/selectinf/base.py:39\u001B[0m, in \u001B[0;36mrestricted_estimator\u001B[0;34m(loss, active, solve_args)\u001B[0m\n\u001B[1;32m     37\u001B[0m     I_restricted \u001B[38;5;241m=\u001B[39m ra\u001B[38;5;241m.\u001B[39mselector(active, ra\u001B[38;5;241m.\u001B[39mastransform(X)\u001B[38;5;241m.\u001B[39minput_shape[\u001B[38;5;241m0\u001B[39m], ra\u001B[38;5;241m.\u001B[39midentity((active\u001B[38;5;241m.\u001B[39msum(),)))\n\u001B[1;32m     38\u001B[0m     loss_restricted \u001B[38;5;241m=\u001B[39m rr\u001B[38;5;241m.\u001B[39maffine_smooth(loss, I_restricted\u001B[38;5;241m.\u001B[39mT)\n\u001B[0;32m---> 39\u001B[0m beta_E \u001B[38;5;241m=\u001B[39m \u001B[43mloss_restricted\u001B[49m\u001B[38;5;241;43m.\u001B[39;49m\u001B[43msolve\u001B[49m\u001B[43m(\u001B[49m\u001B[38;5;241;43m*\u001B[39;49m\u001B[38;5;241;43m*\u001B[39;49m\u001B[43msolve_args\u001B[49m\u001B[43m)\u001B[49m\n\u001B[1;32m     41\u001B[0m \u001B[38;5;28;01mreturn\u001B[39;00m beta_E\n",
      "File \u001B[0;32m~/Desktop/PhD/SI_Codes/SI-Interaction/env3/lib/python3.9/site-packages/regreg/problems/composite.py:218\u001B[0m, in \u001B[0;36msmooth.solve\u001B[0;34m(self, quadratic, return_optimum, **fit_args)\u001B[0m\n\u001B[1;32m    216\u001B[0m oldq, \u001B[38;5;28mself\u001B[39m\u001B[38;5;241m.\u001B[39mquadratic \u001B[38;5;241m=\u001B[39m \u001B[38;5;28mself\u001B[39m\u001B[38;5;241m.\u001B[39mquadratic, \u001B[38;5;28mself\u001B[39m\u001B[38;5;241m.\u001B[39mquadratic \u001B[38;5;241m+\u001B[39m quadratic\n\u001B[1;32m    217\u001B[0m \u001B[38;5;28mself\u001B[39m\u001B[38;5;241m.\u001B[39msolver \u001B[38;5;241m=\u001B[39m FISTA(\u001B[38;5;28mself\u001B[39m)\n\u001B[0;32m--> 218\u001B[0m \u001B[38;5;28;43mself\u001B[39;49m\u001B[38;5;241;43m.\u001B[39;49m\u001B[43msolver\u001B[49m\u001B[38;5;241;43m.\u001B[39;49m\u001B[43mfit\u001B[49m\u001B[43m(\u001B[49m\u001B[38;5;241;43m*\u001B[39;49m\u001B[38;5;241;43m*\u001B[39;49m\u001B[43mfit_args\u001B[49m\u001B[43m)\u001B[49m\n\u001B[1;32m    219\u001B[0m \u001B[38;5;28mself\u001B[39m\u001B[38;5;241m.\u001B[39mquadratic \u001B[38;5;241m=\u001B[39m oldq\n\u001B[1;32m    221\u001B[0m \u001B[38;5;28;01mif\u001B[39;00m return_optimum:\n",
      "File \u001B[0;32m~/Desktop/PhD/SI_Codes/SI-Interaction/env3/lib/python3.9/site-packages/regreg/algorithms.py:131\u001B[0m, in \u001B[0;36mFISTA.fit\u001B[0;34m(self, tol, min_its, max_its, FISTA, start_step, restart, coef_stop, return_objective_hist, monotonicity_restart, debug, prox_control)\u001B[0m\n\u001B[1;32m    129\u001B[0m \u001B[38;5;66;03m# Backtracking loop\u001B[39;00m\n\u001B[1;32m    130\u001B[0m \u001B[38;5;28;01mif\u001B[39;00m \u001B[38;5;28mself\u001B[39m\u001B[38;5;241m.\u001B[39mperform_backtrack:\n\u001B[0;32m--> 131\u001B[0m     proposed_coefs, proposed_smooth \u001B[38;5;241m=\u001B[39m \u001B[38;5;28;43mself\u001B[39;49m\u001B[38;5;241;43m.\u001B[39;49m\u001B[43mbacktrack\u001B[49m\u001B[43m(\u001B[49m\u001B[43mitercount\u001B[49m\u001B[43m)\u001B[49m\n\u001B[1;32m    133\u001B[0m \u001B[38;5;28;01melse\u001B[39;00m:\n\u001B[1;32m    134\u001B[0m     \u001B[38;5;66;03m#Use specified Lipschitz constant\u001B[39;00m\n\u001B[1;32m    135\u001B[0m     working_grad \u001B[38;5;241m=\u001B[39m \u001B[38;5;28mself\u001B[39m\u001B[38;5;241m.\u001B[39mcomposite\u001B[38;5;241m.\u001B[39msmooth_objective(\u001B[38;5;28mself\u001B[39m\u001B[38;5;241m.\u001B[39mworking_coefs, mode\u001B[38;5;241m=\u001B[39m\u001B[38;5;124m'\u001B[39m\u001B[38;5;124mgrad\u001B[39m\u001B[38;5;124m'\u001B[39m)\n",
      "File \u001B[0;32m~/Desktop/PhD/SI_Codes/SI-Interaction/env3/lib/python3.9/site-packages/regreg/algorithms.py:233\u001B[0m, in \u001B[0;36mFISTA.backtrack\u001B[0;34m(self, itercount)\u001B[0m\n\u001B[1;32m    231\u001B[0m     \u001B[38;5;28mself\u001B[39m\u001B[38;5;241m.\u001B[39mstep \u001B[38;5;241m*\u001B[39m\u001B[38;5;241m=\u001B[39m \u001B[38;5;28mself\u001B[39m\u001B[38;5;241m.\u001B[39malpha\n\u001B[1;32m    232\u001B[0m     \u001B[38;5;28mself\u001B[39m\u001B[38;5;241m.\u001B[39mattempt_decrease \u001B[38;5;241m=\u001B[39m \u001B[38;5;28;01mTrue\u001B[39;00m\n\u001B[0;32m--> 233\u001B[0m working_smooth, working_grad \u001B[38;5;241m=\u001B[39m \u001B[38;5;28;43mself\u001B[39;49m\u001B[38;5;241;43m.\u001B[39;49m\u001B[43mcomposite\u001B[49m\u001B[38;5;241;43m.\u001B[39;49m\u001B[43msmooth_objective\u001B[49m\u001B[43m(\u001B[49m\u001B[38;5;28;43mself\u001B[39;49m\u001B[38;5;241;43m.\u001B[39;49m\u001B[43mworking_coefs\u001B[49m\u001B[43m,\u001B[49m\u001B[43m \u001B[49m\u001B[43mmode\u001B[49m\u001B[38;5;241;43m=\u001B[39;49m\u001B[38;5;124;43m'\u001B[39;49m\u001B[38;5;124;43mboth\u001B[39;49m\u001B[38;5;124;43m'\u001B[39;49m\u001B[43m)\u001B[49m\n\u001B[1;32m    234\u001B[0m \u001B[38;5;28;01mwhile\u001B[39;00m \u001B[38;5;28;01mTrue\u001B[39;00m:\n\u001B[1;32m    235\u001B[0m     \u001B[38;5;28;01mif\u001B[39;00m \u001B[38;5;28mself\u001B[39m\u001B[38;5;241m.\u001B[39mprox_control \u001B[38;5;241m!=\u001B[39m {}:\n",
      "File \u001B[0;32m~/Desktop/PhD/SI_Codes/SI-Interaction/env3/lib/python3.9/site-packages/regreg/smooth/__init__.py:235\u001B[0m, in \u001B[0;36maffine_smooth.smooth_objective\u001B[0;34m(self, arg, mode, check_feasibility)\u001B[0m\n\u001B[1;32m    209\u001B[0m \u001B[38;5;28;01mdef\u001B[39;00m \u001B[38;5;21msmooth_objective\u001B[39m(\u001B[38;5;28mself\u001B[39m, arg, mode\u001B[38;5;241m=\u001B[39m\u001B[38;5;124m'\u001B[39m\u001B[38;5;124mboth\u001B[39m\u001B[38;5;124m'\u001B[39m, check_feasibility\u001B[38;5;241m=\u001B[39m\u001B[38;5;28;01mFalse\u001B[39;00m):\n\u001B[1;32m    210\u001B[0m \u001B[38;5;250m    \u001B[39m\u001B[38;5;124;03m\"\"\"\u001B[39;00m\n\u001B[1;32m    211\u001B[0m \u001B[38;5;124;03m    Compute the smooth objective at the point `self.transform.affine_map(arg)`.\u001B[39;00m\n\u001B[1;32m    212\u001B[0m \n\u001B[0;32m   (...)\u001B[0m\n\u001B[1;32m    232\u001B[0m \u001B[38;5;124;03m    else returns both.\u001B[39;00m\n\u001B[1;32m    233\u001B[0m \u001B[38;5;124;03m    \"\"\"\u001B[39;00m\n\u001B[0;32m--> 235\u001B[0m     eta \u001B[38;5;241m=\u001B[39m \u001B[38;5;28;43mself\u001B[39;49m\u001B[38;5;241;43m.\u001B[39;49m\u001B[43maffine_transform\u001B[49m\u001B[38;5;241;43m.\u001B[39;49m\u001B[43maffine_map\u001B[49m\u001B[43m(\u001B[49m\u001B[43marg\u001B[49m\u001B[43m)\u001B[49m\n\u001B[1;32m    236\u001B[0m     \u001B[38;5;28;01mif\u001B[39;00m mode \u001B[38;5;241m==\u001B[39m \u001B[38;5;124m'\u001B[39m\u001B[38;5;124mboth\u001B[39m\u001B[38;5;124m'\u001B[39m:\n\u001B[1;32m    237\u001B[0m         v, g \u001B[38;5;241m=\u001B[39m \u001B[38;5;28mself\u001B[39m\u001B[38;5;241m.\u001B[39matom\u001B[38;5;241m.\u001B[39msmooth_objective(eta, mode\u001B[38;5;241m=\u001B[39m\u001B[38;5;124m'\u001B[39m\u001B[38;5;124mboth\u001B[39m\u001B[38;5;124m'\u001B[39m)\n",
      "File \u001B[0;32m~/Desktop/PhD/SI_Codes/SI-Interaction/env3/lib/python3.9/site-packages/regreg/affine/__init__.py:220\u001B[0m, in \u001B[0;36maffine_transform.affine_map\u001B[0;34m(self, x)\u001B[0m\n\u001B[1;32m    218\u001B[0m     v \u001B[38;5;241m=\u001B[39m \u001B[38;5;28mself\u001B[39m\u001B[38;5;241m.\u001B[39mlinear_operator\u001B[38;5;241m.\u001B[39maffine_map(x)\n\u001B[1;32m    219\u001B[0m \u001B[38;5;28;01melse\u001B[39;00m:\n\u001B[0;32m--> 220\u001B[0m     v \u001B[38;5;241m=\u001B[39m \u001B[38;5;28;43mself\u001B[39;49m\u001B[38;5;241;43m.\u001B[39;49m\u001B[43mlinear_map\u001B[49m\u001B[43m(\u001B[49m\u001B[43mx\u001B[49m\u001B[43m)\u001B[49m\n\u001B[1;32m    221\u001B[0m \u001B[38;5;28;01mif\u001B[39;00m \u001B[38;5;28mself\u001B[39m\u001B[38;5;241m.\u001B[39maffine_offset \u001B[38;5;129;01mis\u001B[39;00m \u001B[38;5;129;01mnot\u001B[39;00m \u001B[38;5;28;01mNone\u001B[39;00m:\n\u001B[1;32m    222\u001B[0m     \u001B[38;5;66;03m# Deal with 1D and 2D input, affine_offset cases\u001B[39;00m\n\u001B[1;32m    223\u001B[0m     \u001B[38;5;28;01mreturn\u001B[39;00m broadcast_first(\u001B[38;5;28mself\u001B[39m\u001B[38;5;241m.\u001B[39maffine_offset, v, add)\n",
      "File \u001B[0;32m~/Desktop/PhD/SI_Codes/SI-Interaction/env3/lib/python3.9/site-packages/regreg/affine/__init__.py:155\u001B[0m, in \u001B[0;36maffine_transform.linear_map\u001B[0;34m(self, x)\u001B[0m\n\u001B[1;32m    152\u001B[0m \u001B[38;5;28;01melif\u001B[39;00m \u001B[38;5;28mself\u001B[39m\u001B[38;5;241m.\u001B[39mdiagD:\n\u001B[1;32m    153\u001B[0m     \u001B[38;5;66;03m# Deal with 1D or 2D input or linear operator\u001B[39;00m\n\u001B[1;32m    154\u001B[0m     \u001B[38;5;28;01mreturn\u001B[39;00m broadcast_first(\u001B[38;5;28mself\u001B[39m\u001B[38;5;241m.\u001B[39mlinear_operator, x, mul)\n\u001B[0;32m--> 155\u001B[0m \u001B[38;5;28;01mreturn\u001B[39;00m \u001B[38;5;28;43mself\u001B[39;49m\u001B[38;5;241;43m.\u001B[39;49m\u001B[43mlinear_operator\u001B[49m\u001B[38;5;241;43m.\u001B[39;49m\u001B[43mdot\u001B[49m\u001B[43m(\u001B[49m\u001B[43mx\u001B[49m\u001B[43m)\u001B[49m\n",
      "\u001B[0;31mKeyboardInterrupt\u001B[0m: "
     ]
    }
   ],
   "source": [
    "n, p = X.shape\n",
    "noselection = False  # flag for a certain method having an empty selected set\n",
    "\n",
    "if not noselection:\n",
    "    # MLE inference\n",
    "    coverage, length, beta_target, nonzero, conf_low, conf_up = \\\n",
    "        randomization_inference_fast(X=X, Y=Y, n=n, p=p, proportion=0.67,\n",
    "                                     beta=beta, groups=groups, weight_frac=1)\n",
    "    # print(MLE_runtime)\n",
    "    noselection = (coverage is None)\n",
    "\n",
    "if not noselection:\n",
    "    # data splitting\n",
    "    coverage_ds, lengths_ds, conf_low_ds, conf_up_ds, nonzero_ds, beta_target_ds = \\\n",
    "        data_splitting(X=X, Y=Y, n=n, p=p, beta=beta, groups=groups,\n",
    "                       proportion=0.67, level=0.9, weight_frac=1)\n",
    "    noselection = (coverage_ds is None)\n",
    "\n",
    "if not noselection:\n",
    "    # naive inference\n",
    "    coverage_naive, lengths_naive, nonzero_naive, conf_low_naive, conf_up_naive, \\\n",
    "    beta_target_naive = \\\n",
    "        naive_inference(X=X, Y=Y, groups=groups,\n",
    "                        beta=beta, const=const,\n",
    "                        n=n, level=0.9, weight_frac=1)\n",
    "    noselection = (coverage_naive is None)"
   ],
   "metadata": {
    "collapsed": false
   }
  },
  {
   "cell_type": "code",
   "execution_count": 34,
   "outputs": [],
   "source": [
    "def generate_polynomial(n = 2000, p = 10, s = 3, order = 3, center=True, scale=True,\n",
    "                        signal = 5., random_signs = True):\n",
    "    data = np.zeros((n, p*order))\n",
    "    for i in range(p):\n",
    "        x_i = np.random.normal(size = (n,))\n",
    "        data[:,3*i:3*i+3] = np.array([x_i,x_i**2,x_i**3]).T\n",
    "\n",
    "    groups = np.arange(p).repeat(order)\n",
    "    group_labels = np.unique(groups)\n",
    "\n",
    "    # Assigning active groups\n",
    "    # Assuming no intercept\n",
    "    group_active = np.random.choice(np.arange(p), s, replace=False)\n",
    "\n",
    "    beta = np.zeros(data.shape[1])\n",
    "    signal = np.atleast_1d(signal)\n",
    "\n",
    "    active = np.isin(groups, group_active)\n",
    "\n",
    "    if signal.shape == (1,):\n",
    "        beta[active] = signal[0]\n",
    "    else:\n",
    "        beta[active] = np.linspace(signal[0], signal[1], active.sum())\n",
    "    if random_signs:\n",
    "        beta[active] *= (2 * np.random.binomial(1, 0.5, size=(active.sum(),)) - 1.)\n",
    "    beta /= np.sqrt(n)\n",
    "\n",
    "    if center:\n",
    "        data -= data.mean(0)[None, :]\n",
    "\n",
    "    if scale:\n",
    "        # ----SCALE----\n",
    "        # scales X by sqrt(n) and sd\n",
    "        # if we need original X, uncomment the following line\n",
    "        # X_raw = X\n",
    "        # ----SCALE----\n",
    "        scaling = data.std(0) * np.sqrt(n)\n",
    "        data /= scaling[None, :]\n",
    "        beta *= np.sqrt(n)\n",
    "\n",
    "    Y = (data.dot(beta)) + np.random.normal(size = (n,))\n",
    "\n",
    "    return data, Y, beta, groups"
   ],
   "metadata": {
    "collapsed": false
   }
  },
  {
   "cell_type": "code",
   "execution_count": 51,
   "outputs": [
    {
     "name": "stdout",
     "output_type": "stream",
     "text": [
      "MLE |E|: 12\n",
      "0.9851474472261652\n",
      "Naive selection [2, 7, 8]\n",
      "Naive |E|: 9\n",
      "[1.61613262 0.99308378 1.62331765 1.57900789 0.99244198 1.58195495\n",
      " 1.60442498 0.98790466 1.60532864]\n",
      "MLE\n",
      "coverage rate: 0.8333333333333334\n",
      "avg length 7.624213509262494\n",
      "F1 score 0.8571428571428571\n",
      "Data splitting\n",
      "coverage rate: 0.5833333333333334\n",
      "avg length 7.481003547163758\n",
      "F1 score 0.8571428571428571\n"
     ]
    },
    {
     "data": {
      "text/plain": "'print(\"Naive inference\")\\nprint(\"coverage rate:\", np.mean(coverage_naive))\\nprint(\"avg length\", np.mean(lengths_naive))\\nprint(\"F1 score\", np.mean(F1_naive))'"
     },
     "execution_count": 51,
     "metadata": {},
     "output_type": "execute_result"
    }
   ],
   "source": [
    "X, Y, beta, groups = generate_polynomial()\n",
    "n, p = X.shape\n",
    "noselection = False  # flag for a certain method having an empty selected set\n",
    "\n",
    "if not noselection:\n",
    "    # MLE inference\n",
    "    coverage, length, beta_target, nonzero, conf_low, conf_up = \\\n",
    "        randomization_inference_fast(X=X, Y=Y, n=n, p=p, proportion=0.67,\n",
    "                                     beta=beta, groups=groups, weight_frac=1)\n",
    "    # print(MLE_runtime)\n",
    "    noselection = (coverage is None)\n",
    "\n",
    "if not noselection:\n",
    "    # data splitting\n",
    "    coverage_ds, lengths_ds, conf_low_ds, conf_up_ds, nonzero_ds, beta_target_ds = \\\n",
    "        data_splitting(X=X, Y=Y, n=n, p=p, beta=beta, groups=groups,\n",
    "                       proportion=0.67, level=0.9, weight_frac=1)\n",
    "    noselection = (coverage_ds is None)\n",
    "\n",
    "if not noselection:\n",
    "    # naive inference\n",
    "    coverage_naive, lengths_naive, nonzero_naive, conf_low_naive, conf_up_naive, \\\n",
    "    beta_target_naive = \\\n",
    "        naive_inference(X=X, Y=Y, groups=groups,\n",
    "                        beta=beta, const=const,\n",
    "                        n=n, level=0.9, weight_frac=1)\n",
    "    noselection = (coverage_naive is None)\n",
    "\n",
    "if not noselection:\n",
    "    # F1 scores\n",
    "    # F1_s = calculate_F1_score(beta, selection=nonzero_s)\n",
    "    F1 = calculate_F1_score(beta, selection=nonzero)\n",
    "    F1_ds = calculate_F1_score(beta, selection=nonzero_ds)\n",
    "    F1_naive = calculate_F1_score(beta, selection=nonzero_naive)\n",
    "\n",
    "# MLE coverage\n",
    "print(\"MLE\")\n",
    "print(\"coverage rate:\", np.mean(coverage))\n",
    "print(\"avg length\", np.mean(length))\n",
    "print(\"F1 score\", np.mean(F1))\n",
    "\n",
    "# Data splitting coverage\n",
    "print(\"Data splitting\")\n",
    "print(\"coverage rate:\", np.mean(coverage_ds))\n",
    "print(\"avg length\", np.mean(lengths_ds))\n",
    "print(\"F1 score\", np.mean(F1_ds))\n",
    "\n",
    "# Naive coverage\n",
    "\"\"\"print(\"Naive inference\")\n",
    "print(\"coverage rate:\", np.mean(coverage_naive))\n",
    "print(\"avg length\", np.mean(lengths_naive))\n",
    "print(\"F1 score\", np.mean(F1_naive))\"\"\""
   ],
   "metadata": {
    "collapsed": false
   }
  },
  {
   "cell_type": "code",
   "execution_count": 41,
   "outputs": [
    {
     "data": {
      "text/plain": "-4.443297983999999"
     },
     "execution_count": 41,
     "metadata": {},
     "output_type": "execute_result"
    }
   ],
   "source": [],
   "metadata": {
    "collapsed": false
   }
  },
  {
   "cell_type": "code",
   "execution_count": null,
   "outputs": [],
   "source": [],
   "metadata": {
    "collapsed": false
   }
  }
 ],
 "metadata": {
  "kernelspec": {
   "display_name": "Python 3",
   "language": "python",
   "name": "python3"
  },
  "language_info": {
   "codemirror_mode": {
    "name": "ipython",
    "version": 2
   },
   "file_extension": ".py",
   "mimetype": "text/x-python",
   "name": "python",
   "nbconvert_exporter": "python",
   "pygments_lexer": "ipython2",
   "version": "2.7.6"
  }
 },
 "nbformat": 4,
 "nbformat_minor": 0
}
