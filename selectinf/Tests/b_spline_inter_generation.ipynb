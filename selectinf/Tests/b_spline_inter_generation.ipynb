{
 "cells": [
  {
   "cell_type": "code",
   "execution_count": 1,
   "id": "initial_id",
   "metadata": {
    "collapsed": true,
    "ExecuteTime": {
     "end_time": "2024-03-14T01:55:49.514418Z",
     "start_time": "2024-03-14T01:55:49.421351Z"
    }
   },
   "outputs": [
    {
     "name": "stderr",
     "output_type": "stream",
     "text": [
      "/Users/yilingh/Desktop/PhD/SI_Codes/SI-Interaction/env3/lib/python3.9/site-packages/regreg/atoms/slope.py:16: UserWarning: unable to import isotonic regression from sklearn, using a pure python implementation\n",
      "  warn('unable to import isotonic regression from sklearn, using a pure python implementation')\n"
     ]
    }
   ],
   "source": [
    "import numpy as np\n",
    "import pandas as pd\n",
    "import seaborn as sns\n",
    "from scipy.interpolate import CubicSpline\n",
    "import matplotlib.pyplot as plt\n",
    "from scipy.interpolate import BSpline\n",
    "from selectinf.Simulation.spline import b_spline\n",
    "from selectinf.Simulation.spline_instance import (generate_gaussian_instance_nonlinear, \n",
    "                                                  generate_gaussian_instance_from_bspline,\n",
    "                                                  generate_gaussian_instance_from_bspline_interaction)\n",
    "from selectinf.group_lasso_query import (group_lasso,\n",
    "                                         split_group_lasso)\n",
    "import regreg.api as rr\n",
    "from selectinf.base import selected_targets\n",
    "from selectinf.base import restricted_estimator\n",
    "import scipy.stats\n",
    "\n",
    "from selectinf.Simulation.test_group_lasso_simulation import (calculate_F1_score,\n",
    "                                                              naive_inference,\n",
    "                                                              randomization_inference,\n",
    "                                                              data_splitting)"
   ]
  },
  {
   "cell_type": "code",
   "execution_count": 11,
   "outputs": [
    {
     "name": "stdout",
     "output_type": "stream",
     "text": [
      "Equally spaced quantile knots used.\n",
      "19 33\n",
      "16 23\n",
      "2 16\n",
      "35 49\n",
      "29 49\n",
      "noise_sd: 0.19422509549244946\n"
     ]
    }
   ],
   "source": [
    "(design, data_interaction, Y, Y_mean, data_combined,\n",
    " groups, active, active_inter_adj, active_inter_list) \\\n",
    "    = generate_gaussian_instance_from_bspline_interaction(n=500, p_nl=50, p_l=0,\n",
    "                                                          s_nl=2, s_l=0,\n",
    "                                                          nknots=8, degree=2, SNR=1,\n",
    "                                                          center=False, scale=True, \n",
    "                                                          random_signs=True,\n",
    "                                                          intercept=False, structure='allpairs', s_interaction=5)"
   ],
   "metadata": {
    "collapsed": false,
    "ExecuteTime": {
     "end_time": "2024-01-18T16:30:13.663377Z",
     "start_time": "2024-01-18T16:30:13.597457Z"
    }
   },
   "id": "d5867375702137dd"
  },
  {
   "cell_type": "code",
   "execution_count": 12,
   "outputs": [],
   "source": [
    "def sample_interaction_pairs_hierarchy(p, s_inter, active_idx, mode='weakhierarchy'):\n",
    "    active_idx -= 1\n",
    "    \n",
    "    # Construct collection of candidate pairs\n",
    "    pairs = []\n",
    "    if mode == 'weakhierarchy':\n",
    "        for i in range(p):\n",
    "            for j in range(i + 1, p):\n",
    "                if i in active_idx or j in active_idx:\n",
    "                    pairs.append((i, j))\n",
    "    elif mode == 'stronghierarchy':\n",
    "        for i in range(p):\n",
    "            for j in range(i + 1, p):\n",
    "                if i in active_idx and j in active_idx:\n",
    "                    pairs.append((i, j))\n",
    "    pairs = np.array(pairs)\n",
    "\n",
    "    # Sample some interaction pairs\n",
    "    pairs_smpl_idx = np.random.choice(np.arange(len(pairs)), s_inter, replace=False)\n",
    "    pairs_smpl = pairs[pairs_smpl_idx]\n",
    "\n",
    "    active_inter = np.zeros((p,p))\n",
    "    for i in range(pairs_smpl.shape[0]):\n",
    "        pair = pairs_smpl[i]\n",
    "        active_inter[pair[0], pair[1]] = 1\n",
    "        print(pair[0], pair[1])\n",
    "\n",
    "    return active_inter, pairs_smpl"
   ],
   "metadata": {
    "collapsed": false,
    "ExecuteTime": {
     "end_time": "2024-01-18T16:30:14.902130Z",
     "start_time": "2024-01-18T16:30:14.895083Z"
    }
   },
   "id": "c25ca01d25241515"
  },
  {
   "cell_type": "code",
   "execution_count": 13,
   "outputs": [
    {
     "name": "stdout",
     "output_type": "stream",
     "text": [
      "7 9\n",
      "4 7\n",
      "0 9\n",
      "4 9\n",
      "0 7\n"
     ]
    }
   ],
   "source": [
    "active_inter, pairs_smpl\\\n",
    "    = sample_interaction_pairs_hierarchy(10, 5, np.array([1,5,8,10]), mode='stronghierarchy')"
   ],
   "metadata": {
    "collapsed": false,
    "ExecuteTime": {
     "end_time": "2024-01-18T16:30:15.651438Z",
     "start_time": "2024-01-18T16:30:15.646250Z"
    }
   },
   "id": "72639a43d00282a0"
  },
  {
   "cell_type": "code",
   "execution_count": null,
   "outputs": [],
   "source": [],
   "metadata": {
    "collapsed": false
   },
   "id": "b3aeebc25d3f86b2"
  }
 ],
 "metadata": {
  "kernelspec": {
   "display_name": "Python 3",
   "language": "python",
   "name": "python3"
  },
  "language_info": {
   "codemirror_mode": {
    "name": "ipython",
    "version": 2
   },
   "file_extension": ".py",
   "mimetype": "text/x-python",
   "name": "python",
   "nbconvert_exporter": "python",
   "pygments_lexer": "ipython2",
   "version": "2.7.6"
  }
 },
 "nbformat": 4,
 "nbformat_minor": 5
}
