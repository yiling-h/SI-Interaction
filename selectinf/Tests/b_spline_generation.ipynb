{
 "cells": [
  {
   "cell_type": "code",
   "execution_count": null,
   "id": "initial_id",
   "metadata": {
    "collapsed": true
   },
   "outputs": [],
   "source": [
    "import numpy as np\n",
    "from scipy.interpolate import CubicSpline\n",
    "import matplotlib.pyplot as plt\n",
    "from scipy.interpolate import BSpline\n",
    "from selectinf.Simulation.spline import b_spline\n",
    "from selectinf.Simulation.spline_instance import generate_gaussian_instance_nonlinear\n",
    "from selectinf.group_lasso_query import (group_lasso,\n",
    "                                         split_group_lasso)\n",
    "import regreg.api as rr\n",
    "from selectinf.base import selected_targets\n",
    "from selectinf.base import restricted_estimator\n",
    "import scipy.stats\n",
    "\n",
    "from selectinf.Simulation.test_group_lasso_simulation import (calculate_F1_score,\n",
    "                                                              naive_inference,\n",
    "                                                              randomization_inference_fast,\n",
    "                                                              data_splitting)"
   ]
  },
  {
   "cell_type": "code",
   "execution_count": null,
   "outputs": [],
   "source": [
    "a = np.zeros(5)\n",
    "b = np.array([2,1,0])\n",
    "a[b] = 1\n",
    "a"
   ],
   "metadata": {
    "collapsed": false
   },
   "id": "8ed4aa379be9c98d"
  },
  {
   "cell_type": "code",
   "execution_count": null,
   "outputs": [],
   "source": [
    "X = np.random.uniform(size=(2000,10), low=-1, high=1)\n",
    "Z = np.random.normal(size=(2000,0), scale=5)\n",
    "bs = b_spline(data_nl=X[:,0:10], nknots=4, degree=1, data_l=Z)"
   ],
   "metadata": {
    "collapsed": false
   },
   "id": "f8b6d176a687fb6b"
  },
  {
   "cell_type": "code",
   "execution_count": null,
   "outputs": [],
   "source": [
    "bs.construct_splines(equally_spaced=False,use_quantiles=True)\n",
    "design = bs.get_spline_data()\n",
    "design.shape"
   ],
   "metadata": {
    "collapsed": false
   },
   "id": "8eed9559d93a39cb"
  },
  {
   "cell_type": "code",
   "execution_count": null,
   "outputs": [],
   "source": [
    "X = bs.get_spline_data()\n",
    "n = X.shape[0]\n",
    "X -= X.mean(0)[None, :]\n",
    "scaling = X.std(0)\n",
    "X /= scaling[None, :]"
   ],
   "metadata": {
    "collapsed": false
   },
   "id": "5035b7c7e95ce96a"
  },
  {
   "cell_type": "code",
   "execution_count": null,
   "outputs": [],
   "source": [
    "np.linalg.inv((X.T @ X) / n + 0*np.eye(20))#((X.T @ X) / n)#np.linalg.inv((X.T @ X) / n)"
   ],
   "metadata": {
    "collapsed": false
   },
   "id": "d4c997ab355985db"
  },
  {
   "cell_type": "code",
   "execution_count": null,
   "outputs": [],
   "source": [
    "np.array(range(0,10))"
   ],
   "metadata": {
    "collapsed": false
   },
   "id": "603a1c707e220a16"
  },
  {
   "cell_type": "code",
   "execution_count": null,
   "outputs": [],
   "source": [
    "design, Y, Y_mean, groups, active_flag = \\\n",
    "    generate_gaussian_instance_nonlinear(n=2000, p_nl=10, p_l=50,\n",
    "                                         nknots = 10, degree = 3,\n",
    "                                         center=False, scale=True)"
   ],
   "metadata": {
    "collapsed": false
   },
   "id": "fe7ae3dc0c8b5b04"
  },
  {
   "cell_type": "code",
   "execution_count": null,
   "outputs": [],
   "source": [
    "design.shape"
   ],
   "metadata": {
    "collapsed": false
   },
   "id": "291fafdee41dd770"
  },
  {
   "cell_type": "code",
   "execution_count": null,
   "outputs": [],
   "source": [
    "def randomization_inference_spline(design, Y, n, p, Y_mean, groups,\n",
    "                                   randomizer_scale=1.,\n",
    "                                   weight_frac=1.25, level=0.9, ridge_term=1.):\n",
    "    sigma_ = np.std(Y)\n",
    "    if n > p:\n",
    "        dispersion = np.linalg.norm(Y - design.dot(np.linalg.pinv(design).dot(Y))) ** 2 / (n - p)\n",
    "    else:\n",
    "        dispersion = sigma_ ** 2\n",
    "\n",
    "    sigma_ = np.sqrt(dispersion)\n",
    "\n",
    "    #weights = dict([(i, 0.5) for i in np.unique(groups)])\n",
    "    weights = dict([(i, weight_frac * sigma_ * np.sqrt(2 * np.log(p))) for i in np.unique(groups)])\n",
    "\n",
    "    conv = group_lasso.gaussian(X=design,\n",
    "                                Y=Y,\n",
    "                                groups=groups,\n",
    "                                weights=weights,\n",
    "                                useJacobian=True,\n",
    "                                ridge_term=ridge_term)\n",
    "\n",
    "    signs, _ = conv.fit()\n",
    "    nonzero = (signs != 0)\n",
    "\n",
    "    # print(\"MLE selection:\", conv._ordered_groups)\n",
    "\n",
    "    def solve_target_restricted():\n",
    "        X_E = design[:,nonzero]\n",
    "        _beta_unpenalized = np.linalg.inv(X_E.T @ X_E) @ X_E.T @ Y_mean\n",
    "        \"\"\"loglike = rr.glm.gaussian(design, Y_mean)\n",
    "        # For LASSO, this is the OLS solution on X_{E,U}\n",
    "        _beta_unpenalized = restricted_estimator(loglike,\n",
    "                                                 nonzero)\"\"\"\n",
    "        return _beta_unpenalized\n",
    "\n",
    "    if nonzero.sum() > 0:\n",
    "        print(\"MLE |E|:\", nonzero.sum())\n",
    "\n",
    "        conv.setup_inference(dispersion=dispersion)\n",
    "\n",
    "        target_spec = selected_targets(conv.loglike,\n",
    "                                       conv.observed_soln,\n",
    "                                       dispersion=dispersion)\n",
    "\n",
    "        result,_ = conv.inference(target_spec,\n",
    "                                method='selective_MLE',\n",
    "                                level=level)\n",
    "\n",
    "        pval = result['pvalue']\n",
    "        intervals = np.asarray(result[['lower_confidence',\n",
    "                                       'upper_confidence']])\n",
    "\n",
    "        beta_target = solve_target_restricted()\n",
    "\n",
    "        coverage = (beta_target > intervals[:, 0]) * (beta_target < intervals[:, 1])\n",
    "        \n",
    "        \n",
    "        np.set_printoptions(precision=3, suppress=True)\n",
    "        print(beta_target)\n",
    "        print(intervals)\n",
    "\n",
    "        return coverage, (intervals[:, 1] - intervals[:, 0]), beta_target, \\\n",
    "               nonzero, intervals[:, 0], intervals[:, 1], target_spec.cov_target\n",
    "    return None, None, None, None, None, None"
   ],
   "metadata": {
    "collapsed": false
   },
   "id": "aaf4d1104d444913"
  },
  {
   "cell_type": "code",
   "execution_count": null,
   "outputs": [],
   "source": [
    "n, p = design.shape\n",
    "noselection = False  # flag for a certain method having an empty selected set\n",
    "\n",
    "if not noselection:\n",
    "    # MLE inference\n",
    "    coverage, length, beta_target, nonzero, conf_low, conf_up, cov_target = \\\n",
    "        randomization_inference_spline(design=design, Y=Y, n=n, p=p, Y_mean=Y_mean,\n",
    "                                       groups=groups,\n",
    "                                       weight_frac=1.25, level=0.9, ridge_term=0.)\n",
    "    # print(MLE_runtime)\n",
    "    noselection = (coverage is None)"
   ],
   "metadata": {
    "collapsed": false
   },
   "id": "576b6484f70b68bd"
  },
  {
   "cell_type": "code",
   "execution_count": null,
   "outputs": [],
   "source": [
    "np.mean(coverage)"
   ],
   "metadata": {
    "collapsed": false
   },
   "id": "6a17688ff1b489e"
  },
  {
   "cell_type": "code",
   "execution_count": null,
   "outputs": [],
   "source": [
    "design[:,nonzero] @ beta_target"
   ],
   "metadata": {
    "collapsed": false
   },
   "id": "29505de6d477d2a8"
  },
  {
   "cell_type": "code",
   "execution_count": null,
   "outputs": [],
   "source": [
    "Y_mean"
   ],
   "metadata": {
    "collapsed": false
   },
   "id": "5ed98b2a38c7a3bd"
  },
  {
   "cell_type": "code",
   "execution_count": null,
   "outputs": [],
   "source": [
    "Y"
   ],
   "metadata": {
    "collapsed": false
   },
   "id": "2dd09bdc1b3b68f1"
  },
  {
   "cell_type": "code",
   "execution_count": null,
   "outputs": [],
   "source": [],
   "metadata": {
    "collapsed": false
   },
   "id": "c0c396fae56c9a64"
  }
 ],
 "metadata": {
  "kernelspec": {
   "display_name": "Python 3",
   "language": "python",
   "name": "python3"
  },
  "language_info": {
   "codemirror_mode": {
    "name": "ipython",
    "version": 2
   },
   "file_extension": ".py",
   "mimetype": "text/x-python",
   "name": "python",
   "nbconvert_exporter": "python",
   "pygments_lexer": "ipython2",
   "version": "2.7.6"
  }
 },
 "nbformat": 4,
 "nbformat_minor": 5
}
