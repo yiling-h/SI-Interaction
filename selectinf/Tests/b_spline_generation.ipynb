{
 "cells": [
  {
   "cell_type": "code",
   "execution_count": 46,
   "id": "initial_id",
   "metadata": {
    "collapsed": true,
    "ExecuteTime": {
     "end_time": "2023-11-20T21:20:19.022353Z",
     "start_time": "2023-11-20T21:20:19.013908Z"
    }
   },
   "outputs": [],
   "source": [
    "import numpy as np\n",
    "import pandas as pd\n",
    "import seaborn as sns\n",
    "from scipy.interpolate import CubicSpline\n",
    "import matplotlib.pyplot as plt\n",
    "from scipy.interpolate import BSpline\n",
    "from selectinf.Simulation.spline import b_spline\n",
    "from selectinf.Simulation.spline_instance import generate_gaussian_instance_nonlinear, generate_gaussian_instance_from_bspline\n",
    "from selectinf.group_lasso_query import (group_lasso,\n",
    "                                         split_group_lasso)\n",
    "import regreg.api as rr\n",
    "from selectinf.base import selected_targets\n",
    "from selectinf.base import restricted_estimator\n",
    "import scipy.stats\n",
    "\n",
    "from selectinf.Simulation.test_group_lasso_simulation import (calculate_F1_score,\n",
    "                                                              naive_inference,\n",
    "                                                              randomization_inference,\n",
    "                                                              data_splitting)"
   ]
  },
  {
   "cell_type": "code",
   "execution_count": null,
   "outputs": [],
   "source": [
    "X = np.random.uniform(size=(2000,10), low=-1, high=1)\n",
    "Z = np.random.normal(size=(2000,0), scale=5)\n",
    "bs = b_spline(data_nl=X[:,0:10], nknots=4, degree=1, data_l=Z)"
   ],
   "metadata": {
    "collapsed": false
   },
   "id": "f8b6d176a687fb6b"
  },
  {
   "cell_type": "code",
   "execution_count": null,
   "outputs": [],
   "source": [
    "bs.construct_splines(equally_spaced=False,use_quantiles=True)\n",
    "design = bs.get_spline_data()\n",
    "design.shape"
   ],
   "metadata": {
    "collapsed": false
   },
   "id": "8eed9559d93a39cb"
  },
  {
   "cell_type": "code",
   "execution_count": null,
   "outputs": [],
   "source": [
    "X = bs.get_spline_data()\n",
    "n = X.shape[0]\n",
    "X -= X.mean(0)[None, :]\n",
    "scaling = X.std(0)\n",
    "X /= scaling[None, :]"
   ],
   "metadata": {
    "collapsed": false
   },
   "id": "5035b7c7e95ce96a"
  },
  {
   "cell_type": "code",
   "execution_count": null,
   "outputs": [],
   "source": [
    "np.linalg.inv((X.T @ X) / n + 0*np.eye(20))#((X.T @ X) / n)#np.linalg.inv((X.T @ X) / n)"
   ],
   "metadata": {
    "collapsed": false
   },
   "id": "d4c997ab355985db"
  },
  {
   "cell_type": "code",
   "execution_count": null,
   "outputs": [],
   "source": [
    "np.array(range(0,10))"
   ],
   "metadata": {
    "collapsed": false
   },
   "id": "603a1c707e220a16"
  },
  {
   "cell_type": "code",
   "execution_count": 27,
   "outputs": [
    {
     "name": "stdout",
     "output_type": "stream",
     "text": [
      "Equally spaced quantile knots used.\n",
      "0.978518445690427\n"
     ]
    }
   ],
   "source": [
    "const, const_split = group_lasso.gaussian, split_group_lasso.gaussian\n",
    "design, Y, beta, groups = \\\n",
    "    generate_gaussian_instance_from_bspline(n=2000, p_nl=10, p_l=90,\n",
    "                                         s_nl = 3, s_l = 10,\n",
    "                                         nknots = 6, degree = 2, signal_fac=0.1,\n",
    "                                         center=False, scale=True, random_signs=True,\n",
    "                                         intercept=False)"
   ],
   "metadata": {
    "collapsed": false,
    "ExecuteTime": {
     "end_time": "2023-11-20T21:04:37.618376Z",
     "start_time": "2023-11-20T21:04:37.590393Z"
    }
   },
   "id": "fe7ae3dc0c8b5b04"
  },
  {
   "cell_type": "code",
   "execution_count": 28,
   "outputs": [
    {
     "data": {
      "text/plain": "(2000, 120)"
     },
     "execution_count": 28,
     "metadata": {},
     "output_type": "execute_result"
    }
   ],
   "source": [
    "design.shape"
   ],
   "metadata": {
    "collapsed": false,
    "ExecuteTime": {
     "end_time": "2023-11-20T21:04:40.432592Z",
     "start_time": "2023-11-20T21:04:40.424681Z"
    }
   },
   "id": "291fafdee41dd770"
  },
  {
   "cell_type": "code",
   "execution_count": 29,
   "outputs": [
    {
     "name": "stdout",
     "output_type": "stream",
     "text": [
      "MLE |E|: 23\n",
      "Naive selection [6, 11, 30, 33, 37, 42, 83, 91, 97]\n",
      "Naive |E|: 11\n",
      "MLE\n",
      "coverage rate: 0.6956521739130435\n",
      "avg length 4.882610525167249\n",
      "F1 score 0.42857142857142855\n",
      "Data splitting\n",
      "coverage rate: 0.9166666666666666\n",
      "avg length 7.258340018955803\n",
      "F1 score 0.4516129032258065\n",
      "Naive inference\n",
      "coverage rate: 0.9090909090909091\n",
      "avg length 3.2254236148756736\n",
      "F1 score 0.4666666666666667\n"
     ]
    }
   ],
   "source": [
    "n, p = design.shape\n",
    "noselection = False  # flag for a certain method having an empty selected set\n",
    "\n",
    "if not noselection:\n",
    "    # MLE inference\n",
    "    coverage, length, beta_target, nonzero, conf_low, conf_up = \\\n",
    "        randomization_inference(X=design, Y=Y, n=n, p=p, randomizer_scale=1., ridge_term=1.,\n",
    "                                     beta=beta, groups=groups, weight_frac=1.)\n",
    "    # print(MLE_runtime)\n",
    "    noselection = (coverage is None)\n",
    "\n",
    "if not noselection:\n",
    "    # data splitting\n",
    "    coverage_ds, lengths_ds, conf_low_ds, conf_up_ds, nonzero_ds, beta_target_ds = \\\n",
    "        data_splitting(X=design, Y=Y, n=n, p=p, beta=beta, groups=groups,\n",
    "                       proportion=0.67, level=0.9, weight_frac=1.)\n",
    "    noselection = (coverage_ds is None)\n",
    "\n",
    "if not noselection:\n",
    "    # naive inference\n",
    "    coverage_naive, lengths_naive, nonzero_naive, conf_low_naive, conf_up_naive, \\\n",
    "    beta_target_naive = \\\n",
    "        naive_inference(X=design, Y=Y, groups=groups,\n",
    "                        beta=beta, const=const,\n",
    "                        n=n, level=0.9, weight_frac=1.)\n",
    "    noselection = (coverage_naive is None)\n",
    "\n",
    "\n",
    "if not noselection:\n",
    "    # F1 scores\n",
    "    # F1_s = calculate_F1_score(beta, selection=nonzero_s)\n",
    "    F1 = calculate_F1_score(beta, selection=nonzero)\n",
    "    F1_ds = calculate_F1_score(beta, selection=nonzero_ds)\n",
    "    F1_naive = calculate_F1_score(beta, selection=nonzero_naive)\n",
    "\n",
    "# MLE coverage\n",
    "print(\"MLE\")\n",
    "print(\"coverage rate:\", np.mean(coverage))\n",
    "print(\"avg length\", np.mean(length))\n",
    "print(\"F1 score\", np.mean(F1))\n",
    "\n",
    "# Data splitting coverage\n",
    "print(\"Data splitting\")\n",
    "print(\"coverage rate:\", np.mean(coverage_ds))\n",
    "print(\"avg length\", np.mean(lengths_ds))\n",
    "print(\"F1 score\", np.mean(F1_ds))\n",
    "\n",
    "# Naive coverage\n",
    "print(\"Naive inference\")\n",
    "print(\"coverage rate:\", np.mean(coverage_naive))\n",
    "print(\"avg length\", np.mean(lengths_naive))\n",
    "print(\"F1 score\", np.mean(F1_naive))"
   ],
   "metadata": {
    "collapsed": false,
    "ExecuteTime": {
     "end_time": "2023-11-20T21:04:41.613297Z",
     "start_time": "2023-11-20T21:04:40.987934Z"
    }
   },
   "id": "af112391737b0b1f"
  },
  {
   "cell_type": "code",
   "execution_count": 84,
   "outputs": [
    {
     "name": "stdout",
     "output_type": "stream",
     "text": [
      "0\n",
      "Equally spaced quantile knots used.\n",
      "1.001062964462901\n",
      "MLE |E|: 72\n",
      "Naive selection [0, 1, 3, 7, 8, 9, 31, 55, 65]\n",
      "Naive |E|: 39\n",
      "1\n",
      "Equally spaced quantile knots used.\n",
      "1.001062964462901\n",
      "MLE |E|: 55\n",
      "Naive selection [0, 4, 5, 7, 8, 9, 87]\n",
      "Naive |E|: 37\n",
      "2\n",
      "Equally spaced quantile knots used.\n",
      "1.001062964462901\n",
      "MLE |E|: 58\n",
      "Naive selection [0, 1, 3, 5, 7, 9, 37, 67, 77]\n",
      "Naive |E|: 39\n",
      "3\n",
      "Equally spaced quantile knots used.\n",
      "1.001062964462901\n",
      "MLE |E|: 59\n",
      "Naive selection [0, 3, 4, 5, 7, 8, 34]\n",
      "Naive |E|: 37\n",
      "4\n",
      "Equally spaced quantile knots used.\n",
      "1.001062964462901\n",
      "MLE |E|: 61\n",
      "Naive selection [0, 3, 5, 7, 8, 9, 70, 93]\n",
      "Naive |E|: 38\n",
      "5\n",
      "Equally spaced quantile knots used.\n",
      "1.001062964462901\n",
      "MLE |E|: 65\n",
      "Naive selection [2, 3, 4, 5, 8, 84]\n",
      "Naive |E|: 31\n",
      "6\n",
      "Equally spaced quantile knots used.\n",
      "1.001062964462901\n",
      "MLE |E|: 62\n",
      "Naive selection [0, 1, 23, 27, 47, 54]\n",
      "Naive |E|: 16\n",
      "7\n",
      "Equally spaced quantile knots used.\n",
      "1.001062964462901\n",
      "MLE |E|: 53\n",
      "Naive selection [1, 3, 4, 8, 9, 24]\n",
      "Naive |E|: 31\n",
      "8\n",
      "Equally spaced quantile knots used.\n",
      "1.001062964462901\n",
      "MLE |E|: 69\n",
      "Naive selection [0, 2, 3, 5, 9, 31, 41, 49, 61]\n",
      "Naive |E|: 34\n",
      "9\n",
      "Equally spaced quantile knots used.\n",
      "1.001062964462901\n",
      "MLE |E|: 58\n",
      "Naive selection [0, 1, 3, 5, 6, 50]\n",
      "Naive |E|: 31\n",
      "0\n",
      "Equally spaced quantile knots used.\n",
      "0.9941471141243939\n",
      "MLE |E|: 38\n",
      "Naive selection [0, 5, 7, 9, 72, 89]\n",
      "Naive |E|: 22\n",
      "1\n",
      "Equally spaced quantile knots used.\n",
      "0.9941471141243939\n",
      "MLE |E|: 30\n",
      "Naive selection [3, 6, 38, 96]\n",
      "Naive |E|: 12\n",
      "2\n",
      "Equally spaced quantile knots used.\n",
      "0.9941471141243939\n",
      "MLE |E|: 45\n",
      "Naive selection [1, 6, 8, 16, 24, 37, 81, 91]\n",
      "Naive |E|: 20\n",
      "3\n",
      "Equally spaced quantile knots used.\n",
      "0.9941471141243939\n",
      "MLE |E|: 60\n",
      "Naive selection [0, 3, 4, 8, 20, 58, 63, 86]\n",
      "Naive |E|: 24\n",
      "4\n",
      "Equally spaced quantile knots used.\n",
      "0.9941471141243939\n",
      "MLE |E|: 44\n",
      "Naive selection [0, 1, 3, 4, 7, 8, 10, 32]\n",
      "Naive |E|: 32\n",
      "5\n",
      "Equally spaced quantile knots used.\n",
      "0.9941471141243939\n",
      "MLE |E|: 51\n",
      "Naive selection [3, 4, 6, 9, 24, 41, 67, 75]\n",
      "Naive |E|: 24\n",
      "6\n",
      "Equally spaced quantile knots used.\n",
      "0.9941471141243939\n",
      "MLE |E|: 42\n",
      "Naive selection [2, 3, 4, 6, 7, 19, 44]\n",
      "Naive |E|: 27\n",
      "7\n",
      "Equally spaced quantile knots used.\n",
      "0.9941471141243939\n",
      "MLE |E|: 48\n",
      "Naive selection [2, 4, 5, 6, 7, 8, 78]\n",
      "Naive |E|: 31\n",
      "8\n",
      "Equally spaced quantile knots used.\n",
      "0.9941471141243939\n",
      "MLE |E|: 29\n",
      "Naive selection [1, 2, 4, 6, 8, 9, 71]\n",
      "Naive |E|: 31\n",
      "9\n",
      "Equally spaced quantile knots used.\n",
      "0.9941471141243939\n",
      "MLE |E|: 44\n",
      "Naive selection [5, 6, 9, 21, 60]\n",
      "Naive |E|: 17\n",
      "0\n",
      "Equally spaced quantile knots used.\n",
      "0.9866645276339453\n",
      "MLE |E|: 33\n",
      "Naive selection [0, 1, 2, 5, 7, 8, 14, 25, 45, 55]\n",
      "Naive |E|: 28\n",
      "1\n",
      "Equally spaced quantile knots used.\n",
      "0.9866645276339453\n",
      "MLE |E|: 35\n",
      "Naive selection [1, 3, 8, 12, 47, 89]\n",
      "Naive |E|: 15\n",
      "2\n",
      "Equally spaced quantile knots used.\n",
      "0.9866645276339453\n",
      "MLE |E|: 31\n",
      "Naive selection [1, 3, 5, 7, 8, 71]\n",
      "Naive |E|: 21\n",
      "3\n",
      "Equally spaced quantile knots used.\n",
      "0.9866645276339453\n",
      "MLE |E|: 31\n",
      "Naive selection [1, 9, 52]\n",
      "Naive |E|: 9\n",
      "4\n",
      "Equally spaced quantile knots used.\n",
      "0.9866645276339453\n",
      "MLE |E|: 24\n",
      "Naive selection [0, 1, 2, 6, 23, 43, 45]\n",
      "Naive |E|: 19\n",
      "5\n",
      "Equally spaced quantile knots used.\n",
      "0.9866645276339453\n",
      "MLE |E|: 45\n",
      "Naive selection [2, 4, 5, 45, 56, 58, 73, 81]\n",
      "Naive |E|: 17\n",
      "6\n",
      "Equally spaced quantile knots used.\n",
      "0.9866645276339453\n",
      "MLE |E|: 40\n",
      "Naive selection [4, 9, 12, 41, 84, 98]\n",
      "Naive |E|: 12\n",
      "7\n",
      "Equally spaced quantile knots used.\n",
      "0.9866645276339453\n",
      "MLE |E|: 35\n",
      "Naive selection [3, 4, 15, 46]\n",
      "Naive |E|: 10\n",
      "8\n",
      "Equally spaced quantile knots used.\n",
      "0.9866645276339453\n",
      "MLE |E|: 26\n",
      "Naive selection [5, 8, 16, 61, 77, 99]\n",
      "Naive |E|: 12\n",
      "9\n",
      "Equally spaced quantile knots used.\n",
      "0.9866645276339453\n",
      "MLE |E|: 29\n",
      "Naive selection [1, 2, 4, 5, 6, 51, 59, 68, 90]\n",
      "Naive |E|: 24\n"
     ]
    }
   ],
   "source": [
    "del range\n",
    "range=range(0,10)\n",
    "oper_char = {}\n",
    "oper_char[\"complexity\"] = []\n",
    "oper_char[\"coverage rate\"] = []\n",
    "oper_char[\"avg length\"] = []\n",
    "oper_char[\"method\"] = []\n",
    "oper_char[\"F1 score\"] = []\n",
    "\n",
    "for complexity in [(8,1), (8,2), (8,3)]:  # [0.01, 0.03, 0.06, 0.1]:\n",
    "    nknots = complexity[0]\n",
    "    degree = complexity[1]\n",
    "    for i in range:\n",
    "        print(i)\n",
    "        #np.random.seed(i)\n",
    "        const = group_lasso.gaussian\n",
    "\n",
    "        while True:  # run until we get some selection\n",
    "            design, Y, beta, groups = \\\n",
    "                generate_gaussian_instance_from_bspline(n=2000, p_nl=10, p_l=90,\n",
    "                                                     s_nl = 3, s_l = 0,\n",
    "                                                     nknots = nknots, degree = degree, signal_fac=0.1,\n",
    "                                                     center=False, scale=True, random_signs=True,\n",
    "                                                     intercept=False)\n",
    "            # print(X)\n",
    "\n",
    "            n, p = design.shape\n",
    "            noselection = False  # flag for a certain method having an empty selected set\n",
    "\n",
    "            if not noselection:\n",
    "                # MLE inference\n",
    "                coverage, length, beta_target, nonzero, conf_low, conf_up = \\\n",
    "                    randomization_inference(X=design, Y=Y, n=n, p=p, randomizer_scale=1., ridge_term=0.,\n",
    "                                                 beta=beta, groups=groups, weight_frac=0.75)\n",
    "                # print(MLE_runtime)\n",
    "                noselection = (coverage is None)\n",
    "\n",
    "            if not noselection:\n",
    "                # data splitting\n",
    "                coverage_ds, lengths_ds, conf_low_ds, conf_up_ds, nonzero_ds, beta_target_ds = \\\n",
    "                    data_splitting(X=design, Y=Y, n=n, p=p, beta=beta, groups=groups,\n",
    "                                   proportion=0.5, level=0.9, weight_frac=0.75)\n",
    "                noselection = (coverage_ds is None)\n",
    "\n",
    "            if not noselection:\n",
    "                # naive inference\n",
    "                coverage_naive, lengths_naive, nonzero_naive, conf_low_naive, conf_up_naive, \\\n",
    "                beta_target_naive = \\\n",
    "                    naive_inference(X=design, Y=Y, groups=groups,\n",
    "                                    beta=beta, const=const,\n",
    "                                    n=n, level=0.9, weight_frac=0.75)\n",
    "                noselection = (coverage_naive is None)\n",
    "\n",
    "            if not noselection:\n",
    "                # F1 scores\n",
    "                # F1_s = calculate_F1_score(beta, selection=nonzero_s)\n",
    "                F1 = calculate_F1_score(beta, selection=nonzero)\n",
    "                F1_ds = calculate_F1_score(beta, selection=nonzero_ds)\n",
    "                F1_naive = calculate_F1_score(beta, selection=nonzero_naive)\n",
    "\n",
    "                # MLE coverage\n",
    "                #oper_char[\"sparsity size\"].append(s_group)\n",
    "                oper_char[\"complexity\"].append(\"(\" + str(nknots) + \",\" +\n",
    "                                               str(degree) + \")\")\n",
    "                oper_char[\"coverage rate\"].append(np.mean(coverage))\n",
    "                oper_char[\"avg length\"].append(np.mean(length))\n",
    "                oper_char[\"F1 score\"].append(F1)\n",
    "                oper_char[\"method\"].append('MLE')\n",
    "\n",
    "                # Data splitting coverage\n",
    "                #oper_char[\"sparsity size\"].append(s_group)\n",
    "                oper_char[\"complexity\"].append(\"(\" + str(nknots) + \",\" +\n",
    "                                               str(degree) + \")\")\n",
    "                oper_char[\"coverage rate\"].append(np.mean(coverage_ds))\n",
    "                oper_char[\"avg length\"].append(np.mean(lengths_ds))\n",
    "                oper_char[\"F1 score\"].append(F1_ds)\n",
    "                oper_char[\"method\"].append('Data splitting')\n",
    "\n",
    "                # Naive coverage\n",
    "                #oper_char[\"sparsity size\"].append(s_group)\n",
    "                oper_char[\"complexity\"].append(\"(\" + str(nknots) + \",\" +\n",
    "                                               str(degree) + \")\")\n",
    "                oper_char[\"coverage rate\"].append(np.mean(coverage_naive))\n",
    "                oper_char[\"avg length\"].append(np.mean(lengths_naive))\n",
    "                oper_char[\"F1 score\"].append(F1_naive)\n",
    "                oper_char[\"method\"].append('Naive')\n",
    "\n",
    "                break  # Go to next iteration if we have some selection\n",
    "\n",
    "oper_char_df = pd.DataFrame.from_dict(oper_char)\n",
    "oper_char_df.to_csv('bspline_vary_complexity' + str(range.start) + '_' + str(range.stop) + '.csv', index=False)"
   ],
   "metadata": {
    "collapsed": false,
    "ExecuteTime": {
     "end_time": "2023-11-20T21:53:29.703227Z",
     "start_time": "2023-11-20T21:52:46.438594Z"
    }
   },
   "id": "44e65cbc4d1f1ace"
  },
  {
   "cell_type": "code",
   "execution_count": 82,
   "outputs": [],
   "source": [
    "def plotting(path='bspline_vary_complexity.csv'):\n",
    "    oper_char_df = pd.read_csv(path)\n",
    "    # sns.histplot(oper_char_df[\"sparsity size\"])\n",
    "    # plt.show()\n",
    "\n",
    "    fig, (ax1, ax2, ax3) = plt.subplots(nrows=1, ncols=3, figsize=(12, 5))\n",
    "\n",
    "    print(\"Mean coverage rate/length:\")\n",
    "    print(oper_char_df.groupby(['complexity', 'method']).mean())\n",
    "\n",
    "    cov_plot = sns.boxplot(y=oper_char_df[\"coverage rate\"],\n",
    "                           x=oper_char_df[\"complexity\"],\n",
    "                           hue=oper_char_df[\"method\"],\n",
    "                           palette=\"pastel\",\n",
    "                           orient=\"v\", ax=ax1,\n",
    "                           linewidth=1)\n",
    "    cov_plot.set(title='Coverage')\n",
    "    cov_plot.set_ylim(0.6, 1.05)\n",
    "    # plt.tight_layout()\n",
    "    cov_plot.axhline(y=0.9, color='k', linestyle='--', linewidth=1)\n",
    "    # ax1.set_ylabel(\"\")  # remove y label, but keep ticks\n",
    "\n",
    "    len_plot = sns.boxplot(y=oper_char_df[\"avg length\"],\n",
    "                           x=oper_char_df[\"complexity\"],\n",
    "                           hue=oper_char_df[\"method\"],\n",
    "                           palette=\"pastel\",\n",
    "                           orient=\"v\", ax=ax2,\n",
    "                           linewidth=1)\n",
    "    len_plot.set(title='Length')\n",
    "    # len_plot.set_ylim(0, 100)\n",
    "    # len_plot.set_ylim(0, 8)\n",
    "    # plt.tight_layout()\n",
    "    # ax2.set_ylabel(\"\")  # remove y label, but keep ticks\n",
    "\n",
    "    handles, labels = ax2.get_legend_handles_labels()\n",
    "    # fig.tight_layout(pad=0.4, w_pad=0.5, h_pad=1.2)\n",
    "    fig.subplots_adjust(bottom=0.2)\n",
    "    fig.legend(handles, labels, loc='lower center', ncol=4)\n",
    "\n",
    "    F1_plot = sns.boxplot(y=oper_char_df[\"F1 score\"],\n",
    "                          x=oper_char_df[\"complexity\"],\n",
    "                          hue=oper_char_df[\"method\"],\n",
    "                          palette=\"pastel\",\n",
    "                          orient=\"v\", ax=ax3,\n",
    "                          linewidth=1)\n",
    "    F1_plot.set(title='F1 score')\n",
    "\n",
    "    cov_plot.legend_.remove()\n",
    "    len_plot.legend_.remove()\n",
    "    F1_plot.legend_.remove()\n",
    "\n",
    "    plt.show()"
   ],
   "metadata": {
    "collapsed": false,
    "ExecuteTime": {
     "end_time": "2023-11-20T21:49:13.310253Z",
     "start_time": "2023-11-20T21:49:13.299508Z"
    }
   },
   "id": "b56d134455124148"
  },
  {
   "cell_type": "code",
   "execution_count": 83,
   "outputs": [
    {
     "name": "stdout",
     "output_type": "stream",
     "text": [
      "Mean coverage rate/length:\n",
      "                           coverage rate  avg length  F1 score\n",
      "complexity method                                             \n",
      "(8,1)      Data splitting       0.892710   18.211152  0.433095\n",
      "           MLE                  0.826374   10.050031  0.400262\n",
      "           Naive                0.801421    6.906171  0.415296\n",
      "(8,2)      Data splitting       0.916674   19.418066  0.484423\n",
      "           MLE                  0.852366   10.635692  0.424183\n",
      "           Naive                0.782506    8.098356  0.582237\n",
      "(8,3)      Data splitting       0.885506    6.782577  0.417431\n",
      "           MLE                  0.826964    5.001409  0.323978\n",
      "           Naive                0.653175    3.519964  0.449998\n"
     ]
    },
    {
     "data": {
      "text/plain": "<Figure size 1200x500 with 3 Axes>",
      "image/png": "[encoded data removed]"
     },
     "metadata": {},
     "output_type": "display_data"
    }
   ],
   "source": [
    "plotting('bspline_vary_complexity0_10.csv')"
   ],
   "metadata": {
    "collapsed": false,
    "ExecuteTime": {
     "end_time": "2023-11-20T21:49:14.322904Z",
     "start_time": "2023-11-20T21:49:13.869803Z"
    }
   },
   "id": "e05563a8cd925425"
  },
  {
   "cell_type": "code",
   "execution_count": null,
   "outputs": [],
   "source": [
    "def randomization_inference_spline(design, Y, n, p, Y_mean, groups,\n",
    "                                   randomizer_scale=1.,\n",
    "                                   weight_frac=1.25, level=0.9, ridge_term=1.):\n",
    "    sigma_ = np.std(Y)\n",
    "    if n > p:\n",
    "        dispersion = np.linalg.norm(Y - design.dot(np.linalg.pinv(design).dot(Y))) ** 2 / (n - p)\n",
    "    else:\n",
    "        dispersion = sigma_ ** 2\n",
    "\n",
    "    sigma_ = np.sqrt(dispersion)\n",
    "\n",
    "    #weights = dict([(i, 0.5) for i in np.unique(groups)])\n",
    "    weights = dict([(i, weight_frac * sigma_ * np.sqrt(2 * np.log(p))) for i in np.unique(groups)])\n",
    "\n",
    "    conv = group_lasso.gaussian(X=design,\n",
    "                                Y=Y,\n",
    "                                groups=groups,\n",
    "                                weights=weights,\n",
    "                                useJacobian=True,\n",
    "                                ridge_term=ridge_term)\n",
    "\n",
    "    signs, _ = conv.fit()\n",
    "    nonzero = (signs != 0)\n",
    "\n",
    "    # print(\"MLE selection:\", conv._ordered_groups)\n",
    "\n",
    "    def solve_target_restricted():\n",
    "        X_E = design[:,nonzero]\n",
    "        _beta_unpenalized = np.linalg.inv(X_E.T @ X_E) @ X_E.T @ Y_mean\n",
    "        \"\"\"loglike = rr.glm.gaussian(design, Y_mean)\n",
    "        # For LASSO, this is the OLS solution on X_{E,U}\n",
    "        _beta_unpenalized = restricted_estimator(loglike,\n",
    "                                                 nonzero)\"\"\"\n",
    "        return _beta_unpenalized\n",
    "\n",
    "    if nonzero.sum() > 0:\n",
    "        print(\"MLE |E|:\", nonzero.sum())\n",
    "\n",
    "        conv.setup_inference(dispersion=dispersion)\n",
    "\n",
    "        target_spec = selected_targets(conv.loglike,\n",
    "                                       conv.observed_soln,\n",
    "                                       dispersion=dispersion)\n",
    "\n",
    "        result,_ = conv.inference(target_spec,\n",
    "                                method='selective_MLE',\n",
    "                                level=level)\n",
    "\n",
    "        pval = result['pvalue']\n",
    "        intervals = np.asarray(result[['lower_confidence',\n",
    "                                       'upper_confidence']])\n",
    "\n",
    "        beta_target = solve_target_restricted()\n",
    "\n",
    "        coverage = (beta_target > intervals[:, 0]) * (beta_target < intervals[:, 1])\n",
    "        \n",
    "        \n",
    "        np.set_printoptions(precision=3, suppress=True)\n",
    "        print(beta_target)\n",
    "        print(intervals)\n",
    "\n",
    "        return coverage, (intervals[:, 1] - intervals[:, 0]), beta_target, \\\n",
    "               nonzero, intervals[:, 0], intervals[:, 1], target_spec.cov_target\n",
    "    return None, None, None, None, None, None"
   ],
   "metadata": {
    "collapsed": false
   },
   "id": "aaf4d1104d444913"
  },
  {
   "cell_type": "code",
   "execution_count": null,
   "outputs": [],
   "source": [
    "n, p = design.shape\n",
    "noselection = False  # flag for a certain method having an empty selected set\n",
    "\n",
    "if not noselection:\n",
    "    # MLE inference\n",
    "    coverage, length, beta_target, nonzero, conf_low, conf_up, cov_target = \\\n",
    "        randomization_inference_spline(design=design, Y=Y, n=n, p=p, Y_mean=Y_mean,\n",
    "                                       groups=groups,\n",
    "                                       weight_frac=1.25, level=0.9, ridge_term=0.)\n",
    "    # print(MLE_runtime)\n",
    "    noselection = (coverage is None)"
   ],
   "metadata": {
    "collapsed": false
   },
   "id": "576b6484f70b68bd"
  },
  {
   "cell_type": "code",
   "execution_count": null,
   "outputs": [],
   "source": [
    "np.mean(coverage)"
   ],
   "metadata": {
    "collapsed": false
   },
   "id": "6a17688ff1b489e"
  },
  {
   "cell_type": "code",
   "execution_count": null,
   "outputs": [],
   "source": [
    "design[:,nonzero] @ beta_target"
   ],
   "metadata": {
    "collapsed": false
   },
   "id": "29505de6d477d2a8"
  },
  {
   "cell_type": "code",
   "execution_count": null,
   "outputs": [],
   "source": [
    "Y_mean"
   ],
   "metadata": {
    "collapsed": false
   },
   "id": "5ed98b2a38c7a3bd"
  },
  {
   "cell_type": "code",
   "execution_count": null,
   "outputs": [],
   "source": [
    "Y"
   ],
   "metadata": {
    "collapsed": false
   },
   "id": "2dd09bdc1b3b68f1"
  },
  {
   "cell_type": "code",
   "execution_count": null,
   "outputs": [],
   "source": [],
   "metadata": {
    "collapsed": false
   },
   "id": "c0c396fae56c9a64"
  }
 ],
 "metadata": {
  "kernelspec": {
   "display_name": "Python 3",
   "language": "python",
   "name": "python3"
  },
  "language_info": {
   "codemirror_mode": {
    "name": "ipython",
    "version": 2
   },
   "file_extension": ".py",
   "mimetype": "text/x-python",
   "name": "python",
   "nbconvert_exporter": "python",
   "pygments_lexer": "ipython2",
   "version": "2.7.6"
  }
 },
 "nbformat": 4,
 "nbformat_minor": 5
}
