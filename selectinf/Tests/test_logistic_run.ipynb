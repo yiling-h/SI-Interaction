{
 "cells": [
  {
   "cell_type": "code",
   "execution_count": 1,
   "metadata": {
    "collapsed": true
   },
   "outputs": [
    {
     "name": "stderr",
     "output_type": "stream",
     "text": [
      "/Users/yilingh/Desktop/PhD/SI_Codes/SI-Interaction/env3/lib/python3.9/site-packages/regreg/atoms/slope.py:16: UserWarning: unable to import isotonic regression from sklearn, using a pure python implementation\n",
      "  warn('unable to import isotonic regression from sklearn, using a pure python implementation')\n"
     ]
    }
   ],
   "source": [
    "import numpy as np\n",
    "import pandas as pd\n",
    "\n",
    "import regreg.api as rr\n",
    "\n",
    "from selectinf.group_lasso_query import (group_lasso)\n",
    "\n",
    "from selectinf.base import selected_targets\n",
    "\n",
    "from selectinf.base import restricted_estimator"
   ]
  },
  {
   "cell_type": "code",
   "execution_count": 2,
   "outputs": [],
   "source": [
    "X = np.asarray(pd.read_csv(\"X.csv\", header=None, index_col=0))\n",
    "Y = np.asarray(pd.read_csv(\"Y.csv\", header=None, index_col=0))\n",
    "groups = np.arange(50).repeat(4)\n",
    "n,p = X.shape\n",
    "Y = np.reshape(Y, (n,))"
   ],
   "metadata": {
    "collapsed": false
   }
  },
  {
   "cell_type": "code",
   "execution_count": 3,
   "outputs": [
    {
     "data": {
      "text/plain": "array([[ 0.        ,  0.10867511,  0.        , ..., -0.03976352,\n        -0.03814476,  0.01531214],\n       [ 0.11057861,  0.        ,  0.        , ..., -0.0465319 ,\n        -0.04394881, -0.04586215],\n       [ 0.        ,  0.        ,  0.        , ..., -0.03304711,\n        -0.02231436, -0.03610369],\n       ...,\n       [ 0.        ,  0.        ,  0.11222645, ..., -0.01858433,\n        -0.02500537, -0.00875401],\n       [ 0.        ,  0.        ,  0.11222645, ..., -0.08024148,\n         0.04924986,  0.01084571],\n       [ 0.        ,  0.        ,  0.        , ...,  0.06904143,\n         0.04903993, -0.03705397]])"
     },
     "execution_count": 3,
     "metadata": {},
     "output_type": "execute_result"
    }
   ],
   "source": [
    "X"
   ],
   "metadata": {
    "collapsed": false
   }
  },
  {
   "cell_type": "code",
   "execution_count": 4,
   "outputs": [
    {
     "data": {
      "text/plain": "array([0, 1, 1, 1, 1, 0, 0, 1, 0, 0, 1, 1, 1, 1, 0, 0, 0, 0, 1, 1, 1, 1,\n       0, 1, 0, 1, 1, 0, 0, 1, 0, 0, 0, 0, 0, 1, 0, 1, 0, 1, 0, 0, 1, 1,\n       1, 1, 0, 0, 1, 0, 0, 1, 1, 0, 1, 0, 1, 0, 0, 1, 1, 1, 0, 0, 0, 1,\n       1, 0, 1, 0, 0, 1, 0, 1, 1, 1, 0, 1, 0, 0, 0, 1, 1, 0, 1, 1, 0, 1,\n       1, 0, 1, 1, 0, 1, 1, 0, 0, 1, 1, 1, 1, 1, 1, 1, 1, 0, 0, 0, 1, 0,\n       0, 0, 0, 1, 1, 1, 0, 0, 1, 1, 1, 1, 0, 1, 0, 1, 0, 0, 1, 1, 0, 0,\n       0, 1, 1, 0, 0, 1, 1, 0, 1, 0, 1, 1, 0, 0, 0, 1, 0, 0, 1, 1, 1, 1,\n       0, 0, 0, 0, 0, 1, 0, 0, 1, 0, 1, 1, 1, 1, 0, 1, 0, 1, 0, 1, 0, 0,\n       0, 1, 0, 0, 0, 1, 1, 0, 0, 1, 0, 0, 0, 1, 1, 0, 0, 0, 1, 1, 0, 1,\n       0, 0, 1, 0, 1, 0, 0, 0, 0, 1, 1, 1, 0, 0, 0, 0, 1, 1, 0, 1, 0, 1,\n       1, 0, 1, 0, 0, 1, 0, 0, 0, 0, 1, 0, 0, 0, 0, 1, 1, 1, 1, 0, 0, 1,\n       1, 1, 0, 1, 1, 0, 1, 0, 0, 1, 1, 1, 1, 0, 0, 0, 0, 0, 1, 1, 0, 0,\n       0, 1, 0, 1, 1, 0, 0, 0, 1, 1, 0, 0, 0, 1, 1, 0, 1, 1, 0, 0, 1, 1,\n       1, 0, 1, 1, 1, 1, 0, 1, 1, 0, 1, 1, 0, 0, 1, 0, 0, 1, 1, 1, 0, 1,\n       1, 0, 1, 0, 1, 0, 1, 0, 0, 0, 1, 1, 0, 0, 0, 0, 1, 0, 1, 0, 1, 1,\n       1, 1, 0, 1, 0, 1, 1, 1, 0, 0, 1, 1, 0, 0, 0, 0, 1, 0, 1, 0, 0, 1,\n       0, 1, 1, 0, 1, 0, 1, 1, 0, 0, 1, 0, 0, 1, 1, 1, 1, 0, 0, 1, 1, 1,\n       1, 0, 0, 1, 0, 0, 0, 0, 1, 0, 0, 1, 0, 1, 1, 1, 0, 1, 0, 0, 0, 1,\n       1, 1, 0, 1, 0, 1, 0, 0, 0, 0, 1, 0, 1, 1, 0, 0, 1, 1, 1, 1, 0, 1,\n       1, 0, 1, 1, 1, 0, 1, 1, 0, 0, 1, 1, 1, 0, 1, 1, 1, 1, 1, 1, 1, 0,\n       1, 1, 0, 0, 1, 0, 1, 0, 0, 1, 0, 1, 0, 1, 0, 1, 0, 0, 0, 0, 1, 1,\n       0, 0, 0, 1, 0, 0, 1, 1, 1, 1, 0, 0, 1, 1, 1, 1, 0, 0, 1, 1, 1, 0,\n       0, 1, 1, 0, 1, 1, 1, 0, 0, 0, 0, 0, 0, 0, 0, 0])"
     },
     "execution_count": 4,
     "metadata": {},
     "output_type": "execute_result"
    }
   ],
   "source": [
    "Y"
   ],
   "metadata": {
    "collapsed": false
   }
  },
  {
   "cell_type": "code",
   "execution_count": 5,
   "outputs": [
    {
     "data": {
      "text/plain": "(500,)"
     },
     "execution_count": 5,
     "metadata": {},
     "output_type": "execute_result"
    }
   ],
   "source": [
    "Y.shape"
   ],
   "metadata": {
    "collapsed": false
   }
  },
  {
   "cell_type": "code",
   "execution_count": 6,
   "outputs": [],
   "source": [
    "def estimate_hess():\n",
    "    loglike = rr.glm.logistic(X, successes=Y, trials=np.ones(n))\n",
    "    # For LASSO, this is the OLS solution on X_{E,U}\n",
    "    beta_full = restricted_estimator(loglike, np.array([True] * p))\n",
    "    def pi_hess(x):\n",
    "        return np.exp(x) / (1 + np.exp(x)) ** 2\n",
    "\n",
    "    # Calculation the asymptotic covariance of the MLE\n",
    "    W = np.diag(pi_hess(X @ beta_full))\n",
    "\n",
    "    return X.T @ W @ X\n",
    "\n",
    "hess = estimate_hess()\n",
    "weight_frac = 1.\n",
    "\n",
    "sigma_ = np.std(Y)\n",
    "#weights = dict([(i, 0.5) for i in np.unique(groups)])\n",
    "weights = dict([(i, weight_frac * sigma_ * np.sqrt(2 * np.log(p))) for i in np.unique(groups)])\n",
    "\n",
    "# To generalize to other link functions,\n",
    "# change group_lasso.logistic() to, e.g., group_lasso.poisson(),\n",
    "# and pass in arguments as defined in group_lasso_query.py;\n",
    "conv = group_lasso.logistic(X=X,\n",
    "                            successes=Y,\n",
    "                            trials=np.ones(n),\n",
    "                            groups=groups,\n",
    "                            weights=weights,\n",
    "                            useJacobian=True,\n",
    "                            ridge_term=0.,\n",
    "                            cov_rand=hess)\n",
    "\n",
    "signs, _ = conv.fit()\n",
    "nonzero = (signs != 0)\n",
    "\n",
    "conv.setup_inference(dispersion=1)\n",
    "\n",
    "target_spec = selected_targets(conv.loglike,\n",
    "                               conv.observed_soln,\n",
    "                               dispersion=1)\n",
    "\n",
    "result,_ = conv.inference(target_spec,\n",
    "                        method='selective_MLE',\n",
    "                        level=0.9)\n",
    "\n",
    "pval = result['pvalue']\n",
    "intervals = np.asarray(result[['lower_confidence',\n",
    "                               'upper_confidence']])"
   ],
   "metadata": {
    "collapsed": false
   }
  },
  {
   "cell_type": "code",
   "execution_count": 7,
   "outputs": [
    {
     "name": "stdout",
     "output_type": "stream",
     "text": [
      "Selected Group Indices: [5, 9, 10, 12, 14, 33, 40, 42, 43, 44]\n"
     ]
    }
   ],
   "source": [
    "print(\"Selected Group Indices:\", conv._ordered_groups)"
   ],
   "metadata": {
    "collapsed": false
   }
  },
  {
   "cell_type": "code",
   "execution_count": 53,
   "outputs": [
    {
     "name": "stdout",
     "output_type": "stream",
     "text": [
      "0     0.256576\n",
      "1     0.758525\n",
      "2     0.919110\n",
      "3     0.212195\n",
      "4     0.884632\n",
      "5     0.265846\n",
      "6     0.820663\n",
      "7     0.642729\n",
      "8     0.526361\n",
      "9     0.736804\n",
      "10    0.531505\n",
      "11    0.996099\n",
      "12    0.252418\n",
      "13    0.537264\n",
      "14    0.029055\n",
      "15    0.970745\n",
      "16    0.060772\n",
      "17    0.262038\n",
      "18    0.503243\n",
      "19    0.787372\n",
      "20    0.592110\n",
      "21    0.096246\n",
      "22    0.598967\n",
      "23    0.174697\n",
      "24    0.322498\n",
      "25    0.273063\n",
      "26    0.890187\n",
      "27    0.937532\n",
      "Name: pvalue, dtype: float64\n"
     ]
    }
   ],
   "source": [
    "print(pval)"
   ],
   "metadata": {
    "collapsed": false
   }
  },
  {
   "cell_type": "code",
   "execution_count": 54,
   "outputs": [
    {
     "name": "stdout",
     "output_type": "stream",
     "text": [
      "[[ -1.99330506  10.85597146]\n",
      " [ -5.29115882   7.72357324]\n",
      " [ -7.09949922   6.27381694]\n",
      " [ -1.55229609  11.30091734]\n",
      " [ -7.16177285   6.00066002]\n",
      " [-11.38359431   2.19691534]\n",
      " [ -7.48536597   5.67203   ]\n",
      " [ -8.27855612   4.63627586]\n",
      " [ -9.23139809   4.09736979]\n",
      " [ -5.37353833   8.13336316]\n",
      " [ -4.07991806   9.08970783]\n",
      " [ -6.75722216   6.71717542]\n",
      " [-11.52481278   2.06733775]\n",
      " [ -9.6309945    4.37688381]\n",
      " [  2.20537705  15.69332249]\n",
      " [ -7.19692278   6.88299027]\n",
      " [-13.02008845  -0.85184068]\n",
      " [-11.292697     2.13598871]\n",
      " [ -9.47577663   3.99404391]\n",
      " [ -7.69575838   5.52741393]\n",
      " [ -4.09898625   8.05934224]\n",
      " [-11.93280775  -0.06665559]\n",
      " [ -4.07509544   7.90547705]\n",
      " [ -1.02677043  10.71839129]\n",
      " [ -2.42685676   9.75233936]\n",
      " [ -1.95766768   9.77690773]\n",
      " [ -5.81456324   6.880146  ]\n",
      " [ -5.54355433   6.09824787]]\n"
     ]
    }
   ],
   "source": [
    "print(intervals)"
   ],
   "metadata": {
    "collapsed": false
   }
  },
  {
   "cell_type": "code",
   "execution_count": 55,
   "outputs": [
    {
     "name": "stdout",
     "output_type": "stream",
     "text": [
      "0     4.431333\n",
      "1     1.216207\n",
      "2    -0.412841\n",
      "3     4.874311\n",
      "4    -0.580556\n",
      "5    -4.593339\n",
      "6    -0.906668\n",
      "7    -1.821140\n",
      "8    -2.567014\n",
      "9     1.379912\n",
      "10    2.504895\n",
      "11   -0.020023\n",
      "12   -4.728738\n",
      "13   -2.627055\n",
      "14    8.949350\n",
      "15   -0.156966\n",
      "16   -6.935965\n",
      "17   -4.578354\n",
      "18   -2.740866\n",
      "19   -1.084172\n",
      "20    1.980178\n",
      "21   -5.999732\n",
      "22    1.915191\n",
      "23    4.845810\n",
      "24    3.662741\n",
      "25    3.909620\n",
      "26    0.532791\n",
      "27    0.277347\n",
      "Name: MLE, dtype: float64\n"
     ]
    }
   ],
   "source": [
    "print(result['MLE'])"
   ],
   "metadata": {
    "collapsed": false
   }
  },
  {
   "cell_type": "code",
   "execution_count": null,
   "outputs": [],
   "source": [],
   "metadata": {
    "collapsed": false
   }
  }
 ],
 "metadata": {
  "kernelspec": {
   "display_name": "Python 3",
   "language": "python",
   "name": "python3"
  },
  "language_info": {
   "codemirror_mode": {
    "name": "ipython",
    "version": 2
   },
   "file_extension": ".py",
   "mimetype": "text/x-python",
   "name": "python",
   "nbconvert_exporter": "python",
   "pygments_lexer": "ipython2",
   "version": "2.7.6"
  }
 },
 "nbformat": 4,
 "nbformat_minor": 0
}
